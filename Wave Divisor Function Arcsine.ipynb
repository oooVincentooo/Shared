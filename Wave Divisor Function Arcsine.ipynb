{
 "cells": [
  {
   "cell_type": "markdown",
   "metadata": {},
   "source": [
    "# Properties Arcsine Distribution.\n",
    "\n",
    "The wave divisor function consists of a pulse outline modulated with a high frequency component. The real solution of the wave divisor function is:\n",
    "\n",
    "$$ \\Re(\\sigma_{0})=\\sum_{\\mathbb{X}=2}^{\\infty}\\cos^{N} \\left( \\frac{\\pi}{\\mathbb{X}}x \\right) \\cos \\left( \\frac{N\\pi}{\\mathbb{X}}x  \\right) $$\n",
    "\n",
    "N is determined by the pulse width settings. For $(\\mathbb{X} \\rightarrow \\infty)$ N can be approximated as:\n",
    "\n",
    "$$ N(\\mathbb{X}) =   \\frac{\\log(L)}{\\log \\left(  \\cos \\left(  \\frac {\\pi}{\\mathbb{X} } \\Delta x  \\right)      \\right)} \\approx - \\frac{2 \\mathbb{X}^2 \\log(L)}{\\pi^2 \\Delta x^2} \\space (\\mathbb{X} \\rightarrow \\infty)$$\n",
    "\n",
    "The high frequency component $HF(\\mathbb{X})$ scales linear with $\\mathbb{X}$ (see link for more information). This linear dependance will result in a arcsine distribution only if the divisors at $\\sigma(x-1)$ and $\\sigma(x+1)$ are random distributed, which is supposed true for large numbers. Note that $N(\\mathbb{X})$ also is a randomizing factor while it's rounded to it's closest even number. \n",
    "\n",
    "$$ HF(\\mathbb{X})= \\cos \\left( \\frac{N\\pi}{\\mathbb{X}} \\right) \\approx \\cos (\\alpha \\mathbb{X})$$\n",
    "\n",
    "$$ \\alpha = - \\frac{2 \\space \\log(L)}{\\pi \\space \\Delta x^{2}}=constant$$\n",
    "\n",
    "The are two simulations in this document. The first simulation is the arcsine distribution for values of $L$ and $dx$. Second there is also a case where resonation occurs here $\\alpha=k \\pi$. In the simulations N is calulated with it's original definition not it's approximation / limit value.\n",
    "\n",
    "\n",
    "\n",
    "More information: [pdf Google Drive][1], [Wolfram Alpha][2]\n",
    "\n",
    "[1]: https://drive.google.com/open?id=1Etu4vOfjsnbaysk_UR6HIA9R7EDybH-n\n",
    "[2]: https://www.wolframalpha.com/input/?i=ln%28L%29%2F%28ln%28cos%28pi*delta%2FX%29%29%29+as+X-%3Einfinity"
   ]
  },
  {
   "cell_type": "code",
   "execution_count": 1,
   "metadata": {},
   "outputs": [],
   "source": [
    "import ipywidgets as widgets\n",
    "import matplotlib.pyplot as plt1\n",
    "import matplotlib.pyplot as plt2\n",
    "\n",
    "import numpy as np\n",
    "\n",
    "from IPython.display import display"
   ]
  },
  {
   "cell_type": "code",
   "execution_count": 2,
   "metadata": {},
   "outputs": [],
   "source": [
    "%matplotlib widget"
   ]
  },
  {
   "cell_type": "markdown",
   "metadata": {},
   "source": [
    "# Simulation 1, Arcsine Distribution $L$ and $\\Delta x$.\n",
    "\n",
    "The distribution is plotted for $\\mathbb{X}=2$ till $\\mathbb{X}=200000$. The various pulsewidth settings can be selected. The arcsine distribution appears homogene. Though when zooming in (on linear scale) one can observe local resonation at some values of $\\mathbb{X}$. Though when numbers get larger the arcsine distribution dominates."
   ]
  },
  {
   "cell_type": "code",
   "execution_count": 3,
   "metadata": {},
   "outputs": [
    {
     "data": {
      "application/vnd.jupyter.widget-view+json": {
       "model_id": "42103fdccf304744b4eab5336bc4e2fb",
       "version_major": 2,
       "version_minor": 0
      },
      "text/plain": [
       "Canvas(toolbar=Toolbar(toolitems=[('Home', 'Reset original view', 'home', 'home'), ('Back', 'Back to previous …"
      ]
     },
     "metadata": {},
     "output_type": "display_data"
    },
    {
     "name": "stdout",
     "output_type": "stream",
     "text": [
      "Selected the pulse width by: L and dx.\n"
     ]
    },
    {
     "data": {
      "application/vnd.jupyter.widget-view+json": {
       "model_id": "9fb46ba8a1404dd2866b20939668b108",
       "version_major": 2,
       "version_minor": 0
      },
      "text/plain": [
       "interactive(children=(Dropdown(description='$\\\\Delta x$:', index=3, options=(0.1, 0.15, 0.2, 0.25, 0.3, 0.35, …"
      ]
     },
     "metadata": {},
     "output_type": "display_data"
    }
   ],
   "source": [
    "fig, axs = plt1.subplots(2,1,figsize=(8, 6))\n",
    "\n",
    "#Detemrine aircsine distribution fit\n",
    "arcsinx=np.linspace(-0.995,0.995,200)\n",
    "arcsine=1/(np.pi*np.sqrt((1-arcsinx**2)))\n",
    "\n",
    "def update_plot(dx, L,xscale):\n",
    "\n",
    "    axs[0].clear()\n",
    "    axs[1].clear()\n",
    "    \n",
    "    #Plot high frequency point cos(pi*N/X), N rounded to closest even\n",
    "    x = np.linspace(1,200000,200000)\n",
    "    N=2*np.round(0.5*(np.log(L)/(np.log(np.cos(np.pi*dx/x)))),0)\n",
    "    y = np.cos(np.pi*N/x)\n",
    "    axs[0].axis([1,200000, -1.75 , 1.75])\n",
    "    units4 = '$\\Delta x$={}, $L$={}'\n",
    "    \n",
    "    if xscale=='lin':\n",
    "        axs[0].plot(x, y, color='black', marker='.', markersize=0.04,linestyle='' ,label=units4.format(dx, L))\n",
    "    else:\n",
    "        axs[0].semilogx(x, y, color='black', marker='.', markersize=0.04,linestyle='' ,label=units4.format(dx, L))\n",
    "    \n",
    "    axs[0].set_title('$HF(\\mathbb{X})$: Arcsine Distribution, over $L$ and $\\Delta x$')\n",
    "    axs[0].legend(loc=1)\n",
    "    axs[0].set_xlabel('$\\mathbb{X}$')\n",
    "    axs[0].set_ylabel('$HF(\\mathbb{X})$')\n",
    "    axs[0].grid(b=True, which='major', color='#666666', linestyle='-')\n",
    "    \n",
    "    #Determine histogram normalized\n",
    "    bins=np.linspace(-1,1,250)\n",
    "    y1,x1=np.histogram(y,bins=bins)\n",
    "    y2=y1/(np.pi*y1[125])\n",
    "    axs[1].plot(x1[:-1], y2, color='black', marker='o', linestyle='', markersize=2)\n",
    "   \n",
    "    #Plot arcsine distribution fit.\n",
    "    axs[1].set_xlabel('$Bin$')\n",
    "    axs[1].set_ylabel('$PDF$')\n",
    "    axs[1].plot(arcsinx, arcsine, color='red', marker='', linestyle='-',label='$Arcsine Fit$')\n",
    "    axs[1].legend(loc=0)\n",
    "    axs[1].grid(b=True, which='major', color='#666666', linestyle='-')\n",
    "    \n",
    "    plt1.tight_layout()               \n",
    "    plt1.show();\n",
    "\n",
    "print('Selected the pulse width by: L and dx.')\n",
    "   \n",
    "dx = widgets.Dropdown(options=[0.10,0.15, 0.20,0.25,0.30,0.35,0.40,0.45,0.5], value=0.25, description='$\\Delta x$:') \n",
    "#dx = widgets.BoundedFloatText(value=0.5, description='$\\delta x$:') \n",
    "L = widgets.Dropdown(options=[0.10,0.15, 0.20,0.25,0.30,0.35,0.40,0.45,0.5], value=0.5, description='$L$:') \n",
    "xscale=widgets.Dropdown(options=['lin','log'],value='lin',description='$x scale$:')\n",
    "\n",
    "\n",
    "widgets.interactive(update_plot, dx=dx, L=L, xscale=xscale)"
   ]
  },
  {
   "cell_type": "markdown",
   "metadata": {},
   "source": [
    "# Simulation 2, Arcsine Resonation Distribution $L$ and $\\alpha = \\phi \\pi$.\n",
    "\n",
    "Resonation can occur in the arcsine distribution. We can determine the value $\\Delta x$ for the resonation factor $k$:\n",
    "\n",
    "$$ \\Delta x = \\sqrt{- \\frac{2 \\log(L)}{\\phi \\pi^{2}} }$$\n",
    "\n",
    "The distribution is plotted for $\\mathbb{X}=2$ till $\\mathbb{X}=300000$. Various resonation factors $k$ can be selected. Resonation only occures in the lower range of $\\mathbb{X}$. For larger values of $\\mathbb{X}$ the arcsine distribution appears to dominate.\n"
   ]
  },
  {
   "cell_type": "code",
   "execution_count": 4,
   "metadata": {},
   "outputs": [
    {
     "data": {
      "application/vnd.jupyter.widget-view+json": {
       "model_id": "1069b3c1b80c436d9c3ed6c0506fd273",
       "version_major": 2,
       "version_minor": 0
      },
      "text/plain": [
       "Canvas(toolbar=Toolbar(toolitems=[('Home', 'Reset original view', 'home', 'home'), ('Back', 'Back to previous …"
      ]
     },
     "metadata": {},
     "output_type": "display_data"
    },
    {
     "name": "stdout",
     "output_type": "stream",
     "text": [
      "Select: resonation factor k and pulsewidth L.\n",
      "Small values of k result in broad pulsewidths dx>>.\n",
      "Large values of k result in narrow pulsewidths dx<<\n",
      "\n",
      "Example of k: 0.50, 0.75, 1, 1.125, 1.33333..., 2.1111111... , etc\n"
     ]
    },
    {
     "data": {
      "application/vnd.jupyter.widget-view+json": {
       "model_id": "d8c384a5a24c453ca10f95d4e2070734",
       "version_major": 2,
       "version_minor": 0
      },
      "text/plain": [
       "interactive(children=(BoundedFloatText(value=0.66666, description='$\\\\phi$:'), Dropdown(description='$L$:', in…"
      ]
     },
     "metadata": {},
     "output_type": "display_data"
    }
   ],
   "source": [
    "fig, axs2 = plt2.subplots(2,1,figsize=(8, 6))\n",
    "\n",
    "#Detemrine aircsine distribution fit\n",
    "arcsinx2=np.linspace(-0.995,0.995,200)\n",
    "arcsine2=1/(np.pi*np.sqrt((1-arcsinx2**2)))\n",
    "\n",
    "def update_plot(k2, L2,xscale2):\n",
    "\n",
    "    axs2[0].clear()\n",
    "    axs2[1].clear()\n",
    "    \n",
    "    #Calculate dx from resonation factor k\n",
    "    dx2=np.sqrt(-2*np.log(L2)/(k2*np.pi**2))\n",
    "    \n",
    "    print('dx: ' + str(dx2))\n",
    "    \n",
    "    #Plot high frequency point cos(pi*N/X), N rounded to closest even\n",
    "    x2 = np.linspace(1,300000,300000)\n",
    "    N2=2*np.round(0.5*(np.log(L2)/(np.log(np.cos(np.pi*dx2/x2)))),0)\n",
    "    y2 = np.cos(np.pi*N2/x2)\n",
    "    axs2[0].axis([1,300000, -1.75 , 1.75])\n",
    "    units5 = '$\\Delta x$={}, $L$ = {}, $k$= {}'\n",
    "    \n",
    "    if xscale2=='lin':\n",
    "        axs2[0].plot(x2, y2, color='black', marker='.', markersize=0.04,linestyle='' ,label=units5.format(np.round(dx2,5), L2, k2))\n",
    "    else:\n",
    "        axs2[0].semilogx(x2, y2, color='black', marker='.', markersize=0.04,linestyle='' ,label=units5.format(np.round(dx2,5), L2 ,k2))\n",
    "    \n",
    "    \n",
    "    axs2[0].set_title('$HF(\\mathbb{X})$: Arcsine Distribution, over $L$ and resonation factor $k$')\n",
    "    axs2[0].legend(loc=1)\n",
    "    axs2[0].set_xlabel('$\\mathbb{X}$')\n",
    "    axs2[0].set_ylabel('$HF(\\mathbb{X})$')\n",
    "    axs2[0].grid(b=True, which='major', color='#666666', linestyle='-')\n",
    "    \n",
    "    #Determine histogram normalized\n",
    "    bins2=np.linspace(-1,1,250)\n",
    "    y3,x3=np.histogram(y2,bins=bins2)\n",
    "    y4=y3/(np.pi*y3[125])\n",
    "    axs2[1].plot(x3[:-1], y4, color='black', marker='o', linestyle='', markersize=2)\n",
    "   \n",
    "    #Plot arcsine distribution fit.\n",
    "    axs2[1].set_xlabel('$Bin$')\n",
    "    axs2[1].set_ylabel('$PDF$')\n",
    "    axs2[1].plot(arcsinx2, arcsine2, color='red', marker='', linestyle='-',label='$Arcsine Fit$')\n",
    "    axs2[1].legend(loc=0)\n",
    "    axs2[1].grid(b=True, which='major', color='#666666', linestyle='-')\n",
    "            \n",
    "    plt2.tight_layout()\n",
    "    plt2.show()\n",
    "\n",
    "print('Select: resonation factor k and pulsewidth L.')\n",
    "print('Small values of k result in broad pulsewidths dx>>.')\n",
    "print('Large values of k result in narrow pulsewidths dx<<')\n",
    "print('')\n",
    "print('Example of k: 0.50, 0.75, 1, 1.125, 1.33333..., 2.1111111... , etc')\n",
    "   \n",
    "#k = widgets.Dropdown(options=[0.40,0.50, 0.60,0.70,0.75,0.80,0.9,1.0,0.45,0.5], value=0.25, description='$\\Delta x$:') \n",
    "k2 = widgets.BoundedFloatText(value=0.66666, description='$\\phi$:') \n",
    "L2 = widgets.Dropdown(options=[0.10,0.15, 0.20,0.25,0.30,0.35,0.40,0.45,0.5], value=0.5, description='$L$:') \n",
    "xscale2=widgets.Dropdown(options=['lin','log'],value='lin',description='$x scale$:')\n",
    "\n",
    "widgets.interactive(update_plot, k2=k2, L2=L2, xscale2=xscale2)"
   ]
  },
  {
   "cell_type": "code",
   "execution_count": null,
   "metadata": {},
   "outputs": [],
   "source": []
  },
  {
   "cell_type": "code",
   "execution_count": null,
   "metadata": {},
   "outputs": [],
   "source": []
  }
 ],
 "metadata": {
  "kernelspec": {
   "display_name": "Python 3",
   "language": "python",
   "name": "python3"
  },
  "language_info": {
   "codemirror_mode": {
    "name": "ipython",
    "version": 3
   },
   "file_extension": ".py",
   "mimetype": "text/x-python",
   "name": "python",
   "nbconvert_exporter": "python",
   "pygments_lexer": "ipython3",
   "version": "3.8.3"
  },
  "widgets": {
   "application/vnd.jupyter.widget-state+json": {
    "state": {
     "03ce78bdb8c74426a0f157fb9f2cd2f6": {
      "model_module": "@jupyter-widgets/controls",
      "model_module_version": "1.5.0",
      "model_name": "DescriptionStyleModel",
      "state": {
       "description_width": ""
      }
     },
     "1069b3c1b80c436d9c3ed6c0506fd273": {
      "model_module": "jupyter-matplotlib",
      "model_module_version": "^0.7.3",
      "model_name": "MPLCanvasModel",
      "state": {
       "_cursor": "default",
       "_figure_label": "Figure 2",
       "_height": 600,
       "_image_mode": "diff",
       "_width": 800,
       "layout": "IPY_MODEL_df332de2c30f44e3ae189478a1869957",
       "toolbar": "IPY_MODEL_28ff27c30be94e2fb681fcf105212ea8",
       "toolbar_position": "left"
      }
     },
     "146a338e4ad040a382197587784ea2b1": {
      "model_module": "@jupyter-widgets/base",
      "model_module_version": "1.2.0",
      "model_name": "LayoutModel",
      "state": {}
     },
     "1848a7a9ceed4ac58098edf1bb043c9a": {
      "model_module": "@jupyter-widgets/controls",
      "model_module_version": "1.5.0",
      "model_name": "DropdownModel",
      "state": {
       "_options_labels": [
        "lin",
        "log"
       ],
       "description": "$x scale$:",
       "index": 0,
       "layout": "IPY_MODEL_615314cab7c64314b2b9a2e35f7d6557",
       "style": "IPY_MODEL_53a70e45f09946a79cce367fce5c5724"
      }
     },
     "1d78a3f5c7254c0280dacf3f75c77d27": {
      "model_module": "jupyter-matplotlib",
      "model_module_version": "^0.7.3",
      "model_name": "ToolbarModel",
      "state": {
       "layout": "IPY_MODEL_1e3f141fabdb491188db780451f9f0ea",
       "toolitems": [
        [
         "Home",
         "Reset original view",
         "home",
         "home"
        ],
        [
         "Back",
         "Back to previous view",
         "arrow-left",
         "back"
        ],
        [
         "Forward",
         "Forward to next view",
         "arrow-right",
         "forward"
        ],
        [
         "Pan",
         "Pan axes with left mouse, zoom with right",
         "arrows",
         "pan"
        ],
        [
         "Zoom",
         "Zoom to rectangle",
         "square-o",
         "zoom"
        ],
        [
         "Download",
         "Download plot",
         "floppy-o",
         "save_figure"
        ]
       ]
      }
     },
     "1e3f141fabdb491188db780451f9f0ea": {
      "model_module": "@jupyter-widgets/base",
      "model_module_version": "1.2.0",
      "model_name": "LayoutModel",
      "state": {}
     },
     "28ff27c30be94e2fb681fcf105212ea8": {
      "model_module": "jupyter-matplotlib",
      "model_module_version": "^0.7.3",
      "model_name": "ToolbarModel",
      "state": {
       "layout": "IPY_MODEL_36b430181e544144ba3f2165882593c2",
       "toolitems": [
        [
         "Home",
         "Reset original view",
         "home",
         "home"
        ],
        [
         "Back",
         "Back to previous view",
         "arrow-left",
         "back"
        ],
        [
         "Forward",
         "Forward to next view",
         "arrow-right",
         "forward"
        ],
        [
         "Pan",
         "Pan axes with left mouse, zoom with right",
         "arrows",
         "pan"
        ],
        [
         "Zoom",
         "Zoom to rectangle",
         "square-o",
         "zoom"
        ],
        [
         "Download",
         "Download plot",
         "floppy-o",
         "save_figure"
        ]
       ]
      }
     },
     "2b86fb2ab3604a858d13a7a6dee4af00": {
      "model_module": "@jupyter-widgets/controls",
      "model_module_version": "1.5.0",
      "model_name": "DescriptionStyleModel",
      "state": {
       "description_width": ""
      }
     },
     "30924461ff3f450b81db78ed959abed1": {
      "model_module": "@jupyter-widgets/controls",
      "model_module_version": "1.5.0",
      "model_name": "DescriptionStyleModel",
      "state": {
       "description_width": ""
      }
     },
     "36b430181e544144ba3f2165882593c2": {
      "model_module": "@jupyter-widgets/base",
      "model_module_version": "1.2.0",
      "model_name": "LayoutModel",
      "state": {}
     },
     "383c25a144e0408fad40d7e365669a66": {
      "model_module": "@jupyter-widgets/base",
      "model_module_version": "1.2.0",
      "model_name": "LayoutModel",
      "state": {}
     },
     "41faad878f9240ce97a4040e742ce88a": {
      "model_module": "@jupyter-widgets/controls",
      "model_module_version": "1.5.0",
      "model_name": "BoundedFloatTextModel",
      "state": {
       "description": "$\\phi$:",
       "layout": "IPY_MODEL_f3353035fbab40328fd7bd0104c31942",
       "step": null,
       "style": "IPY_MODEL_d4afff6b686c4a29b1a87071918a1a58",
       "value": 0.66666
      }
     },
     "42103fdccf304744b4eab5336bc4e2fb": {
      "model_module": "jupyter-matplotlib",
      "model_module_version": "^0.7.3",
      "model_name": "MPLCanvasModel",
      "state": {
       "_cursor": "default",
       "_figure_label": "Figure 1",
       "_height": 600,
       "_image_mode": "diff",
       "_width": 800,
       "layout": "IPY_MODEL_146a338e4ad040a382197587784ea2b1",
       "toolbar": "IPY_MODEL_1d78a3f5c7254c0280dacf3f75c77d27",
       "toolbar_position": "left"
      }
     },
     "42db0a304bc14528b3e0adc2154e5eb9": {
      "model_module": "@jupyter-widgets/output",
      "model_module_version": "1.0.0",
      "model_name": "OutputModel",
      "state": {
       "layout": "IPY_MODEL_b11ce39a5c684763be11cb869daa863f",
       "outputs": [
        {
         "name": "stdout",
         "output_type": "stream",
         "text": "dx: 0.4590137092221769\n"
        }
       ]
      }
     },
     "46b2b25849be4cad9a565fecafa8449b": {
      "model_module": "@jupyter-widgets/base",
      "model_module_version": "1.2.0",
      "model_name": "LayoutModel",
      "state": {}
     },
     "53833032b905424d83ce7d7c3b5d3f9b": {
      "model_module": "@jupyter-widgets/base",
      "model_module_version": "1.2.0",
      "model_name": "LayoutModel",
      "state": {}
     },
     "53a70e45f09946a79cce367fce5c5724": {
      "model_module": "@jupyter-widgets/controls",
      "model_module_version": "1.5.0",
      "model_name": "DescriptionStyleModel",
      "state": {
       "description_width": ""
      }
     },
     "615314cab7c64314b2b9a2e35f7d6557": {
      "model_module": "@jupyter-widgets/base",
      "model_module_version": "1.2.0",
      "model_name": "LayoutModel",
      "state": {}
     },
     "6905e446547e4c63baa2f7dfa43bc8a0": {
      "model_module": "@jupyter-widgets/base",
      "model_module_version": "1.2.0",
      "model_name": "LayoutModel",
      "state": {}
     },
     "6de2372470954a5daf0671b234b7d2b9": {
      "model_module": "@jupyter-widgets/controls",
      "model_module_version": "1.5.0",
      "model_name": "DropdownModel",
      "state": {
       "_options_labels": [
        "0.1",
        "0.15",
        "0.2",
        "0.25",
        "0.3",
        "0.35",
        "0.4",
        "0.45",
        "0.5"
       ],
       "description": "$L$:",
       "index": 8,
       "layout": "IPY_MODEL_53833032b905424d83ce7d7c3b5d3f9b",
       "style": "IPY_MODEL_30924461ff3f450b81db78ed959abed1"
      }
     },
     "93753d5389404a389de709392cd2ba31": {
      "model_module": "@jupyter-widgets/base",
      "model_module_version": "1.2.0",
      "model_name": "LayoutModel",
      "state": {}
     },
     "948eadd232974664afd8640577b0b048": {
      "model_module": "@jupyter-widgets/controls",
      "model_module_version": "1.5.0",
      "model_name": "DropdownModel",
      "state": {
       "_options_labels": [
        "0.1",
        "0.15",
        "0.2",
        "0.25",
        "0.3",
        "0.35",
        "0.4",
        "0.45",
        "0.5"
       ],
       "description": "$\\Delta x$:",
       "index": 3,
       "layout": "IPY_MODEL_383c25a144e0408fad40d7e365669a66",
       "style": "IPY_MODEL_03ce78bdb8c74426a0f157fb9f2cd2f6"
      }
     },
     "9fb46ba8a1404dd2866b20939668b108": {
      "model_module": "@jupyter-widgets/controls",
      "model_module_version": "1.5.0",
      "model_name": "VBoxModel",
      "state": {
       "_dom_classes": [
        "widget-interact"
       ],
       "children": [
        "IPY_MODEL_948eadd232974664afd8640577b0b048",
        "IPY_MODEL_e3464f38baf94f88a11227117cab02ae",
        "IPY_MODEL_aa56fd5b79ea4e3aa729082d192eed19",
        "IPY_MODEL_a4dc045adafd44eaa38ef2ec8a3df240"
       ],
       "layout": "IPY_MODEL_93753d5389404a389de709392cd2ba31"
      }
     },
     "a4dc045adafd44eaa38ef2ec8a3df240": {
      "model_module": "@jupyter-widgets/output",
      "model_module_version": "1.0.0",
      "model_name": "OutputModel",
      "state": {
       "layout": "IPY_MODEL_46b2b25849be4cad9a565fecafa8449b"
      }
     },
     "aa56fd5b79ea4e3aa729082d192eed19": {
      "model_module": "@jupyter-widgets/controls",
      "model_module_version": "1.5.0",
      "model_name": "DropdownModel",
      "state": {
       "_options_labels": [
        "lin",
        "log"
       ],
       "description": "$x scale$:",
       "index": 0,
       "layout": "IPY_MODEL_d2521f754c6445d9b80c2d7781f56738",
       "style": "IPY_MODEL_f8e91381cb4842c281ee86a0013945e2"
      }
     },
     "b11ce39a5c684763be11cb869daa863f": {
      "model_module": "@jupyter-widgets/base",
      "model_module_version": "1.2.0",
      "model_name": "LayoutModel",
      "state": {}
     },
     "d2521f754c6445d9b80c2d7781f56738": {
      "model_module": "@jupyter-widgets/base",
      "model_module_version": "1.2.0",
      "model_name": "LayoutModel",
      "state": {}
     },
     "d4afff6b686c4a29b1a87071918a1a58": {
      "model_module": "@jupyter-widgets/controls",
      "model_module_version": "1.5.0",
      "model_name": "DescriptionStyleModel",
      "state": {
       "description_width": ""
      }
     },
     "d8c384a5a24c453ca10f95d4e2070734": {
      "model_module": "@jupyter-widgets/controls",
      "model_module_version": "1.5.0",
      "model_name": "VBoxModel",
      "state": {
       "_dom_classes": [
        "widget-interact"
       ],
       "children": [
        "IPY_MODEL_41faad878f9240ce97a4040e742ce88a",
        "IPY_MODEL_6de2372470954a5daf0671b234b7d2b9",
        "IPY_MODEL_1848a7a9ceed4ac58098edf1bb043c9a",
        "IPY_MODEL_42db0a304bc14528b3e0adc2154e5eb9"
       ],
       "layout": "IPY_MODEL_6905e446547e4c63baa2f7dfa43bc8a0"
      }
     },
     "df332de2c30f44e3ae189478a1869957": {
      "model_module": "@jupyter-widgets/base",
      "model_module_version": "1.2.0",
      "model_name": "LayoutModel",
      "state": {}
     },
     "e3464f38baf94f88a11227117cab02ae": {
      "model_module": "@jupyter-widgets/controls",
      "model_module_version": "1.5.0",
      "model_name": "DropdownModel",
      "state": {
       "_options_labels": [
        "0.1",
        "0.15",
        "0.2",
        "0.25",
        "0.3",
        "0.35",
        "0.4",
        "0.45",
        "0.5"
       ],
       "description": "$L$:",
       "index": 8,
       "layout": "IPY_MODEL_f419514fdcc34bec9bb1ac43ef197b30",
       "style": "IPY_MODEL_2b86fb2ab3604a858d13a7a6dee4af00"
      }
     },
     "f3353035fbab40328fd7bd0104c31942": {
      "model_module": "@jupyter-widgets/base",
      "model_module_version": "1.2.0",
      "model_name": "LayoutModel",
      "state": {}
     },
     "f419514fdcc34bec9bb1ac43ef197b30": {
      "model_module": "@jupyter-widgets/base",
      "model_module_version": "1.2.0",
      "model_name": "LayoutModel",
      "state": {}
     },
     "f8e91381cb4842c281ee86a0013945e2": {
      "model_module": "@jupyter-widgets/controls",
      "model_module_version": "1.5.0",
      "model_name": "DescriptionStyleModel",
      "state": {
       "description_width": ""
      }
     }
    },
    "version_major": 2,
    "version_minor": 0
   }
  }
 },
 "nbformat": 4,
 "nbformat_minor": 4
}
