{
 "cells": [
  {
   "cell_type": "markdown",
   "id": "edfa5ba5",
   "metadata": {},
   "source": [
    "## Trajectory of Light Signal using Jacobi’s Elliptic Function.\n",
    "\n",
    "\n",
    "This workbook describes the: Trajectory of Light Signal using Jacobi’s Elliptic Function. The light deflection arround the sun is determined. \n",
    "\n",
    "The theory behind the method is found in paper: 'Equations of Orbits, Deflection of Light, Mercury’s Perihelion Shift, Period of Revolution and Time Delay of Signals in Schwarzchild’s Geometry. Some closed-form solutions using Weinberg’s approach. New Version (19/08/2016) Solomon M. Antoniou'. [Researchgate](https://www.researchgate.net/publication/306379858_Equations_of_Orbits_Deflection_of_Light_Mercury%27s_Perihelion_Shift_Period_of_Revolution_and_Time_Delay_of_Signals_in_Schwarzchild%27s_Geometry_Some_closed-form_solutions_using_Weinberg%27s_approach)\n",
    "\n",
    "This project was started based upon a topic on: [Wetenschapsforum](https://www.wetenschapsforum.nl/viewtopic.php?f=85&t=212427). \n",
    "\n",
    "Here follows a summary of the result found on forum Wetenschapsforum. The mean set of formulas required are found in article. Where $r_s$ is Schwarzschild radius and $r_0$ radius lightbeam from center mass and $\\varphi$ is the angle following the light signal. The radius $r$ with angle $\\varphi$ are computed with $(6)$. Finally the startcondition $\\sigma$ and $\\varphi$ range are computed:\n",
    "\n",
    "$$e_1 = \\frac{r_0 - r_s + \\sqrt{(r_0 - r_s)(r_0 + 3r_s)}}{2 r_s r_0} \\tag{1}$$\n",
    "\n",
    "$$e_2 = \\frac{1}{r_0} \\tag{2}$$\n",
    "\n",
    "$$e_3 = \\frac{r_0 - r_s - \\sqrt{(r_0 - r_s)(r_0 + 3r_s)}}{2 r_s r_0}  \\tag{3}$$\n",
    "\n",
    "$$\\tau = \\sqrt{ \\frac{ r_s (e_1 - e_3)}{ 4 }}  \\tag{4}$$\n",
    "\n",
    "$$h = \\sqrt{ \\frac{ e_2 - e_3}{ e_1 - e_3 }}  \\tag{5}$$\n",
    "\n",
    "$$\\boxed{ r = \\frac{1}{ e_3 + (e_2 - e_3) \\mathrm{sn}^2( \\tau \\varphi + \\sigma ; h^2)}}  \\tag{6}$$\n",
    "\n",
    "Start conditions for $r=r_{0}$ at $\\varphi=\\pi/2$ determine $\\sigma$ substitude $(2)$:\n",
    "\n",
    "$$r_{0} = \\frac{1}{ e_3 + (e_2 - e_3) \\mathrm{sn}^2( \\tau \\frac{\\pi}{2} + \\sigma ; h^2)}=\\frac{1}{e_2}  \\tag{7}$$\n",
    "\n",
    "After simplification:\n",
    "\n",
    "$$\\mathrm{sn}( \\tau \\frac{\\pi}{2} + \\sigma ; h^2) = 1 \\tag{8}$$\n",
    "\n",
    "Where $\\tau$ and $h^2$,  are given and the startcondition $\\sigma$ can be solved with standard form complete elliptic integral [Wiki](https://en.wikipedia.org/wiki/Jacobi_elliptic_functions#Definition_as_inverses_of_elliptic_integralshttps://en.wikipedia.org/wiki/Jacobi_elliptic_functions#Definition_as_inverses_of_elliptic_integrals). In the simulation the following integral solver was used from scipy: [special.ellipk]. Definition of complete Jacobi elliptic integral:\n",
    "\n",
    "$$K(h^2)=\\int_{0}^{\\frac{\\pi}{2}} \\frac{d t}{\\sqrt{1-h^2 \\sin^2(t)   }}   =\\tau \\frac{\\pi}{2} + \\sigma   \\tag{9}  $$   \n",
    "\n",
    "Property elliptic integrals:\n",
    "\n",
    "$$\\mathrm{sn}(K,h^2)=\\sin \\left( \\frac{\\pi}{2} \\right) \\tag{10} $$\n",
    "\n",
    "Not all solutions are valid, the root of $(6)$ van have zeros. The $x$-range is found by searching the roots of $(6)$. \n",
    "\n",
    "$$e_3 + (e_2 - e_3) \\mathrm{sn}^2( \\tau \\varphi + \\sigma ; h^2) = 0   \\tag{12}$$\n",
    "\n",
    "$$ \\mathrm{sn}( \\tau \\varphi + \\sigma ; h^2) =\\sqrt{ -\\frac{e_3}{e_2 - e_3}}   \\tag{13}$$\n",
    "\n",
    "$$\\mathrm{sn}(K,h^2)=\\sin \\left( \\phi \\right) \\tag{14} $$\n",
    "\n",
    "$$\\phi=\\arcsin \\left( \\sqrt{ -\\frac{e_3}{e_2 - e_3}} \\right)  \\tag{15}$$\n",
    "\n",
    "Where $\\tau$, $h^2$, $\\phi$ and $\\sigma$ are given and can be solved with incomplete elliptic integral [scipy: special.ellipkinc]. The maximum angle $\\varphi$ can be calulated with:\n",
    "\n",
    "$$K(\\phi,h^2)=\\int_{0}^{\\phi} \\frac{d t}{\\sqrt{1-h^2 \\sin^2(t)   }} =\\tau \\varphi + \\sigma   \\tag{16}     $$"
   ]
  },
  {
   "cell_type": "code",
   "execution_count": 25,
   "id": "7448a161",
   "metadata": {},
   "outputs": [
    {
     "data": {
      "application/vnd.jupyter.widget-view+json": {
       "model_id": "8cfc50b3c0fc47e7b57709e3bf50fa80",
       "version_major": 2,
       "version_minor": 0
      },
      "text/plain": [
       "Canvas(toolbar=Toolbar(toolitems=[('Home', 'Reset original view', 'home', 'home'), ('Back', 'Back to previous …"
      ]
     },
     "metadata": {},
     "output_type": "display_data"
    }
   ],
   "source": [
    "#Version 17.0 Schwarzschild, Jacobi Elliptic\n",
    "#https://www.wetenschapsforum.nl/viewtopic.php?f=85&t=212427\n",
    "\n",
    "#Open pyplot in separate interactive window\n",
    "#from IPython import get_ipython\n",
    "#get_ipython().run_line_magic('matplotlib', 'qt4')\n",
    "\n",
    "import numpy as np\n",
    "import matplotlib.pyplot as plt\n",
    "import matplotlib.gridspec as gridspec\n",
    "import scipy.special as sps\n",
    "from scipy import optimize\n",
    "from matplotlib.widgets import Slider, CheckButtons\n",
    "import matplotlib.ticker as ticker \n",
    "\n",
    "\n",
    "%matplotlib widget\n",
    "\n",
    "fig= plt.figure(figsize=(9, 5))  \n",
    "\n",
    "ax1 = plt.subplot2grid((3, 3), (0, 0),rowspan=2)\n",
    "ax2 = plt.subplot2grid((3, 3), (0, 1),rowspan=2)\n",
    "ax3 = plt.subplot2grid((3, 3), (0, 2),rowspan=2)\n",
    "ax4 = plt.subplot2grid((3, 3), (2, 0),colspan=3)\n",
    "ax4.axis('off')\n",
    "plt.rcParams.update({'font.size': 8})\n",
    "plt.suptitle('Schwarzschild, Jacobi Elliptic', fontsize=12)\n",
    "fig.set_tight_layout(True)\n",
    "\n",
    "# Draw slider alpha\n",
    "axcolor = 'lightgoldenrodyellow'\n",
    "axalpha = plt.axes([0.25, 0.01,0.4, 0.04], facecolor=axcolor)\n",
    "s_zoom = Slider(axalpha, 'zoom: ', 0, 1, valinit=1)\n",
    "\n",
    "axsm = plt.axes([0.25, 0.06,0.4, 0.04], facecolor=axcolor)\n",
    "s_sm = Slider(axsm, 'solar masses: ', 1,100000, valinit=1)\n",
    "\n",
    "radius = plt.axes([0.25, 0.11,0.4, 0.04], facecolor=axcolor)\n",
    "s_sr = Slider(radius, 'radius: ', 0.1, 5, valinit=1)\n",
    "\n",
    "rax = plt.axes([0.75, 0.01, 0.075, 0.14])\n",
    "check = CheckButtons(rax, ('x=y', 'sun'), (False, False))\n",
    "\n",
    "#Set constants note G is divided by c^2    \n",
    "global M\n",
    "global G\n",
    "global Ro\n",
    "\n",
    "M=1.989e30\n",
    "G=6.67408e-11/((3e8)**2)\n",
    "Ro=696340000\n",
    "\n",
    "def e1(sm,sr):\n",
    "    esqrt=np.sqrt((sr*Ro-sm*2*M*G)*(sr*Ro+sm*6*M*G))\n",
    "    e1=(sr*Ro-sm*2*M*G+esqrt)/(sm*4*M*G*sr*Ro)\n",
    "    return e1\n",
    "\n",
    "def e2(sr):\n",
    "    e2=1/(sr*Ro)\n",
    "    return e2\n",
    "\n",
    "def e3(sm,sr):\n",
    "    esqrt=np.sqrt((sr*Ro-sm*2*M*G)*(sr*Ro+sm*6*M*G))\n",
    "    e3=(sr*Ro-sm*2*M*G-esqrt)/(sm*4*M*G*sr*Ro)\n",
    "    return e3   \n",
    "    \n",
    "def r(phi):\n",
    "    sm = s_sm.val\n",
    "    sr = s_sr.val\n",
    "     \n",
    "    e1v=e1(sm,sr)\n",
    "    e2v=e2(sr)\n",
    "    e3v=e3(sm,sr)\n",
    "    \n",
    "    #Check if solution is valid, sr*Ro radius must be bigger rs\n",
    "    tau=np.sqrt(sm*M*G*(e1v-e3v)/2)\n",
    "    h = (e2v-e3v)/(e1v-e3v)\n",
    "\n",
    "    sigma = -tau*np.pi/2 - sps.ellipk(h)  \n",
    "    sn,_,_,_=sps.ellipj(tau*phi+sigma, h)\n",
    "    r=e3v+(e2v-e3v)*sn**2\n",
    "    return r\n",
    "\n",
    "def alpha():\n",
    "    #Determine the root of solution\n",
    "    sm = s_sm.val\n",
    "    sr = s_sr.val\n",
    "     \n",
    "    e1v=e1(sm,sr)\n",
    "    e2v=e2(sr)\n",
    "    e3v=e3(sm,sr)\n",
    "    \n",
    "    h = (e2v-e3v)/(e1v-e3v)   \n",
    "    phi=np.arcsin(np.sqrt(-e3v/(e2v-e3v)))    \n",
    "    angle= sps.ellipkinc(phi,  h)  \n",
    "    \n",
    "    tau=np.sqrt(sm*M*G*(e1v-e3v)/2)\n",
    "    sigma = -tau*np.pi/2 - sps.ellipk(h)  \n",
    "    \n",
    "    alphav = (angle-sigma) /tau-2*np.pi\n",
    " \n",
    "    return alphav\n",
    "\n",
    "#The following function updateplot runs whenever slider changes value\n",
    "def updateplot(val):\n",
    "    \n",
    "    clearsetplot()\n",
    "\n",
    "    #Solar masses/radius and magnification alpha\n",
    "    zoom = s_zoom.val\n",
    "    sm = s_sm.val\n",
    "    sr = s_sr.val\n",
    "\n",
    "    #Find x range for all valid solutions  \n",
    "    alphamax=alpha()\n",
    "    \n",
    "    #Set angle range and calculate radius\n",
    "    phi= np.linspace(alphamax/2,np.pi-alphamax/2,500)\n",
    "    phi=phi[int(0.5*(1-zoom)*500):int(0.5*(1+zoom)*500)]\n",
    "   \n",
    "    rv=1/r(phi)\n",
    "    \n",
    "    x=rv*np.cos(phi)\n",
    "    y=rv*np.sin(phi)\n",
    "    \n",
    "    #plot lightpath curve\n",
    "    ax1.plot(x,y)\n",
    "    ax1.grid()\n",
    "            \n",
    "    #Angular Deflection\n",
    "    dx=np.diff(x)\n",
    "    dy=np.diff(y)\n",
    "    dydx=dy/dx\n",
    "    da=np.arctan(dydx)\n",
    "    dam=np.max(da)\n",
    "    ax2.plot(x[:-1],-da)\n",
    "    ax2.grid()\n",
    "    \n",
    "    #Angular Distribution\n",
    "    ddy=np.diff(da)\n",
    "    ddydx=ddy/dx[:-1]\n",
    "    ax3.plot(x[:-2],-ddydx)        \n",
    "    ax3.grid()       \n",
    "     \n",
    "    text=(  str('{:.6f}'.format(dam))      +   ' $[rad]$\\n' +\n",
    "            str('{:.6f}'.format(np.degrees(dam)))      +   '$^{\\circ}$\\n' +\n",
    "            str('{:.6f}'.format(np.degrees(dam)*3600)) +  \"$''$\\n\")         \n",
    "    ax1.annotate(text,xy=(0.02,0.75), xycoords='axes fraction',ha='left')\n",
    "    \n",
    "    #scaling method and draw sun\n",
    "    plotoptions(x,y,-da,-ddydx,sr,sm)\n",
    "    fig.canvas.draw_idle()\n",
    "\n",
    "    \n",
    "#This function set scaling axis and drawes sun\n",
    "def plotoptions(x,y,dy,ddy,sr,sm):\n",
    "    i=0\n",
    "    for r in check.get_status():\n",
    "       \n",
    "        if i==0:\n",
    "            #Set scaling auto or equal\n",
    "            if r==False:\n",
    "                ax1.axis('auto')\n",
    "                range=np.max(x)-np.min(x)\n",
    "                \n",
    "                binsx=np.linspace(-np.max(x)-range*2/100,np.max(x)+range*2/100, 5)\n",
    "                ax1.xaxis.set_ticks(binsx)               \n",
    "                ax1.yaxis.set_major_locator(ticker.MaxNLocator(5)) \n",
    "                \n",
    "                ax2.set_xlim([-np.max(x)-range*2/100,np.max(x)+range*2/100])\n",
    "                ax2.xaxis.set_ticks(binsx)\n",
    "                \n",
    "                range=np.max(dy)-np.min(dy)\n",
    "                binsy=np.linspace(-np.max(dy)-range*2/100,np.max(dy)+range*2/100, 5)\n",
    "                ax2.yaxis.set_ticks(binsy)                            \n",
    "    \n",
    "                ax3.set_xlim([-np.max(x)-range*2/100,np.max(x)+range*2/100])\n",
    "                ax3.xaxis.set_ticks(binsx)\n",
    "                \n",
    "                range=np.max(ddy)-np.min(ddy)\n",
    "                binsy=np.linspace(np.min(ddy)-range*2/100,np.max(ddy)+range*2/100, 5)\n",
    "                ax3.yaxis.set_ticks(binsy)                            \n",
    "\n",
    "                \n",
    "                \n",
    "            else:\n",
    "                ax1.axis('equal')\n",
    "                range=np.max(x)-np.min(x)\n",
    "                \n",
    "                binsx=np.linspace(-np.max(x)-range*2/100,np.max(x)+range*2/100, 5)\n",
    "                ax1.xaxis.set_ticks(binsx)               \n",
    "                ax1.yaxis.set_major_locator(ticker.MaxNLocator(5)) \n",
    "                \n",
    "                ax2.set_xlim([-np.max(x)-range*2/100,np.max(x)+range*2/100])\n",
    "                ax2.xaxis.set_ticks(binsx)\n",
    "                \n",
    "                range=np.max(dy)-np.min(dy)\n",
    "                binsy=np.linspace(-np.max(dy)-range*2/100,np.max(dy)+range*2/100, 5)\n",
    "                ax2.yaxis.set_ticks(binsy)                            \n",
    "    \n",
    "                ax3.set_xlim([-np.max(x)-range*2/100,np.max(x)+range*2/100])\n",
    "                ax3.xaxis.set_ticks(binsx)\n",
    "                \n",
    "                range=np.max(ddy)-np.min(ddy)\n",
    "                binsy=np.linspace(np.min(ddy)-range*2/100,np.max(ddy)+range*2/100, 5)\n",
    "                ax3.yaxis.set_ticks(binsy)                            \n",
    "\n",
    "    \n",
    "                                \n",
    "        if i==1:\n",
    "            #Draw Sun yes/no\n",
    "              if r==True:\n",
    "                circle=plt.Circle((0,0),Ro, color='orange',label='sun')\n",
    "                ax1.add_patch(circle)\n",
    "                \n",
    "                circle=plt.Circle((0,0),sr*Ro,fill=False, ls='--')\n",
    "                ax1.add_patch(circle)\n",
    "\n",
    "                circle=plt.Circle((0,0),sm*3*G*M, color='gray',label='$r_p$: photon sphere')\n",
    "                ax1.add_patch(circle)\n",
    "\n",
    "                \n",
    "                circle=plt.Circle((0,0),sm*2*G*M, color='black',label='$r_s$: Schwarzschild radius')\n",
    "                ax1.add_patch(circle)    \n",
    "                \n",
    "                ax1.legend(loc=3,fontsize='6',markerscale=0.5,facecolor='none',frameon=False)\n",
    "                \n",
    "        i=i+1\n",
    "\n",
    "def clearsetplot():\n",
    "    ax1.clear()\n",
    "    ax1.set_title('Light path', fontsize=10, pad=20)\n",
    "    ax1.set_xlabel('x [m]', fontsize=10)\n",
    "    ax1.set_ylabel('y [m]', fontsize=10)\n",
    "    ax1.ticklabel_format(axis='both', style='sci', scilimits=(0,0))\n",
    "    ax1.yaxis.set_major_formatter(ticker.FormatStrFormatter('%.1e'))\n",
    "    #ax1.xaxis.set_major_formatter(ticker.FormatStrFormatter('%.1e'))\n",
    "    \n",
    "    ax2.clear()\n",
    "    ax2.set_title('Angular Deflection', fontsize=10, pad=20)\n",
    "    ax2.set_xlabel('x [m]', fontsize=10)\n",
    "    ax2.set_ylabel('deflection angle  [rad]', fontsize=10)\n",
    "    ax2.ticklabel_format(axis='both', style='sci', scilimits=(0,0))\n",
    "    ax2.yaxis.set_major_formatter(ticker.FormatStrFormatter('%.1e'))\n",
    "    #ax2.xaxis.set_major_formatter(ticker.FormatStrFormatter('%.1e'))\n",
    "    \n",
    "    ax3.clear()\n",
    "    ax3.set_title('Angular Distribution', fontsize=10, pad=20)\n",
    "    ax3.set_xlabel('x [m]', fontsize=10)\n",
    "    ax3.set_ylabel('angular change [rad/m]', fontsize=10)\n",
    "    ax3.ticklabel_format(axis='both', style='sci', scilimits=(0,0))\n",
    "    ax3.yaxis.set_major_formatter(ticker.FormatStrFormatter('%.1e'))\n",
    "    #ax3.xaxis.set_major_formatter(ticker.FormatStrFormatter('%.1e'))\n",
    "\n",
    "#Display plot n startup.\n",
    "updateplot(1)\n",
    "\n",
    "#The following code checkes if slider changes. This line is looped automatic by pyplot\n",
    "s_sm.on_changed(updateplot);\n",
    "s_sr.on_changed(updateplot);\n",
    "s_zoom.on_changed(updateplot);\n",
    "check.on_clicked(updateplot);"
   ]
  },
  {
   "cell_type": "code",
   "execution_count": null,
   "id": "402b17ba-f09b-483f-9ebf-5480a3030e62",
   "metadata": {},
   "outputs": [],
   "source": []
  }
 ],
 "metadata": {
  "kernelspec": {
   "display_name": "Python 3",
   "language": "python",
   "name": "python3"
  },
  "language_info": {
   "codemirror_mode": {
    "name": "ipython",
    "version": 3
   },
   "file_extension": ".py",
   "mimetype": "text/x-python",
   "name": "python",
   "nbconvert_exporter": "python",
   "pygments_lexer": "ipython3",
   "version": "3.8.10"
  },
  "widgets": {
   "application/vnd.jupyter.widget-state+json": {
    "state": {
     "035a7feb64794ee9a7f0fd589c05b41e": {
      "model_module": "@jupyter-widgets/base",
      "model_module_version": "1.2.0",
      "model_name": "LayoutModel",
      "state": {}
     },
     "05585bfbf6ba412a98c6ecd30d19e36a": {
      "model_module": "@jupyter-widgets/base",
      "model_module_version": "1.2.0",
      "model_name": "LayoutModel",
      "state": {}
     },
     "0baa4da1e1b24f809b12d1cc54aab6dd": {
      "model_module": "@jupyter-widgets/base",
      "model_module_version": "1.2.0",
      "model_name": "LayoutModel",
      "state": {}
     },
     "103649aab7e94e6f9d2ecabd9706fb0d": {
      "model_module": "jupyter-matplotlib",
      "model_module_version": "^0.9.0",
      "model_name": "ToolbarModel",
      "state": {
       "layout": "IPY_MODEL_90b679be0eca43bb916940f3c84c5299",
       "toolitems": [
        [
         "Home",
         "Reset original view",
         "home",
         "home"
        ],
        [
         "Back",
         "Back to previous view",
         "arrow-left",
         "back"
        ],
        [
         "Forward",
         "Forward to next view",
         "arrow-right",
         "forward"
        ],
        [
         "Pan",
         "Left button pans, Right button zooms\nx/y fixes axis, CTRL fixes aspect",
         "arrows",
         "pan"
        ],
        [
         "Zoom",
         "Zoom to rectangle\nx/y fixes axis, CTRL fixes aspect",
         "square-o",
         "zoom"
        ],
        [
         "Download",
         "Download plot",
         "floppy-o",
         "save_figure"
        ]
       ]
      }
     },
     "11ee475fbdd943d3b85b2de507915dd7": {
      "model_module": "jupyter-matplotlib",
      "model_module_version": "^0.9.0",
      "model_name": "ToolbarModel",
      "state": {
       "layout": "IPY_MODEL_9472c46cca604dd8914553557053d0e2",
       "toolitems": [
        [
         "Home",
         "Reset original view",
         "home",
         "home"
        ],
        [
         "Back",
         "Back to previous view",
         "arrow-left",
         "back"
        ],
        [
         "Forward",
         "Forward to next view",
         "arrow-right",
         "forward"
        ],
        [
         "Pan",
         "Left button pans, Right button zooms\nx/y fixes axis, CTRL fixes aspect",
         "arrows",
         "pan"
        ],
        [
         "Zoom",
         "Zoom to rectangle\nx/y fixes axis, CTRL fixes aspect",
         "square-o",
         "zoom"
        ],
        [
         "Download",
         "Download plot",
         "floppy-o",
         "save_figure"
        ]
       ]
      }
     },
     "14a950bc3e8e45bfa37563656317dd94": {
      "model_module": "jupyter-matplotlib",
      "model_module_version": "^0.9.0",
      "model_name": "ToolbarModel",
      "state": {
       "layout": "IPY_MODEL_67aa2ccf0c974f66ad51c367b9f18f39",
       "toolitems": [
        [
         "Home",
         "Reset original view",
         "home",
         "home"
        ],
        [
         "Back",
         "Back to previous view",
         "arrow-left",
         "back"
        ],
        [
         "Forward",
         "Forward to next view",
         "arrow-right",
         "forward"
        ],
        [
         "Pan",
         "Left button pans, Right button zooms\nx/y fixes axis, CTRL fixes aspect",
         "arrows",
         "pan"
        ],
        [
         "Zoom",
         "Zoom to rectangle\nx/y fixes axis, CTRL fixes aspect",
         "square-o",
         "zoom"
        ],
        [
         "Download",
         "Download plot",
         "floppy-o",
         "save_figure"
        ]
       ]
      }
     },
     "152dec087fc847999dcff48a48936283": {
      "model_module": "@jupyter-widgets/base",
      "model_module_version": "1.2.0",
      "model_name": "LayoutModel",
      "state": {}
     },
     "158e4b16ef44464bb7d829ae6dd880ec": {
      "model_module": "@jupyter-widgets/base",
      "model_module_version": "1.2.0",
      "model_name": "LayoutModel",
      "state": {}
     },
     "15a62b0b2aa1484bbe11e15134b33b77": {
      "model_module": "@jupyter-widgets/base",
      "model_module_version": "1.2.0",
      "model_name": "LayoutModel",
      "state": {}
     },
     "17138e0dc0f74c6b984822e6632986b5": {
      "model_module": "@jupyter-widgets/base",
      "model_module_version": "1.2.0",
      "model_name": "LayoutModel",
      "state": {}
     },
     "18dab54c492c40e3ade70a5f7903a6f6": {
      "model_module": "jupyter-matplotlib",
      "model_module_version": "^0.9.0",
      "model_name": "ToolbarModel",
      "state": {
       "layout": "IPY_MODEL_923c728d193640bab52c77aaa0a90ddd",
       "toolitems": [
        [
         "Home",
         "Reset original view",
         "home",
         "home"
        ],
        [
         "Back",
         "Back to previous view",
         "arrow-left",
         "back"
        ],
        [
         "Forward",
         "Forward to next view",
         "arrow-right",
         "forward"
        ],
        [
         "Pan",
         "Left button pans, Right button zooms\nx/y fixes axis, CTRL fixes aspect",
         "arrows",
         "pan"
        ],
        [
         "Zoom",
         "Zoom to rectangle\nx/y fixes axis, CTRL fixes aspect",
         "square-o",
         "zoom"
        ],
        [
         "Download",
         "Download plot",
         "floppy-o",
         "save_figure"
        ]
       ]
      }
     },
     "1af4fb1311504e0c9bcda0be48bbbc50": {
      "model_module": "jupyter-matplotlib",
      "model_module_version": "^0.9.0",
      "model_name": "ToolbarModel",
      "state": {
       "layout": "IPY_MODEL_152dec087fc847999dcff48a48936283",
       "toolitems": [
        [
         "Home",
         "Reset original view",
         "home",
         "home"
        ],
        [
         "Back",
         "Back to previous view",
         "arrow-left",
         "back"
        ],
        [
         "Forward",
         "Forward to next view",
         "arrow-right",
         "forward"
        ],
        [
         "Pan",
         "Left button pans, Right button zooms\nx/y fixes axis, CTRL fixes aspect",
         "arrows",
         "pan"
        ],
        [
         "Zoom",
         "Zoom to rectangle\nx/y fixes axis, CTRL fixes aspect",
         "square-o",
         "zoom"
        ],
        [
         "Download",
         "Download plot",
         "floppy-o",
         "save_figure"
        ]
       ]
      }
     },
     "1d0e51395c9a4f5db98cc145d5413536": {
      "model_module": "@jupyter-widgets/base",
      "model_module_version": "1.2.0",
      "model_name": "LayoutModel",
      "state": {}
     },
     "324eaf7fa19248099eb95e2c1d23f8fa": {
      "model_module": "jupyter-matplotlib",
      "model_module_version": "^0.9.0",
      "model_name": "ToolbarModel",
      "state": {
       "layout": "IPY_MODEL_a528113721bf461183f6e6e688021cfd",
       "toolitems": [
        [
         "Home",
         "Reset original view",
         "home",
         "home"
        ],
        [
         "Back",
         "Back to previous view",
         "arrow-left",
         "back"
        ],
        [
         "Forward",
         "Forward to next view",
         "arrow-right",
         "forward"
        ],
        [
         "Pan",
         "Left button pans, Right button zooms\nx/y fixes axis, CTRL fixes aspect",
         "arrows",
         "pan"
        ],
        [
         "Zoom",
         "Zoom to rectangle\nx/y fixes axis, CTRL fixes aspect",
         "square-o",
         "zoom"
        ],
        [
         "Download",
         "Download plot",
         "floppy-o",
         "save_figure"
        ]
       ]
      }
     },
     "36c4a74753624422a3d518b8588af974": {
      "model_module": "@jupyter-widgets/base",
      "model_module_version": "1.2.0",
      "model_name": "LayoutModel",
      "state": {}
     },
     "400b111f545b4a699e7f03e6b3956dc3": {
      "model_module": "@jupyter-widgets/base",
      "model_module_version": "1.2.0",
      "model_name": "LayoutModel",
      "state": {}
     },
     "4647ae70ba774d6e92656cedeb39fa6e": {
      "model_module": "@jupyter-widgets/base",
      "model_module_version": "1.2.0",
      "model_name": "LayoutModel",
      "state": {}
     },
     "4b65d97b57ba4e37ace4867693e204d3": {
      "model_module": "jupyter-matplotlib",
      "model_module_version": "^0.9.0",
      "model_name": "ToolbarModel",
      "state": {
       "layout": "IPY_MODEL_920e52321bd04605a6713f6c68220a03",
       "toolitems": [
        [
         "Home",
         "Reset original view",
         "home",
         "home"
        ],
        [
         "Back",
         "Back to previous view",
         "arrow-left",
         "back"
        ],
        [
         "Forward",
         "Forward to next view",
         "arrow-right",
         "forward"
        ],
        [
         "Pan",
         "Left button pans, Right button zooms\nx/y fixes axis, CTRL fixes aspect",
         "arrows",
         "pan"
        ],
        [
         "Zoom",
         "Zoom to rectangle\nx/y fixes axis, CTRL fixes aspect",
         "square-o",
         "zoom"
        ],
        [
         "Download",
         "Download plot",
         "floppy-o",
         "save_figure"
        ]
       ]
      }
     },
     "4f65904aa67d434ca15ce5d4fafd88e6": {
      "model_module": "@jupyter-widgets/base",
      "model_module_version": "1.2.0",
      "model_name": "LayoutModel",
      "state": {}
     },
     "56cbee7059884a35ad0b1d1993b79e48": {
      "model_module": "jupyter-matplotlib",
      "model_module_version": "^0.9.0",
      "model_name": "ToolbarModel",
      "state": {
       "layout": "IPY_MODEL_035a7feb64794ee9a7f0fd589c05b41e",
       "toolitems": [
        [
         "Home",
         "Reset original view",
         "home",
         "home"
        ],
        [
         "Back",
         "Back to previous view",
         "arrow-left",
         "back"
        ],
        [
         "Forward",
         "Forward to next view",
         "arrow-right",
         "forward"
        ],
        [
         "Pan",
         "Left button pans, Right button zooms\nx/y fixes axis, CTRL fixes aspect",
         "arrows",
         "pan"
        ],
        [
         "Zoom",
         "Zoom to rectangle\nx/y fixes axis, CTRL fixes aspect",
         "square-o",
         "zoom"
        ],
        [
         "Download",
         "Download plot",
         "floppy-o",
         "save_figure"
        ]
       ]
      }
     },
     "5a9d591ca395499b98591dc99d2092d2": {
      "model_module": "@jupyter-widgets/base",
      "model_module_version": "1.2.0",
      "model_name": "LayoutModel",
      "state": {}
     },
     "5b1507401641413ca669ddc5b4dfcfd8": {
      "model_module": "@jupyter-widgets/base",
      "model_module_version": "1.2.0",
      "model_name": "LayoutModel",
      "state": {}
     },
     "5b2e0db051374966899306c8ad72e3aa": {
      "model_module": "jupyter-matplotlib",
      "model_module_version": "^0.9.0",
      "model_name": "ToolbarModel",
      "state": {
       "layout": "IPY_MODEL_7c6dfec3b85c4187982f48ac3687f162",
       "toolitems": [
        [
         "Home",
         "Reset original view",
         "home",
         "home"
        ],
        [
         "Back",
         "Back to previous view",
         "arrow-left",
         "back"
        ],
        [
         "Forward",
         "Forward to next view",
         "arrow-right",
         "forward"
        ],
        [
         "Pan",
         "Left button pans, Right button zooms\nx/y fixes axis, CTRL fixes aspect",
         "arrows",
         "pan"
        ],
        [
         "Zoom",
         "Zoom to rectangle\nx/y fixes axis, CTRL fixes aspect",
         "square-o",
         "zoom"
        ],
        [
         "Download",
         "Download plot",
         "floppy-o",
         "save_figure"
        ]
       ]
      }
     },
     "5c43de52c3a34f0999c5e70c20e5c159": {
      "model_module": "jupyter-matplotlib",
      "model_module_version": "^0.9.0",
      "model_name": "ToolbarModel",
      "state": {
       "layout": "IPY_MODEL_ff04274231d4474496b76f7377c8c6f9",
       "toolitems": [
        [
         "Home",
         "Reset original view",
         "home",
         "home"
        ],
        [
         "Back",
         "Back to previous view",
         "arrow-left",
         "back"
        ],
        [
         "Forward",
         "Forward to next view",
         "arrow-right",
         "forward"
        ],
        [
         "Pan",
         "Left button pans, Right button zooms\nx/y fixes axis, CTRL fixes aspect",
         "arrows",
         "pan"
        ],
        [
         "Zoom",
         "Zoom to rectangle\nx/y fixes axis, CTRL fixes aspect",
         "square-o",
         "zoom"
        ],
        [
         "Download",
         "Download plot",
         "floppy-o",
         "save_figure"
        ]
       ]
      }
     },
     "66f324ee284e4a8b981731d1f69cc98f": {
      "model_module": "jupyter-matplotlib",
      "model_module_version": "^0.9.0",
      "model_name": "ToolbarModel",
      "state": {
       "layout": "IPY_MODEL_fc5564cfa7224641ac09c0f303cafc0d",
       "toolitems": [
        [
         "Home",
         "Reset original view",
         "home",
         "home"
        ],
        [
         "Back",
         "Back to previous view",
         "arrow-left",
         "back"
        ],
        [
         "Forward",
         "Forward to next view",
         "arrow-right",
         "forward"
        ],
        [
         "Pan",
         "Left button pans, Right button zooms\nx/y fixes axis, CTRL fixes aspect",
         "arrows",
         "pan"
        ],
        [
         "Zoom",
         "Zoom to rectangle\nx/y fixes axis, CTRL fixes aspect",
         "square-o",
         "zoom"
        ],
        [
         "Download",
         "Download plot",
         "floppy-o",
         "save_figure"
        ]
       ]
      }
     },
     "67aa2ccf0c974f66ad51c367b9f18f39": {
      "model_module": "@jupyter-widgets/base",
      "model_module_version": "1.2.0",
      "model_name": "LayoutModel",
      "state": {}
     },
     "68fb0ac5a78549d396a22ea5bcbc52d6": {
      "model_module": "jupyter-matplotlib",
      "model_module_version": "^0.9.0",
      "model_name": "ToolbarModel",
      "state": {
       "layout": "IPY_MODEL_8a547fd5057d4d489cae7f503e15d707",
       "toolitems": [
        [
         "Home",
         "Reset original view",
         "home",
         "home"
        ],
        [
         "Back",
         "Back to previous view",
         "arrow-left",
         "back"
        ],
        [
         "Forward",
         "Forward to next view",
         "arrow-right",
         "forward"
        ],
        [
         "Pan",
         "Left button pans, Right button zooms\nx/y fixes axis, CTRL fixes aspect",
         "arrows",
         "pan"
        ],
        [
         "Zoom",
         "Zoom to rectangle\nx/y fixes axis, CTRL fixes aspect",
         "square-o",
         "zoom"
        ],
        [
         "Download",
         "Download plot",
         "floppy-o",
         "save_figure"
        ]
       ]
      }
     },
     "6a852acbc9cd47679f8c8c88067ed7fe": {
      "model_module": "@jupyter-widgets/base",
      "model_module_version": "1.2.0",
      "model_name": "LayoutModel",
      "state": {}
     },
     "74da40f0780545afa75dd94544b95733": {
      "model_module": "jupyter-matplotlib",
      "model_module_version": "^0.9.0",
      "model_name": "ToolbarModel",
      "state": {
       "layout": "IPY_MODEL_9f602401c77f40b7b8d2354412cf4200",
       "toolitems": [
        [
         "Home",
         "Reset original view",
         "home",
         "home"
        ],
        [
         "Back",
         "Back to previous view",
         "arrow-left",
         "back"
        ],
        [
         "Forward",
         "Forward to next view",
         "arrow-right",
         "forward"
        ],
        [
         "Pan",
         "Left button pans, Right button zooms\nx/y fixes axis, CTRL fixes aspect",
         "arrows",
         "pan"
        ],
        [
         "Zoom",
         "Zoom to rectangle\nx/y fixes axis, CTRL fixes aspect",
         "square-o",
         "zoom"
        ],
        [
         "Download",
         "Download plot",
         "floppy-o",
         "save_figure"
        ]
       ]
      }
     },
     "78aeda03de0e4c3791f8818208300d95": {
      "model_module": "@jupyter-widgets/base",
      "model_module_version": "1.2.0",
      "model_name": "LayoutModel",
      "state": {}
     },
     "7c6dfec3b85c4187982f48ac3687f162": {
      "model_module": "@jupyter-widgets/base",
      "model_module_version": "1.2.0",
      "model_name": "LayoutModel",
      "state": {}
     },
     "7f1814261276458ba17cbfc8c00b55b5": {
      "model_module": "@jupyter-widgets/base",
      "model_module_version": "1.2.0",
      "model_name": "LayoutModel",
      "state": {}
     },
     "80f995e029e1465f9de9bbb705408ef1": {
      "model_module": "@jupyter-widgets/base",
      "model_module_version": "1.2.0",
      "model_name": "LayoutModel",
      "state": {}
     },
     "82fd6fa22d9d427793cb394f91ab901d": {
      "model_module": "@jupyter-widgets/base",
      "model_module_version": "1.2.0",
      "model_name": "LayoutModel",
      "state": {}
     },
     "830db08fa4654be5afb866a3b32c09eb": {
      "model_module": "jupyter-matplotlib",
      "model_module_version": "^0.9.0",
      "model_name": "ToolbarModel",
      "state": {
       "layout": "IPY_MODEL_933458b0fe424c39ac4761cd1f3262dc",
       "toolitems": [
        [
         "Home",
         "Reset original view",
         "home",
         "home"
        ],
        [
         "Back",
         "Back to previous view",
         "arrow-left",
         "back"
        ],
        [
         "Forward",
         "Forward to next view",
         "arrow-right",
         "forward"
        ],
        [
         "Pan",
         "Left button pans, Right button zooms\nx/y fixes axis, CTRL fixes aspect",
         "arrows",
         "pan"
        ],
        [
         "Zoom",
         "Zoom to rectangle\nx/y fixes axis, CTRL fixes aspect",
         "square-o",
         "zoom"
        ],
        [
         "Download",
         "Download plot",
         "floppy-o",
         "save_figure"
        ]
       ]
      }
     },
     "83b446d7b3104e48be4039277fa1e67f": {
      "model_module": "@jupyter-widgets/base",
      "model_module_version": "1.2.0",
      "model_name": "LayoutModel",
      "state": {}
     },
     "86e1fdcb905c4dcfbcddb4cd674f32ff": {
      "model_module": "jupyter-matplotlib",
      "model_module_version": "^0.9.0",
      "model_name": "ToolbarModel",
      "state": {
       "layout": "IPY_MODEL_a6c2207fbb5f4ceca865d61c30e9cab2",
       "toolitems": [
        [
         "Home",
         "Reset original view",
         "home",
         "home"
        ],
        [
         "Back",
         "Back to previous view",
         "arrow-left",
         "back"
        ],
        [
         "Forward",
         "Forward to next view",
         "arrow-right",
         "forward"
        ],
        [
         "Pan",
         "Left button pans, Right button zooms\nx/y fixes axis, CTRL fixes aspect",
         "arrows",
         "pan"
        ],
        [
         "Zoom",
         "Zoom to rectangle\nx/y fixes axis, CTRL fixes aspect",
         "square-o",
         "zoom"
        ],
        [
         "Download",
         "Download plot",
         "floppy-o",
         "save_figure"
        ]
       ]
      }
     },
     "87541daf11ff4448988eb22834246b26": {
      "model_module": "jupyter-matplotlib",
      "model_module_version": "^0.9.0",
      "model_name": "ToolbarModel",
      "state": {
       "layout": "IPY_MODEL_ceeff3dc05d94510bc778c9a0fbde835",
       "toolitems": [
        [
         "Home",
         "Reset original view",
         "home",
         "home"
        ],
        [
         "Back",
         "Back to previous view",
         "arrow-left",
         "back"
        ],
        [
         "Forward",
         "Forward to next view",
         "arrow-right",
         "forward"
        ],
        [
         "Pan",
         "Left button pans, Right button zooms\nx/y fixes axis, CTRL fixes aspect",
         "arrows",
         "pan"
        ],
        [
         "Zoom",
         "Zoom to rectangle\nx/y fixes axis, CTRL fixes aspect",
         "square-o",
         "zoom"
        ],
        [
         "Download",
         "Download plot",
         "floppy-o",
         "save_figure"
        ]
       ]
      }
     },
     "87a6341c4fcc477caa6a769e72c07166": {
      "model_module": "jupyter-matplotlib",
      "model_module_version": "^0.9.0",
      "model_name": "ToolbarModel",
      "state": {
       "layout": "IPY_MODEL_5a9d591ca395499b98591dc99d2092d2",
       "toolitems": [
        [
         "Home",
         "Reset original view",
         "home",
         "home"
        ],
        [
         "Back",
         "Back to previous view",
         "arrow-left",
         "back"
        ],
        [
         "Forward",
         "Forward to next view",
         "arrow-right",
         "forward"
        ],
        [
         "Pan",
         "Left button pans, Right button zooms\nx/y fixes axis, CTRL fixes aspect",
         "arrows",
         "pan"
        ],
        [
         "Zoom",
         "Zoom to rectangle\nx/y fixes axis, CTRL fixes aspect",
         "square-o",
         "zoom"
        ],
        [
         "Download",
         "Download plot",
         "floppy-o",
         "save_figure"
        ]
       ]
      }
     },
     "88171fc98a0c4707a98023478fb0a8dc": {
      "model_module": "@jupyter-widgets/base",
      "model_module_version": "1.2.0",
      "model_name": "LayoutModel",
      "state": {}
     },
     "888a35776ff6431ab7bab1f3cbfd894b": {
      "model_module": "@jupyter-widgets/base",
      "model_module_version": "1.2.0",
      "model_name": "LayoutModel",
      "state": {}
     },
     "8a547fd5057d4d489cae7f503e15d707": {
      "model_module": "@jupyter-widgets/base",
      "model_module_version": "1.2.0",
      "model_name": "LayoutModel",
      "state": {}
     },
     "8cfc50b3c0fc47e7b57709e3bf50fa80": {
      "model_module": "jupyter-matplotlib",
      "model_module_version": "^0.9.0",
      "model_name": "MPLCanvasModel",
      "state": {
       "_cursor": "default",
       "_figure_label": "Figure 1",
       "_height": 500,
       "_image_mode": "diff",
       "_width": 900,
       "layout": "IPY_MODEL_7f1814261276458ba17cbfc8c00b55b5",
       "toolbar": "IPY_MODEL_324eaf7fa19248099eb95e2c1d23f8fa",
       "toolbar_position": "left"
      }
     },
     "90b679be0eca43bb916940f3c84c5299": {
      "model_module": "@jupyter-widgets/base",
      "model_module_version": "1.2.0",
      "model_name": "LayoutModel",
      "state": {}
     },
     "920e52321bd04605a6713f6c68220a03": {
      "model_module": "@jupyter-widgets/base",
      "model_module_version": "1.2.0",
      "model_name": "LayoutModel",
      "state": {}
     },
     "923c728d193640bab52c77aaa0a90ddd": {
      "model_module": "@jupyter-widgets/base",
      "model_module_version": "1.2.0",
      "model_name": "LayoutModel",
      "state": {}
     },
     "92ad004f856b496f80867ec6472d0ca6": {
      "model_module": "@jupyter-widgets/base",
      "model_module_version": "1.2.0",
      "model_name": "LayoutModel",
      "state": {}
     },
     "933458b0fe424c39ac4761cd1f3262dc": {
      "model_module": "@jupyter-widgets/base",
      "model_module_version": "1.2.0",
      "model_name": "LayoutModel",
      "state": {}
     },
     "9472c46cca604dd8914553557053d0e2": {
      "model_module": "@jupyter-widgets/base",
      "model_module_version": "1.2.0",
      "model_name": "LayoutModel",
      "state": {}
     },
     "9c6c381aec1343179ba7aab234737095": {
      "model_module": "@jupyter-widgets/base",
      "model_module_version": "1.2.0",
      "model_name": "LayoutModel",
      "state": {}
     },
     "9f602401c77f40b7b8d2354412cf4200": {
      "model_module": "@jupyter-widgets/base",
      "model_module_version": "1.2.0",
      "model_name": "LayoutModel",
      "state": {}
     },
     "a528113721bf461183f6e6e688021cfd": {
      "model_module": "@jupyter-widgets/base",
      "model_module_version": "1.2.0",
      "model_name": "LayoutModel",
      "state": {}
     },
     "a565819779ce4857b82fda4d4a07107d": {
      "model_module": "@jupyter-widgets/base",
      "model_module_version": "1.2.0",
      "model_name": "LayoutModel",
      "state": {}
     },
     "a67dbbfe9b2741fca328224e3b0c317c": {
      "model_module": "@jupyter-widgets/base",
      "model_module_version": "1.2.0",
      "model_name": "LayoutModel",
      "state": {}
     },
     "a6c2207fbb5f4ceca865d61c30e9cab2": {
      "model_module": "@jupyter-widgets/base",
      "model_module_version": "1.2.0",
      "model_name": "LayoutModel",
      "state": {}
     },
     "a7d14d1ce3f0455ca64d2d8ed2aaafa7": {
      "model_module": "jupyter-matplotlib",
      "model_module_version": "^0.9.0",
      "model_name": "ToolbarModel",
      "state": {
       "layout": "IPY_MODEL_c4856304a80a40b1bb73cf6c4393e0e0",
       "toolitems": [
        [
         "Home",
         "Reset original view",
         "home",
         "home"
        ],
        [
         "Back",
         "Back to previous view",
         "arrow-left",
         "back"
        ],
        [
         "Forward",
         "Forward to next view",
         "arrow-right",
         "forward"
        ],
        [
         "Pan",
         "Left button pans, Right button zooms\nx/y fixes axis, CTRL fixes aspect",
         "arrows",
         "pan"
        ],
        [
         "Zoom",
         "Zoom to rectangle\nx/y fixes axis, CTRL fixes aspect",
         "square-o",
         "zoom"
        ],
        [
         "Download",
         "Download plot",
         "floppy-o",
         "save_figure"
        ]
       ]
      }
     },
     "ab332f58dd3049ccae098cd6eb667a40": {
      "model_module": "@jupyter-widgets/base",
      "model_module_version": "1.2.0",
      "model_name": "LayoutModel",
      "state": {}
     },
     "ae9f49a8e9ed4edd98643713953821bc": {
      "model_module": "jupyter-matplotlib",
      "model_module_version": "^0.9.0",
      "model_name": "ToolbarModel",
      "state": {
       "layout": "IPY_MODEL_a565819779ce4857b82fda4d4a07107d",
       "toolitems": [
        [
         "Home",
         "Reset original view",
         "home",
         "home"
        ],
        [
         "Back",
         "Back to previous view",
         "arrow-left",
         "back"
        ],
        [
         "Forward",
         "Forward to next view",
         "arrow-right",
         "forward"
        ],
        [
         "Pan",
         "Left button pans, Right button zooms\nx/y fixes axis, CTRL fixes aspect",
         "arrows",
         "pan"
        ],
        [
         "Zoom",
         "Zoom to rectangle\nx/y fixes axis, CTRL fixes aspect",
         "square-o",
         "zoom"
        ],
        [
         "Download",
         "Download plot",
         "floppy-o",
         "save_figure"
        ]
       ]
      }
     },
     "b26bec9e0ef04e5b89dd0bfc952e06ba": {
      "model_module": "@jupyter-widgets/base",
      "model_module_version": "1.2.0",
      "model_name": "LayoutModel",
      "state": {}
     },
     "b96e1429418c42a38dc0f56421544943": {
      "model_module": "jupyter-matplotlib",
      "model_module_version": "^0.9.0",
      "model_name": "ToolbarModel",
      "state": {
       "layout": "IPY_MODEL_4647ae70ba774d6e92656cedeb39fa6e",
       "toolitems": [
        [
         "Home",
         "Reset original view",
         "home",
         "home"
        ],
        [
         "Back",
         "Back to previous view",
         "arrow-left",
         "back"
        ],
        [
         "Forward",
         "Forward to next view",
         "arrow-right",
         "forward"
        ],
        [
         "Pan",
         "Left button pans, Right button zooms\nx/y fixes axis, CTRL fixes aspect",
         "arrows",
         "pan"
        ],
        [
         "Zoom",
         "Zoom to rectangle\nx/y fixes axis, CTRL fixes aspect",
         "square-o",
         "zoom"
        ],
        [
         "Download",
         "Download plot",
         "floppy-o",
         "save_figure"
        ]
       ]
      }
     },
     "c0d49ffe398f4d8e8b9953eb07bee363": {
      "model_module": "@jupyter-widgets/base",
      "model_module_version": "1.2.0",
      "model_name": "LayoutModel",
      "state": {}
     },
     "c2a859c58f1748d1bf136e7ad53c24c9": {
      "model_module": "jupyter-matplotlib",
      "model_module_version": "^0.9.0",
      "model_name": "ToolbarModel",
      "state": {
       "layout": "IPY_MODEL_9c6c381aec1343179ba7aab234737095",
       "toolitems": [
        [
         "Home",
         "Reset original view",
         "home",
         "home"
        ],
        [
         "Back",
         "Back to previous view",
         "arrow-left",
         "back"
        ],
        [
         "Forward",
         "Forward to next view",
         "arrow-right",
         "forward"
        ],
        [
         "Pan",
         "Left button pans, Right button zooms\nx/y fixes axis, CTRL fixes aspect",
         "arrows",
         "pan"
        ],
        [
         "Zoom",
         "Zoom to rectangle\nx/y fixes axis, CTRL fixes aspect",
         "square-o",
         "zoom"
        ],
        [
         "Download",
         "Download plot",
         "floppy-o",
         "save_figure"
        ]
       ]
      }
     },
     "c2b1a91763ff413186640b18222b6e84": {
      "model_module": "jupyter-matplotlib",
      "model_module_version": "^0.9.0",
      "model_name": "ToolbarModel",
      "state": {
       "layout": "IPY_MODEL_78aeda03de0e4c3791f8818208300d95",
       "toolitems": [
        [
         "Home",
         "Reset original view",
         "home",
         "home"
        ],
        [
         "Back",
         "Back to previous view",
         "arrow-left",
         "back"
        ],
        [
         "Forward",
         "Forward to next view",
         "arrow-right",
         "forward"
        ],
        [
         "Pan",
         "Left button pans, Right button zooms\nx/y fixes axis, CTRL fixes aspect",
         "arrows",
         "pan"
        ],
        [
         "Zoom",
         "Zoom to rectangle\nx/y fixes axis, CTRL fixes aspect",
         "square-o",
         "zoom"
        ],
        [
         "Download",
         "Download plot",
         "floppy-o",
         "save_figure"
        ]
       ]
      }
     },
     "c4856304a80a40b1bb73cf6c4393e0e0": {
      "model_module": "@jupyter-widgets/base",
      "model_module_version": "1.2.0",
      "model_name": "LayoutModel",
      "state": {}
     },
     "ceeff3dc05d94510bc778c9a0fbde835": {
      "model_module": "@jupyter-widgets/base",
      "model_module_version": "1.2.0",
      "model_name": "LayoutModel",
      "state": {}
     },
     "cfa8b36ce3a84a3eaabfacc18ce7cbb4": {
      "model_module": "@jupyter-widgets/base",
      "model_module_version": "1.2.0",
      "model_name": "LayoutModel",
      "state": {}
     },
     "e076ea340eaa469384cbf2e7a958ede1": {
      "model_module": "@jupyter-widgets/base",
      "model_module_version": "1.2.0",
      "model_name": "LayoutModel",
      "state": {}
     },
     "e0b6e77dde2a49f18b7e4c3d6a12ac35": {
      "model_module": "@jupyter-widgets/base",
      "model_module_version": "1.2.0",
      "model_name": "LayoutModel",
      "state": {}
     },
     "e3fb4193d844428ea581cf9a8937860e": {
      "model_module": "jupyter-matplotlib",
      "model_module_version": "^0.9.0",
      "model_name": "ToolbarModel",
      "state": {
       "layout": "IPY_MODEL_05585bfbf6ba412a98c6ecd30d19e36a",
       "toolitems": [
        [
         "Home",
         "Reset original view",
         "home",
         "home"
        ],
        [
         "Back",
         "Back to previous view",
         "arrow-left",
         "back"
        ],
        [
         "Forward",
         "Forward to next view",
         "arrow-right",
         "forward"
        ],
        [
         "Pan",
         "Left button pans, Right button zooms\nx/y fixes axis, CTRL fixes aspect",
         "arrows",
         "pan"
        ],
        [
         "Zoom",
         "Zoom to rectangle\nx/y fixes axis, CTRL fixes aspect",
         "square-o",
         "zoom"
        ],
        [
         "Download",
         "Download plot",
         "floppy-o",
         "save_figure"
        ]
       ]
      }
     },
     "f1f4560eed5149cfbe827aebc2497f34": {
      "model_module": "jupyter-matplotlib",
      "model_module_version": "^0.9.0",
      "model_name": "ToolbarModel",
      "state": {
       "layout": "IPY_MODEL_e076ea340eaa469384cbf2e7a958ede1",
       "toolitems": [
        [
         "Home",
         "Reset original view",
         "home",
         "home"
        ],
        [
         "Back",
         "Back to previous view",
         "arrow-left",
         "back"
        ],
        [
         "Forward",
         "Forward to next view",
         "arrow-right",
         "forward"
        ],
        [
         "Pan",
         "Left button pans, Right button zooms\nx/y fixes axis, CTRL fixes aspect",
         "arrows",
         "pan"
        ],
        [
         "Zoom",
         "Zoom to rectangle\nx/y fixes axis, CTRL fixes aspect",
         "square-o",
         "zoom"
        ],
        [
         "Download",
         "Download plot",
         "floppy-o",
         "save_figure"
        ]
       ]
      }
     },
     "fc5564cfa7224641ac09c0f303cafc0d": {
      "model_module": "@jupyter-widgets/base",
      "model_module_version": "1.2.0",
      "model_name": "LayoutModel",
      "state": {}
     },
     "fd5286d0d64447059b70922df5b5bda4": {
      "model_module": "@jupyter-widgets/base",
      "model_module_version": "1.2.0",
      "model_name": "LayoutModel",
      "state": {}
     },
     "ff04274231d4474496b76f7377c8c6f9": {
      "model_module": "@jupyter-widgets/base",
      "model_module_version": "1.2.0",
      "model_name": "LayoutModel",
      "state": {}
     }
    },
    "version_major": 2,
    "version_minor": 0
   }
  }
 },
 "nbformat": 4,
 "nbformat_minor": 5
}
