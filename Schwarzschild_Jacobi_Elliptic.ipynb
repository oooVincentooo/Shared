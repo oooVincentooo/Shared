{
 "cells": [
  {
   "cell_type": "markdown",
   "id": "edfa5ba5",
   "metadata": {},
   "source": [
    "## Trajectory of Light Signal using Jacobi’s Elliptic Function.\n",
    "\n",
    "\n",
    "This workbook describes the: Trajectory of Light Signal using Jacobi’s Elliptic Function. The light deflection arround the sun is determined. \n",
    "\n",
    "The theory behind the method is found in paper: 'Equations of Orbits, Deflection of Light, Mercury’s Perihelion Shift, Period of Revolution and Time Delay of Signals in Schwarzchild’s Geometry. Some closed-form solutions using Weinberg’s approach. New Version (19/08/2016) Solomon M. Antoniou'. [Researchgate](https://www.researchgate.net/publication/306379858_Equations_of_Orbits_Deflection_of_Light_Mercury%27s_Perihelion_Shift_Period_of_Revolution_and_Time_Delay_of_Signals_in_Schwarzchild%27s_Geometry_Some_closed-form_solutions_using_Weinberg%27s_approach)\n",
    "\n",
    "This project was started based upon a topic on: [Wetenschapsforum](https://www.wetenschapsforum.nl/viewtopic.php?f=85&t=212427) by: Professor Puntje, CoenCo and oooVincentooo. \n",
    "\n",
    "Here follows a summary of the result found on forum Wetenschapsforum. The mean set of formulas required are found in article:\n",
    "\n",
    "$$e_1 = \\frac{r_0 - r_s + \\sqrt{(r_0 - r_s)(r_0 + 3r_s)}}{2 r_s r_0} \\tag{1}$$\n",
    "\n",
    "$$e_2 = \\frac{1}{r_0} \\tag{2}$$\n",
    "\n",
    "$$e_3 = \\frac{r_0 - r_s - \\sqrt{(r_0 - r_s)(r_0 + 3r_s)}}{2 r_s r_0}  \\tag{3}$$\n",
    "\n",
    "$$\\tau = \\sqrt{ \\frac{ r_s (e_1 - e_3)}{ 4 }}  \\tag{4}$$\n",
    "\n",
    "$$h = \\sqrt{ \\frac{ e_2 - e_3}{ e_1 - e_3 }}  \\tag{5}$$\n",
    "\n",
    "$$r = \\frac{1}{ e_3 + (e_2 - e_3) \\mathrm{sn}^2( \\tau \\varphi + \\sigma ; h^2)}  \\tag{6}$$\n",
    "\n",
    "Start conditions for $r=r_{0}$ at $\\varphi=\\pi/2$ determine $\\sigma$ substitude $(2)$:\n",
    "\n",
    "$$r_{0} = \\frac{1}{ e_3 + (e_2 - e_3) \\mathrm{sn}^2( \\tau \\frac{\\pi}{2} + \\sigma ; h^2)}=\\frac{1}{e_2}  \\tag{7}$$\n",
    "\n",
    "After simplification:\n",
    "\n",
    "$$\\mathrm{sn}^2( \\tau \\frac{\\pi}{2} + \\sigma ; h^2) = 1 \\tag{8}$$\n",
    "\n",
    "Where $\\tau$ and $h^2$ are given and $\\sigma$ can be solved with elliptic integral. \n",
    "\n",
    "Not all solutions are valid. The $x$-range is found by searching the roots of $(6)$. \n",
    "\n",
    "$$e_3 + (e_2 - e_3) \\mathrm{sn}^2( \\tau \\varphi + \\sigma ; h^2) = 0   \\tag{9}$$\n",
    "\n",
    "The roots are found by using method Newton-Rapson.\n"
   ]
  },
  {
   "cell_type": "code",
   "execution_count": 57,
   "id": "7448a161",
   "metadata": {},
   "outputs": [
    {
     "data": {
      "application/vnd.jupyter.widget-view+json": {
       "model_id": "9083acfde2a749f0862a7f5173159ff0",
       "version_major": 2,
       "version_minor": 0
      },
      "text/plain": [
       "Canvas(toolbar=Toolbar(toolitems=[('Home', 'Reset original view', 'home', 'home'), ('Back', 'Back to previous …"
      ]
     },
     "metadata": {},
     "output_type": "display_data"
    }
   ],
   "source": [
    "#Version 14.0 Schwarzschild, Jacobi Elliptic\n",
    "#https://www.wetenschapsforum.nl/viewtopic.php?f=85&t=212427\n",
    "\n",
    "#Open pyplot in separate interactive window\n",
    "#from IPython import get_ipython\n",
    "#get_ipython().run_line_magic('matplotlib', 'qt4')\n",
    "\n",
    "import numpy as np\n",
    "import matplotlib.pyplot as plt\n",
    "import matplotlib.gridspec as gridspec\n",
    "import scipy.special as sps\n",
    "from scipy import optimize\n",
    "from matplotlib.widgets import Slider, CheckButtons    \n",
    "\n",
    "\n",
    "%matplotlib widget\n",
    "\n",
    "fig= plt.figure(figsize=(9, 5))  \n",
    "widths = [5, 5, 5]\n",
    "heights = [5, 1]\n",
    "spec = gridspec.GridSpec(ncols=3, nrows=2, figure=fig,width_ratios=widths, height_ratios=heights)\n",
    "\n",
    "ax1 = fig.add_subplot(spec[0, 0])\n",
    "ax2 = fig.add_subplot(spec[0, 1])\n",
    "ax3 = fig.add_subplot(spec[0, 2])  \n",
    "\n",
    "\n",
    "plt.suptitle('Schwarzschild, Jacobi Elliptic', fontsize=12)\n",
    "#plt.tight_layout()\n",
    "#spec.tight_layout(fig)\n",
    "fig.set_tight_layout(True)\n",
    "\n",
    "# Draw slider alpha\n",
    "axcolor = 'lightgoldenrodyellow'\n",
    "axalpha = plt.axes([0.25, 0.01,0.4, 0.04], facecolor=axcolor)\n",
    "s_zoom = Slider(axalpha, 'zoom: ', 0, 1, valinit=1)\n",
    "\n",
    "axsm = plt.axes([0.25, 0.06,0.4, 0.04], facecolor=axcolor)\n",
    "s_sm = Slider(axsm, 'solar masses: ', 1,100000, valinit=1)\n",
    "\n",
    "radius = plt.axes([0.25, 0.11,0.4, 0.04], facecolor=axcolor)\n",
    "s_sr = Slider(radius, 'radius: ', 0.1, 5, valinit=1)\n",
    "\n",
    "rax = plt.axes([0.75, 0.01, 0.075, 0.14])\n",
    "check = CheckButtons(rax, ('x=y', 'sun'), (False, False))\n",
    "\n",
    "#Set constants note G is divided by c^2    \n",
    "global M\n",
    "global G\n",
    "global Ro\n",
    "\n",
    "M=1.989e30\n",
    "G=6.67408e-11/((3e8)**2)\n",
    "Ro=696340000\n",
    "\n",
    "def e1(sm,sr):\n",
    "    esqrt=np.sqrt((sr*Ro-sm*2*M*G)*(sr*Ro+sm*6*M*G))\n",
    "    e1=(sr*Ro-sm*2*M*G+esqrt)/(sm*4*M*G*sr*Ro)\n",
    "    return e1\n",
    "\n",
    "def e2(sr):\n",
    "    e2=1/(sr*Ro)\n",
    "    return e2\n",
    "\n",
    "def e3(sm,sr):\n",
    "    esqrt=np.sqrt((sr*Ro-sm*2*M*G)*(sr*Ro+sm*6*M*G))\n",
    "    e3=(sr*Ro-sm*2*M*G-esqrt)/(sm*4*M*G*sr*Ro)\n",
    "    return e3   \n",
    "    \n",
    "def r(phi):\n",
    "    sm = s_sm.val\n",
    "    sr = s_sr.val\n",
    "     \n",
    "    e1v=e1(sm,sr)\n",
    "    e2v=e2(sr)\n",
    "    e3v=e3(sm,sr)\n",
    "        \n",
    "    tau=np.sqrt(sm*M*G*(e1v-e3v)/2)\n",
    "    h = (e2v-e3v)/(e1v-e3v)\n",
    "    sigma = -tau*np.pi/2 - sps.ellipk(h)   \n",
    "    sn,_,_,_=sps.ellipj(tau*phi+sigma, h)\n",
    "    r=e3v+(e2v-e3v)*sn**2\n",
    "    return r\n",
    "\n",
    "#The following function updateplot runs whenever slider changes value\n",
    "def updateplot(val):\n",
    "    \n",
    "    clearsetplot()\n",
    "\n",
    "    #Solar masses/radius and magnification alpha\n",
    "    zoom = s_zoom.val\n",
    "    sm = s_sm.val\n",
    "    sr = s_sr.val\n",
    "\n",
    "    #Find root angle for non-solutions\n",
    "    root = optimize.newton(r,0)\n",
    "    alphamax =np.abs(root) # beveiliging tegen singulariteiten\n",
    "\n",
    "    #Set angle range and calculate radius\n",
    "    phi= np.linspace(alphamax/2,np.pi-alphamax/2,500)\n",
    "    phi=phi[int(0.5*(1-zoom)*500):int(0.5*(1+zoom)*500)]\n",
    "   \n",
    "    rv=1/r(phi)\n",
    "    \n",
    "    x=rv*np.cos(phi)\n",
    "    y=rv*np.sin(phi)\n",
    "    \n",
    "    #plot lightpath curve\n",
    "    ax1.plot(x,y)\n",
    "    ax1.grid()\n",
    "            \n",
    "    #Angular Deflection\n",
    "    dx=np.diff(x)\n",
    "    dy=np.diff(y)\n",
    "    dydx=dy/dx\n",
    "    da=np.arctan(dydx)\n",
    "    dam=np.max(da)\n",
    "    ax2.plot(x[:-1],-da)\n",
    "    ax2.grid()\n",
    "    \n",
    "    #Angular Distribution\n",
    "    ddy=np.diff(da)\n",
    "    ddydx=ddy/dx[:-1]\n",
    "    ax3.plot(x[:-2],-ddydx)        \n",
    "    ax3.grid()       \n",
    "     \n",
    "    text=(  str('{:10.6f}'.format(dam))      +   ' $[rad]$\\n' +\n",
    "            str('{:10.6f}'.format(np.degrees(dam)))      +   '$^{\\circ}$\\n' +\n",
    "            str('{:10.6f}'.format(np.degrees(dam)*3600)) +  \"$''$\")\n",
    "    ax1.text(0.01, 0.8,text, transform=ax1.transAxes, fontsize=10)\n",
    "    \n",
    "    #scaling method and draw sun\n",
    "    plotoptions(x,y,sr)\n",
    "    fig.canvas.draw_idle()\n",
    "\n",
    "    \n",
    "#This function set scaling axis and drawes sun\n",
    "def plotoptions(x,y,sr):\n",
    "    i=0\n",
    "    for r in check.get_status():\n",
    "       \n",
    "        if i==0:\n",
    "            #Set scaling auto or equal\n",
    "            if r==False:\n",
    "                ax1.axis('auto')\n",
    "                range=np.max(y)-np.min(y)\n",
    "                ax1.set_ylim([np.min(y)-range*2/100,np.max(y)+range*2/100])\n",
    "                range=np.max(x)-np.min(x)\n",
    "                ax1.set_xlim([-np.max(x)-range*2/100,np.max(x)]+range*2/100)\n",
    "                ax2.set_xlim([-np.max(x)-range*2/100,np.max(x)]+range*2/100)\n",
    "                ax3.set_xlim([-np.max(x)-range*2/100,np.max(x)]+range*2/100)\n",
    "                \n",
    "                \n",
    "            else:\n",
    "                ax1.axis('equal')\n",
    "                range=np.max(x)-np.min(x)\n",
    "                ax1.set_xlim([-np.max(x)-range*2/100,np.max(x)]+range*2/100)\n",
    "                ax2.set_xlim([-np.max(x)-range*2/100,np.max(x)]+range*2/100)\n",
    "                ax3.set_xlim([-np.max(x)-range*2/100,np.max(x)]+range*2/100)\n",
    "                                \n",
    "        if i==1:\n",
    "            #Draw Sun yes/no\n",
    "              if r==True:\n",
    "                circle=plt.Circle((0,0),Ro, color='orange',label='Label')\n",
    "                ax1.add_patch(circle)\n",
    "                \n",
    "                circle=plt.Circle((0,0),sr*Ro,fill=False, ls='--',ec='black')\n",
    "                ax1.add_patch(circle)\n",
    "                \n",
    "        i=i+1\n",
    "\n",
    "def clearsetplot():\n",
    "    ax1.clear()\n",
    "    ax1.set_title('Light Path', fontsize=10, pad=15)\n",
    "    ax1.set_xlabel('x [m]', fontsize=10)\n",
    "    ax1.set_ylabel('y [m]', fontsize=10)\n",
    "    ax1.ticklabel_format(axis='both', style='sci', scilimits=(0,0))\n",
    "    \n",
    "    ax2.clear()\n",
    "    ax2.set_title('Angular Deflection', fontsize=10, pad=15)\n",
    "    ax2.set_xlabel('x [m]', fontsize=10)\n",
    "    ax2.set_ylabel('deflection angle  [rad]', fontsize=10)\n",
    "    ax2.ticklabel_format(axis='both', style='sci', scilimits=(0,0))\n",
    "    \n",
    "    ax3.clear()\n",
    "    ax3.set_title('Angular Distribution', fontsize=10, pad=15)\n",
    "    ax3.set_xlabel('x [m]', fontsize=10)\n",
    "    ax3.set_ylabel('angular change [rad/m]', fontsize=10)\n",
    "    ax3.ticklabel_format(axis='both', style='sci', scilimits=(0,0))\n",
    "\n",
    "#Display plot n startup.\n",
    "updateplot(1)\n",
    "\n",
    "#The following code checkes if slider changes. This line is looped automatic by pyplot\n",
    "s_sm.on_changed(updateplot);\n",
    "s_sr.on_changed(updateplot);\n",
    "s_zoom.on_changed(updateplot);\n",
    "check.on_clicked(updateplot);"
   ]
  },
  {
   "cell_type": "code",
   "execution_count": null,
   "id": "402b17ba-f09b-483f-9ebf-5480a3030e62",
   "metadata": {},
   "outputs": [],
   "source": []
  }
 ],
 "metadata": {
  "kernelspec": {
   "display_name": "Python 3",
   "language": "python",
   "name": "python3"
  },
  "language_info": {
   "codemirror_mode": {
    "name": "ipython",
    "version": 3
   },
   "file_extension": ".py",
   "mimetype": "text/x-python",
   "name": "python",
   "nbconvert_exporter": "python",
   "pygments_lexer": "ipython3",
   "version": "3.8.10"
  },
  "widgets": {
   "application/vnd.jupyter.widget-state+json": {
    "state": {
     "00a89eb5d2614f23bf3165f2a63efa93": {
      "model_module": "jupyter-matplotlib",
      "model_module_version": "^0.9.0",
      "model_name": "ToolbarModel",
      "state": {
       "layout": "IPY_MODEL_2f3d3ef282974a0696221dbfacaa8bc4",
       "toolitems": [
        [
         "Home",
         "Reset original view",
         "home",
         "home"
        ],
        [
         "Back",
         "Back to previous view",
         "arrow-left",
         "back"
        ],
        [
         "Forward",
         "Forward to next view",
         "arrow-right",
         "forward"
        ],
        [
         "Pan",
         "Left button pans, Right button zooms\nx/y fixes axis, CTRL fixes aspect",
         "arrows",
         "pan"
        ],
        [
         "Zoom",
         "Zoom to rectangle\nx/y fixes axis, CTRL fixes aspect",
         "square-o",
         "zoom"
        ],
        [
         "Download",
         "Download plot",
         "floppy-o",
         "save_figure"
        ]
       ]
      }
     },
     "0ef5d521994548528c9e012632ba00e6": {
      "model_module": "@jupyter-widgets/base",
      "model_module_version": "1.2.0",
      "model_name": "LayoutModel",
      "state": {}
     },
     "1bffa6c990124017ba76082c4d99d0ff": {
      "model_module": "@jupyter-widgets/base",
      "model_module_version": "1.2.0",
      "model_name": "LayoutModel",
      "state": {}
     },
     "2416acfbc8724dd2bdd419afd3da3c4d": {
      "model_module": "jupyter-matplotlib",
      "model_module_version": "^0.9.0",
      "model_name": "ToolbarModel",
      "state": {
       "layout": "IPY_MODEL_93f71957c91849798d27a260d1240c31",
       "toolitems": [
        [
         "Home",
         "Reset original view",
         "home",
         "home"
        ],
        [
         "Back",
         "Back to previous view",
         "arrow-left",
         "back"
        ],
        [
         "Forward",
         "Forward to next view",
         "arrow-right",
         "forward"
        ],
        [
         "Pan",
         "Left button pans, Right button zooms\nx/y fixes axis, CTRL fixes aspect",
         "arrows",
         "pan"
        ],
        [
         "Zoom",
         "Zoom to rectangle\nx/y fixes axis, CTRL fixes aspect",
         "square-o",
         "zoom"
        ],
        [
         "Download",
         "Download plot",
         "floppy-o",
         "save_figure"
        ]
       ]
      }
     },
     "25436084911644fcb378a6f5d88727af": {
      "model_module": "@jupyter-widgets/base",
      "model_module_version": "1.2.0",
      "model_name": "LayoutModel",
      "state": {}
     },
     "267cdd08782a4cdbbdfc59125c4df74d": {
      "model_module": "jupyter-matplotlib",
      "model_module_version": "^0.9.0",
      "model_name": "ToolbarModel",
      "state": {
       "layout": "IPY_MODEL_d7eca0a993814a15b1be7e81a00b7bdb",
       "toolitems": [
        [
         "Home",
         "Reset original view",
         "home",
         "home"
        ],
        [
         "Back",
         "Back to previous view",
         "arrow-left",
         "back"
        ],
        [
         "Forward",
         "Forward to next view",
         "arrow-right",
         "forward"
        ],
        [
         "Pan",
         "Left button pans, Right button zooms\nx/y fixes axis, CTRL fixes aspect",
         "arrows",
         "pan"
        ],
        [
         "Zoom",
         "Zoom to rectangle\nx/y fixes axis, CTRL fixes aspect",
         "square-o",
         "zoom"
        ],
        [
         "Download",
         "Download plot",
         "floppy-o",
         "save_figure"
        ]
       ]
      }
     },
     "29820348e9ee47cebf2c2e752224bfd1": {
      "model_module": "@jupyter-widgets/base",
      "model_module_version": "1.2.0",
      "model_name": "LayoutModel",
      "state": {}
     },
     "2ae8195741b246ab8e1a766f2da1a5ba": {
      "model_module": "jupyter-matplotlib",
      "model_module_version": "^0.9.0",
      "model_name": "ToolbarModel",
      "state": {
       "layout": "IPY_MODEL_aa6202a62d1b45e78af16d0f28de0463",
       "toolitems": [
        [
         "Home",
         "Reset original view",
         "home",
         "home"
        ],
        [
         "Back",
         "Back to previous view",
         "arrow-left",
         "back"
        ],
        [
         "Forward",
         "Forward to next view",
         "arrow-right",
         "forward"
        ],
        [
         "Pan",
         "Left button pans, Right button zooms\nx/y fixes axis, CTRL fixes aspect",
         "arrows",
         "pan"
        ],
        [
         "Zoom",
         "Zoom to rectangle\nx/y fixes axis, CTRL fixes aspect",
         "square-o",
         "zoom"
        ],
        [
         "Download",
         "Download plot",
         "floppy-o",
         "save_figure"
        ]
       ]
      }
     },
     "2f3d3ef282974a0696221dbfacaa8bc4": {
      "model_module": "@jupyter-widgets/base",
      "model_module_version": "1.2.0",
      "model_name": "LayoutModel",
      "state": {}
     },
     "30513e00343443e28de9854a29f3d46a": {
      "model_module": "@jupyter-widgets/base",
      "model_module_version": "1.2.0",
      "model_name": "LayoutModel",
      "state": {}
     },
     "560c4d8ded554abd8be6895c3b7e3225": {
      "model_module": "@jupyter-widgets/base",
      "model_module_version": "1.2.0",
      "model_name": "LayoutModel",
      "state": {}
     },
     "6b3722b6f3744d50a09c7f2d1eb4feb6": {
      "model_module": "jupyter-matplotlib",
      "model_module_version": "^0.9.0",
      "model_name": "MPLCanvasModel",
      "state": {
       "_cursor": "default",
       "_figure_label": "Figure 1",
       "_height": 600,
       "_message": "x=2.79e+13 y=1.10e−15",
       "_width": 1000,
       "layout": "IPY_MODEL_dc90fb19149a4a1a8024333cffad1567",
       "toolbar": "IPY_MODEL_db0d44601ca24c1799de46fb5f4df59c",
       "toolbar_position": "left"
      }
     },
     "6bfbbebe43a745878c7c6e9e0146f2a8": {
      "model_module": "jupyter-matplotlib",
      "model_module_version": "^0.9.0",
      "model_name": "ToolbarModel",
      "state": {
       "layout": "IPY_MODEL_f70ed2ec6b2244ecbde16f39df1a3507",
       "toolitems": [
        [
         "Home",
         "Reset original view",
         "home",
         "home"
        ],
        [
         "Back",
         "Back to previous view",
         "arrow-left",
         "back"
        ],
        [
         "Forward",
         "Forward to next view",
         "arrow-right",
         "forward"
        ],
        [
         "Pan",
         "Left button pans, Right button zooms\nx/y fixes axis, CTRL fixes aspect",
         "arrows",
         "pan"
        ],
        [
         "Zoom",
         "Zoom to rectangle\nx/y fixes axis, CTRL fixes aspect",
         "square-o",
         "zoom"
        ],
        [
         "Download",
         "Download plot",
         "floppy-o",
         "save_figure"
        ]
       ]
      }
     },
     "7a243f76ff6c4326886eb9c02826ac6f": {
      "model_module": "@jupyter-widgets/base",
      "model_module_version": "1.2.0",
      "model_name": "LayoutModel",
      "state": {}
     },
     "7b69ae5cd70746529d3c2ffadfb1c479": {
      "model_module": "@jupyter-widgets/base",
      "model_module_version": "1.2.0",
      "model_name": "LayoutModel",
      "state": {}
     },
     "7fa191affa764b2cacd37653d00d6287": {
      "model_module": "@jupyter-widgets/base",
      "model_module_version": "1.2.0",
      "model_name": "LayoutModel",
      "state": {}
     },
     "81cf3d268a644691b94949158acef1a5": {
      "model_module": "jupyter-matplotlib",
      "model_module_version": "^0.9.0",
      "model_name": "ToolbarModel",
      "state": {
       "layout": "IPY_MODEL_30513e00343443e28de9854a29f3d46a",
       "toolitems": [
        [
         "Home",
         "Reset original view",
         "home",
         "home"
        ],
        [
         "Back",
         "Back to previous view",
         "arrow-left",
         "back"
        ],
        [
         "Forward",
         "Forward to next view",
         "arrow-right",
         "forward"
        ],
        [
         "Pan",
         "Left button pans, Right button zooms\nx/y fixes axis, CTRL fixes aspect",
         "arrows",
         "pan"
        ],
        [
         "Zoom",
         "Zoom to rectangle\nx/y fixes axis, CTRL fixes aspect",
         "square-o",
         "zoom"
        ],
        [
         "Download",
         "Download plot",
         "floppy-o",
         "save_figure"
        ]
       ]
      }
     },
     "82935cdba7a34ebaa2bba1826f9bd6d9": {
      "model_module": "@jupyter-widgets/base",
      "model_module_version": "1.2.0",
      "model_name": "LayoutModel",
      "state": {}
     },
     "866d84c1400d4041bbd44bc49ef44a11": {
      "model_module": "@jupyter-widgets/base",
      "model_module_version": "1.2.0",
      "model_name": "LayoutModel",
      "state": {}
     },
     "869d3667c3054a3d9f38e7aadea27d7b": {
      "model_module": "jupyter-matplotlib",
      "model_module_version": "^0.9.0",
      "model_name": "ToolbarModel",
      "state": {
       "layout": "IPY_MODEL_f9f3a4a29ccc49018453f4f43736f04a",
       "toolitems": [
        [
         "Home",
         "Reset original view",
         "home",
         "home"
        ],
        [
         "Back",
         "Back to previous view",
         "arrow-left",
         "back"
        ],
        [
         "Forward",
         "Forward to next view",
         "arrow-right",
         "forward"
        ],
        [
         "Pan",
         "Left button pans, Right button zooms\nx/y fixes axis, CTRL fixes aspect",
         "arrows",
         "pan"
        ],
        [
         "Zoom",
         "Zoom to rectangle\nx/y fixes axis, CTRL fixes aspect",
         "square-o",
         "zoom"
        ],
        [
         "Download",
         "Download plot",
         "floppy-o",
         "save_figure"
        ]
       ]
      }
     },
     "87e8fe8955ad41cbb49f2938ad200567": {
      "model_module": "@jupyter-widgets/base",
      "model_module_version": "1.2.0",
      "model_name": "LayoutModel",
      "state": {}
     },
     "8a8218adfb234d6bbe7133cdb1ce4730": {
      "model_module": "jupyter-matplotlib",
      "model_module_version": "^0.9.0",
      "model_name": "ToolbarModel",
      "state": {
       "layout": "IPY_MODEL_87e8fe8955ad41cbb49f2938ad200567",
       "toolitems": [
        [
         "Home",
         "Reset original view",
         "home",
         "home"
        ],
        [
         "Back",
         "Back to previous view",
         "arrow-left",
         "back"
        ],
        [
         "Forward",
         "Forward to next view",
         "arrow-right",
         "forward"
        ],
        [
         "Pan",
         "Left button pans, Right button zooms\nx/y fixes axis, CTRL fixes aspect",
         "arrows",
         "pan"
        ],
        [
         "Zoom",
         "Zoom to rectangle\nx/y fixes axis, CTRL fixes aspect",
         "square-o",
         "zoom"
        ],
        [
         "Download",
         "Download plot",
         "floppy-o",
         "save_figure"
        ]
       ]
      }
     },
     "8fde3141ac044bafbcde0422c8a748c5": {
      "model_module": "@jupyter-widgets/base",
      "model_module_version": "1.2.0",
      "model_name": "LayoutModel",
      "state": {}
     },
     "93f71957c91849798d27a260d1240c31": {
      "model_module": "@jupyter-widgets/base",
      "model_module_version": "1.2.0",
      "model_name": "LayoutModel",
      "state": {}
     },
     "99405549b64746b1bbec6eec109c27f9": {
      "model_module": "jupyter-matplotlib",
      "model_module_version": "^0.9.0",
      "model_name": "ToolbarModel",
      "state": {
       "layout": "IPY_MODEL_560c4d8ded554abd8be6895c3b7e3225",
       "toolitems": [
        [
         "Home",
         "Reset original view",
         "home",
         "home"
        ],
        [
         "Back",
         "Back to previous view",
         "arrow-left",
         "back"
        ],
        [
         "Forward",
         "Forward to next view",
         "arrow-right",
         "forward"
        ],
        [
         "Pan",
         "Left button pans, Right button zooms\nx/y fixes axis, CTRL fixes aspect",
         "arrows",
         "pan"
        ],
        [
         "Zoom",
         "Zoom to rectangle\nx/y fixes axis, CTRL fixes aspect",
         "square-o",
         "zoom"
        ],
        [
         "Download",
         "Download plot",
         "floppy-o",
         "save_figure"
        ]
       ]
      }
     },
     "9fa209064c4a4ed099e08e7295826e4f": {
      "model_module": "@jupyter-widgets/base",
      "model_module_version": "1.2.0",
      "model_name": "LayoutModel",
      "state": {}
     },
     "a3a6bdba28594e7e887b36a56720d15f": {
      "model_module": "jupyter-matplotlib",
      "model_module_version": "^0.9.0",
      "model_name": "ToolbarModel",
      "state": {
       "layout": "IPY_MODEL_82935cdba7a34ebaa2bba1826f9bd6d9",
       "toolitems": [
        [
         "Home",
         "Reset original view",
         "home",
         "home"
        ],
        [
         "Back",
         "Back to previous view",
         "arrow-left",
         "back"
        ],
        [
         "Forward",
         "Forward to next view",
         "arrow-right",
         "forward"
        ],
        [
         "Pan",
         "Left button pans, Right button zooms\nx/y fixes axis, CTRL fixes aspect",
         "arrows",
         "pan"
        ],
        [
         "Zoom",
         "Zoom to rectangle\nx/y fixes axis, CTRL fixes aspect",
         "square-o",
         "zoom"
        ],
        [
         "Download",
         "Download plot",
         "floppy-o",
         "save_figure"
        ]
       ]
      }
     },
     "a3f0141b52a247c7a7e3c24abb9a7f3c": {
      "model_module": "@jupyter-widgets/base",
      "model_module_version": "1.2.0",
      "model_name": "LayoutModel",
      "state": {}
     },
     "aa6202a62d1b45e78af16d0f28de0463": {
      "model_module": "@jupyter-widgets/base",
      "model_module_version": "1.2.0",
      "model_name": "LayoutModel",
      "state": {}
     },
     "c53222a0483f4b6ca8a53214ea385dea": {
      "model_module": "@jupyter-widgets/base",
      "model_module_version": "1.2.0",
      "model_name": "LayoutModel",
      "state": {}
     },
     "cb1c2ca979c84b49828e1fbd7f1d43a7": {
      "model_module": "@jupyter-widgets/base",
      "model_module_version": "1.2.0",
      "model_name": "LayoutModel",
      "state": {}
     },
     "cfce8f44aa44432f9237ef3e58b1be6f": {
      "model_module": "jupyter-matplotlib",
      "model_module_version": "^0.9.0",
      "model_name": "ToolbarModel",
      "state": {
       "layout": "IPY_MODEL_ebc491f00b2149668a1b89b16b43e70a",
       "toolitems": [
        [
         "Home",
         "Reset original view",
         "home",
         "home"
        ],
        [
         "Back",
         "Back to previous view",
         "arrow-left",
         "back"
        ],
        [
         "Forward",
         "Forward to next view",
         "arrow-right",
         "forward"
        ],
        [
         "Pan",
         "Left button pans, Right button zooms\nx/y fixes axis, CTRL fixes aspect",
         "arrows",
         "pan"
        ],
        [
         "Zoom",
         "Zoom to rectangle\nx/y fixes axis, CTRL fixes aspect",
         "square-o",
         "zoom"
        ],
        [
         "Download",
         "Download plot",
         "floppy-o",
         "save_figure"
        ]
       ]
      }
     },
     "d3ea6715404e41e9874e901d4e7da60f": {
      "model_module": "jupyter-matplotlib",
      "model_module_version": "^0.9.0",
      "model_name": "ToolbarModel",
      "state": {
       "layout": "IPY_MODEL_9fa209064c4a4ed099e08e7295826e4f",
       "toolitems": [
        [
         "Home",
         "Reset original view",
         "home",
         "home"
        ],
        [
         "Back",
         "Back to previous view",
         "arrow-left",
         "back"
        ],
        [
         "Forward",
         "Forward to next view",
         "arrow-right",
         "forward"
        ],
        [
         "Pan",
         "Left button pans, Right button zooms\nx/y fixes axis, CTRL fixes aspect",
         "arrows",
         "pan"
        ],
        [
         "Zoom",
         "Zoom to rectangle\nx/y fixes axis, CTRL fixes aspect",
         "square-o",
         "zoom"
        ],
        [
         "Download",
         "Download plot",
         "floppy-o",
         "save_figure"
        ]
       ]
      }
     },
     "d7eca0a993814a15b1be7e81a00b7bdb": {
      "model_module": "@jupyter-widgets/base",
      "model_module_version": "1.2.0",
      "model_name": "LayoutModel",
      "state": {}
     },
     "d89cc8d8d9754bfdb750674d15b0d3f4": {
      "model_module": "@jupyter-widgets/base",
      "model_module_version": "1.2.0",
      "model_name": "LayoutModel",
      "state": {}
     },
     "db0d44601ca24c1799de46fb5f4df59c": {
      "model_module": "jupyter-matplotlib",
      "model_module_version": "^0.9.0",
      "model_name": "ToolbarModel",
      "state": {
       "layout": "IPY_MODEL_866d84c1400d4041bbd44bc49ef44a11",
       "toolitems": [
        [
         "Home",
         "Reset original view",
         "home",
         "home"
        ],
        [
         "Back",
         "Back to previous view",
         "arrow-left",
         "back"
        ],
        [
         "Forward",
         "Forward to next view",
         "arrow-right",
         "forward"
        ],
        [
         "Pan",
         "Left button pans, Right button zooms\nx/y fixes axis, CTRL fixes aspect",
         "arrows",
         "pan"
        ],
        [
         "Zoom",
         "Zoom to rectangle\nx/y fixes axis, CTRL fixes aspect",
         "square-o",
         "zoom"
        ],
        [
         "Download",
         "Download plot",
         "floppy-o",
         "save_figure"
        ]
       ]
      }
     },
     "dc90fb19149a4a1a8024333cffad1567": {
      "model_module": "@jupyter-widgets/base",
      "model_module_version": "1.2.0",
      "model_name": "LayoutModel",
      "state": {}
     },
     "dcb3c53f7f54455da3f0328b34abb2d8": {
      "model_module": "jupyter-matplotlib",
      "model_module_version": "^0.9.0",
      "model_name": "ToolbarModel",
      "state": {
       "layout": "IPY_MODEL_7fa191affa764b2cacd37653d00d6287",
       "toolitems": [
        [
         "Home",
         "Reset original view",
         "home",
         "home"
        ],
        [
         "Back",
         "Back to previous view",
         "arrow-left",
         "back"
        ],
        [
         "Forward",
         "Forward to next view",
         "arrow-right",
         "forward"
        ],
        [
         "Pan",
         "Left button pans, Right button zooms\nx/y fixes axis, CTRL fixes aspect",
         "arrows",
         "pan"
        ],
        [
         "Zoom",
         "Zoom to rectangle\nx/y fixes axis, CTRL fixes aspect",
         "square-o",
         "zoom"
        ],
        [
         "Download",
         "Download plot",
         "floppy-o",
         "save_figure"
        ]
       ]
      }
     },
     "eadeebbf1452499ea0facfd3af255b9e": {
      "model_module": "@jupyter-widgets/base",
      "model_module_version": "1.2.0",
      "model_name": "LayoutModel",
      "state": {}
     },
     "ebc491f00b2149668a1b89b16b43e70a": {
      "model_module": "@jupyter-widgets/base",
      "model_module_version": "1.2.0",
      "model_name": "LayoutModel",
      "state": {}
     },
     "f03d203b871e43e080dbdf2bdddd8503": {
      "model_module": "@jupyter-widgets/base",
      "model_module_version": "1.2.0",
      "model_name": "LayoutModel",
      "state": {}
     },
     "f70ed2ec6b2244ecbde16f39df1a3507": {
      "model_module": "@jupyter-widgets/base",
      "model_module_version": "1.2.0",
      "model_name": "LayoutModel",
      "state": {}
     },
     "f9f3a4a29ccc49018453f4f43736f04a": {
      "model_module": "@jupyter-widgets/base",
      "model_module_version": "1.2.0",
      "model_name": "LayoutModel",
      "state": {}
     }
    },
    "version_major": 2,
    "version_minor": 0
   }
  }
 },
 "nbformat": 4,
 "nbformat_minor": 5
}
