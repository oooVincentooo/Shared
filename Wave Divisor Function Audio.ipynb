{
 "cells": [
  {
   "cell_type": "markdown",
   "metadata": {},
   "source": [
    "# Fourier Transform Wave Divisor Function.\n",
    "\n",
    "The wave divisor function consists of a pulse outline modulated with a high frequency component. The real solution of the wave divisor function is:\n",
    "\n",
    "$$ \\Re(\\sigma_{0})=\\sum_{\\mathbb{X}=2}^{\\infty}\\cos^{N} \\left( \\frac{\\pi}{\\mathbb{X}}x \\right) \\cos \\left( \\frac{N\\pi}{\\mathbb{X}}x  \\right) $$\n",
    "\n",
    "$N$ is determined by the pulse width of $cos^{N}$ and calculated with ($L$ pulseheight at position $\\Delta x$). For every $\\mathbb{X}$ a $N$ is calculated, this way all waves in the summation have similar pulsewidths. N should be an positive even integer to obtain positive pulses only:\n",
    "\n",
    "$$ N(\\mathbb{X}) =   \\frac{\\log(L)}{\\log \\left(  \\cos \\left(  \\frac {\\pi}{\\mathbb{X} } \\Delta x  \\right)      \\right)} \\approx - \\frac{2 \\mathbb{X}^2 \\log(L)}{\\pi^2 \\Delta x^2} + \\frac{\\log(L)}{3}+ \\mathcal{O} \\left( \\frac{1}{\\mathbb{X}^2} \\right)$$\n",
    "\n",
    "The first term $cos^N$ can also be simplified, this is the pulse outline. The pulse outline forms a bell shaped distribution arround the origin for $\\mathbb{X} \\rightarrow \\infty$:\n",
    "\n",
    "$$ O(x)=\\lim_{\\mathbb{X} \\rightarrow \\infty}\\cos^{N} \\left( \\frac{\\pi}{\\mathbb{X}}x \\right)= e^{a x^{2}}$$\n",
    "\n",
    "$$ a=\\frac{\\log(L) \\space}{\\Delta x^{2}}=constant$$\n",
    "\n",
    "The high frequency component $HF(\\mathbb{X})$ scales linear with $\\mathbb{X}$ (see link for more information) for: $\\mathbb{X} \\rightarrow \\infty$. \n",
    "\n",
    "$$ HF(\\mathbb{X})= \\cos \\left( \\frac{N\\pi}{\\mathbb{X}} x \\right) \\approx \\cos (b x)$$\n",
    "\n",
    "$$ b(\\mathbb{X}) = \\frac{N}{\\mathbb{X}}\\pi \\approx  - \\frac{2 \\space \\log(L)}{\\pi \\space \\Delta x^{2}} \\mathbb{X} = constant \\cdot \\mathbb{X}$$\n",
    "\n",
    "So for $\\mathbb{X} \\rightarrow \\infty$ the wave divisor function becomes:\n",
    "\n",
    "$$ \\Re(\\sigma_{0})\\rightarrow \\sum_{\\mathbb{X}=2}^{\\infty}e^{a x^{2}} \\cos (b x) $$\n",
    "\n",
    "The wave divisor at infinity can be Fourier transformed in the frequency domain. The following Fourier transform definitation was used:\n",
    "\n",
    "$$ \\hat{f}(\\xi)=\\int_{-\\infty}^{\\infty}f(x) \\mspace{3mu} e^{-2 \\pi ix \\xi} \\mspace{3mu} dx$$\n",
    "\n",
    "With help of Wolfram Alpha the Fourier transform is determined (see link below). The frequency spectra of an individual divisor wave will consist of a bell shape mirrored in the y-axis.\n",
    "\n",
    "$$ \\hat{\\sigma}_{0}(\\xi)= \\frac{\\sqrt{\\pi}}{2 \\sqrt{-a}} \\left( e^{(b-2  \\pi  \\xi)^{2} /4a}    + e^{(b+2 \\pi \\xi)^{2} /4a}       \\right) $$\n",
    "\n",
    "Every number will have at least on divisor wave. Because of the linearity properties of the Fourier transform we can sum the spectra to obtain the complete spectra of a number. The simulation below shows the time domain wave and the frequency spectra. Also the wave has been transposed to an audible signal.\n",
    "\n",
    "More information: [Wave Divisor Function][1], [Wiki Fourier Transform][2], [Wolfram Alpha][3]\n",
    "\n",
    "[1]: https://mybinder.org/v2/gh/oooVincentooo/Shared/master?filepath=Wave%20Divisor%20Function%20rev%202.4.ipynb\n",
    "[2]: https://en.wikipedia.org/wiki/Fourier_transform\n",
    "[3]: https://www.wolframalpha.com/input/?i=Fourier+transform+exp%28a*x%5E2%29*cos%28b*x%29\n"
   ]
  },
  {
   "cell_type": "code",
   "execution_count": 5,
   "metadata": {},
   "outputs": [],
   "source": [
    "import numpy as np\n",
    "import matplotlib.pyplot as plt2\n",
    "import ipywidgets as widgets\n",
    "\n",
    "from operator import add\n",
    "from IPython.display import Audio\n",
    "from IPython.display import display"
   ]
  },
  {
   "cell_type": "code",
   "execution_count": 6,
   "metadata": {},
   "outputs": [],
   "source": [
    "%matplotlib widget"
   ]
  },
  {
   "cell_type": "code",
   "execution_count": 7,
   "metadata": {},
   "outputs": [
    {
     "name": "stdout",
     "output_type": "stream",
     "text": [
      "Options: L is pulse height at dx, Audio is from Real Part.\n",
      "Orange dot in Wave graph indicates divisor count of: x\n",
      "Blue line in spectrum indicates total spectrum\n"
     ]
    },
    {
     "data": {
      "application/vnd.jupyter.widget-view+json": {
       "model_id": "440d2dd568d348e1bbe68c4139c3f23f",
       "version_major": 2,
       "version_minor": 0
      },
      "text/plain": [
       "interactive(children=(Dropdown(description='$\\\\Delta x$:', index=3, options=(0.05, 0.1, 0.15, 0.2, 0.25, 0.3, …"
      ]
     },
     "metadata": {},
     "output_type": "display_data"
    },
    {
     "data": {
      "image/png": "[encoded data removed]",
      "text/plain": [
       "<Figure size 648x288 with 2 Axes>"
      ]
     },
     "metadata": {
      "needs_background": "light"
     },
     "output_type": "display_data"
    }
   ],
   "source": [
    "#Create Plot grid\n",
    "fig= plt2.figure(figsize=(9, 4), constrained_layout=True)\n",
    "widths = [4.5,4.5]\n",
    "heights = [4]\n",
    "gs=fig.add_gridspec(1,2,width_ratios=widths, height_ratios=heights, wspace=0.05)\n",
    "\n",
    "ax1=fig.add_subplot(gs[0,0])\n",
    "ax2=fig.add_subplot(gs[0,1])\n",
    "\n",
    "\n",
    "#fig, ax2= plt2.subplots(1,2, figsize=(9, 4))\n",
    "    \n",
    "def update_plot(dx2, L2, sx):\n",
    "    \n",
    "    xf=np.linspace(sx-0.5,sx+0.5,5000,endpoint=True)\n",
    "\n",
    "    ax1.clear()\n",
    "    ax2.clear()\n",
    "    \n",
    "    reD=[0]*5000\n",
    "    #imD=[0]*2000\n",
    "    \n",
    "    #amplification\n",
    "    amp=[10]*5000\n",
    "    \n",
    "    #Create list with waves X=2 to X=100\n",
    "    wave2=list(range(2,101))\n",
    "    \n",
    "    #Calculate Solution Wave Devisor Function\n",
    "    for w2 in wave2:\n",
    "  \n",
    "        N2=(np.log(L2))/(np.log(np.cos(np.pi*dx2/w2)))\n",
    "        N2=2*round(0.5*N2,0)\n",
    "        \n",
    "        reDw = ((np.cos(xf*np.pi/w2))**N2)*(np.cos(np.pi*N2*xf/w2))\n",
    "        #imDw = (-(np.cos(xf*np.pi/w2))**N2)*(np.sin(np.pi*N2*xf/w2))\n",
    "\n",
    "        reD=list(map(add, reD, reDw))\n",
    "        #imD=list(map(add, imD, imDw))\n",
    "\n",
    "    #Determine maximum Divisor Count\n",
    "    countD=max(reD)\n",
    "\n",
    "    #Plot Divisor Function\n",
    "    units2 = '$\\Delta x$={}, $L$={}, $x$={}'\n",
    "    ax1.plot(xf, reD,color='#1f77b4', label=units2.format(dx2, L2, sx))\n",
    "    ax1.plot([sx],[countD], color='orange', marker='o')\n",
    "    ax1.legend(loc=2)\n",
    "    ax1.set_title('Divisor Wave $\\sigma_{0}(x)$')\n",
    "    ax1.set_xlabel('$x$')\n",
    "    ax1.set_ylabel('$\\sigma_{0}$')\n",
    "    ax1.axis([(sx-0.5), (sx+0.5), None,(countD+countD/3)])\n",
    "    ax1.grid(b=True, which='major', color='#666666', linestyle='-')\n",
    " \n",
    "    #Calculate Fourier Transform set amplitude summation 0.\n",
    "    ampliS=[0]*10000\n",
    "    \n",
    "    #Maximum Frequency Range\n",
    "    N2=-2*(sx**2)*np.log(L2)/((np.pi**2)*(dx2**2))\n",
    "    N2=2*round(0.5*N2,0)\n",
    "    fmax=N2/sx\n",
    "    frange=np.linspace(-fmax,fmax,10000)\n",
    "\n",
    "    #Fourier Transform Calculated. Create graph label.\n",
    "    lab='Divisors of ' + str(sx) +':'\n",
    "    \n",
    "    for w2 in wave2:\n",
    " \n",
    "        #Determine coeficients: a, b calculate Fourier Transform.\n",
    "        N2=(np.log(L2))/(np.log(np.cos(np.pi*dx2/w2)))\n",
    "        N2=2*round(0.5*N2,0)\n",
    "        a=np.log(L2)/(dx2**2)\n",
    "        b=np.pi*N2/w2\n",
    "        #b=-w2*(2/np.pi)*np.log(L2)/(dx2**2)\n",
    "        \n",
    "        \n",
    "        #Only add waves from divisors of x (modules).\n",
    "        if (sx%w2)==0:\n",
    "            Spec = (np.sqrt(np.pi))/(2*np.sqrt(-a))*(np.exp(((b-2*np.pi*frange)**2)/(4*a)) + np.exp(((b+2*np.pi*frange)**2)/(4*a)))\n",
    "            ampliS=list(map(add, ampliS, Spec))\n",
    "            lab=lab+'\\n $\\mathbb{X}$='+str(w2) + '$, f$='+str(np.round(0.5*N2/w2,1)) \n",
    "            \n",
    "            #Plot individual divisor frequencies\n",
    "            ax2.fill_between(frange,Spec, color='orange')\n",
    "\n",
    "    #Plot summation frequencies.\n",
    "    ax2.set_title('Divisor Spectrum $\\hat{\\sigma}_{0}$')\n",
    "    ax2.annotate(lab, xy=(fmax-fmax/3.1,0.01))\n",
    "    ax2.plot(frange, ampliS,color='#1f77b4')\n",
    "    ax2.set_xlabel('$Frequency$')\n",
    "    ax2.set_ylabel('$\\hat{\\sigma}_{0}$')\n",
    "    ax2.axis([0,fmax, 0,None]) \n",
    "    ax2.grid(b=True, which='major', color='#666666', linestyle='-')\n",
    "    \n",
    "    plt2.show()\n",
    "    \n",
    "    #print(np.sqrt(-a*2))\n",
    "    \n",
    "    #Create Audiofile\n",
    "    display(Audio(reD, rate=20000))\n",
    "    #display(Audio(imD, rate=20000))\n",
    "\n",
    "print('Options: L is pulse height at dx, Audio is from Real Part.')\n",
    "print('Orange dot in Wave graph indicates divisor count of: x')\n",
    "print('Blue line in spectrum indicates total spectrum')\n",
    "\n",
    "dx2 = widgets.Dropdown(options=[0.05, 0.10,0.15, 0.20,0.25,0.30,0.35,0.40,0.45,0.5], value=0.2, description='$\\Delta x$:')  \n",
    "L2 = widgets.Dropdown(options=[0.10,0.15, 0.20,0.25,0.30,0.35,0.40,0.45,0.5], value=0.5, description='$L$:') \n",
    "sx = widgets.Dropdown(options=list(range(2,101)), description='$x$:',value=30)   \n",
    "\n",
    "widgets.interactive(update_plot, dx2=dx2, L2=L2, sx=sx)"
   ]
  },
  {
   "cell_type": "markdown",
   "metadata": {},
   "source": [
    "# Audio Wave Divisor Function.\n",
    "\n",
    "An movie has been created where the divisor function and audio are synchronized. The movie has been created in the range till x=1000. The displayed movie below is done with the following settings: dx=0.15, L=0.5, Rate=3000, BPM=600. For other settings see my youtube channel."
   ]
  },
  {
   "cell_type": "code",
   "execution_count": null,
   "metadata": {},
   "outputs": [],
   "source": [
    "from IPython.display import YouTubeVideo\n",
    "\n",
    "#Wave divisor function audio\n",
    "YouTubeVideo('8qtZJ6yp5D0')"
   ]
  },
  {
   "cell_type": "markdown",
   "metadata": {},
   "source": [
    "# Properties Frequency Spectrum (uncertainty principle).\n",
    "\n",
    "When the pulsewidth in the time domain gets smaller the frequency spectrum of the divisors tend to be identified more clear. From Fourier transform properties one would expect the frequency bandwidth to become wider as the time domain pulse gets narrow: [Uncertainty principle][1].\n",
    "\n",
    "The spectrum of the wave divisor function seems to behave opposite to the uncertainty principle. Below the [z-score][2] of the wave divisor spectra is calculated. The z-score describes the behaviour and the uncertainty principle is maintained. \n",
    "\n",
    "Time domain $f(x)$:\n",
    "\n",
    "$$ \\Re(\\sigma_{0})\\rightarrow \\sum_{\\mathbb{X}=2}^{\\infty}e^{a x^{2}} \\cos (b x) $$\n",
    "\n",
    "The pulsewidth in the time domain is determined by: $L$ pulseheight at position $\\Delta x$. In the equations described later we will vary the pulsewidth in the time domain. Onward we set $L=0.5$ as an constant and the time domain pulsewidth is varied by reducing $\\Delta x \\rightarrow 0$. \n",
    "\n",
    "$$ a=\\frac{\\log(L) }{\\Delta x^{2}}=constant$$\n",
    "\n",
    "$$ b(\\mathbb{X}) = \\frac{N}{\\mathbb{X}}\\pi \\approx  - \\frac{2  \\log(L)}{\\pi  \\Delta x^{2}} \\mathbb{X} = constant \\cdot \\mathbb{X}$$\n",
    "\n",
    "Frequency domain $\\hat{f} (\\xi)$:\n",
    "\n",
    "$$ \\hat{\\sigma}_{0}(\\xi)= \\frac{\\sqrt{\\pi}}{2 \\sqrt{-a}} \\left( e^{(b-2  \\pi  \\xi)^{2} /4a}    + e^{(b+2 \\pi \\xi)^{2} /4a}       \\right) $$\n",
    "\n",
    "The frequency pulses can be seen as [normal distributions][3] . The standard deviation of a pulse in the frequency domain is proportional to:\n",
    "\n",
    "$$ Stdev(\\hat{\\sigma}_{0}(\\xi)) \\propto \\sqrt{-a}$$\n",
    "\n",
    "The minimal frequency distance between two neigbour pulses is:\n",
    "\n",
    "$$ \\Delta \\xi = b(\\mathbb{X}+1)-b(\\mathbb{X})=b(1)$$\n",
    "\n",
    "The z-score between to neighbour frequency pulses then is:\n",
    "\n",
    "$$ Z \\propto \\frac{b(1)}{\\sqrt{-a}} \\propto \\frac{1}{\\Delta x}$$\n",
    "\n",
    "When the time domain pulse gets narrow $\\Delta x \\rightarrow 0$ the $z-score$ in the frequency domain gets bigger. Thus the individual pulses in the frequency domain become better identified. One can say that the pulsewidth in frequency domain $\\sqrt{-a}$ grows more slowly then the frequency difference between two neighbour divisors $b$.\n",
    "\n",
    "\n",
    "More information: [Uncertainty principle][1], [z-score][2]\n",
    "\n",
    "\n",
    "[1]: https://en.wikipedia.org/wiki/Fourier_transform#Uncertainty_principle\n",
    "[2]: https://en.wikipedia.org/wiki/Standard_score\n",
    "[3]: https://en.wikipedia.org/wiki/Normal_distribution\n"
   ]
  },
  {
   "cell_type": "code",
   "execution_count": null,
   "metadata": {},
   "outputs": [],
   "source": []
  },
  {
   "cell_type": "code",
   "execution_count": null,
   "metadata": {},
   "outputs": [],
   "source": []
  }
 ],
 "metadata": {
  "kernelspec": {
   "display_name": "Python 3",
   "language": "python",
   "name": "python3"
  },
  "language_info": {
   "codemirror_mode": {
    "name": "ipython",
    "version": 3
   },
   "file_extension": ".py",
   "mimetype": "text/x-python",
   "name": "python",
   "nbconvert_exporter": "python",
   "pygments_lexer": "ipython3",
   "version": "3.8.3"
  }
 },
 "nbformat": 4,
 "nbformat_minor": 4
}
