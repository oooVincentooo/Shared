{
 "cells": [
  {
   "cell_type": "markdown",
   "metadata": {},
   "source": [
    "# Fourier Transform Wave Divisor Function.\n",
    "\n",
    "The wave divisor function consists of a pulse outline modulated with a high frequency component. The real solution of the wave divisor function is:\n",
    "\n",
    "$$ \\Re(\\sigma_{0})=\\sum_{\\mathbb{X}=2}^{\\infty}\\cos^{N} \\left( \\frac{\\pi}{\\mathbb{X}}x \\right) \\cos \\left( \\frac{N\\pi}{\\mathbb{X}}x  \\right) $$\n",
    "\n",
    "$N$ is determined by the pulse width of $cos^{N}$ and calculated with ($L$ pulseheight at position $\\Delta x$). For every $\\mathbb{X}$ a $N$ is calculated, this way all waves in the summation have similar pulsewidths. N should be an positive even integer to obtain positive pulses only:\n",
    "\n",
    "$$ N(\\mathbb{X}) =   \\frac{\\log(L)}{\\log \\left(  \\cos \\left(  \\frac {\\pi}{\\mathbb{X} } \\Delta x  \\right)      \\right)} \\approx - \\frac{2 \\mathbb{X}^2 \\log(L)}{\\pi^2 \\Delta x^2} + \\frac{\\log(L)}{3}+ \\mathcal{O} \\left( \\frac{1}{\\mathbb{X}^2} \\right)$$\n",
    "\n",
    "The first term $cos^N$ can also be simplified, this is the pulse outline. The pulse outline forms a bell shaped distribution arround the origin for $\\mathbb{X} \\rightarrow \\infty$:\n",
    "\n",
    "$$ O(x)=\\lim_{\\mathbb{X} \\rightarrow \\infty}\\cos^{N} \\left( \\frac{\\pi}{\\mathbb{X}}x \\right)= e^{a x^{2}}$$\n",
    "\n",
    "$$ a=\\frac{\\log(L) \\space}{\\Delta x^{2}}=constant$$\n",
    "\n",
    "The high frequency component $HF(\\mathbb{X})$ scales linear with $\\mathbb{X}$ (see link for more information) for: $\\mathbb{X} \\rightarrow \\infty$. \n",
    "\n",
    "$$ HF(\\mathbb{X})= \\cos \\left( \\frac{N\\pi}{\\mathbb{X}} x \\right) \\approx \\cos (b x)$$\n",
    "\n",
    "$$ b(\\mathbb{X}) = \\frac{N}{\\mathbb{X}}\\pi \\approx  - \\frac{2 \\space \\log(L)}{\\pi \\space \\Delta x^{2}} \\mathbb{X} = constant \\cdot \\mathbb{X}$$\n",
    "\n",
    "So for $\\mathbb{X} \\rightarrow \\infty$ the wave divisor function becomes:\n",
    "\n",
    "$$ \\Re(\\sigma_{0})\\rightarrow \\sum_{\\mathbb{X}=2}^{\\infty}e^{a x^{2}} \\cos (b x) $$\n",
    "\n",
    "The wave divisor at infinity can be Fourier transformed in the frequency domain. The following Fourier transform definitation was used:\n",
    "\n",
    "$$ \\hat{f}(\\xi)=\\int_{-\\infty}^{\\infty}f(x) \\mspace{3mu} e^{-2 \\pi ix \\xi} \\mspace{3mu} dx$$\n",
    "\n",
    "With help of Wolfram Alpha the Fourier transform is determined (see link below). The frequency spectra of an individual divisor wave will consist of a bell shape mirrored in the y-axis.\n",
    "\n",
    "$$ \\hat{\\sigma}_{0}(\\xi)= \\frac{\\sqrt{\\pi}}{2 \\sqrt{-a}} \\left( e^{(b-2  \\pi  \\xi)^{2} /4a}    + e^{(b+2 \\pi \\xi)^{2} /4a}       \\right) $$\n",
    "\n",
    "Every number will have at least on divisor wave. Because of the linearity properties of the Fourier transform we can sum the spectra to obtain the complete spectra of a number. The simulation below shows the time domain wave and the frequency spectra. Also the wave has been transposed to an audible signal.\n",
    "\n",
    "More information: [Wave Divisor Function][1], [Wiki Fourier Transform][2], [Wolfram Alpha][3]\n",
    "\n",
    "[1]: https://mybinder.org/v2/gh/oooVincentooo/Shared/master?filepath=Wave%20Divisor%20Function%20rev%202.4.ipynb\n",
    "[2]: https://en.wikipedia.org/wiki/Fourier_transform\n",
    "[3]: https://www.wolframalpha.com/input/?i=Fourier+transform+exp%28a*x%5E2%29*cos%28b*x%29\n"
   ]
  },
  {
   "cell_type": "code",
   "execution_count": 1,
   "metadata": {},
   "outputs": [],
   "source": [
    "import numpy as np\n",
    "import matplotlib.pyplot as plt2\n",
    "import ipywidgets as widgets\n",
    "\n",
    "from operator import add\n",
    "from IPython.display import Audio\n",
    "from IPython.display import display"
   ]
  },
  {
   "cell_type": "code",
   "execution_count": 2,
   "metadata": {},
   "outputs": [],
   "source": [
    "%matplotlib widget"
   ]
  },
  {
   "cell_type": "code",
   "execution_count": 3,
   "metadata": {},
   "outputs": [
    {
     "data": {
      "application/vnd.jupyter.widget-view+json": {
       "model_id": "960eaa71cdbd41958b2cc41f9de361c8",
       "version_major": 2,
       "version_minor": 0
      },
      "text/plain": [
       "Canvas(toolbar=Toolbar(toolitems=[('Home', 'Reset original view', 'home', 'home'), ('Back', 'Back to previous …"
      ]
     },
     "metadata": {},
     "output_type": "display_data"
    },
    {
     "name": "stdout",
     "output_type": "stream",
     "text": [
      "Options: L is pulse height at dx, Audio is from Real Part.\n",
      "Orange dot in Wave graph indicates divisor count of: x\n",
      "Blue line in spectrum indicates total spectrum\n"
     ]
    },
    {
     "data": {
      "application/vnd.jupyter.widget-view+json": {
       "model_id": "a01eba61d0dc4bfaa41465a1456b5a09",
       "version_major": 2,
       "version_minor": 0
      },
      "text/plain": [
       "interactive(children=(Dropdown(description='$\\\\Delta x$:', index=3, options=(0.05, 0.1, 0.15, 0.2, 0.25, 0.3, …"
      ]
     },
     "metadata": {},
     "output_type": "display_data"
    }
   ],
   "source": [
    "#Create Plot grid\n",
    "fig= plt2.figure(figsize=(9, 4), constrained_layout=True)\n",
    "widths = [4.5,4.5]\n",
    "heights = [4]\n",
    "gs=fig.add_gridspec(1,2,width_ratios=widths, height_ratios=heights, wspace=0.05)\n",
    "\n",
    "ax1=fig.add_subplot(gs[0,0])\n",
    "ax2=fig.add_subplot(gs[0,1])\n",
    "\n",
    "\n",
    "#fig, ax2= plt2.subplots(1,2, figsize=(9, 4))\n",
    "    \n",
    "def update_plot(dx2, L2, sx):\n",
    "    \n",
    "    xf=np.linspace(sx-0.5,sx+0.5,5000,endpoint=True)\n",
    "\n",
    "    ax1.clear()\n",
    "    ax2.clear()\n",
    "    \n",
    "    reD=[0]*5000\n",
    "    #imD=[0]*2000\n",
    "    \n",
    "    #amplification\n",
    "    amp=[10]*5000\n",
    "    \n",
    "    #Create list with waves X=2 to X=100\n",
    "    wave2=list(range(2,101))\n",
    "    \n",
    "    #Calculate Solution Wave Devisor Function\n",
    "    for w2 in wave2:\n",
    "  \n",
    "        N2=(np.log(L2))/(np.log(np.cos(np.pi*dx2/w2)))\n",
    "        N2=2*round(0.5*N2,0)\n",
    "        \n",
    "        reDw = ((np.cos(xf*np.pi/w2))**N2)*(np.cos(np.pi*N2*xf/w2))\n",
    "        #imDw = (-(np.cos(xf*np.pi/w2))**N2)*(np.sin(np.pi*N2*xf/w2))\n",
    "\n",
    "        reD=list(map(add, reD, reDw))\n",
    "        #imD=list(map(add, imD, imDw))\n",
    "\n",
    "    #Determine maximum Divisor Count\n",
    "    countD=max(reD)\n",
    "\n",
    "    #Plot Divisor Function\n",
    "    units2 = '$\\Delta x$={}, $L$={}, $x$={}'\n",
    "    ax1.plot(xf, reD,color='#1f77b4', label=units2.format(dx2, L2, sx))\n",
    "    ax1.plot([sx],[countD], color='orange', marker='o')\n",
    "    ax1.legend(loc=2)\n",
    "    ax1.set_title('Divisor Wave $\\sigma_{0}(x)$')\n",
    "    ax1.set_xlabel('$x$')\n",
    "    ax1.set_ylabel('$\\sigma_{0}$')\n",
    "    ax1.axis([(sx-0.5), (sx+0.5), None,(countD+countD/3)])\n",
    "    ax1.grid(b=True, which='major', color='#666666', linestyle='-')\n",
    " \n",
    "    #Calculate Fourier Transform set amplitude summation 0.\n",
    "    ampliS=[0]*10000\n",
    "    \n",
    "    #Maximum Frequency Range\n",
    "    N2=-2*(sx**2)*np.log(L2)/((np.pi**2)*(dx2**2))\n",
    "    N2=2*round(0.5*N2,0)\n",
    "    fmax=N2/sx\n",
    "    frange=np.linspace(-fmax,fmax,10000)\n",
    "\n",
    "    #Fourier Transform Calculated. Create graph label.\n",
    "    lab='Divisors of ' + str(sx) +':'\n",
    "    \n",
    "    for w2 in wave2:\n",
    " \n",
    "        #Determine coeficients: a, b calculate Fourier Transform.\n",
    "        N2=(np.log(L2))/(np.log(np.cos(np.pi*dx2/w2)))\n",
    "        N2=2*round(0.5*N2,0)\n",
    "        a=np.log(L2)/(dx2**2)\n",
    "        b=np.pi*N2/w2\n",
    "        #b=-w2*(2/np.pi)*np.log(L2)/(dx2**2)\n",
    "        \n",
    "        \n",
    "        #Only add waves from divisors of x (modules).\n",
    "        if (sx%w2)==0:\n",
    "            Spec = (np.sqrt(np.pi))/(2*np.sqrt(-a))*(np.exp(((b-2*np.pi*frange)**2)/(4*a)) + np.exp(((b+2*np.pi*frange)**2)/(4*a)))\n",
    "            ampliS=list(map(add, ampliS, Spec))\n",
    "            lab=lab+'\\n $\\mathbb{X}$='+str(w2) + '$, f$='+str(np.round(0.5*N2/w2,1)) \n",
    "            \n",
    "            #Plot individual divisor frequencies\n",
    "            ax2.fill_between(frange,Spec, color='orange')\n",
    "\n",
    "    #Plot summation frequencies.\n",
    "    ax2.set_title('Divisor Spectrum $\\hat{\\sigma}_{0}$')\n",
    "    ax2.annotate(lab, xy=(fmax-fmax/3.1,0.01))\n",
    "    ax2.plot(frange, ampliS,color='#1f77b4')\n",
    "    ax2.set_xlabel('$Frequency$')\n",
    "    ax2.set_ylabel('$\\hat{\\sigma}_{0}$')\n",
    "    ax2.axis([0,fmax, 0,None]) \n",
    "    ax2.grid(b=True, which='major', color='#666666', linestyle='-')\n",
    "    \n",
    "    plt2.show()\n",
    "    \n",
    "    #print(np.sqrt(-a*2))\n",
    "    \n",
    "    #Create Audiofile\n",
    "    display(Audio(reD, rate=20000))\n",
    "    #display(Audio(imD, rate=20000))\n",
    "\n",
    "print('Options: L is pulse height at dx, Audio is from Real Part.')\n",
    "print('Orange dot in Wave graph indicates divisor count of: x')\n",
    "print('Blue line in spectrum indicates total spectrum')\n",
    "\n",
    "dx2 = widgets.Dropdown(options=[0.05, 0.10,0.15, 0.20,0.25,0.30,0.35,0.40,0.45,0.5], value=0.2, description='$\\Delta x$:')  \n",
    "L2 = widgets.Dropdown(options=[0.10,0.15, 0.20,0.25,0.30,0.35,0.40,0.45,0.5], value=0.5, description='$L$:') \n",
    "sx = widgets.Dropdown(options=list(range(2,101)), description='$x$:',value=30)   \n",
    "\n",
    "widgets.interactive(update_plot, dx2=dx2, L2=L2, sx=sx)"
   ]
  },
  {
   "cell_type": "markdown",
   "metadata": {},
   "source": [
    "# Audio Wave Divisor Function.\n",
    "\n",
    "An movie has been created where the divisor function and audio are synchronized. The movie has been created in the range till x=1000. The displayed movie below is done with the following settings: dx=0.15, L=0.5, Rate=3000, BPM=600. For other settings see my youtube channel."
   ]
  },
  {
   "cell_type": "code",
   "execution_count": 4,
   "metadata": {},
   "outputs": [
    {
     "data": {
      "image/jpeg": "[encoded data removed]",
      "text/html": [
       "\n",
       "        <iframe\n",
       "            width=\"400\"\n",
       "            height=\"300\"\n",
       "            src=\"https://www.youtube.com/embed/8qtZJ6yp5D0\"\n",
       "            frameborder=\"0\"\n",
       "            allowfullscreen\n",
       "        ></iframe>\n",
       "        "
      ],
      "text/plain": [
       "<IPython.lib.display.YouTubeVideo at 0x1280458b640>"
      ]
     },
     "execution_count": 4,
     "metadata": {},
     "output_type": "execute_result"
    }
   ],
   "source": [
    "from IPython.display import YouTubeVideo\n",
    "\n",
    "#Wave divisor function audio\n",
    "YouTubeVideo('8qtZJ6yp5D0')"
   ]
  },
  {
   "cell_type": "markdown",
   "metadata": {},
   "source": [
    "# Properties Frequency Spectrum (uncertainty principle).\n",
    "\n",
    "When the pulsewidth in the time domain gets smaller the frequency spectrum of the divisors tend to be identified more clear. From Fourier transform properties one would expect the frequency bandwidth to become wider as the time domain pulse gets narrow: [Uncertainty principle][1].\n",
    "\n",
    "The spectrum of the wave divisor function seems to behave opposite to the uncertainty principle. Below the [z-score][2] of the wave divisor spectra is calculated. The z-score describes the behaviour and the uncertainty principle is maintained. \n",
    "\n",
    "Time domain $f(x)$:\n",
    "\n",
    "$$ \\Re(\\sigma_{0})\\rightarrow \\sum_{\\mathbb{X}=2}^{\\infty}e^{a x^{2}} \\cos (b x) $$\n",
    "\n",
    "The pulsewidth in the time domain is determined by: $L$ pulseheight at position $\\Delta x$. In the equations described later we will vary the pulsewidth in the time domain. Onward we set $L=0.5$ as an constant and the time domain pulsewidth is varied by reducing $\\Delta x \\rightarrow 0$. \n",
    "\n",
    "$$ a=\\frac{\\log(L) }{\\Delta x^{2}}=constant$$\n",
    "\n",
    "$$ b(\\mathbb{X}) = \\frac{N}{\\mathbb{X}}\\pi \\approx  - \\frac{2  \\log(L)}{\\pi  \\Delta x^{2}} \\mathbb{X} = constant \\cdot \\mathbb{X}$$\n",
    "\n",
    "Frequency domain $\\hat{f} (\\xi)$:\n",
    "\n",
    "$$ \\hat{\\sigma}_{0}(\\xi)= \\frac{\\sqrt{\\pi}}{2 \\sqrt{-a}} \\left( e^{(b-2  \\pi  \\xi)^{2} /4a}    + e^{(b+2 \\pi \\xi)^{2} /4a}       \\right) $$\n",
    "\n",
    "The frequency pulses can be seen as [normal distributions][3] . The standard deviation of a pulse in the frequency domain is proportional to:\n",
    "\n",
    "$$ Stdev(\\hat{\\sigma}_{0}(\\xi)) \\propto \\sqrt{-a}$$\n",
    "\n",
    "The minimal frequency distance between two neigbour pulses is:\n",
    "\n",
    "$$ \\Delta \\xi = b(\\mathbb{X}+1)-b(\\mathbb{X})=b(1)$$\n",
    "\n",
    "The z-score between to neighbour frequency pulses then is:\n",
    "\n",
    "$$ Z \\propto \\frac{b(1)}{\\sqrt{-a}} \\propto \\frac{1}{\\Delta x}$$\n",
    "\n",
    "When the time domain pulse gets narrow $\\Delta x \\rightarrow 0$ the $z-score$ in the frequency domain gets bigger. Thus the individual pulses in the frequency domain become better identified. One can say that the pulsewidth in frequency domain $\\sqrt{-a}$ grows more slowly then the frequency difference between two neighbour divisors $b$.\n",
    "\n",
    "\n",
    "More information: [Uncertainty principle][1], [z-score][2]\n",
    "\n",
    "\n",
    "[1]: https://en.wikipedia.org/wiki/Fourier_transform#Uncertainty_principle\n",
    "[2]: https://en.wikipedia.org/wiki/Standard_score\n",
    "[3]: https://en.wikipedia.org/wiki/Normal_distribution\n"
   ]
  },
  {
   "cell_type": "code",
   "execution_count": null,
   "metadata": {},
   "outputs": [],
   "source": []
  },
  {
   "cell_type": "code",
   "execution_count": null,
   "metadata": {},
   "outputs": [],
   "source": []
  }
 ],
 "metadata": {
  "kernelspec": {
   "display_name": "Python 3",
   "language": "python",
   "name": "python3"
  },
  "language_info": {
   "codemirror_mode": {
    "name": "ipython",
    "version": 3
   },
   "file_extension": ".py",
   "mimetype": "text/x-python",
   "name": "python",
   "nbconvert_exporter": "python",
   "pygments_lexer": "ipython3",
   "version": "3.8.3"
  },
  "widgets": {
   "application/vnd.jupyter.widget-state+json": {
    "state": {
     "0d7aca2124eb4834a4ad39c356ea16d9": {
      "model_module": "@jupyter-widgets/base",
      "model_module_version": "1.2.0",
      "model_name": "LayoutModel",
      "state": {}
     },
     "3f4909d2b6fa4a528dec958abb30438d": {
      "model_module": "@jupyter-widgets/controls",
      "model_module_version": "1.5.0",
      "model_name": "DropdownModel",
      "state": {
       "_options_labels": [
        "0.05",
        "0.1",
        "0.15",
        "0.2",
        "0.25",
        "0.3",
        "0.35",
        "0.4",
        "0.45",
        "0.5"
       ],
       "description": "$\\Delta x$:",
       "index": 3,
       "layout": "IPY_MODEL_cf73bba8d68749ebb01f672d251ad1c9",
       "style": "IPY_MODEL_87f0e222cf774972bb18844e6f4fa3c2"
      }
     },
     "3f657a3bf85346efa6a15b4b595b143e": {
      "model_module": "jupyter-matplotlib",
      "model_module_version": "^0.7.3",
      "model_name": "ToolbarModel",
      "state": {
       "layout": "IPY_MODEL_65d4aebc564d4edf9f60efba65894836",
       "toolitems": [
        [
         "Home",
         "Reset original view",
         "home",
         "home"
        ],
        [
         "Back",
         "Back to previous view",
         "arrow-left",
         "back"
        ],
        [
         "Forward",
         "Forward to next view",
         "arrow-right",
         "forward"
        ],
        [
         "Pan",
         "Pan axes with left mouse, zoom with right",
         "arrows",
         "pan"
        ],
        [
         "Zoom",
         "Zoom to rectangle",
         "square-o",
         "zoom"
        ],
        [
         "Download",
         "Download plot",
         "floppy-o",
         "save_figure"
        ]
       ]
      }
     },
     "3f8c324ef04a4ca2b6c979264d3e0d8e": {
      "model_module": "@jupyter-widgets/controls",
      "model_module_version": "1.5.0",
      "model_name": "DropdownModel",
      "state": {
       "_options_labels": [
        "2",
        "3",
        "4",
        "5",
        "6",
        "7",
        "8",
        "9",
        "10",
        "11",
        "12",
        "13",
        "14",
        "15",
        "16",
        "17",
        "18",
        "19",
        "20",
        "21",
        "22",
        "23",
        "24",
        "25",
        "26",
        "27",
        "28",
        "29",
        "30",
        "31",
        "32",
        "33",
        "34",
        "35",
        "36",
        "37",
        "38",
        "39",
        "40",
        "41",
        "42",
        "43",
        "44",
        "45",
        "46",
        "47",
        "48",
        "49",
        "50",
        "51",
        "52",
        "53",
        "54",
        "55",
        "56",
        "57",
        "58",
        "59",
        "60",
        "61",
        "62",
        "63",
        "64",
        "65",
        "66",
        "67",
        "68",
        "69",
        "70",
        "71",
        "72",
        "73",
        "74",
        "75",
        "76",
        "77",
        "78",
        "79",
        "80",
        "81",
        "82",
        "83",
        "84",
        "85",
        "86",
        "87",
        "88",
        "89",
        "90",
        "91",
        "92",
        "93",
        "94",
        "95",
        "96",
        "97",
        "98",
        "99",
        "100"
       ],
       "description": "$x$:",
       "index": 28,
       "layout": "IPY_MODEL_50d5e525a3b5456fa40432651a187479",
       "style": "IPY_MODEL_e0baeddd21cb4c72a6cd73d3a359f412"
      }
     },
     "475a9e3f521347e7915fa4962bbd6068": {
      "model_module": "@jupyter-widgets/controls",
      "model_module_version": "1.5.0",
      "model_name": "DescriptionStyleModel",
      "state": {
       "description_width": ""
      }
     },
     "50d5e525a3b5456fa40432651a187479": {
      "model_module": "@jupyter-widgets/base",
      "model_module_version": "1.2.0",
      "model_name": "LayoutModel",
      "state": {}
     },
     "5a5b9d6b81864777b1958201f2ff4811": {
      "model_module": "@jupyter-widgets/controls",
      "model_module_version": "1.5.0",
      "model_name": "DropdownModel",
      "state": {
       "_options_labels": [
        "0.1",
        "0.15",
        "0.2",
        "0.25",
        "0.3",
        "0.35",
        "0.4",
        "0.45",
        "0.5"
       ],
       "description": "$L$:",
       "index": 8,
       "layout": "IPY_MODEL_fc707533c8c4450e8c01fd012830c688",
       "style": "IPY_MODEL_475a9e3f521347e7915fa4962bbd6068"
      }
     },
     "65d4aebc564d4edf9f60efba65894836": {
      "model_module": "@jupyter-widgets/base",
      "model_module_version": "1.2.0",
      "model_name": "LayoutModel",
      "state": {}
     },
     "7a28821790b140f08b51d5e660fb0c85": {
      "model_module": "@jupyter-widgets/base",
      "model_module_version": "1.2.0",
      "model_name": "LayoutModel",
      "state": {}
     },
     "7da601510b104a07af2b8e0c0cf296dd": {
      "model_module": "@jupyter-widgets/base",
      "model_module_version": "1.2.0",
      "model_name": "LayoutModel",
      "state": {}
     },
     "87f0e222cf774972bb18844e6f4fa3c2": {
      "model_module": "@jupyter-widgets/controls",
      "model_module_version": "1.5.0",
      "model_name": "DescriptionStyleModel",
      "state": {
       "description_width": ""
      }
     },
     "960eaa71cdbd41958b2cc41f9de361c8": {
      "model_module": "jupyter-matplotlib",
      "model_module_version": "^0.7.3",
      "model_name": "MPLCanvasModel",
      "state": {
       "_cursor": "default",
       "_figure_label": "Figure 1",
       "_height": 400,
       "_image_mode": "diff",
       "_message": "x=29.5971      y=6.88692     ",
       "_width": 900,
       "layout": "IPY_MODEL_0d7aca2124eb4834a4ad39c356ea16d9",
       "toolbar": "IPY_MODEL_3f657a3bf85346efa6a15b4b595b143e",
       "toolbar_position": "left"
      }
     },
     "a01eba61d0dc4bfaa41465a1456b5a09": {
      "model_module": "@jupyter-widgets/controls",
      "model_module_version": "1.5.0",
      "model_name": "VBoxModel",
      "state": {
       "_dom_classes": [
        "widget-interact"
       ],
       "children": [
        "IPY_MODEL_3f4909d2b6fa4a528dec958abb30438d",
        "IPY_MODEL_5a5b9d6b81864777b1958201f2ff4811",
        "IPY_MODEL_3f8c324ef04a4ca2b6c979264d3e0d8e",
        "IPY_MODEL_db2adaeef7b341ebbea0aedc09dfe4ae"
       ],
       "layout": "IPY_MODEL_7da601510b104a07af2b8e0c0cf296dd"
      }
     },
     "cf73bba8d68749ebb01f672d251ad1c9": {
      "model_module": "@jupyter-widgets/base",
      "model_module_version": "1.2.0",
      "model_name": "LayoutModel",
      "state": {}
     },
     "db2adaeef7b341ebbea0aedc09dfe4ae": {
      "model_module": "@jupyter-widgets/output",
      "model_module_version": "1.0.0",
      "model_name": "OutputModel",
      "state": {
       "layout": "IPY_MODEL_7a28821790b140f08b51d5e660fb0c85",
       "outputs": [
        {
         "data": {
          "text/html": "\n                <audio  controls=\"controls\" >\n                    <source src=\"data:audio/wav;base64,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\" type=\"audio/wav\" />\n                    Your browser does not support the audio element.\n                </audio>\n              ",
          "text/plain": "<IPython.lib.display.Audio object>"
         },
         "metadata": {},
         "output_type": "display_data"
        }
       ]
      }
     },
     "e0baeddd21cb4c72a6cd73d3a359f412": {
      "model_module": "@jupyter-widgets/controls",
      "model_module_version": "1.5.0",
      "model_name": "DescriptionStyleModel",
      "state": {
       "description_width": ""
      }
     },
     "fc707533c8c4450e8c01fd012830c688": {
      "model_module": "@jupyter-widgets/base",
      "model_module_version": "1.2.0",
      "model_name": "LayoutModel",
      "state": {}
     }
    },
    "version_major": 2,
    "version_minor": 0
   }
  }
 },
 "nbformat": 4,
 "nbformat_minor": 4
}
