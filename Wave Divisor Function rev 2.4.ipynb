{
 "cells": [
  {
   "cell_type": "markdown",
   "metadata": {},
   "source": [
    "# Wave divisor function: $\\sigma_{0}(x)$\n",
    "\n",
    "The integer divisor function can be described as a summation of repeating waves. Each wave filters out numbers. Divisor wave filters $\\mathbb{X}=7$ wil filter: 7, 14, 21, 28, 35 etc. The divisor function can bescribed as:\n",
    "\n",
    "$$\\large \\sigma_{0}(x)=\\sum_{\\mathbb{X}=2}^{\\infty}\\cos^{N} \\left( \\frac{\\pi}{\\mathbb{X}}x \\right)$$\n",
    "\n",
    "N should be a positive even integer, only then positive pulses occur. If $N\\rightarrow\\infty$ discrete pulses occur on the intervals determined by: $\\mathbb{X}$. This definition of the divisor function does not take 1 in account, for the conventional definition 1 should be added to the wave divisor function.\n",
    "\n",
    "With help of Euler’s formula and the binomial theorem the function can be rewritten as:\n",
    "\n",
    "$$\\large \\sigma_{0}(x)=\\sum_{\\mathbb{X}=2}^{\\infty}e^{i\\left( \\frac{N\\pi}{\\mathbb{X}}x \\right)} 2^{(-N)} \\sum_{k=0}^{N} \\binom{N}{k} e^{-i\\left( \\frac{\\pi}{\\mathbb{X}}x \\right)}  $$\n",
    "\n",
    "The solution for the divisor function occurs when the angular component is 0 only then pulses of magnitude 1 occur. For the divisor function we can set: $e^{i\\left( \\frac{N\\pi}{\\mathbb{X}}x \\right)}=1$. So the \"Wave Divisor Function\" becomes:\n",
    "\n",
    "$$\\large \\sigma_{0}(x)=\\sum_{\\mathbb{X}=2}^{\\infty} 2^{(-N)} \\sum_{k=0}^{N} \\binom{N}{k} e^{-i\\left( \\frac{\\pi}{\\mathbb{X}}x \\right)}  $$\n",
    "\n",
    "The n choose k notation can be writen in a trigiometric formulation.\n",
    "\n",
    "$$\\large \\Re(\\sigma_{0})=\\sum_{\\mathbb{X}=2}^{\\infty}\\cos^{N} \\left( \\frac{\\pi}{\\mathbb{X}}x \\right) \\cos \\left( \\frac{N\\pi}{\\mathbb{X}}x  \\right) $$\n",
    "\n",
    "$$\\large \\Im(\\sigma_{0})=-i \\sum_{\\mathbb{X}=2}^{\\infty}\\cos^{N} \\left( \\frac{\\pi}{\\mathbb{X}}x \\right) \\sin \\left( \\frac{N\\pi}{\\mathbb{X}}x  \\right) $$\n",
    "\n",
    "This is only valid with the following criteria:\n",
    "\n",
    "$$\\large \\cos^{2} \\left( \\frac{N\\pi}{\\mathbb{X}}x  \\right) + \\sin^{2} \\left( \\frac{N\\pi}{\\mathbb{X}}x  \\right)=1$$\n",
    "\n",
    "Thus the solution of the divisor function is only valid for integer values of $x$. The wave divisor function consists of repeating wave packages with different different frequencies. The wave divisor function will have an error. It appears that the error is dependant upon the pulse width. N determines the pulse width of the individual wave packages.\n",
    "\n",
    "\n",
    "# N the pulse width definition.\n",
    "\n",
    "The wave divisor function consists of repeating wave packages. The width of a wave package can be described as the pulse height $L$ at $\\Delta x$:\n",
    "\n",
    "$$\\large \\cos^{N} \\left( \\frac{\\pi}{\\mathbb{X}} \\Delta x \\right)=L$$\n",
    "\n",
    "So N can be calculated, we can determine $N(\\mathbb{X})$ for every divisor wave.\n",
    "\n",
    "$$\\large N(\\mathbb{X})= \\frac{ln(L)}{ln \\left(  \\cos \\left(  \\frac {\\pi}{\\mathbb{X} } \\Delta x  \\right)      \\right)} $$\n",
    "\n",
    "For $(\\mathbb{X} \\rightarrow \\infty)$ N can be approximated as:\n",
    "\n",
    "$$\\large N(\\mathbb{X}) \\approx \\lim_{\\mathbb{X} \\rightarrow \\infty}     \\frac{ln(L)}{ln \\left(  \\cos \\left(  \\frac {\\pi}{\\mathbb{X} } \\Delta x  \\right)      \\right)} = - \\frac{2 \\mathbb{X}^2 \\log(L)}{\\pi^2 \\Delta x^2} $$\n",
    "\n",
    "Wolfram Alpha:\n",
    "https://www.wolframalpha.com/input/?i=ln%28L%29%2F%28ln%28cos%28pi*delta%2FX%29%29%29+as+X-%3Einfinity\n",
    "\n",
    "\n",
    "# Error of the Wave Divisor Function.\n",
    "\n",
    "The error of the wave divisor function is determined. It appears that the error follows a random walk over an arcsine distribution. The boundaries of the arcsine distribution are derived to be (for $\\mathbb{X} \\rightarrow \\infty$ ):\n",
    "\n",
    "$$\\large max(\\epsilon)=exp \\left( \\frac{\\log(L)}{\\Delta x^2}      \\right)$$\n",
    "\n",
    "The statistical variation of the arcsine distribution is determined as:\n",
    "\n",
    "$$\\large Var(\\mathbb{X})=0.5$$\n",
    "\n",
    "The total expected error is defined as the variation in $\\sigma_{0}(x)$:\n",
    "\n",
    "$$\\large Var(\\sigma_{0})=max(\\epsilon) \\cdot Var(\\mathbb{X}) \\cdot (\\sigma_{0}(x-1)+\\sigma_{0}(x+1)) $$\n",
    "\n",
    "More information:\n",
    "https://drive.google.com/open?id=10p06BBJtKVcreHfzzbF--a47fR_lbW_h"
   ]
  },
  {
   "cell_type": "markdown",
   "metadata": {},
   "source": [
    "# Simulation of Wave Divisor Function.\n",
    "\n",
    "Below is a simulation of the wave divisor function. The real solution of the divisor count is displayed for the number $x=1 \\space to \\space  x=100$. The number of divisor waves can be selected and the pulse width can be set $L, \\space \\delta x$"
   ]
  },
  {
   "cell_type": "code",
   "execution_count": 4,
   "metadata": {},
   "outputs": [],
   "source": [
    "import ipywidgets as widgets\n",
    "from IPython.display import display\n",
    "import matplotlib.pyplot as plt\n",
    "import numpy as np\n",
    " \n",
    "from operator import add\n",
    "\n",
    "%matplotlib notebook\n"
   ]
  },
  {
   "cell_type": "code",
   "execution_count": 5,
   "metadata": {},
   "outputs": [
    {
     "data": {
      "application/javascript": [
       "/* Put everything inside the global mpl namespace */\n",
       "window.mpl = {};\n",
       "\n",
       "\n",
       "mpl.get_websocket_type = function() {\n",
       "    if (typeof(WebSocket) !== 'undefined') {\n",
       "        return WebSocket;\n",
       "    } else if (typeof(MozWebSocket) !== 'undefined') {\n",
       "        return MozWebSocket;\n",
       "    } else {\n",
       "        alert('Your browser does not have WebSocket support. ' +\n",
       "              'Please try Chrome, Safari or Firefox ≥ 6. ' +\n",
       "              'Firefox 4 and 5 are also supported but you ' +\n",
       "              'have to enable WebSockets in about:config.');\n",
       "    };\n",
       "}\n",
       "\n",
       "mpl.figure = function(figure_id, websocket, ondownload, parent_element) {\n",
       "    this.id = figure_id;\n",
       "\n",
       "    this.ws = websocket;\n",
       "\n",
       "    this.supports_binary = (this.ws.binaryType != undefined);\n",
       "\n",
       "    if (!this.supports_binary) {\n",
       "        var warnings = document.getElementById(\"mpl-warnings\");\n",
       "        if (warnings) {\n",
       "            warnings.style.display = 'block';\n",
       "            warnings.textContent = (\n",
       "                \"This browser does not support binary websocket messages. \" +\n",
       "                    \"Performance may be slow.\");\n",
       "        }\n",
       "    }\n",
       "\n",
       "    this.imageObj = new Image();\n",
       "\n",
       "    this.context = undefined;\n",
       "    this.message = undefined;\n",
       "    this.canvas = undefined;\n",
       "    this.rubberband_canvas = undefined;\n",
       "    this.rubberband_context = undefined;\n",
       "    this.format_dropdown = undefined;\n",
       "\n",
       "    this.image_mode = 'full';\n",
       "\n",
       "    this.root = $('<div/>');\n",
       "    this._root_extra_style(this.root)\n",
       "    this.root.attr('style', 'display: inline-block');\n",
       "\n",
       "    $(parent_element).append(this.root);\n",
       "\n",
       "    this._init_header(this);\n",
       "    this._init_canvas(this);\n",
       "    this._init_toolbar(this);\n",
       "\n",
       "    var fig = this;\n",
       "\n",
       "    this.waiting = false;\n",
       "\n",
       "    this.ws.onopen =  function () {\n",
       "            fig.send_message(\"supports_binary\", {value: fig.supports_binary});\n",
       "            fig.send_message(\"send_image_mode\", {});\n",
       "            if (mpl.ratio != 1) {\n",
       "                fig.send_message(\"set_dpi_ratio\", {'dpi_ratio': mpl.ratio});\n",
       "            }\n",
       "            fig.send_message(\"refresh\", {});\n",
       "        }\n",
       "\n",
       "    this.imageObj.onload = function() {\n",
       "            if (fig.image_mode == 'full') {\n",
       "                // Full images could contain transparency (where diff images\n",
       "                // almost always do), so we need to clear the canvas so that\n",
       "                // there is no ghosting.\n",
       "                fig.context.clearRect(0, 0, fig.canvas.width, fig.canvas.height);\n",
       "            }\n",
       "            fig.context.drawImage(fig.imageObj, 0, 0);\n",
       "        };\n",
       "\n",
       "    this.imageObj.onunload = function() {\n",
       "        fig.ws.close();\n",
       "    }\n",
       "\n",
       "    this.ws.onmessage = this._make_on_message_function(this);\n",
       "\n",
       "    this.ondownload = ondownload;\n",
       "}\n",
       "\n",
       "mpl.figure.prototype._init_header = function() {\n",
       "    var titlebar = $(\n",
       "        '<div class=\"ui-dialog-titlebar ui-widget-header ui-corner-all ' +\n",
       "        'ui-helper-clearfix\"/>');\n",
       "    var titletext = $(\n",
       "        '<div class=\"ui-dialog-title\" style=\"width: 100%; ' +\n",
       "        'text-align: center; padding: 3px;\"/>');\n",
       "    titlebar.append(titletext)\n",
       "    this.root.append(titlebar);\n",
       "    this.header = titletext[0];\n",
       "}\n",
       "\n",
       "\n",
       "\n",
       "mpl.figure.prototype._canvas_extra_style = function(canvas_div) {\n",
       "\n",
       "}\n",
       "\n",
       "\n",
       "mpl.figure.prototype._root_extra_style = function(canvas_div) {\n",
       "\n",
       "}\n",
       "\n",
       "mpl.figure.prototype._init_canvas = function() {\n",
       "    var fig = this;\n",
       "\n",
       "    var canvas_div = $('<div/>');\n",
       "\n",
       "    canvas_div.attr('style', 'position: relative; clear: both; outline: 0');\n",
       "\n",
       "    function canvas_keyboard_event(event) {\n",
       "        return fig.key_event(event, event['data']);\n",
       "    }\n",
       "\n",
       "    canvas_div.keydown('key_press', canvas_keyboard_event);\n",
       "    canvas_div.keyup('key_release', canvas_keyboard_event);\n",
       "    this.canvas_div = canvas_div\n",
       "    this._canvas_extra_style(canvas_div)\n",
       "    this.root.append(canvas_div);\n",
       "\n",
       "    var canvas = $('<canvas/>');\n",
       "    canvas.addClass('mpl-canvas');\n",
       "    canvas.attr('style', \"left: 0; top: 0; z-index: 0; outline: 0\")\n",
       "\n",
       "    this.canvas = canvas[0];\n",
       "    this.context = canvas[0].getContext(\"2d\");\n",
       "\n",
       "    var backingStore = this.context.backingStorePixelRatio ||\n",
       "\tthis.context.webkitBackingStorePixelRatio ||\n",
       "\tthis.context.mozBackingStorePixelRatio ||\n",
       "\tthis.context.msBackingStorePixelRatio ||\n",
       "\tthis.context.oBackingStorePixelRatio ||\n",
       "\tthis.context.backingStorePixelRatio || 1;\n",
       "\n",
       "    mpl.ratio = (window.devicePixelRatio || 1) / backingStore;\n",
       "\n",
       "    var rubberband = $('<canvas/>');\n",
       "    rubberband.attr('style', \"position: absolute; left: 0; top: 0; z-index: 1;\")\n",
       "\n",
       "    var pass_mouse_events = true;\n",
       "\n",
       "    canvas_div.resizable({\n",
       "        start: function(event, ui) {\n",
       "            pass_mouse_events = false;\n",
       "        },\n",
       "        resize: function(event, ui) {\n",
       "            fig.request_resize(ui.size.width, ui.size.height);\n",
       "        },\n",
       "        stop: function(event, ui) {\n",
       "            pass_mouse_events = true;\n",
       "            fig.request_resize(ui.size.width, ui.size.height);\n",
       "        },\n",
       "    });\n",
       "\n",
       "    function mouse_event_fn(event) {\n",
       "        if (pass_mouse_events)\n",
       "            return fig.mouse_event(event, event['data']);\n",
       "    }\n",
       "\n",
       "    rubberband.mousedown('button_press', mouse_event_fn);\n",
       "    rubberband.mouseup('button_release', mouse_event_fn);\n",
       "    // Throttle sequential mouse events to 1 every 20ms.\n",
       "    rubberband.mousemove('motion_notify', mouse_event_fn);\n",
       "\n",
       "    rubberband.mouseenter('figure_enter', mouse_event_fn);\n",
       "    rubberband.mouseleave('figure_leave', mouse_event_fn);\n",
       "\n",
       "    canvas_div.on(\"wheel\", function (event) {\n",
       "        event = event.originalEvent;\n",
       "        event['data'] = 'scroll'\n",
       "        if (event.deltaY < 0) {\n",
       "            event.step = 1;\n",
       "        } else {\n",
       "            event.step = -1;\n",
       "        }\n",
       "        mouse_event_fn(event);\n",
       "    });\n",
       "\n",
       "    canvas_div.append(canvas);\n",
       "    canvas_div.append(rubberband);\n",
       "\n",
       "    this.rubberband = rubberband;\n",
       "    this.rubberband_canvas = rubberband[0];\n",
       "    this.rubberband_context = rubberband[0].getContext(\"2d\");\n",
       "    this.rubberband_context.strokeStyle = \"#000000\";\n",
       "\n",
       "    this._resize_canvas = function(width, height) {\n",
       "        // Keep the size of the canvas, canvas container, and rubber band\n",
       "        // canvas in synch.\n",
       "        canvas_div.css('width', width)\n",
       "        canvas_div.css('height', height)\n",
       "\n",
       "        canvas.attr('width', width * mpl.ratio);\n",
       "        canvas.attr('height', height * mpl.ratio);\n",
       "        canvas.attr('style', 'width: ' + width + 'px; height: ' + height + 'px;');\n",
       "\n",
       "        rubberband.attr('width', width);\n",
       "        rubberband.attr('height', height);\n",
       "    }\n",
       "\n",
       "    // Set the figure to an initial 600x600px, this will subsequently be updated\n",
       "    // upon first draw.\n",
       "    this._resize_canvas(600, 600);\n",
       "\n",
       "    // Disable right mouse context menu.\n",
       "    $(this.rubberband_canvas).bind(\"contextmenu\",function(e){\n",
       "        return false;\n",
       "    });\n",
       "\n",
       "    function set_focus () {\n",
       "        canvas.focus();\n",
       "        canvas_div.focus();\n",
       "    }\n",
       "\n",
       "    window.setTimeout(set_focus, 100);\n",
       "}\n",
       "\n",
       "mpl.figure.prototype._init_toolbar = function() {\n",
       "    var fig = this;\n",
       "\n",
       "    var nav_element = $('<div/>');\n",
       "    nav_element.attr('style', 'width: 100%');\n",
       "    this.root.append(nav_element);\n",
       "\n",
       "    // Define a callback function for later on.\n",
       "    function toolbar_event(event) {\n",
       "        return fig.toolbar_button_onclick(event['data']);\n",
       "    }\n",
       "    function toolbar_mouse_event(event) {\n",
       "        return fig.toolbar_button_onmouseover(event['data']);\n",
       "    }\n",
       "\n",
       "    for(var toolbar_ind in mpl.toolbar_items) {\n",
       "        var name = mpl.toolbar_items[toolbar_ind][0];\n",
       "        var tooltip = mpl.toolbar_items[toolbar_ind][1];\n",
       "        var image = mpl.toolbar_items[toolbar_ind][2];\n",
       "        var method_name = mpl.toolbar_items[toolbar_ind][3];\n",
       "\n",
       "        if (!name) {\n",
       "            // put a spacer in here.\n",
       "            continue;\n",
       "        }\n",
       "        var button = $('<button/>');\n",
       "        button.addClass('ui-button ui-widget ui-state-default ui-corner-all ' +\n",
       "                        'ui-button-icon-only');\n",
       "        button.attr('role', 'button');\n",
       "        button.attr('aria-disabled', 'false');\n",
       "        button.click(method_name, toolbar_event);\n",
       "        button.mouseover(tooltip, toolbar_mouse_event);\n",
       "\n",
       "        var icon_img = $('<span/>');\n",
       "        icon_img.addClass('ui-button-icon-primary ui-icon');\n",
       "        icon_img.addClass(image);\n",
       "        icon_img.addClass('ui-corner-all');\n",
       "\n",
       "        var tooltip_span = $('<span/>');\n",
       "        tooltip_span.addClass('ui-button-text');\n",
       "        tooltip_span.html(tooltip);\n",
       "\n",
       "        button.append(icon_img);\n",
       "        button.append(tooltip_span);\n",
       "\n",
       "        nav_element.append(button);\n",
       "    }\n",
       "\n",
       "    var fmt_picker_span = $('<span/>');\n",
       "\n",
       "    var fmt_picker = $('<select/>');\n",
       "    fmt_picker.addClass('mpl-toolbar-option ui-widget ui-widget-content');\n",
       "    fmt_picker_span.append(fmt_picker);\n",
       "    nav_element.append(fmt_picker_span);\n",
       "    this.format_dropdown = fmt_picker[0];\n",
       "\n",
       "    for (var ind in mpl.extensions) {\n",
       "        var fmt = mpl.extensions[ind];\n",
       "        var option = $(\n",
       "            '<option/>', {selected: fmt === mpl.default_extension}).html(fmt);\n",
       "        fmt_picker.append(option);\n",
       "    }\n",
       "\n",
       "    // Add hover states to the ui-buttons\n",
       "    $( \".ui-button\" ).hover(\n",
       "        function() { $(this).addClass(\"ui-state-hover\");},\n",
       "        function() { $(this).removeClass(\"ui-state-hover\");}\n",
       "    );\n",
       "\n",
       "    var status_bar = $('<span class=\"mpl-message\"/>');\n",
       "    nav_element.append(status_bar);\n",
       "    this.message = status_bar[0];\n",
       "}\n",
       "\n",
       "mpl.figure.prototype.request_resize = function(x_pixels, y_pixels) {\n",
       "    // Request matplotlib to resize the figure. Matplotlib will then trigger a resize in the client,\n",
       "    // which will in turn request a refresh of the image.\n",
       "    this.send_message('resize', {'width': x_pixels, 'height': y_pixels});\n",
       "}\n",
       "\n",
       "mpl.figure.prototype.send_message = function(type, properties) {\n",
       "    properties['type'] = type;\n",
       "    properties['figure_id'] = this.id;\n",
       "    this.ws.send(JSON.stringify(properties));\n",
       "}\n",
       "\n",
       "mpl.figure.prototype.send_draw_message = function() {\n",
       "    if (!this.waiting) {\n",
       "        this.waiting = true;\n",
       "        this.ws.send(JSON.stringify({type: \"draw\", figure_id: this.id}));\n",
       "    }\n",
       "}\n",
       "\n",
       "\n",
       "mpl.figure.prototype.handle_save = function(fig, msg) {\n",
       "    var format_dropdown = fig.format_dropdown;\n",
       "    var format = format_dropdown.options[format_dropdown.selectedIndex].value;\n",
       "    fig.ondownload(fig, format);\n",
       "}\n",
       "\n",
       "\n",
       "mpl.figure.prototype.handle_resize = function(fig, msg) {\n",
       "    var size = msg['size'];\n",
       "    if (size[0] != fig.canvas.width || size[1] != fig.canvas.height) {\n",
       "        fig._resize_canvas(size[0], size[1]);\n",
       "        fig.send_message(\"refresh\", {});\n",
       "    };\n",
       "}\n",
       "\n",
       "mpl.figure.prototype.handle_rubberband = function(fig, msg) {\n",
       "    var x0 = msg['x0'] / mpl.ratio;\n",
       "    var y0 = (fig.canvas.height - msg['y0']) / mpl.ratio;\n",
       "    var x1 = msg['x1'] / mpl.ratio;\n",
       "    var y1 = (fig.canvas.height - msg['y1']) / mpl.ratio;\n",
       "    x0 = Math.floor(x0) + 0.5;\n",
       "    y0 = Math.floor(y0) + 0.5;\n",
       "    x1 = Math.floor(x1) + 0.5;\n",
       "    y1 = Math.floor(y1) + 0.5;\n",
       "    var min_x = Math.min(x0, x1);\n",
       "    var min_y = Math.min(y0, y1);\n",
       "    var width = Math.abs(x1 - x0);\n",
       "    var height = Math.abs(y1 - y0);\n",
       "\n",
       "    fig.rubberband_context.clearRect(\n",
       "        0, 0, fig.canvas.width, fig.canvas.height);\n",
       "\n",
       "    fig.rubberband_context.strokeRect(min_x, min_y, width, height);\n",
       "}\n",
       "\n",
       "mpl.figure.prototype.handle_figure_label = function(fig, msg) {\n",
       "    // Updates the figure title.\n",
       "    fig.header.textContent = msg['label'];\n",
       "}\n",
       "\n",
       "mpl.figure.prototype.handle_cursor = function(fig, msg) {\n",
       "    var cursor = msg['cursor'];\n",
       "    switch(cursor)\n",
       "    {\n",
       "    case 0:\n",
       "        cursor = 'pointer';\n",
       "        break;\n",
       "    case 1:\n",
       "        cursor = 'default';\n",
       "        break;\n",
       "    case 2:\n",
       "        cursor = 'crosshair';\n",
       "        break;\n",
       "    case 3:\n",
       "        cursor = 'move';\n",
       "        break;\n",
       "    }\n",
       "    fig.rubberband_canvas.style.cursor = cursor;\n",
       "}\n",
       "\n",
       "mpl.figure.prototype.handle_message = function(fig, msg) {\n",
       "    fig.message.textContent = msg['message'];\n",
       "}\n",
       "\n",
       "mpl.figure.prototype.handle_draw = function(fig, msg) {\n",
       "    // Request the server to send over a new figure.\n",
       "    fig.send_draw_message();\n",
       "}\n",
       "\n",
       "mpl.figure.prototype.handle_image_mode = function(fig, msg) {\n",
       "    fig.image_mode = msg['mode'];\n",
       "}\n",
       "\n",
       "mpl.figure.prototype.updated_canvas_event = function() {\n",
       "    // Called whenever the canvas gets updated.\n",
       "    this.send_message(\"ack\", {});\n",
       "}\n",
       "\n",
       "// A function to construct a web socket function for onmessage handling.\n",
       "// Called in the figure constructor.\n",
       "mpl.figure.prototype._make_on_message_function = function(fig) {\n",
       "    return function socket_on_message(evt) {\n",
       "        if (evt.data instanceof Blob) {\n",
       "            /* FIXME: We get \"Resource interpreted as Image but\n",
       "             * transferred with MIME type text/plain:\" errors on\n",
       "             * Chrome.  But how to set the MIME type?  It doesn't seem\n",
       "             * to be part of the websocket stream */\n",
       "            evt.data.type = \"image/png\";\n",
       "\n",
       "            /* Free the memory for the previous frames */\n",
       "            if (fig.imageObj.src) {\n",
       "                (window.URL || window.webkitURL).revokeObjectURL(\n",
       "                    fig.imageObj.src);\n",
       "            }\n",
       "\n",
       "            fig.imageObj.src = (window.URL || window.webkitURL).createObjectURL(\n",
       "                evt.data);\n",
       "            fig.updated_canvas_event();\n",
       "            fig.waiting = false;\n",
       "            return;\n",
       "        }\n",
       "        else if (typeof evt.data === 'string' && evt.data.slice(0, 21) == \"data:image/png;base64\") {\n",
       "            fig.imageObj.src = evt.data;\n",
       "            fig.updated_canvas_event();\n",
       "            fig.waiting = false;\n",
       "            return;\n",
       "        }\n",
       "\n",
       "        var msg = JSON.parse(evt.data);\n",
       "        var msg_type = msg['type'];\n",
       "\n",
       "        // Call the  \"handle_{type}\" callback, which takes\n",
       "        // the figure and JSON message as its only arguments.\n",
       "        try {\n",
       "            var callback = fig[\"handle_\" + msg_type];\n",
       "        } catch (e) {\n",
       "            console.log(\"No handler for the '\" + msg_type + \"' message type: \", msg);\n",
       "            return;\n",
       "        }\n",
       "\n",
       "        if (callback) {\n",
       "            try {\n",
       "                // console.log(\"Handling '\" + msg_type + \"' message: \", msg);\n",
       "                callback(fig, msg);\n",
       "            } catch (e) {\n",
       "                console.log(\"Exception inside the 'handler_\" + msg_type + \"' callback:\", e, e.stack, msg);\n",
       "            }\n",
       "        }\n",
       "    };\n",
       "}\n",
       "\n",
       "// from http://stackoverflow.com/questions/1114465/getting-mouse-location-in-canvas\n",
       "mpl.findpos = function(e) {\n",
       "    //this section is from http://www.quirksmode.org/js/events_properties.html\n",
       "    var targ;\n",
       "    if (!e)\n",
       "        e = window.event;\n",
       "    if (e.target)\n",
       "        targ = e.target;\n",
       "    else if (e.srcElement)\n",
       "        targ = e.srcElement;\n",
       "    if (targ.nodeType == 3) // defeat Safari bug\n",
       "        targ = targ.parentNode;\n",
       "\n",
       "    // jQuery normalizes the pageX and pageY\n",
       "    // pageX,Y are the mouse positions relative to the document\n",
       "    // offset() returns the position of the element relative to the document\n",
       "    var x = e.pageX - $(targ).offset().left;\n",
       "    var y = e.pageY - $(targ).offset().top;\n",
       "\n",
       "    return {\"x\": x, \"y\": y};\n",
       "};\n",
       "\n",
       "/*\n",
       " * return a copy of an object with only non-object keys\n",
       " * we need this to avoid circular references\n",
       " * http://stackoverflow.com/a/24161582/3208463\n",
       " */\n",
       "function simpleKeys (original) {\n",
       "  return Object.keys(original).reduce(function (obj, key) {\n",
       "    if (typeof original[key] !== 'object')\n",
       "        obj[key] = original[key]\n",
       "    return obj;\n",
       "  }, {});\n",
       "}\n",
       "\n",
       "mpl.figure.prototype.mouse_event = function(event, name) {\n",
       "    var canvas_pos = mpl.findpos(event)\n",
       "\n",
       "    if (name === 'button_press')\n",
       "    {\n",
       "        this.canvas.focus();\n",
       "        this.canvas_div.focus();\n",
       "    }\n",
       "\n",
       "    var x = canvas_pos.x * mpl.ratio;\n",
       "    var y = canvas_pos.y * mpl.ratio;\n",
       "\n",
       "    this.send_message(name, {x: x, y: y, button: event.button,\n",
       "                             step: event.step,\n",
       "                             guiEvent: simpleKeys(event)});\n",
       "\n",
       "    /* This prevents the web browser from automatically changing to\n",
       "     * the text insertion cursor when the button is pressed.  We want\n",
       "     * to control all of the cursor setting manually through the\n",
       "     * 'cursor' event from matplotlib */\n",
       "    event.preventDefault();\n",
       "    return false;\n",
       "}\n",
       "\n",
       "mpl.figure.prototype._key_event_extra = function(event, name) {\n",
       "    // Handle any extra behaviour associated with a key event\n",
       "}\n",
       "\n",
       "mpl.figure.prototype.key_event = function(event, name) {\n",
       "\n",
       "    // Prevent repeat events\n",
       "    if (name == 'key_press')\n",
       "    {\n",
       "        if (event.which === this._key)\n",
       "            return;\n",
       "        else\n",
       "            this._key = event.which;\n",
       "    }\n",
       "    if (name == 'key_release')\n",
       "        this._key = null;\n",
       "\n",
       "    var value = '';\n",
       "    if (event.ctrlKey && event.which != 17)\n",
       "        value += \"ctrl+\";\n",
       "    if (event.altKey && event.which != 18)\n",
       "        value += \"alt+\";\n",
       "    if (event.shiftKey && event.which != 16)\n",
       "        value += \"shift+\";\n",
       "\n",
       "    value += 'k';\n",
       "    value += event.which.toString();\n",
       "\n",
       "    this._key_event_extra(event, name);\n",
       "\n",
       "    this.send_message(name, {key: value,\n",
       "                             guiEvent: simpleKeys(event)});\n",
       "    return false;\n",
       "}\n",
       "\n",
       "mpl.figure.prototype.toolbar_button_onclick = function(name) {\n",
       "    if (name == 'download') {\n",
       "        this.handle_save(this, null);\n",
       "    } else {\n",
       "        this.send_message(\"toolbar_button\", {name: name});\n",
       "    }\n",
       "};\n",
       "\n",
       "mpl.figure.prototype.toolbar_button_onmouseover = function(tooltip) {\n",
       "    this.message.textContent = tooltip;\n",
       "};\n",
       "mpl.toolbar_items = [[\"Home\", \"Reset original view\", \"fa fa-home icon-home\", \"home\"], [\"Back\", \"Back to previous view\", \"fa fa-arrow-left icon-arrow-left\", \"back\"], [\"Forward\", \"Forward to next view\", \"fa fa-arrow-right icon-arrow-right\", \"forward\"], [\"\", \"\", \"\", \"\"], [\"Pan\", \"Pan axes with left mouse, zoom with right\", \"fa fa-arrows icon-move\", \"pan\"], [\"Zoom\", \"Zoom to rectangle\", \"fa fa-square-o icon-check-empty\", \"zoom\"], [\"\", \"\", \"\", \"\"], [\"Download\", \"Download plot\", \"fa fa-floppy-o icon-save\", \"download\"]];\n",
       "\n",
       "mpl.extensions = [\"eps\", \"jpeg\", \"pdf\", \"png\", \"ps\", \"raw\", \"svg\", \"tif\"];\n",
       "\n",
       "mpl.default_extension = \"png\";var comm_websocket_adapter = function(comm) {\n",
       "    // Create a \"websocket\"-like object which calls the given IPython comm\n",
       "    // object with the appropriate methods. Currently this is a non binary\n",
       "    // socket, so there is still some room for performance tuning.\n",
       "    var ws = {};\n",
       "\n",
       "    ws.close = function() {\n",
       "        comm.close()\n",
       "    };\n",
       "    ws.send = function(m) {\n",
       "        //console.log('sending', m);\n",
       "        comm.send(m);\n",
       "    };\n",
       "    // Register the callback with on_msg.\n",
       "    comm.on_msg(function(msg) {\n",
       "        //console.log('receiving', msg['content']['data'], msg);\n",
       "        // Pass the mpl event to the overridden (by mpl) onmessage function.\n",
       "        ws.onmessage(msg['content']['data'])\n",
       "    });\n",
       "    return ws;\n",
       "}\n",
       "\n",
       "mpl.mpl_figure_comm = function(comm, msg) {\n",
       "    // This is the function which gets called when the mpl process\n",
       "    // starts-up an IPython Comm through the \"matplotlib\" channel.\n",
       "\n",
       "    var id = msg.content.data.id;\n",
       "    // Get hold of the div created by the display call when the Comm\n",
       "    // socket was opened in Python.\n",
       "    var element = $(\"#\" + id);\n",
       "    var ws_proxy = comm_websocket_adapter(comm)\n",
       "\n",
       "    function ondownload(figure, format) {\n",
       "        window.open(figure.imageObj.src);\n",
       "    }\n",
       "\n",
       "    var fig = new mpl.figure(id, ws_proxy,\n",
       "                           ondownload,\n",
       "                           element.get(0));\n",
       "\n",
       "    // Call onopen now - mpl needs it, as it is assuming we've passed it a real\n",
       "    // web socket which is closed, not our websocket->open comm proxy.\n",
       "    ws_proxy.onopen();\n",
       "\n",
       "    fig.parent_element = element.get(0);\n",
       "    fig.cell_info = mpl.find_output_cell(\"<div id='\" + id + \"'></div>\");\n",
       "    if (!fig.cell_info) {\n",
       "        console.error(\"Failed to find cell for figure\", id, fig);\n",
       "        return;\n",
       "    }\n",
       "\n",
       "    var output_index = fig.cell_info[2]\n",
       "    var cell = fig.cell_info[0];\n",
       "\n",
       "};\n",
       "\n",
       "mpl.figure.prototype.handle_close = function(fig, msg) {\n",
       "    var width = fig.canvas.width/mpl.ratio\n",
       "    fig.root.unbind('remove')\n",
       "\n",
       "    // Update the output cell to use the data from the current canvas.\n",
       "    fig.push_to_output();\n",
       "    var dataURL = fig.canvas.toDataURL();\n",
       "    // Re-enable the keyboard manager in IPython - without this line, in FF,\n",
       "    // the notebook keyboard shortcuts fail.\n",
       "    IPython.keyboard_manager.enable()\n",
       "    $(fig.parent_element).html('<img src=\"' + dataURL + '\" width=\"' + width + '\">');\n",
       "    fig.close_ws(fig, msg);\n",
       "}\n",
       "\n",
       "mpl.figure.prototype.close_ws = function(fig, msg){\n",
       "    fig.send_message('closing', msg);\n",
       "    // fig.ws.close()\n",
       "}\n",
       "\n",
       "mpl.figure.prototype.push_to_output = function(remove_interactive) {\n",
       "    // Turn the data on the canvas into data in the output cell.\n",
       "    var width = this.canvas.width/mpl.ratio\n",
       "    var dataURL = this.canvas.toDataURL();\n",
       "    this.cell_info[1]['text/html'] = '<img src=\"' + dataURL + '\" width=\"' + width + '\">';\n",
       "}\n",
       "\n",
       "mpl.figure.prototype.updated_canvas_event = function() {\n",
       "    // Tell IPython that the notebook contents must change.\n",
       "    IPython.notebook.set_dirty(true);\n",
       "    this.send_message(\"ack\", {});\n",
       "    var fig = this;\n",
       "    // Wait a second, then push the new image to the DOM so\n",
       "    // that it is saved nicely (might be nice to debounce this).\n",
       "    setTimeout(function () { fig.push_to_output() }, 1000);\n",
       "}\n",
       "\n",
       "mpl.figure.prototype._init_toolbar = function() {\n",
       "    var fig = this;\n",
       "\n",
       "    var nav_element = $('<div/>');\n",
       "    nav_element.attr('style', 'width: 100%');\n",
       "    this.root.append(nav_element);\n",
       "\n",
       "    // Define a callback function for later on.\n",
       "    function toolbar_event(event) {\n",
       "        return fig.toolbar_button_onclick(event['data']);\n",
       "    }\n",
       "    function toolbar_mouse_event(event) {\n",
       "        return fig.toolbar_button_onmouseover(event['data']);\n",
       "    }\n",
       "\n",
       "    for(var toolbar_ind in mpl.toolbar_items){\n",
       "        var name = mpl.toolbar_items[toolbar_ind][0];\n",
       "        var tooltip = mpl.toolbar_items[toolbar_ind][1];\n",
       "        var image = mpl.toolbar_items[toolbar_ind][2];\n",
       "        var method_name = mpl.toolbar_items[toolbar_ind][3];\n",
       "\n",
       "        if (!name) { continue; };\n",
       "\n",
       "        var button = $('<button class=\"btn btn-default\" href=\"#\" title=\"' + name + '\"><i class=\"fa ' + image + ' fa-lg\"></i></button>');\n",
       "        button.click(method_name, toolbar_event);\n",
       "        button.mouseover(tooltip, toolbar_mouse_event);\n",
       "        nav_element.append(button);\n",
       "    }\n",
       "\n",
       "    // Add the status bar.\n",
       "    var status_bar = $('<span class=\"mpl-message\" style=\"text-align:right; float: right;\"/>');\n",
       "    nav_element.append(status_bar);\n",
       "    this.message = status_bar[0];\n",
       "\n",
       "    // Add the close button to the window.\n",
       "    var buttongrp = $('<div class=\"btn-group inline pull-right\"></div>');\n",
       "    var button = $('<button class=\"btn btn-mini btn-primary\" href=\"#\" title=\"Stop Interaction\"><i class=\"fa fa-power-off icon-remove icon-large\"></i></button>');\n",
       "    button.click(function (evt) { fig.handle_close(fig, {}); } );\n",
       "    button.mouseover('Stop Interaction', toolbar_mouse_event);\n",
       "    buttongrp.append(button);\n",
       "    var titlebar = this.root.find($('.ui-dialog-titlebar'));\n",
       "    titlebar.prepend(buttongrp);\n",
       "}\n",
       "\n",
       "mpl.figure.prototype._root_extra_style = function(el){\n",
       "    var fig = this\n",
       "    el.on(\"remove\", function(){\n",
       "\tfig.close_ws(fig, {});\n",
       "    });\n",
       "}\n",
       "\n",
       "mpl.figure.prototype._canvas_extra_style = function(el){\n",
       "    // this is important to make the div 'focusable\n",
       "    el.attr('tabindex', 0)\n",
       "    // reach out to IPython and tell the keyboard manager to turn it's self\n",
       "    // off when our div gets focus\n",
       "\n",
       "    // location in version 3\n",
       "    if (IPython.notebook.keyboard_manager) {\n",
       "        IPython.notebook.keyboard_manager.register_events(el);\n",
       "    }\n",
       "    else {\n",
       "        // location in version 2\n",
       "        IPython.keyboard_manager.register_events(el);\n",
       "    }\n",
       "\n",
       "}\n",
       "\n",
       "mpl.figure.prototype._key_event_extra = function(event, name) {\n",
       "    var manager = IPython.notebook.keyboard_manager;\n",
       "    if (!manager)\n",
       "        manager = IPython.keyboard_manager;\n",
       "\n",
       "    // Check for shift+enter\n",
       "    if (event.shiftKey && event.which == 13) {\n",
       "        this.canvas_div.blur();\n",
       "        event.shiftKey = false;\n",
       "        // Send a \"J\" for go to next cell\n",
       "        event.which = 74;\n",
       "        event.keyCode = 74;\n",
       "        manager.command_mode();\n",
       "        manager.handle_keydown(event);\n",
       "    }\n",
       "}\n",
       "\n",
       "mpl.figure.prototype.handle_save = function(fig, msg) {\n",
       "    fig.ondownload(fig, null);\n",
       "}\n",
       "\n",
       "\n",
       "mpl.find_output_cell = function(html_output) {\n",
       "    // Return the cell and output element which can be found *uniquely* in the notebook.\n",
       "    // Note - this is a bit hacky, but it is done because the \"notebook_saving.Notebook\"\n",
       "    // IPython event is triggered only after the cells have been serialised, which for\n",
       "    // our purposes (turning an active figure into a static one), is too late.\n",
       "    var cells = IPython.notebook.get_cells();\n",
       "    var ncells = cells.length;\n",
       "    for (var i=0; i<ncells; i++) {\n",
       "        var cell = cells[i];\n",
       "        if (cell.cell_type === 'code'){\n",
       "            for (var j=0; j<cell.output_area.outputs.length; j++) {\n",
       "                var data = cell.output_area.outputs[j];\n",
       "                if (data.data) {\n",
       "                    // IPython >= 3 moved mimebundle to data attribute of output\n",
       "                    data = data.data;\n",
       "                }\n",
       "                if (data['text/html'] == html_output) {\n",
       "                    return [cell, data, j];\n",
       "                }\n",
       "            }\n",
       "        }\n",
       "    }\n",
       "}\n",
       "\n",
       "// Register the function which deals with the matplotlib target/channel.\n",
       "// The kernel may be null if the page has been refreshed.\n",
       "if (IPython.notebook.kernel != null) {\n",
       "    IPython.notebook.kernel.comm_manager.register_target('matplotlib', mpl.mpl_figure_comm);\n",
       "}\n"
      ],
      "text/plain": [
       "<IPython.core.display.Javascript object>"
      ]
     },
     "metadata": {},
     "output_type": "display_data"
    },
    {
     "data": {
      "text/html": [
       "<img src=\"data:image/png;base64,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\" width=\"900\">"
      ],
      "text/plain": [
       "<IPython.core.display.HTML object>"
      ]
     },
     "metadata": {},
     "output_type": "display_data"
    },
    {
     "name": "stdout",
     "output_type": "stream",
     "text": [
      "Options:\n",
      "L is pulse height at dx\n",
      "Select number of divisors waves (use: <Ctrl> or <Alt> to select multiples.)\n"
     ]
    },
    {
     "data": {
      "application/vnd.jupyter.widget-view+json": {
       "model_id": "db88458eff924700b28e68140bac53b2",
       "version_major": 2,
       "version_minor": 0
      },
      "text/plain": [
       "interactive(children=(FloatSlider(value=0.25, description='$\\\\Delta x$:', max=0.99, min=0.15, step=0.01), Floa…"
      ]
     },
     "metadata": {},
     "output_type": "display_data"
    }
   ],
   "source": [
    "x1 = np.linspace(0, 100, 40001)\n",
    "fig, ax1 = plt.subplots(1, figsize=(9, 4))\n",
    "plt.suptitle('$\\sigma_{0}$ Wave Divisor Function')\n",
    "\n",
    "def update_plot(dx, L, wave):\n",
    "    \n",
    "    ax1.clear()\n",
    "    \n",
    "    y=[0]*40001\n",
    "    \n",
    "    for w in wave:\n",
    "  \n",
    "        N=-2*(w**2)*np.log(L)/((np.pi**2)*(dx**2))\n",
    "        N=2*round(0.5*N,0)\n",
    "        \n",
    "        yw = ((np.cos(x1*np.pi/w))**N)*(np.cos(np.pi*N*x1/w))\n",
    "              \n",
    "        \n",
    "        y=list(map(add, y, yw) )\n",
    "    \n",
    "    units = '$\\Delta x$ = {} \\nL = {}'\n",
    "    \n",
    "    ax1.plot(x1, y, label=units.format(dx, L))\n",
    "    ax1.set_xlim(x1[0], x1[-1])\n",
    "    ax1.legend(loc=1)\n",
    "    ax1.set_xlabel('$x$')\n",
    "    plt.show()\n",
    "\n",
    "print(\"Options:\")\n",
    "print(\"L is pulse height at dx\")\n",
    "print(\"Select number of divisors waves (use: <Ctrl> or <Alt> to select multiples.)\")\n",
    "dx = widgets.FloatSlider(min=0.15, max=0.99, value=0.25, step=0.01, description='$\\Delta x$:')\n",
    "L = widgets.FloatSlider(min=0.15, max=0.99, value=0.5, step=0.01, description='L')\n",
    "wave = widgets.SelectMultiple(options=list(range(2,101)), value=(20, ), description=\"$\\mathbb{X}$\")   \n",
    "\n",
    "widgets.interactive(update_plot, dx=dx, L=L, wave=wave)"
   ]
  },
  {
   "cell_type": "markdown",
   "metadata": {},
   "source": [
    "# Oribitals of numbers.\n",
    "\n",
    "Every number can be seen as a path in the $\\Re, \\space \\Im$ plane. Prime numbers will only have one frequency. Numbers with more divisors will have an unique resonation. When the pulse width is small enough like: $\\Delta x=0.25, \\space L=0.5$ the effect of neigbour pulses is neglactable and the resconance curve can be displayed."
   ]
  },
  {
   "cell_type": "code",
   "execution_count": 20,
   "metadata": {},
   "outputs": [
    {
     "data": {
      "application/javascript": [
       "/* Put everything inside the global mpl namespace */\n",
       "window.mpl = {};\n",
       "\n",
       "\n",
       "mpl.get_websocket_type = function() {\n",
       "    if (typeof(WebSocket) !== 'undefined') {\n",
       "        return WebSocket;\n",
       "    } else if (typeof(MozWebSocket) !== 'undefined') {\n",
       "        return MozWebSocket;\n",
       "    } else {\n",
       "        alert('Your browser does not have WebSocket support. ' +\n",
       "              'Please try Chrome, Safari or Firefox ≥ 6. ' +\n",
       "              'Firefox 4 and 5 are also supported but you ' +\n",
       "              'have to enable WebSockets in about:config.');\n",
       "    };\n",
       "}\n",
       "\n",
       "mpl.figure = function(figure_id, websocket, ondownload, parent_element) {\n",
       "    this.id = figure_id;\n",
       "\n",
       "    this.ws = websocket;\n",
       "\n",
       "    this.supports_binary = (this.ws.binaryType != undefined);\n",
       "\n",
       "    if (!this.supports_binary) {\n",
       "        var warnings = document.getElementById(\"mpl-warnings\");\n",
       "        if (warnings) {\n",
       "            warnings.style.display = 'block';\n",
       "            warnings.textContent = (\n",
       "                \"This browser does not support binary websocket messages. \" +\n",
       "                    \"Performance may be slow.\");\n",
       "        }\n",
       "    }\n",
       "\n",
       "    this.imageObj = new Image();\n",
       "\n",
       "    this.context = undefined;\n",
       "    this.message = undefined;\n",
       "    this.canvas = undefined;\n",
       "    this.rubberband_canvas = undefined;\n",
       "    this.rubberband_context = undefined;\n",
       "    this.format_dropdown = undefined;\n",
       "\n",
       "    this.image_mode = 'full';\n",
       "\n",
       "    this.root = $('<div/>');\n",
       "    this._root_extra_style(this.root)\n",
       "    this.root.attr('style', 'display: inline-block');\n",
       "\n",
       "    $(parent_element).append(this.root);\n",
       "\n",
       "    this._init_header(this);\n",
       "    this._init_canvas(this);\n",
       "    this._init_toolbar(this);\n",
       "\n",
       "    var fig = this;\n",
       "\n",
       "    this.waiting = false;\n",
       "\n",
       "    this.ws.onopen =  function () {\n",
       "            fig.send_message(\"supports_binary\", {value: fig.supports_binary});\n",
       "            fig.send_message(\"send_image_mode\", {});\n",
       "            if (mpl.ratio != 1) {\n",
       "                fig.send_message(\"set_dpi_ratio\", {'dpi_ratio': mpl.ratio});\n",
       "            }\n",
       "            fig.send_message(\"refresh\", {});\n",
       "        }\n",
       "\n",
       "    this.imageObj.onload = function() {\n",
       "            if (fig.image_mode == 'full') {\n",
       "                // Full images could contain transparency (where diff images\n",
       "                // almost always do), so we need to clear the canvas so that\n",
       "                // there is no ghosting.\n",
       "                fig.context.clearRect(0, 0, fig.canvas.width, fig.canvas.height);\n",
       "            }\n",
       "            fig.context.drawImage(fig.imageObj, 0, 0);\n",
       "        };\n",
       "\n",
       "    this.imageObj.onunload = function() {\n",
       "        fig.ws.close();\n",
       "    }\n",
       "\n",
       "    this.ws.onmessage = this._make_on_message_function(this);\n",
       "\n",
       "    this.ondownload = ondownload;\n",
       "}\n",
       "\n",
       "mpl.figure.prototype._init_header = function() {\n",
       "    var titlebar = $(\n",
       "        '<div class=\"ui-dialog-titlebar ui-widget-header ui-corner-all ' +\n",
       "        'ui-helper-clearfix\"/>');\n",
       "    var titletext = $(\n",
       "        '<div class=\"ui-dialog-title\" style=\"width: 100%; ' +\n",
       "        'text-align: center; padding: 3px;\"/>');\n",
       "    titlebar.append(titletext)\n",
       "    this.root.append(titlebar);\n",
       "    this.header = titletext[0];\n",
       "}\n",
       "\n",
       "\n",
       "\n",
       "mpl.figure.prototype._canvas_extra_style = function(canvas_div) {\n",
       "\n",
       "}\n",
       "\n",
       "\n",
       "mpl.figure.prototype._root_extra_style = function(canvas_div) {\n",
       "\n",
       "}\n",
       "\n",
       "mpl.figure.prototype._init_canvas = function() {\n",
       "    var fig = this;\n",
       "\n",
       "    var canvas_div = $('<div/>');\n",
       "\n",
       "    canvas_div.attr('style', 'position: relative; clear: both; outline: 0');\n",
       "\n",
       "    function canvas_keyboard_event(event) {\n",
       "        return fig.key_event(event, event['data']);\n",
       "    }\n",
       "\n",
       "    canvas_div.keydown('key_press', canvas_keyboard_event);\n",
       "    canvas_div.keyup('key_release', canvas_keyboard_event);\n",
       "    this.canvas_div = canvas_div\n",
       "    this._canvas_extra_style(canvas_div)\n",
       "    this.root.append(canvas_div);\n",
       "\n",
       "    var canvas = $('<canvas/>');\n",
       "    canvas.addClass('mpl-canvas');\n",
       "    canvas.attr('style', \"left: 0; top: 0; z-index: 0; outline: 0\")\n",
       "\n",
       "    this.canvas = canvas[0];\n",
       "    this.context = canvas[0].getContext(\"2d\");\n",
       "\n",
       "    var backingStore = this.context.backingStorePixelRatio ||\n",
       "\tthis.context.webkitBackingStorePixelRatio ||\n",
       "\tthis.context.mozBackingStorePixelRatio ||\n",
       "\tthis.context.msBackingStorePixelRatio ||\n",
       "\tthis.context.oBackingStorePixelRatio ||\n",
       "\tthis.context.backingStorePixelRatio || 1;\n",
       "\n",
       "    mpl.ratio = (window.devicePixelRatio || 1) / backingStore;\n",
       "\n",
       "    var rubberband = $('<canvas/>');\n",
       "    rubberband.attr('style', \"position: absolute; left: 0; top: 0; z-index: 1;\")\n",
       "\n",
       "    var pass_mouse_events = true;\n",
       "\n",
       "    canvas_div.resizable({\n",
       "        start: function(event, ui) {\n",
       "            pass_mouse_events = false;\n",
       "        },\n",
       "        resize: function(event, ui) {\n",
       "            fig.request_resize(ui.size.width, ui.size.height);\n",
       "        },\n",
       "        stop: function(event, ui) {\n",
       "            pass_mouse_events = true;\n",
       "            fig.request_resize(ui.size.width, ui.size.height);\n",
       "        },\n",
       "    });\n",
       "\n",
       "    function mouse_event_fn(event) {\n",
       "        if (pass_mouse_events)\n",
       "            return fig.mouse_event(event, event['data']);\n",
       "    }\n",
       "\n",
       "    rubberband.mousedown('button_press', mouse_event_fn);\n",
       "    rubberband.mouseup('button_release', mouse_event_fn);\n",
       "    // Throttle sequential mouse events to 1 every 20ms.\n",
       "    rubberband.mousemove('motion_notify', mouse_event_fn);\n",
       "\n",
       "    rubberband.mouseenter('figure_enter', mouse_event_fn);\n",
       "    rubberband.mouseleave('figure_leave', mouse_event_fn);\n",
       "\n",
       "    canvas_div.on(\"wheel\", function (event) {\n",
       "        event = event.originalEvent;\n",
       "        event['data'] = 'scroll'\n",
       "        if (event.deltaY < 0) {\n",
       "            event.step = 1;\n",
       "        } else {\n",
       "            event.step = -1;\n",
       "        }\n",
       "        mouse_event_fn(event);\n",
       "    });\n",
       "\n",
       "    canvas_div.append(canvas);\n",
       "    canvas_div.append(rubberband);\n",
       "\n",
       "    this.rubberband = rubberband;\n",
       "    this.rubberband_canvas = rubberband[0];\n",
       "    this.rubberband_context = rubberband[0].getContext(\"2d\");\n",
       "    this.rubberband_context.strokeStyle = \"#000000\";\n",
       "\n",
       "    this._resize_canvas = function(width, height) {\n",
       "        // Keep the size of the canvas, canvas container, and rubber band\n",
       "        // canvas in synch.\n",
       "        canvas_div.css('width', width)\n",
       "        canvas_div.css('height', height)\n",
       "\n",
       "        canvas.attr('width', width * mpl.ratio);\n",
       "        canvas.attr('height', height * mpl.ratio);\n",
       "        canvas.attr('style', 'width: ' + width + 'px; height: ' + height + 'px;');\n",
       "\n",
       "        rubberband.attr('width', width);\n",
       "        rubberband.attr('height', height);\n",
       "    }\n",
       "\n",
       "    // Set the figure to an initial 600x600px, this will subsequently be updated\n",
       "    // upon first draw.\n",
       "    this._resize_canvas(600, 600);\n",
       "\n",
       "    // Disable right mouse context menu.\n",
       "    $(this.rubberband_canvas).bind(\"contextmenu\",function(e){\n",
       "        return false;\n",
       "    });\n",
       "\n",
       "    function set_focus () {\n",
       "        canvas.focus();\n",
       "        canvas_div.focus();\n",
       "    }\n",
       "\n",
       "    window.setTimeout(set_focus, 100);\n",
       "}\n",
       "\n",
       "mpl.figure.prototype._init_toolbar = function() {\n",
       "    var fig = this;\n",
       "\n",
       "    var nav_element = $('<div/>');\n",
       "    nav_element.attr('style', 'width: 100%');\n",
       "    this.root.append(nav_element);\n",
       "\n",
       "    // Define a callback function for later on.\n",
       "    function toolbar_event(event) {\n",
       "        return fig.toolbar_button_onclick(event['data']);\n",
       "    }\n",
       "    function toolbar_mouse_event(event) {\n",
       "        return fig.toolbar_button_onmouseover(event['data']);\n",
       "    }\n",
       "\n",
       "    for(var toolbar_ind in mpl.toolbar_items) {\n",
       "        var name = mpl.toolbar_items[toolbar_ind][0];\n",
       "        var tooltip = mpl.toolbar_items[toolbar_ind][1];\n",
       "        var image = mpl.toolbar_items[toolbar_ind][2];\n",
       "        var method_name = mpl.toolbar_items[toolbar_ind][3];\n",
       "\n",
       "        if (!name) {\n",
       "            // put a spacer in here.\n",
       "            continue;\n",
       "        }\n",
       "        var button = $('<button/>');\n",
       "        button.addClass('ui-button ui-widget ui-state-default ui-corner-all ' +\n",
       "                        'ui-button-icon-only');\n",
       "        button.attr('role', 'button');\n",
       "        button.attr('aria-disabled', 'false');\n",
       "        button.click(method_name, toolbar_event);\n",
       "        button.mouseover(tooltip, toolbar_mouse_event);\n",
       "\n",
       "        var icon_img = $('<span/>');\n",
       "        icon_img.addClass('ui-button-icon-primary ui-icon');\n",
       "        icon_img.addClass(image);\n",
       "        icon_img.addClass('ui-corner-all');\n",
       "\n",
       "        var tooltip_span = $('<span/>');\n",
       "        tooltip_span.addClass('ui-button-text');\n",
       "        tooltip_span.html(tooltip);\n",
       "\n",
       "        button.append(icon_img);\n",
       "        button.append(tooltip_span);\n",
       "\n",
       "        nav_element.append(button);\n",
       "    }\n",
       "\n",
       "    var fmt_picker_span = $('<span/>');\n",
       "\n",
       "    var fmt_picker = $('<select/>');\n",
       "    fmt_picker.addClass('mpl-toolbar-option ui-widget ui-widget-content');\n",
       "    fmt_picker_span.append(fmt_picker);\n",
       "    nav_element.append(fmt_picker_span);\n",
       "    this.format_dropdown = fmt_picker[0];\n",
       "\n",
       "    for (var ind in mpl.extensions) {\n",
       "        var fmt = mpl.extensions[ind];\n",
       "        var option = $(\n",
       "            '<option/>', {selected: fmt === mpl.default_extension}).html(fmt);\n",
       "        fmt_picker.append(option);\n",
       "    }\n",
       "\n",
       "    // Add hover states to the ui-buttons\n",
       "    $( \".ui-button\" ).hover(\n",
       "        function() { $(this).addClass(\"ui-state-hover\");},\n",
       "        function() { $(this).removeClass(\"ui-state-hover\");}\n",
       "    );\n",
       "\n",
       "    var status_bar = $('<span class=\"mpl-message\"/>');\n",
       "    nav_element.append(status_bar);\n",
       "    this.message = status_bar[0];\n",
       "}\n",
       "\n",
       "mpl.figure.prototype.request_resize = function(x_pixels, y_pixels) {\n",
       "    // Request matplotlib to resize the figure. Matplotlib will then trigger a resize in the client,\n",
       "    // which will in turn request a refresh of the image.\n",
       "    this.send_message('resize', {'width': x_pixels, 'height': y_pixels});\n",
       "}\n",
       "\n",
       "mpl.figure.prototype.send_message = function(type, properties) {\n",
       "    properties['type'] = type;\n",
       "    properties['figure_id'] = this.id;\n",
       "    this.ws.send(JSON.stringify(properties));\n",
       "}\n",
       "\n",
       "mpl.figure.prototype.send_draw_message = function() {\n",
       "    if (!this.waiting) {\n",
       "        this.waiting = true;\n",
       "        this.ws.send(JSON.stringify({type: \"draw\", figure_id: this.id}));\n",
       "    }\n",
       "}\n",
       "\n",
       "\n",
       "mpl.figure.prototype.handle_save = function(fig, msg) {\n",
       "    var format_dropdown = fig.format_dropdown;\n",
       "    var format = format_dropdown.options[format_dropdown.selectedIndex].value;\n",
       "    fig.ondownload(fig, format);\n",
       "}\n",
       "\n",
       "\n",
       "mpl.figure.prototype.handle_resize = function(fig, msg) {\n",
       "    var size = msg['size'];\n",
       "    if (size[0] != fig.canvas.width || size[1] != fig.canvas.height) {\n",
       "        fig._resize_canvas(size[0], size[1]);\n",
       "        fig.send_message(\"refresh\", {});\n",
       "    };\n",
       "}\n",
       "\n",
       "mpl.figure.prototype.handle_rubberband = function(fig, msg) {\n",
       "    var x0 = msg['x0'] / mpl.ratio;\n",
       "    var y0 = (fig.canvas.height - msg['y0']) / mpl.ratio;\n",
       "    var x1 = msg['x1'] / mpl.ratio;\n",
       "    var y1 = (fig.canvas.height - msg['y1']) / mpl.ratio;\n",
       "    x0 = Math.floor(x0) + 0.5;\n",
       "    y0 = Math.floor(y0) + 0.5;\n",
       "    x1 = Math.floor(x1) + 0.5;\n",
       "    y1 = Math.floor(y1) + 0.5;\n",
       "    var min_x = Math.min(x0, x1);\n",
       "    var min_y = Math.min(y0, y1);\n",
       "    var width = Math.abs(x1 - x0);\n",
       "    var height = Math.abs(y1 - y0);\n",
       "\n",
       "    fig.rubberband_context.clearRect(\n",
       "        0, 0, fig.canvas.width, fig.canvas.height);\n",
       "\n",
       "    fig.rubberband_context.strokeRect(min_x, min_y, width, height);\n",
       "}\n",
       "\n",
       "mpl.figure.prototype.handle_figure_label = function(fig, msg) {\n",
       "    // Updates the figure title.\n",
       "    fig.header.textContent = msg['label'];\n",
       "}\n",
       "\n",
       "mpl.figure.prototype.handle_cursor = function(fig, msg) {\n",
       "    var cursor = msg['cursor'];\n",
       "    switch(cursor)\n",
       "    {\n",
       "    case 0:\n",
       "        cursor = 'pointer';\n",
       "        break;\n",
       "    case 1:\n",
       "        cursor = 'default';\n",
       "        break;\n",
       "    case 2:\n",
       "        cursor = 'crosshair';\n",
       "        break;\n",
       "    case 3:\n",
       "        cursor = 'move';\n",
       "        break;\n",
       "    }\n",
       "    fig.rubberband_canvas.style.cursor = cursor;\n",
       "}\n",
       "\n",
       "mpl.figure.prototype.handle_message = function(fig, msg) {\n",
       "    fig.message.textContent = msg['message'];\n",
       "}\n",
       "\n",
       "mpl.figure.prototype.handle_draw = function(fig, msg) {\n",
       "    // Request the server to send over a new figure.\n",
       "    fig.send_draw_message();\n",
       "}\n",
       "\n",
       "mpl.figure.prototype.handle_image_mode = function(fig, msg) {\n",
       "    fig.image_mode = msg['mode'];\n",
       "}\n",
       "\n",
       "mpl.figure.prototype.updated_canvas_event = function() {\n",
       "    // Called whenever the canvas gets updated.\n",
       "    this.send_message(\"ack\", {});\n",
       "}\n",
       "\n",
       "// A function to construct a web socket function for onmessage handling.\n",
       "// Called in the figure constructor.\n",
       "mpl.figure.prototype._make_on_message_function = function(fig) {\n",
       "    return function socket_on_message(evt) {\n",
       "        if (evt.data instanceof Blob) {\n",
       "            /* FIXME: We get \"Resource interpreted as Image but\n",
       "             * transferred with MIME type text/plain:\" errors on\n",
       "             * Chrome.  But how to set the MIME type?  It doesn't seem\n",
       "             * to be part of the websocket stream */\n",
       "            evt.data.type = \"image/png\";\n",
       "\n",
       "            /* Free the memory for the previous frames */\n",
       "            if (fig.imageObj.src) {\n",
       "                (window.URL || window.webkitURL).revokeObjectURL(\n",
       "                    fig.imageObj.src);\n",
       "            }\n",
       "\n",
       "            fig.imageObj.src = (window.URL || window.webkitURL).createObjectURL(\n",
       "                evt.data);\n",
       "            fig.updated_canvas_event();\n",
       "            fig.waiting = false;\n",
       "            return;\n",
       "        }\n",
       "        else if (typeof evt.data === 'string' && evt.data.slice(0, 21) == \"data:image/png;base64\") {\n",
       "            fig.imageObj.src = evt.data;\n",
       "            fig.updated_canvas_event();\n",
       "            fig.waiting = false;\n",
       "            return;\n",
       "        }\n",
       "\n",
       "        var msg = JSON.parse(evt.data);\n",
       "        var msg_type = msg['type'];\n",
       "\n",
       "        // Call the  \"handle_{type}\" callback, which takes\n",
       "        // the figure and JSON message as its only arguments.\n",
       "        try {\n",
       "            var callback = fig[\"handle_\" + msg_type];\n",
       "        } catch (e) {\n",
       "            console.log(\"No handler for the '\" + msg_type + \"' message type: \", msg);\n",
       "            return;\n",
       "        }\n",
       "\n",
       "        if (callback) {\n",
       "            try {\n",
       "                // console.log(\"Handling '\" + msg_type + \"' message: \", msg);\n",
       "                callback(fig, msg);\n",
       "            } catch (e) {\n",
       "                console.log(\"Exception inside the 'handler_\" + msg_type + \"' callback:\", e, e.stack, msg);\n",
       "            }\n",
       "        }\n",
       "    };\n",
       "}\n",
       "\n",
       "// from http://stackoverflow.com/questions/1114465/getting-mouse-location-in-canvas\n",
       "mpl.findpos = function(e) {\n",
       "    //this section is from http://www.quirksmode.org/js/events_properties.html\n",
       "    var targ;\n",
       "    if (!e)\n",
       "        e = window.event;\n",
       "    if (e.target)\n",
       "        targ = e.target;\n",
       "    else if (e.srcElement)\n",
       "        targ = e.srcElement;\n",
       "    if (targ.nodeType == 3) // defeat Safari bug\n",
       "        targ = targ.parentNode;\n",
       "\n",
       "    // jQuery normalizes the pageX and pageY\n",
       "    // pageX,Y are the mouse positions relative to the document\n",
       "    // offset() returns the position of the element relative to the document\n",
       "    var x = e.pageX - $(targ).offset().left;\n",
       "    var y = e.pageY - $(targ).offset().top;\n",
       "\n",
       "    return {\"x\": x, \"y\": y};\n",
       "};\n",
       "\n",
       "/*\n",
       " * return a copy of an object with only non-object keys\n",
       " * we need this to avoid circular references\n",
       " * http://stackoverflow.com/a/24161582/3208463\n",
       " */\n",
       "function simpleKeys (original) {\n",
       "  return Object.keys(original).reduce(function (obj, key) {\n",
       "    if (typeof original[key] !== 'object')\n",
       "        obj[key] = original[key]\n",
       "    return obj;\n",
       "  }, {});\n",
       "}\n",
       "\n",
       "mpl.figure.prototype.mouse_event = function(event, name) {\n",
       "    var canvas_pos = mpl.findpos(event)\n",
       "\n",
       "    if (name === 'button_press')\n",
       "    {\n",
       "        this.canvas.focus();\n",
       "        this.canvas_div.focus();\n",
       "    }\n",
       "\n",
       "    var x = canvas_pos.x * mpl.ratio;\n",
       "    var y = canvas_pos.y * mpl.ratio;\n",
       "\n",
       "    this.send_message(name, {x: x, y: y, button: event.button,\n",
       "                             step: event.step,\n",
       "                             guiEvent: simpleKeys(event)});\n",
       "\n",
       "    /* This prevents the web browser from automatically changing to\n",
       "     * the text insertion cursor when the button is pressed.  We want\n",
       "     * to control all of the cursor setting manually through the\n",
       "     * 'cursor' event from matplotlib */\n",
       "    event.preventDefault();\n",
       "    return false;\n",
       "}\n",
       "\n",
       "mpl.figure.prototype._key_event_extra = function(event, name) {\n",
       "    // Handle any extra behaviour associated with a key event\n",
       "}\n",
       "\n",
       "mpl.figure.prototype.key_event = function(event, name) {\n",
       "\n",
       "    // Prevent repeat events\n",
       "    if (name == 'key_press')\n",
       "    {\n",
       "        if (event.which === this._key)\n",
       "            return;\n",
       "        else\n",
       "            this._key = event.which;\n",
       "    }\n",
       "    if (name == 'key_release')\n",
       "        this._key = null;\n",
       "\n",
       "    var value = '';\n",
       "    if (event.ctrlKey && event.which != 17)\n",
       "        value += \"ctrl+\";\n",
       "    if (event.altKey && event.which != 18)\n",
       "        value += \"alt+\";\n",
       "    if (event.shiftKey && event.which != 16)\n",
       "        value += \"shift+\";\n",
       "\n",
       "    value += 'k';\n",
       "    value += event.which.toString();\n",
       "\n",
       "    this._key_event_extra(event, name);\n",
       "\n",
       "    this.send_message(name, {key: value,\n",
       "                             guiEvent: simpleKeys(event)});\n",
       "    return false;\n",
       "}\n",
       "\n",
       "mpl.figure.prototype.toolbar_button_onclick = function(name) {\n",
       "    if (name == 'download') {\n",
       "        this.handle_save(this, null);\n",
       "    } else {\n",
       "        this.send_message(\"toolbar_button\", {name: name});\n",
       "    }\n",
       "};\n",
       "\n",
       "mpl.figure.prototype.toolbar_button_onmouseover = function(tooltip) {\n",
       "    this.message.textContent = tooltip;\n",
       "};\n",
       "mpl.toolbar_items = [[\"Home\", \"Reset original view\", \"fa fa-home icon-home\", \"home\"], [\"Back\", \"Back to previous view\", \"fa fa-arrow-left icon-arrow-left\", \"back\"], [\"Forward\", \"Forward to next view\", \"fa fa-arrow-right icon-arrow-right\", \"forward\"], [\"\", \"\", \"\", \"\"], [\"Pan\", \"Pan axes with left mouse, zoom with right\", \"fa fa-arrows icon-move\", \"pan\"], [\"Zoom\", \"Zoom to rectangle\", \"fa fa-square-o icon-check-empty\", \"zoom\"], [\"\", \"\", \"\", \"\"], [\"Download\", \"Download plot\", \"fa fa-floppy-o icon-save\", \"download\"]];\n",
       "\n",
       "mpl.extensions = [\"eps\", \"jpeg\", \"pdf\", \"png\", \"ps\", \"raw\", \"svg\", \"tif\"];\n",
       "\n",
       "mpl.default_extension = \"png\";var comm_websocket_adapter = function(comm) {\n",
       "    // Create a \"websocket\"-like object which calls the given IPython comm\n",
       "    // object with the appropriate methods. Currently this is a non binary\n",
       "    // socket, so there is still some room for performance tuning.\n",
       "    var ws = {};\n",
       "\n",
       "    ws.close = function() {\n",
       "        comm.close()\n",
       "    };\n",
       "    ws.send = function(m) {\n",
       "        //console.log('sending', m);\n",
       "        comm.send(m);\n",
       "    };\n",
       "    // Register the callback with on_msg.\n",
       "    comm.on_msg(function(msg) {\n",
       "        //console.log('receiving', msg['content']['data'], msg);\n",
       "        // Pass the mpl event to the overridden (by mpl) onmessage function.\n",
       "        ws.onmessage(msg['content']['data'])\n",
       "    });\n",
       "    return ws;\n",
       "}\n",
       "\n",
       "mpl.mpl_figure_comm = function(comm, msg) {\n",
       "    // This is the function which gets called when the mpl process\n",
       "    // starts-up an IPython Comm through the \"matplotlib\" channel.\n",
       "\n",
       "    var id = msg.content.data.id;\n",
       "    // Get hold of the div created by the display call when the Comm\n",
       "    // socket was opened in Python.\n",
       "    var element = $(\"#\" + id);\n",
       "    var ws_proxy = comm_websocket_adapter(comm)\n",
       "\n",
       "    function ondownload(figure, format) {\n",
       "        window.open(figure.imageObj.src);\n",
       "    }\n",
       "\n",
       "    var fig = new mpl.figure(id, ws_proxy,\n",
       "                           ondownload,\n",
       "                           element.get(0));\n",
       "\n",
       "    // Call onopen now - mpl needs it, as it is assuming we've passed it a real\n",
       "    // web socket which is closed, not our websocket->open comm proxy.\n",
       "    ws_proxy.onopen();\n",
       "\n",
       "    fig.parent_element = element.get(0);\n",
       "    fig.cell_info = mpl.find_output_cell(\"<div id='\" + id + \"'></div>\");\n",
       "    if (!fig.cell_info) {\n",
       "        console.error(\"Failed to find cell for figure\", id, fig);\n",
       "        return;\n",
       "    }\n",
       "\n",
       "    var output_index = fig.cell_info[2]\n",
       "    var cell = fig.cell_info[0];\n",
       "\n",
       "};\n",
       "\n",
       "mpl.figure.prototype.handle_close = function(fig, msg) {\n",
       "    var width = fig.canvas.width/mpl.ratio\n",
       "    fig.root.unbind('remove')\n",
       "\n",
       "    // Update the output cell to use the data from the current canvas.\n",
       "    fig.push_to_output();\n",
       "    var dataURL = fig.canvas.toDataURL();\n",
       "    // Re-enable the keyboard manager in IPython - without this line, in FF,\n",
       "    // the notebook keyboard shortcuts fail.\n",
       "    IPython.keyboard_manager.enable()\n",
       "    $(fig.parent_element).html('<img src=\"' + dataURL + '\" width=\"' + width + '\">');\n",
       "    fig.close_ws(fig, msg);\n",
       "}\n",
       "\n",
       "mpl.figure.prototype.close_ws = function(fig, msg){\n",
       "    fig.send_message('closing', msg);\n",
       "    // fig.ws.close()\n",
       "}\n",
       "\n",
       "mpl.figure.prototype.push_to_output = function(remove_interactive) {\n",
       "    // Turn the data on the canvas into data in the output cell.\n",
       "    var width = this.canvas.width/mpl.ratio\n",
       "    var dataURL = this.canvas.toDataURL();\n",
       "    this.cell_info[1]['text/html'] = '<img src=\"' + dataURL + '\" width=\"' + width + '\">';\n",
       "}\n",
       "\n",
       "mpl.figure.prototype.updated_canvas_event = function() {\n",
       "    // Tell IPython that the notebook contents must change.\n",
       "    IPython.notebook.set_dirty(true);\n",
       "    this.send_message(\"ack\", {});\n",
       "    var fig = this;\n",
       "    // Wait a second, then push the new image to the DOM so\n",
       "    // that it is saved nicely (might be nice to debounce this).\n",
       "    setTimeout(function () { fig.push_to_output() }, 1000);\n",
       "}\n",
       "\n",
       "mpl.figure.prototype._init_toolbar = function() {\n",
       "    var fig = this;\n",
       "\n",
       "    var nav_element = $('<div/>');\n",
       "    nav_element.attr('style', 'width: 100%');\n",
       "    this.root.append(nav_element);\n",
       "\n",
       "    // Define a callback function for later on.\n",
       "    function toolbar_event(event) {\n",
       "        return fig.toolbar_button_onclick(event['data']);\n",
       "    }\n",
       "    function toolbar_mouse_event(event) {\n",
       "        return fig.toolbar_button_onmouseover(event['data']);\n",
       "    }\n",
       "\n",
       "    for(var toolbar_ind in mpl.toolbar_items){\n",
       "        var name = mpl.toolbar_items[toolbar_ind][0];\n",
       "        var tooltip = mpl.toolbar_items[toolbar_ind][1];\n",
       "        var image = mpl.toolbar_items[toolbar_ind][2];\n",
       "        var method_name = mpl.toolbar_items[toolbar_ind][3];\n",
       "\n",
       "        if (!name) { continue; };\n",
       "\n",
       "        var button = $('<button class=\"btn btn-default\" href=\"#\" title=\"' + name + '\"><i class=\"fa ' + image + ' fa-lg\"></i></button>');\n",
       "        button.click(method_name, toolbar_event);\n",
       "        button.mouseover(tooltip, toolbar_mouse_event);\n",
       "        nav_element.append(button);\n",
       "    }\n",
       "\n",
       "    // Add the status bar.\n",
       "    var status_bar = $('<span class=\"mpl-message\" style=\"text-align:right; float: right;\"/>');\n",
       "    nav_element.append(status_bar);\n",
       "    this.message = status_bar[0];\n",
       "\n",
       "    // Add the close button to the window.\n",
       "    var buttongrp = $('<div class=\"btn-group inline pull-right\"></div>');\n",
       "    var button = $('<button class=\"btn btn-mini btn-primary\" href=\"#\" title=\"Stop Interaction\"><i class=\"fa fa-power-off icon-remove icon-large\"></i></button>');\n",
       "    button.click(function (evt) { fig.handle_close(fig, {}); } );\n",
       "    button.mouseover('Stop Interaction', toolbar_mouse_event);\n",
       "    buttongrp.append(button);\n",
       "    var titlebar = this.root.find($('.ui-dialog-titlebar'));\n",
       "    titlebar.prepend(buttongrp);\n",
       "}\n",
       "\n",
       "mpl.figure.prototype._root_extra_style = function(el){\n",
       "    var fig = this\n",
       "    el.on(\"remove\", function(){\n",
       "\tfig.close_ws(fig, {});\n",
       "    });\n",
       "}\n",
       "\n",
       "mpl.figure.prototype._canvas_extra_style = function(el){\n",
       "    // this is important to make the div 'focusable\n",
       "    el.attr('tabindex', 0)\n",
       "    // reach out to IPython and tell the keyboard manager to turn it's self\n",
       "    // off when our div gets focus\n",
       "\n",
       "    // location in version 3\n",
       "    if (IPython.notebook.keyboard_manager) {\n",
       "        IPython.notebook.keyboard_manager.register_events(el);\n",
       "    }\n",
       "    else {\n",
       "        // location in version 2\n",
       "        IPython.keyboard_manager.register_events(el);\n",
       "    }\n",
       "\n",
       "}\n",
       "\n",
       "mpl.figure.prototype._key_event_extra = function(event, name) {\n",
       "    var manager = IPython.notebook.keyboard_manager;\n",
       "    if (!manager)\n",
       "        manager = IPython.keyboard_manager;\n",
       "\n",
       "    // Check for shift+enter\n",
       "    if (event.shiftKey && event.which == 13) {\n",
       "        this.canvas_div.blur();\n",
       "        event.shiftKey = false;\n",
       "        // Send a \"J\" for go to next cell\n",
       "        event.which = 74;\n",
       "        event.keyCode = 74;\n",
       "        manager.command_mode();\n",
       "        manager.handle_keydown(event);\n",
       "    }\n",
       "}\n",
       "\n",
       "mpl.figure.prototype.handle_save = function(fig, msg) {\n",
       "    fig.ondownload(fig, null);\n",
       "}\n",
       "\n",
       "\n",
       "mpl.find_output_cell = function(html_output) {\n",
       "    // Return the cell and output element which can be found *uniquely* in the notebook.\n",
       "    // Note - this is a bit hacky, but it is done because the \"notebook_saving.Notebook\"\n",
       "    // IPython event is triggered only after the cells have been serialised, which for\n",
       "    // our purposes (turning an active figure into a static one), is too late.\n",
       "    var cells = IPython.notebook.get_cells();\n",
       "    var ncells = cells.length;\n",
       "    for (var i=0; i<ncells; i++) {\n",
       "        var cell = cells[i];\n",
       "        if (cell.cell_type === 'code'){\n",
       "            for (var j=0; j<cell.output_area.outputs.length; j++) {\n",
       "                var data = cell.output_area.outputs[j];\n",
       "                if (data.data) {\n",
       "                    // IPython >= 3 moved mimebundle to data attribute of output\n",
       "                    data = data.data;\n",
       "                }\n",
       "                if (data['text/html'] == html_output) {\n",
       "                    return [cell, data, j];\n",
       "                }\n",
       "            }\n",
       "        }\n",
       "    }\n",
       "}\n",
       "\n",
       "// Register the function which deals with the matplotlib target/channel.\n",
       "// The kernel may be null if the page has been refreshed.\n",
       "if (IPython.notebook.kernel != null) {\n",
       "    IPython.notebook.kernel.comm_manager.register_target('matplotlib', mpl.mpl_figure_comm);\n",
       "}\n"
      ],
      "text/plain": [
       "<IPython.core.display.Javascript object>"
      ]
     },
     "metadata": {},
     "output_type": "display_data"
    },
    {
     "data": {
      "text/html": [
       "<img src=\"data:image/png;base64,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\" width=\"500\">"
      ],
      "text/plain": [
       "<IPython.core.display.HTML object>"
      ]
     },
     "metadata": {},
     "output_type": "display_data"
    },
    {
     "name": "stdout",
     "output_type": "stream",
     "text": [
      "Options:\n",
      "L is pulse height at dx.\n",
      "Select x to display orbital.\n"
     ]
    },
    {
     "data": {
      "application/vnd.jupyter.widget-view+json": {
       "model_id": "b2426a9b72d340b18629d44e37d023be",
       "version_major": 2,
       "version_minor": 0
      },
      "text/plain": [
       "interactive(children=(Dropdown(description='$\\\\Delta x$', index=2, options=(0.1, 0.15, 0.2, 0.25, 0.3, 0.35, 0…"
      ]
     },
     "metadata": {},
     "output_type": "display_data"
    }
   ],
   "source": [
    "x = np.linspace(0, 51, 80002)\n",
    "fig, ax2 = plt.subplots(1, figsize=(5, 5))\n",
    "plt.suptitle('$\\sigma_{0}$ Orbitals Of Divisors')\n",
    "\n",
    "def update_plot(dx2, L2, sx):\n",
    "    \n",
    "    ax2.clear()\n",
    "    \n",
    "    reD=[0]*80002\n",
    "    imD=[0]*80002\n",
    "    \n",
    "    wave2=list(range(2,51))\n",
    "    \n",
    "    for w2 in wave2:\n",
    "  \n",
    "        N2=-2*(w2**2)*np.log(L2)/((np.pi**2)*(dx2**2))\n",
    "        N2=2*round(0.5*N2,0)\n",
    "        \n",
    "        reDw = ((np.cos(x*np.pi/w2))**N2)*(np.cos(np.pi*N2*x/w2))\n",
    "        imDw = (-(np.cos(x*np.pi/w2))**N2)*(np.sin(np.pi*N2*x/w2))\n",
    "        \n",
    "        reD=list(map(add, reD, reDw))\n",
    "        imD=list(map(add, imD, imDw))\n",
    "        \n",
    "        \n",
    "    \n",
    "    units2 = '$\\Delta x$ = {} \\nL = {} \\nx = {}'\n",
    "    \n",
    "    reDf=reD[int(80002*(sx-0.5)/51):int(80002*(sx+0.5)/51)]\n",
    "    imDf=imD[int(80002*(sx-0.5)/51):int(80002*(sx+0.5)/51)]\n",
    "\n",
    "\n",
    "    ax2.plot(reDf, imDf, label=units2.format(dx2, L2, sx))\n",
    "    #print(int(80002*(sx-0.5)/52))\n",
    "    #print(int(80002*(sx+0.5)/52))\n",
    " \n",
    "    countD=max(reDf)\n",
    "    #print(countD)\n",
    "    \n",
    "    ax2.legend(loc=1)\n",
    "    ax2.set_xlabel('$\\Re (\\sigma_{0})$')\n",
    "    ax2.set_ylabel('$\\Im (\\sigma_{0})$')\n",
    "    ax2.axis([-(countD+0.5), (countD+0.5), -(countD+0.5),(countD+0.5)])\n",
    "    ax2.plot([countD],[0], color='purple', marker='o')\n",
    "    plt.grid(b=True, which='major', color='#666666', linestyle='-')\n",
    "    \n",
    "    plt.show()\n",
    "\n",
    "print(\"Options:\")\n",
    "print(\"L is pulse height at dx.\")\n",
    "print(\"Select x to display orbital.\")\n",
    "\n",
    "#dx2 = widgets.FloatSlider(min=0.15, max=0.99, value=0.2, step=0.01, description='$\\Delta x$:')\n",
    "dx2 = widgets.Dropdown(options=[0.10,0.15, 0.20,0.25,0.30,0.35,0.40,0.45,0.5], value=0.2, description='$\\Delta x$')  \n",
    "\n",
    "#L2 = widgets.FloatSlider(min=0.15, max=0.99, value=0.5, step=0.01, description='L')\n",
    "L2 = widgets.Dropdown(options=[0.10,0.15, 0.20,0.25,0.30,0.35,0.40,0.45,0.5], value=0.5, description='$L$') \n",
    "\n",
    "sx = widgets.Dropdown(options=list(range(2,51)), description='$x$')   \n",
    "\n",
    "widgets.interactive(update_plot, dx2=dx2, L2=L2, sx=sx)\n",
    "\n"
   ]
  },
  {
   "cell_type": "markdown",
   "metadata": {},
   "source": [
    "# Higher Order Wave Divisor  Function: $\\sigma_{m}(x)$\n",
    "\n",
    "The wave divisor function can be expressed to determine higher order solutions $\\sigma_{m}(x)$. The n choose k notation will look like:\n",
    "\n",
    "$$\\large \\sigma_{m}(x)=\\sum_{\\mathbb{X}=2}^{\\infty} \\mathbb{X}^{m} \\space 2^{(-N)} \\sum_{k=0}^{N} \\binom{N}{k} e^{-i\\left( \\frac{\\pi}{\\mathbb{X}}x \\right)}  $$\n",
    "\n",
    "The trigiometric formulation.\n",
    "\n",
    "$$\\large \\Re(\\sigma_{m})=\\sum_{\\mathbb{X}=2}^{\\infty} \\mathbb{X}^{m} \\cos^{N} \\left( \\frac{\\pi}{\\mathbb{X}}x \\right) \\cos \\left( \\frac{N\\pi}{\\mathbb{X}}x  \\right) $$\n",
    "\n",
    "$$\\large \\Im(\\sigma_{m})=-i \\sum_{\\mathbb{X}=2}^{\\infty} \\mathbb{X}^{m} \\cos^{N} \\left( \\frac{\\pi}{\\mathbb{X}}x \\right) \\sin \\left( \\frac{N\\pi}{\\mathbb{X}}x  \\right) $$\n",
    "\n",
    "The error in the higher order divisor function has not been determined yet.\n"
   ]
  },
  {
   "cell_type": "code",
   "execution_count": null,
   "metadata": {},
   "outputs": [],
   "source": []
  },
  {
   "cell_type": "code",
   "execution_count": null,
   "metadata": {},
   "outputs": [],
   "source": []
  },
  {
   "cell_type": "code",
   "execution_count": null,
   "metadata": {},
   "outputs": [],
   "source": []
  }
 ],
 "metadata": {
  "kernelspec": {
   "display_name": "Python 3",
   "language": "python",
   "name": "python3"
  },
  "language_info": {
   "codemirror_mode": {
    "name": "ipython",
    "version": 3
   },
   "file_extension": ".py",
   "mimetype": "text/x-python",
   "name": "python",
   "nbconvert_exporter": "python",
   "pygments_lexer": "ipython3",
   "version": "3.7.3"
  },
  "widgets": {
   "application/vnd.jupyter.widget-state+json": {
    "state": {
     "0046e98bc0d04c6caac5833c70723bdc": {
      "model_module": "@jupyter-widgets/base",
      "model_module_version": "1.2.0",
      "model_name": "LayoutModel",
      "state": {}
     },
     "00e4ed24b1ab42529c03994b9df0fc6a": {
      "model_module": "@jupyter-widgets/base",
      "model_module_version": "1.2.0",
      "model_name": "LayoutModel",
      "state": {}
     },
     "0125fd539e2b400f9d50f848acba5d63": {
      "model_module": "@jupyter-widgets/base",
      "model_module_version": "1.2.0",
      "model_name": "LayoutModel",
      "state": {}
     },
     "017e1ad26ba74538bec7f4958e9bee36": {
      "model_module": "@jupyter-widgets/base",
      "model_module_version": "1.2.0",
      "model_name": "LayoutModel",
      "state": {}
     },
     "01969237ff0c47419edc3b97cbbcfd38": {
      "model_module": "@jupyter-widgets/base",
      "model_module_version": "1.2.0",
      "model_name": "LayoutModel",
      "state": {}
     },
     "01a5d9212615412585f47cfd62805efe": {
      "model_module": "@jupyter-widgets/base",
      "model_module_version": "1.2.0",
      "model_name": "LayoutModel",
      "state": {}
     },
     "01c90ee7124e4e32b1cafbb85e601d78": {
      "model_module": "@jupyter-widgets/controls",
      "model_module_version": "1.5.0",
      "model_name": "FloatSliderModel",
      "state": {
       "description": "$\\Delta x$:",
       "layout": "IPY_MODEL_8bc64dc7bbf84bb5a235f27793d8dddd",
       "max": 0.99,
       "min": 0.15,
       "step": 0.01,
       "style": "IPY_MODEL_7ec7612849cb48a5a31b488100bb37ae",
       "value": 0.25
      }
     },
     "01ce281f14cd45edaa492c9c3e563daf": {
      "model_module": "@jupyter-widgets/base",
      "model_module_version": "1.2.0",
      "model_name": "LayoutModel",
      "state": {}
     },
     "02625562366f46e994fdd6092fa284c8": {
      "model_module": "@jupyter-widgets/base",
      "model_module_version": "1.2.0",
      "model_name": "LayoutModel",
      "state": {}
     },
     "02ae3d87739d4ed186c18f36c4020a6c": {
      "model_module": "@jupyter-widgets/base",
      "model_module_version": "1.2.0",
      "model_name": "LayoutModel",
      "state": {}
     },
     "039466289ffb4cd59a07a9db594d8749": {
      "model_module": "@jupyter-widgets/base",
      "model_module_version": "1.2.0",
      "model_name": "LayoutModel",
      "state": {}
     },
     "03a2cf5de9b04e418f2dbddd947973b1": {
      "model_module": "@jupyter-widgets/base",
      "model_module_version": "1.2.0",
      "model_name": "LayoutModel",
      "state": {}
     },
     "0408c9cbdcb74c4d959c44099d3903dd": {
      "model_module": "@jupyter-widgets/base",
      "model_module_version": "1.2.0",
      "model_name": "LayoutModel",
      "state": {}
     },
     "042986367d854f7fb639ad71c4ff6807": {
      "model_module": "@jupyter-widgets/base",
      "model_module_version": "1.2.0",
      "model_name": "LayoutModel",
      "state": {}
     },
     "04ab000ce1dc4b67bd391867ff49334e": {
      "model_module": "@jupyter-widgets/base",
      "model_module_version": "1.2.0",
      "model_name": "LayoutModel",
      "state": {}
     },
     "050fc5b414854a81b76c8ffc27647c79": {
      "model_module": "@jupyter-widgets/controls",
      "model_module_version": "1.5.0",
      "model_name": "DescriptionStyleModel",
      "state": {
       "description_width": ""
      }
     },
     "052f68204f2e447f8d6290eee8a2b301": {
      "model_module": "@jupyter-widgets/controls",
      "model_module_version": "1.5.0",
      "model_name": "VBoxModel",
      "state": {
       "_dom_classes": [
        "widget-interact"
       ],
       "children": [
        "IPY_MODEL_d62840cc9bd8409da99c0925be27b74e",
        "IPY_MODEL_84d73f3ebd5f4dd9ad091ae3366e249b",
        "IPY_MODEL_90651526961f46099e4d1d958d147d3f",
        "IPY_MODEL_950ab6ca0a454149a39d6807077b4be9"
       ],
       "layout": "IPY_MODEL_ac895a9f0f5040a993d1295d0935bab1"
      }
     },
     "055cdc2f026944deac50272c82dd73c8": {
      "model_module": "@jupyter-widgets/controls",
      "model_module_version": "1.5.0",
      "model_name": "SliderStyleModel",
      "state": {
       "description_width": ""
      }
     },
     "05dd6efb34674a8d8a27f65c7c5453de": {
      "model_module": "@jupyter-widgets/controls",
      "model_module_version": "1.5.0",
      "model_name": "VBoxModel",
      "state": {
       "_dom_classes": [
        "widget-interact"
       ],
       "children": [
        "IPY_MODEL_6a545d0336174021a17d8e92da14df7c",
        "IPY_MODEL_6cdfb388ab8844828b55637c56e34808",
        "IPY_MODEL_474fef451b4349eda7994cf7a21887bc",
        "IPY_MODEL_c4613a1d355c4919940db9b5f2cc1c50"
       ],
       "layout": "IPY_MODEL_4f414ef95f9a46c398f128b74aba3c4a"
      }
     },
     "05fdbe57d60649eea6e790a4086e847d": {
      "model_module": "@jupyter-widgets/base",
      "model_module_version": "1.2.0",
      "model_name": "LayoutModel",
      "state": {}
     },
     "061f8004c707450a8a1176e0efc9ef6e": {
      "model_module": "@jupyter-widgets/controls",
      "model_module_version": "1.5.0",
      "model_name": "DropdownModel",
      "state": {
       "_options_labels": [
        "0.1",
        "0.1473684210526316",
        "0.19473684210526315",
        "0.24210526315789474",
        "0.2894736842105263",
        "0.33684210526315794",
        "0.38421052631578945",
        "0.43157894736842106",
        "0.4789473684210527",
        "0.5263157894736842",
        "0.5736842105263158",
        "0.6210526315789474",
        "0.6684210526315789",
        "0.7157894736842105",
        "0.7631578947368421",
        "0.8105263157894737",
        "0.8578947368421053",
        "0.9052631578947369",
        "0.9526315789473684",
        "1.0"
       ],
       "description": "$\\Delta x$",
       "index": 10,
       "layout": "IPY_MODEL_faad4008694b4a748c9cd27949b9b4e7",
       "style": "IPY_MODEL_798ee19e204a45888c80e851d498cecf"
      }
     },
     "0663461657ca400489fc216bd9ea087e": {
      "model_module": "@jupyter-widgets/base",
      "model_module_version": "1.2.0",
      "model_name": "LayoutModel",
      "state": {}
     },
     "06be43d023ad46cd82a0270cd4abcda3": {
      "model_module": "@jupyter-widgets/base",
      "model_module_version": "1.2.0",
      "model_name": "LayoutModel",
      "state": {}
     },
     "080c65e4dcf44c4bbcfd9b410a40d60f": {
      "model_module": "@jupyter-widgets/controls",
      "model_module_version": "1.5.0",
      "model_name": "SliderStyleModel",
      "state": {
       "description_width": ""
      }
     },
     "083356cf4f8b4d959a8ef183162bc0cd": {
      "model_module": "@jupyter-widgets/output",
      "model_module_version": "1.0.0",
      "model_name": "OutputModel",
      "state": {
       "layout": "IPY_MODEL_9dcf09ce2e9e4761b0872cf1fca3e59a",
       "msg_id": "d3589f3135cd4b9e8e1a941f7daa008b"
      }
     },
     "08854d5b3f7248ccbd84eb6ec7bd0923": {
      "model_module": "@jupyter-widgets/controls",
      "model_module_version": "1.5.0",
      "model_name": "DescriptionStyleModel",
      "state": {
       "description_width": ""
      }
     },
     "08e7944d794d46f5878e69fee00a11e2": {
      "model_module": "@jupyter-widgets/base",
      "model_module_version": "1.2.0",
      "model_name": "LayoutModel",
      "state": {}
     },
     "092da86421464a3aa56a26bf93c62c1c": {
      "model_module": "@jupyter-widgets/output",
      "model_module_version": "1.0.0",
      "model_name": "OutputModel",
      "state": {
       "layout": "IPY_MODEL_42ac1a62c83647728ab3238c7b571ebe",
       "outputs": [
        {
         "data": {
          "image/png": "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\n",
          "text/plain": "<Figure size 432x288 with 1 Axes>"
         },
         "metadata": {
          "needs_background": "light"
         },
         "output_type": "display_data"
        }
       ]
      }
     },
     "0991b647e58b47fb8eb3736ad6b25937": {
      "model_module": "@jupyter-widgets/controls",
      "model_module_version": "1.5.0",
      "model_name": "FloatSliderModel",
      "state": {
       "description": "L",
       "layout": "IPY_MODEL_5aa40198843043c490bccd47464cd6cc",
       "max": 0.99,
       "min": 0.15,
       "step": 0.01,
       "style": "IPY_MODEL_3e01b8c5c1194d8585830864762121b1",
       "value": 0.5
      }
     },
     "09d8139e69fe426493ab75e794d55952": {
      "model_module": "@jupyter-widgets/controls",
      "model_module_version": "1.5.0",
      "model_name": "DropdownModel",
      "state": {
       "_options_labels": [
        "2",
        "3",
        "4",
        "5",
        "6",
        "7",
        "8",
        "9",
        "10",
        "11",
        "12",
        "13",
        "14",
        "15",
        "16",
        "17",
        "18",
        "19",
        "20",
        "21",
        "22",
        "23",
        "24",
        "25",
        "26",
        "27",
        "28",
        "29",
        "30",
        "31",
        "32",
        "33",
        "34",
        "35",
        "36",
        "37",
        "38",
        "39",
        "40",
        "41",
        "42",
        "43",
        "44",
        "45",
        "46",
        "47",
        "48",
        "49",
        "50"
       ],
       "description": "$x$",
       "index": 0,
       "layout": "IPY_MODEL_9b252b7c7a8847e6a410d3c5b932418d",
       "style": "IPY_MODEL_3edb347e157a4a97a6668ee45812dd71"
      }
     },
     "0a318905e0f548f7a1503c3d537833bd": {
      "model_module": "@jupyter-widgets/base",
      "model_module_version": "1.2.0",
      "model_name": "LayoutModel",
      "state": {}
     },
     "0a90826286a547b3a7285435fcd18118": {
      "model_module": "@jupyter-widgets/base",
      "model_module_version": "1.2.0",
      "model_name": "LayoutModel",
      "state": {}
     },
     "0adbf154d7704e219071c763005e0f0e": {
      "model_module": "@jupyter-widgets/base",
      "model_module_version": "1.2.0",
      "model_name": "LayoutModel",
      "state": {}
     },
     "0cbd0e78152446ada5533273e4200df1": {
      "model_module": "@jupyter-widgets/base",
      "model_module_version": "1.2.0",
      "model_name": "LayoutModel",
      "state": {}
     },
     "0ccbabc1726042e2b15c381478e1138d": {
      "model_module": "@jupyter-widgets/controls",
      "model_module_version": "1.5.0",
      "model_name": "VBoxModel",
      "state": {
       "_dom_classes": [
        "widget-interact"
       ],
       "children": [
        "IPY_MODEL_061f8004c707450a8a1176e0efc9ef6e",
        "IPY_MODEL_d1f3cc938cf14c028c7796958e8f5d17",
        "IPY_MODEL_c997bb92829a4cc7908228ef86bc88b1",
        "IPY_MODEL_dfef66136ef94af2954ed1b77631e087"
       ],
       "layout": "IPY_MODEL_49526e2c51a1410494fdbc1636656e5f"
      }
     },
     "0cec9bcbc78b469f873593864be5a94a": {
      "model_module": "@jupyter-widgets/controls",
      "model_module_version": "1.5.0",
      "model_name": "DescriptionStyleModel",
      "state": {
       "description_width": ""
      }
     },
     "0d52a999ad6a4aa6b173441e423bad92": {
      "model_module": "@jupyter-widgets/controls",
      "model_module_version": "1.5.0",
      "model_name": "FloatSliderModel",
      "state": {
       "description": "L",
       "layout": "IPY_MODEL_1adba64eaa4f479b982aeda6b65640ea",
       "max": 0.99,
       "min": 0.15,
       "step": 0.01,
       "style": "IPY_MODEL_f4c9ec5b3e0b411e8a9a78f86d476d2c",
       "value": 0.5
      }
     },
     "0edeaa40ca04496f9e3f26bf75cd1f61": {
      "model_module": "@jupyter-widgets/output",
      "model_module_version": "1.0.0",
      "model_name": "OutputModel",
      "state": {
       "layout": "IPY_MODEL_6c502e6d10ea414891b965d868d9df0b"
      }
     },
     "0ee73ea5cdb8415488698e3cf469f223": {
      "model_module": "@jupyter-widgets/controls",
      "model_module_version": "1.5.0",
      "model_name": "SliderStyleModel",
      "state": {
       "description_width": ""
      }
     },
     "0f2166460a4241e09e53a8287bd58912": {
      "model_module": "@jupyter-widgets/controls",
      "model_module_version": "1.5.0",
      "model_name": "DescriptionStyleModel",
      "state": {
       "description_width": ""
      }
     },
     "0f261c54f5634b35b21afb38653ae1d5": {
      "model_module": "@jupyter-widgets/base",
      "model_module_version": "1.2.0",
      "model_name": "LayoutModel",
      "state": {}
     },
     "0fb1feebf360444ea06bdcee1ec66b2b": {
      "model_module": "@jupyter-widgets/output",
      "model_module_version": "1.0.0",
      "model_name": "OutputModel",
      "state": {
       "layout": "IPY_MODEL_87163de4be714c68bed6c45f5ee14f4f"
      }
     },
     "0ffaa0b204d742bcb4c133d8588dc1de": {
      "model_module": "@jupyter-widgets/base",
      "model_module_version": "1.2.0",
      "model_name": "LayoutModel",
      "state": {}
     },
     "0ffe029d37bb4bb9a2ccc65b5effe47f": {
      "model_module": "@jupyter-widgets/controls",
      "model_module_version": "1.5.0",
      "model_name": "DescriptionStyleModel",
      "state": {
       "description_width": ""
      }
     },
     "106ee41718f344998f53b3430f29f56a": {
      "model_module": "@jupyter-widgets/base",
      "model_module_version": "1.2.0",
      "model_name": "LayoutModel",
      "state": {}
     },
     "110d1d99e86047b08011514197a68834": {
      "model_module": "@jupyter-widgets/controls",
      "model_module_version": "1.5.0",
      "model_name": "DescriptionStyleModel",
      "state": {
       "description_width": ""
      }
     },
     "117aba65946c47e98bbb979f34e44aa5": {
      "model_module": "@jupyter-widgets/controls",
      "model_module_version": "1.5.0",
      "model_name": "SliderStyleModel",
      "state": {
       "description_width": ""
      }
     },
     "1220ec8527a341a4817660c605b940db": {
      "model_module": "@jupyter-widgets/controls",
      "model_module_version": "1.5.0",
      "model_name": "FloatSliderModel",
      "state": {
       "description": "L",
       "layout": "IPY_MODEL_84262afb2e4d4aa5ab1c8cc6ccf7d41f",
       "max": 0.99,
       "min": 0.15,
       "step": 0.01,
       "style": "IPY_MODEL_ca1d559805cd4344a2079bcf94d92dc5",
       "value": 0.5
      }
     },
     "1294ccebdde24407b5c3ce4684bc58a2": {
      "model_module": "@jupyter-widgets/base",
      "model_module_version": "1.2.0",
      "model_name": "LayoutModel",
      "state": {}
     },
     "12a28f7bd72d4bd0993faca6eb7f0ae2": {
      "model_module": "@jupyter-widgets/output",
      "model_module_version": "1.0.0",
      "model_name": "OutputModel",
      "state": {
       "layout": "IPY_MODEL_5a2f666dfd5c45528654cb1465dae986"
      }
     },
     "12b26bb7988f455bb0ba3e008da1b5a0": {
      "model_module": "@jupyter-widgets/controls",
      "model_module_version": "1.5.0",
      "model_name": "SliderStyleModel",
      "state": {
       "description_width": ""
      }
     },
     "130894663cf94faeb6b37860b3a6a3b9": {
      "model_module": "@jupyter-widgets/base",
      "model_module_version": "1.2.0",
      "model_name": "LayoutModel",
      "state": {}
     },
     "14b7193ba5ca4a2aa6db9b0f01f5da09": {
      "model_module": "@jupyter-widgets/controls",
      "model_module_version": "1.5.0",
      "model_name": "FloatSliderModel",
      "state": {
       "description": "$\\Delta x$:",
       "layout": "IPY_MODEL_cd9fe25a51884aacb4f38e92c2701a96",
       "max": 0.99,
       "min": 0.15,
       "step": 0.01,
       "style": "IPY_MODEL_0ee73ea5cdb8415488698e3cf469f223",
       "value": 0.25
      }
     },
     "14c6cb3cfbb54d42a1b78fd98de349e7": {
      "model_module": "@jupyter-widgets/base",
      "model_module_version": "1.2.0",
      "model_name": "LayoutModel",
      "state": {}
     },
     "15398ebf6ae44b4d869860f759402a7d": {
      "model_module": "@jupyter-widgets/output",
      "model_module_version": "1.0.0",
      "model_name": "OutputModel",
      "state": {
       "layout": "IPY_MODEL_05fdbe57d60649eea6e790a4086e847d"
      }
     },
     "15be5552411d4c11939f59f0d1d80b77": {
      "model_module": "@jupyter-widgets/base",
      "model_module_version": "1.2.0",
      "model_name": "LayoutModel",
      "state": {}
     },
     "160e787ea45141708501da1ac634354f": {
      "model_module": "@jupyter-widgets/controls",
      "model_module_version": "1.5.0",
      "model_name": "FloatSliderModel",
      "state": {
       "description": "$\\Delta x$:",
       "layout": "IPY_MODEL_c6d6327fb0e24bb197c06ac287548e96",
       "max": 0.99,
       "min": 0.15,
       "step": 0.01,
       "style": "IPY_MODEL_a23667c983b5445aa4b42077a6a1bc64",
       "value": 0.25
      }
     },
     "16e847f562d44493859d252ee0d8b847": {
      "model_module": "@jupyter-widgets/base",
      "model_module_version": "1.2.0",
      "model_name": "LayoutModel",
      "state": {}
     },
     "172ed42c7fc0491d8d2e89bc1a3703b9": {
      "model_module": "@jupyter-widgets/base",
      "model_module_version": "1.2.0",
      "model_name": "LayoutModel",
      "state": {}
     },
     "180f4606d1ff437c889152c36a8754fa": {
      "model_module": "@jupyter-widgets/controls",
      "model_module_version": "1.5.0",
      "model_name": "DescriptionStyleModel",
      "state": {
       "description_width": ""
      }
     },
     "1991d95deaa3498fa4fcb1f653baeaf5": {
      "model_module": "@jupyter-widgets/controls",
      "model_module_version": "1.5.0",
      "model_name": "DropdownModel",
      "state": {
       "_options_labels": [
        "2",
        "3",
        "4",
        "5",
        "6",
        "7",
        "8",
        "9",
        "10",
        "11",
        "12",
        "13",
        "14",
        "15",
        "16",
        "17",
        "18",
        "19",
        "20",
        "21",
        "22",
        "23",
        "24",
        "25",
        "26",
        "27",
        "28",
        "29",
        "30",
        "31",
        "32",
        "33",
        "34",
        "35",
        "36",
        "37",
        "38",
        "39",
        "40",
        "41",
        "42",
        "43",
        "44",
        "45",
        "46",
        "47",
        "48",
        "49",
        "50"
       ],
       "description": "$x$",
       "index": 0,
       "layout": "IPY_MODEL_4cf45ca938e04d42b1d993733051c244",
       "style": "IPY_MODEL_1ac72afbfdf7490fa7ccdb5eea282883"
      }
     },
     "1aa1183a053e448c9efbc09d121b6a3f": {
      "model_module": "@jupyter-widgets/controls",
      "model_module_version": "1.5.0",
      "model_name": "SliderStyleModel",
      "state": {
       "description_width": ""
      }
     },
     "1ab001ae428249c4bf6840f0a46d1206": {
      "model_module": "@jupyter-widgets/controls",
      "model_module_version": "1.5.0",
      "model_name": "VBoxModel",
      "state": {
       "_dom_classes": [
        "widget-interact"
       ],
       "children": [
        "IPY_MODEL_7d39729d29af4961a128cf8c5fdb2473",
        "IPY_MODEL_edc5c993a4f54b41b5c9c8427ccd4594",
        "IPY_MODEL_6aaab2e3c991430093bf2808daac1414",
        "IPY_MODEL_8e01e19258984ecb94e445700f2345fc"
       ],
       "layout": "IPY_MODEL_5711b1e640ad438f964dfd224ed4f7d5"
      }
     },
     "1ac72afbfdf7490fa7ccdb5eea282883": {
      "model_module": "@jupyter-widgets/controls",
      "model_module_version": "1.5.0",
      "model_name": "DescriptionStyleModel",
      "state": {
       "description_width": ""
      }
     },
     "1acab8abb9da4d8989ea5facb0511f09": {
      "model_module": "@jupyter-widgets/output",
      "model_module_version": "1.0.0",
      "model_name": "OutputModel",
      "state": {
       "layout": "IPY_MODEL_5c2070da60994839b7260a90e09e60d6"
      }
     },
     "1adba64eaa4f479b982aeda6b65640ea": {
      "model_module": "@jupyter-widgets/base",
      "model_module_version": "1.2.0",
      "model_name": "LayoutModel",
      "state": {}
     },
     "1addbfa195334536a12a1bb83addce97": {
      "model_module": "@jupyter-widgets/base",
      "model_module_version": "1.2.0",
      "model_name": "LayoutModel",
      "state": {}
     },
     "1b6b7a6070834910b334c4360259ba16": {
      "model_module": "@jupyter-widgets/controls",
      "model_module_version": "1.5.0",
      "model_name": "DropdownModel",
      "state": {
       "_options_labels": [
        "0.1",
        "0.15",
        "0.2",
        "0.25",
        "0.3",
        "0.35",
        "0.4",
        "0.45",
        "0.5"
       ],
       "description": "$L$",
       "index": 8,
       "layout": "IPY_MODEL_3075be9c33f248c1ac64a4e846d2ac90",
       "style": "IPY_MODEL_33955bb35c7844eeaa26878664279f64"
      }
     },
     "1b78e74b8a3a49dd8786edb0a064952f": {
      "model_module": "@jupyter-widgets/controls",
      "model_module_version": "1.5.0",
      "model_name": "DescriptionStyleModel",
      "state": {
       "description_width": ""
      }
     },
     "1ceea967685848948efefbd337651e2d": {
      "model_module": "@jupyter-widgets/base",
      "model_module_version": "1.2.0",
      "model_name": "LayoutModel",
      "state": {}
     },
     "1e245bc315be4dcd9a2d7d5019ca8650": {
      "model_module": "@jupyter-widgets/base",
      "model_module_version": "1.2.0",
      "model_name": "LayoutModel",
      "state": {}
     },
     "1e769210bc2f4cd8a801ffbfd4c945a0": {
      "model_module": "@jupyter-widgets/controls",
      "model_module_version": "1.5.0",
      "model_name": "SliderStyleModel",
      "state": {
       "description_width": ""
      }
     },
     "1f09ba105a094cbda6e5d41b4f0160cb": {
      "model_module": "@jupyter-widgets/base",
      "model_module_version": "1.2.0",
      "model_name": "LayoutModel",
      "state": {}
     },
     "1f22a45dc240474b9a86529e8f1d38cb": {
      "model_module": "@jupyter-widgets/base",
      "model_module_version": "1.2.0",
      "model_name": "LayoutModel",
      "state": {}
     },
     "1f2d0f1fadf94f99be5300aa617544c5": {
      "model_module": "@jupyter-widgets/controls",
      "model_module_version": "1.5.0",
      "model_name": "SliderStyleModel",
      "state": {
       "description_width": ""
      }
     },
     "1fb1762e6d18443aa772df0d658cdf50": {
      "model_module": "@jupyter-widgets/base",
      "model_module_version": "1.2.0",
      "model_name": "LayoutModel",
      "state": {}
     },
     "220ea4d6820145f6a99af9ceab0cfd54": {
      "model_module": "@jupyter-widgets/controls",
      "model_module_version": "1.5.0",
      "model_name": "FloatSliderModel",
      "state": {
       "description": "L",
       "layout": "IPY_MODEL_a34b712bb22442dda9d771d6dce0ecf2",
       "max": 0.99,
       "min": 0.15,
       "step": 0.01,
       "style": "IPY_MODEL_abe7f0a107bb490a99829c55c2512c31",
       "value": 0.5
      }
     },
     "22afd1ce7ee14bd7b2016155268ff2b0": {
      "model_module": "@jupyter-widgets/controls",
      "model_module_version": "1.5.0",
      "model_name": "SelectMultipleModel",
      "state": {
       "_options_labels": [
        "2",
        "3",
        "4",
        "5",
        "6",
        "7",
        "8",
        "9",
        "10",
        "11",
        "12",
        "13",
        "14",
        "15",
        "16",
        "17",
        "18",
        "19",
        "20",
        "21",
        "22",
        "23",
        "24",
        "25",
        "26",
        "27",
        "28",
        "29",
        "30",
        "31",
        "32",
        "33",
        "34",
        "35",
        "36",
        "37",
        "38",
        "39",
        "40",
        "41",
        "42",
        "43",
        "44",
        "45",
        "46",
        "47",
        "48",
        "49",
        "50",
        "51",
        "52",
        "53",
        "54",
        "55",
        "56",
        "57",
        "58",
        "59",
        "60",
        "61",
        "62",
        "63",
        "64",
        "65",
        "66",
        "67",
        "68",
        "69",
        "70",
        "71",
        "72",
        "73",
        "74",
        "75",
        "76",
        "77",
        "78",
        "79",
        "80",
        "81",
        "82",
        "83",
        "84",
        "85",
        "86",
        "87",
        "88",
        "89",
        "90",
        "91",
        "92",
        "93",
        "94",
        "95",
        "96",
        "97",
        "98",
        "99",
        "100"
       ],
       "description": "$\\mathbb{X}$",
       "index": [
        18
       ],
       "layout": "IPY_MODEL_9fdb3d0989f343d19db29d82e9a31c33",
       "rows": 5,
       "style": "IPY_MODEL_bf22df26c97a4ea9a630a0e68e24453a"
      }
     },
     "232512b70a2649898eb3a3c72a9a11a8": {
      "model_module": "@jupyter-widgets/base",
      "model_module_version": "1.2.0",
      "model_name": "LayoutModel",
      "state": {}
     },
     "234d520619d148f99256747caac27a32": {
      "model_module": "@jupyter-widgets/controls",
      "model_module_version": "1.5.0",
      "model_name": "SliderStyleModel",
      "state": {
       "description_width": ""
      }
     },
     "23b7ef3e788543ddb605bd260a3f41ee": {
      "model_module": "@jupyter-widgets/controls",
      "model_module_version": "1.5.0",
      "model_name": "DropdownModel",
      "state": {
       "_options_labels": [
        "2",
        "3",
        "4",
        "5",
        "6",
        "7",
        "8",
        "9",
        "10",
        "11",
        "12",
        "13",
        "14",
        "15",
        "16",
        "17",
        "18",
        "19",
        "20",
        "21",
        "22",
        "23",
        "24",
        "25",
        "26",
        "27",
        "28",
        "29",
        "30",
        "31",
        "32",
        "33",
        "34",
        "35",
        "36",
        "37",
        "38",
        "39",
        "40",
        "41",
        "42",
        "43",
        "44",
        "45",
        "46",
        "47",
        "48",
        "49",
        "50"
       ],
       "description": "$x$",
       "index": 0,
       "layout": "IPY_MODEL_71a5620eb8f9459cbab598201e040f0d",
       "style": "IPY_MODEL_431b4644c60146c58a93f3c2d32934d9"
      }
     },
     "24157eec0aaa4051a2cd75a81a5a8b43": {
      "model_module": "@jupyter-widgets/controls",
      "model_module_version": "1.5.0",
      "model_name": "VBoxModel",
      "state": {
       "_dom_classes": [
        "widget-interact"
       ],
       "children": [
        "IPY_MODEL_bed19f7da312496ebc03d1efc5dd80d7",
        "IPY_MODEL_8e35425ad56b456fa2e7d2b12eae7343",
        "IPY_MODEL_cb7e2f1c260642569c9e9c8fc6b6d5f2",
        "IPY_MODEL_1acab8abb9da4d8989ea5facb0511f09"
       ],
       "layout": "IPY_MODEL_50bcf55a97984d42ac64e420463716bb"
      }
     },
     "24ec116f9fd540c389657ea30afdccff": {
      "model_module": "@jupyter-widgets/controls",
      "model_module_version": "1.5.0",
      "model_name": "FloatSliderModel",
      "state": {
       "description": "$\\Delta x$:",
       "layout": "IPY_MODEL_ec0ee4914a854e84a68fdcc6a9b2319f",
       "max": 0.99,
       "min": 0.15,
       "step": 0.01,
       "style": "IPY_MODEL_f1f124a6d2a140d4be3283d0a4e9475e",
       "value": 0.2
      }
     },
     "2562179042334f2d8aec5ab8b08ef802": {
      "model_module": "@jupyter-widgets/controls",
      "model_module_version": "1.5.0",
      "model_name": "FloatSliderModel",
      "state": {
       "description": "$\\Delta x$:",
       "layout": "IPY_MODEL_881cbe6cfcf445e89ff66887a2f0046e",
       "max": 0.99,
       "min": 0.15,
       "step": 0.01,
       "style": "IPY_MODEL_667bb55cbdf74161add5750d20f1e993",
       "value": 0.2
      }
     },
     "259ffc60a0714d4395decd66daaec637": {
      "model_module": "@jupyter-widgets/controls",
      "model_module_version": "1.5.0",
      "model_name": "DropdownModel",
      "state": {
       "_options_labels": [
        "0.1",
        "0.15000000000000002",
        "0.20000000000000004",
        "0.25000000000000006",
        "0.30000000000000004",
        "0.3500000000000001",
        "0.40000000000000013",
        "0.45000000000000007",
        "0.5000000000000001",
        "0.5500000000000002",
        "0.6000000000000002",
        "0.6500000000000001",
        "0.7000000000000002",
        "0.7500000000000002",
        "0.8000000000000002",
        "0.8500000000000002",
        "0.9000000000000002",
        "0.9500000000000003"
       ],
       "description": "$\\Delta x$",
       "index": 0,
       "layout": "IPY_MODEL_e101a0e3c6a048d1aca69df70a924d0a",
       "style": "IPY_MODEL_050fc5b414854a81b76c8ffc27647c79"
      }
     },
     "26374dab80354ff79eabcf19aa32d698": {
      "model_module": "@jupyter-widgets/controls",
      "model_module_version": "1.5.0",
      "model_name": "FloatSliderModel",
      "state": {
       "description": "$\\Delta x$:",
       "layout": "IPY_MODEL_51bc139839c9416d8eb49b27f18a743e",
       "max": 0.99,
       "min": 0.15,
       "step": 0.01,
       "style": "IPY_MODEL_8009fd53609248f0a9cc03837472b3c8",
       "value": 0.23
      }
     },
     "267185ed16ac4574ae7fecb698c00d02": {
      "model_module": "@jupyter-widgets/base",
      "model_module_version": "1.2.0",
      "model_name": "LayoutModel",
      "state": {}
     },
     "298bbe4e12104b2a8f00bd82010aa35d": {
      "model_module": "@jupyter-widgets/base",
      "model_module_version": "1.2.0",
      "model_name": "LayoutModel",
      "state": {}
     },
     "29dc5c19b5534327a70960f7e7ba1f09": {
      "model_module": "@jupyter-widgets/base",
      "model_module_version": "1.2.0",
      "model_name": "LayoutModel",
      "state": {}
     },
     "2a9fe9495735470f8f7c6054cdea8adc": {
      "model_module": "@jupyter-widgets/base",
      "model_module_version": "1.2.0",
      "model_name": "LayoutModel",
      "state": {}
     },
     "2b0922767bc7465eb918ee707064b70a": {
      "model_module": "@jupyter-widgets/base",
      "model_module_version": "1.2.0",
      "model_name": "LayoutModel",
      "state": {}
     },
     "2b0b2b97cb1347639513866de925f470": {
      "model_module": "@jupyter-widgets/controls",
      "model_module_version": "1.5.0",
      "model_name": "SliderStyleModel",
      "state": {
       "description_width": ""
      }
     },
     "2b6b11262f9d4537938edc3aad70690c": {
      "model_module": "@jupyter-widgets/controls",
      "model_module_version": "1.5.0",
      "model_name": "DescriptionStyleModel",
      "state": {
       "description_width": ""
      }
     },
     "2b715464208d4d8f924837500b2db51f": {
      "model_module": "@jupyter-widgets/controls",
      "model_module_version": "1.5.0",
      "model_name": "DescriptionStyleModel",
      "state": {
       "description_width": ""
      }
     },
     "2c1756cf744b49c1a27232cedd1d59eb": {
      "model_module": "@jupyter-widgets/controls",
      "model_module_version": "1.5.0",
      "model_name": "SelectMultipleModel",
      "state": {
       "_options_labels": [
        "2",
        "3",
        "4",
        "5",
        "6",
        "7",
        "8",
        "9",
        "10",
        "11",
        "12",
        "13",
        "14",
        "15",
        "16",
        "17",
        "18",
        "19",
        "20",
        "21",
        "22",
        "23",
        "24",
        "25",
        "26",
        "27",
        "28",
        "29",
        "30",
        "31",
        "32",
        "33",
        "34",
        "35",
        "36",
        "37",
        "38",
        "39",
        "40",
        "41",
        "42",
        "43",
        "44",
        "45",
        "46",
        "47",
        "48",
        "49",
        "50",
        "51",
        "52",
        "53",
        "54",
        "55",
        "56",
        "57",
        "58",
        "59",
        "60",
        "61",
        "62",
        "63",
        "64",
        "65",
        "66",
        "67",
        "68",
        "69",
        "70",
        "71",
        "72",
        "73",
        "74",
        "75",
        "76",
        "77",
        "78",
        "79",
        "80",
        "81",
        "82",
        "83",
        "84",
        "85",
        "86",
        "87",
        "88",
        "89",
        "90",
        "91",
        "92",
        "93",
        "94",
        "95",
        "96",
        "97",
        "98",
        "99",
        "100"
       ],
       "description": "$\\mathbb{X}$",
       "index": [
        18
       ],
       "layout": "IPY_MODEL_cfe546eb61ec4652a31eed61794c3ac7",
       "rows": 5,
       "style": "IPY_MODEL_cdd0647e5b7147ca9acba4b1c6cf8051"
      }
     },
     "2ca92549fc89485fb64b9c1c826ee96e": {
      "model_module": "@jupyter-widgets/controls",
      "model_module_version": "1.5.0",
      "model_name": "FloatSliderModel",
      "state": {
       "description": "$\\Delta x$:",
       "layout": "IPY_MODEL_586174d8365d49c5aa946dc74a797667",
       "max": 0.99,
       "min": 0.15,
       "step": 0.01,
       "style": "IPY_MODEL_45de906b664741e39c4bf49e221a8671",
       "value": 0.98
      }
     },
     "2cf969f405d6417a8cda13367842fc32": {
      "model_module": "@jupyter-widgets/base",
      "model_module_version": "1.2.0",
      "model_name": "LayoutModel",
      "state": {}
     },
     "2e89929335534cb99456ac6d1d0d3f07": {
      "model_module": "@jupyter-widgets/controls",
      "model_module_version": "1.5.0",
      "model_name": "FloatSliderModel",
      "state": {
       "description": "L",
       "layout": "IPY_MODEL_0ffaa0b204d742bcb4c133d8588dc1de",
       "max": 0.99,
       "min": 0.15,
       "step": 0.01,
       "style": "IPY_MODEL_1f2d0f1fadf94f99be5300aa617544c5",
       "value": 0.5
      }
     },
     "2eef6fa037f1415cbd75063639b6f377": {
      "model_module": "@jupyter-widgets/base",
      "model_module_version": "1.2.0",
      "model_name": "LayoutModel",
      "state": {}
     },
     "2f1b87a6e08341979857d318937ba595": {
      "model_module": "@jupyter-widgets/controls",
      "model_module_version": "1.5.0",
      "model_name": "FloatSliderModel",
      "state": {
       "description": "$\\Delta x$:",
       "layout": "IPY_MODEL_350ce0a9e89c401286f075e90f37e6c4",
       "max": 0.99,
       "min": 0.15,
       "step": 0.01,
       "style": "IPY_MODEL_8ab7236ed0d6448a9e7ecaed992d043a",
       "value": 0.2
      }
     },
     "2f688597fc4f4b8f946eb23569fbf514": {
      "model_module": "@jupyter-widgets/controls",
      "model_module_version": "1.5.0",
      "model_name": "DescriptionStyleModel",
      "state": {
       "description_width": ""
      }
     },
     "304b7b24f43b43e08c085a1434ce2afb": {
      "model_module": "@jupyter-widgets/controls",
      "model_module_version": "1.5.0",
      "model_name": "DropdownModel",
      "state": {
       "_options_labels": [
        "0.1"
       ],
       "description": "$\\Delta x$",
       "index": 0,
       "layout": "IPY_MODEL_beca3198ba144b7dad719b3477e51f4f",
       "style": "IPY_MODEL_3be77a5c53404659bee05f54f64cd76e"
      }
     },
     "3075be9c33f248c1ac64a4e846d2ac90": {
      "model_module": "@jupyter-widgets/base",
      "model_module_version": "1.2.0",
      "model_name": "LayoutModel",
      "state": {}
     },
     "30bb074916eb40d19c86af3435572b34": {
      "model_module": "@jupyter-widgets/controls",
      "model_module_version": "1.5.0",
      "model_name": "DropdownModel",
      "state": {
       "_options_labels": [
        "2",
        "3",
        "4",
        "5",
        "6",
        "7",
        "8",
        "9",
        "10",
        "11",
        "12",
        "13",
        "14",
        "15",
        "16",
        "17",
        "18",
        "19",
        "20",
        "21",
        "22",
        "23",
        "24",
        "25",
        "26",
        "27",
        "28",
        "29",
        "30",
        "31",
        "32",
        "33",
        "34",
        "35",
        "36",
        "37",
        "38",
        "39",
        "40",
        "41",
        "42",
        "43",
        "44",
        "45",
        "46",
        "47",
        "48",
        "49",
        "50"
       ],
       "description": "$x$",
       "index": 0,
       "layout": "IPY_MODEL_7067af21be404edf844b3ea86a3ea536",
       "style": "IPY_MODEL_350ebfad302441bfae1e0eb0e49b2fdf"
      }
     },
     "30bf5e3e2e4c47548b6c965ef4162df2": {
      "model_module": "@jupyter-widgets/base",
      "model_module_version": "1.2.0",
      "model_name": "LayoutModel",
      "state": {}
     },
     "3144c7d9217c4079b17ab65ef3913b42": {
      "model_module": "@jupyter-widgets/base",
      "model_module_version": "1.2.0",
      "model_name": "LayoutModel",
      "state": {}
     },
     "31c8806e921c4493b14d52a9d700cfe2": {
      "model_module": "@jupyter-widgets/base",
      "model_module_version": "1.2.0",
      "model_name": "LayoutModel",
      "state": {}
     },
     "323dd01edf0d401dbacb2f34cefb489f": {
      "model_module": "@jupyter-widgets/controls",
      "model_module_version": "1.5.0",
      "model_name": "FloatSliderModel",
      "state": {
       "description": "$\\Delta x$:",
       "layout": "IPY_MODEL_be898040e93542aea97517db6e551175",
       "max": 0.99,
       "min": 0.15,
       "step": 0.01,
       "style": "IPY_MODEL_c28dc6103bb34ec7aa7ee4f2890dda9f",
       "value": 0.25
      }
     },
     "3273bff719e144a1b40fc443064318ba": {
      "model_module": "@jupyter-widgets/base",
      "model_module_version": "1.2.0",
      "model_name": "LayoutModel",
      "state": {}
     },
     "327cf907b18545708381eefe43a5c7c9": {
      "model_module": "@jupyter-widgets/base",
      "model_module_version": "1.2.0",
      "model_name": "LayoutModel",
      "state": {}
     },
     "32f6edfdb461403296d43ce9e6f592bf": {
      "model_module": "@jupyter-widgets/controls",
      "model_module_version": "1.5.0",
      "model_name": "DropdownModel",
      "state": {
       "_options_labels": [
        "2",
        "3",
        "4",
        "5",
        "6",
        "7",
        "8",
        "9",
        "10",
        "11",
        "12",
        "13",
        "14",
        "15",
        "16",
        "17",
        "18",
        "19",
        "20",
        "21",
        "22",
        "23",
        "24",
        "25",
        "26",
        "27",
        "28",
        "29",
        "30",
        "31",
        "32",
        "33",
        "34",
        "35",
        "36",
        "37",
        "38",
        "39",
        "40",
        "41",
        "42",
        "43",
        "44",
        "45",
        "46",
        "47",
        "48",
        "49",
        "50"
       ],
       "description": "$x$",
       "index": 0,
       "layout": "IPY_MODEL_b1a335d2b398484a8c374a0b9bb1028d",
       "style": "IPY_MODEL_3c083717e4e6401790f7ec281cff5ed0"
      }
     },
     "33955bb35c7844eeaa26878664279f64": {
      "model_module": "@jupyter-widgets/controls",
      "model_module_version": "1.5.0",
      "model_name": "DescriptionStyleModel",
      "state": {
       "description_width": ""
      }
     },
     "33af76c9897448629dac2f4acdc0e774": {
      "model_module": "@jupyter-widgets/base",
      "model_module_version": "1.2.0",
      "model_name": "LayoutModel",
      "state": {}
     },
     "33b7a1cd546247abb3b994de1b47a47c": {
      "model_module": "@jupyter-widgets/base",
      "model_module_version": "1.2.0",
      "model_name": "LayoutModel",
      "state": {}
     },
     "341295ecbe464a839674c04ea92f8887": {
      "model_module": "@jupyter-widgets/base",
      "model_module_version": "1.2.0",
      "model_name": "LayoutModel",
      "state": {}
     },
     "346b471f46af47e485420b84229a8f84": {
      "model_module": "@jupyter-widgets/output",
      "model_module_version": "1.0.0",
      "model_name": "OutputModel",
      "state": {
       "layout": "IPY_MODEL_16e847f562d44493859d252ee0d8b847"
      }
     },
     "350ce0a9e89c401286f075e90f37e6c4": {
      "model_module": "@jupyter-widgets/base",
      "model_module_version": "1.2.0",
      "model_name": "LayoutModel",
      "state": {}
     },
     "350ebfad302441bfae1e0eb0e49b2fdf": {
      "model_module": "@jupyter-widgets/controls",
      "model_module_version": "1.5.0",
      "model_name": "DescriptionStyleModel",
      "state": {
       "description_width": ""
      }
     },
     "352e01c1bdda4e298e9ec27d066ec490": {
      "model_module": "@jupyter-widgets/base",
      "model_module_version": "1.2.0",
      "model_name": "LayoutModel",
      "state": {}
     },
     "38e497015bbe4e94ba9e4da248f3530d": {
      "model_module": "@jupyter-widgets/controls",
      "model_module_version": "1.5.0",
      "model_name": "FloatSliderModel",
      "state": {
       "description": "L",
       "layout": "IPY_MODEL_ba4781384c074e33bcaecda3f31910a7",
       "max": 0.99,
       "min": 0.15,
       "step": 0.01,
       "style": "IPY_MODEL_d3eff4261a724a049b67e3da3d2b9b64",
       "value": 0.5
      }
     },
     "3a24e5edf89a40eb8a9c13d6bb872726": {
      "model_module": "@jupyter-widgets/base",
      "model_module_version": "1.2.0",
      "model_name": "LayoutModel",
      "state": {}
     },
     "3b2420f6fe8d4f32a32ab34cfcf71fa0": {
      "model_module": "@jupyter-widgets/controls",
      "model_module_version": "1.5.0",
      "model_name": "FloatSliderModel",
      "state": {
       "description": "L",
       "layout": "IPY_MODEL_172ed42c7fc0491d8d2e89bc1a3703b9",
       "max": 0.99,
       "min": 0.15,
       "step": 0.01,
       "style": "IPY_MODEL_40866436971e4966ad26291aa00f1f70",
       "value": 0.5
      }
     },
     "3b77942c437848138f86203f2efec955": {
      "model_module": "@jupyter-widgets/controls",
      "model_module_version": "1.5.0",
      "model_name": "SelectMultipleModel",
      "state": {
       "_options_labels": [
        "2",
        "3",
        "4",
        "5",
        "6",
        "7",
        "8",
        "9",
        "10",
        "11",
        "12",
        "13",
        "14",
        "15",
        "16",
        "17",
        "18",
        "19",
        "20",
        "21",
        "22",
        "23",
        "24",
        "25",
        "26",
        "27",
        "28",
        "29",
        "30",
        "31",
        "32",
        "33",
        "34",
        "35",
        "36",
        "37",
        "38",
        "39",
        "40",
        "41",
        "42",
        "43",
        "44",
        "45",
        "46",
        "47",
        "48",
        "49",
        "50",
        "51",
        "52",
        "53",
        "54",
        "55",
        "56",
        "57",
        "58",
        "59",
        "60",
        "61",
        "62",
        "63",
        "64",
        "65",
        "66",
        "67",
        "68",
        "69",
        "70",
        "71",
        "72",
        "73",
        "74",
        "75",
        "76",
        "77",
        "78",
        "79",
        "80",
        "81",
        "82",
        "83",
        "84",
        "85",
        "86",
        "87",
        "88",
        "89",
        "90",
        "91",
        "92",
        "93",
        "94",
        "95",
        "96",
        "97",
        "98",
        "99",
        "100"
       ],
       "description": "$\\mathbb{X}$",
       "index": [
        18
       ],
       "layout": "IPY_MODEL_327cf907b18545708381eefe43a5c7c9",
       "rows": 5,
       "style": "IPY_MODEL_0ffe029d37bb4bb9a2ccc65b5effe47f"
      }
     },
     "3be77a5c53404659bee05f54f64cd76e": {
      "model_module": "@jupyter-widgets/controls",
      "model_module_version": "1.5.0",
      "model_name": "DescriptionStyleModel",
      "state": {
       "description_width": ""
      }
     },
     "3c083717e4e6401790f7ec281cff5ed0": {
      "model_module": "@jupyter-widgets/controls",
      "model_module_version": "1.5.0",
      "model_name": "DescriptionStyleModel",
      "state": {
       "description_width": ""
      }
     },
     "3c149b8f7cbb47438e2a6229966c76a1": {
      "model_module": "@jupyter-widgets/controls",
      "model_module_version": "1.5.0",
      "model_name": "FloatSliderModel",
      "state": {
       "description": "$\\Delta x$:",
       "layout": "IPY_MODEL_1f22a45dc240474b9a86529e8f1d38cb",
       "max": 0.99,
       "min": 0.15,
       "step": 0.01,
       "style": "IPY_MODEL_b358c78af8d442c8b5ffff85fc274748",
       "value": 0.25
      }
     },
     "3c3484e73aeb48eba2c8855483a1f636": {
      "model_module": "@jupyter-widgets/controls",
      "model_module_version": "1.5.0",
      "model_name": "SelectMultipleModel",
      "state": {
       "_options_labels": [
        "2",
        "3",
        "4",
        "5",
        "6",
        "7",
        "8",
        "9",
        "10",
        "11",
        "12",
        "13",
        "14",
        "15",
        "16",
        "17",
        "18",
        "19",
        "20",
        "21",
        "22",
        "23",
        "24",
        "25",
        "26",
        "27",
        "28",
        "29",
        "30",
        "31",
        "32",
        "33",
        "34",
        "35",
        "36",
        "37",
        "38",
        "39",
        "40",
        "41",
        "42",
        "43",
        "44",
        "45",
        "46",
        "47",
        "48",
        "49",
        "50",
        "51",
        "52",
        "53",
        "54",
        "55",
        "56",
        "57",
        "58",
        "59",
        "60",
        "61",
        "62",
        "63",
        "64",
        "65",
        "66",
        "67",
        "68",
        "69",
        "70",
        "71",
        "72",
        "73",
        "74",
        "75",
        "76",
        "77",
        "78",
        "79",
        "80",
        "81",
        "82",
        "83",
        "84",
        "85",
        "86",
        "87",
        "88",
        "89",
        "90",
        "91",
        "92",
        "93",
        "94",
        "95",
        "96",
        "97",
        "98",
        "99",
        "100"
       ],
       "description": "$\\mathbb{X}$",
       "index": [
        18
       ],
       "layout": "IPY_MODEL_a101c4a24a6d444dab2259012e912ff6",
       "rows": 5,
       "style": "IPY_MODEL_fd3a47f9edbb416d9c6eea5ee775c458"
      }
     },
     "3c4445fc3f374cd5a2034c13446ff50b": {
      "model_module": "@jupyter-widgets/controls",
      "model_module_version": "1.5.0",
      "model_name": "VBoxModel",
      "state": {
       "_dom_classes": [
        "widget-interact"
       ],
       "children": [
        "IPY_MODEL_6207e7cd6cad4ec4b8de3374eda86863",
        "IPY_MODEL_c68d377067a6455db324c81be45b99cf",
        "IPY_MODEL_8c4cfd41963b4f4a9cefb3695fe958ac",
        "IPY_MODEL_acd8c5b69de54a4dbe187389ee2ca623"
       ],
       "layout": "IPY_MODEL_aa27b65ed382425d8763c87766ab5e2a"
      }
     },
     "3d462b28f84c4624adea0db328d22d43": {
      "model_module": "@jupyter-widgets/base",
      "model_module_version": "1.2.0",
      "model_name": "LayoutModel",
      "state": {}
     },
     "3dba09200b864e76bb349f56dffb40de": {
      "model_module": "@jupyter-widgets/base",
      "model_module_version": "1.2.0",
      "model_name": "LayoutModel",
      "state": {}
     },
     "3e01b8c5c1194d8585830864762121b1": {
      "model_module": "@jupyter-widgets/controls",
      "model_module_version": "1.5.0",
      "model_name": "SliderStyleModel",
      "state": {
       "description_width": ""
      }
     },
     "3e29bffac32741c49459bc52f3e33c5a": {
      "model_module": "@jupyter-widgets/controls",
      "model_module_version": "1.5.0",
      "model_name": "DropdownModel",
      "state": {
       "_options_labels": [
        "2",
        "3",
        "4",
        "5",
        "6",
        "7",
        "8",
        "9",
        "10",
        "11",
        "12",
        "13",
        "14",
        "15",
        "16",
        "17",
        "18",
        "19",
        "20",
        "21",
        "22",
        "23",
        "24",
        "25",
        "26",
        "27",
        "28",
        "29",
        "30",
        "31",
        "32",
        "33",
        "34",
        "35",
        "36",
        "37",
        "38",
        "39",
        "40",
        "41",
        "42",
        "43",
        "44",
        "45",
        "46",
        "47",
        "48",
        "49",
        "50"
       ],
       "description": "$x$",
       "index": 0,
       "layout": "IPY_MODEL_69cee52c1d89423395e2d0cfe2a4b337",
       "style": "IPY_MODEL_0cec9bcbc78b469f873593864be5a94a"
      }
     },
     "3e399e972d2146dd9e2702f429335970": {
      "model_module": "@jupyter-widgets/base",
      "model_module_version": "1.2.0",
      "model_name": "LayoutModel",
      "state": {}
     },
     "3ed79182a05b4ab58eabc82afe6e6cc5": {
      "model_module": "@jupyter-widgets/output",
      "model_module_version": "1.0.0",
      "model_name": "OutputModel",
      "state": {
       "layout": "IPY_MODEL_44d29fc424fa4fc089b12c4375a2be34",
       "outputs": [
        {
         "data": {
          "image/png": "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\n",
          "text/plain": "<Figure size 432x288 with 1 Axes>"
         },
         "metadata": {
          "needs_background": "light"
         },
         "output_type": "display_data"
        }
       ]
      }
     },
     "3edb347e157a4a97a6668ee45812dd71": {
      "model_module": "@jupyter-widgets/controls",
      "model_module_version": "1.5.0",
      "model_name": "DescriptionStyleModel",
      "state": {
       "description_width": ""
      }
     },
     "40866436971e4966ad26291aa00f1f70": {
      "model_module": "@jupyter-widgets/controls",
      "model_module_version": "1.5.0",
      "model_name": "SliderStyleModel",
      "state": {
       "description_width": ""
      }
     },
     "40e878efbe1e4aec9fdea210b4508c19": {
      "model_module": "@jupyter-widgets/controls",
      "model_module_version": "1.5.0",
      "model_name": "SliderStyleModel",
      "state": {
       "description_width": ""
      }
     },
     "4116abc814e040ab8ddf9e8144caa846": {
      "model_module": "@jupyter-widgets/output",
      "model_module_version": "1.0.0",
      "model_name": "OutputModel",
      "state": {
       "layout": "IPY_MODEL_03a2cf5de9b04e418f2dbddd947973b1"
      }
     },
     "41a390d99ce648bf93365ddf4dcff154": {
      "model_module": "@jupyter-widgets/base",
      "model_module_version": "1.2.0",
      "model_name": "LayoutModel",
      "state": {}
     },
     "420e4f9e128e4bdba68a5cbb217440d3": {
      "model_module": "@jupyter-widgets/base",
      "model_module_version": "1.2.0",
      "model_name": "LayoutModel",
      "state": {}
     },
     "4254cf3fb06047a199faedba226ff1ac": {
      "model_module": "@jupyter-widgets/base",
      "model_module_version": "1.2.0",
      "model_name": "LayoutModel",
      "state": {}
     },
     "429cae41eece49fe988d92588faf85aa": {
      "model_module": "@jupyter-widgets/controls",
      "model_module_version": "1.5.0",
      "model_name": "DropdownModel",
      "state": {
       "_options_labels": [
        "2",
        "3",
        "4",
        "5",
        "6",
        "7",
        "8",
        "9",
        "10",
        "11",
        "12",
        "13",
        "14",
        "15",
        "16",
        "17",
        "18",
        "19",
        "20",
        "21",
        "22",
        "23",
        "24",
        "25",
        "26",
        "27",
        "28",
        "29",
        "30",
        "31",
        "32",
        "33",
        "34",
        "35",
        "36",
        "37",
        "38",
        "39",
        "40",
        "41",
        "42",
        "43",
        "44",
        "45",
        "46",
        "47",
        "48",
        "49",
        "50"
       ],
       "description": "$x$",
       "index": 8,
       "layout": "IPY_MODEL_ff367c9f8e0e4d2c9f16e8c4e6b3ba54",
       "style": "IPY_MODEL_fe1d0bb88f2e42268e3488808c2b3c29"
      }
     },
     "42ac1a62c83647728ab3238c7b571ebe": {
      "model_module": "@jupyter-widgets/base",
      "model_module_version": "1.2.0",
      "model_name": "LayoutModel",
      "state": {}
     },
     "42edd2d44c144d8c8bc9a4636cc65b90": {
      "model_module": "@jupyter-widgets/base",
      "model_module_version": "1.2.0",
      "model_name": "LayoutModel",
      "state": {}
     },
     "431b4644c60146c58a93f3c2d32934d9": {
      "model_module": "@jupyter-widgets/controls",
      "model_module_version": "1.5.0",
      "model_name": "DescriptionStyleModel",
      "state": {
       "description_width": ""
      }
     },
     "43c5fceea70c46ebae13881a7c8b469c": {
      "model_module": "@jupyter-widgets/base",
      "model_module_version": "1.2.0",
      "model_name": "LayoutModel",
      "state": {}
     },
     "443127b9056c4f1080c02e49813c7832": {
      "model_module": "@jupyter-widgets/base",
      "model_module_version": "1.2.0",
      "model_name": "LayoutModel",
      "state": {}
     },
     "443cf05463e8432297febee74fbbd5d7": {
      "model_module": "@jupyter-widgets/controls",
      "model_module_version": "1.5.0",
      "model_name": "FloatSliderModel",
      "state": {
       "description": "$\\Delta x$:",
       "layout": "IPY_MODEL_b4aac5c2b775496aa052de465add6d21",
       "max": 0.99,
       "min": 0.15,
       "step": 0.01,
       "style": "IPY_MODEL_cc0351c28b8245f7b9bdbd7b3446cd42",
       "value": 0.25
      }
     },
     "44beebd3db2d40dea309c5a06c44a172": {
      "model_module": "@jupyter-widgets/controls",
      "model_module_version": "1.5.0",
      "model_name": "DescriptionStyleModel",
      "state": {
       "description_width": ""
      }
     },
     "44d29fc424fa4fc089b12c4375a2be34": {
      "model_module": "@jupyter-widgets/base",
      "model_module_version": "1.2.0",
      "model_name": "LayoutModel",
      "state": {}
     },
     "45ab0ce25f0847f09f8f2a393f20cb2d": {
      "model_module": "@jupyter-widgets/base",
      "model_module_version": "1.2.0",
      "model_name": "LayoutModel",
      "state": {}
     },
     "45bbec225c064e989befa59ee84f769f": {
      "model_module": "@jupyter-widgets/controls",
      "model_module_version": "1.5.0",
      "model_name": "DescriptionStyleModel",
      "state": {
       "description_width": ""
      }
     },
     "45de906b664741e39c4bf49e221a8671": {
      "model_module": "@jupyter-widgets/controls",
      "model_module_version": "1.5.0",
      "model_name": "SliderStyleModel",
      "state": {
       "description_width": ""
      }
     },
     "45e011cea40648068a4c7db526424f5c": {
      "model_module": "@jupyter-widgets/base",
      "model_module_version": "1.2.0",
      "model_name": "LayoutModel",
      "state": {}
     },
     "45e128ba6cc245a6a8fb44af9bb71a4b": {
      "model_module": "@jupyter-widgets/base",
      "model_module_version": "1.2.0",
      "model_name": "LayoutModel",
      "state": {}
     },
     "462fca40dd674ca5b163d9519115404e": {
      "model_module": "@jupyter-widgets/controls",
      "model_module_version": "1.5.0",
      "model_name": "VBoxModel",
      "state": {
       "_dom_classes": [
        "widget-interact"
       ],
       "children": [
        "IPY_MODEL_96ba91cc657a468ba48e10596e315416",
        "IPY_MODEL_9d88178c2de94c788bcc122ec3468d30",
        "IPY_MODEL_3b77942c437848138f86203f2efec955",
        "IPY_MODEL_b1a2620f187440fa8fb9034302828723"
       ],
       "layout": "IPY_MODEL_4aed5a74c5db4fa2b93bb182ad0401c3"
      }
     },
     "46f559c6bcc245ea9722a14978da8d60": {
      "model_module": "@jupyter-widgets/controls",
      "model_module_version": "1.5.0",
      "model_name": "FloatSliderModel",
      "state": {
       "description": "L",
       "layout": "IPY_MODEL_74fca5685fa34a0ba309c68e830fad64",
       "max": 0.99,
       "min": 0.15,
       "step": 0.01,
       "style": "IPY_MODEL_9015cc6fdd5741cc9ed268131284f99a",
       "value": 0.5
      }
     },
     "474fef451b4349eda7994cf7a21887bc": {
      "model_module": "@jupyter-widgets/controls",
      "model_module_version": "1.5.0",
      "model_name": "DropdownModel",
      "state": {
       "_options_labels": [
        "2",
        "3",
        "4",
        "5",
        "6",
        "7",
        "8",
        "9",
        "10",
        "11",
        "12",
        "13",
        "14",
        "15",
        "16",
        "17",
        "18",
        "19",
        "20",
        "21",
        "22",
        "23",
        "24",
        "25",
        "26",
        "27",
        "28",
        "29",
        "30",
        "31",
        "32",
        "33",
        "34",
        "35",
        "36",
        "37",
        "38",
        "39",
        "40",
        "41",
        "42",
        "43",
        "44",
        "45",
        "46",
        "47",
        "48",
        "49",
        "50"
       ],
       "description": "$x$",
       "index": 0,
       "layout": "IPY_MODEL_81e9780c80a74f13a449c89e12e23e19",
       "style": "IPY_MODEL_6b3c6fb7cdaf49f28a34e4c86de398fc"
      }
     },
     "476e26ece53c435e8cdf72a939939986": {
      "model_module": "@jupyter-widgets/base",
      "model_module_version": "1.2.0",
      "model_name": "LayoutModel",
      "state": {}
     },
     "486b8689d26546e9a594c3b7f6fde4e7": {
      "model_module": "@jupyter-widgets/base",
      "model_module_version": "1.2.0",
      "model_name": "LayoutModel",
      "state": {}
     },
     "48a0a4030db6411f8826944d40b8b527": {
      "model_module": "@jupyter-widgets/base",
      "model_module_version": "1.2.0",
      "model_name": "LayoutModel",
      "state": {}
     },
     "49526e2c51a1410494fdbc1636656e5f": {
      "model_module": "@jupyter-widgets/base",
      "model_module_version": "1.2.0",
      "model_name": "LayoutModel",
      "state": {}
     },
     "49b2516b4784413a9f7d1fc46224d228": {
      "model_module": "@jupyter-widgets/base",
      "model_module_version": "1.2.0",
      "model_name": "LayoutModel",
      "state": {}
     },
     "4ab53da230134777949b03adf51830e3": {
      "model_module": "@jupyter-widgets/controls",
      "model_module_version": "1.5.0",
      "model_name": "SliderStyleModel",
      "state": {
       "description_width": ""
      }
     },
     "4aed5a74c5db4fa2b93bb182ad0401c3": {
      "model_module": "@jupyter-widgets/base",
      "model_module_version": "1.2.0",
      "model_name": "LayoutModel",
      "state": {}
     },
     "4b0926c77bf84dfdb514c1b2f971672d": {
      "model_module": "@jupyter-widgets/controls",
      "model_module_version": "1.5.0",
      "model_name": "SliderStyleModel",
      "state": {
       "description_width": ""
      }
     },
     "4b233f95a4194ee5a37e58bc29e7d3c2": {
      "model_module": "@jupyter-widgets/controls",
      "model_module_version": "1.5.0",
      "model_name": "DescriptionStyleModel",
      "state": {
       "description_width": ""
      }
     },
     "4b40a6e128e6412d85dba92a53a3fb46": {
      "model_module": "@jupyter-widgets/output",
      "model_module_version": "1.0.0",
      "model_name": "OutputModel",
      "state": {
       "layout": "IPY_MODEL_45e128ba6cc245a6a8fb44af9bb71a4b"
      }
     },
     "4b6bc5903f8e4a75a77bd18461500557": {
      "model_module": "@jupyter-widgets/base",
      "model_module_version": "1.2.0",
      "model_name": "LayoutModel",
      "state": {}
     },
     "4b725dce740d47e8aae4640adf50bd06": {
      "model_module": "@jupyter-widgets/base",
      "model_module_version": "1.2.0",
      "model_name": "LayoutModel",
      "state": {}
     },
     "4c2aa1ad400046969240790d1092e9ac": {
      "model_module": "@jupyter-widgets/controls",
      "model_module_version": "1.5.0",
      "model_name": "SliderStyleModel",
      "state": {
       "description_width": ""
      }
     },
     "4c35a85f269640a1968bc5f1d7636733": {
      "model_module": "@jupyter-widgets/controls",
      "model_module_version": "1.5.0",
      "model_name": "SliderStyleModel",
      "state": {
       "description_width": ""
      }
     },
     "4c4d8704d005419180e75969a625c5c0": {
      "model_module": "@jupyter-widgets/controls",
      "model_module_version": "1.5.0",
      "model_name": "SliderStyleModel",
      "state": {
       "description_width": ""
      }
     },
     "4cf45ca938e04d42b1d993733051c244": {
      "model_module": "@jupyter-widgets/base",
      "model_module_version": "1.2.0",
      "model_name": "LayoutModel",
      "state": {}
     },
     "4cf7fae1df774190ba96c4f6e6f4106c": {
      "model_module": "@jupyter-widgets/base",
      "model_module_version": "1.2.0",
      "model_name": "LayoutModel",
      "state": {}
     },
     "4d3a906c922545999cd89f9a3ba89c3b": {
      "model_module": "@jupyter-widgets/base",
      "model_module_version": "1.2.0",
      "model_name": "LayoutModel",
      "state": {}
     },
     "4dbed147b4f1490bbba3bad4396ddafb": {
      "model_module": "@jupyter-widgets/controls",
      "model_module_version": "1.5.0",
      "model_name": "FloatSliderModel",
      "state": {
       "description": "L",
       "layout": "IPY_MODEL_60ce790734c04aafb1622ef0e35ac685",
       "max": 0.99,
       "min": 0.15,
       "step": 0.01,
       "style": "IPY_MODEL_fdce6f64b72249038ca585e5f1843ac7",
       "value": 0.5
      }
     },
     "4f098a2d55014e978b83c8aee944bb49": {
      "model_module": "@jupyter-widgets/controls",
      "model_module_version": "1.5.0",
      "model_name": "VBoxModel",
      "state": {
       "_dom_classes": [
        "widget-interact"
       ],
       "children": [
        "IPY_MODEL_f0750e19eb4a4a8bafd2e79556c16c05",
        "IPY_MODEL_4dbed147b4f1490bbba3bad4396ddafb",
        "IPY_MODEL_30bb074916eb40d19c86af3435572b34",
        "IPY_MODEL_c8ec3da09d2642b0bd4ca4c3ed52956e"
       ],
       "layout": "IPY_MODEL_d6c240d36ce44c7699e0962deb9c79e1"
      }
     },
     "4f414ef95f9a46c398f128b74aba3c4a": {
      "model_module": "@jupyter-widgets/base",
      "model_module_version": "1.2.0",
      "model_name": "LayoutModel",
      "state": {}
     },
     "4fa1464ac35e4428850ffd4b66d111ae": {
      "model_module": "@jupyter-widgets/base",
      "model_module_version": "1.2.0",
      "model_name": "LayoutModel",
      "state": {}
     },
     "4fb320bd907b478c898f41e9c24942f5": {
      "model_module": "@jupyter-widgets/controls",
      "model_module_version": "1.5.0",
      "model_name": "VBoxModel",
      "state": {
       "_dom_classes": [
        "widget-interact"
       ],
       "children": [
        "IPY_MODEL_c6ac3621ee3d410f89a98087a6f1f1b8",
        "IPY_MODEL_df83a51de9e1429a8d30464db69f5696",
        "IPY_MODEL_535eb8c1df184c88a283ceaaa8aa6f77",
        "IPY_MODEL_a1b19f7f1aed4a0f9790f6122c9c7d25"
       ],
       "layout": "IPY_MODEL_5603476127ee4de1b70161d5f8360cf8"
      }
     },
     "4fc3ddcf8de4487e93de3aeff6d99b47": {
      "model_module": "@jupyter-widgets/base",
      "model_module_version": "1.2.0",
      "model_name": "LayoutModel",
      "state": {}
     },
     "5035eeea392d459d82e89918a8fb9ff2": {
      "model_module": "@jupyter-widgets/controls",
      "model_module_version": "1.5.0",
      "model_name": "VBoxModel",
      "state": {
       "_dom_classes": [
        "widget-interact"
       ],
       "children": [
        "IPY_MODEL_160e787ea45141708501da1ac634354f",
        "IPY_MODEL_0d52a999ad6a4aa6b173441e423bad92",
        "IPY_MODEL_3c3484e73aeb48eba2c8855483a1f636",
        "IPY_MODEL_7f9635612d6d482ca836456bc3287ccb"
       ],
       "layout": "IPY_MODEL_a395af2a4ea345328229051f7cecd4d9"
      }
     },
     "50bcf55a97984d42ac64e420463716bb": {
      "model_module": "@jupyter-widgets/base",
      "model_module_version": "1.2.0",
      "model_name": "LayoutModel",
      "state": {}
     },
     "50df03e58348485d9b8d13b76ce0bcb6": {
      "model_module": "@jupyter-widgets/controls",
      "model_module_version": "1.5.0",
      "model_name": "FloatSliderModel",
      "state": {
       "description": "L",
       "layout": "IPY_MODEL_3144c7d9217c4079b17ab65ef3913b42",
       "max": 0.99,
       "min": 0.15,
       "step": 0.01,
       "style": "IPY_MODEL_f1e94286570548c7b7d8c157d567be57",
       "value": 0.5
      }
     },
     "51bc139839c9416d8eb49b27f18a743e": {
      "model_module": "@jupyter-widgets/base",
      "model_module_version": "1.2.0",
      "model_name": "LayoutModel",
      "state": {}
     },
     "521532dd50f7402986b1158f67fd6500": {
      "model_module": "@jupyter-widgets/controls",
      "model_module_version": "1.5.0",
      "model_name": "SliderStyleModel",
      "state": {
       "description_width": ""
      }
     },
     "52ef0fc7546e4005a413f735755dd11b": {
      "model_module": "@jupyter-widgets/output",
      "model_module_version": "1.0.0",
      "model_name": "OutputModel",
      "state": {
       "layout": "IPY_MODEL_86e05ddc72d74ce9826dcd92b0606065",
       "outputs": [
        {
         "data": {
          "image/png": "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\n",
          "text/plain": "<Figure size 432x288 with 1 Axes>"
         },
         "metadata": {
          "needs_background": "light"
         },
         "output_type": "display_data"
        }
       ]
      }
     },
     "53076a4db821423a86638e2755f89278": {
      "model_module": "@jupyter-widgets/controls",
      "model_module_version": "1.5.0",
      "model_name": "VBoxModel",
      "state": {
       "_dom_classes": [
        "widget-interact"
       ],
       "children": [
        "IPY_MODEL_8e0ef9ae021749daba37b6b0ce5a2c1f",
        "IPY_MODEL_805dcb747e124822885f82d40278507f",
        "IPY_MODEL_32f6edfdb461403296d43ce9e6f592bf",
        "IPY_MODEL_0fb1feebf360444ea06bdcee1ec66b2b"
       ],
       "layout": "IPY_MODEL_c9c428438f8440bbb5de63b40a4c1b5e"
      }
     },
     "53206524ac054662b2adcd0233335b5c": {
      "model_module": "@jupyter-widgets/controls",
      "model_module_version": "1.5.0",
      "model_name": "SliderStyleModel",
      "state": {
       "description_width": ""
      }
     },
     "535eb8c1df184c88a283ceaaa8aa6f77": {
      "model_module": "@jupyter-widgets/controls",
      "model_module_version": "1.5.0",
      "model_name": "DropdownModel",
      "state": {
       "_options_labels": [
        "2",
        "3",
        "4",
        "5",
        "6",
        "7",
        "8",
        "9",
        "10",
        "11",
        "12",
        "13",
        "14",
        "15",
        "16",
        "17",
        "18",
        "19",
        "20",
        "21",
        "22",
        "23",
        "24",
        "25",
        "26",
        "27",
        "28",
        "29",
        "30",
        "31",
        "32",
        "33",
        "34",
        "35",
        "36",
        "37",
        "38",
        "39",
        "40",
        "41",
        "42",
        "43",
        "44",
        "45",
        "46",
        "47",
        "48",
        "49",
        "50"
       ],
       "description": "$x$",
       "index": 12,
       "layout": "IPY_MODEL_67e18afb4cb94b948fb0a0b43888e2f3",
       "style": "IPY_MODEL_fff68ee7fe844b1389b0ba5438b3352a"
      }
     },
     "53a295abdba64519b7487a293fe027be": {
      "model_module": "@jupyter-widgets/controls",
      "model_module_version": "1.5.0",
      "model_name": "FloatSliderModel",
      "state": {
       "description": "$\\Delta x$:",
       "layout": "IPY_MODEL_bef6954400664d08848fdd0785727a0e",
       "max": 0.99,
       "min": 0.15,
       "step": 0.01,
       "style": "IPY_MODEL_b0cef49896c94b28a07c18aef144e78e",
       "value": 0.2
      }
     },
     "53ce8914095c425a906d8f30da60d432": {
      "model_module": "@jupyter-widgets/controls",
      "model_module_version": "1.5.0",
      "model_name": "SliderStyleModel",
      "state": {
       "description_width": ""
      }
     },
     "54461742ad794fa8a9b3df76ac160afe": {
      "model_module": "@jupyter-widgets/base",
      "model_module_version": "1.2.0",
      "model_name": "LayoutModel",
      "state": {}
     },
     "54736b6fc69c449daf89d6297eb254fc": {
      "model_module": "@jupyter-widgets/base",
      "model_module_version": "1.2.0",
      "model_name": "LayoutModel",
      "state": {}
     },
     "5541f60343074e5e832bdad790467a48": {
      "model_module": "@jupyter-widgets/controls",
      "model_module_version": "1.5.0",
      "model_name": "SelectMultipleModel",
      "state": {
       "_options_labels": [
        "2",
        "3",
        "4",
        "5",
        "6",
        "7",
        "8",
        "9",
        "10",
        "11",
        "12",
        "13",
        "14",
        "15",
        "16",
        "17",
        "18",
        "19",
        "20",
        "21",
        "22",
        "23",
        "24",
        "25",
        "26",
        "27",
        "28",
        "29",
        "30",
        "31",
        "32",
        "33",
        "34",
        "35",
        "36",
        "37",
        "38",
        "39",
        "40",
        "41",
        "42",
        "43",
        "44",
        "45",
        "46",
        "47",
        "48",
        "49",
        "50",
        "51",
        "52",
        "53",
        "54",
        "55",
        "56",
        "57",
        "58",
        "59",
        "60",
        "61",
        "62",
        "63",
        "64",
        "65",
        "66",
        "67",
        "68",
        "69",
        "70",
        "71",
        "72",
        "73",
        "74",
        "75",
        "76",
        "77",
        "78",
        "79",
        "80",
        "81",
        "82",
        "83",
        "84",
        "85",
        "86",
        "87",
        "88",
        "89",
        "90",
        "91",
        "92",
        "93",
        "94",
        "95",
        "96",
        "97",
        "98",
        "99",
        "100"
       ],
       "description": "$\\mathbb{X}$",
       "index": [
        18
       ],
       "layout": "IPY_MODEL_bdab04aa61a440b486376723d1d6ffcc",
       "rows": 5,
       "style": "IPY_MODEL_b8ee58486cf14202a74a79fe0857cdec"
      }
     },
     "5603476127ee4de1b70161d5f8360cf8": {
      "model_module": "@jupyter-widgets/base",
      "model_module_version": "1.2.0",
      "model_name": "LayoutModel",
      "state": {}
     },
     "5643b5d60b0b44f78ee57c348a06a24f": {
      "model_module": "@jupyter-widgets/controls",
      "model_module_version": "1.5.0",
      "model_name": "SliderStyleModel",
      "state": {
       "description_width": ""
      }
     },
     "5711b1e640ad438f964dfd224ed4f7d5": {
      "model_module": "@jupyter-widgets/base",
      "model_module_version": "1.2.0",
      "model_name": "LayoutModel",
      "state": {}
     },
     "578bf3f9c5634072943a7b218baac931": {
      "model_module": "@jupyter-widgets/controls",
      "model_module_version": "1.5.0",
      "model_name": "FloatSliderModel",
      "state": {
       "description": "L",
       "layout": "IPY_MODEL_d62b33ced64d43fca9b64599f5e2ddef",
       "max": 0.99,
       "min": 0.15,
       "step": 0.01,
       "style": "IPY_MODEL_9254037916c3455fa7acccc76b6af951",
       "value": 0.5
      }
     },
     "585073495d8c4604bc77e8005424f1a6": {
      "model_module": "@jupyter-widgets/controls",
      "model_module_version": "1.5.0",
      "model_name": "FloatSliderModel",
      "state": {
       "description": "L",
       "layout": "IPY_MODEL_54461742ad794fa8a9b3df76ac160afe",
       "max": 0.99,
       "min": 0.15,
       "step": 0.01,
       "style": "IPY_MODEL_1aa1183a053e448c9efbc09d121b6a3f",
       "value": 0.5
      }
     },
     "586174d8365d49c5aa946dc74a797667": {
      "model_module": "@jupyter-widgets/base",
      "model_module_version": "1.2.0",
      "model_name": "LayoutModel",
      "state": {}
     },
     "58bf75f948e240d48b9304c4a6cb3fac": {
      "model_module": "@jupyter-widgets/controls",
      "model_module_version": "1.5.0",
      "model_name": "VBoxModel",
      "state": {
       "_dom_classes": [
        "widget-interact"
       ],
       "children": [
        "IPY_MODEL_259ffc60a0714d4395decd66daaec637",
        "IPY_MODEL_b9773d2304a24191874e78e9ed4e3fce",
        "IPY_MODEL_8603bc2373684f27b4376b6ac4edd5f2",
        "IPY_MODEL_9faa38330f544ddea71a96642de83582"
       ],
       "layout": "IPY_MODEL_01a5d9212615412585f47cfd62805efe"
      }
     },
     "58d1d264e88a49faab284501fab17c20": {
      "model_module": "@jupyter-widgets/controls",
      "model_module_version": "1.5.0",
      "model_name": "DropdownModel",
      "state": {
       "_options_labels": [
        "2",
        "3",
        "4",
        "5",
        "6",
        "7",
        "8",
        "9",
        "10",
        "11",
        "12",
        "13",
        "14",
        "15",
        "16",
        "17",
        "18",
        "19",
        "20",
        "21",
        "22",
        "23",
        "24",
        "25",
        "26",
        "27",
        "28",
        "29",
        "30",
        "31",
        "32",
        "33",
        "34",
        "35",
        "36",
        "37",
        "38",
        "39",
        "40",
        "41",
        "42",
        "43",
        "44",
        "45",
        "46",
        "47",
        "48",
        "49",
        "50"
       ],
       "description": "$x$",
       "index": 0,
       "layout": "IPY_MODEL_c79bc0e8cbbe4eeeb773812d95f4c412",
       "style": "IPY_MODEL_1b78e74b8a3a49dd8786edb0a064952f"
      }
     },
     "59643b898f1a4a9ea46276287c5085e2": {
      "model_module": "@jupyter-widgets/controls",
      "model_module_version": "1.5.0",
      "model_name": "SliderStyleModel",
      "state": {
       "description_width": ""
      }
     },
     "5a2f666dfd5c45528654cb1465dae986": {
      "model_module": "@jupyter-widgets/base",
      "model_module_version": "1.2.0",
      "model_name": "LayoutModel",
      "state": {}
     },
     "5aa40198843043c490bccd47464cd6cc": {
      "model_module": "@jupyter-widgets/base",
      "model_module_version": "1.2.0",
      "model_name": "LayoutModel",
      "state": {}
     },
     "5bf10443573040079f585eda601c5bda": {
      "model_module": "@jupyter-widgets/controls",
      "model_module_version": "1.5.0",
      "model_name": "DropdownModel",
      "state": {
       "_options_labels": [
        "2",
        "3",
        "4",
        "5",
        "6",
        "7",
        "8",
        "9",
        "10",
        "11",
        "12",
        "13",
        "14",
        "15",
        "16",
        "17",
        "18",
        "19",
        "20",
        "21",
        "22",
        "23",
        "24",
        "25",
        "26",
        "27",
        "28",
        "29",
        "30",
        "31",
        "32",
        "33",
        "34",
        "35",
        "36",
        "37",
        "38",
        "39",
        "40",
        "41",
        "42",
        "43",
        "44",
        "45",
        "46",
        "47",
        "48",
        "49",
        "50"
       ],
       "description": "$x$",
       "index": 0,
       "layout": "IPY_MODEL_02ae3d87739d4ed186c18f36c4020a6c",
       "style": "IPY_MODEL_a929efa921c64e1bbd31dc01d9caa26c"
      }
     },
     "5bf32acfae814ba2a82dcc7e966f71b6": {
      "model_module": "@jupyter-widgets/base",
      "model_module_version": "1.2.0",
      "model_name": "LayoutModel",
      "state": {}
     },
     "5c2070da60994839b7260a90e09e60d6": {
      "model_module": "@jupyter-widgets/base",
      "model_module_version": "1.2.0",
      "model_name": "LayoutModel",
      "state": {}
     },
     "5f0f3ac2ae83421eb873deb4785219ea": {
      "model_module": "@jupyter-widgets/base",
      "model_module_version": "1.2.0",
      "model_name": "LayoutModel",
      "state": {}
     },
     "5fec8ce5890249e09e795f3b77cc1433": {
      "model_module": "@jupyter-widgets/base",
      "model_module_version": "1.2.0",
      "model_name": "LayoutModel",
      "state": {}
     },
     "60ce790734c04aafb1622ef0e35ac685": {
      "model_module": "@jupyter-widgets/base",
      "model_module_version": "1.2.0",
      "model_name": "LayoutModel",
      "state": {}
     },
     "60d40d430bc34810a01b903372cd06a8": {
      "model_module": "@jupyter-widgets/controls",
      "model_module_version": "1.5.0",
      "model_name": "DropdownModel",
      "state": {
       "_options_labels": [
        "2",
        "3",
        "4",
        "5",
        "6",
        "7",
        "8",
        "9",
        "10",
        "11",
        "12",
        "13",
        "14",
        "15",
        "16",
        "17",
        "18",
        "19",
        "20",
        "21",
        "22",
        "23",
        "24",
        "25",
        "26",
        "27",
        "28",
        "29",
        "30",
        "31",
        "32",
        "33",
        "34",
        "35",
        "36",
        "37",
        "38",
        "39",
        "40",
        "41",
        "42",
        "43",
        "44",
        "45",
        "46",
        "47",
        "48",
        "49",
        "50"
       ],
       "description": "$x$",
       "index": 38,
       "layout": "IPY_MODEL_89ed91aaf22547fea7767dd34353c1bc",
       "style": "IPY_MODEL_8a22922e59cb486b8019faec7d45bd84"
      }
     },
     "6120ec737fb54ad8b88b0856a18b563e": {
      "model_module": "@jupyter-widgets/output",
      "model_module_version": "1.0.0",
      "model_name": "OutputModel",
      "state": {
       "layout": "IPY_MODEL_476e26ece53c435e8cdf72a939939986"
      }
     },
     "613a15a008b1482dbd7e3d19c357742c": {
      "model_module": "@jupyter-widgets/output",
      "model_module_version": "1.0.0",
      "model_name": "OutputModel",
      "state": {
       "layout": "IPY_MODEL_01969237ff0c47419edc3b97cbbcfd38"
      }
     },
     "61e2428f38184576b106efe0552a3411": {
      "model_module": "@jupyter-widgets/controls",
      "model_module_version": "1.5.0",
      "model_name": "DescriptionStyleModel",
      "state": {
       "description_width": ""
      }
     },
     "61f89971f4034c39ab3d122b9179d797": {
      "model_module": "@jupyter-widgets/base",
      "model_module_version": "1.2.0",
      "model_name": "LayoutModel",
      "state": {}
     },
     "6207e7cd6cad4ec4b8de3374eda86863": {
      "model_module": "@jupyter-widgets/controls",
      "model_module_version": "1.5.0",
      "model_name": "FloatSliderModel",
      "state": {
       "description": "$\\Delta x$:",
       "layout": "IPY_MODEL_9d1e408d53124a43b8e0e70151b7b1c8",
       "max": 0.99,
       "min": 0.15,
       "step": 0.01,
       "style": "IPY_MODEL_9ae80afae8f64aea9dc2596cb970d0fd",
       "value": 0.2
      }
     },
     "6238fd542af54fbab1995523b69c930a": {
      "model_module": "@jupyter-widgets/controls",
      "model_module_version": "1.5.0",
      "model_name": "DropdownModel",
      "state": {
       "_options_labels": [
        "2",
        "3",
        "4",
        "5",
        "6",
        "7",
        "8",
        "9",
        "10",
        "11",
        "12",
        "13",
        "14",
        "15",
        "16",
        "17",
        "18",
        "19",
        "20",
        "21",
        "22",
        "23",
        "24",
        "25",
        "26",
        "27",
        "28",
        "29",
        "30",
        "31",
        "32",
        "33",
        "34",
        "35",
        "36",
        "37",
        "38",
        "39",
        "40",
        "41",
        "42",
        "43",
        "44",
        "45",
        "46",
        "47",
        "48",
        "49",
        "50"
       ],
       "description": "$x$",
       "index": 0,
       "layout": "IPY_MODEL_cdd8fae535724fa79b0b97b7bdc00e9f",
       "style": "IPY_MODEL_2f688597fc4f4b8f946eb23569fbf514"
      }
     },
     "625d1f79d8dd4dbf8695e0490f603ffe": {
      "model_module": "@jupyter-widgets/controls",
      "model_module_version": "1.5.0",
      "model_name": "VBoxModel",
      "state": {
       "_dom_classes": [
        "widget-interact"
       ],
       "children": [
        "IPY_MODEL_ea68f2e925f1429e9efa6eb9c47a7e7f",
        "IPY_MODEL_99f8487f5a74486f8ee94250ae9b355d",
        "IPY_MODEL_22afd1ce7ee14bd7b2016155268ff2b0",
        "IPY_MODEL_6120ec737fb54ad8b88b0856a18b563e"
       ],
       "layout": "IPY_MODEL_d2ecdeb970ec4705b89bf9775e5cd48e"
      }
     },
     "62b433776e34477a96195dec42b1470e": {
      "model_module": "@jupyter-widgets/base",
      "model_module_version": "1.2.0",
      "model_name": "LayoutModel",
      "state": {}
     },
     "635c9fe7dd984e8f81054d82dc0c5f81": {
      "model_module": "@jupyter-widgets/output",
      "model_module_version": "1.0.0",
      "model_name": "OutputModel",
      "state": {
       "layout": "IPY_MODEL_4b6bc5903f8e4a75a77bd18461500557"
      }
     },
     "645888a34afa418a88745c398592f2ff": {
      "model_module": "@jupyter-widgets/base",
      "model_module_version": "1.2.0",
      "model_name": "LayoutModel",
      "state": {}
     },
     "647817439a0b4534b418732f7cc1505f": {
      "model_module": "@jupyter-widgets/output",
      "model_module_version": "1.0.0",
      "model_name": "OutputModel",
      "state": {
       "layout": "IPY_MODEL_106ee41718f344998f53b3430f29f56a"
      }
     },
     "64b83bdb2bd643a8940aec65b3975522": {
      "model_module": "@jupyter-widgets/controls",
      "model_module_version": "1.5.0",
      "model_name": "SliderStyleModel",
      "state": {
       "description_width": ""
      }
     },
     "667bb55cbdf74161add5750d20f1e993": {
      "model_module": "@jupyter-widgets/controls",
      "model_module_version": "1.5.0",
      "model_name": "SliderStyleModel",
      "state": {
       "description_width": ""
      }
     },
     "668796bb304b436da8d57e218da78196": {
      "model_module": "@jupyter-widgets/base",
      "model_module_version": "1.2.0",
      "model_name": "LayoutModel",
      "state": {}
     },
     "678f6ccf4c77455a84cb1dc560a8d851": {
      "model_module": "@jupyter-widgets/controls",
      "model_module_version": "1.5.0",
      "model_name": "VBoxModel",
      "state": {
       "_dom_classes": [
        "widget-interact"
       ],
       "children": [
        "IPY_MODEL_fb38a4bdc77041dba1c17608aacd0682",
        "IPY_MODEL_9d2dd55082934100b16db029155c1cda",
        "IPY_MODEL_1991d95deaa3498fa4fcb1f653baeaf5",
        "IPY_MODEL_52ef0fc7546e4005a413f735755dd11b"
       ],
       "layout": "IPY_MODEL_719a03b57f194dd082f8c020e7a53fe5"
      }
     },
     "67e18afb4cb94b948fb0a0b43888e2f3": {
      "model_module": "@jupyter-widgets/base",
      "model_module_version": "1.2.0",
      "model_name": "LayoutModel",
      "state": {}
     },
     "68dd240461a74a668f27c09484e4e143": {
      "model_module": "@jupyter-widgets/controls",
      "model_module_version": "1.5.0",
      "model_name": "DescriptionStyleModel",
      "state": {
       "description_width": ""
      }
     },
     "69cee52c1d89423395e2d0cfe2a4b337": {
      "model_module": "@jupyter-widgets/base",
      "model_module_version": "1.2.0",
      "model_name": "LayoutModel",
      "state": {}
     },
     "6a545d0336174021a17d8e92da14df7c": {
      "model_module": "@jupyter-widgets/controls",
      "model_module_version": "1.5.0",
      "model_name": "DropdownModel",
      "state": {
       "_options_labels": [
        "0.1",
        "0.15",
        "0.2",
        "0.25",
        "0.3",
        "0.35",
        "0.4",
        "0.5"
       ],
       "description": "$\\Delta x$",
       "index": 0,
       "layout": "IPY_MODEL_352e01c1bdda4e298e9ec27d066ec490",
       "style": "IPY_MODEL_7618ed286e9d45cc816491eb748639b5"
      }
     },
     "6aaab2e3c991430093bf2808daac1414": {
      "model_module": "@jupyter-widgets/controls",
      "model_module_version": "1.5.0",
      "model_name": "DropdownModel",
      "state": {
       "_options_labels": [
        "2",
        "3",
        "4",
        "5",
        "6",
        "7",
        "8",
        "9",
        "10",
        "11",
        "12",
        "13",
        "14",
        "15",
        "16",
        "17",
        "18",
        "19",
        "20",
        "21",
        "22",
        "23",
        "24",
        "25",
        "26",
        "27",
        "28",
        "29",
        "30",
        "31",
        "32",
        "33",
        "34",
        "35",
        "36",
        "37",
        "38",
        "39",
        "40",
        "41",
        "42",
        "43",
        "44",
        "45",
        "46",
        "47",
        "48",
        "49",
        "50"
       ],
       "description": "$x$",
       "index": 0,
       "layout": "IPY_MODEL_45e011cea40648068a4c7db526424f5c",
       "style": "IPY_MODEL_ab54c7f71b994ea6bfc316c32ba68905"
      }
     },
     "6ac68db29fea4ecea9cab4bd9f399d32": {
      "model_module": "@jupyter-widgets/controls",
      "model_module_version": "1.5.0",
      "model_name": "SelectMultipleModel",
      "state": {
       "_options_labels": [
        "2",
        "3",
        "4",
        "5",
        "6",
        "7",
        "8",
        "9",
        "10",
        "11",
        "12",
        "13",
        "14",
        "15",
        "16",
        "17",
        "18",
        "19",
        "20",
        "21",
        "22",
        "23",
        "24",
        "25",
        "26",
        "27",
        "28",
        "29",
        "30",
        "31",
        "32",
        "33",
        "34",
        "35",
        "36",
        "37",
        "38",
        "39",
        "40",
        "41",
        "42",
        "43",
        "44",
        "45",
        "46",
        "47",
        "48",
        "49",
        "50",
        "51",
        "52",
        "53",
        "54",
        "55",
        "56",
        "57",
        "58",
        "59",
        "60",
        "61",
        "62",
        "63",
        "64",
        "65",
        "66",
        "67",
        "68",
        "69",
        "70",
        "71",
        "72",
        "73",
        "74",
        "75",
        "76",
        "77",
        "78",
        "79",
        "80",
        "81",
        "82",
        "83",
        "84",
        "85",
        "86",
        "87",
        "88",
        "89",
        "90",
        "91",
        "92",
        "93",
        "94",
        "95",
        "96",
        "97",
        "98",
        "99",
        "100"
       ],
       "description": "$\\mathbb{X}$",
       "index": [
        18
       ],
       "layout": "IPY_MODEL_89f0d98132374728bd18f917c4e0b6a7",
       "rows": 5,
       "style": "IPY_MODEL_7bdec40bdecd41aeafe30850badf1b11"
      }
     },
     "6b3c6fb7cdaf49f28a34e4c86de398fc": {
      "model_module": "@jupyter-widgets/controls",
      "model_module_version": "1.5.0",
      "model_name": "DescriptionStyleModel",
      "state": {
       "description_width": ""
      }
     },
     "6c502e6d10ea414891b965d868d9df0b": {
      "model_module": "@jupyter-widgets/base",
      "model_module_version": "1.2.0",
      "model_name": "LayoutModel",
      "state": {}
     },
     "6cdfb388ab8844828b55637c56e34808": {
      "model_module": "@jupyter-widgets/controls",
      "model_module_version": "1.5.0",
      "model_name": "FloatSliderModel",
      "state": {
       "description": "L",
       "layout": "IPY_MODEL_5fec8ce5890249e09e795f3b77cc1433",
       "max": 0.99,
       "min": 0.15,
       "step": 0.01,
       "style": "IPY_MODEL_e693c77afa674b45bfcfa15eacc7e96b",
       "value": 0.5
      }
     },
     "6cf9d0534c1c4da880c00eef20e2c8a8": {
      "model_module": "@jupyter-widgets/controls",
      "model_module_version": "1.5.0",
      "model_name": "FloatSliderModel",
      "state": {
       "description": "$\\Delta x$:",
       "layout": "IPY_MODEL_298bbe4e12104b2a8f00bd82010aa35d",
       "max": 0.99,
       "min": 0.15,
       "step": 0.01,
       "style": "IPY_MODEL_7af12d8d29c24471bedb901f2478000c",
       "value": 0.59
      }
     },
     "6dab221c2da94a7c973f10b5dd02ec83": {
      "model_module": "@jupyter-widgets/controls",
      "model_module_version": "1.5.0",
      "model_name": "DropdownModel",
      "state": {
       "_options_labels": [
        "2",
        "3",
        "4",
        "5",
        "6",
        "7",
        "8",
        "9",
        "10",
        "11",
        "12",
        "13",
        "14",
        "15",
        "16",
        "17",
        "18",
        "19",
        "20",
        "21",
        "22",
        "23",
        "24",
        "25",
        "26",
        "27",
        "28",
        "29",
        "30",
        "31",
        "32",
        "33",
        "34",
        "35",
        "36",
        "37",
        "38",
        "39",
        "40",
        "41",
        "42",
        "43",
        "44",
        "45",
        "46",
        "47",
        "48",
        "49",
        "50"
       ],
       "description": "$x$",
       "index": 12,
       "layout": "IPY_MODEL_3273bff719e144a1b40fc443064318ba",
       "style": "IPY_MODEL_4b233f95a4194ee5a37e58bc29e7d3c2"
      }
     },
     "6f7a039461174b0ebaae76a052e8b29a": {
      "model_module": "@jupyter-widgets/controls",
      "model_module_version": "1.5.0",
      "model_name": "SliderStyleModel",
      "state": {
       "description_width": ""
      }
     },
     "6fe3220b9fcf4ae682d0ede7ab5e9b4e": {
      "model_module": "@jupyter-widgets/output",
      "model_module_version": "1.0.0",
      "model_name": "OutputModel",
      "state": {
       "layout": "IPY_MODEL_1ceea967685848948efefbd337651e2d"
      }
     },
     "7067af21be404edf844b3ea86a3ea536": {
      "model_module": "@jupyter-widgets/base",
      "model_module_version": "1.2.0",
      "model_name": "LayoutModel",
      "state": {}
     },
     "719a03b57f194dd082f8c020e7a53fe5": {
      "model_module": "@jupyter-widgets/base",
      "model_module_version": "1.2.0",
      "model_name": "LayoutModel",
      "state": {}
     },
     "71a5620eb8f9459cbab598201e040f0d": {
      "model_module": "@jupyter-widgets/base",
      "model_module_version": "1.2.0",
      "model_name": "LayoutModel",
      "state": {}
     },
     "72c08b1566994b4982926799b2fe3ab7": {
      "model_module": "@jupyter-widgets/base",
      "model_module_version": "1.2.0",
      "model_name": "LayoutModel",
      "state": {}
     },
     "747877270a6f4ab2aae797c30300060b": {
      "model_module": "@jupyter-widgets/base",
      "model_module_version": "1.2.0",
      "model_name": "LayoutModel",
      "state": {}
     },
     "74fca5685fa34a0ba309c68e830fad64": {
      "model_module": "@jupyter-widgets/base",
      "model_module_version": "1.2.0",
      "model_name": "LayoutModel",
      "state": {}
     },
     "7618ed286e9d45cc816491eb748639b5": {
      "model_module": "@jupyter-widgets/controls",
      "model_module_version": "1.5.0",
      "model_name": "DescriptionStyleModel",
      "state": {
       "description_width": ""
      }
     },
     "79004fdc9438462a957b17a8c56ed755": {
      "model_module": "@jupyter-widgets/base",
      "model_module_version": "1.2.0",
      "model_name": "LayoutModel",
      "state": {}
     },
     "793f74f3153b4067956cf95627620601": {
      "model_module": "@jupyter-widgets/controls",
      "model_module_version": "1.5.0",
      "model_name": "VBoxModel",
      "state": {
       "_dom_classes": [
        "widget-interact"
       ],
       "children": [
        "IPY_MODEL_2ca92549fc89485fb64b9c1c826ee96e",
        "IPY_MODEL_e8c01bd6244e421f8adb36bb000b7cde",
        "IPY_MODEL_5541f60343074e5e832bdad790467a48",
        "IPY_MODEL_647817439a0b4534b418732f7cc1505f"
       ],
       "layout": "IPY_MODEL_4254cf3fb06047a199faedba226ff1ac"
      }
     },
     "79666eeb56c94a75bc9454534d8d7d18": {
      "model_module": "@jupyter-widgets/base",
      "model_module_version": "1.2.0",
      "model_name": "LayoutModel",
      "state": {}
     },
     "798ee19e204a45888c80e851d498cecf": {
      "model_module": "@jupyter-widgets/controls",
      "model_module_version": "1.5.0",
      "model_name": "DescriptionStyleModel",
      "state": {
       "description_width": ""
      }
     },
     "798fbc7ea77c427bb23566f8d8b06d86": {
      "model_module": "@jupyter-widgets/controls",
      "model_module_version": "1.5.0",
      "model_name": "FloatSliderModel",
      "state": {
       "description": "L",
       "layout": "IPY_MODEL_43c5fceea70c46ebae13881a7c8b469c",
       "max": 0.99,
       "min": 0.15,
       "step": 0.01,
       "style": "IPY_MODEL_234d520619d148f99256747caac27a32",
       "value": 0.5
      }
     },
     "7af12d8d29c24471bedb901f2478000c": {
      "model_module": "@jupyter-widgets/controls",
      "model_module_version": "1.5.0",
      "model_name": "SliderStyleModel",
      "state": {
       "description_width": ""
      }
     },
     "7bdec40bdecd41aeafe30850badf1b11": {
      "model_module": "@jupyter-widgets/controls",
      "model_module_version": "1.5.0",
      "model_name": "DescriptionStyleModel",
      "state": {
       "description_width": ""
      }
     },
     "7beaa0b1dc314987a820e3c5bda62fc3": {
      "model_module": "@jupyter-widgets/controls",
      "model_module_version": "1.5.0",
      "model_name": "DropdownModel",
      "state": {
       "_options_labels": [
        "2",
        "3",
        "4",
        "5",
        "6",
        "7",
        "8",
        "9",
        "10",
        "11",
        "12",
        "13",
        "14",
        "15",
        "16",
        "17",
        "18",
        "19",
        "20",
        "21",
        "22",
        "23",
        "24",
        "25",
        "26",
        "27",
        "28",
        "29",
        "30",
        "31",
        "32",
        "33",
        "34",
        "35",
        "36",
        "37",
        "38",
        "39",
        "40",
        "41",
        "42",
        "43",
        "44",
        "45",
        "46",
        "47",
        "48",
        "49",
        "50"
       ],
       "description": "$x$",
       "index": 0,
       "layout": "IPY_MODEL_039466289ffb4cd59a07a9db594d8749",
       "style": "IPY_MODEL_fb8f8c9d0af1474ea92f80d8060371e1"
      }
     },
     "7d074beb3bbe43ef92b4787453c40a88": {
      "model_module": "@jupyter-widgets/controls",
      "model_module_version": "1.5.0",
      "model_name": "VBoxModel",
      "state": {
       "_dom_classes": [
        "widget-interact"
       ],
       "children": [
        "IPY_MODEL_846827b9e5cd4851b4053ebb9f920f03",
        "IPY_MODEL_220ea4d6820145f6a99af9ceab0cfd54",
        "IPY_MODEL_cb12e8b21da14080a13cf1b4b532e2ad",
        "IPY_MODEL_bfb8ca682b6a4c078df17d97f8030f06"
       ],
       "layout": "IPY_MODEL_0a90826286a547b3a7285435fcd18118"
      }
     },
     "7d39729d29af4961a128cf8c5fdb2473": {
      "model_module": "@jupyter-widgets/controls",
      "model_module_version": "1.5.0",
      "model_name": "FloatSliderModel",
      "state": {
       "description": "$\\Delta x$:",
       "layout": "IPY_MODEL_14c6cb3cfbb54d42a1b78fd98de349e7",
       "max": 0.99,
       "min": 0.15,
       "step": 0.01,
       "style": "IPY_MODEL_ab8d2a9a096f436cb9b931ffae263800",
       "value": 0.2
      }
     },
     "7d3b72f60c484e1ea669fca5fa1251c6": {
      "model_module": "@jupyter-widgets/base",
      "model_module_version": "1.2.0",
      "model_name": "LayoutModel",
      "state": {}
     },
     "7dffffc9392640fa80b5b74fe5391a07": {
      "model_module": "@jupyter-widgets/base",
      "model_module_version": "1.2.0",
      "model_name": "LayoutModel",
      "state": {}
     },
     "7e43c5bddd6546aabf2826d8f07b2d2a": {
      "model_module": "@jupyter-widgets/output",
      "model_module_version": "1.0.0",
      "model_name": "OutputModel",
      "state": {
       "layout": "IPY_MODEL_e705b28320724005a3beff65022400a5"
      }
     },
     "7e7ac91d37204397b20cf5f63c8c2562": {
      "model_module": "@jupyter-widgets/controls",
      "model_module_version": "1.5.0",
      "model_name": "VBoxModel",
      "state": {
       "_dom_classes": [
        "widget-interact"
       ],
       "children": [
        "IPY_MODEL_baa07abe457940dc850fe81215226977",
        "IPY_MODEL_c72ffceca46e4e909eb3dea047eb8d67",
        "IPY_MODEL_804cb20701db4dbe9f84ea27b807077f",
        "IPY_MODEL_092da86421464a3aa56a26bf93c62c1c"
       ],
       "layout": "IPY_MODEL_82db4ffabf2a40a88d4d108bea2fa5f0"
      }
     },
     "7ec7612849cb48a5a31b488100bb37ae": {
      "model_module": "@jupyter-widgets/controls",
      "model_module_version": "1.5.0",
      "model_name": "SliderStyleModel",
      "state": {
       "description_width": ""
      }
     },
     "7ed9dc9fb64b47e588642a7b43deed28": {
      "model_module": "@jupyter-widgets/controls",
      "model_module_version": "1.5.0",
      "model_name": "SelectMultipleModel",
      "state": {
       "_options_labels": [
        "2",
        "3",
        "4",
        "5",
        "6",
        "7",
        "8",
        "9",
        "10",
        "11",
        "12",
        "13",
        "14",
        "15",
        "16",
        "17",
        "18",
        "19",
        "20",
        "21",
        "22",
        "23",
        "24",
        "25",
        "26",
        "27",
        "28",
        "29",
        "30",
        "31",
        "32",
        "33",
        "34",
        "35",
        "36",
        "37",
        "38",
        "39",
        "40",
        "41",
        "42",
        "43",
        "44",
        "45",
        "46",
        "47",
        "48",
        "49",
        "50",
        "51",
        "52",
        "53",
        "54",
        "55",
        "56",
        "57",
        "58",
        "59",
        "60",
        "61",
        "62",
        "63",
        "64",
        "65",
        "66",
        "67",
        "68",
        "69",
        "70",
        "71",
        "72",
        "73",
        "74",
        "75",
        "76",
        "77",
        "78",
        "79",
        "80",
        "81",
        "82",
        "83",
        "84",
        "85",
        "86",
        "87",
        "88",
        "89",
        "90",
        "91",
        "92",
        "93",
        "94",
        "95",
        "96",
        "97",
        "98",
        "99",
        "100"
       ],
       "description": "$\\mathbb{X}$",
       "index": [
        18
       ],
       "layout": "IPY_MODEL_5f0f3ac2ae83421eb873deb4785219ea",
       "rows": 5,
       "style": "IPY_MODEL_9700cab108a74cee922e29da63c0ee5e"
      }
     },
     "7f954ebd68ae4048b153a872a9814a44": {
      "model_module": "@jupyter-widgets/controls",
      "model_module_version": "1.5.0",
      "model_name": "FloatSliderModel",
      "state": {
       "description": "L",
       "layout": "IPY_MODEL_49b2516b4784413a9f7d1fc46224d228",
       "max": 0.99,
       "min": 0.15,
       "step": 0.01,
       "style": "IPY_MODEL_bf6b3a26b0264083a0794905bfbaf99d",
       "value": 0.5
      }
     },
     "7f9635612d6d482ca836456bc3287ccb": {
      "model_module": "@jupyter-widgets/output",
      "model_module_version": "1.0.0",
      "model_name": "OutputModel",
      "state": {
       "layout": "IPY_MODEL_a0356662eee64002bad1f1934f4de76b"
      }
     },
     "8009fd53609248f0a9cc03837472b3c8": {
      "model_module": "@jupyter-widgets/controls",
      "model_module_version": "1.5.0",
      "model_name": "SliderStyleModel",
      "state": {
       "description_width": ""
      }
     },
     "80448ef51409498daf8cd002f5a97f82": {
      "model_module": "@jupyter-widgets/base",
      "model_module_version": "1.2.0",
      "model_name": "LayoutModel",
      "state": {}
     },
     "804cb20701db4dbe9f84ea27b807077f": {
      "model_module": "@jupyter-widgets/controls",
      "model_module_version": "1.5.0",
      "model_name": "DropdownModel",
      "state": {
       "_options_labels": [
        "2",
        "3",
        "4",
        "5",
        "6",
        "7",
        "8",
        "9",
        "10",
        "11",
        "12",
        "13",
        "14",
        "15",
        "16",
        "17",
        "18",
        "19",
        "20",
        "21",
        "22",
        "23",
        "24",
        "25",
        "26",
        "27",
        "28",
        "29",
        "30",
        "31",
        "32",
        "33",
        "34",
        "35",
        "36",
        "37",
        "38",
        "39",
        "40",
        "41",
        "42",
        "43",
        "44",
        "45",
        "46",
        "47",
        "48",
        "49",
        "50"
       ],
       "description": "$x$",
       "index": 0,
       "layout": "IPY_MODEL_c65970b25ce744739671298a8926fa7b",
       "style": "IPY_MODEL_cd89aca659da499f91c5c43107c38cb8"
      }
     },
     "805dcb747e124822885f82d40278507f": {
      "model_module": "@jupyter-widgets/controls",
      "model_module_version": "1.5.0",
      "model_name": "FloatSliderModel",
      "state": {
       "description": "L",
       "layout": "IPY_MODEL_fae429bf031a40329cf3702e1bc9c74b",
       "max": 0.99,
       "min": 0.15,
       "step": 0.01,
       "style": "IPY_MODEL_64b83bdb2bd643a8940aec65b3975522",
       "value": 0.5
      }
     },
     "8187a0f452c84f95b770b001ceb2bffe": {
      "model_module": "@jupyter-widgets/controls",
      "model_module_version": "1.5.0",
      "model_name": "SliderStyleModel",
      "state": {
       "description_width": ""
      }
     },
     "81e9780c80a74f13a449c89e12e23e19": {
      "model_module": "@jupyter-widgets/base",
      "model_module_version": "1.2.0",
      "model_name": "LayoutModel",
      "state": {}
     },
     "82470829d9924ea19ddc4b6064fa35a2": {
      "model_module": "@jupyter-widgets/controls",
      "model_module_version": "1.5.0",
      "model_name": "SliderStyleModel",
      "state": {
       "description_width": ""
      }
     },
     "82db4ffabf2a40a88d4d108bea2fa5f0": {
      "model_module": "@jupyter-widgets/base",
      "model_module_version": "1.2.0",
      "model_name": "LayoutModel",
      "state": {}
     },
     "82dcb642109e4ac6837b40fda9f6b7e2": {
      "model_module": "@jupyter-widgets/base",
      "model_module_version": "1.2.0",
      "model_name": "LayoutModel",
      "state": {}
     },
     "84262afb2e4d4aa5ab1c8cc6ccf7d41f": {
      "model_module": "@jupyter-widgets/base",
      "model_module_version": "1.2.0",
      "model_name": "LayoutModel",
      "state": {}
     },
     "846827b9e5cd4851b4053ebb9f920f03": {
      "model_module": "@jupyter-widgets/controls",
      "model_module_version": "1.5.0",
      "model_name": "FloatSliderModel",
      "state": {
       "description": "$\\Delta x$:",
       "layout": "IPY_MODEL_cf6918ac8d2e485aad6933a2271bd921",
       "max": 0.99,
       "min": 0.15,
       "step": 0.01,
       "style": "IPY_MODEL_e59298074b154690b5b46145852746bf",
       "value": 0.25
      }
     },
     "84d73f3ebd5f4dd9ad091ae3366e249b": {
      "model_module": "@jupyter-widgets/controls",
      "model_module_version": "1.5.0",
      "model_name": "FloatSliderModel",
      "state": {
       "description": "L",
       "layout": "IPY_MODEL_1addbfa195334536a12a1bb83addce97",
       "max": 0.99,
       "min": 0.15,
       "step": 0.01,
       "style": "IPY_MODEL_8a3f76e3c8644658905e21992103506d",
       "value": 0.5
      }
     },
     "858ced3f6a134d8f9a3f2df5ecd612f4": {
      "model_module": "@jupyter-widgets/output",
      "model_module_version": "1.0.0",
      "model_name": "OutputModel",
      "state": {
       "layout": "IPY_MODEL_3d462b28f84c4624adea0db328d22d43"
      }
     },
     "8603bc2373684f27b4376b6ac4edd5f2": {
      "model_module": "@jupyter-widgets/controls",
      "model_module_version": "1.5.0",
      "model_name": "DropdownModel",
      "state": {
       "_options_labels": [
        "2",
        "3",
        "4",
        "5",
        "6",
        "7",
        "8",
        "9",
        "10",
        "11",
        "12",
        "13",
        "14",
        "15",
        "16",
        "17",
        "18",
        "19",
        "20",
        "21",
        "22",
        "23",
        "24",
        "25",
        "26",
        "27",
        "28",
        "29",
        "30",
        "31",
        "32",
        "33",
        "34",
        "35",
        "36",
        "37",
        "38",
        "39",
        "40",
        "41",
        "42",
        "43",
        "44",
        "45",
        "46",
        "47",
        "48",
        "49",
        "50"
       ],
       "description": "$x$",
       "index": 0,
       "layout": "IPY_MODEL_79666eeb56c94a75bc9454534d8d7d18",
       "style": "IPY_MODEL_0f2166460a4241e09e53a8287bd58912"
      }
     },
     "86e05ddc72d74ce9826dcd92b0606065": {
      "model_module": "@jupyter-widgets/base",
      "model_module_version": "1.2.0",
      "model_name": "LayoutModel",
      "state": {}
     },
     "86ffe2063c5642a680b90e8d8d591045": {
      "model_module": "@jupyter-widgets/base",
      "model_module_version": "1.2.0",
      "model_name": "LayoutModel",
      "state": {}
     },
     "87163de4be714c68bed6c45f5ee14f4f": {
      "model_module": "@jupyter-widgets/base",
      "model_module_version": "1.2.0",
      "model_name": "LayoutModel",
      "state": {}
     },
     "8742aa1cce234b52a1506fb147b02886": {
      "model_module": "@jupyter-widgets/controls",
      "model_module_version": "1.5.0",
      "model_name": "FloatSliderModel",
      "state": {
       "description": "$\\Delta x$:",
       "layout": "IPY_MODEL_5bf32acfae814ba2a82dcc7e966f71b6",
       "max": 0.99,
       "min": 0.15,
       "step": 0.01,
       "style": "IPY_MODEL_53ce8914095c425a906d8f30da60d432",
       "value": 0.2
      }
     },
     "87abcf0fc61b4751a52442fca48e21b4": {
      "model_module": "@jupyter-widgets/base",
      "model_module_version": "1.2.0",
      "model_name": "LayoutModel",
      "state": {}
     },
     "881cbe6cfcf445e89ff66887a2f0046e": {
      "model_module": "@jupyter-widgets/base",
      "model_module_version": "1.2.0",
      "model_name": "LayoutModel",
      "state": {}
     },
     "88268b5b78d544e283fe042872e2a77f": {
      "model_module": "@jupyter-widgets/controls",
      "model_module_version": "1.5.0",
      "model_name": "VBoxModel",
      "state": {
       "_dom_classes": [
        "widget-interact"
       ],
       "children": [
        "IPY_MODEL_24ec116f9fd540c389657ea30afdccff",
        "IPY_MODEL_b185b68b0a284f61a668774a427e2dc5",
        "IPY_MODEL_e4182306e9824c45934abc697efc050d",
        "IPY_MODEL_e4ee79532d02463e9ac9a4d835c48594"
       ],
       "layout": "IPY_MODEL_33af76c9897448629dac2f4acdc0e774"
      }
     },
     "88577f028e6049489de7d52e7d737bc0": {
      "model_module": "@jupyter-widgets/controls",
      "model_module_version": "1.5.0",
      "model_name": "DescriptionStyleModel",
      "state": {
       "description_width": ""
      }
     },
     "8867d517233b43c0bcc5320ea7192ec4": {
      "model_module": "@jupyter-widgets/controls",
      "model_module_version": "1.5.0",
      "model_name": "FloatSliderModel",
      "state": {
       "description": "$\\Delta x$:",
       "layout": "IPY_MODEL_62b433776e34477a96195dec42b1470e",
       "max": 0.99,
       "min": 0.15,
       "step": 0.01,
       "style": "IPY_MODEL_c479b50fdac24895b128fe6ce08f67ea",
       "value": 0.2
      }
     },
     "89ed91aaf22547fea7767dd34353c1bc": {
      "model_module": "@jupyter-widgets/base",
      "model_module_version": "1.2.0",
      "model_name": "LayoutModel",
      "state": {}
     },
     "89f0d98132374728bd18f917c4e0b6a7": {
      "model_module": "@jupyter-widgets/base",
      "model_module_version": "1.2.0",
      "model_name": "LayoutModel",
      "state": {}
     },
     "8a0017c6705d4b1d872a842867e14457": {
      "model_module": "@jupyter-widgets/base",
      "model_module_version": "1.2.0",
      "model_name": "LayoutModel",
      "state": {}
     },
     "8a22922e59cb486b8019faec7d45bd84": {
      "model_module": "@jupyter-widgets/controls",
      "model_module_version": "1.5.0",
      "model_name": "DescriptionStyleModel",
      "state": {
       "description_width": ""
      }
     },
     "8a3f76e3c8644658905e21992103506d": {
      "model_module": "@jupyter-widgets/controls",
      "model_module_version": "1.5.0",
      "model_name": "SliderStyleModel",
      "state": {
       "description_width": ""
      }
     },
     "8ab7236ed0d6448a9e7ecaed992d043a": {
      "model_module": "@jupyter-widgets/controls",
      "model_module_version": "1.5.0",
      "model_name": "SliderStyleModel",
      "state": {
       "description_width": ""
      }
     },
     "8afdc0ef8c69467fa949eb44318f3c3e": {
      "model_module": "@jupyter-widgets/output",
      "model_module_version": "1.0.0",
      "model_name": "OutputModel",
      "state": {
       "layout": "IPY_MODEL_486b8689d26546e9a594c3b7f6fde4e7",
       "outputs": [
        {
         "data": {
          "image/png": "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\n",
          "text/plain": "<Figure size 432x288 with 1 Axes>"
         },
         "metadata": {
          "needs_background": "light"
         },
         "output_type": "display_data"
        }
       ]
      }
     },
     "8b72640607c242a5a1fc73e20f2d0789": {
      "model_module": "@jupyter-widgets/controls",
      "model_module_version": "1.5.0",
      "model_name": "SliderStyleModel",
      "state": {
       "description_width": ""
      }
     },
     "8bc64dc7bbf84bb5a235f27793d8dddd": {
      "model_module": "@jupyter-widgets/base",
      "model_module_version": "1.2.0",
      "model_name": "LayoutModel",
      "state": {}
     },
     "8c43ed9c82a14bc19a741939278c84bb": {
      "model_module": "@jupyter-widgets/base",
      "model_module_version": "1.2.0",
      "model_name": "LayoutModel",
      "state": {}
     },
     "8c4cfd41963b4f4a9cefb3695fe958ac": {
      "model_module": "@jupyter-widgets/controls",
      "model_module_version": "1.5.0",
      "model_name": "DropdownModel",
      "state": {
       "_options_labels": [
        "2",
        "3",
        "4",
        "5",
        "6",
        "7",
        "8",
        "9",
        "10",
        "11",
        "12",
        "13",
        "14",
        "15",
        "16",
        "17",
        "18",
        "19",
        "20",
        "21",
        "22",
        "23",
        "24",
        "25",
        "26",
        "27",
        "28",
        "29",
        "30",
        "31",
        "32",
        "33",
        "34",
        "35",
        "36",
        "37",
        "38",
        "39",
        "40",
        "41",
        "42",
        "43",
        "44",
        "45",
        "46",
        "47",
        "48",
        "49",
        "50"
       ],
       "description": "$x$",
       "index": 0,
       "layout": "IPY_MODEL_dd4a129354334c739a0de8137d20e70b",
       "style": "IPY_MODEL_2b6b11262f9d4537938edc3aad70690c"
      }
     },
     "8cd5c58c506f4c3d868c83846ebbf54a": {
      "model_module": "@jupyter-widgets/output",
      "model_module_version": "1.0.0",
      "model_name": "OutputModel",
      "state": {
       "layout": "IPY_MODEL_cb5d335aca394d97a5498d20c2c44651"
      }
     },
     "8dbbe5f9feaf4f43977e83005c220014": {
      "model_module": "@jupyter-widgets/controls",
      "model_module_version": "1.5.0",
      "model_name": "FloatSliderModel",
      "state": {
       "description": "L",
       "layout": "IPY_MODEL_42edd2d44c144d8c8bc9a4636cc65b90",
       "max": 0.99,
       "min": 0.15,
       "step": 0.01,
       "style": "IPY_MODEL_6f7a039461174b0ebaae76a052e8b29a",
       "value": 0.5
      }
     },
     "8e01e19258984ecb94e445700f2345fc": {
      "model_module": "@jupyter-widgets/output",
      "model_module_version": "1.0.0",
      "model_name": "OutputModel",
      "state": {
       "layout": "IPY_MODEL_0a318905e0f548f7a1503c3d537833bd",
       "outputs": [
        {
         "data": {
          "image/png": "iVBORw0KGgoAAAANSUhEUgAAAXwAAAD8CAYAAAB0IB+mAAAABHNCSVQICAgIfAhkiAAAAAlwSFlzAAALEgAACxIB0t1+/AAAADh0RVh0U29mdHdhcmUAbWF0cGxvdGxpYiB2ZXJzaW9uMy4xLjAsIGh0dHA6Ly9tYXRwbG90bGliLm9yZy+17YcXAAAOyklEQVR4nO3cX4xcd3nG8e8TOwG1LH9Ug4xjQ1LVqbCiSiFWEoRUQKSVkwv7og5yJExBCZZo3UoNRU6VVUBhuSioqkTqFtIUUSpBCEgNK+TWlWiiVBVGcZQSxY5cLYaCMavwJ81NBMHt24uZakbLeuewO7uz3t/3I400v5l3zr77eveZ4zN7TqoKSdLGd9mkG5AkrQ0DX5IaYeBLUiMMfElqhIEvSY0w8CWpESMDP8lnkjyX5JmLPJ8kn0wyl+TpJG8ef5uSpJXqsof/WWDPEs/fAuzs3w4Bf7PytiRJ4zYy8KvqceAnS5TsAz5XPSeAVyd5/bgalCSNx+YxbONK4HtD63P9x36wsDDJIXr/C+Dyyy+//rWvfe0Yvvyl78KFC2zePI5/ikufsxhwFgPOYuD8+fM/qqplhec4JphFHlv0eg1V9QDwAMCVV15Z3//+98fw5S99H/vYx7jnnnsm3ca64CwGnMWAsxhI8l/Lfe04/krnHLBjaL0dOD+G7UqSxmgcgT8LvKf/1zo3AS9U1S8czpEkTdbIQzpJvgC8HdiS5BzwYeBygKr6FHAMuBWYA14E3rdazUqSlm9k4FfV7SOeL+APx9aRJGlVeKatJDXCwJekRhj4ktQIA1+SGmHgS1IjDHxJaoSBL0mNMPAlqREGviQ1wsCXpEYY+JLUCANfkhph4EtSIwx8SWqEgS9JjTDwJakRBr4kNcLAl6RGGPiS1AgDX5IaYeBLUiMMfElqhIEvSY0w8CWpEQa+JDXCwJekRhj4ktQIA1+SGmHgS1IjDHxJaoSBL0mNMPAlqREGviQ1wsCXpEYY+JLUiE6Bn2RPkjNJ5pLcvcjzb0jyaJKnkjyd5NbxtypJWomRgZ9kE3AUuAXYBdyeZNeCsmng4aq6DjgA/PW4G5UkrUyXPfwbgLmqOltVLwEPAfsW1BTwyv79VwHnx9eiJGkcUlVLFyT7gT1VdWd/fRC4saoOD9W8HvgX4DXArwI3V9WTi2zrEHAIYGpq6vojR46M6/u4pM3Pz7N169ZJt7EuOIsBZzHgLAamp6efrKrdy3pxVS15A24DHhxaHwTuX1BzF/DB/v23AKeBy5ba7rZt20o9MzMzk25h3XAWA85iwFkMACdrRG5f7NblkM45YMfQeju/eMjmDuDh/hvI14GXA1uW9Q4kSVoVXQL/CWBnkquTXEHvQ9nZBTXfBd4JkORN9AL/h+NsVJK0MiMDv6ouAIeB48Cz9P4a51SS+5Ls7Zd9EHh/km8CXwDe2/+vhyRpndjcpaiqjgHHFjx279D908Bbx9uaJGmcPNNWkhph4EtSIwx8SWqEgS9JjTDwJakRBr4kNcLAl6RGGPiS1AgDX5IaYeBLUiMMfElqhIEvSY0w8CWpEQa+JDXCwJekRhj4ktQIA1+SGmHgS1IjDHxJaoSBL0mNMPAlqREGviQ1wsCXpEYY+JLUCANfkhph4EtSIwx8SWqEgS9JjTDwJakRBr4kNcLAl6RGGPiS1AgDX5IaYeBLUiM6BX6SPUnOJJlLcvdFat6V5HSSU0k+P942JUkrtXlUQZJNwFHgd4BzwBNJZqvq9FDNTuDPgLdW1fNJXrdaDUuSlqfLHv4NwFxVna2ql4CHgH0Lat4PHK2q5wGq6rnxtilJWqlU1dIFyX5gT1Xd2V8fBG6sqsNDNY8A/wm8FdgEfKSq/nmRbR0CDgFMTU1df+TIkXF9H5e0+fl5tm7dOuk21gVnMeAsBpzFwPT09JNVtXtZL66qJW/AbcCDQ+uDwP0Lar4K/CNwOXA1vUM/r15qu9u2bSv1zMzMTLqFdcNZDDiLAWcxAJysEbl9sVuXQzrngB1D6+3A+UVqvlJVP6+qbwNngJ3LegeSJK2KLoH/BLAzydVJrgAOALMLah4B3gGQZAtwDXB2nI1KklZmZOBX1QXgMHAceBZ4uKpOJbkvyd5+2XHgx0lOA48CH6qqH69W05KkX97IP8sEqKpjwLEFj907dL+Au/o3SdI65Jm2ktQIA1+SGmHgS1IjDHxJaoSBL0mNMPAlqREGviQ1wsCXpEYY+JLUCANfkhph4EtSIwx8SWqEgS9JjTDwJakRBr4kNcLAl6RGGPiS1AgDX5IaYeBLUiMMfElqhIEvSY0w8CWpEQa+JDXCwJekRhj4ktQIA1+SGmHgS1IjDHxJaoSBL0mNMPAlqREGviQ1wsCXpEYY+JLUCANfkhph4EtSIzoFfpI9Sc4kmUty9xJ1+5NUkt3ja1GSNA4jAz/JJuAocAuwC7g9ya5F6qaAPwa+Me4mJUkr12UP/wZgrqrOVtVLwEPAvkXqPgp8HPjpGPuTJI1JqmrpgmQ/sKeq7uyvDwI3VtXhoZrrgOmq+r0kjwF/WlUnF9nWIeAQwNTU1PVHjhwZ2zdyKZufn2fr1q2TbmNdcBYDzmLAWQxMT08/WVXLO2xeVUvegNuAB4fWB4H7h9aXAY8BV/XXjwG7R21327ZtpZ6ZmZlJt7BuOIsBZzHgLAaAkzUiXy9263JI5xywY2i9HTg/tJ4CrgUeS/Id4CZg1g9uJWl96RL4TwA7k1yd5ArgADD7/09W1QtVtaWqrqqqq4ATwN5a5JCOJGlyRgZ+VV0ADgPHgWeBh6vqVJL7kuxd7QYlSeOxuUtRVR0Dji147N6L1L595W1JksbNM20lqREGviQ1wsCXpEYY+JLUCANfkhph4EtSIwx8SWqEgS9JjTDwJakRBr4kNcLAl6RGGPiS1AgDX5IaYeBLUiMMfElqhIEvSY0w8CWpEQa+JDXCwJekRhj4ktQIA1+SGmHgS1IjDHxJaoSBL0mNMPAlqREGviQ1wsCXpEYY+JLUCANfkhph4EtSIwx8SWqEgS9JjTDwJakRBr4kNaJT4CfZk+RMkrkkdy/y/F1JTid5OsnXkrxx/K1KklZiZOAn2QQcBW4BdgG3J9m1oOwpYHdV/RbwZeDj425UkrQyXfbwbwDmqupsVb0EPATsGy6oqker6sX+8gSwfbxtSpJWKlW1dEGyH9hTVXf21weBG6vq8EXq/wqYr6qZRZ47BBwCmJqauv7IkSMrbH9jmJ+fZ+vWrZNuY11wFgPOYsBZDExPTz9ZVbuX9eKqWvIG3AY8OLQ+CNx/kdp309vDf9mo7W7btq3UMzMzM+kW1g1nMeAsBpzFAHCyRuTrxW6bO7wnnAN2DK23A+cXFiW5GbgHeFtV/WxZ7z6SpFXT5Rj+E8DOJFcnuQI4AMwOFyS5Dvg0sLeqnht/m5KklRoZ+FV1ATgMHAeeBR6uqlNJ7kuyt1/2CeAVwJeS/EeS2YtsTpI0IV0O6VBVx4BjCx67d+j+zWPuS5I0Zp5pK0mNMPAlqREGviQ1wsCXpEYY+JLUCANfkhph4EtSIwx8SWqEgS9JjTDwJakRBr4kNcLAl6RGGPiS1AgDX5IaYeBLUiMMfElqhIEvSY0w8CWpEQa+JDXCwJekRhj4ktQIA1+SGmHgS1IjDHxJaoSBL0mNMPAlqREGviQ1wsCXpEYY+JLUCANfkhph4EtSIwx8SWqEgS9JjTDwJakRBr4kNaJT4CfZk+RMkrkkdy/y/MuSfLH//DeSXDXuRiVJKzMy8JNsAo4CtwC7gNuT7FpQdgfwfFX9BvCXwJ+Pu1FJ0sp02cO/AZirqrNV9RLwELBvQc0+4O/7978MvDNJxtemJGmlUlVLFyT7gT1VdWd/fRC4saoOD9U80685119/q1/zowXbOgQc6i+vBZ4Z1zdyidsC/GhkVRucxYCzGHAWA79ZVVPLeeHmDjWL7akvfJfoUkNVPQA8AJDkZFXt7vD1NzxnMeAsBpzFgLMYSHJyua/tckjnHLBjaL0dOH+xmiSbgVcBP1luU5Kk8esS+E8AO5NcneQK4AAwu6BmFvj9/v39wL/WqGNFkqQ1NfKQTlVdSHIYOA5sAj5TVaeS3AecrKpZ4O+Af0gyR2/P/kCHr/3ACvreaJzFgLMYcBYDzmJg2bMY+aGtJGlj8ExbSWqEgS9JjVj1wPeyDAMdZnFXktNJnk7ytSRvnESfa2HULIbq9iepJBv2T/K6zCLJu/o/G6eSfH6te1wrHX5H3pDk0SRP9X9Pbp1En6styWeSPNc/x2mx55Pkk/05PZ3kzZ02XFWrdqP3Ie+3gF8HrgC+CexaUPMHwKf69w8AX1zNniZ16ziLdwC/0r//gZZn0a+bAh4HTgC7J933BH8udgJPAa/pr1836b4nOIsHgA/07+8CvjPpvldpFr8NvBl45iLP3wr8E71zoG4CvtFlu6u9h+9lGQZGzqKqHq2qF/vLE/TOediIuvxcAHwU+Djw07Vsbo11mcX7gaNV9TxAVT23xj2ulS6zKOCV/fuv4hfPCdoQqupxlj6XaR/wueo5Abw6yetHbXe1A/9K4HtD63P9xxatqaoLwAvAr61yX5PQZRbD7qD3Dr4RjZxFkuuAHVX11bVsbAK6/FxcA1yT5N+TnEiyZ826W1tdZvER4N1JzgHHgD9am9bWnV82T4Bul1ZYibFdlmED6Px9Jnk3sBt426p2NDlLziLJZfSuuvretWpogrr8XGymd1jn7fT+1/dvSa6tqv9e5d7WWpdZ3A58tqr+Islb6J3/c21V/e/qt7euLCs3V3sP38syDHSZBUluBu4B9lbVz9aot7U2ahZT9C6u91iS79A7Rjm7QT+47fo78pWq+nlVfRs4Q+8NYKPpMos7gIcBqurrwMvpXVitNZ3yZKHVDnwvyzAwchb9wxifphf2G/U4LYyYRVW9UFVbquqqqrqK3ucZe6tq2ReNWse6/I48Qu8DfZJsoXeI5+yadrk2usziu8A7AZK8iV7g/3BNu1wfZoH39P9a5ybghar6wagXreohnVq9yzJccjrO4hPAK4Av9T+3/m5V7Z1Y06uk4yya0HEWx4HfTXIa+B/gQ1X148l1vTo6zuKDwN8m+RN6hzDeuxF3EJN8gd4hvC39zys+DFwOUFWfovf5xa3AHPAi8L5O292As5IkLcIzbSWpEQa+JDXCwJekRhj4ktQIA1+SGmHgS1IjDHxJasT/AeMxPwEkqNKqAAAAAElFTkSuQmCC\n",
          "text/plain": "<Figure size 432x288 with 1 Axes>"
         },
         "metadata": {
          "needs_background": "light"
         },
         "output_type": "display_data"
        }
       ]
      }
     },
     "8e0ef9ae021749daba37b6b0ce5a2c1f": {
      "model_module": "@jupyter-widgets/controls",
      "model_module_version": "1.5.0",
      "model_name": "DropdownModel",
      "state": {
       "_options_labels": [
        "0.1",
        "0.15000000000000002",
        "0.20000000000000004",
        "0.25000000000000006",
        "0.30000000000000004",
        "0.3500000000000001",
        "0.40000000000000013",
        "0.45000000000000007",
        "0.5000000000000001",
        "0.5500000000000002",
        "0.6000000000000002",
        "0.6500000000000001",
        "0.7000000000000002",
        "0.7500000000000002",
        "0.8000000000000002",
        "0.8500000000000002",
        "0.9000000000000002",
        "0.9500000000000003"
       ],
       "description": "$\\Delta x$",
       "index": 0,
       "layout": "IPY_MODEL_e74f1a138d4b4896857b956c5c54119d",
       "style": "IPY_MODEL_180f4606d1ff437c889152c36a8754fa"
      }
     },
     "8e35425ad56b456fa2e7d2b12eae7343": {
      "model_module": "@jupyter-widgets/controls",
      "model_module_version": "1.5.0",
      "model_name": "FloatSliderModel",
      "state": {
       "description": "L",
       "layout": "IPY_MODEL_e1b53d5ef3f6483990b641a1d343284e",
       "max": 0.99,
       "min": 0.15,
       "step": 0.01,
       "style": "IPY_MODEL_12b26bb7988f455bb0ba3e008da1b5a0",
       "value": 0.5
      }
     },
     "8e9adbf86c014e6f93499626757ba400": {
      "model_module": "@jupyter-widgets/controls",
      "model_module_version": "1.5.0",
      "model_name": "FloatSliderModel",
      "state": {
       "description": "L",
       "layout": "IPY_MODEL_4fa1464ac35e4428850ffd4b66d111ae",
       "max": 0.99,
       "min": 0.15,
       "step": 0.01,
       "style": "IPY_MODEL_055cdc2f026944deac50272c82dd73c8",
       "value": 0.5
      }
     },
     "8f2955729e6f4abebb3726678e9df3ad": {
      "model_module": "@jupyter-widgets/output",
      "model_module_version": "1.0.0",
      "model_name": "OutputModel",
      "state": {
       "layout": "IPY_MODEL_00e4ed24b1ab42529c03994b9df0fc6a"
      }
     },
     "8f7b34def4b04dabb7c77f473a4c388b": {
      "model_module": "@jupyter-widgets/controls",
      "model_module_version": "1.5.0",
      "model_name": "SliderStyleModel",
      "state": {
       "description_width": ""
      }
     },
     "8fdcb2809caf4870bfffd86295af240f": {
      "model_module": "@jupyter-widgets/controls",
      "model_module_version": "1.5.0",
      "model_name": "VBoxModel",
      "state": {
       "_dom_classes": [
        "widget-interact"
       ],
       "children": [
        "IPY_MODEL_53a295abdba64519b7487a293fe027be",
        "IPY_MODEL_e7f67c8712d84ff8b832c113a325cbc7",
        "IPY_MODEL_3e29bffac32741c49459bc52f3e33c5a",
        "IPY_MODEL_8afdc0ef8c69467fa949eb44318f3c3e"
       ],
       "layout": "IPY_MODEL_0adbf154d7704e219071c763005e0f0e"
      }
     },
     "9015cc6fdd5741cc9ed268131284f99a": {
      "model_module": "@jupyter-widgets/controls",
      "model_module_version": "1.5.0",
      "model_name": "SliderStyleModel",
      "state": {
       "description_width": ""
      }
     },
     "90651526961f46099e4d1d958d147d3f": {
      "model_module": "@jupyter-widgets/controls",
      "model_module_version": "1.5.0",
      "model_name": "SelectMultipleModel",
      "state": {
       "_options_labels": [
        "2",
        "3",
        "4",
        "5",
        "6",
        "7",
        "8",
        "9",
        "10",
        "11",
        "12",
        "13",
        "14",
        "15",
        "16",
        "17",
        "18",
        "19",
        "20",
        "21",
        "22",
        "23",
        "24",
        "25",
        "26",
        "27",
        "28",
        "29",
        "30",
        "31",
        "32",
        "33",
        "34",
        "35",
        "36",
        "37",
        "38",
        "39",
        "40",
        "41",
        "42",
        "43",
        "44",
        "45",
        "46",
        "47",
        "48",
        "49",
        "50",
        "51",
        "52",
        "53",
        "54",
        "55",
        "56",
        "57",
        "58",
        "59",
        "60",
        "61",
        "62",
        "63",
        "64",
        "65",
        "66",
        "67",
        "68",
        "69",
        "70",
        "71",
        "72",
        "73",
        "74",
        "75",
        "76",
        "77",
        "78",
        "79",
        "80",
        "81",
        "82",
        "83",
        "84",
        "85",
        "86",
        "87",
        "88",
        "89",
        "90",
        "91",
        "92",
        "93",
        "94",
        "95",
        "96",
        "97",
        "98",
        "99",
        "100"
       ],
       "description": "$\\mathbb{X}$",
       "index": [
        18
       ],
       "layout": "IPY_MODEL_dcff749bc12f45f3b33d50ca87aec664",
       "rows": 5,
       "style": "IPY_MODEL_08854d5b3f7248ccbd84eb6ec7bd0923"
      }
     },
     "91d3e4915ea4430686243d726be45a6c": {
      "model_module": "@jupyter-widgets/controls",
      "model_module_version": "1.5.0",
      "model_name": "VBoxModel",
      "state": {
       "_dom_classes": [
        "widget-interact"
       ],
       "children": [
        "IPY_MODEL_968ac6c74de9477ab1b7019d6c9a7f83",
        "IPY_MODEL_a57d8cc8ae60482390a4f74a64e9d2b5",
        "IPY_MODEL_7beaa0b1dc314987a820e3c5bda62fc3",
        "IPY_MODEL_613a15a008b1482dbd7e3d19c357742c"
       ],
       "layout": "IPY_MODEL_e08af59db6d24389ade86616c8d5227e"
      }
     },
     "9254037916c3455fa7acccc76b6af951": {
      "model_module": "@jupyter-widgets/controls",
      "model_module_version": "1.5.0",
      "model_name": "SliderStyleModel",
      "state": {
       "description_width": ""
      }
     },
     "93297afaea494e1bbef8cfcc4dbe0990": {
      "model_module": "@jupyter-widgets/controls",
      "model_module_version": "1.5.0",
      "model_name": "SelectMultipleModel",
      "state": {
       "_options_labels": [
        "2",
        "3",
        "4",
        "5",
        "6",
        "7",
        "8",
        "9",
        "10",
        "11",
        "12",
        "13",
        "14",
        "15",
        "16",
        "17",
        "18",
        "19",
        "20",
        "21",
        "22",
        "23",
        "24",
        "25",
        "26",
        "27",
        "28",
        "29",
        "30",
        "31",
        "32",
        "33",
        "34",
        "35",
        "36",
        "37",
        "38",
        "39",
        "40",
        "41",
        "42",
        "43",
        "44",
        "45",
        "46",
        "47",
        "48",
        "49",
        "50",
        "51",
        "52",
        "53",
        "54",
        "55",
        "56",
        "57",
        "58",
        "59",
        "60",
        "61",
        "62",
        "63",
        "64",
        "65",
        "66",
        "67",
        "68",
        "69",
        "70",
        "71",
        "72",
        "73",
        "74",
        "75",
        "76",
        "77",
        "78",
        "79",
        "80",
        "81",
        "82",
        "83",
        "84",
        "85",
        "86",
        "87",
        "88",
        "89",
        "90",
        "91",
        "92",
        "93",
        "94",
        "95",
        "96",
        "97",
        "98",
        "99",
        "100"
       ],
       "description": "$\\mathbb{X}$",
       "index": [
        0,
        1,
        2,
        3,
        4,
        5,
        6,
        7,
        8,
        9,
        10,
        11,
        12,
        13,
        14,
        15,
        16,
        17,
        18,
        19,
        20,
        21,
        22,
        23,
        24,
        25,
        26,
        27,
        28,
        29,
        30,
        31,
        32,
        33,
        34,
        35,
        36,
        37,
        38,
        39,
        40,
        41,
        42,
        43,
        44,
        45,
        46,
        47,
        48,
        49,
        50,
        51,
        52,
        53,
        54,
        55,
        56,
        57,
        58,
        59,
        60,
        61,
        62,
        63,
        64,
        65,
        66,
        67,
        68,
        69,
        70,
        71,
        72,
        73,
        74,
        75,
        76,
        77,
        78,
        79,
        80,
        81,
        82,
        83,
        84,
        85,
        86,
        87,
        88,
        89,
        90,
        91,
        92,
        93,
        94,
        95,
        96,
        97,
        98
       ],
       "layout": "IPY_MODEL_87abcf0fc61b4751a52442fca48e21b4",
       "rows": 5,
       "style": "IPY_MODEL_9793184548b642abaf45c1596dcc9aa9"
      }
     },
     "950ab6ca0a454149a39d6807077b4be9": {
      "model_module": "@jupyter-widgets/output",
      "model_module_version": "1.0.0",
      "model_name": "OutputModel",
      "state": {
       "layout": "IPY_MODEL_668796bb304b436da8d57e218da78196"
      }
     },
     "95f99a0c7c9a4b78abb84f81fe71f5a2": {
      "model_module": "@jupyter-widgets/controls",
      "model_module_version": "1.5.0",
      "model_name": "VBoxModel",
      "state": {
       "_dom_classes": [
        "widget-interact"
       ],
       "children": [
        "IPY_MODEL_db2e862e5a9e407098568942ebca7cbe",
        "IPY_MODEL_798fbc7ea77c427bb23566f8d8b06d86",
        "IPY_MODEL_6dab221c2da94a7c973f10b5dd02ec83",
        "IPY_MODEL_346b471f46af47e485420b84229a8f84"
       ],
       "layout": "IPY_MODEL_b5b84a1c38af4aa59a8c139ffe615d69"
      }
     },
     "968ac6c74de9477ab1b7019d6c9a7f83": {
      "model_module": "@jupyter-widgets/controls",
      "model_module_version": "1.5.0",
      "model_name": "DropdownModel",
      "state": {
       "_options_labels": [
        "0.1",
        "0.15",
        "0.2",
        "0.25",
        "0.3",
        "0.35",
        "0.4",
        "0.45",
        "0.5"
       ],
       "description": "$\\Delta x$",
       "index": 0,
       "layout": "IPY_MODEL_4cf7fae1df774190ba96c4f6e6f4106c",
       "style": "IPY_MODEL_110d1d99e86047b08011514197a68834"
      }
     },
     "96ba91cc657a468ba48e10596e315416": {
      "model_module": "@jupyter-widgets/controls",
      "model_module_version": "1.5.0",
      "model_name": "FloatSliderModel",
      "state": {
       "description": "$\\Delta x$:",
       "layout": "IPY_MODEL_ee367d670d2a4f79aedb22edc028196e",
       "max": 0.99,
       "min": 0.15,
       "step": 0.01,
       "style": "IPY_MODEL_8f7b34def4b04dabb7c77f473a4c388b",
       "value": 0.25
      }
     },
     "9700cab108a74cee922e29da63c0ee5e": {
      "model_module": "@jupyter-widgets/controls",
      "model_module_version": "1.5.0",
      "model_name": "DescriptionStyleModel",
      "state": {
       "description_width": ""
      }
     },
     "9793184548b642abaf45c1596dcc9aa9": {
      "model_module": "@jupyter-widgets/controls",
      "model_module_version": "1.5.0",
      "model_name": "DescriptionStyleModel",
      "state": {
       "description_width": ""
      }
     },
     "98047691955047148ec2252ac344f980": {
      "model_module": "@jupyter-widgets/controls",
      "model_module_version": "1.5.0",
      "model_name": "VBoxModel",
      "state": {
       "_dom_classes": [
        "widget-interact"
       ],
       "children": [
        "IPY_MODEL_8867d517233b43c0bcc5320ea7192ec4",
        "IPY_MODEL_e77f46872d474de9863540ecdfba110e",
        "IPY_MODEL_58d1d264e88a49faab284501fab17c20",
        "IPY_MODEL_3ed79182a05b4ab58eabc82afe6e6cc5"
       ],
       "layout": "IPY_MODEL_a4b2c745be0a42c2998be776fcf49cb9"
      }
     },
     "99f8487f5a74486f8ee94250ae9b355d": {
      "model_module": "@jupyter-widgets/controls",
      "model_module_version": "1.5.0",
      "model_name": "FloatSliderModel",
      "state": {
       "description": "L",
       "layout": "IPY_MODEL_f706c8ddffe3463dbdbdfecdc6a51cac",
       "max": 0.99,
       "min": 0.15,
       "step": 0.01,
       "style": "IPY_MODEL_2b0b2b97cb1347639513866de925f470",
       "value": 0.5
      }
     },
     "9ae80afae8f64aea9dc2596cb970d0fd": {
      "model_module": "@jupyter-widgets/controls",
      "model_module_version": "1.5.0",
      "model_name": "SliderStyleModel",
      "state": {
       "description_width": ""
      }
     },
     "9b252b7c7a8847e6a410d3c5b932418d": {
      "model_module": "@jupyter-widgets/base",
      "model_module_version": "1.2.0",
      "model_name": "LayoutModel",
      "state": {}
     },
     "9d1e408d53124a43b8e0e70151b7b1c8": {
      "model_module": "@jupyter-widgets/base",
      "model_module_version": "1.2.0",
      "model_name": "LayoutModel",
      "state": {}
     },
     "9d2dd55082934100b16db029155c1cda": {
      "model_module": "@jupyter-widgets/controls",
      "model_module_version": "1.5.0",
      "model_name": "FloatSliderModel",
      "state": {
       "description": "L",
       "layout": "IPY_MODEL_0663461657ca400489fc216bd9ea087e",
       "max": 0.99,
       "min": 0.15,
       "step": 0.01,
       "style": "IPY_MODEL_fc035b8f63124abba92e6fa2a2f6c81b",
       "value": 0.5
      }
     },
     "9d88178c2de94c788bcc122ec3468d30": {
      "model_module": "@jupyter-widgets/controls",
      "model_module_version": "1.5.0",
      "model_name": "FloatSliderModel",
      "state": {
       "description": "L",
       "layout": "IPY_MODEL_b3c95c7a69e3453c9a16a7ea6af3407f",
       "max": 0.99,
       "min": 0.15,
       "step": 0.01,
       "style": "IPY_MODEL_4c35a85f269640a1968bc5f1d7636733",
       "value": 0.5
      }
     },
     "9dcf09ce2e9e4761b0872cf1fca3e59a": {
      "model_module": "@jupyter-widgets/base",
      "model_module_version": "1.2.0",
      "model_name": "LayoutModel",
      "state": {}
     },
     "9f1376e469754a55aa973959b3e6b8c5": {
      "model_module": "@jupyter-widgets/controls",
      "model_module_version": "1.5.0",
      "model_name": "VBoxModel",
      "state": {
       "_dom_classes": [
        "widget-interact"
       ],
       "children": [
        "IPY_MODEL_d0ff58ccc0ef4346be2f0ffb39a5c8f0",
        "IPY_MODEL_7f954ebd68ae4048b153a872a9814a44",
        "IPY_MODEL_2c1756cf744b49c1a27232cedd1d59eb",
        "IPY_MODEL_858ced3f6a134d8f9a3f2df5ecd612f4"
       ],
       "layout": "IPY_MODEL_7dffffc9392640fa80b5b74fe5391a07"
      }
     },
     "9f27c7f4fdea44ba9e3a89e9b6ad3fe7": {
      "model_module": "@jupyter-widgets/controls",
      "model_module_version": "1.5.0",
      "model_name": "VBoxModel",
      "state": {
       "_dom_classes": [
        "widget-interact"
       ],
       "children": [
        "IPY_MODEL_6cf9d0534c1c4da880c00eef20e2c8a8",
        "IPY_MODEL_2e89929335534cb99456ac6d1d0d3f07",
        "IPY_MODEL_93297afaea494e1bbef8cfcc4dbe0990",
        "IPY_MODEL_4116abc814e040ab8ddf9e8144caa846"
       ],
       "layout": "IPY_MODEL_06be43d023ad46cd82a0270cd4abcda3"
      }
     },
     "9f4cee5402f54ee7b9ba1e3d6850420c": {
      "model_module": "@jupyter-widgets/controls",
      "model_module_version": "1.5.0",
      "model_name": "DropdownModel",
      "state": {
       "_options_labels": [
        "2",
        "3",
        "4",
        "5",
        "6",
        "7",
        "8",
        "9",
        "10",
        "11",
        "12",
        "13",
        "14",
        "15",
        "16",
        "17",
        "18",
        "19",
        "20",
        "21",
        "22",
        "23",
        "24",
        "25",
        "26",
        "27",
        "28",
        "29",
        "30",
        "31",
        "32",
        "33",
        "34",
        "35",
        "36",
        "37",
        "38",
        "39",
        "40",
        "41",
        "42",
        "43",
        "44",
        "45",
        "46",
        "47",
        "48",
        "49",
        "50"
       ],
       "description": "$x$",
       "index": 43,
       "layout": "IPY_MODEL_1e245bc315be4dcd9a2d7d5019ca8650",
       "style": "IPY_MODEL_d62bb484838240998558f8b4cbe8c510"
      }
     },
     "9faa38330f544ddea71a96642de83582": {
      "model_module": "@jupyter-widgets/output",
      "model_module_version": "1.0.0",
      "model_name": "OutputModel",
      "state": {
       "layout": "IPY_MODEL_bbf88f425a7b489c8792f23d021cb6d6"
      }
     },
     "9fdb3d0989f343d19db29d82e9a31c33": {
      "model_module": "@jupyter-widgets/base",
      "model_module_version": "1.2.0",
      "model_name": "LayoutModel",
      "state": {}
     },
     "a0356662eee64002bad1f1934f4de76b": {
      "model_module": "@jupyter-widgets/base",
      "model_module_version": "1.2.0",
      "model_name": "LayoutModel",
      "state": {}
     },
     "a0e90847d61147669aadb86431f73f81": {
      "model_module": "@jupyter-widgets/output",
      "model_module_version": "1.0.0",
      "model_name": "OutputModel",
      "state": {
       "layout": "IPY_MODEL_f2aa3616f57b48eabb69d1d3d0f2ab72",
       "outputs": [
        {
         "data": {
          "image/png": "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\n",
          "text/plain": "<Figure size 432x288 with 1 Axes>"
         },
         "metadata": {
          "needs_background": "light"
         },
         "output_type": "display_data"
        }
       ]
      }
     },
     "a101c4a24a6d444dab2259012e912ff6": {
      "model_module": "@jupyter-widgets/base",
      "model_module_version": "1.2.0",
      "model_name": "LayoutModel",
      "state": {}
     },
     "a1b19f7f1aed4a0f9790f6122c9c7d25": {
      "model_module": "@jupyter-widgets/output",
      "model_module_version": "1.0.0",
      "model_name": "OutputModel",
      "state": {
       "layout": "IPY_MODEL_2a9fe9495735470f8f7c6054cdea8adc"
      }
     },
     "a23667c983b5445aa4b42077a6a1bc64": {
      "model_module": "@jupyter-widgets/controls",
      "model_module_version": "1.5.0",
      "model_name": "SliderStyleModel",
      "state": {
       "description_width": ""
      }
     },
     "a302e56496db48aa941ee751bd40a4b9": {
      "model_module": "@jupyter-widgets/controls",
      "model_module_version": "1.5.0",
      "model_name": "SliderStyleModel",
      "state": {
       "description_width": ""
      }
     },
     "a34b712bb22442dda9d771d6dce0ecf2": {
      "model_module": "@jupyter-widgets/base",
      "model_module_version": "1.2.0",
      "model_name": "LayoutModel",
      "state": {}
     },
     "a395af2a4ea345328229051f7cecd4d9": {
      "model_module": "@jupyter-widgets/base",
      "model_module_version": "1.2.0",
      "model_name": "LayoutModel",
      "state": {}
     },
     "a39d9fa022b14057a0c8a6cc9b2ac339": {
      "model_module": "@jupyter-widgets/controls",
      "model_module_version": "1.5.0",
      "model_name": "SliderStyleModel",
      "state": {
       "description_width": ""
      }
     },
     "a4b2c745be0a42c2998be776fcf49cb9": {
      "model_module": "@jupyter-widgets/base",
      "model_module_version": "1.2.0",
      "model_name": "LayoutModel",
      "state": {}
     },
     "a578c25fc127461a99503f63547f6a3d": {
      "model_module": "@jupyter-widgets/controls",
      "model_module_version": "1.5.0",
      "model_name": "DescriptionStyleModel",
      "state": {
       "description_width": ""
      }
     },
     "a57d8cc8ae60482390a4f74a64e9d2b5": {
      "model_module": "@jupyter-widgets/controls",
      "model_module_version": "1.5.0",
      "model_name": "DropdownModel",
      "state": {
       "_options_labels": [
        "0.1",
        "0.15",
        "0.2",
        "0.25",
        "0.3",
        "0.35",
        "0.4",
        "0.45",
        "0.5"
       ],
       "description": "$L$",
       "index": 0,
       "layout": "IPY_MODEL_df7d8f33f33248b69ebbdfbd215d8118",
       "style": "IPY_MODEL_ca6e6e1f9eff43298f566f3c93996996"
      }
     },
     "a6bd68af74914fd0bf7df503e3237f73": {
      "model_module": "@jupyter-widgets/controls",
      "model_module_version": "1.5.0",
      "model_name": "DescriptionStyleModel",
      "state": {
       "description_width": ""
      }
     },
     "a8069608a9ab4b009bcce911179fdbc0": {
      "model_module": "@jupyter-widgets/base",
      "model_module_version": "1.2.0",
      "model_name": "LayoutModel",
      "state": {}
     },
     "a84b54b086f34205b6395b4fb270519b": {
      "model_module": "@jupyter-widgets/controls",
      "model_module_version": "1.5.0",
      "model_name": "SliderStyleModel",
      "state": {
       "description_width": ""
      }
     },
     "a929efa921c64e1bbd31dc01d9caa26c": {
      "model_module": "@jupyter-widgets/controls",
      "model_module_version": "1.5.0",
      "model_name": "DescriptionStyleModel",
      "state": {
       "description_width": ""
      }
     },
     "a92af630045f4938890a78e6641b1707": {
      "model_module": "@jupyter-widgets/controls",
      "model_module_version": "1.5.0",
      "model_name": "DescriptionStyleModel",
      "state": {
       "description_width": ""
      }
     },
     "aa27b65ed382425d8763c87766ab5e2a": {
      "model_module": "@jupyter-widgets/base",
      "model_module_version": "1.2.0",
      "model_name": "LayoutModel",
      "state": {}
     },
     "aabc188af70b46cdab6a30fb6c7792af": {
      "model_module": "@jupyter-widgets/controls",
      "model_module_version": "1.5.0",
      "model_name": "VBoxModel",
      "state": {
       "_dom_classes": [
        "widget-interact"
       ],
       "children": [
        "IPY_MODEL_14b7193ba5ca4a2aa6db9b0f01f5da09",
        "IPY_MODEL_d17b35f6056c4576a9aaa20373d79079",
        "IPY_MODEL_6ac68db29fea4ecea9cab4bd9f399d32",
        "IPY_MODEL_635c9fe7dd984e8f81054d82dc0c5f81"
       ],
       "layout": "IPY_MODEL_31c8806e921c4493b14d52a9d700cfe2"
      }
     },
     "ab54c7f71b994ea6bfc316c32ba68905": {
      "model_module": "@jupyter-widgets/controls",
      "model_module_version": "1.5.0",
      "model_name": "DescriptionStyleModel",
      "state": {
       "description_width": ""
      }
     },
     "ab5dde0442d94ab2bd462e8201e6015e": {
      "model_module": "@jupyter-widgets/base",
      "model_module_version": "1.2.0",
      "model_name": "LayoutModel",
      "state": {}
     },
     "ab8d2a9a096f436cb9b931ffae263800": {
      "model_module": "@jupyter-widgets/controls",
      "model_module_version": "1.5.0",
      "model_name": "SliderStyleModel",
      "state": {
       "description_width": ""
      }
     },
     "abe7f0a107bb490a99829c55c2512c31": {
      "model_module": "@jupyter-widgets/controls",
      "model_module_version": "1.5.0",
      "model_name": "SliderStyleModel",
      "state": {
       "description_width": ""
      }
     },
     "ac895a9f0f5040a993d1295d0935bab1": {
      "model_module": "@jupyter-widgets/base",
      "model_module_version": "1.2.0",
      "model_name": "LayoutModel",
      "state": {}
     },
     "acd8c5b69de54a4dbe187389ee2ca623": {
      "model_module": "@jupyter-widgets/output",
      "model_module_version": "1.0.0",
      "model_name": "OutputModel",
      "state": {
       "layout": "IPY_MODEL_1f09ba105a094cbda6e5d41b4f0160cb"
      }
     },
     "ace4bea46fcf4f4a8d19968d70c13768": {
      "model_module": "@jupyter-widgets/base",
      "model_module_version": "1.2.0",
      "model_name": "LayoutModel",
      "state": {}
     },
     "adc3c5cfdecd4e67979bcbffbfdb0d6b": {
      "model_module": "@jupyter-widgets/controls",
      "model_module_version": "1.5.0",
      "model_name": "SliderStyleModel",
      "state": {
       "description_width": ""
      }
     },
     "af1d538bab4c409687b3f9f6944ff6e8": {
      "model_module": "@jupyter-widgets/base",
      "model_module_version": "1.2.0",
      "model_name": "LayoutModel",
      "state": {}
     },
     "af7f81897d4c4638993f61efd159713b": {
      "model_module": "@jupyter-widgets/controls",
      "model_module_version": "1.5.0",
      "model_name": "DescriptionStyleModel",
      "state": {
       "description_width": ""
      }
     },
     "b0333da2a8cd409db9cf9752d13a863b": {
      "model_module": "@jupyter-widgets/controls",
      "model_module_version": "1.5.0",
      "model_name": "SliderStyleModel",
      "state": {
       "description_width": ""
      }
     },
     "b039352c1af24262a299e0ed53774ce1": {
      "model_module": "@jupyter-widgets/controls",
      "model_module_version": "1.5.0",
      "model_name": "DropdownModel",
      "state": {
       "_options_labels": [
        "2",
        "3",
        "4",
        "5",
        "6",
        "7",
        "8",
        "9",
        "10",
        "11",
        "12",
        "13",
        "14",
        "15",
        "16",
        "17",
        "18",
        "19",
        "20",
        "21",
        "22",
        "23",
        "24",
        "25",
        "26",
        "27",
        "28",
        "29",
        "30",
        "31",
        "32",
        "33",
        "34",
        "35",
        "36",
        "37",
        "38",
        "39",
        "40",
        "41",
        "42",
        "43",
        "44",
        "45",
        "46",
        "47",
        "48",
        "49",
        "50"
       ],
       "description": "$x$",
       "index": 0,
       "layout": "IPY_MODEL_b484e3af8d37465592079e3ffd4dcc8e",
       "style": "IPY_MODEL_a6bd68af74914fd0bf7df503e3237f73"
      }
     },
     "b071e8eb747f4b3abbe520d447593c51": {
      "model_module": "@jupyter-widgets/controls",
      "model_module_version": "1.5.0",
      "model_name": "VBoxModel",
      "state": {
       "_dom_classes": [
        "widget-interact"
       ],
       "children": [
        "IPY_MODEL_01c90ee7124e4e32b1cafbb85e601d78",
        "IPY_MODEL_585073495d8c4604bc77e8005424f1a6",
        "IPY_MODEL_e8ed6a5c6be04f61be3643094ea37018",
        "IPY_MODEL_6fe3220b9fcf4ae682d0ede7ab5e9b4e"
       ],
       "layout": "IPY_MODEL_15be5552411d4c11939f59f0d1d80b77"
      }
     },
     "b0cef49896c94b28a07c18aef144e78e": {
      "model_module": "@jupyter-widgets/controls",
      "model_module_version": "1.5.0",
      "model_name": "SliderStyleModel",
      "state": {
       "description_width": ""
      }
     },
     "b185b68b0a284f61a668774a427e2dc5": {
      "model_module": "@jupyter-widgets/controls",
      "model_module_version": "1.5.0",
      "model_name": "FloatSliderModel",
      "state": {
       "description": "L",
       "layout": "IPY_MODEL_a8069608a9ab4b009bcce911179fdbc0",
       "max": 0.99,
       "min": 0.15,
       "step": 0.01,
       "style": "IPY_MODEL_53206524ac054662b2adcd0233335b5c",
       "value": 0.5
      }
     },
     "b1a2620f187440fa8fb9034302828723": {
      "model_module": "@jupyter-widgets/output",
      "model_module_version": "1.0.0",
      "model_name": "OutputModel",
      "state": {
       "layout": "IPY_MODEL_82dcb642109e4ac6837b40fda9f6b7e2"
      }
     },
     "b1a335d2b398484a8c374a0b9bb1028d": {
      "model_module": "@jupyter-widgets/base",
      "model_module_version": "1.2.0",
      "model_name": "LayoutModel",
      "state": {}
     },
     "b1dc477f5f734998b5f502ac53ac9420": {
      "model_module": "@jupyter-widgets/controls",
      "model_module_version": "1.5.0",
      "model_name": "FloatSliderModel",
      "state": {
       "description": "L",
       "layout": "IPY_MODEL_cea619d9943a40dfbd27c4b75204e53e",
       "max": 0.99,
       "min": 0.15,
       "step": 0.01,
       "style": "IPY_MODEL_4ab53da230134777949b03adf51830e3",
       "value": 0.5
      }
     },
     "b2426a9b72d340b18629d44e37d023be": {
      "model_module": "@jupyter-widgets/controls",
      "model_module_version": "1.5.0",
      "model_name": "VBoxModel",
      "state": {
       "_dom_classes": [
        "widget-interact"
       ],
       "children": [
        "IPY_MODEL_d46fd4e7c69d4dbdb50254000b878fca",
        "IPY_MODEL_1b6b7a6070834910b334c4360259ba16",
        "IPY_MODEL_60d40d430bc34810a01b903372cd06a8",
        "IPY_MODEL_4b40a6e128e6412d85dba92a53a3fb46"
       ],
       "layout": "IPY_MODEL_0f261c54f5634b35b21afb38653ae1d5"
      }
     },
     "b2f024a8e3eb41dbb73e7caa6462d7a8": {
      "model_module": "@jupyter-widgets/controls",
      "model_module_version": "1.5.0",
      "model_name": "DescriptionStyleModel",
      "state": {
       "description_width": ""
      }
     },
     "b31ecd8b5c2240e3a2c0537e20613be1": {
      "model_module": "@jupyter-widgets/controls",
      "model_module_version": "1.5.0",
      "model_name": "VBoxModel",
      "state": {
       "_dom_classes": [
        "widget-interact"
       ],
       "children": [
        "IPY_MODEL_304b7b24f43b43e08c085a1434ce2afb",
        "IPY_MODEL_8e9adbf86c014e6f93499626757ba400",
        "IPY_MODEL_e8f51703e551442981325e2c0d271a23",
        "IPY_MODEL_0edeaa40ca04496f9e3f26bf75cd1f61"
       ],
       "layout": "IPY_MODEL_4d3a906c922545999cd89f9a3ba89c3b"
      }
     },
     "b358c78af8d442c8b5ffff85fc274748": {
      "model_module": "@jupyter-widgets/controls",
      "model_module_version": "1.5.0",
      "model_name": "SliderStyleModel",
      "state": {
       "description_width": ""
      }
     },
     "b3c95c7a69e3453c9a16a7ea6af3407f": {
      "model_module": "@jupyter-widgets/base",
      "model_module_version": "1.2.0",
      "model_name": "LayoutModel",
      "state": {}
     },
     "b3dcc0c5be3e41be879bbe32c73b3d9f": {
      "model_module": "@jupyter-widgets/controls",
      "model_module_version": "1.5.0",
      "model_name": "SliderStyleModel",
      "state": {
       "description_width": ""
      }
     },
     "b484e3af8d37465592079e3ffd4dcc8e": {
      "model_module": "@jupyter-widgets/base",
      "model_module_version": "1.2.0",
      "model_name": "LayoutModel",
      "state": {}
     },
     "b4aac5c2b775496aa052de465add6d21": {
      "model_module": "@jupyter-widgets/base",
      "model_module_version": "1.2.0",
      "model_name": "LayoutModel",
      "state": {}
     },
     "b4d1230f9a9e4bcaa5df43102c6b5f52": {
      "model_module": "@jupyter-widgets/output",
      "model_module_version": "1.0.0",
      "model_name": "OutputModel",
      "state": {
       "layout": "IPY_MODEL_4b725dce740d47e8aae4640adf50bd06"
      }
     },
     "b5b84a1c38af4aa59a8c139ffe615d69": {
      "model_module": "@jupyter-widgets/base",
      "model_module_version": "1.2.0",
      "model_name": "LayoutModel",
      "state": {}
     },
     "b7d6ad2a10e043ad8940a7f2a240386f": {
      "model_module": "@jupyter-widgets/controls",
      "model_module_version": "1.5.0",
      "model_name": "VBoxModel",
      "state": {
       "_dom_classes": [
        "widget-interact"
       ],
       "children": [
        "IPY_MODEL_bf63e7dc70da4efabf8d51d0adcc4b68",
        "IPY_MODEL_b8e83ac66ecf44f0aef31132675a9d33",
        "IPY_MODEL_09d8139e69fe426493ab75e794d55952",
        "IPY_MODEL_8f2955729e6f4abebb3726678e9df3ad"
       ],
       "layout": "IPY_MODEL_79004fdc9438462a957b17a8c56ed755"
      }
     },
     "b8c89de2c34649e896779210a40753bf": {
      "model_module": "@jupyter-widgets/base",
      "model_module_version": "1.2.0",
      "model_name": "LayoutModel",
      "state": {}
     },
     "b8e83ac66ecf44f0aef31132675a9d33": {
      "model_module": "@jupyter-widgets/controls",
      "model_module_version": "1.5.0",
      "model_name": "FloatSliderModel",
      "state": {
       "description": "L",
       "layout": "IPY_MODEL_ab5dde0442d94ab2bd462e8201e6015e",
       "max": 0.99,
       "min": 0.15,
       "step": 0.01,
       "style": "IPY_MODEL_ef5c391cc5484c689fb65c34548eb266",
       "value": 0.5
      }
     },
     "b8ee58486cf14202a74a79fe0857cdec": {
      "model_module": "@jupyter-widgets/controls",
      "model_module_version": "1.5.0",
      "model_name": "DescriptionStyleModel",
      "state": {
       "description_width": ""
      }
     },
     "b9773d2304a24191874e78e9ed4e3fce": {
      "model_module": "@jupyter-widgets/controls",
      "model_module_version": "1.5.0",
      "model_name": "FloatSliderModel",
      "state": {
       "description": "L",
       "layout": "IPY_MODEL_0cbd0e78152446ada5533273e4200df1",
       "max": 0.99,
       "min": 0.15,
       "step": 0.01,
       "style": "IPY_MODEL_117aba65946c47e98bbb979f34e44aa5",
       "value": 0.5
      }
     },
     "ba4781384c074e33bcaecda3f31910a7": {
      "model_module": "@jupyter-widgets/base",
      "model_module_version": "1.2.0",
      "model_name": "LayoutModel",
      "state": {}
     },
     "baa07abe457940dc850fe81215226977": {
      "model_module": "@jupyter-widgets/controls",
      "model_module_version": "1.5.0",
      "model_name": "FloatSliderModel",
      "state": {
       "description": "$\\Delta x$:",
       "layout": "IPY_MODEL_8a0017c6705d4b1d872a842867e14457",
       "max": 0.99,
       "min": 0.15,
       "step": 0.01,
       "style": "IPY_MODEL_4c2aa1ad400046969240790d1092e9ac",
       "value": 0.2
      }
     },
     "bab9bb7270f349a98249d94678e6bc42": {
      "model_module": "@jupyter-widgets/controls",
      "model_module_version": "1.5.0",
      "model_name": "VBoxModel",
      "state": {
       "_dom_classes": [
        "widget-interact"
       ],
       "children": [
        "IPY_MODEL_c63dcc2bbbc845ada8b55ac7a64e405d",
        "IPY_MODEL_3b2420f6fe8d4f32a32ab34cfcf71fa0",
        "IPY_MODEL_6238fd542af54fbab1995523b69c930a",
        "IPY_MODEL_7e43c5bddd6546aabf2826d8f07b2d2a"
       ],
       "layout": "IPY_MODEL_80448ef51409498daf8cd002f5a97f82"
      }
     },
     "bbf88f425a7b489c8792f23d021cb6d6": {
      "model_module": "@jupyter-widgets/base",
      "model_module_version": "1.2.0",
      "model_name": "LayoutModel",
      "state": {}
     },
     "bdab04aa61a440b486376723d1d6ffcc": {
      "model_module": "@jupyter-widgets/base",
      "model_module_version": "1.2.0",
      "model_name": "LayoutModel",
      "state": {}
     },
     "bde0382a038b4a1bbef59e70647b4ed1": {
      "model_module": "@jupyter-widgets/controls",
      "model_module_version": "1.5.0",
      "model_name": "DescriptionStyleModel",
      "state": {
       "description_width": ""
      }
     },
     "be898040e93542aea97517db6e551175": {
      "model_module": "@jupyter-widgets/base",
      "model_module_version": "1.2.0",
      "model_name": "LayoutModel",
      "state": {}
     },
     "beca3198ba144b7dad719b3477e51f4f": {
      "model_module": "@jupyter-widgets/base",
      "model_module_version": "1.2.0",
      "model_name": "LayoutModel",
      "state": {}
     },
     "bed19f7da312496ebc03d1efc5dd80d7": {
      "model_module": "@jupyter-widgets/controls",
      "model_module_version": "1.5.0",
      "model_name": "FloatSliderModel",
      "state": {
       "description": "$\\Delta x$:",
       "layout": "IPY_MODEL_01ce281f14cd45edaa492c9c3e563daf",
       "max": 0.99,
       "min": 0.15,
       "step": 0.01,
       "style": "IPY_MODEL_1e769210bc2f4cd8a801ffbfd4c945a0",
       "value": 0.25
      }
     },
     "bef6954400664d08848fdd0785727a0e": {
      "model_module": "@jupyter-widgets/base",
      "model_module_version": "1.2.0",
      "model_name": "LayoutModel",
      "state": {}
     },
     "bf22df26c97a4ea9a630a0e68e24453a": {
      "model_module": "@jupyter-widgets/controls",
      "model_module_version": "1.5.0",
      "model_name": "DescriptionStyleModel",
      "state": {
       "description_width": ""
      }
     },
     "bf63e7dc70da4efabf8d51d0adcc4b68": {
      "model_module": "@jupyter-widgets/controls",
      "model_module_version": "1.5.0",
      "model_name": "FloatSliderModel",
      "state": {
       "description": "$\\Delta x$:",
       "layout": "IPY_MODEL_e054648e668b4b19bb2e5e23b54cc9d2",
       "max": 0.99,
       "min": 0.15,
       "step": 0.01,
       "style": "IPY_MODEL_59643b898f1a4a9ea46276287c5085e2",
       "value": 0.2
      }
     },
     "bf6b3a26b0264083a0794905bfbaf99d": {
      "model_module": "@jupyter-widgets/controls",
      "model_module_version": "1.5.0",
      "model_name": "SliderStyleModel",
      "state": {
       "description_width": ""
      }
     },
     "bfac5fb6aa84415e90b3c39118892951": {
      "model_module": "@jupyter-widgets/controls",
      "model_module_version": "1.5.0",
      "model_name": "SliderStyleModel",
      "state": {
       "description_width": ""
      }
     },
     "bfb8ca682b6a4c078df17d97f8030f06": {
      "model_module": "@jupyter-widgets/output",
      "model_module_version": "1.0.0",
      "model_name": "OutputModel",
      "state": {
       "layout": "IPY_MODEL_747877270a6f4ab2aae797c30300060b"
      }
     },
     "c28dc6103bb34ec7aa7ee4f2890dda9f": {
      "model_module": "@jupyter-widgets/controls",
      "model_module_version": "1.5.0",
      "model_name": "SliderStyleModel",
      "state": {
       "description_width": ""
      }
     },
     "c30027d699ac44ea8594b36a3e966e06": {
      "model_module": "@jupyter-widgets/controls",
      "model_module_version": "1.5.0",
      "model_name": "VBoxModel",
      "state": {
       "_dom_classes": [
        "widget-interact"
       ],
       "children": [
        "IPY_MODEL_2562179042334f2d8aec5ab8b08ef802",
        "IPY_MODEL_50df03e58348485d9b8d13b76ce0bcb6",
        "IPY_MODEL_ef49dcab41ab4baa8b6d0d8ad3c00132",
        "IPY_MODEL_a0e90847d61147669aadb86431f73f81"
       ],
       "layout": "IPY_MODEL_341295ecbe464a839674c04ea92f8887"
      }
     },
     "c3c4aabd79b445b3aa149742e0b1c0ab": {
      "model_module": "@jupyter-widgets/controls",
      "model_module_version": "1.5.0",
      "model_name": "DescriptionStyleModel",
      "state": {
       "description_width": ""
      }
     },
     "c4613a1d355c4919940db9b5f2cc1c50": {
      "model_module": "@jupyter-widgets/output",
      "model_module_version": "1.0.0",
      "model_name": "OutputModel",
      "state": {
       "layout": "IPY_MODEL_3a24e5edf89a40eb8a9c13d6bb872726"
      }
     },
     "c479b50fdac24895b128fe6ce08f67ea": {
      "model_module": "@jupyter-widgets/controls",
      "model_module_version": "1.5.0",
      "model_name": "SliderStyleModel",
      "state": {
       "description_width": ""
      }
     },
     "c63dcc2bbbc845ada8b55ac7a64e405d": {
      "model_module": "@jupyter-widgets/controls",
      "model_module_version": "1.5.0",
      "model_name": "DropdownModel",
      "state": {
       "_options_labels": [
        "0.1",
        "0.15",
        "0.2",
        "0.25",
        "0.3",
        "0.35",
        "0.4",
        "0.45",
        "0.5"
       ],
       "description": "$\\Delta x$",
       "index": 1,
       "layout": "IPY_MODEL_1294ccebdde24407b5c3ce4684bc58a2",
       "style": "IPY_MODEL_68dd240461a74a668f27c09484e4e143"
      }
     },
     "c652a71a63d8465c9063353d0d9001cb": {
      "model_module": "@jupyter-widgets/controls",
      "model_module_version": "1.5.0",
      "model_name": "DescriptionStyleModel",
      "state": {
       "description_width": ""
      }
     },
     "c65970b25ce744739671298a8926fa7b": {
      "model_module": "@jupyter-widgets/base",
      "model_module_version": "1.2.0",
      "model_name": "LayoutModel",
      "state": {}
     },
     "c68d377067a6455db324c81be45b99cf": {
      "model_module": "@jupyter-widgets/controls",
      "model_module_version": "1.5.0",
      "model_name": "FloatSliderModel",
      "state": {
       "description": "L",
       "layout": "IPY_MODEL_48a0a4030db6411f8826944d40b8b527",
       "max": 0.99,
       "min": 0.15,
       "step": 0.01,
       "style": "IPY_MODEL_d897debe09ff45a4bc69d02095365f6b",
       "value": 0.5
      }
     },
     "c6ac3621ee3d410f89a98087a6f1f1b8": {
      "model_module": "@jupyter-widgets/controls",
      "model_module_version": "1.5.0",
      "model_name": "FloatSliderModel",
      "state": {
       "description": "$\\Delta x$:",
       "layout": "IPY_MODEL_c8b11f4eb4b04b9580a3fe982b11100d",
       "max": 0.99,
       "min": 0.15,
       "step": 0.01,
       "style": "IPY_MODEL_4b0926c77bf84dfdb514c1b2f971672d",
       "value": 0.31
      }
     },
     "c6d6327fb0e24bb197c06ac287548e96": {
      "model_module": "@jupyter-widgets/base",
      "model_module_version": "1.2.0",
      "model_name": "LayoutModel",
      "state": {}
     },
     "c72ffceca46e4e909eb3dea047eb8d67": {
      "model_module": "@jupyter-widgets/controls",
      "model_module_version": "1.5.0",
      "model_name": "FloatSliderModel",
      "state": {
       "description": "L",
       "layout": "IPY_MODEL_fbd1a66f9fef4095a3c784bd8ad4ea36",
       "max": 0.99,
       "min": 0.15,
       "step": 0.01,
       "style": "IPY_MODEL_82470829d9924ea19ddc4b6064fa35a2",
       "value": 0.5
      }
     },
     "c79bc0e8cbbe4eeeb773812d95f4c412": {
      "model_module": "@jupyter-widgets/base",
      "model_module_version": "1.2.0",
      "model_name": "LayoutModel",
      "state": {}
     },
     "c7db02036fc841b5a8243ec87198fdc8": {
      "model_module": "@jupyter-widgets/controls",
      "model_module_version": "1.5.0",
      "model_name": "FloatSliderModel",
      "state": {
       "description": "L",
       "layout": "IPY_MODEL_8c43ed9c82a14bc19a741939278c84bb",
       "max": 0.99,
       "min": 0.15,
       "step": 0.01,
       "style": "IPY_MODEL_e764d468ef494f2b872e80eb50e3b628",
       "value": 0.5
      }
     },
     "c8b11f4eb4b04b9580a3fe982b11100d": {
      "model_module": "@jupyter-widgets/base",
      "model_module_version": "1.2.0",
      "model_name": "LayoutModel",
      "state": {}
     },
     "c8ec3da09d2642b0bd4ca4c3ed52956e": {
      "model_module": "@jupyter-widgets/output",
      "model_module_version": "1.0.0",
      "model_name": "OutputModel",
      "state": {
       "layout": "IPY_MODEL_08e7944d794d46f5878e69fee00a11e2"
      }
     },
     "c997bb92829a4cc7908228ef86bc88b1": {
      "model_module": "@jupyter-widgets/controls",
      "model_module_version": "1.5.0",
      "model_name": "DropdownModel",
      "state": {
       "_options_labels": [
        "2",
        "3",
        "4",
        "5",
        "6",
        "7",
        "8",
        "9",
        "10",
        "11",
        "12",
        "13",
        "14",
        "15",
        "16",
        "17",
        "18",
        "19",
        "20",
        "21",
        "22",
        "23",
        "24",
        "25",
        "26",
        "27",
        "28",
        "29",
        "30",
        "31",
        "32",
        "33",
        "34",
        "35",
        "36",
        "37",
        "38",
        "39",
        "40",
        "41",
        "42",
        "43",
        "44",
        "45",
        "46",
        "47",
        "48",
        "49",
        "50"
       ],
       "description": "$x$",
       "index": 0,
       "layout": "IPY_MODEL_042986367d854f7fb639ad71c4ff6807",
       "style": "IPY_MODEL_bde0382a038b4a1bbef59e70647b4ed1"
      }
     },
     "c9c428438f8440bbb5de63b40a4c1b5e": {
      "model_module": "@jupyter-widgets/base",
      "model_module_version": "1.2.0",
      "model_name": "LayoutModel",
      "state": {}
     },
     "ca1d559805cd4344a2079bcf94d92dc5": {
      "model_module": "@jupyter-widgets/controls",
      "model_module_version": "1.5.0",
      "model_name": "SliderStyleModel",
      "state": {
       "description_width": ""
      }
     },
     "ca6e6e1f9eff43298f566f3c93996996": {
      "model_module": "@jupyter-widgets/controls",
      "model_module_version": "1.5.0",
      "model_name": "DescriptionStyleModel",
      "state": {
       "description_width": ""
      }
     },
     "cb12e8b21da14080a13cf1b4b532e2ad": {
      "model_module": "@jupyter-widgets/controls",
      "model_module_version": "1.5.0",
      "model_name": "SelectMultipleModel",
      "state": {
       "_options_labels": [
        "2",
        "3",
        "4",
        "5",
        "6",
        "7",
        "8",
        "9",
        "10",
        "11",
        "12",
        "13",
        "14",
        "15",
        "16",
        "17",
        "18",
        "19",
        "20",
        "21",
        "22",
        "23",
        "24",
        "25",
        "26",
        "27",
        "28",
        "29",
        "30",
        "31",
        "32",
        "33",
        "34",
        "35",
        "36",
        "37",
        "38",
        "39",
        "40",
        "41",
        "42",
        "43",
        "44",
        "45",
        "46",
        "47",
        "48",
        "49",
        "50",
        "51",
        "52",
        "53",
        "54",
        "55",
        "56",
        "57",
        "58",
        "59",
        "60",
        "61",
        "62",
        "63",
        "64",
        "65",
        "66",
        "67",
        "68",
        "69",
        "70",
        "71",
        "72",
        "73",
        "74",
        "75",
        "76",
        "77",
        "78",
        "79",
        "80",
        "81",
        "82",
        "83",
        "84",
        "85",
        "86",
        "87",
        "88",
        "89",
        "90",
        "91",
        "92",
        "93",
        "94",
        "95",
        "96",
        "97",
        "98",
        "99",
        "100"
       ],
       "description": "$\\mathbb{X}$",
       "index": [
        18
       ],
       "layout": "IPY_MODEL_af1d538bab4c409687b3f9f6944ff6e8",
       "rows": 5,
       "style": "IPY_MODEL_a578c25fc127461a99503f63547f6a3d"
      }
     },
     "cb358639d67e46eda2b814b8b70d6ed1": {
      "model_module": "@jupyter-widgets/base",
      "model_module_version": "1.2.0",
      "model_name": "LayoutModel",
      "state": {}
     },
     "cb5d335aca394d97a5498d20c2c44651": {
      "model_module": "@jupyter-widgets/base",
      "model_module_version": "1.2.0",
      "model_name": "LayoutModel",
      "state": {}
     },
     "cb7e2f1c260642569c9e9c8fc6b6d5f2": {
      "model_module": "@jupyter-widgets/controls",
      "model_module_version": "1.5.0",
      "model_name": "SelectMultipleModel",
      "state": {
       "_options_labels": [
        "2",
        "3",
        "4",
        "5",
        "6",
        "7",
        "8",
        "9",
        "10",
        "11",
        "12",
        "13",
        "14",
        "15",
        "16",
        "17",
        "18",
        "19",
        "20",
        "21",
        "22",
        "23",
        "24",
        "25",
        "26",
        "27",
        "28",
        "29",
        "30",
        "31",
        "32",
        "33",
        "34",
        "35",
        "36",
        "37",
        "38",
        "39",
        "40",
        "41",
        "42",
        "43",
        "44",
        "45",
        "46",
        "47",
        "48",
        "49",
        "50",
        "51",
        "52",
        "53",
        "54",
        "55",
        "56",
        "57",
        "58",
        "59",
        "60",
        "61",
        "62",
        "63",
        "64",
        "65",
        "66",
        "67",
        "68",
        "69",
        "70",
        "71",
        "72",
        "73",
        "74",
        "75",
        "76",
        "77",
        "78",
        "79",
        "80",
        "81",
        "82",
        "83",
        "84",
        "85",
        "86",
        "87",
        "88",
        "89",
        "90",
        "91",
        "92",
        "93",
        "94",
        "95",
        "96",
        "97",
        "98",
        "99",
        "100"
       ],
       "description": "$\\mathbb{X}$",
       "index": [
        18
       ],
       "layout": "IPY_MODEL_645888a34afa418a88745c398592f2ff",
       "rows": 5,
       "style": "IPY_MODEL_2b715464208d4d8f924837500b2db51f"
      }
     },
     "cbf6107aa878494bbd70746c55f2af17": {
      "model_module": "@jupyter-widgets/controls",
      "model_module_version": "1.5.0",
      "model_name": "FloatSliderModel",
      "state": {
       "description": "L",
       "layout": "IPY_MODEL_72c08b1566994b4982926799b2fe3ab7",
       "max": 0.99,
       "min": 0.15,
       "step": 0.01,
       "style": "IPY_MODEL_b3dcc0c5be3e41be879bbe32c73b3d9f",
       "value": 0.5
      }
     },
     "cc0351c28b8245f7b9bdbd7b3446cd42": {
      "model_module": "@jupyter-widgets/controls",
      "model_module_version": "1.5.0",
      "model_name": "SliderStyleModel",
      "state": {
       "description_width": ""
      }
     },
     "cc070739c3ba477a93f1b85ca337108d": {
      "model_module": "@jupyter-widgets/base",
      "model_module_version": "1.2.0",
      "model_name": "LayoutModel",
      "state": {}
     },
     "cd051430aac440da9752a7e882c27df3": {
      "model_module": "@jupyter-widgets/output",
      "model_module_version": "1.0.0",
      "model_name": "OutputModel",
      "state": {
       "layout": "IPY_MODEL_fb163ce26e9d420f8eff9383bde6f0d5",
       "outputs": [
        {
         "data": {
          "image/png": "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\n",
          "text/plain": "<Figure size 432x288 with 1 Axes>"
         },
         "metadata": {
          "needs_background": "light"
         },
         "output_type": "display_data"
        }
       ]
      }
     },
     "cd89aca659da499f91c5c43107c38cb8": {
      "model_module": "@jupyter-widgets/controls",
      "model_module_version": "1.5.0",
      "model_name": "DescriptionStyleModel",
      "state": {
       "description_width": ""
      }
     },
     "cd8c6c4108a4484aa4f3bd8e6d2cff12": {
      "model_module": "@jupyter-widgets/controls",
      "model_module_version": "1.5.0",
      "model_name": "SliderStyleModel",
      "state": {
       "description_width": ""
      }
     },
     "cd9fe25a51884aacb4f38e92c2701a96": {
      "model_module": "@jupyter-widgets/base",
      "model_module_version": "1.2.0",
      "model_name": "LayoutModel",
      "state": {}
     },
     "cdd0647e5b7147ca9acba4b1c6cf8051": {
      "model_module": "@jupyter-widgets/controls",
      "model_module_version": "1.5.0",
      "model_name": "DescriptionStyleModel",
      "state": {
       "description_width": ""
      }
     },
     "cdd8fae535724fa79b0b97b7bdc00e9f": {
      "model_module": "@jupyter-widgets/base",
      "model_module_version": "1.2.0",
      "model_name": "LayoutModel",
      "state": {}
     },
     "cea619d9943a40dfbd27c4b75204e53e": {
      "model_module": "@jupyter-widgets/base",
      "model_module_version": "1.2.0",
      "model_name": "LayoutModel",
      "state": {}
     },
     "cf6918ac8d2e485aad6933a2271bd921": {
      "model_module": "@jupyter-widgets/base",
      "model_module_version": "1.2.0",
      "model_name": "LayoutModel",
      "state": {}
     },
     "cfe546eb61ec4652a31eed61794c3ac7": {
      "model_module": "@jupyter-widgets/base",
      "model_module_version": "1.2.0",
      "model_name": "LayoutModel",
      "state": {}
     },
     "d0ff58ccc0ef4346be2f0ffb39a5c8f0": {
      "model_module": "@jupyter-widgets/controls",
      "model_module_version": "1.5.0",
      "model_name": "FloatSliderModel",
      "state": {
       "description": "$\\Delta x$:",
       "layout": "IPY_MODEL_41a390d99ce648bf93365ddf4dcff154",
       "max": 0.99,
       "min": 0.15,
       "step": 0.01,
       "style": "IPY_MODEL_bfac5fb6aa84415e90b3c39118892951",
       "value": 0.25
      }
     },
     "d17b35f6056c4576a9aaa20373d79079": {
      "model_module": "@jupyter-widgets/controls",
      "model_module_version": "1.5.0",
      "model_name": "FloatSliderModel",
      "state": {
       "description": "L",
       "layout": "IPY_MODEL_b8c89de2c34649e896779210a40753bf",
       "max": 0.99,
       "min": 0.15,
       "step": 0.01,
       "style": "IPY_MODEL_b0333da2a8cd409db9cf9752d13a863b",
       "value": 0.5
      }
     },
     "d1f3cc938cf14c028c7796958e8f5d17": {
      "model_module": "@jupyter-widgets/controls",
      "model_module_version": "1.5.0",
      "model_name": "FloatSliderModel",
      "state": {
       "description": "L",
       "layout": "IPY_MODEL_cc070739c3ba477a93f1b85ca337108d",
       "max": 0.99,
       "min": 0.15,
       "step": 0.01,
       "style": "IPY_MODEL_4c4d8704d005419180e75969a625c5c0",
       "value": 0.5
      }
     },
     "d2a893d686134e67bcb49dea506e552b": {
      "model_module": "@jupyter-widgets/base",
      "model_module_version": "1.2.0",
      "model_name": "LayoutModel",
      "state": {}
     },
     "d2ecdeb970ec4705b89bf9775e5cd48e": {
      "model_module": "@jupyter-widgets/base",
      "model_module_version": "1.2.0",
      "model_name": "LayoutModel",
      "state": {}
     },
     "d2ede0d642b4401fa93cf5f51c769f45": {
      "model_module": "@jupyter-widgets/base",
      "model_module_version": "1.2.0",
      "model_name": "LayoutModel",
      "state": {}
     },
     "d3eff4261a724a049b67e3da3d2b9b64": {
      "model_module": "@jupyter-widgets/controls",
      "model_module_version": "1.5.0",
      "model_name": "SliderStyleModel",
      "state": {
       "description_width": ""
      }
     },
     "d46fd4e7c69d4dbdb50254000b878fca": {
      "model_module": "@jupyter-widgets/controls",
      "model_module_version": "1.5.0",
      "model_name": "DropdownModel",
      "state": {
       "_options_labels": [
        "0.1",
        "0.15",
        "0.2",
        "0.25",
        "0.3",
        "0.35",
        "0.4",
        "0.45",
        "0.5"
       ],
       "description": "$\\Delta x$",
       "index": 1,
       "layout": "IPY_MODEL_0125fd539e2b400f9d50f848acba5d63",
       "style": "IPY_MODEL_b2f024a8e3eb41dbb73e7caa6462d7a8"
      }
     },
     "d473a87669a14800af67c5a531697468": {
      "model_module": "@jupyter-widgets/output",
      "model_module_version": "1.0.0",
      "model_name": "OutputModel",
      "state": {
       "layout": "IPY_MODEL_e60eacb9773b4483b317c58848d22cb4"
      }
     },
     "d4c6f56e245e4af8a5a9ed3150a85420": {
      "model_module": "@jupyter-widgets/controls",
      "model_module_version": "1.5.0",
      "model_name": "VBoxModel",
      "state": {
       "_dom_classes": [
        "widget-interact"
       ],
       "children": [
        "IPY_MODEL_dcbda39b0f95424aac7c93d81a2fc8af",
        "IPY_MODEL_1220ec8527a341a4817660c605b940db",
        "IPY_MODEL_dce72c212c3543bdaa243b038613a101",
        "IPY_MODEL_8cd5c58c506f4c3d868c83846ebbf54a"
       ],
       "layout": "IPY_MODEL_7d3b72f60c484e1ea669fca5fa1251c6"
      }
     },
     "d62840cc9bd8409da99c0925be27b74e": {
      "model_module": "@jupyter-widgets/controls",
      "model_module_version": "1.5.0",
      "model_name": "FloatSliderModel",
      "state": {
       "description": "$\\Delta x$:",
       "layout": "IPY_MODEL_33b7a1cd546247abb3b994de1b47a47c",
       "max": 0.99,
       "min": 0.15,
       "step": 0.01,
       "style": "IPY_MODEL_080c65e4dcf44c4bbcfd9b410a40d60f",
       "value": 0.25
      }
     },
     "d62b33ced64d43fca9b64599f5e2ddef": {
      "model_module": "@jupyter-widgets/base",
      "model_module_version": "1.2.0",
      "model_name": "LayoutModel",
      "state": {}
     },
     "d62bb484838240998558f8b4cbe8c510": {
      "model_module": "@jupyter-widgets/controls",
      "model_module_version": "1.5.0",
      "model_name": "DescriptionStyleModel",
      "state": {
       "description_width": ""
      }
     },
     "d6c240d36ce44c7699e0962deb9c79e1": {
      "model_module": "@jupyter-widgets/base",
      "model_module_version": "1.2.0",
      "model_name": "LayoutModel",
      "state": {}
     },
     "d738fb8e0f19475db9bfd3eb03c5042f": {
      "model_module": "@jupyter-widgets/base",
      "model_module_version": "1.2.0",
      "model_name": "LayoutModel",
      "state": {}
     },
     "d897debe09ff45a4bc69d02095365f6b": {
      "model_module": "@jupyter-widgets/controls",
      "model_module_version": "1.5.0",
      "model_name": "SliderStyleModel",
      "state": {
       "description_width": ""
      }
     },
     "da9215c47225480db44f3292ab745b61": {
      "model_module": "@jupyter-widgets/output",
      "model_module_version": "1.0.0",
      "model_name": "OutputModel",
      "state": {
       "layout": "IPY_MODEL_d2ede0d642b4401fa93cf5f51c769f45"
      }
     },
     "db2e862e5a9e407098568942ebca7cbe": {
      "model_module": "@jupyter-widgets/controls",
      "model_module_version": "1.5.0",
      "model_name": "FloatSliderModel",
      "state": {
       "description": "$\\Delta x$:",
       "layout": "IPY_MODEL_29dc5c19b5534327a70960f7e7ba1f09",
       "max": 0.99,
       "min": 0.15,
       "step": 0.01,
       "style": "IPY_MODEL_40e878efbe1e4aec9fdea210b4508c19",
       "value": 0.2
      }
     },
     "db88458eff924700b28e68140bac53b2": {
      "model_module": "@jupyter-widgets/controls",
      "model_module_version": "1.5.0",
      "model_name": "VBoxModel",
      "state": {
       "_dom_classes": [
        "widget-interact"
       ],
       "children": [
        "IPY_MODEL_323dd01edf0d401dbacb2f34cefb489f",
        "IPY_MODEL_38e497015bbe4e94ba9e4da248f3530d",
        "IPY_MODEL_e60e4fb4e5c944fe9c3fb1b2bed0b192",
        "IPY_MODEL_12a28f7bd72d4bd0993faca6eb7f0ae2"
       ],
       "layout": "IPY_MODEL_2eef6fa037f1415cbd75063639b6f377"
      }
     },
     "dbfa9f356702420896365cc3902dbe5c": {
      "model_module": "@jupyter-widgets/controls",
      "model_module_version": "1.5.0",
      "model_name": "VBoxModel",
      "state": {
       "_dom_classes": [
        "widget-interact"
       ],
       "children": [
        "IPY_MODEL_8742aa1cce234b52a1506fb147b02886",
        "IPY_MODEL_c7db02036fc841b5a8243ec87198fdc8",
        "IPY_MODEL_429cae41eece49fe988d92588faf85aa",
        "IPY_MODEL_083356cf4f8b4d959a8ef183162bc0cd"
       ],
       "layout": "IPY_MODEL_0046e98bc0d04c6caac5833c70723bdc"
      }
     },
     "dcbda39b0f95424aac7c93d81a2fc8af": {
      "model_module": "@jupyter-widgets/controls",
      "model_module_version": "1.5.0",
      "model_name": "FloatSliderModel",
      "state": {
       "description": "$\\Delta x$:",
       "layout": "IPY_MODEL_d2a893d686134e67bcb49dea506e552b",
       "max": 0.99,
       "min": 0.15,
       "step": 0.01,
       "style": "IPY_MODEL_a39d9fa022b14057a0c8a6cc9b2ac339",
       "value": 0.25
      }
     },
     "dce72c212c3543bdaa243b038613a101": {
      "model_module": "@jupyter-widgets/controls",
      "model_module_version": "1.5.0",
      "model_name": "SelectMultipleModel",
      "state": {
       "_options_labels": [
        "2",
        "3",
        "4",
        "5",
        "6",
        "7",
        "8",
        "9",
        "10",
        "11",
        "12",
        "13",
        "14",
        "15",
        "16",
        "17",
        "18",
        "19",
        "20",
        "21",
        "22",
        "23",
        "24",
        "25",
        "26",
        "27",
        "28",
        "29",
        "30",
        "31",
        "32",
        "33",
        "34",
        "35",
        "36",
        "37",
        "38",
        "39",
        "40",
        "41",
        "42",
        "43",
        "44",
        "45",
        "46",
        "47",
        "48",
        "49",
        "50",
        "51",
        "52",
        "53",
        "54",
        "55",
        "56",
        "57",
        "58",
        "59",
        "60",
        "61",
        "62",
        "63",
        "64",
        "65",
        "66",
        "67",
        "68",
        "69",
        "70",
        "71",
        "72",
        "73",
        "74",
        "75",
        "76",
        "77",
        "78",
        "79",
        "80",
        "81",
        "82",
        "83",
        "84",
        "85",
        "86",
        "87",
        "88",
        "89",
        "90",
        "91",
        "92",
        "93",
        "94",
        "95",
        "96",
        "97",
        "98",
        "99",
        "100"
       ],
       "description": "$\\mathbb{X}$",
       "index": [
        18
       ],
       "layout": "IPY_MODEL_30bf5e3e2e4c47548b6c965ef4162df2",
       "rows": 5,
       "style": "IPY_MODEL_45bbec225c064e989befa59ee84f769f"
      }
     },
     "dcff749bc12f45f3b33d50ca87aec664": {
      "model_module": "@jupyter-widgets/base",
      "model_module_version": "1.2.0",
      "model_name": "LayoutModel",
      "state": {}
     },
     "dd4a129354334c739a0de8137d20e70b": {
      "model_module": "@jupyter-widgets/base",
      "model_module_version": "1.2.0",
      "model_name": "LayoutModel",
      "state": {}
     },
     "df7d8f33f33248b69ebbdfbd215d8118": {
      "model_module": "@jupyter-widgets/base",
      "model_module_version": "1.2.0",
      "model_name": "LayoutModel",
      "state": {}
     },
     "df83a51de9e1429a8d30464db69f5696": {
      "model_module": "@jupyter-widgets/controls",
      "model_module_version": "1.5.0",
      "model_name": "FloatSliderModel",
      "state": {
       "description": "L",
       "layout": "IPY_MODEL_130894663cf94faeb6b37860b3a6a3b9",
       "max": 0.99,
       "min": 0.15,
       "step": 0.01,
       "style": "IPY_MODEL_8b72640607c242a5a1fc73e20f2d0789",
       "value": 0.5
      }
     },
     "dfef66136ef94af2954ed1b77631e087": {
      "model_module": "@jupyter-widgets/output",
      "model_module_version": "1.0.0",
      "model_name": "OutputModel",
      "state": {
       "layout": "IPY_MODEL_ace4bea46fcf4f4a8d19968d70c13768"
      }
     },
     "e04eccb1769d4b728543fe3a743581e9": {
      "model_module": "@jupyter-widgets/controls",
      "model_module_version": "1.5.0",
      "model_name": "VBoxModel",
      "state": {
       "_dom_classes": [
        "widget-interact"
       ],
       "children": [
        "IPY_MODEL_f2b1cf8450c74325bf563daf34d580c1",
        "IPY_MODEL_0991b647e58b47fb8eb3736ad6b25937",
        "IPY_MODEL_5bf10443573040079f585eda601c5bda",
        "IPY_MODEL_cd051430aac440da9752a7e882c27df3"
       ],
       "layout": "IPY_MODEL_ff52e34a4d0546c6b73ad13985d66159"
      }
     },
     "e054648e668b4b19bb2e5e23b54cc9d2": {
      "model_module": "@jupyter-widgets/base",
      "model_module_version": "1.2.0",
      "model_name": "LayoutModel",
      "state": {}
     },
     "e08af59db6d24389ade86616c8d5227e": {
      "model_module": "@jupyter-widgets/base",
      "model_module_version": "1.2.0",
      "model_name": "LayoutModel",
      "state": {}
     },
     "e101a0e3c6a048d1aca69df70a924d0a": {
      "model_module": "@jupyter-widgets/base",
      "model_module_version": "1.2.0",
      "model_name": "LayoutModel",
      "state": {}
     },
     "e1b53d5ef3f6483990b641a1d343284e": {
      "model_module": "@jupyter-widgets/base",
      "model_module_version": "1.2.0",
      "model_name": "LayoutModel",
      "state": {}
     },
     "e40ae69d70e341bb9a4c468b8609c0a8": {
      "model_module": "@jupyter-widgets/controls",
      "model_module_version": "1.5.0",
      "model_name": "VBoxModel",
      "state": {
       "_dom_classes": [
        "widget-interact"
       ],
       "children": [
        "IPY_MODEL_2f1b87a6e08341979857d318937ba595",
        "IPY_MODEL_8dbbe5f9feaf4f43977e83005c220014",
        "IPY_MODEL_b039352c1af24262a299e0ed53774ce1",
        "IPY_MODEL_15398ebf6ae44b4d869860f759402a7d"
       ],
       "layout": "IPY_MODEL_04ab000ce1dc4b67bd391867ff49334e"
      }
     },
     "e4182306e9824c45934abc697efc050d": {
      "model_module": "@jupyter-widgets/controls",
      "model_module_version": "1.5.0",
      "model_name": "DropdownModel",
      "state": {
       "_options_labels": [
        "2",
        "3",
        "4",
        "5",
        "6",
        "7",
        "8",
        "9",
        "10",
        "11",
        "12",
        "13",
        "14",
        "15",
        "16",
        "17",
        "18",
        "19",
        "20",
        "21",
        "22",
        "23",
        "24",
        "25",
        "26",
        "27",
        "28",
        "29",
        "30",
        "31",
        "32",
        "33",
        "34",
        "35",
        "36",
        "37",
        "38",
        "39",
        "40",
        "41",
        "42",
        "43",
        "44",
        "45",
        "46",
        "47",
        "48",
        "49",
        "50"
       ],
       "description": "$x$",
       "index": 0,
       "layout": "IPY_MODEL_3dba09200b864e76bb349f56dffb40de",
       "style": "IPY_MODEL_61e2428f38184576b106efe0552a3411"
      }
     },
     "e4ee79532d02463e9ac9a4d835c48594": {
      "model_module": "@jupyter-widgets/output",
      "model_module_version": "1.0.0",
      "model_name": "OutputModel",
      "state": {
       "layout": "IPY_MODEL_017e1ad26ba74538bec7f4958e9bee36",
       "outputs": [
        {
         "data": {
          "image/png": "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\n",
          "text/plain": "<Figure size 432x288 with 1 Axes>"
         },
         "metadata": {
          "needs_background": "light"
         },
         "output_type": "display_data"
        }
       ]
      }
     },
     "e59298074b154690b5b46145852746bf": {
      "model_module": "@jupyter-widgets/controls",
      "model_module_version": "1.5.0",
      "model_name": "SliderStyleModel",
      "state": {
       "description_width": ""
      }
     },
     "e60e4fb4e5c944fe9c3fb1b2bed0b192": {
      "model_module": "@jupyter-widgets/controls",
      "model_module_version": "1.5.0",
      "model_name": "SelectMultipleModel",
      "state": {
       "_options_labels": [
        "2",
        "3",
        "4",
        "5",
        "6",
        "7",
        "8",
        "9",
        "10",
        "11",
        "12",
        "13",
        "14",
        "15",
        "16",
        "17",
        "18",
        "19",
        "20",
        "21",
        "22",
        "23",
        "24",
        "25",
        "26",
        "27",
        "28",
        "29",
        "30",
        "31",
        "32",
        "33",
        "34",
        "35",
        "36",
        "37",
        "38",
        "39",
        "40",
        "41",
        "42",
        "43",
        "44",
        "45",
        "46",
        "47",
        "48",
        "49",
        "50",
        "51",
        "52",
        "53",
        "54",
        "55",
        "56",
        "57",
        "58",
        "59",
        "60",
        "61",
        "62",
        "63",
        "64",
        "65",
        "66",
        "67",
        "68",
        "69",
        "70",
        "71",
        "72",
        "73",
        "74",
        "75",
        "76",
        "77",
        "78",
        "79",
        "80",
        "81",
        "82",
        "83",
        "84",
        "85",
        "86",
        "87",
        "88",
        "89",
        "90",
        "91",
        "92",
        "93",
        "94",
        "95",
        "96",
        "97",
        "98",
        "99",
        "100"
       ],
       "description": "$\\mathbb{X}$",
       "index": [
        18
       ],
       "layout": "IPY_MODEL_86ffe2063c5642a680b90e8d8d591045",
       "rows": 5,
       "style": "IPY_MODEL_c3c4aabd79b445b3aa149742e0b1c0ab"
      }
     },
     "e60eacb9773b4483b317c58848d22cb4": {
      "model_module": "@jupyter-widgets/base",
      "model_module_version": "1.2.0",
      "model_name": "LayoutModel",
      "state": {}
     },
     "e693c77afa674b45bfcfa15eacc7e96b": {
      "model_module": "@jupyter-widgets/controls",
      "model_module_version": "1.5.0",
      "model_name": "SliderStyleModel",
      "state": {
       "description_width": ""
      }
     },
     "e705b28320724005a3beff65022400a5": {
      "model_module": "@jupyter-widgets/base",
      "model_module_version": "1.2.0",
      "model_name": "LayoutModel",
      "state": {}
     },
     "e74f1a138d4b4896857b956c5c54119d": {
      "model_module": "@jupyter-widgets/base",
      "model_module_version": "1.2.0",
      "model_name": "LayoutModel",
      "state": {}
     },
     "e764d468ef494f2b872e80eb50e3b628": {
      "model_module": "@jupyter-widgets/controls",
      "model_module_version": "1.5.0",
      "model_name": "SliderStyleModel",
      "state": {
       "description_width": ""
      }
     },
     "e77f46872d474de9863540ecdfba110e": {
      "model_module": "@jupyter-widgets/controls",
      "model_module_version": "1.5.0",
      "model_name": "FloatSliderModel",
      "state": {
       "description": "L",
       "layout": "IPY_MODEL_3e399e972d2146dd9e2702f429335970",
       "max": 0.99,
       "min": 0.15,
       "step": 0.01,
       "style": "IPY_MODEL_521532dd50f7402986b1158f67fd6500",
       "value": 0.5
      }
     },
     "e7f67c8712d84ff8b832c113a325cbc7": {
      "model_module": "@jupyter-widgets/controls",
      "model_module_version": "1.5.0",
      "model_name": "FloatSliderModel",
      "state": {
       "description": "L",
       "layout": "IPY_MODEL_f3b076fd47064c8ba27e887defc6e57a",
       "max": 0.99,
       "min": 0.15,
       "step": 0.01,
       "style": "IPY_MODEL_8187a0f452c84f95b770b001ceb2bffe",
       "value": 0.5
      }
     },
     "e8c01bd6244e421f8adb36bb000b7cde": {
      "model_module": "@jupyter-widgets/controls",
      "model_module_version": "1.5.0",
      "model_name": "FloatSliderModel",
      "state": {
       "description": "L",
       "layout": "IPY_MODEL_eba3ec5bb3894b7da0d2f69c41d15417",
       "max": 0.99,
       "min": 0.15,
       "step": 0.01,
       "style": "IPY_MODEL_a84b54b086f34205b6395b4fb270519b",
       "value": 0.5
      }
     },
     "e8ed6a5c6be04f61be3643094ea37018": {
      "model_module": "@jupyter-widgets/controls",
      "model_module_version": "1.5.0",
      "model_name": "SelectMultipleModel",
      "state": {
       "_options_labels": [
        "2",
        "3",
        "4",
        "5",
        "6",
        "7",
        "8",
        "9",
        "10",
        "11",
        "12",
        "13",
        "14",
        "15",
        "16",
        "17",
        "18",
        "19",
        "20",
        "21",
        "22",
        "23",
        "24",
        "25",
        "26",
        "27",
        "28",
        "29",
        "30",
        "31",
        "32",
        "33",
        "34",
        "35",
        "36",
        "37",
        "38",
        "39",
        "40",
        "41",
        "42",
        "43",
        "44",
        "45",
        "46",
        "47",
        "48",
        "49",
        "50",
        "51",
        "52",
        "53",
        "54",
        "55",
        "56",
        "57",
        "58",
        "59",
        "60",
        "61",
        "62",
        "63",
        "64",
        "65",
        "66",
        "67",
        "68",
        "69",
        "70",
        "71",
        "72",
        "73",
        "74",
        "75",
        "76",
        "77",
        "78",
        "79",
        "80",
        "81",
        "82",
        "83",
        "84",
        "85",
        "86",
        "87",
        "88",
        "89",
        "90",
        "91",
        "92",
        "93",
        "94",
        "95",
        "96",
        "97",
        "98",
        "99",
        "100"
       ],
       "description": "$\\mathbb{X}$",
       "index": [
        1
       ],
       "layout": "IPY_MODEL_02625562366f46e994fdd6092fa284c8",
       "rows": 5,
       "style": "IPY_MODEL_a92af630045f4938890a78e6641b1707"
      }
     },
     "e8f51703e551442981325e2c0d271a23": {
      "model_module": "@jupyter-widgets/controls",
      "model_module_version": "1.5.0",
      "model_name": "DropdownModel",
      "state": {
       "_options_labels": [
        "2",
        "3",
        "4",
        "5",
        "6",
        "7",
        "8",
        "9",
        "10",
        "11",
        "12",
        "13",
        "14",
        "15",
        "16",
        "17",
        "18",
        "19",
        "20",
        "21",
        "22",
        "23",
        "24",
        "25",
        "26",
        "27",
        "28",
        "29",
        "30",
        "31",
        "32",
        "33",
        "34",
        "35",
        "36",
        "37",
        "38",
        "39",
        "40",
        "41",
        "42",
        "43",
        "44",
        "45",
        "46",
        "47",
        "48",
        "49",
        "50"
       ],
       "description": "$x$",
       "index": 0,
       "layout": "IPY_MODEL_d738fb8e0f19475db9bfd3eb03c5042f",
       "style": "IPY_MODEL_44beebd3db2d40dea309c5a06c44a172"
      }
     },
     "ea68f2e925f1429e9efa6eb9c47a7e7f": {
      "model_module": "@jupyter-widgets/controls",
      "model_module_version": "1.5.0",
      "model_name": "FloatSliderModel",
      "state": {
       "description": "$\\Delta x$:",
       "layout": "IPY_MODEL_420e4f9e128e4bdba68a5cbb217440d3",
       "max": 0.99,
       "min": 0.15,
       "step": 0.01,
       "style": "IPY_MODEL_cd8c6c4108a4484aa4f3bd8e6d2cff12",
       "value": 0.25
      }
     },
     "eba3ec5bb3894b7da0d2f69c41d15417": {
      "model_module": "@jupyter-widgets/base",
      "model_module_version": "1.2.0",
      "model_name": "LayoutModel",
      "state": {}
     },
     "ec0ee4914a854e84a68fdcc6a9b2319f": {
      "model_module": "@jupyter-widgets/base",
      "model_module_version": "1.2.0",
      "model_name": "LayoutModel",
      "state": {}
     },
     "edc5c993a4f54b41b5c9c8427ccd4594": {
      "model_module": "@jupyter-widgets/controls",
      "model_module_version": "1.5.0",
      "model_name": "FloatSliderModel",
      "state": {
       "description": "L",
       "layout": "IPY_MODEL_0408c9cbdcb74c4d959c44099d3903dd",
       "max": 0.99,
       "min": 0.15,
       "step": 0.01,
       "style": "IPY_MODEL_a302e56496db48aa941ee751bd40a4b9",
       "value": 0.5
      }
     },
     "ee367d670d2a4f79aedb22edc028196e": {
      "model_module": "@jupyter-widgets/base",
      "model_module_version": "1.2.0",
      "model_name": "LayoutModel",
      "state": {}
     },
     "ef49dcab41ab4baa8b6d0d8ad3c00132": {
      "model_module": "@jupyter-widgets/controls",
      "model_module_version": "1.5.0",
      "model_name": "DropdownModel",
      "state": {
       "_options_labels": [
        "2",
        "3",
        "4",
        "5",
        "6",
        "7",
        "8",
        "9",
        "10",
        "11",
        "12",
        "13",
        "14",
        "15",
        "16",
        "17",
        "18",
        "19",
        "20",
        "21",
        "22",
        "23",
        "24",
        "25",
        "26",
        "27",
        "28",
        "29",
        "30",
        "31",
        "32",
        "33",
        "34",
        "35",
        "36",
        "37",
        "38",
        "39",
        "40",
        "41",
        "42",
        "43",
        "44",
        "45",
        "46",
        "47",
        "48",
        "49",
        "50"
       ],
       "description": "$x$",
       "index": 0,
       "layout": "IPY_MODEL_cb358639d67e46eda2b814b8b70d6ed1",
       "style": "IPY_MODEL_c652a71a63d8465c9063353d0d9001cb"
      }
     },
     "ef5c391cc5484c689fb65c34548eb266": {
      "model_module": "@jupyter-widgets/controls",
      "model_module_version": "1.5.0",
      "model_name": "SliderStyleModel",
      "state": {
       "description_width": ""
      }
     },
     "f0750e19eb4a4a8bafd2e79556c16c05": {
      "model_module": "@jupyter-widgets/controls",
      "model_module_version": "1.5.0",
      "model_name": "DropdownModel",
      "state": {
       "_options_labels": [
        "1.0",
        "1.4736842105263157",
        "1.9473684210526314",
        "2.4210526315789473",
        "2.894736842105263",
        "3.3684210526315788",
        "3.8421052631578947",
        "4.315789473684211",
        "4.789473684210526",
        "5.263157894736842",
        "5.7368421052631575",
        "6.2105263157894735",
        "6.684210526315789",
        "7.157894736842105",
        "7.63157894736842",
        "8.105263157894736",
        "8.578947368421051",
        "9.052631578947368",
        "9.526315789473683",
        "10.0"
       ],
       "description": "$\\Delta x$",
       "index": 0,
       "layout": "IPY_MODEL_4fc3ddcf8de4487e93de3aeff6d99b47",
       "style": "IPY_MODEL_88577f028e6049489de7d52e7d737bc0"
      }
     },
     "f1e94286570548c7b7d8c157d567be57": {
      "model_module": "@jupyter-widgets/controls",
      "model_module_version": "1.5.0",
      "model_name": "SliderStyleModel",
      "state": {
       "description_width": ""
      }
     },
     "f1f124a6d2a140d4be3283d0a4e9475e": {
      "model_module": "@jupyter-widgets/controls",
      "model_module_version": "1.5.0",
      "model_name": "SliderStyleModel",
      "state": {
       "description_width": ""
      }
     },
     "f2aa3616f57b48eabb69d1d3d0f2ab72": {
      "model_module": "@jupyter-widgets/base",
      "model_module_version": "1.2.0",
      "model_name": "LayoutModel",
      "state": {}
     },
     "f2b1cf8450c74325bf563daf34d580c1": {
      "model_module": "@jupyter-widgets/controls",
      "model_module_version": "1.5.0",
      "model_name": "FloatSliderModel",
      "state": {
       "description": "$\\Delta x$:",
       "layout": "IPY_MODEL_2cf969f405d6417a8cda13367842fc32",
       "max": 0.99,
       "min": 0.15,
       "step": 0.01,
       "style": "IPY_MODEL_5643b5d60b0b44f78ee57c348a06a24f",
       "value": 0.2
      }
     },
     "f3b076fd47064c8ba27e887defc6e57a": {
      "model_module": "@jupyter-widgets/base",
      "model_module_version": "1.2.0",
      "model_name": "LayoutModel",
      "state": {}
     },
     "f479720ed76042fc9e2d8871b54d7a4c": {
      "model_module": "@jupyter-widgets/controls",
      "model_module_version": "1.5.0",
      "model_name": "SelectMultipleModel",
      "state": {
       "_options_labels": [
        "2",
        "3",
        "4",
        "5",
        "6",
        "7",
        "8",
        "9",
        "10",
        "11",
        "12",
        "13",
        "14",
        "15",
        "16",
        "17",
        "18",
        "19",
        "20",
        "21",
        "22",
        "23",
        "24",
        "25",
        "26",
        "27",
        "28",
        "29",
        "30",
        "31",
        "32",
        "33",
        "34",
        "35",
        "36",
        "37",
        "38",
        "39",
        "40",
        "41",
        "42",
        "43",
        "44",
        "45",
        "46",
        "47",
        "48",
        "49",
        "50",
        "51",
        "52",
        "53",
        "54",
        "55",
        "56",
        "57",
        "58",
        "59",
        "60",
        "61",
        "62",
        "63",
        "64",
        "65",
        "66",
        "67",
        "68",
        "69",
        "70",
        "71",
        "72",
        "73",
        "74",
        "75",
        "76",
        "77",
        "78",
        "79",
        "80",
        "81",
        "82",
        "83",
        "84",
        "85",
        "86",
        "87",
        "88",
        "89",
        "90",
        "91",
        "92",
        "93",
        "94",
        "95",
        "96",
        "97",
        "98",
        "99",
        "100"
       ],
       "description": "$\\mathbb{X}$",
       "index": [
        18
       ],
       "layout": "IPY_MODEL_54736b6fc69c449daf89d6297eb254fc",
       "rows": 5,
       "style": "IPY_MODEL_af7f81897d4c4638993f61efd159713b"
      }
     },
     "f4c9ec5b3e0b411e8a9a78f86d476d2c": {
      "model_module": "@jupyter-widgets/controls",
      "model_module_version": "1.5.0",
      "model_name": "SliderStyleModel",
      "state": {
       "description_width": ""
      }
     },
     "f706c8ddffe3463dbdbdfecdc6a51cac": {
      "model_module": "@jupyter-widgets/base",
      "model_module_version": "1.2.0",
      "model_name": "LayoutModel",
      "state": {}
     },
     "f87662ad44844b5ab36d4327f9e0307b": {
      "model_module": "@jupyter-widgets/output",
      "model_module_version": "1.0.0",
      "model_name": "OutputModel",
      "state": {
       "layout": "IPY_MODEL_1fb1762e6d18443aa772df0d658cdf50",
       "outputs": [
        {
         "data": {
          "image/png": "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\n",
          "text/plain": "<Figure size 432x288 with 1 Axes>"
         },
         "metadata": {
          "needs_background": "light"
         },
         "output_type": "display_data"
        }
       ]
      }
     },
     "faad4008694b4a748c9cd27949b9b4e7": {
      "model_module": "@jupyter-widgets/base",
      "model_module_version": "1.2.0",
      "model_name": "LayoutModel",
      "state": {}
     },
     "fae429bf031a40329cf3702e1bc9c74b": {
      "model_module": "@jupyter-widgets/base",
      "model_module_version": "1.2.0",
      "model_name": "LayoutModel",
      "state": {}
     },
     "fafd9dba3e3946d1bf2c451054bd0b7b": {
      "model_module": "@jupyter-widgets/controls",
      "model_module_version": "1.5.0",
      "model_name": "SliderStyleModel",
      "state": {
       "description_width": ""
      }
     },
     "fb163ce26e9d420f8eff9383bde6f0d5": {
      "model_module": "@jupyter-widgets/base",
      "model_module_version": "1.2.0",
      "model_name": "LayoutModel",
      "state": {}
     },
     "fb38a4bdc77041dba1c17608aacd0682": {
      "model_module": "@jupyter-widgets/controls",
      "model_module_version": "1.5.0",
      "model_name": "FloatSliderModel",
      "state": {
       "description": "$\\Delta x$:",
       "layout": "IPY_MODEL_443127b9056c4f1080c02e49813c7832",
       "max": 0.99,
       "min": 0.15,
       "step": 0.01,
       "style": "IPY_MODEL_adc3c5cfdecd4e67979bcbffbfdb0d6b",
       "value": 0.2
      }
     },
     "fb83fcdd0335414cb19fd1435be0c621": {
      "model_module": "@jupyter-widgets/controls",
      "model_module_version": "1.5.0",
      "model_name": "VBoxModel",
      "state": {
       "_dom_classes": [
        "widget-interact"
       ],
       "children": [
        "IPY_MODEL_26374dab80354ff79eabcf19aa32d698",
        "IPY_MODEL_46f559c6bcc245ea9722a14978da8d60",
        "IPY_MODEL_9f4cee5402f54ee7b9ba1e3d6850420c",
        "IPY_MODEL_da9215c47225480db44f3292ab745b61"
       ],
       "layout": "IPY_MODEL_2b0922767bc7465eb918ee707064b70a"
      }
     },
     "fb8f8c9d0af1474ea92f80d8060371e1": {
      "model_module": "@jupyter-widgets/controls",
      "model_module_version": "1.5.0",
      "model_name": "DescriptionStyleModel",
      "state": {
       "description_width": ""
      }
     },
     "fbd1a66f9fef4095a3c784bd8ad4ea36": {
      "model_module": "@jupyter-widgets/base",
      "model_module_version": "1.2.0",
      "model_name": "LayoutModel",
      "state": {}
     },
     "fc035b8f63124abba92e6fa2a2f6c81b": {
      "model_module": "@jupyter-widgets/controls",
      "model_module_version": "1.5.0",
      "model_name": "SliderStyleModel",
      "state": {
       "description_width": ""
      }
     },
     "fce01de8634844f381b36f8811231ab8": {
      "model_module": "@jupyter-widgets/controls",
      "model_module_version": "1.5.0",
      "model_name": "VBoxModel",
      "state": {
       "_dom_classes": [
        "widget-interact"
       ],
       "children": [
        "IPY_MODEL_443cf05463e8432297febee74fbbd5d7",
        "IPY_MODEL_578bf3f9c5634072943a7b218baac931",
        "IPY_MODEL_f479720ed76042fc9e2d8871b54d7a4c",
        "IPY_MODEL_d473a87669a14800af67c5a531697468"
       ],
       "layout": "IPY_MODEL_232512b70a2649898eb3a3c72a9a11a8"
      }
     },
     "fd3a47f9edbb416d9c6eea5ee775c458": {
      "model_module": "@jupyter-widgets/controls",
      "model_module_version": "1.5.0",
      "model_name": "DescriptionStyleModel",
      "state": {
       "description_width": ""
      }
     },
     "fdce6f64b72249038ca585e5f1843ac7": {
      "model_module": "@jupyter-widgets/controls",
      "model_module_version": "1.5.0",
      "model_name": "SliderStyleModel",
      "state": {
       "description_width": ""
      }
     },
     "fe1bae3a67ac42fe9764b550dc8cffe7": {
      "model_module": "@jupyter-widgets/controls",
      "model_module_version": "1.5.0",
      "model_name": "VBoxModel",
      "state": {
       "_dom_classes": [
        "widget-interact"
       ],
       "children": [
        "IPY_MODEL_3c149b8f7cbb47438e2a6229966c76a1",
        "IPY_MODEL_b1dc477f5f734998b5f502ac53ac9420",
        "IPY_MODEL_7ed9dc9fb64b47e588642a7b43deed28",
        "IPY_MODEL_b4d1230f9a9e4bcaa5df43102c6b5f52"
       ],
       "layout": "IPY_MODEL_61f89971f4034c39ab3d122b9179d797"
      }
     },
     "fe1d0bb88f2e42268e3488808c2b3c29": {
      "model_module": "@jupyter-widgets/controls",
      "model_module_version": "1.5.0",
      "model_name": "DescriptionStyleModel",
      "state": {
       "description_width": ""
      }
     },
     "ff367c9f8e0e4d2c9f16e8c4e6b3ba54": {
      "model_module": "@jupyter-widgets/base",
      "model_module_version": "1.2.0",
      "model_name": "LayoutModel",
      "state": {}
     },
     "ff52e34a4d0546c6b73ad13985d66159": {
      "model_module": "@jupyter-widgets/base",
      "model_module_version": "1.2.0",
      "model_name": "LayoutModel",
      "state": {}
     },
     "ff752622085a4b82b2cb2407a2926b05": {
      "model_module": "@jupyter-widgets/controls",
      "model_module_version": "1.5.0",
      "model_name": "VBoxModel",
      "state": {
       "_dom_classes": [
        "widget-interact"
       ],
       "children": [
        "IPY_MODEL_ffb2d24260a0419f831c0981c0f98448",
        "IPY_MODEL_cbf6107aa878494bbd70746c55f2af17",
        "IPY_MODEL_23b7ef3e788543ddb605bd260a3f41ee",
        "IPY_MODEL_f87662ad44844b5ab36d4327f9e0307b"
       ],
       "layout": "IPY_MODEL_267185ed16ac4574ae7fecb698c00d02"
      }
     },
     "ffb2d24260a0419f831c0981c0f98448": {
      "model_module": "@jupyter-widgets/controls",
      "model_module_version": "1.5.0",
      "model_name": "FloatSliderModel",
      "state": {
       "description": "$\\Delta x$:",
       "layout": "IPY_MODEL_45ab0ce25f0847f09f8f2a393f20cb2d",
       "max": 0.99,
       "min": 0.15,
       "step": 0.01,
       "style": "IPY_MODEL_fafd9dba3e3946d1bf2c451054bd0b7b",
       "value": 0.2
      }
     },
     "fff68ee7fe844b1389b0ba5438b3352a": {
      "model_module": "@jupyter-widgets/controls",
      "model_module_version": "1.5.0",
      "model_name": "DescriptionStyleModel",
      "state": {
       "description_width": ""
      }
     }
    },
    "version_major": 2,
    "version_minor": 0
   }
  }
 },
 "nbformat": 4,
 "nbformat_minor": 2
}
