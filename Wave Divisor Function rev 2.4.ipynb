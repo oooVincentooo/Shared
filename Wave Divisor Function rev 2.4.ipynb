{
 "cells": [
  {
   "cell_type": "markdown",
   "metadata": {},
   "source": [
    "# Wave divisor function: $\\sigma_{0}(x)$\n",
    "\n",
    "The integer divisor function can be described as a summation of repeating waves. Each wave filters out numbers. Divisor wave filters $\\mathbb{X}=7$ wil filter: 7, 14, 21, 28, 35 etc. The divisor function can bescribed as:\n",
    "\n",
    "$$\\large \\sigma_{0}(x)=\\sum_{\\mathbb{X}=2}^{\\infty}\\cos^{N} \\left( \\frac{\\pi}{\\mathbb{X}}x \\right)$$\n",
    "\n",
    "N should be a positive even integer, only then positive pulses occur. If $N\\rightarrow\\infty$ discrete pulses occur on the intervals determined by: $\\mathbb{X}$. This definition of the divisor function does not take 1 in account, for the conventional definition 1 should be added to the wave divisor function.\n",
    "\n",
    "With help of Euler’s formula and the binomial theorem the function can be rewritten as:\n",
    "\n",
    "$$\\large \\sigma_{0}(x)=\\sum_{\\mathbb{X}=2}^{\\infty}e^{i\\left( \\frac{N\\pi}{\\mathbb{X}}x \\right)} 2^{(-N)} \\sum_{k=0}^{N} \\binom{N}{k} e^{-i\\left( \\frac{\\pi}{\\mathbb{X}}x \\right)}  $$\n",
    "\n",
    "The solution for the divisor function occurs when the angular component is 0 only then pulses of magnitude 1 occur. For the divisor function we can set: $e^{i\\left( \\frac{N\\pi}{\\mathbb{X}}x \\right)}=1$. So the \"Wave Divisor Function\" becomes:\n",
    "\n",
    "$$\\large \\sigma_{0}(x)=\\sum_{\\mathbb{X}=2}^{\\infty} 2^{(-N)} \\sum_{k=0}^{N} \\binom{N}{k} e^{-i\\left( \\frac{\\pi}{\\mathbb{X}}x \\right)}  $$\n",
    "\n",
    "The n choose k notation can be writen in a trigiometric formulation.\n",
    "\n",
    "$$\\large \\Re(\\sigma_{0})=\\sum_{\\mathbb{X}=2}^{\\infty}\\cos^{N} \\left( \\frac{\\pi}{\\mathbb{X}}x \\right) \\cos \\left( \\frac{N\\pi}{\\mathbb{X}}x  \\right) $$\n",
    "\n",
    "$$\\large \\Im(\\sigma_{0})=-i \\sum_{\\mathbb{X}=2}^{\\infty}\\cos^{N} \\left( \\frac{\\pi}{\\mathbb{X}}x \\right) \\sin \\left( \\frac{N\\pi}{\\mathbb{X}}x  \\right) $$\n",
    "\n",
    "This is only valid with the following criteria:\n",
    "\n",
    "$$\\large \\cos^{2} \\left( \\frac{N\\pi}{\\mathbb{X}}x  \\right) + \\sin^{2} \\left( \\frac{N\\pi}{\\mathbb{X}}x  \\right)=1$$\n",
    "\n",
    "Thus the solution of the divisor function is only valid for integer values of $x$. The wave divisor function consists of repeating wave packages with different different frequencies. The wave divisor function will have an error. It appears that the error is dependant upon the pulse width. N determines the pulse width of the individual wave packages.\n",
    "\n",
    "\n",
    "# N the pulse width definition.\n",
    "\n",
    "The wave divisor function consists of repeating wave packages. The width of a wave package can be described as the pulse height $L$ at $\\Delta x$:\n",
    "\n",
    "$$\\large \\cos^{N} \\left( \\frac{\\pi}{\\mathbb{X}} \\Delta x \\right)=L$$\n",
    "\n",
    "So N can be calculated, we can determine $N(\\mathbb{X})$ for every divisor wave.\n",
    "\n",
    "$$\\large N(\\mathbb{X})= \\frac{\\log (L)}{\\log \\left(  \\cos \\left(  \\frac {\\pi}{\\mathbb{X} } \\Delta x  \\right)      \\right)} $$\n",
    "\n",
    "For $(\\mathbb{X} \\rightarrow \\infty)$ N can be approximated as:\n",
    "\n",
    "$$\\large N(\\mathbb{X}) \\approx \\lim_{\\mathbb{X} \\rightarrow \\infty}     \\frac{\\log(L)}{\\log \\left(  \\cos \\left(  \\frac {\\pi}{\\mathbb{X} } \\Delta x  \\right)      \\right)} = - \\frac{2 \\mathbb{X}^2 \\log(L)}{\\pi^2 \\Delta x^2} $$\n",
    "\n",
    "Wolfram Alpha:\n",
    "https://www.wolframalpha.com/input/?i=ln%28L%29%2F%28ln%28cos%28pi*delta%2FX%29%29%29+as+X-%3Einfinity\n",
    "\n",
    "\n",
    "# Error of the Wave Divisor Function.\n",
    "\n",
    "The error of the wave divisor function is determined. It appears that the error follows a random walk over an arcsine distribution. The boundaries of the arcsine distribution are derived to be (for $\\mathbb{X} \\rightarrow \\infty$ ):\n",
    "\n",
    "$$\\large max(\\epsilon)=exp \\left( \\frac{\\log(L)}{\\Delta x^2}      \\right)$$\n",
    "\n",
    "The statistical variation of the arcsine distribution is determined as:\n",
    "\n",
    "$$\\large Var(\\mathbb{X})=0.5$$\n",
    "\n",
    "The total expected error is defined as the variation in $\\sigma_{0}(x)$:\n",
    "\n",
    "$$\\large Var(\\sigma_{0})=max(\\epsilon) \\cdot Var(\\mathbb{X}) \\cdot (\\sigma_{0}(x-1)+\\sigma_{0}(x+1)) $$\n",
    "\n",
    "More information:\n",
    "https://drive.google.com/open?id=10p06BBJtKVcreHfzzbF--a47fR_lbW_h"
   ]
  },
  {
   "cell_type": "markdown",
   "metadata": {},
   "source": [
    "# Simulation of Wave Divisor Function.\n",
    "\n",
    "Below is a simulation of the wave divisor function. The real solution of the divisor count is displayed for the number $x=1 \\space to \\space  x=100$. The number of divisor waves can be selected and the pulse width can be set $L, \\space \\delta x$"
   ]
  },
  {
   "cell_type": "code",
   "execution_count": 4,
   "metadata": {},
   "outputs": [],
   "source": [
    "import ipywidgets as widgets\n",
    "from IPython.display import display\n",
    "import matplotlib.pyplot as plt\n",
    "import numpy as np\n",
    " \n",
    "from operator import add\n",
    "\n",
    "%matplotlib notebook\n"
   ]
  },
  {
   "cell_type": "code",
   "execution_count": 5,
   "metadata": {},
   "outputs": [
    {
     "data": {
      "application/javascript": [
       "/* Put everything inside the global mpl namespace */\n",
       "window.mpl = {};\n",
       "\n",
       "\n",
       "mpl.get_websocket_type = function() {\n",
       "    if (typeof(WebSocket) !== 'undefined') {\n",
       "        return WebSocket;\n",
       "    } else if (typeof(MozWebSocket) !== 'undefined') {\n",
       "        return MozWebSocket;\n",
       "    } else {\n",
       "        alert('Your browser does not have WebSocket support. ' +\n",
       "              'Please try Chrome, Safari or Firefox ≥ 6. ' +\n",
       "              'Firefox 4 and 5 are also supported but you ' +\n",
       "              'have to enable WebSockets in about:config.');\n",
       "    };\n",
       "}\n",
       "\n",
       "mpl.figure = function(figure_id, websocket, ondownload, parent_element) {\n",
       "    this.id = figure_id;\n",
       "\n",
       "    this.ws = websocket;\n",
       "\n",
       "    this.supports_binary = (this.ws.binaryType != undefined);\n",
       "\n",
       "    if (!this.supports_binary) {\n",
       "        var warnings = document.getElementById(\"mpl-warnings\");\n",
       "        if (warnings) {\n",
       "            warnings.style.display = 'block';\n",
       "            warnings.textContent = (\n",
       "                \"This browser does not support binary websocket messages. \" +\n",
       "                    \"Performance may be slow.\");\n",
       "        }\n",
       "    }\n",
       "\n",
       "    this.imageObj = new Image();\n",
       "\n",
       "    this.context = undefined;\n",
       "    this.message = undefined;\n",
       "    this.canvas = undefined;\n",
       "    this.rubberband_canvas = undefined;\n",
       "    this.rubberband_context = undefined;\n",
       "    this.format_dropdown = undefined;\n",
       "\n",
       "    this.image_mode = 'full';\n",
       "\n",
       "    this.root = $('<div/>');\n",
       "    this._root_extra_style(this.root)\n",
       "    this.root.attr('style', 'display: inline-block');\n",
       "\n",
       "    $(parent_element).append(this.root);\n",
       "\n",
       "    this._init_header(this);\n",
       "    this._init_canvas(this);\n",
       "    this._init_toolbar(this);\n",
       "\n",
       "    var fig = this;\n",
       "\n",
       "    this.waiting = false;\n",
       "\n",
       "    this.ws.onopen =  function () {\n",
       "            fig.send_message(\"supports_binary\", {value: fig.supports_binary});\n",
       "            fig.send_message(\"send_image_mode\", {});\n",
       "            if (mpl.ratio != 1) {\n",
       "                fig.send_message(\"set_dpi_ratio\", {'dpi_ratio': mpl.ratio});\n",
       "            }\n",
       "            fig.send_message(\"refresh\", {});\n",
       "        }\n",
       "\n",
       "    this.imageObj.onload = function() {\n",
       "            if (fig.image_mode == 'full') {\n",
       "                // Full images could contain transparency (where diff images\n",
       "                // almost always do), so we need to clear the canvas so that\n",
       "                // there is no ghosting.\n",
       "                fig.context.clearRect(0, 0, fig.canvas.width, fig.canvas.height);\n",
       "            }\n",
       "            fig.context.drawImage(fig.imageObj, 0, 0);\n",
       "        };\n",
       "\n",
       "    this.imageObj.onunload = function() {\n",
       "        fig.ws.close();\n",
       "    }\n",
       "\n",
       "    this.ws.onmessage = this._make_on_message_function(this);\n",
       "\n",
       "    this.ondownload = ondownload;\n",
       "}\n",
       "\n",
       "mpl.figure.prototype._init_header = function() {\n",
       "    var titlebar = $(\n",
       "        '<div class=\"ui-dialog-titlebar ui-widget-header ui-corner-all ' +\n",
       "        'ui-helper-clearfix\"/>');\n",
       "    var titletext = $(\n",
       "        '<div class=\"ui-dialog-title\" style=\"width: 100%; ' +\n",
       "        'text-align: center; padding: 3px;\"/>');\n",
       "    titlebar.append(titletext)\n",
       "    this.root.append(titlebar);\n",
       "    this.header = titletext[0];\n",
       "}\n",
       "\n",
       "\n",
       "\n",
       "mpl.figure.prototype._canvas_extra_style = function(canvas_div) {\n",
       "\n",
       "}\n",
       "\n",
       "\n",
       "mpl.figure.prototype._root_extra_style = function(canvas_div) {\n",
       "\n",
       "}\n",
       "\n",
       "mpl.figure.prototype._init_canvas = function() {\n",
       "    var fig = this;\n",
       "\n",
       "    var canvas_div = $('<div/>');\n",
       "\n",
       "    canvas_div.attr('style', 'position: relative; clear: both; outline: 0');\n",
       "\n",
       "    function canvas_keyboard_event(event) {\n",
       "        return fig.key_event(event, event['data']);\n",
       "    }\n",
       "\n",
       "    canvas_div.keydown('key_press', canvas_keyboard_event);\n",
       "    canvas_div.keyup('key_release', canvas_keyboard_event);\n",
       "    this.canvas_div = canvas_div\n",
       "    this._canvas_extra_style(canvas_div)\n",
       "    this.root.append(canvas_div);\n",
       "\n",
       "    var canvas = $('<canvas/>');\n",
       "    canvas.addClass('mpl-canvas');\n",
       "    canvas.attr('style', \"left: 0; top: 0; z-index: 0; outline: 0\")\n",
       "\n",
       "    this.canvas = canvas[0];\n",
       "    this.context = canvas[0].getContext(\"2d\");\n",
       "\n",
       "    var backingStore = this.context.backingStorePixelRatio ||\n",
       "\tthis.context.webkitBackingStorePixelRatio ||\n",
       "\tthis.context.mozBackingStorePixelRatio ||\n",
       "\tthis.context.msBackingStorePixelRatio ||\n",
       "\tthis.context.oBackingStorePixelRatio ||\n",
       "\tthis.context.backingStorePixelRatio || 1;\n",
       "\n",
       "    mpl.ratio = (window.devicePixelRatio || 1) / backingStore;\n",
       "\n",
       "    var rubberband = $('<canvas/>');\n",
       "    rubberband.attr('style', \"position: absolute; left: 0; top: 0; z-index: 1;\")\n",
       "\n",
       "    var pass_mouse_events = true;\n",
       "\n",
       "    canvas_div.resizable({\n",
       "        start: function(event, ui) {\n",
       "            pass_mouse_events = false;\n",
       "        },\n",
       "        resize: function(event, ui) {\n",
       "            fig.request_resize(ui.size.width, ui.size.height);\n",
       "        },\n",
       "        stop: function(event, ui) {\n",
       "            pass_mouse_events = true;\n",
       "            fig.request_resize(ui.size.width, ui.size.height);\n",
       "        },\n",
       "    });\n",
       "\n",
       "    function mouse_event_fn(event) {\n",
       "        if (pass_mouse_events)\n",
       "            return fig.mouse_event(event, event['data']);\n",
       "    }\n",
       "\n",
       "    rubberband.mousedown('button_press', mouse_event_fn);\n",
       "    rubberband.mouseup('button_release', mouse_event_fn);\n",
       "    // Throttle sequential mouse events to 1 every 20ms.\n",
       "    rubberband.mousemove('motion_notify', mouse_event_fn);\n",
       "\n",
       "    rubberband.mouseenter('figure_enter', mouse_event_fn);\n",
       "    rubberband.mouseleave('figure_leave', mouse_event_fn);\n",
       "\n",
       "    canvas_div.on(\"wheel\", function (event) {\n",
       "        event = event.originalEvent;\n",
       "        event['data'] = 'scroll'\n",
       "        if (event.deltaY < 0) {\n",
       "            event.step = 1;\n",
       "        } else {\n",
       "            event.step = -1;\n",
       "        }\n",
       "        mouse_event_fn(event);\n",
       "    });\n",
       "\n",
       "    canvas_div.append(canvas);\n",
       "    canvas_div.append(rubberband);\n",
       "\n",
       "    this.rubberband = rubberband;\n",
       "    this.rubberband_canvas = rubberband[0];\n",
       "    this.rubberband_context = rubberband[0].getContext(\"2d\");\n",
       "    this.rubberband_context.strokeStyle = \"#000000\";\n",
       "\n",
       "    this._resize_canvas = function(width, height) {\n",
       "        // Keep the size of the canvas, canvas container, and rubber band\n",
       "        // canvas in synch.\n",
       "        canvas_div.css('width', width)\n",
       "        canvas_div.css('height', height)\n",
       "\n",
       "        canvas.attr('width', width * mpl.ratio);\n",
       "        canvas.attr('height', height * mpl.ratio);\n",
       "        canvas.attr('style', 'width: ' + width + 'px; height: ' + height + 'px;');\n",
       "\n",
       "        rubberband.attr('width', width);\n",
       "        rubberband.attr('height', height);\n",
       "    }\n",
       "\n",
       "    // Set the figure to an initial 600x600px, this will subsequently be updated\n",
       "    // upon first draw.\n",
       "    this._resize_canvas(600, 600);\n",
       "\n",
       "    // Disable right mouse context menu.\n",
       "    $(this.rubberband_canvas).bind(\"contextmenu\",function(e){\n",
       "        return false;\n",
       "    });\n",
       "\n",
       "    function set_focus () {\n",
       "        canvas.focus();\n",
       "        canvas_div.focus();\n",
       "    }\n",
       "\n",
       "    window.setTimeout(set_focus, 100);\n",
       "}\n",
       "\n",
       "mpl.figure.prototype._init_toolbar = function() {\n",
       "    var fig = this;\n",
       "\n",
       "    var nav_element = $('<div/>');\n",
       "    nav_element.attr('style', 'width: 100%');\n",
       "    this.root.append(nav_element);\n",
       "\n",
       "    // Define a callback function for later on.\n",
       "    function toolbar_event(event) {\n",
       "        return fig.toolbar_button_onclick(event['data']);\n",
       "    }\n",
       "    function toolbar_mouse_event(event) {\n",
       "        return fig.toolbar_button_onmouseover(event['data']);\n",
       "    }\n",
       "\n",
       "    for(var toolbar_ind in mpl.toolbar_items) {\n",
       "        var name = mpl.toolbar_items[toolbar_ind][0];\n",
       "        var tooltip = mpl.toolbar_items[toolbar_ind][1];\n",
       "        var image = mpl.toolbar_items[toolbar_ind][2];\n",
       "        var method_name = mpl.toolbar_items[toolbar_ind][3];\n",
       "\n",
       "        if (!name) {\n",
       "            // put a spacer in here.\n",
       "            continue;\n",
       "        }\n",
       "        var button = $('<button/>');\n",
       "        button.addClass('ui-button ui-widget ui-state-default ui-corner-all ' +\n",
       "                        'ui-button-icon-only');\n",
       "        button.attr('role', 'button');\n",
       "        button.attr('aria-disabled', 'false');\n",
       "        button.click(method_name, toolbar_event);\n",
       "        button.mouseover(tooltip, toolbar_mouse_event);\n",
       "\n",
       "        var icon_img = $('<span/>');\n",
       "        icon_img.addClass('ui-button-icon-primary ui-icon');\n",
       "        icon_img.addClass(image);\n",
       "        icon_img.addClass('ui-corner-all');\n",
       "\n",
       "        var tooltip_span = $('<span/>');\n",
       "        tooltip_span.addClass('ui-button-text');\n",
       "        tooltip_span.html(tooltip);\n",
       "\n",
       "        button.append(icon_img);\n",
       "        button.append(tooltip_span);\n",
       "\n",
       "        nav_element.append(button);\n",
       "    }\n",
       "\n",
       "    var fmt_picker_span = $('<span/>');\n",
       "\n",
       "    var fmt_picker = $('<select/>');\n",
       "    fmt_picker.addClass('mpl-toolbar-option ui-widget ui-widget-content');\n",
       "    fmt_picker_span.append(fmt_picker);\n",
       "    nav_element.append(fmt_picker_span);\n",
       "    this.format_dropdown = fmt_picker[0];\n",
       "\n",
       "    for (var ind in mpl.extensions) {\n",
       "        var fmt = mpl.extensions[ind];\n",
       "        var option = $(\n",
       "            '<option/>', {selected: fmt === mpl.default_extension}).html(fmt);\n",
       "        fmt_picker.append(option);\n",
       "    }\n",
       "\n",
       "    // Add hover states to the ui-buttons\n",
       "    $( \".ui-button\" ).hover(\n",
       "        function() { $(this).addClass(\"ui-state-hover\");},\n",
       "        function() { $(this).removeClass(\"ui-state-hover\");}\n",
       "    );\n",
       "\n",
       "    var status_bar = $('<span class=\"mpl-message\"/>');\n",
       "    nav_element.append(status_bar);\n",
       "    this.message = status_bar[0];\n",
       "}\n",
       "\n",
       "mpl.figure.prototype.request_resize = function(x_pixels, y_pixels) {\n",
       "    // Request matplotlib to resize the figure. Matplotlib will then trigger a resize in the client,\n",
       "    // which will in turn request a refresh of the image.\n",
       "    this.send_message('resize', {'width': x_pixels, 'height': y_pixels});\n",
       "}\n",
       "\n",
       "mpl.figure.prototype.send_message = function(type, properties) {\n",
       "    properties['type'] = type;\n",
       "    properties['figure_id'] = this.id;\n",
       "    this.ws.send(JSON.stringify(properties));\n",
       "}\n",
       "\n",
       "mpl.figure.prototype.send_draw_message = function() {\n",
       "    if (!this.waiting) {\n",
       "        this.waiting = true;\n",
       "        this.ws.send(JSON.stringify({type: \"draw\", figure_id: this.id}));\n",
       "    }\n",
       "}\n",
       "\n",
       "\n",
       "mpl.figure.prototype.handle_save = function(fig, msg) {\n",
       "    var format_dropdown = fig.format_dropdown;\n",
       "    var format = format_dropdown.options[format_dropdown.selectedIndex].value;\n",
       "    fig.ondownload(fig, format);\n",
       "}\n",
       "\n",
       "\n",
       "mpl.figure.prototype.handle_resize = function(fig, msg) {\n",
       "    var size = msg['size'];\n",
       "    if (size[0] != fig.canvas.width || size[1] != fig.canvas.height) {\n",
       "        fig._resize_canvas(size[0], size[1]);\n",
       "        fig.send_message(\"refresh\", {});\n",
       "    };\n",
       "}\n",
       "\n",
       "mpl.figure.prototype.handle_rubberband = function(fig, msg) {\n",
       "    var x0 = msg['x0'] / mpl.ratio;\n",
       "    var y0 = (fig.canvas.height - msg['y0']) / mpl.ratio;\n",
       "    var x1 = msg['x1'] / mpl.ratio;\n",
       "    var y1 = (fig.canvas.height - msg['y1']) / mpl.ratio;\n",
       "    x0 = Math.floor(x0) + 0.5;\n",
       "    y0 = Math.floor(y0) + 0.5;\n",
       "    x1 = Math.floor(x1) + 0.5;\n",
       "    y1 = Math.floor(y1) + 0.5;\n",
       "    var min_x = Math.min(x0, x1);\n",
       "    var min_y = Math.min(y0, y1);\n",
       "    var width = Math.abs(x1 - x0);\n",
       "    var height = Math.abs(y1 - y0);\n",
       "\n",
       "    fig.rubberband_context.clearRect(\n",
       "        0, 0, fig.canvas.width, fig.canvas.height);\n",
       "\n",
       "    fig.rubberband_context.strokeRect(min_x, min_y, width, height);\n",
       "}\n",
       "\n",
       "mpl.figure.prototype.handle_figure_label = function(fig, msg) {\n",
       "    // Updates the figure title.\n",
       "    fig.header.textContent = msg['label'];\n",
       "}\n",
       "\n",
       "mpl.figure.prototype.handle_cursor = function(fig, msg) {\n",
       "    var cursor = msg['cursor'];\n",
       "    switch(cursor)\n",
       "    {\n",
       "    case 0:\n",
       "        cursor = 'pointer';\n",
       "        break;\n",
       "    case 1:\n",
       "        cursor = 'default';\n",
       "        break;\n",
       "    case 2:\n",
       "        cursor = 'crosshair';\n",
       "        break;\n",
       "    case 3:\n",
       "        cursor = 'move';\n",
       "        break;\n",
       "    }\n",
       "    fig.rubberband_canvas.style.cursor = cursor;\n",
       "}\n",
       "\n",
       "mpl.figure.prototype.handle_message = function(fig, msg) {\n",
       "    fig.message.textContent = msg['message'];\n",
       "}\n",
       "\n",
       "mpl.figure.prototype.handle_draw = function(fig, msg) {\n",
       "    // Request the server to send over a new figure.\n",
       "    fig.send_draw_message();\n",
       "}\n",
       "\n",
       "mpl.figure.prototype.handle_image_mode = function(fig, msg) {\n",
       "    fig.image_mode = msg['mode'];\n",
       "}\n",
       "\n",
       "mpl.figure.prototype.updated_canvas_event = function() {\n",
       "    // Called whenever the canvas gets updated.\n",
       "    this.send_message(\"ack\", {});\n",
       "}\n",
       "\n",
       "// A function to construct a web socket function for onmessage handling.\n",
       "// Called in the figure constructor.\n",
       "mpl.figure.prototype._make_on_message_function = function(fig) {\n",
       "    return function socket_on_message(evt) {\n",
       "        if (evt.data instanceof Blob) {\n",
       "            /* FIXME: We get \"Resource interpreted as Image but\n",
       "             * transferred with MIME type text/plain:\" errors on\n",
       "             * Chrome.  But how to set the MIME type?  It doesn't seem\n",
       "             * to be part of the websocket stream */\n",
       "            evt.data.type = \"image/png\";\n",
       "\n",
       "            /* Free the memory for the previous frames */\n",
       "            if (fig.imageObj.src) {\n",
       "                (window.URL || window.webkitURL).revokeObjectURL(\n",
       "                    fig.imageObj.src);\n",
       "            }\n",
       "\n",
       "            fig.imageObj.src = (window.URL || window.webkitURL).createObjectURL(\n",
       "                evt.data);\n",
       "            fig.updated_canvas_event();\n",
       "            fig.waiting = false;\n",
       "            return;\n",
       "        }\n",
       "        else if (typeof evt.data === 'string' && evt.data.slice(0, 21) == \"data:image/png;base64\") {\n",
       "            fig.imageObj.src = evt.data;\n",
       "            fig.updated_canvas_event();\n",
       "            fig.waiting = false;\n",
       "            return;\n",
       "        }\n",
       "\n",
       "        var msg = JSON.parse(evt.data);\n",
       "        var msg_type = msg['type'];\n",
       "\n",
       "        // Call the  \"handle_{type}\" callback, which takes\n",
       "        // the figure and JSON message as its only arguments.\n",
       "        try {\n",
       "            var callback = fig[\"handle_\" + msg_type];\n",
       "        } catch (e) {\n",
       "            console.log(\"No handler for the '\" + msg_type + \"' message type: \", msg);\n",
       "            return;\n",
       "        }\n",
       "\n",
       "        if (callback) {\n",
       "            try {\n",
       "                // console.log(\"Handling '\" + msg_type + \"' message: \", msg);\n",
       "                callback(fig, msg);\n",
       "            } catch (e) {\n",
       "                console.log(\"Exception inside the 'handler_\" + msg_type + \"' callback:\", e, e.stack, msg);\n",
       "            }\n",
       "        }\n",
       "    };\n",
       "}\n",
       "\n",
       "// from http://stackoverflow.com/questions/1114465/getting-mouse-location-in-canvas\n",
       "mpl.findpos = function(e) {\n",
       "    //this section is from http://www.quirksmode.org/js/events_properties.html\n",
       "    var targ;\n",
       "    if (!e)\n",
       "        e = window.event;\n",
       "    if (e.target)\n",
       "        targ = e.target;\n",
       "    else if (e.srcElement)\n",
       "        targ = e.srcElement;\n",
       "    if (targ.nodeType == 3) // defeat Safari bug\n",
       "        targ = targ.parentNode;\n",
       "\n",
       "    // jQuery normalizes the pageX and pageY\n",
       "    // pageX,Y are the mouse positions relative to the document\n",
       "    // offset() returns the position of the element relative to the document\n",
       "    var x = e.pageX - $(targ).offset().left;\n",
       "    var y = e.pageY - $(targ).offset().top;\n",
       "\n",
       "    return {\"x\": x, \"y\": y};\n",
       "};\n",
       "\n",
       "/*\n",
       " * return a copy of an object with only non-object keys\n",
       " * we need this to avoid circular references\n",
       " * http://stackoverflow.com/a/24161582/3208463\n",
       " */\n",
       "function simpleKeys (original) {\n",
       "  return Object.keys(original).reduce(function (obj, key) {\n",
       "    if (typeof original[key] !== 'object')\n",
       "        obj[key] = original[key]\n",
       "    return obj;\n",
       "  }, {});\n",
       "}\n",
       "\n",
       "mpl.figure.prototype.mouse_event = function(event, name) {\n",
       "    var canvas_pos = mpl.findpos(event)\n",
       "\n",
       "    if (name === 'button_press')\n",
       "    {\n",
       "        this.canvas.focus();\n",
       "        this.canvas_div.focus();\n",
       "    }\n",
       "\n",
       "    var x = canvas_pos.x * mpl.ratio;\n",
       "    var y = canvas_pos.y * mpl.ratio;\n",
       "\n",
       "    this.send_message(name, {x: x, y: y, button: event.button,\n",
       "                             step: event.step,\n",
       "                             guiEvent: simpleKeys(event)});\n",
       "\n",
       "    /* This prevents the web browser from automatically changing to\n",
       "     * the text insertion cursor when the button is pressed.  We want\n",
       "     * to control all of the cursor setting manually through the\n",
       "     * 'cursor' event from matplotlib */\n",
       "    event.preventDefault();\n",
       "    return false;\n",
       "}\n",
       "\n",
       "mpl.figure.prototype._key_event_extra = function(event, name) {\n",
       "    // Handle any extra behaviour associated with a key event\n",
       "}\n",
       "\n",
       "mpl.figure.prototype.key_event = function(event, name) {\n",
       "\n",
       "    // Prevent repeat events\n",
       "    if (name == 'key_press')\n",
       "    {\n",
       "        if (event.which === this._key)\n",
       "            return;\n",
       "        else\n",
       "            this._key = event.which;\n",
       "    }\n",
       "    if (name == 'key_release')\n",
       "        this._key = null;\n",
       "\n",
       "    var value = '';\n",
       "    if (event.ctrlKey && event.which != 17)\n",
       "        value += \"ctrl+\";\n",
       "    if (event.altKey && event.which != 18)\n",
       "        value += \"alt+\";\n",
       "    if (event.shiftKey && event.which != 16)\n",
       "        value += \"shift+\";\n",
       "\n",
       "    value += 'k';\n",
       "    value += event.which.toString();\n",
       "\n",
       "    this._key_event_extra(event, name);\n",
       "\n",
       "    this.send_message(name, {key: value,\n",
       "                             guiEvent: simpleKeys(event)});\n",
       "    return false;\n",
       "}\n",
       "\n",
       "mpl.figure.prototype.toolbar_button_onclick = function(name) {\n",
       "    if (name == 'download') {\n",
       "        this.handle_save(this, null);\n",
       "    } else {\n",
       "        this.send_message(\"toolbar_button\", {name: name});\n",
       "    }\n",
       "};\n",
       "\n",
       "mpl.figure.prototype.toolbar_button_onmouseover = function(tooltip) {\n",
       "    this.message.textContent = tooltip;\n",
       "};\n",
       "mpl.toolbar_items = [[\"Home\", \"Reset original view\", \"fa fa-home icon-home\", \"home\"], [\"Back\", \"Back to previous view\", \"fa fa-arrow-left icon-arrow-left\", \"back\"], [\"Forward\", \"Forward to next view\", \"fa fa-arrow-right icon-arrow-right\", \"forward\"], [\"\", \"\", \"\", \"\"], [\"Pan\", \"Pan axes with left mouse, zoom with right\", \"fa fa-arrows icon-move\", \"pan\"], [\"Zoom\", \"Zoom to rectangle\", \"fa fa-square-o icon-check-empty\", \"zoom\"], [\"\", \"\", \"\", \"\"], [\"Download\", \"Download plot\", \"fa fa-floppy-o icon-save\", \"download\"]];\n",
       "\n",
       "mpl.extensions = [\"eps\", \"jpeg\", \"pdf\", \"png\", \"ps\", \"raw\", \"svg\", \"tif\"];\n",
       "\n",
       "mpl.default_extension = \"png\";var comm_websocket_adapter = function(comm) {\n",
       "    // Create a \"websocket\"-like object which calls the given IPython comm\n",
       "    // object with the appropriate methods. Currently this is a non binary\n",
       "    // socket, so there is still some room for performance tuning.\n",
       "    var ws = {};\n",
       "\n",
       "    ws.close = function() {\n",
       "        comm.close()\n",
       "    };\n",
       "    ws.send = function(m) {\n",
       "        //console.log('sending', m);\n",
       "        comm.send(m);\n",
       "    };\n",
       "    // Register the callback with on_msg.\n",
       "    comm.on_msg(function(msg) {\n",
       "        //console.log('receiving', msg['content']['data'], msg);\n",
       "        // Pass the mpl event to the overridden (by mpl) onmessage function.\n",
       "        ws.onmessage(msg['content']['data'])\n",
       "    });\n",
       "    return ws;\n",
       "}\n",
       "\n",
       "mpl.mpl_figure_comm = function(comm, msg) {\n",
       "    // This is the function which gets called when the mpl process\n",
       "    // starts-up an IPython Comm through the \"matplotlib\" channel.\n",
       "\n",
       "    var id = msg.content.data.id;\n",
       "    // Get hold of the div created by the display call when the Comm\n",
       "    // socket was opened in Python.\n",
       "    var element = $(\"#\" + id);\n",
       "    var ws_proxy = comm_websocket_adapter(comm)\n",
       "\n",
       "    function ondownload(figure, format) {\n",
       "        window.open(figure.imageObj.src);\n",
       "    }\n",
       "\n",
       "    var fig = new mpl.figure(id, ws_proxy,\n",
       "                           ondownload,\n",
       "                           element.get(0));\n",
       "\n",
       "    // Call onopen now - mpl needs it, as it is assuming we've passed it a real\n",
       "    // web socket which is closed, not our websocket->open comm proxy.\n",
       "    ws_proxy.onopen();\n",
       "\n",
       "    fig.parent_element = element.get(0);\n",
       "    fig.cell_info = mpl.find_output_cell(\"<div id='\" + id + \"'></div>\");\n",
       "    if (!fig.cell_info) {\n",
       "        console.error(\"Failed to find cell for figure\", id, fig);\n",
       "        return;\n",
       "    }\n",
       "\n",
       "    var output_index = fig.cell_info[2]\n",
       "    var cell = fig.cell_info[0];\n",
       "\n",
       "};\n",
       "\n",
       "mpl.figure.prototype.handle_close = function(fig, msg) {\n",
       "    var width = fig.canvas.width/mpl.ratio\n",
       "    fig.root.unbind('remove')\n",
       "\n",
       "    // Update the output cell to use the data from the current canvas.\n",
       "    fig.push_to_output();\n",
       "    var dataURL = fig.canvas.toDataURL();\n",
       "    // Re-enable the keyboard manager in IPython - without this line, in FF,\n",
       "    // the notebook keyboard shortcuts fail.\n",
       "    IPython.keyboard_manager.enable()\n",
       "    $(fig.parent_element).html('<img src=\"' + dataURL + '\" width=\"' + width + '\">');\n",
       "    fig.close_ws(fig, msg);\n",
       "}\n",
       "\n",
       "mpl.figure.prototype.close_ws = function(fig, msg){\n",
       "    fig.send_message('closing', msg);\n",
       "    // fig.ws.close()\n",
       "}\n",
       "\n",
       "mpl.figure.prototype.push_to_output = function(remove_interactive) {\n",
       "    // Turn the data on the canvas into data in the output cell.\n",
       "    var width = this.canvas.width/mpl.ratio\n",
       "    var dataURL = this.canvas.toDataURL();\n",
       "    this.cell_info[1]['text/html'] = '<img src=\"' + dataURL + '\" width=\"' + width + '\">';\n",
       "}\n",
       "\n",
       "mpl.figure.prototype.updated_canvas_event = function() {\n",
       "    // Tell IPython that the notebook contents must change.\n",
       "    IPython.notebook.set_dirty(true);\n",
       "    this.send_message(\"ack\", {});\n",
       "    var fig = this;\n",
       "    // Wait a second, then push the new image to the DOM so\n",
       "    // that it is saved nicely (might be nice to debounce this).\n",
       "    setTimeout(function () { fig.push_to_output() }, 1000);\n",
       "}\n",
       "\n",
       "mpl.figure.prototype._init_toolbar = function() {\n",
       "    var fig = this;\n",
       "\n",
       "    var nav_element = $('<div/>');\n",
       "    nav_element.attr('style', 'width: 100%');\n",
       "    this.root.append(nav_element);\n",
       "\n",
       "    // Define a callback function for later on.\n",
       "    function toolbar_event(event) {\n",
       "        return fig.toolbar_button_onclick(event['data']);\n",
       "    }\n",
       "    function toolbar_mouse_event(event) {\n",
       "        return fig.toolbar_button_onmouseover(event['data']);\n",
       "    }\n",
       "\n",
       "    for(var toolbar_ind in mpl.toolbar_items){\n",
       "        var name = mpl.toolbar_items[toolbar_ind][0];\n",
       "        var tooltip = mpl.toolbar_items[toolbar_ind][1];\n",
       "        var image = mpl.toolbar_items[toolbar_ind][2];\n",
       "        var method_name = mpl.toolbar_items[toolbar_ind][3];\n",
       "\n",
       "        if (!name) { continue; };\n",
       "\n",
       "        var button = $('<button class=\"btn btn-default\" href=\"#\" title=\"' + name + '\"><i class=\"fa ' + image + ' fa-lg\"></i></button>');\n",
       "        button.click(method_name, toolbar_event);\n",
       "        button.mouseover(tooltip, toolbar_mouse_event);\n",
       "        nav_element.append(button);\n",
       "    }\n",
       "\n",
       "    // Add the status bar.\n",
       "    var status_bar = $('<span class=\"mpl-message\" style=\"text-align:right; float: right;\"/>');\n",
       "    nav_element.append(status_bar);\n",
       "    this.message = status_bar[0];\n",
       "\n",
       "    // Add the close button to the window.\n",
       "    var buttongrp = $('<div class=\"btn-group inline pull-right\"></div>');\n",
       "    var button = $('<button class=\"btn btn-mini btn-primary\" href=\"#\" title=\"Stop Interaction\"><i class=\"fa fa-power-off icon-remove icon-large\"></i></button>');\n",
       "    button.click(function (evt) { fig.handle_close(fig, {}); } );\n",
       "    button.mouseover('Stop Interaction', toolbar_mouse_event);\n",
       "    buttongrp.append(button);\n",
       "    var titlebar = this.root.find($('.ui-dialog-titlebar'));\n",
       "    titlebar.prepend(buttongrp);\n",
       "}\n",
       "\n",
       "mpl.figure.prototype._root_extra_style = function(el){\n",
       "    var fig = this\n",
       "    el.on(\"remove\", function(){\n",
       "\tfig.close_ws(fig, {});\n",
       "    });\n",
       "}\n",
       "\n",
       "mpl.figure.prototype._canvas_extra_style = function(el){\n",
       "    // this is important to make the div 'focusable\n",
       "    el.attr('tabindex', 0)\n",
       "    // reach out to IPython and tell the keyboard manager to turn it's self\n",
       "    // off when our div gets focus\n",
       "\n",
       "    // location in version 3\n",
       "    if (IPython.notebook.keyboard_manager) {\n",
       "        IPython.notebook.keyboard_manager.register_events(el);\n",
       "    }\n",
       "    else {\n",
       "        // location in version 2\n",
       "        IPython.keyboard_manager.register_events(el);\n",
       "    }\n",
       "\n",
       "}\n",
       "\n",
       "mpl.figure.prototype._key_event_extra = function(event, name) {\n",
       "    var manager = IPython.notebook.keyboard_manager;\n",
       "    if (!manager)\n",
       "        manager = IPython.keyboard_manager;\n",
       "\n",
       "    // Check for shift+enter\n",
       "    if (event.shiftKey && event.which == 13) {\n",
       "        this.canvas_div.blur();\n",
       "        event.shiftKey = false;\n",
       "        // Send a \"J\" for go to next cell\n",
       "        event.which = 74;\n",
       "        event.keyCode = 74;\n",
       "        manager.command_mode();\n",
       "        manager.handle_keydown(event);\n",
       "    }\n",
       "}\n",
       "\n",
       "mpl.figure.prototype.handle_save = function(fig, msg) {\n",
       "    fig.ondownload(fig, null);\n",
       "}\n",
       "\n",
       "\n",
       "mpl.find_output_cell = function(html_output) {\n",
       "    // Return the cell and output element which can be found *uniquely* in the notebook.\n",
       "    // Note - this is a bit hacky, but it is done because the \"notebook_saving.Notebook\"\n",
       "    // IPython event is triggered only after the cells have been serialised, which for\n",
       "    // our purposes (turning an active figure into a static one), is too late.\n",
       "    var cells = IPython.notebook.get_cells();\n",
       "    var ncells = cells.length;\n",
       "    for (var i=0; i<ncells; i++) {\n",
       "        var cell = cells[i];\n",
       "        if (cell.cell_type === 'code'){\n",
       "            for (var j=0; j<cell.output_area.outputs.length; j++) {\n",
       "                var data = cell.output_area.outputs[j];\n",
       "                if (data.data) {\n",
       "                    // IPython >= 3 moved mimebundle to data attribute of output\n",
       "                    data = data.data;\n",
       "                }\n",
       "                if (data['text/html'] == html_output) {\n",
       "                    return [cell, data, j];\n",
       "                }\n",
       "            }\n",
       "        }\n",
       "    }\n",
       "}\n",
       "\n",
       "// Register the function which deals with the matplotlib target/channel.\n",
       "// The kernel may be null if the page has been refreshed.\n",
       "if (IPython.notebook.kernel != null) {\n",
       "    IPython.notebook.kernel.comm_manager.register_target('matplotlib', mpl.mpl_figure_comm);\n",
       "}\n"
      ],
      "text/plain": [
       "<IPython.core.display.Javascript object>"
      ]
     },
     "metadata": {},
     "output_type": "display_data"
    },
    {
     "data": {
      "text/html": [
       "<img src=\"data:image/png;base64,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\" width=\"900\">"
      ],
      "text/plain": [
       "<IPython.core.display.HTML object>"
      ]
     },
     "metadata": {},
     "output_type": "display_data"
    },
    {
     "name": "stdout",
     "output_type": "stream",
     "text": [
      "Options:\n",
      "L is pulse height at dx\n",
      "Select number of divisors waves (use: <Ctrl> or <Alt> to select multiples.)\n"
     ]
    },
    {
     "data": {
      "application/vnd.jupyter.widget-view+json": {
       "model_id": "469a95e08d014b428a02c00433f8141a",
       "version_major": 2,
       "version_minor": 0
      },
      "text/plain": [
       "interactive(children=(FloatSlider(value=0.25, description='$\\\\Delta x$:', max=0.99, min=0.15, step=0.01), Floa…"
      ]
     },
     "metadata": {},
     "output_type": "display_data"
    }
   ],
   "source": [
    "x1 = np.linspace(0, 100, 40001)\n",
    "fig, ax1 = plt.subplots(1, figsize=(9, 4))\n",
    "plt.suptitle('$\\sigma_{0}$ Wave Divisor Function')\n",
    "\n",
    "def update_plot(dx, L, wave):\n",
    "    \n",
    "    ax1.clear()\n",
    "    \n",
    "    y=[0]*40001\n",
    "    \n",
    "    for w in wave:\n",
    "  \n",
    "        N=-2*(w**2)*np.log(L)/((np.pi**2)*(dx**2))\n",
    "        N=2*round(0.5*N,0)\n",
    "        \n",
    "        yw = ((np.cos(x1*np.pi/w))**N)*(np.cos(np.pi*N*x1/w))\n",
    "              \n",
    "        \n",
    "        y=list(map(add, y, yw) )\n",
    "    \n",
    "    units = '$\\Delta x$ = {} \\nL = {}'\n",
    "    \n",
    "    ax1.plot(x1, y, label=units.format(dx, L))\n",
    "    ax1.set_xlim(x1[0], x1[-1])\n",
    "    ax1.legend(loc=1)\n",
    "    ax1.set_xlabel('$x$')\n",
    "    plt.show()\n",
    "\n",
    "print(\"Options:\")\n",
    "print(\"L is pulse height at dx\")\n",
    "print(\"Select number of divisors waves (use: <Ctrl> or <Alt> to select multiples.)\")\n",
    "dx = widgets.FloatSlider(min=0.15, max=0.99, value=0.25, step=0.01, description='$\\Delta x$:')\n",
    "L = widgets.FloatSlider(min=0.15, max=0.99, value=0.5, step=0.01, description='L')\n",
    "wave = widgets.SelectMultiple(options=list(range(2,101)), value=(20, ), description=\"$\\mathbb{X}$\")   \n",
    "\n",
    "widgets.interactive(update_plot, dx=dx, L=L, wave=wave)"
   ]
  },
  {
   "cell_type": "markdown",
   "metadata": {},
   "source": [
    "# Oribitals of numbers.\n",
    "\n",
    "Every number can be seen as a path in the $\\Re, \\space \\Im$ plane. Prime numbers will only have one frequency. Numbers with more divisors will have an unique resonation. When the pulse width is small enough like: $\\Delta x=0.25, \\space L=0.5$ the effect of neigbour pulses is neglactable and the resconance curve can be displayed."
   ]
  },
  {
   "cell_type": "code",
   "execution_count": 11,
   "metadata": {},
   "outputs": [
    {
     "data": {
      "application/javascript": [
       "/* Put everything inside the global mpl namespace */\n",
       "window.mpl = {};\n",
       "\n",
       "\n",
       "mpl.get_websocket_type = function() {\n",
       "    if (typeof(WebSocket) !== 'undefined') {\n",
       "        return WebSocket;\n",
       "    } else if (typeof(MozWebSocket) !== 'undefined') {\n",
       "        return MozWebSocket;\n",
       "    } else {\n",
       "        alert('Your browser does not have WebSocket support. ' +\n",
       "              'Please try Chrome, Safari or Firefox ≥ 6. ' +\n",
       "              'Firefox 4 and 5 are also supported but you ' +\n",
       "              'have to enable WebSockets in about:config.');\n",
       "    };\n",
       "}\n",
       "\n",
       "mpl.figure = function(figure_id, websocket, ondownload, parent_element) {\n",
       "    this.id = figure_id;\n",
       "\n",
       "    this.ws = websocket;\n",
       "\n",
       "    this.supports_binary = (this.ws.binaryType != undefined);\n",
       "\n",
       "    if (!this.supports_binary) {\n",
       "        var warnings = document.getElementById(\"mpl-warnings\");\n",
       "        if (warnings) {\n",
       "            warnings.style.display = 'block';\n",
       "            warnings.textContent = (\n",
       "                \"This browser does not support binary websocket messages. \" +\n",
       "                    \"Performance may be slow.\");\n",
       "        }\n",
       "    }\n",
       "\n",
       "    this.imageObj = new Image();\n",
       "\n",
       "    this.context = undefined;\n",
       "    this.message = undefined;\n",
       "    this.canvas = undefined;\n",
       "    this.rubberband_canvas = undefined;\n",
       "    this.rubberband_context = undefined;\n",
       "    this.format_dropdown = undefined;\n",
       "\n",
       "    this.image_mode = 'full';\n",
       "\n",
       "    this.root = $('<div/>');\n",
       "    this._root_extra_style(this.root)\n",
       "    this.root.attr('style', 'display: inline-block');\n",
       "\n",
       "    $(parent_element).append(this.root);\n",
       "\n",
       "    this._init_header(this);\n",
       "    this._init_canvas(this);\n",
       "    this._init_toolbar(this);\n",
       "\n",
       "    var fig = this;\n",
       "\n",
       "    this.waiting = false;\n",
       "\n",
       "    this.ws.onopen =  function () {\n",
       "            fig.send_message(\"supports_binary\", {value: fig.supports_binary});\n",
       "            fig.send_message(\"send_image_mode\", {});\n",
       "            if (mpl.ratio != 1) {\n",
       "                fig.send_message(\"set_dpi_ratio\", {'dpi_ratio': mpl.ratio});\n",
       "            }\n",
       "            fig.send_message(\"refresh\", {});\n",
       "        }\n",
       "\n",
       "    this.imageObj.onload = function() {\n",
       "            if (fig.image_mode == 'full') {\n",
       "                // Full images could contain transparency (where diff images\n",
       "                // almost always do), so we need to clear the canvas so that\n",
       "                // there is no ghosting.\n",
       "                fig.context.clearRect(0, 0, fig.canvas.width, fig.canvas.height);\n",
       "            }\n",
       "            fig.context.drawImage(fig.imageObj, 0, 0);\n",
       "        };\n",
       "\n",
       "    this.imageObj.onunload = function() {\n",
       "        fig.ws.close();\n",
       "    }\n",
       "\n",
       "    this.ws.onmessage = this._make_on_message_function(this);\n",
       "\n",
       "    this.ondownload = ondownload;\n",
       "}\n",
       "\n",
       "mpl.figure.prototype._init_header = function() {\n",
       "    var titlebar = $(\n",
       "        '<div class=\"ui-dialog-titlebar ui-widget-header ui-corner-all ' +\n",
       "        'ui-helper-clearfix\"/>');\n",
       "    var titletext = $(\n",
       "        '<div class=\"ui-dialog-title\" style=\"width: 100%; ' +\n",
       "        'text-align: center; padding: 3px;\"/>');\n",
       "    titlebar.append(titletext)\n",
       "    this.root.append(titlebar);\n",
       "    this.header = titletext[0];\n",
       "}\n",
       "\n",
       "\n",
       "\n",
       "mpl.figure.prototype._canvas_extra_style = function(canvas_div) {\n",
       "\n",
       "}\n",
       "\n",
       "\n",
       "mpl.figure.prototype._root_extra_style = function(canvas_div) {\n",
       "\n",
       "}\n",
       "\n",
       "mpl.figure.prototype._init_canvas = function() {\n",
       "    var fig = this;\n",
       "\n",
       "    var canvas_div = $('<div/>');\n",
       "\n",
       "    canvas_div.attr('style', 'position: relative; clear: both; outline: 0');\n",
       "\n",
       "    function canvas_keyboard_event(event) {\n",
       "        return fig.key_event(event, event['data']);\n",
       "    }\n",
       "\n",
       "    canvas_div.keydown('key_press', canvas_keyboard_event);\n",
       "    canvas_div.keyup('key_release', canvas_keyboard_event);\n",
       "    this.canvas_div = canvas_div\n",
       "    this._canvas_extra_style(canvas_div)\n",
       "    this.root.append(canvas_div);\n",
       "\n",
       "    var canvas = $('<canvas/>');\n",
       "    canvas.addClass('mpl-canvas');\n",
       "    canvas.attr('style', \"left: 0; top: 0; z-index: 0; outline: 0\")\n",
       "\n",
       "    this.canvas = canvas[0];\n",
       "    this.context = canvas[0].getContext(\"2d\");\n",
       "\n",
       "    var backingStore = this.context.backingStorePixelRatio ||\n",
       "\tthis.context.webkitBackingStorePixelRatio ||\n",
       "\tthis.context.mozBackingStorePixelRatio ||\n",
       "\tthis.context.msBackingStorePixelRatio ||\n",
       "\tthis.context.oBackingStorePixelRatio ||\n",
       "\tthis.context.backingStorePixelRatio || 1;\n",
       "\n",
       "    mpl.ratio = (window.devicePixelRatio || 1) / backingStore;\n",
       "\n",
       "    var rubberband = $('<canvas/>');\n",
       "    rubberband.attr('style', \"position: absolute; left: 0; top: 0; z-index: 1;\")\n",
       "\n",
       "    var pass_mouse_events = true;\n",
       "\n",
       "    canvas_div.resizable({\n",
       "        start: function(event, ui) {\n",
       "            pass_mouse_events = false;\n",
       "        },\n",
       "        resize: function(event, ui) {\n",
       "            fig.request_resize(ui.size.width, ui.size.height);\n",
       "        },\n",
       "        stop: function(event, ui) {\n",
       "            pass_mouse_events = true;\n",
       "            fig.request_resize(ui.size.width, ui.size.height);\n",
       "        },\n",
       "    });\n",
       "\n",
       "    function mouse_event_fn(event) {\n",
       "        if (pass_mouse_events)\n",
       "            return fig.mouse_event(event, event['data']);\n",
       "    }\n",
       "\n",
       "    rubberband.mousedown('button_press', mouse_event_fn);\n",
       "    rubberband.mouseup('button_release', mouse_event_fn);\n",
       "    // Throttle sequential mouse events to 1 every 20ms.\n",
       "    rubberband.mousemove('motion_notify', mouse_event_fn);\n",
       "\n",
       "    rubberband.mouseenter('figure_enter', mouse_event_fn);\n",
       "    rubberband.mouseleave('figure_leave', mouse_event_fn);\n",
       "\n",
       "    canvas_div.on(\"wheel\", function (event) {\n",
       "        event = event.originalEvent;\n",
       "        event['data'] = 'scroll'\n",
       "        if (event.deltaY < 0) {\n",
       "            event.step = 1;\n",
       "        } else {\n",
       "            event.step = -1;\n",
       "        }\n",
       "        mouse_event_fn(event);\n",
       "    });\n",
       "\n",
       "    canvas_div.append(canvas);\n",
       "    canvas_div.append(rubberband);\n",
       "\n",
       "    this.rubberband = rubberband;\n",
       "    this.rubberband_canvas = rubberband[0];\n",
       "    this.rubberband_context = rubberband[0].getContext(\"2d\");\n",
       "    this.rubberband_context.strokeStyle = \"#000000\";\n",
       "\n",
       "    this._resize_canvas = function(width, height) {\n",
       "        // Keep the size of the canvas, canvas container, and rubber band\n",
       "        // canvas in synch.\n",
       "        canvas_div.css('width', width)\n",
       "        canvas_div.css('height', height)\n",
       "\n",
       "        canvas.attr('width', width * mpl.ratio);\n",
       "        canvas.attr('height', height * mpl.ratio);\n",
       "        canvas.attr('style', 'width: ' + width + 'px; height: ' + height + 'px;');\n",
       "\n",
       "        rubberband.attr('width', width);\n",
       "        rubberband.attr('height', height);\n",
       "    }\n",
       "\n",
       "    // Set the figure to an initial 600x600px, this will subsequently be updated\n",
       "    // upon first draw.\n",
       "    this._resize_canvas(600, 600);\n",
       "\n",
       "    // Disable right mouse context menu.\n",
       "    $(this.rubberband_canvas).bind(\"contextmenu\",function(e){\n",
       "        return false;\n",
       "    });\n",
       "\n",
       "    function set_focus () {\n",
       "        canvas.focus();\n",
       "        canvas_div.focus();\n",
       "    }\n",
       "\n",
       "    window.setTimeout(set_focus, 100);\n",
       "}\n",
       "\n",
       "mpl.figure.prototype._init_toolbar = function() {\n",
       "    var fig = this;\n",
       "\n",
       "    var nav_element = $('<div/>');\n",
       "    nav_element.attr('style', 'width: 100%');\n",
       "    this.root.append(nav_element);\n",
       "\n",
       "    // Define a callback function for later on.\n",
       "    function toolbar_event(event) {\n",
       "        return fig.toolbar_button_onclick(event['data']);\n",
       "    }\n",
       "    function toolbar_mouse_event(event) {\n",
       "        return fig.toolbar_button_onmouseover(event['data']);\n",
       "    }\n",
       "\n",
       "    for(var toolbar_ind in mpl.toolbar_items) {\n",
       "        var name = mpl.toolbar_items[toolbar_ind][0];\n",
       "        var tooltip = mpl.toolbar_items[toolbar_ind][1];\n",
       "        var image = mpl.toolbar_items[toolbar_ind][2];\n",
       "        var method_name = mpl.toolbar_items[toolbar_ind][3];\n",
       "\n",
       "        if (!name) {\n",
       "            // put a spacer in here.\n",
       "            continue;\n",
       "        }\n",
       "        var button = $('<button/>');\n",
       "        button.addClass('ui-button ui-widget ui-state-default ui-corner-all ' +\n",
       "                        'ui-button-icon-only');\n",
       "        button.attr('role', 'button');\n",
       "        button.attr('aria-disabled', 'false');\n",
       "        button.click(method_name, toolbar_event);\n",
       "        button.mouseover(tooltip, toolbar_mouse_event);\n",
       "\n",
       "        var icon_img = $('<span/>');\n",
       "        icon_img.addClass('ui-button-icon-primary ui-icon');\n",
       "        icon_img.addClass(image);\n",
       "        icon_img.addClass('ui-corner-all');\n",
       "\n",
       "        var tooltip_span = $('<span/>');\n",
       "        tooltip_span.addClass('ui-button-text');\n",
       "        tooltip_span.html(tooltip);\n",
       "\n",
       "        button.append(icon_img);\n",
       "        button.append(tooltip_span);\n",
       "\n",
       "        nav_element.append(button);\n",
       "    }\n",
       "\n",
       "    var fmt_picker_span = $('<span/>');\n",
       "\n",
       "    var fmt_picker = $('<select/>');\n",
       "    fmt_picker.addClass('mpl-toolbar-option ui-widget ui-widget-content');\n",
       "    fmt_picker_span.append(fmt_picker);\n",
       "    nav_element.append(fmt_picker_span);\n",
       "    this.format_dropdown = fmt_picker[0];\n",
       "\n",
       "    for (var ind in mpl.extensions) {\n",
       "        var fmt = mpl.extensions[ind];\n",
       "        var option = $(\n",
       "            '<option/>', {selected: fmt === mpl.default_extension}).html(fmt);\n",
       "        fmt_picker.append(option);\n",
       "    }\n",
       "\n",
       "    // Add hover states to the ui-buttons\n",
       "    $( \".ui-button\" ).hover(\n",
       "        function() { $(this).addClass(\"ui-state-hover\");},\n",
       "        function() { $(this).removeClass(\"ui-state-hover\");}\n",
       "    );\n",
       "\n",
       "    var status_bar = $('<span class=\"mpl-message\"/>');\n",
       "    nav_element.append(status_bar);\n",
       "    this.message = status_bar[0];\n",
       "}\n",
       "\n",
       "mpl.figure.prototype.request_resize = function(x_pixels, y_pixels) {\n",
       "    // Request matplotlib to resize the figure. Matplotlib will then trigger a resize in the client,\n",
       "    // which will in turn request a refresh of the image.\n",
       "    this.send_message('resize', {'width': x_pixels, 'height': y_pixels});\n",
       "}\n",
       "\n",
       "mpl.figure.prototype.send_message = function(type, properties) {\n",
       "    properties['type'] = type;\n",
       "    properties['figure_id'] = this.id;\n",
       "    this.ws.send(JSON.stringify(properties));\n",
       "}\n",
       "\n",
       "mpl.figure.prototype.send_draw_message = function() {\n",
       "    if (!this.waiting) {\n",
       "        this.waiting = true;\n",
       "        this.ws.send(JSON.stringify({type: \"draw\", figure_id: this.id}));\n",
       "    }\n",
       "}\n",
       "\n",
       "\n",
       "mpl.figure.prototype.handle_save = function(fig, msg) {\n",
       "    var format_dropdown = fig.format_dropdown;\n",
       "    var format = format_dropdown.options[format_dropdown.selectedIndex].value;\n",
       "    fig.ondownload(fig, format);\n",
       "}\n",
       "\n",
       "\n",
       "mpl.figure.prototype.handle_resize = function(fig, msg) {\n",
       "    var size = msg['size'];\n",
       "    if (size[0] != fig.canvas.width || size[1] != fig.canvas.height) {\n",
       "        fig._resize_canvas(size[0], size[1]);\n",
       "        fig.send_message(\"refresh\", {});\n",
       "    };\n",
       "}\n",
       "\n",
       "mpl.figure.prototype.handle_rubberband = function(fig, msg) {\n",
       "    var x0 = msg['x0'] / mpl.ratio;\n",
       "    var y0 = (fig.canvas.height - msg['y0']) / mpl.ratio;\n",
       "    var x1 = msg['x1'] / mpl.ratio;\n",
       "    var y1 = (fig.canvas.height - msg['y1']) / mpl.ratio;\n",
       "    x0 = Math.floor(x0) + 0.5;\n",
       "    y0 = Math.floor(y0) + 0.5;\n",
       "    x1 = Math.floor(x1) + 0.5;\n",
       "    y1 = Math.floor(y1) + 0.5;\n",
       "    var min_x = Math.min(x0, x1);\n",
       "    var min_y = Math.min(y0, y1);\n",
       "    var width = Math.abs(x1 - x0);\n",
       "    var height = Math.abs(y1 - y0);\n",
       "\n",
       "    fig.rubberband_context.clearRect(\n",
       "        0, 0, fig.canvas.width, fig.canvas.height);\n",
       "\n",
       "    fig.rubberband_context.strokeRect(min_x, min_y, width, height);\n",
       "}\n",
       "\n",
       "mpl.figure.prototype.handle_figure_label = function(fig, msg) {\n",
       "    // Updates the figure title.\n",
       "    fig.header.textContent = msg['label'];\n",
       "}\n",
       "\n",
       "mpl.figure.prototype.handle_cursor = function(fig, msg) {\n",
       "    var cursor = msg['cursor'];\n",
       "    switch(cursor)\n",
       "    {\n",
       "    case 0:\n",
       "        cursor = 'pointer';\n",
       "        break;\n",
       "    case 1:\n",
       "        cursor = 'default';\n",
       "        break;\n",
       "    case 2:\n",
       "        cursor = 'crosshair';\n",
       "        break;\n",
       "    case 3:\n",
       "        cursor = 'move';\n",
       "        break;\n",
       "    }\n",
       "    fig.rubberband_canvas.style.cursor = cursor;\n",
       "}\n",
       "\n",
       "mpl.figure.prototype.handle_message = function(fig, msg) {\n",
       "    fig.message.textContent = msg['message'];\n",
       "}\n",
       "\n",
       "mpl.figure.prototype.handle_draw = function(fig, msg) {\n",
       "    // Request the server to send over a new figure.\n",
       "    fig.send_draw_message();\n",
       "}\n",
       "\n",
       "mpl.figure.prototype.handle_image_mode = function(fig, msg) {\n",
       "    fig.image_mode = msg['mode'];\n",
       "}\n",
       "\n",
       "mpl.figure.prototype.updated_canvas_event = function() {\n",
       "    // Called whenever the canvas gets updated.\n",
       "    this.send_message(\"ack\", {});\n",
       "}\n",
       "\n",
       "// A function to construct a web socket function for onmessage handling.\n",
       "// Called in the figure constructor.\n",
       "mpl.figure.prototype._make_on_message_function = function(fig) {\n",
       "    return function socket_on_message(evt) {\n",
       "        if (evt.data instanceof Blob) {\n",
       "            /* FIXME: We get \"Resource interpreted as Image but\n",
       "             * transferred with MIME type text/plain:\" errors on\n",
       "             * Chrome.  But how to set the MIME type?  It doesn't seem\n",
       "             * to be part of the websocket stream */\n",
       "            evt.data.type = \"image/png\";\n",
       "\n",
       "            /* Free the memory for the previous frames */\n",
       "            if (fig.imageObj.src) {\n",
       "                (window.URL || window.webkitURL).revokeObjectURL(\n",
       "                    fig.imageObj.src);\n",
       "            }\n",
       "\n",
       "            fig.imageObj.src = (window.URL || window.webkitURL).createObjectURL(\n",
       "                evt.data);\n",
       "            fig.updated_canvas_event();\n",
       "            fig.waiting = false;\n",
       "            return;\n",
       "        }\n",
       "        else if (typeof evt.data === 'string' && evt.data.slice(0, 21) == \"data:image/png;base64\") {\n",
       "            fig.imageObj.src = evt.data;\n",
       "            fig.updated_canvas_event();\n",
       "            fig.waiting = false;\n",
       "            return;\n",
       "        }\n",
       "\n",
       "        var msg = JSON.parse(evt.data);\n",
       "        var msg_type = msg['type'];\n",
       "\n",
       "        // Call the  \"handle_{type}\" callback, which takes\n",
       "        // the figure and JSON message as its only arguments.\n",
       "        try {\n",
       "            var callback = fig[\"handle_\" + msg_type];\n",
       "        } catch (e) {\n",
       "            console.log(\"No handler for the '\" + msg_type + \"' message type: \", msg);\n",
       "            return;\n",
       "        }\n",
       "\n",
       "        if (callback) {\n",
       "            try {\n",
       "                // console.log(\"Handling '\" + msg_type + \"' message: \", msg);\n",
       "                callback(fig, msg);\n",
       "            } catch (e) {\n",
       "                console.log(\"Exception inside the 'handler_\" + msg_type + \"' callback:\", e, e.stack, msg);\n",
       "            }\n",
       "        }\n",
       "    };\n",
       "}\n",
       "\n",
       "// from http://stackoverflow.com/questions/1114465/getting-mouse-location-in-canvas\n",
       "mpl.findpos = function(e) {\n",
       "    //this section is from http://www.quirksmode.org/js/events_properties.html\n",
       "    var targ;\n",
       "    if (!e)\n",
       "        e = window.event;\n",
       "    if (e.target)\n",
       "        targ = e.target;\n",
       "    else if (e.srcElement)\n",
       "        targ = e.srcElement;\n",
       "    if (targ.nodeType == 3) // defeat Safari bug\n",
       "        targ = targ.parentNode;\n",
       "\n",
       "    // jQuery normalizes the pageX and pageY\n",
       "    // pageX,Y are the mouse positions relative to the document\n",
       "    // offset() returns the position of the element relative to the document\n",
       "    var x = e.pageX - $(targ).offset().left;\n",
       "    var y = e.pageY - $(targ).offset().top;\n",
       "\n",
       "    return {\"x\": x, \"y\": y};\n",
       "};\n",
       "\n",
       "/*\n",
       " * return a copy of an object with only non-object keys\n",
       " * we need this to avoid circular references\n",
       " * http://stackoverflow.com/a/24161582/3208463\n",
       " */\n",
       "function simpleKeys (original) {\n",
       "  return Object.keys(original).reduce(function (obj, key) {\n",
       "    if (typeof original[key] !== 'object')\n",
       "        obj[key] = original[key]\n",
       "    return obj;\n",
       "  }, {});\n",
       "}\n",
       "\n",
       "mpl.figure.prototype.mouse_event = function(event, name) {\n",
       "    var canvas_pos = mpl.findpos(event)\n",
       "\n",
       "    if (name === 'button_press')\n",
       "    {\n",
       "        this.canvas.focus();\n",
       "        this.canvas_div.focus();\n",
       "    }\n",
       "\n",
       "    var x = canvas_pos.x * mpl.ratio;\n",
       "    var y = canvas_pos.y * mpl.ratio;\n",
       "\n",
       "    this.send_message(name, {x: x, y: y, button: event.button,\n",
       "                             step: event.step,\n",
       "                             guiEvent: simpleKeys(event)});\n",
       "\n",
       "    /* This prevents the web browser from automatically changing to\n",
       "     * the text insertion cursor when the button is pressed.  We want\n",
       "     * to control all of the cursor setting manually through the\n",
       "     * 'cursor' event from matplotlib */\n",
       "    event.preventDefault();\n",
       "    return false;\n",
       "}\n",
       "\n",
       "mpl.figure.prototype._key_event_extra = function(event, name) {\n",
       "    // Handle any extra behaviour associated with a key event\n",
       "}\n",
       "\n",
       "mpl.figure.prototype.key_event = function(event, name) {\n",
       "\n",
       "    // Prevent repeat events\n",
       "    if (name == 'key_press')\n",
       "    {\n",
       "        if (event.which === this._key)\n",
       "            return;\n",
       "        else\n",
       "            this._key = event.which;\n",
       "    }\n",
       "    if (name == 'key_release')\n",
       "        this._key = null;\n",
       "\n",
       "    var value = '';\n",
       "    if (event.ctrlKey && event.which != 17)\n",
       "        value += \"ctrl+\";\n",
       "    if (event.altKey && event.which != 18)\n",
       "        value += \"alt+\";\n",
       "    if (event.shiftKey && event.which != 16)\n",
       "        value += \"shift+\";\n",
       "\n",
       "    value += 'k';\n",
       "    value += event.which.toString();\n",
       "\n",
       "    this._key_event_extra(event, name);\n",
       "\n",
       "    this.send_message(name, {key: value,\n",
       "                             guiEvent: simpleKeys(event)});\n",
       "    return false;\n",
       "}\n",
       "\n",
       "mpl.figure.prototype.toolbar_button_onclick = function(name) {\n",
       "    if (name == 'download') {\n",
       "        this.handle_save(this, null);\n",
       "    } else {\n",
       "        this.send_message(\"toolbar_button\", {name: name});\n",
       "    }\n",
       "};\n",
       "\n",
       "mpl.figure.prototype.toolbar_button_onmouseover = function(tooltip) {\n",
       "    this.message.textContent = tooltip;\n",
       "};\n",
       "mpl.toolbar_items = [[\"Home\", \"Reset original view\", \"fa fa-home icon-home\", \"home\"], [\"Back\", \"Back to previous view\", \"fa fa-arrow-left icon-arrow-left\", \"back\"], [\"Forward\", \"Forward to next view\", \"fa fa-arrow-right icon-arrow-right\", \"forward\"], [\"\", \"\", \"\", \"\"], [\"Pan\", \"Pan axes with left mouse, zoom with right\", \"fa fa-arrows icon-move\", \"pan\"], [\"Zoom\", \"Zoom to rectangle\", \"fa fa-square-o icon-check-empty\", \"zoom\"], [\"\", \"\", \"\", \"\"], [\"Download\", \"Download plot\", \"fa fa-floppy-o icon-save\", \"download\"]];\n",
       "\n",
       "mpl.extensions = [\"eps\", \"jpeg\", \"pdf\", \"png\", \"ps\", \"raw\", \"svg\", \"tif\"];\n",
       "\n",
       "mpl.default_extension = \"png\";var comm_websocket_adapter = function(comm) {\n",
       "    // Create a \"websocket\"-like object which calls the given IPython comm\n",
       "    // object with the appropriate methods. Currently this is a non binary\n",
       "    // socket, so there is still some room for performance tuning.\n",
       "    var ws = {};\n",
       "\n",
       "    ws.close = function() {\n",
       "        comm.close()\n",
       "    };\n",
       "    ws.send = function(m) {\n",
       "        //console.log('sending', m);\n",
       "        comm.send(m);\n",
       "    };\n",
       "    // Register the callback with on_msg.\n",
       "    comm.on_msg(function(msg) {\n",
       "        //console.log('receiving', msg['content']['data'], msg);\n",
       "        // Pass the mpl event to the overridden (by mpl) onmessage function.\n",
       "        ws.onmessage(msg['content']['data'])\n",
       "    });\n",
       "    return ws;\n",
       "}\n",
       "\n",
       "mpl.mpl_figure_comm = function(comm, msg) {\n",
       "    // This is the function which gets called when the mpl process\n",
       "    // starts-up an IPython Comm through the \"matplotlib\" channel.\n",
       "\n",
       "    var id = msg.content.data.id;\n",
       "    // Get hold of the div created by the display call when the Comm\n",
       "    // socket was opened in Python.\n",
       "    var element = $(\"#\" + id);\n",
       "    var ws_proxy = comm_websocket_adapter(comm)\n",
       "\n",
       "    function ondownload(figure, format) {\n",
       "        window.open(figure.imageObj.src);\n",
       "    }\n",
       "\n",
       "    var fig = new mpl.figure(id, ws_proxy,\n",
       "                           ondownload,\n",
       "                           element.get(0));\n",
       "\n",
       "    // Call onopen now - mpl needs it, as it is assuming we've passed it a real\n",
       "    // web socket which is closed, not our websocket->open comm proxy.\n",
       "    ws_proxy.onopen();\n",
       "\n",
       "    fig.parent_element = element.get(0);\n",
       "    fig.cell_info = mpl.find_output_cell(\"<div id='\" + id + \"'></div>\");\n",
       "    if (!fig.cell_info) {\n",
       "        console.error(\"Failed to find cell for figure\", id, fig);\n",
       "        return;\n",
       "    }\n",
       "\n",
       "    var output_index = fig.cell_info[2]\n",
       "    var cell = fig.cell_info[0];\n",
       "\n",
       "};\n",
       "\n",
       "mpl.figure.prototype.handle_close = function(fig, msg) {\n",
       "    var width = fig.canvas.width/mpl.ratio\n",
       "    fig.root.unbind('remove')\n",
       "\n",
       "    // Update the output cell to use the data from the current canvas.\n",
       "    fig.push_to_output();\n",
       "    var dataURL = fig.canvas.toDataURL();\n",
       "    // Re-enable the keyboard manager in IPython - without this line, in FF,\n",
       "    // the notebook keyboard shortcuts fail.\n",
       "    IPython.keyboard_manager.enable()\n",
       "    $(fig.parent_element).html('<img src=\"' + dataURL + '\" width=\"' + width + '\">');\n",
       "    fig.close_ws(fig, msg);\n",
       "}\n",
       "\n",
       "mpl.figure.prototype.close_ws = function(fig, msg){\n",
       "    fig.send_message('closing', msg);\n",
       "    // fig.ws.close()\n",
       "}\n",
       "\n",
       "mpl.figure.prototype.push_to_output = function(remove_interactive) {\n",
       "    // Turn the data on the canvas into data in the output cell.\n",
       "    var width = this.canvas.width/mpl.ratio\n",
       "    var dataURL = this.canvas.toDataURL();\n",
       "    this.cell_info[1]['text/html'] = '<img src=\"' + dataURL + '\" width=\"' + width + '\">';\n",
       "}\n",
       "\n",
       "mpl.figure.prototype.updated_canvas_event = function() {\n",
       "    // Tell IPython that the notebook contents must change.\n",
       "    IPython.notebook.set_dirty(true);\n",
       "    this.send_message(\"ack\", {});\n",
       "    var fig = this;\n",
       "    // Wait a second, then push the new image to the DOM so\n",
       "    // that it is saved nicely (might be nice to debounce this).\n",
       "    setTimeout(function () { fig.push_to_output() }, 1000);\n",
       "}\n",
       "\n",
       "mpl.figure.prototype._init_toolbar = function() {\n",
       "    var fig = this;\n",
       "\n",
       "    var nav_element = $('<div/>');\n",
       "    nav_element.attr('style', 'width: 100%');\n",
       "    this.root.append(nav_element);\n",
       "\n",
       "    // Define a callback function for later on.\n",
       "    function toolbar_event(event) {\n",
       "        return fig.toolbar_button_onclick(event['data']);\n",
       "    }\n",
       "    function toolbar_mouse_event(event) {\n",
       "        return fig.toolbar_button_onmouseover(event['data']);\n",
       "    }\n",
       "\n",
       "    for(var toolbar_ind in mpl.toolbar_items){\n",
       "        var name = mpl.toolbar_items[toolbar_ind][0];\n",
       "        var tooltip = mpl.toolbar_items[toolbar_ind][1];\n",
       "        var image = mpl.toolbar_items[toolbar_ind][2];\n",
       "        var method_name = mpl.toolbar_items[toolbar_ind][3];\n",
       "\n",
       "        if (!name) { continue; };\n",
       "\n",
       "        var button = $('<button class=\"btn btn-default\" href=\"#\" title=\"' + name + '\"><i class=\"fa ' + image + ' fa-lg\"></i></button>');\n",
       "        button.click(method_name, toolbar_event);\n",
       "        button.mouseover(tooltip, toolbar_mouse_event);\n",
       "        nav_element.append(button);\n",
       "    }\n",
       "\n",
       "    // Add the status bar.\n",
       "    var status_bar = $('<span class=\"mpl-message\" style=\"text-align:right; float: right;\"/>');\n",
       "    nav_element.append(status_bar);\n",
       "    this.message = status_bar[0];\n",
       "\n",
       "    // Add the close button to the window.\n",
       "    var buttongrp = $('<div class=\"btn-group inline pull-right\"></div>');\n",
       "    var button = $('<button class=\"btn btn-mini btn-primary\" href=\"#\" title=\"Stop Interaction\"><i class=\"fa fa-power-off icon-remove icon-large\"></i></button>');\n",
       "    button.click(function (evt) { fig.handle_close(fig, {}); } );\n",
       "    button.mouseover('Stop Interaction', toolbar_mouse_event);\n",
       "    buttongrp.append(button);\n",
       "    var titlebar = this.root.find($('.ui-dialog-titlebar'));\n",
       "    titlebar.prepend(buttongrp);\n",
       "}\n",
       "\n",
       "mpl.figure.prototype._root_extra_style = function(el){\n",
       "    var fig = this\n",
       "    el.on(\"remove\", function(){\n",
       "\tfig.close_ws(fig, {});\n",
       "    });\n",
       "}\n",
       "\n",
       "mpl.figure.prototype._canvas_extra_style = function(el){\n",
       "    // this is important to make the div 'focusable\n",
       "    el.attr('tabindex', 0)\n",
       "    // reach out to IPython and tell the keyboard manager to turn it's self\n",
       "    // off when our div gets focus\n",
       "\n",
       "    // location in version 3\n",
       "    if (IPython.notebook.keyboard_manager) {\n",
       "        IPython.notebook.keyboard_manager.register_events(el);\n",
       "    }\n",
       "    else {\n",
       "        // location in version 2\n",
       "        IPython.keyboard_manager.register_events(el);\n",
       "    }\n",
       "\n",
       "}\n",
       "\n",
       "mpl.figure.prototype._key_event_extra = function(event, name) {\n",
       "    var manager = IPython.notebook.keyboard_manager;\n",
       "    if (!manager)\n",
       "        manager = IPython.keyboard_manager;\n",
       "\n",
       "    // Check for shift+enter\n",
       "    if (event.shiftKey && event.which == 13) {\n",
       "        this.canvas_div.blur();\n",
       "        event.shiftKey = false;\n",
       "        // Send a \"J\" for go to next cell\n",
       "        event.which = 74;\n",
       "        event.keyCode = 74;\n",
       "        manager.command_mode();\n",
       "        manager.handle_keydown(event);\n",
       "    }\n",
       "}\n",
       "\n",
       "mpl.figure.prototype.handle_save = function(fig, msg) {\n",
       "    fig.ondownload(fig, null);\n",
       "}\n",
       "\n",
       "\n",
       "mpl.find_output_cell = function(html_output) {\n",
       "    // Return the cell and output element which can be found *uniquely* in the notebook.\n",
       "    // Note - this is a bit hacky, but it is done because the \"notebook_saving.Notebook\"\n",
       "    // IPython event is triggered only after the cells have been serialised, which for\n",
       "    // our purposes (turning an active figure into a static one), is too late.\n",
       "    var cells = IPython.notebook.get_cells();\n",
       "    var ncells = cells.length;\n",
       "    for (var i=0; i<ncells; i++) {\n",
       "        var cell = cells[i];\n",
       "        if (cell.cell_type === 'code'){\n",
       "            for (var j=0; j<cell.output_area.outputs.length; j++) {\n",
       "                var data = cell.output_area.outputs[j];\n",
       "                if (data.data) {\n",
       "                    // IPython >= 3 moved mimebundle to data attribute of output\n",
       "                    data = data.data;\n",
       "                }\n",
       "                if (data['text/html'] == html_output) {\n",
       "                    return [cell, data, j];\n",
       "                }\n",
       "            }\n",
       "        }\n",
       "    }\n",
       "}\n",
       "\n",
       "// Register the function which deals with the matplotlib target/channel.\n",
       "// The kernel may be null if the page has been refreshed.\n",
       "if (IPython.notebook.kernel != null) {\n",
       "    IPython.notebook.kernel.comm_manager.register_target('matplotlib', mpl.mpl_figure_comm);\n",
       "}\n"
      ],
      "text/plain": [
       "<IPython.core.display.Javascript object>"
      ]
     },
     "metadata": {},
     "output_type": "display_data"
    },
    {
     "data": {
      "text/html": [
       "<img src=\"data:image/png;base64,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\" width=\"500\">"
      ],
      "text/plain": [
       "<IPython.core.display.HTML object>"
      ]
     },
     "metadata": {},
     "output_type": "display_data"
    },
    {
     "name": "stdout",
     "output_type": "stream",
     "text": [
      "Options:\n",
      "L is pulse height at dx.\n",
      "Select x to display orbital.\n"
     ]
    },
    {
     "data": {
      "application/vnd.jupyter.widget-view+json": {
       "model_id": "8979017223f64c2fa4ec55b6c967fa2e",
       "version_major": 2,
       "version_minor": 0
      },
      "text/plain": [
       "interactive(children=(Dropdown(description='$\\\\Delta x$', index=2, options=(0.1, 0.15, 0.2, 0.25, 0.3, 0.35, 0…"
      ]
     },
     "metadata": {},
     "output_type": "display_data"
    }
   ],
   "source": [
    "x = np.linspace(0, 101, 200002)\n",
    "fig, ax2 = plt.subplots(1, figsize=(5, 5))\n",
    "plt.suptitle('$\\sigma_{0}$ Orbitals Of Divisors')\n",
    "\n",
    "def update_plot(dx2, L2, sx):\n",
    "    \n",
    "\n",
    "    xf=x[int(200002*(sx-0.5)/101):int(200002*(sx+0.5)/101)]\n",
    "    \n",
    "    ax2.clear()\n",
    "    \n",
    "    reD=[0]*200002\n",
    "    imD=[0]*200002\n",
    "    \n",
    "    wave2=list(range(2,101))\n",
    "    \n",
    "    for w2 in wave2:\n",
    "  \n",
    "        N2=-2*(w2**2)*np.log(L2)/((np.pi**2)*(dx2**2))\n",
    "        N2=2*round(0.5*N2,0)\n",
    "        \n",
    "        reDw = ((np.cos(xf*np.pi/w2))**N2)*(np.cos(np.pi*N2*xf/w2))\n",
    "        imDw = (-(np.cos(xf*np.pi/w2))**N2)*(np.sin(np.pi*N2*xf/w2))\n",
    "        \n",
    "        reD=list(map(add, reD, reDw))\n",
    "        imD=list(map(add, imD, imDw))\n",
    "        \n",
    "    units2 = '$\\Delta x$ = {} \\nL = {} \\nx = {}'\n",
    "    \n",
    "    countD=max(reD)\n",
    " \n",
    "    ax2.plot(reD, imD, label=units2.format(dx2, L2, sx))\n",
    "    ax2.legend(loc=1)\n",
    "    ax2.set_xlabel('$\\Re (\\sigma_{0})$')\n",
    "    ax2.set_ylabel('$\\Im (\\sigma_{0})$')\n",
    "    ax2.axis([-(countD+0.5), (countD+0.5), -(countD+0.5),(countD+0.5)])\n",
    "    ax2.plot([countD],[0], color='purple', marker='o')\n",
    "    plt.grid(b=True, which='major', color='#666666', linestyle='-')\n",
    "    plt.show()\n",
    "\n",
    "print(\"Options:\")\n",
    "print(\"L is pulse height at dx.\")\n",
    "print(\"Select x to display orbital.\")\n",
    "\n",
    "#dx2 = widgets.FloatSlider(min=0.15, max=0.99, value=0.2, step=0.01, description='$\\Delta x$:')\n",
    "dx2 = widgets.Dropdown(options=[0.10,0.15, 0.20,0.25,0.30,0.35,0.40,0.45,0.5], value=0.2, description='$\\Delta x$')  \n",
    "\n",
    "#L2 = widgets.FloatSlider(min=0.15, max=0.99, value=0.5, step=0.01, description='L')\n",
    "L2 = widgets.Dropdown(options=[0.10,0.15, 0.20,0.25,0.30,0.35,0.40,0.45,0.5], value=0.5, description='$L$') \n",
    "\n",
    "sx = widgets.Dropdown(options=list(range(2,101)), description='$x$')   \n",
    "\n",
    "widgets.interactive(update_plot, dx2=dx2, L2=L2, sx=sx)\n",
    "\n"
   ]
  },
  {
   "cell_type": "markdown",
   "metadata": {},
   "source": [
    "# Higher Order Wave Divisor  Function: $\\sigma_{m}(x)$\n",
    "\n",
    "The wave divisor function can be expressed to determine higher order solutions $\\sigma_{m}(x)$. The n choose k notation will look like:\n",
    "\n",
    "$$\\large \\sigma_{m}(x)=\\sum_{\\mathbb{X}=2}^{\\infty} \\mathbb{X}^{m} \\space 2^{(-N)} \\sum_{k=0}^{N} \\binom{N}{k} e^{-i\\left( \\frac{\\pi}{\\mathbb{X}}x \\right)}  $$\n",
    "\n",
    "The trigiometric formulation.\n",
    "\n",
    "$$\\large \\Re(\\sigma_{m})=\\sum_{\\mathbb{X}=2}^{\\infty} \\mathbb{X}^{m} \\cos^{N} \\left( \\frac{\\pi}{\\mathbb{X}}x \\right) \\cos \\left( \\frac{N\\pi}{\\mathbb{X}}x  \\right) $$\n",
    "\n",
    "$$\\large \\Im(\\sigma_{m})=-i \\sum_{\\mathbb{X}=2}^{\\infty} \\mathbb{X}^{m} \\cos^{N} \\left( \\frac{\\pi}{\\mathbb{X}}x \\right) \\sin \\left( \\frac{N\\pi}{\\mathbb{X}}x  \\right) $$\n",
    "\n",
    "The error in the higher order divisor function has not been determined yet.\n"
   ]
  },
  {
   "cell_type": "code",
   "execution_count": null,
   "metadata": {},
   "outputs": [],
   "source": []
  },
  {
   "cell_type": "code",
   "execution_count": null,
   "metadata": {},
   "outputs": [],
   "source": []
  },
  {
   "cell_type": "code",
   "execution_count": null,
   "metadata": {},
   "outputs": [],
   "source": []
  }
 ],
 "metadata": {
  "kernelspec": {
   "display_name": "Python 3",
   "language": "python",
   "name": "python3"
  },
  "language_info": {
   "codemirror_mode": {
    "name": "ipython",
    "version": 3
   },
   "file_extension": ".py",
   "mimetype": "text/x-python",
   "name": "python",
   "nbconvert_exporter": "python",
   "pygments_lexer": "ipython3",
   "version": "3.7.3"
  },
  "widgets": {
   "application/vnd.jupyter.widget-state+json": {
    "state": {
     "0046e98bc0d04c6caac5833c70723bdc": {
      "model_module": "@jupyter-widgets/base",
      "model_module_version": "1.2.0",
      "model_name": "LayoutModel",
      "state": {}
     },
     "00e4ed24b1ab42529c03994b9df0fc6a": {
      "model_module": "@jupyter-widgets/base",
      "model_module_version": "1.2.0",
      "model_name": "LayoutModel",
      "state": {}
     },
     "0125fd539e2b400f9d50f848acba5d63": {
      "model_module": "@jupyter-widgets/base",
      "model_module_version": "1.2.0",
      "model_name": "LayoutModel",
      "state": {}
     },
     "017e1ad26ba74538bec7f4958e9bee36": {
      "model_module": "@jupyter-widgets/base",
      "model_module_version": "1.2.0",
      "model_name": "LayoutModel",
      "state": {}
     },
     "01969237ff0c47419edc3b97cbbcfd38": {
      "model_module": "@jupyter-widgets/base",
      "model_module_version": "1.2.0",
      "model_name": "LayoutModel",
      "state": {}
     },
     "01a5d9212615412585f47cfd62805efe": {
      "model_module": "@jupyter-widgets/base",
      "model_module_version": "1.2.0",
      "model_name": "LayoutModel",
      "state": {}
     },
     "01c90ee7124e4e32b1cafbb85e601d78": {
      "model_module": "@jupyter-widgets/controls",
      "model_module_version": "1.5.0",
      "model_name": "FloatSliderModel",
      "state": {
       "description": "$\\Delta x$:",
       "layout": "IPY_MODEL_8bc64dc7bbf84bb5a235f27793d8dddd",
       "max": 0.99,
       "min": 0.15,
       "step": 0.01,
       "style": "IPY_MODEL_7ec7612849cb48a5a31b488100bb37ae",
       "value": 0.25
      }
     },
     "01ce281f14cd45edaa492c9c3e563daf": {
      "model_module": "@jupyter-widgets/base",
      "model_module_version": "1.2.0",
      "model_name": "LayoutModel",
      "state": {}
     },
     "02625562366f46e994fdd6092fa284c8": {
      "model_module": "@jupyter-widgets/base",
      "model_module_version": "1.2.0",
      "model_name": "LayoutModel",
      "state": {}
     },
     "02ae3d87739d4ed186c18f36c4020a6c": {
      "model_module": "@jupyter-widgets/base",
      "model_module_version": "1.2.0",
      "model_name": "LayoutModel",
      "state": {}
     },
     "039466289ffb4cd59a07a9db594d8749": {
      "model_module": "@jupyter-widgets/base",
      "model_module_version": "1.2.0",
      "model_name": "LayoutModel",
      "state": {}
     },
     "03a2cf5de9b04e418f2dbddd947973b1": {
      "model_module": "@jupyter-widgets/base",
      "model_module_version": "1.2.0",
      "model_name": "LayoutModel",
      "state": {}
     },
     "0408c9cbdcb74c4d959c44099d3903dd": {
      "model_module": "@jupyter-widgets/base",
      "model_module_version": "1.2.0",
      "model_name": "LayoutModel",
      "state": {}
     },
     "042986367d854f7fb639ad71c4ff6807": {
      "model_module": "@jupyter-widgets/base",
      "model_module_version": "1.2.0",
      "model_name": "LayoutModel",
      "state": {}
     },
     "04ab000ce1dc4b67bd391867ff49334e": {
      "model_module": "@jupyter-widgets/base",
      "model_module_version": "1.2.0",
      "model_name": "LayoutModel",
      "state": {}
     },
     "050fc5b414854a81b76c8ffc27647c79": {
      "model_module": "@jupyter-widgets/controls",
      "model_module_version": "1.5.0",
      "model_name": "DescriptionStyleModel",
      "state": {
       "description_width": ""
      }
     },
     "052f68204f2e447f8d6290eee8a2b301": {
      "model_module": "@jupyter-widgets/controls",
      "model_module_version": "1.5.0",
      "model_name": "VBoxModel",
      "state": {
       "_dom_classes": [
        "widget-interact"
       ],
       "children": [
        "IPY_MODEL_d62840cc9bd8409da99c0925be27b74e",
        "IPY_MODEL_84d73f3ebd5f4dd9ad091ae3366e249b",
        "IPY_MODEL_90651526961f46099e4d1d958d147d3f",
        "IPY_MODEL_950ab6ca0a454149a39d6807077b4be9"
       ],
       "layout": "IPY_MODEL_ac895a9f0f5040a993d1295d0935bab1"
      }
     },
     "055cdc2f026944deac50272c82dd73c8": {
      "model_module": "@jupyter-widgets/controls",
      "model_module_version": "1.5.0",
      "model_name": "SliderStyleModel",
      "state": {
       "description_width": ""
      }
     },
     "05dd6efb34674a8d8a27f65c7c5453de": {
      "model_module": "@jupyter-widgets/controls",
      "model_module_version": "1.5.0",
      "model_name": "VBoxModel",
      "state": {
       "_dom_classes": [
        "widget-interact"
       ],
       "children": [
        "IPY_MODEL_6a545d0336174021a17d8e92da14df7c",
        "IPY_MODEL_6cdfb388ab8844828b55637c56e34808",
        "IPY_MODEL_474fef451b4349eda7994cf7a21887bc",
        "IPY_MODEL_c4613a1d355c4919940db9b5f2cc1c50"
       ],
       "layout": "IPY_MODEL_4f414ef95f9a46c398f128b74aba3c4a"
      }
     },
     "05fdbe57d60649eea6e790a4086e847d": {
      "model_module": "@jupyter-widgets/base",
      "model_module_version": "1.2.0",
      "model_name": "LayoutModel",
      "state": {}
     },
     "061f8004c707450a8a1176e0efc9ef6e": {
      "model_module": "@jupyter-widgets/controls",
      "model_module_version": "1.5.0",
      "model_name": "DropdownModel",
      "state": {
       "_options_labels": [
        "0.1",
        "0.1473684210526316",
        "0.19473684210526315",
        "0.24210526315789474",
        "0.2894736842105263",
        "0.33684210526315794",
        "0.38421052631578945",
        "0.43157894736842106",
        "0.4789473684210527",
        "0.5263157894736842",
        "0.5736842105263158",
        "0.6210526315789474",
        "0.6684210526315789",
        "0.7157894736842105",
        "0.7631578947368421",
        "0.8105263157894737",
        "0.8578947368421053",
        "0.9052631578947369",
        "0.9526315789473684",
        "1.0"
       ],
       "description": "$\\Delta x$",
       "index": 10,
       "layout": "IPY_MODEL_faad4008694b4a748c9cd27949b9b4e7",
       "style": "IPY_MODEL_798ee19e204a45888c80e851d498cecf"
      }
     },
     "0663461657ca400489fc216bd9ea087e": {
      "model_module": "@jupyter-widgets/base",
      "model_module_version": "1.2.0",
      "model_name": "LayoutModel",
      "state": {}
     },
     "06be43d023ad46cd82a0270cd4abcda3": {
      "model_module": "@jupyter-widgets/base",
      "model_module_version": "1.2.0",
      "model_name": "LayoutModel",
      "state": {}
     },
     "080c65e4dcf44c4bbcfd9b410a40d60f": {
      "model_module": "@jupyter-widgets/controls",
      "model_module_version": "1.5.0",
      "model_name": "SliderStyleModel",
      "state": {
       "description_width": ""
      }
     },
     "083356cf4f8b4d959a8ef183162bc0cd": {
      "model_module": "@jupyter-widgets/output",
      "model_module_version": "1.0.0",
      "model_name": "OutputModel",
      "state": {
       "layout": "IPY_MODEL_9dcf09ce2e9e4761b0872cf1fca3e59a",
       "msg_id": "d3589f3135cd4b9e8e1a941f7daa008b"
      }
     },
     "08854d5b3f7248ccbd84eb6ec7bd0923": {
      "model_module": "@jupyter-widgets/controls",
      "model_module_version": "1.5.0",
      "model_name": "DescriptionStyleModel",
      "state": {
       "description_width": ""
      }
     },
     "08e7944d794d46f5878e69fee00a11e2": {
      "model_module": "@jupyter-widgets/base",
      "model_module_version": "1.2.0",
      "model_name": "LayoutModel",
      "state": {}
     },
     "092da86421464a3aa56a26bf93c62c1c": {
      "model_module": "@jupyter-widgets/output",
      "model_module_version": "1.0.0",
      "model_name": "OutputModel",
      "state": {
       "layout": "IPY_MODEL_42ac1a62c83647728ab3238c7b571ebe",
       "outputs": [
        {
         "data": {
          "image/png": "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\n",
          "text/plain": "<Figure size 432x288 with 1 Axes>"
         },
         "metadata": {
          "needs_background": "light"
         },
         "output_type": "display_data"
        }
       ]
      }
     },
     "0991b647e58b47fb8eb3736ad6b25937": {
      "model_module": "@jupyter-widgets/controls",
      "model_module_version": "1.5.0",
      "model_name": "FloatSliderModel",
      "state": {
       "description": "L",
       "layout": "IPY_MODEL_5aa40198843043c490bccd47464cd6cc",
       "max": 0.99,
       "min": 0.15,
       "step": 0.01,
       "style": "IPY_MODEL_3e01b8c5c1194d8585830864762121b1",
       "value": 0.5
      }
     },
     "09d8139e69fe426493ab75e794d55952": {
      "model_module": "@jupyter-widgets/controls",
      "model_module_version": "1.5.0",
      "model_name": "DropdownModel",
      "state": {
       "_options_labels": [
        "2",
        "3",
        "4",
        "5",
        "6",
        "7",
        "8",
        "9",
        "10",
        "11",
        "12",
        "13",
        "14",
        "15",
        "16",
        "17",
        "18",
        "19",
        "20",
        "21",
        "22",
        "23",
        "24",
        "25",
        "26",
        "27",
        "28",
        "29",
        "30",
        "31",
        "32",
        "33",
        "34",
        "35",
        "36",
        "37",
        "38",
        "39",
        "40",
        "41",
        "42",
        "43",
        "44",
        "45",
        "46",
        "47",
        "48",
        "49",
        "50"
       ],
       "description": "$x$",
       "index": 0,
       "layout": "IPY_MODEL_9b252b7c7a8847e6a410d3c5b932418d",
       "style": "IPY_MODEL_3edb347e157a4a97a6668ee45812dd71"
      }
     },
     "0a318905e0f548f7a1503c3d537833bd": {
      "model_module": "@jupyter-widgets/base",
      "model_module_version": "1.2.0",
      "model_name": "LayoutModel",
      "state": {}
     },
     "0a90826286a547b3a7285435fcd18118": {
      "model_module": "@jupyter-widgets/base",
      "model_module_version": "1.2.0",
      "model_name": "LayoutModel",
      "state": {}
     },
     "0adbf154d7704e219071c763005e0f0e": {
      "model_module": "@jupyter-widgets/base",
      "model_module_version": "1.2.0",
      "model_name": "LayoutModel",
      "state": {}
     },
     "0cbd0e78152446ada5533273e4200df1": {
      "model_module": "@jupyter-widgets/base",
      "model_module_version": "1.2.0",
      "model_name": "LayoutModel",
      "state": {}
     },
     "0ccbabc1726042e2b15c381478e1138d": {
      "model_module": "@jupyter-widgets/controls",
      "model_module_version": "1.5.0",
      "model_name": "VBoxModel",
      "state": {
       "_dom_classes": [
        "widget-interact"
       ],
       "children": [
        "IPY_MODEL_061f8004c707450a8a1176e0efc9ef6e",
        "IPY_MODEL_d1f3cc938cf14c028c7796958e8f5d17",
        "IPY_MODEL_c997bb92829a4cc7908228ef86bc88b1",
        "IPY_MODEL_dfef66136ef94af2954ed1b77631e087"
       ],
       "layout": "IPY_MODEL_49526e2c51a1410494fdbc1636656e5f"
      }
     },
     "0cec9bcbc78b469f873593864be5a94a": {
      "model_module": "@jupyter-widgets/controls",
      "model_module_version": "1.5.0",
      "model_name": "DescriptionStyleModel",
      "state": {
       "description_width": ""
      }
     },
     "0d52a999ad6a4aa6b173441e423bad92": {
      "model_module": "@jupyter-widgets/controls",
      "model_module_version": "1.5.0",
      "model_name": "FloatSliderModel",
      "state": {
       "description": "L",
       "layout": "IPY_MODEL_1adba64eaa4f479b982aeda6b65640ea",
       "max": 0.99,
       "min": 0.15,
       "step": 0.01,
       "style": "IPY_MODEL_f4c9ec5b3e0b411e8a9a78f86d476d2c",
       "value": 0.5
      }
     },
     "0edeaa40ca04496f9e3f26bf75cd1f61": {
      "model_module": "@jupyter-widgets/output",
      "model_module_version": "1.0.0",
      "model_name": "OutputModel",
      "state": {
       "layout": "IPY_MODEL_6c502e6d10ea414891b965d868d9df0b"
      }
     },
     "0ee73ea5cdb8415488698e3cf469f223": {
      "model_module": "@jupyter-widgets/controls",
      "model_module_version": "1.5.0",
      "model_name": "SliderStyleModel",
      "state": {
       "description_width": ""
      }
     },
     "0f2166460a4241e09e53a8287bd58912": {
      "model_module": "@jupyter-widgets/controls",
      "model_module_version": "1.5.0",
      "model_name": "DescriptionStyleModel",
      "state": {
       "description_width": ""
      }
     },
     "0f261c54f5634b35b21afb38653ae1d5": {
      "model_module": "@jupyter-widgets/base",
      "model_module_version": "1.2.0",
      "model_name": "LayoutModel",
      "state": {}
     },
     "0fb1feebf360444ea06bdcee1ec66b2b": {
      "model_module": "@jupyter-widgets/output",
      "model_module_version": "1.0.0",
      "model_name": "OutputModel",
      "state": {
       "layout": "IPY_MODEL_87163de4be714c68bed6c45f5ee14f4f"
      }
     },
     "0ffaa0b204d742bcb4c133d8588dc1de": {
      "model_module": "@jupyter-widgets/base",
      "model_module_version": "1.2.0",
      "model_name": "LayoutModel",
      "state": {}
     },
     "0ffe029d37bb4bb9a2ccc65b5effe47f": {
      "model_module": "@jupyter-widgets/controls",
      "model_module_version": "1.5.0",
      "model_name": "DescriptionStyleModel",
      "state": {
       "description_width": ""
      }
     },
     "106ee41718f344998f53b3430f29f56a": {
      "model_module": "@jupyter-widgets/base",
      "model_module_version": "1.2.0",
      "model_name": "LayoutModel",
      "state": {}
     },
     "110d1d99e86047b08011514197a68834": {
      "model_module": "@jupyter-widgets/controls",
      "model_module_version": "1.5.0",
      "model_name": "DescriptionStyleModel",
      "state": {
       "description_width": ""
      }
     },
     "117aba65946c47e98bbb979f34e44aa5": {
      "model_module": "@jupyter-widgets/controls",
      "model_module_version": "1.5.0",
      "model_name": "SliderStyleModel",
      "state": {
       "description_width": ""
      }
     },
     "1220ec8527a341a4817660c605b940db": {
      "model_module": "@jupyter-widgets/controls",
      "model_module_version": "1.5.0",
      "model_name": "FloatSliderModel",
      "state": {
       "description": "L",
       "layout": "IPY_MODEL_84262afb2e4d4aa5ab1c8cc6ccf7d41f",
       "max": 0.99,
       "min": 0.15,
       "step": 0.01,
       "style": "IPY_MODEL_ca1d559805cd4344a2079bcf94d92dc5",
       "value": 0.5
      }
     },
     "1294ccebdde24407b5c3ce4684bc58a2": {
      "model_module": "@jupyter-widgets/base",
      "model_module_version": "1.2.0",
      "model_name": "LayoutModel",
      "state": {}
     },
     "12a28f7bd72d4bd0993faca6eb7f0ae2": {
      "model_module": "@jupyter-widgets/output",
      "model_module_version": "1.0.0",
      "model_name": "OutputModel",
      "state": {
       "layout": "IPY_MODEL_5a2f666dfd5c45528654cb1465dae986"
      }
     },
     "12b26bb7988f455bb0ba3e008da1b5a0": {
      "model_module": "@jupyter-widgets/controls",
      "model_module_version": "1.5.0",
      "model_name": "SliderStyleModel",
      "state": {
       "description_width": ""
      }
     },
     "130894663cf94faeb6b37860b3a6a3b9": {
      "model_module": "@jupyter-widgets/base",
      "model_module_version": "1.2.0",
      "model_name": "LayoutModel",
      "state": {}
     },
     "14b7193ba5ca4a2aa6db9b0f01f5da09": {
      "model_module": "@jupyter-widgets/controls",
      "model_module_version": "1.5.0",
      "model_name": "FloatSliderModel",
      "state": {
       "description": "$\\Delta x$:",
       "layout": "IPY_MODEL_cd9fe25a51884aacb4f38e92c2701a96",
       "max": 0.99,
       "min": 0.15,
       "step": 0.01,
       "style": "IPY_MODEL_0ee73ea5cdb8415488698e3cf469f223",
       "value": 0.25
      }
     },
     "14c6cb3cfbb54d42a1b78fd98de349e7": {
      "model_module": "@jupyter-widgets/base",
      "model_module_version": "1.2.0",
      "model_name": "LayoutModel",
      "state": {}
     },
     "15398ebf6ae44b4d869860f759402a7d": {
      "model_module": "@jupyter-widgets/output",
      "model_module_version": "1.0.0",
      "model_name": "OutputModel",
      "state": {
       "layout": "IPY_MODEL_05fdbe57d60649eea6e790a4086e847d"
      }
     },
     "15be5552411d4c11939f59f0d1d80b77": {
      "model_module": "@jupyter-widgets/base",
      "model_module_version": "1.2.0",
      "model_name": "LayoutModel",
      "state": {}
     },
     "160e787ea45141708501da1ac634354f": {
      "model_module": "@jupyter-widgets/controls",
      "model_module_version": "1.5.0",
      "model_name": "FloatSliderModel",
      "state": {
       "description": "$\\Delta x$:",
       "layout": "IPY_MODEL_c6d6327fb0e24bb197c06ac287548e96",
       "max": 0.99,
       "min": 0.15,
       "step": 0.01,
       "style": "IPY_MODEL_a23667c983b5445aa4b42077a6a1bc64",
       "value": 0.25
      }
     },
     "16e847f562d44493859d252ee0d8b847": {
      "model_module": "@jupyter-widgets/base",
      "model_module_version": "1.2.0",
      "model_name": "LayoutModel",
      "state": {}
     },
     "172ed42c7fc0491d8d2e89bc1a3703b9": {
      "model_module": "@jupyter-widgets/base",
      "model_module_version": "1.2.0",
      "model_name": "LayoutModel",
      "state": {}
     },
     "180f4606d1ff437c889152c36a8754fa": {
      "model_module": "@jupyter-widgets/controls",
      "model_module_version": "1.5.0",
      "model_name": "DescriptionStyleModel",
      "state": {
       "description_width": ""
      }
     },
     "1991d95deaa3498fa4fcb1f653baeaf5": {
      "model_module": "@jupyter-widgets/controls",
      "model_module_version": "1.5.0",
      "model_name": "DropdownModel",
      "state": {
       "_options_labels": [
        "2",
        "3",
        "4",
        "5",
        "6",
        "7",
        "8",
        "9",
        "10",
        "11",
        "12",
        "13",
        "14",
        "15",
        "16",
        "17",
        "18",
        "19",
        "20",
        "21",
        "22",
        "23",
        "24",
        "25",
        "26",
        "27",
        "28",
        "29",
        "30",
        "31",
        "32",
        "33",
        "34",
        "35",
        "36",
        "37",
        "38",
        "39",
        "40",
        "41",
        "42",
        "43",
        "44",
        "45",
        "46",
        "47",
        "48",
        "49",
        "50"
       ],
       "description": "$x$",
       "index": 0,
       "layout": "IPY_MODEL_4cf45ca938e04d42b1d993733051c244",
       "style": "IPY_MODEL_1ac72afbfdf7490fa7ccdb5eea282883"
      }
     },
     "1aa1183a053e448c9efbc09d121b6a3f": {
      "model_module": "@jupyter-widgets/controls",
      "model_module_version": "1.5.0",
      "model_name": "SliderStyleModel",
      "state": {
       "description_width": ""
      }
     },
     "1ab001ae428249c4bf6840f0a46d1206": {
      "model_module": "@jupyter-widgets/controls",
      "model_module_version": "1.5.0",
      "model_name": "VBoxModel",
      "state": {
       "_dom_classes": [
        "widget-interact"
       ],
       "children": [
        "IPY_MODEL_7d39729d29af4961a128cf8c5fdb2473",
        "IPY_MODEL_edc5c993a4f54b41b5c9c8427ccd4594",
        "IPY_MODEL_6aaab2e3c991430093bf2808daac1414",
        "IPY_MODEL_8e01e19258984ecb94e445700f2345fc"
       ],
       "layout": "IPY_MODEL_5711b1e640ad438f964dfd224ed4f7d5"
      }
     },
     "1ac72afbfdf7490fa7ccdb5eea282883": {
      "model_module": "@jupyter-widgets/controls",
      "model_module_version": "1.5.0",
      "model_name": "DescriptionStyleModel",
      "state": {
       "description_width": ""
      }
     },
     "1acab8abb9da4d8989ea5facb0511f09": {
      "model_module": "@jupyter-widgets/output",
      "model_module_version": "1.0.0",
      "model_name": "OutputModel",
      "state": {
       "layout": "IPY_MODEL_5c2070da60994839b7260a90e09e60d6"
      }
     },
     "1adba64eaa4f479b982aeda6b65640ea": {
      "model_module": "@jupyter-widgets/base",
      "model_module_version": "1.2.0",
      "model_name": "LayoutModel",
      "state": {}
     },
     "1addbfa195334536a12a1bb83addce97": {
      "model_module": "@jupyter-widgets/base",
      "model_module_version": "1.2.0",
      "model_name": "LayoutModel",
      "state": {}
     },
     "1b6b7a6070834910b334c4360259ba16": {
      "model_module": "@jupyter-widgets/controls",
      "model_module_version": "1.5.0",
      "model_name": "DropdownModel",
      "state": {
       "_options_labels": [
        "0.1",
        "0.15",
        "0.2",
        "0.25",
        "0.3",
        "0.35",
        "0.4",
        "0.45",
        "0.5"
       ],
       "description": "$L$",
       "index": 8,
       "layout": "IPY_MODEL_3075be9c33f248c1ac64a4e846d2ac90",
       "style": "IPY_MODEL_33955bb35c7844eeaa26878664279f64"
      }
     },
     "1b78e74b8a3a49dd8786edb0a064952f": {
      "model_module": "@jupyter-widgets/controls",
      "model_module_version": "1.5.0",
      "model_name": "DescriptionStyleModel",
      "state": {
       "description_width": ""
      }
     },
     "1ceea967685848948efefbd337651e2d": {
      "model_module": "@jupyter-widgets/base",
      "model_module_version": "1.2.0",
      "model_name": "LayoutModel",
      "state": {}
     },
     "1e245bc315be4dcd9a2d7d5019ca8650": {
      "model_module": "@jupyter-widgets/base",
      "model_module_version": "1.2.0",
      "model_name": "LayoutModel",
      "state": {}
     },
     "1e769210bc2f4cd8a801ffbfd4c945a0": {
      "model_module": "@jupyter-widgets/controls",
      "model_module_version": "1.5.0",
      "model_name": "SliderStyleModel",
      "state": {
       "description_width": ""
      }
     },
     "1f09ba105a094cbda6e5d41b4f0160cb": {
      "model_module": "@jupyter-widgets/base",
      "model_module_version": "1.2.0",
      "model_name": "LayoutModel",
      "state": {}
     },
     "1f22a45dc240474b9a86529e8f1d38cb": {
      "model_module": "@jupyter-widgets/base",
      "model_module_version": "1.2.0",
      "model_name": "LayoutModel",
      "state": {}
     },
     "1f2d0f1fadf94f99be5300aa617544c5": {
      "model_module": "@jupyter-widgets/controls",
      "model_module_version": "1.5.0",
      "model_name": "SliderStyleModel",
      "state": {
       "description_width": ""
      }
     },
     "1fb1762e6d18443aa772df0d658cdf50": {
      "model_module": "@jupyter-widgets/base",
      "model_module_version": "1.2.0",
      "model_name": "LayoutModel",
      "state": {}
     },
     "220ea4d6820145f6a99af9ceab0cfd54": {
      "model_module": "@jupyter-widgets/controls",
      "model_module_version": "1.5.0",
      "model_name": "FloatSliderModel",
      "state": {
       "description": "L",
       "layout": "IPY_MODEL_a34b712bb22442dda9d771d6dce0ecf2",
       "max": 0.99,
       "min": 0.15,
       "step": 0.01,
       "style": "IPY_MODEL_abe7f0a107bb490a99829c55c2512c31",
       "value": 0.5
      }
     },
     "22afd1ce7ee14bd7b2016155268ff2b0": {
      "model_module": "@jupyter-widgets/controls",
      "model_module_version": "1.5.0",
      "model_name": "SelectMultipleModel",
      "state": {
       "_options_labels": [
        "2",
        "3",
        "4",
        "5",
        "6",
        "7",
        "8",
        "9",
        "10",
        "11",
        "12",
        "13",
        "14",
        "15",
        "16",
        "17",
        "18",
        "19",
        "20",
        "21",
        "22",
        "23",
        "24",
        "25",
        "26",
        "27",
        "28",
        "29",
        "30",
        "31",
        "32",
        "33",
        "34",
        "35",
        "36",
        "37",
        "38",
        "39",
        "40",
        "41",
        "42",
        "43",
        "44",
        "45",
        "46",
        "47",
        "48",
        "49",
        "50",
        "51",
        "52",
        "53",
        "54",
        "55",
        "56",
        "57",
        "58",
        "59",
        "60",
        "61",
        "62",
        "63",
        "64",
        "65",
        "66",
        "67",
        "68",
        "69",
        "70",
        "71",
        "72",
        "73",
        "74",
        "75",
        "76",
        "77",
        "78",
        "79",
        "80",
        "81",
        "82",
        "83",
        "84",
        "85",
        "86",
        "87",
        "88",
        "89",
        "90",
        "91",
        "92",
        "93",
        "94",
        "95",
        "96",
        "97",
        "98",
        "99",
        "100"
       ],
       "description": "$\\mathbb{X}$",
       "index": [
        18
       ],
       "layout": "IPY_MODEL_9fdb3d0989f343d19db29d82e9a31c33",
       "rows": 5,
       "style": "IPY_MODEL_bf22df26c97a4ea9a630a0e68e24453a"
      }
     },
     "232512b70a2649898eb3a3c72a9a11a8": {
      "model_module": "@jupyter-widgets/base",
      "model_module_version": "1.2.0",
      "model_name": "LayoutModel",
      "state": {}
     },
     "234d520619d148f99256747caac27a32": {
      "model_module": "@jupyter-widgets/controls",
      "model_module_version": "1.5.0",
      "model_name": "SliderStyleModel",
      "state": {
       "description_width": ""
      }
     },
     "23b7ef3e788543ddb605bd260a3f41ee": {
      "model_module": "@jupyter-widgets/controls",
      "model_module_version": "1.5.0",
      "model_name": "DropdownModel",
      "state": {
       "_options_labels": [
        "2",
        "3",
        "4",
        "5",
        "6",
        "7",
        "8",
        "9",
        "10",
        "11",
        "12",
        "13",
        "14",
        "15",
        "16",
        "17",
        "18",
        "19",
        "20",
        "21",
        "22",
        "23",
        "24",
        "25",
        "26",
        "27",
        "28",
        "29",
        "30",
        "31",
        "32",
        "33",
        "34",
        "35",
        "36",
        "37",
        "38",
        "39",
        "40",
        "41",
        "42",
        "43",
        "44",
        "45",
        "46",
        "47",
        "48",
        "49",
        "50"
       ],
       "description": "$x$",
       "index": 0,
       "layout": "IPY_MODEL_71a5620eb8f9459cbab598201e040f0d",
       "style": "IPY_MODEL_431b4644c60146c58a93f3c2d32934d9"
      }
     },
     "24157eec0aaa4051a2cd75a81a5a8b43": {
      "model_module": "@jupyter-widgets/controls",
      "model_module_version": "1.5.0",
      "model_name": "VBoxModel",
      "state": {
       "_dom_classes": [
        "widget-interact"
       ],
       "children": [
        "IPY_MODEL_bed19f7da312496ebc03d1efc5dd80d7",
        "IPY_MODEL_8e35425ad56b456fa2e7d2b12eae7343",
        "IPY_MODEL_cb7e2f1c260642569c9e9c8fc6b6d5f2",
        "IPY_MODEL_1acab8abb9da4d8989ea5facb0511f09"
       ],
       "layout": "IPY_MODEL_50bcf55a97984d42ac64e420463716bb"
      }
     },
     "24ec116f9fd540c389657ea30afdccff": {
      "model_module": "@jupyter-widgets/controls",
      "model_module_version": "1.5.0",
      "model_name": "FloatSliderModel",
      "state": {
       "description": "$\\Delta x$:",
       "layout": "IPY_MODEL_ec0ee4914a854e84a68fdcc6a9b2319f",
       "max": 0.99,
       "min": 0.15,
       "step": 0.01,
       "style": "IPY_MODEL_f1f124a6d2a140d4be3283d0a4e9475e",
       "value": 0.2
      }
     },
     "2562179042334f2d8aec5ab8b08ef802": {
      "model_module": "@jupyter-widgets/controls",
      "model_module_version": "1.5.0",
      "model_name": "FloatSliderModel",
      "state": {
       "description": "$\\Delta x$:",
       "layout": "IPY_MODEL_881cbe6cfcf445e89ff66887a2f0046e",
       "max": 0.99,
       "min": 0.15,
       "step": 0.01,
       "style": "IPY_MODEL_667bb55cbdf74161add5750d20f1e993",
       "value": 0.2
      }
     },
     "259ffc60a0714d4395decd66daaec637": {
      "model_module": "@jupyter-widgets/controls",
      "model_module_version": "1.5.0",
      "model_name": "DropdownModel",
      "state": {
       "_options_labels": [
        "0.1",
        "0.15000000000000002",
        "0.20000000000000004",
        "0.25000000000000006",
        "0.30000000000000004",
        "0.3500000000000001",
        "0.40000000000000013",
        "0.45000000000000007",
        "0.5000000000000001",
        "0.5500000000000002",
        "0.6000000000000002",
        "0.6500000000000001",
        "0.7000000000000002",
        "0.7500000000000002",
        "0.8000000000000002",
        "0.8500000000000002",
        "0.9000000000000002",
        "0.9500000000000003"
       ],
       "description": "$\\Delta x$",
       "index": 0,
       "layout": "IPY_MODEL_e101a0e3c6a048d1aca69df70a924d0a",
       "style": "IPY_MODEL_050fc5b414854a81b76c8ffc27647c79"
      }
     },
     "26374dab80354ff79eabcf19aa32d698": {
      "model_module": "@jupyter-widgets/controls",
      "model_module_version": "1.5.0",
      "model_name": "FloatSliderModel",
      "state": {
       "description": "$\\Delta x$:",
       "layout": "IPY_MODEL_51bc139839c9416d8eb49b27f18a743e",
       "max": 0.99,
       "min": 0.15,
       "step": 0.01,
       "style": "IPY_MODEL_8009fd53609248f0a9cc03837472b3c8",
       "value": 0.23
      }
     },
     "267185ed16ac4574ae7fecb698c00d02": {
      "model_module": "@jupyter-widgets/base",
      "model_module_version": "1.2.0",
      "model_name": "LayoutModel",
      "state": {}
     },
     "298bbe4e12104b2a8f00bd82010aa35d": {
      "model_module": "@jupyter-widgets/base",
      "model_module_version": "1.2.0",
      "model_name": "LayoutModel",
      "state": {}
     },
     "29dc5c19b5534327a70960f7e7ba1f09": {
      "model_module": "@jupyter-widgets/base",
      "model_module_version": "1.2.0",
      "model_name": "LayoutModel",
      "state": {}
     },
     "2a9fe9495735470f8f7c6054cdea8adc": {
      "model_module": "@jupyter-widgets/base",
      "model_module_version": "1.2.0",
      "model_name": "LayoutModel",
      "state": {}
     },
     "2b0922767bc7465eb918ee707064b70a": {
      "model_module": "@jupyter-widgets/base",
      "model_module_version": "1.2.0",
      "model_name": "LayoutModel",
      "state": {}
     },
     "2b0b2b97cb1347639513866de925f470": {
      "model_module": "@jupyter-widgets/controls",
      "model_module_version": "1.5.0",
      "model_name": "SliderStyleModel",
      "state": {
       "description_width": ""
      }
     },
     "2b6b11262f9d4537938edc3aad70690c": {
      "model_module": "@jupyter-widgets/controls",
      "model_module_version": "1.5.0",
      "model_name": "DescriptionStyleModel",
      "state": {
       "description_width": ""
      }
     },
     "2b715464208d4d8f924837500b2db51f": {
      "model_module": "@jupyter-widgets/controls",
      "model_module_version": "1.5.0",
      "model_name": "DescriptionStyleModel",
      "state": {
       "description_width": ""
      }
     },
     "2c1756cf744b49c1a27232cedd1d59eb": {
      "model_module": "@jupyter-widgets/controls",
      "model_module_version": "1.5.0",
      "model_name": "SelectMultipleModel",
      "state": {
       "_options_labels": [
        "2",
        "3",
        "4",
        "5",
        "6",
        "7",
        "8",
        "9",
        "10",
        "11",
        "12",
        "13",
        "14",
        "15",
        "16",
        "17",
        "18",
        "19",
        "20",
        "21",
        "22",
        "23",
        "24",
        "25",
        "26",
        "27",
        "28",
        "29",
        "30",
        "31",
        "32",
        "33",
        "34",
        "35",
        "36",
        "37",
        "38",
        "39",
        "40",
        "41",
        "42",
        "43",
        "44",
        "45",
        "46",
        "47",
        "48",
        "49",
        "50",
        "51",
        "52",
        "53",
        "54",
        "55",
        "56",
        "57",
        "58",
        "59",
        "60",
        "61",
        "62",
        "63",
        "64",
        "65",
        "66",
        "67",
        "68",
        "69",
        "70",
        "71",
        "72",
        "73",
        "74",
        "75",
        "76",
        "77",
        "78",
        "79",
        "80",
        "81",
        "82",
        "83",
        "84",
        "85",
        "86",
        "87",
        "88",
        "89",
        "90",
        "91",
        "92",
        "93",
        "94",
        "95",
        "96",
        "97",
        "98",
        "99",
        "100"
       ],
       "description": "$\\mathbb{X}$",
       "index": [
        18
       ],
       "layout": "IPY_MODEL_cfe546eb61ec4652a31eed61794c3ac7",
       "rows": 5,
       "style": "IPY_MODEL_cdd0647e5b7147ca9acba4b1c6cf8051"
      }
     },
     "2ca92549fc89485fb64b9c1c826ee96e": {
      "model_module": "@jupyter-widgets/controls",
      "model_module_version": "1.5.0",
      "model_name": "FloatSliderModel",
      "state": {
       "description": "$\\Delta x$:",
       "layout": "IPY_MODEL_586174d8365d49c5aa946dc74a797667",
       "max": 0.99,
       "min": 0.15,
       "step": 0.01,
       "style": "IPY_MODEL_45de906b664741e39c4bf49e221a8671",
       "value": 0.98
      }
     },
     "2cf969f405d6417a8cda13367842fc32": {
      "model_module": "@jupyter-widgets/base",
      "model_module_version": "1.2.0",
      "model_name": "LayoutModel",
      "state": {}
     },
     "2e89929335534cb99456ac6d1d0d3f07": {
      "model_module": "@jupyter-widgets/controls",
      "model_module_version": "1.5.0",
      "model_name": "FloatSliderModel",
      "state": {
       "description": "L",
       "layout": "IPY_MODEL_0ffaa0b204d742bcb4c133d8588dc1de",
       "max": 0.99,
       "min": 0.15,
       "step": 0.01,
       "style": "IPY_MODEL_1f2d0f1fadf94f99be5300aa617544c5",
       "value": 0.5
      }
     },
     "2eef6fa037f1415cbd75063639b6f377": {
      "model_module": "@jupyter-widgets/base",
      "model_module_version": "1.2.0",
      "model_name": "LayoutModel",
      "state": {}
     },
     "2f1b87a6e08341979857d318937ba595": {
      "model_module": "@jupyter-widgets/controls",
      "model_module_version": "1.5.0",
      "model_name": "FloatSliderModel",
      "state": {
       "description": "$\\Delta x$:",
       "layout": "IPY_MODEL_350ce0a9e89c401286f075e90f37e6c4",
       "max": 0.99,
       "min": 0.15,
       "step": 0.01,
       "style": "IPY_MODEL_8ab7236ed0d6448a9e7ecaed992d043a",
       "value": 0.2
      }
     },
     "2f688597fc4f4b8f946eb23569fbf514": {
      "model_module": "@jupyter-widgets/controls",
      "model_module_version": "1.5.0",
      "model_name": "DescriptionStyleModel",
      "state": {
       "description_width": ""
      }
     },
     "304b7b24f43b43e08c085a1434ce2afb": {
      "model_module": "@jupyter-widgets/controls",
      "model_module_version": "1.5.0",
      "model_name": "DropdownModel",
      "state": {
       "_options_labels": [
        "0.1"
       ],
       "description": "$\\Delta x$",
       "index": 0,
       "layout": "IPY_MODEL_beca3198ba144b7dad719b3477e51f4f",
       "style": "IPY_MODEL_3be77a5c53404659bee05f54f64cd76e"
      }
     },
     "3075be9c33f248c1ac64a4e846d2ac90": {
      "model_module": "@jupyter-widgets/base",
      "model_module_version": "1.2.0",
      "model_name": "LayoutModel",
      "state": {}
     },
     "30bb074916eb40d19c86af3435572b34": {
      "model_module": "@jupyter-widgets/controls",
      "model_module_version": "1.5.0",
      "model_name": "DropdownModel",
      "state": {
       "_options_labels": [
        "2",
        "3",
        "4",
        "5",
        "6",
        "7",
        "8",
        "9",
        "10",
        "11",
        "12",
        "13",
        "14",
        "15",
        "16",
        "17",
        "18",
        "19",
        "20",
        "21",
        "22",
        "23",
        "24",
        "25",
        "26",
        "27",
        "28",
        "29",
        "30",
        "31",
        "32",
        "33",
        "34",
        "35",
        "36",
        "37",
        "38",
        "39",
        "40",
        "41",
        "42",
        "43",
        "44",
        "45",
        "46",
        "47",
        "48",
        "49",
        "50"
       ],
       "description": "$x$",
       "index": 0,
       "layout": "IPY_MODEL_7067af21be404edf844b3ea86a3ea536",
       "style": "IPY_MODEL_350ebfad302441bfae1e0eb0e49b2fdf"
      }
     },
     "30bf5e3e2e4c47548b6c965ef4162df2": {
      "model_module": "@jupyter-widgets/base",
      "model_module_version": "1.2.0",
      "model_name": "LayoutModel",
      "state": {}
     },
     "3144c7d9217c4079b17ab65ef3913b42": {
      "model_module": "@jupyter-widgets/base",
      "model_module_version": "1.2.0",
      "model_name": "LayoutModel",
      "state": {}
     },
     "31c8806e921c4493b14d52a9d700cfe2": {
      "model_module": "@jupyter-widgets/base",
      "model_module_version": "1.2.0",
      "model_name": "LayoutModel",
      "state": {}
     },
     "323dd01edf0d401dbacb2f34cefb489f": {
      "model_module": "@jupyter-widgets/controls",
      "model_module_version": "1.5.0",
      "model_name": "FloatSliderModel",
      "state": {
       "description": "$\\Delta x$:",
       "layout": "IPY_MODEL_be898040e93542aea97517db6e551175",
       "max": 0.99,
       "min": 0.15,
       "step": 0.01,
       "style": "IPY_MODEL_c28dc6103bb34ec7aa7ee4f2890dda9f",
       "value": 0.25
      }
     },
     "3273bff719e144a1b40fc443064318ba": {
      "model_module": "@jupyter-widgets/base",
      "model_module_version": "1.2.0",
      "model_name": "LayoutModel",
      "state": {}
     },
     "327cf907b18545708381eefe43a5c7c9": {
      "model_module": "@jupyter-widgets/base",
      "model_module_version": "1.2.0",
      "model_name": "LayoutModel",
      "state": {}
     },
     "32f6edfdb461403296d43ce9e6f592bf": {
      "model_module": "@jupyter-widgets/controls",
      "model_module_version": "1.5.0",
      "model_name": "DropdownModel",
      "state": {
       "_options_labels": [
        "2",
        "3",
        "4",
        "5",
        "6",
        "7",
        "8",
        "9",
        "10",
        "11",
        "12",
        "13",
        "14",
        "15",
        "16",
        "17",
        "18",
        "19",
        "20",
        "21",
        "22",
        "23",
        "24",
        "25",
        "26",
        "27",
        "28",
        "29",
        "30",
        "31",
        "32",
        "33",
        "34",
        "35",
        "36",
        "37",
        "38",
        "39",
        "40",
        "41",
        "42",
        "43",
        "44",
        "45",
        "46",
        "47",
        "48",
        "49",
        "50"
       ],
       "description": "$x$",
       "index": 0,
       "layout": "IPY_MODEL_b1a335d2b398484a8c374a0b9bb1028d",
       "style": "IPY_MODEL_3c083717e4e6401790f7ec281cff5ed0"
      }
     },
     "33955bb35c7844eeaa26878664279f64": {
      "model_module": "@jupyter-widgets/controls",
      "model_module_version": "1.5.0",
      "model_name": "DescriptionStyleModel",
      "state": {
       "description_width": ""
      }
     },
     "33af76c9897448629dac2f4acdc0e774": {
      "model_module": "@jupyter-widgets/base",
      "model_module_version": "1.2.0",
      "model_name": "LayoutModel",
      "state": {}
     },
     "33b7a1cd546247abb3b994de1b47a47c": {
      "model_module": "@jupyter-widgets/base",
      "model_module_version": "1.2.0",
      "model_name": "LayoutModel",
      "state": {}
     },
     "341295ecbe464a839674c04ea92f8887": {
      "model_module": "@jupyter-widgets/base",
      "model_module_version": "1.2.0",
      "model_name": "LayoutModel",
      "state": {}
     },
     "346b471f46af47e485420b84229a8f84": {
      "model_module": "@jupyter-widgets/output",
      "model_module_version": "1.0.0",
      "model_name": "OutputModel",
      "state": {
       "layout": "IPY_MODEL_16e847f562d44493859d252ee0d8b847"
      }
     },
     "350ce0a9e89c401286f075e90f37e6c4": {
      "model_module": "@jupyter-widgets/base",
      "model_module_version": "1.2.0",
      "model_name": "LayoutModel",
      "state": {}
     },
     "350ebfad302441bfae1e0eb0e49b2fdf": {
      "model_module": "@jupyter-widgets/controls",
      "model_module_version": "1.5.0",
      "model_name": "DescriptionStyleModel",
      "state": {
       "description_width": ""
      }
     },
     "352e01c1bdda4e298e9ec27d066ec490": {
      "model_module": "@jupyter-widgets/base",
      "model_module_version": "1.2.0",
      "model_name": "LayoutModel",
      "state": {}
     },
     "38e497015bbe4e94ba9e4da248f3530d": {
      "model_module": "@jupyter-widgets/controls",
      "model_module_version": "1.5.0",
      "model_name": "FloatSliderModel",
      "state": {
       "description": "L",
       "layout": "IPY_MODEL_ba4781384c074e33bcaecda3f31910a7",
       "max": 0.99,
       "min": 0.15,
       "step": 0.01,
       "style": "IPY_MODEL_d3eff4261a724a049b67e3da3d2b9b64",
       "value": 0.5
      }
     },
     "3a24e5edf89a40eb8a9c13d6bb872726": {
      "model_module": "@jupyter-widgets/base",
      "model_module_version": "1.2.0",
      "model_name": "LayoutModel",
      "state": {}
     },
     "3b2420f6fe8d4f32a32ab34cfcf71fa0": {
      "model_module": "@jupyter-widgets/controls",
      "model_module_version": "1.5.0",
      "model_name": "FloatSliderModel",
      "state": {
       "description": "L",
       "layout": "IPY_MODEL_172ed42c7fc0491d8d2e89bc1a3703b9",
       "max": 0.99,
       "min": 0.15,
       "step": 0.01,
       "style": "IPY_MODEL_40866436971e4966ad26291aa00f1f70",
       "value": 0.5
      }
     },
     "3b77942c437848138f86203f2efec955": {
      "model_module": "@jupyter-widgets/controls",
      "model_module_version": "1.5.0",
      "model_name": "SelectMultipleModel",
      "state": {
       "_options_labels": [
        "2",
        "3",
        "4",
        "5",
        "6",
        "7",
        "8",
        "9",
        "10",
        "11",
        "12",
        "13",
        "14",
        "15",
        "16",
        "17",
        "18",
        "19",
        "20",
        "21",
        "22",
        "23",
        "24",
        "25",
        "26",
        "27",
        "28",
        "29",
        "30",
        "31",
        "32",
        "33",
        "34",
        "35",
        "36",
        "37",
        "38",
        "39",
        "40",
        "41",
        "42",
        "43",
        "44",
        "45",
        "46",
        "47",
        "48",
        "49",
        "50",
        "51",
        "52",
        "53",
        "54",
        "55",
        "56",
        "57",
        "58",
        "59",
        "60",
        "61",
        "62",
        "63",
        "64",
        "65",
        "66",
        "67",
        "68",
        "69",
        "70",
        "71",
        "72",
        "73",
        "74",
        "75",
        "76",
        "77",
        "78",
        "79",
        "80",
        "81",
        "82",
        "83",
        "84",
        "85",
        "86",
        "87",
        "88",
        "89",
        "90",
        "91",
        "92",
        "93",
        "94",
        "95",
        "96",
        "97",
        "98",
        "99",
        "100"
       ],
       "description": "$\\mathbb{X}$",
       "index": [
        18
       ],
       "layout": "IPY_MODEL_327cf907b18545708381eefe43a5c7c9",
       "rows": 5,
       "style": "IPY_MODEL_0ffe029d37bb4bb9a2ccc65b5effe47f"
      }
     },
     "3be77a5c53404659bee05f54f64cd76e": {
      "model_module": "@jupyter-widgets/controls",
      "model_module_version": "1.5.0",
      "model_name": "DescriptionStyleModel",
      "state": {
       "description_width": ""
      }
     },
     "3c083717e4e6401790f7ec281cff5ed0": {
      "model_module": "@jupyter-widgets/controls",
      "model_module_version": "1.5.0",
      "model_name": "DescriptionStyleModel",
      "state": {
       "description_width": ""
      }
     },
     "3c149b8f7cbb47438e2a6229966c76a1": {
      "model_module": "@jupyter-widgets/controls",
      "model_module_version": "1.5.0",
      "model_name": "FloatSliderModel",
      "state": {
       "description": "$\\Delta x$:",
       "layout": "IPY_MODEL_1f22a45dc240474b9a86529e8f1d38cb",
       "max": 0.99,
       "min": 0.15,
       "step": 0.01,
       "style": "IPY_MODEL_b358c78af8d442c8b5ffff85fc274748",
       "value": 0.25
      }
     },
     "3c3484e73aeb48eba2c8855483a1f636": {
      "model_module": "@jupyter-widgets/controls",
      "model_module_version": "1.5.0",
      "model_name": "SelectMultipleModel",
      "state": {
       "_options_labels": [
        "2",
        "3",
        "4",
        "5",
        "6",
        "7",
        "8",
        "9",
        "10",
        "11",
        "12",
        "13",
        "14",
        "15",
        "16",
        "17",
        "18",
        "19",
        "20",
        "21",
        "22",
        "23",
        "24",
        "25",
        "26",
        "27",
        "28",
        "29",
        "30",
        "31",
        "32",
        "33",
        "34",
        "35",
        "36",
        "37",
        "38",
        "39",
        "40",
        "41",
        "42",
        "43",
        "44",
        "45",
        "46",
        "47",
        "48",
        "49",
        "50",
        "51",
        "52",
        "53",
        "54",
        "55",
        "56",
        "57",
        "58",
        "59",
        "60",
        "61",
        "62",
        "63",
        "64",
        "65",
        "66",
        "67",
        "68",
        "69",
        "70",
        "71",
        "72",
        "73",
        "74",
        "75",
        "76",
        "77",
        "78",
        "79",
        "80",
        "81",
        "82",
        "83",
        "84",
        "85",
        "86",
        "87",
        "88",
        "89",
        "90",
        "91",
        "92",
        "93",
        "94",
        "95",
        "96",
        "97",
        "98",
        "99",
        "100"
       ],
       "description": "$\\mathbb{X}$",
       "index": [
        18
       ],
       "layout": "IPY_MODEL_a101c4a24a6d444dab2259012e912ff6",
       "rows": 5,
       "style": "IPY_MODEL_fd3a47f9edbb416d9c6eea5ee775c458"
      }
     },
     "3c4445fc3f374cd5a2034c13446ff50b": {
      "model_module": "@jupyter-widgets/controls",
      "model_module_version": "1.5.0",
      "model_name": "VBoxModel",
      "state": {
       "_dom_classes": [
        "widget-interact"
       ],
       "children": [
        "IPY_MODEL_6207e7cd6cad4ec4b8de3374eda86863",
        "IPY_MODEL_c68d377067a6455db324c81be45b99cf",
        "IPY_MODEL_8c4cfd41963b4f4a9cefb3695fe958ac",
        "IPY_MODEL_acd8c5b69de54a4dbe187389ee2ca623"
       ],
       "layout": "IPY_MODEL_aa27b65ed382425d8763c87766ab5e2a"
      }
     },
     "3d462b28f84c4624adea0db328d22d43": {
      "model_module": "@jupyter-widgets/base",
      "model_module_version": "1.2.0",
      "model_name": "LayoutModel",
      "state": {}
     },
     "3dba09200b864e76bb349f56dffb40de": {
      "model_module": "@jupyter-widgets/base",
      "model_module_version": "1.2.0",
      "model_name": "LayoutModel",
      "state": {}
     },
     "3e01b8c5c1194d8585830864762121b1": {
      "model_module": "@jupyter-widgets/controls",
      "model_module_version": "1.5.0",
      "model_name": "SliderStyleModel",
      "state": {
       "description_width": ""
      }
     },
     "3e29bffac32741c49459bc52f3e33c5a": {
      "model_module": "@jupyter-widgets/controls",
      "model_module_version": "1.5.0",
      "model_name": "DropdownModel",
      "state": {
       "_options_labels": [
        "2",
        "3",
        "4",
        "5",
        "6",
        "7",
        "8",
        "9",
        "10",
        "11",
        "12",
        "13",
        "14",
        "15",
        "16",
        "17",
        "18",
        "19",
        "20",
        "21",
        "22",
        "23",
        "24",
        "25",
        "26",
        "27",
        "28",
        "29",
        "30",
        "31",
        "32",
        "33",
        "34",
        "35",
        "36",
        "37",
        "38",
        "39",
        "40",
        "41",
        "42",
        "43",
        "44",
        "45",
        "46",
        "47",
        "48",
        "49",
        "50"
       ],
       "description": "$x$",
       "index": 0,
       "layout": "IPY_MODEL_69cee52c1d89423395e2d0cfe2a4b337",
       "style": "IPY_MODEL_0cec9bcbc78b469f873593864be5a94a"
      }
     },
     "3e399e972d2146dd9e2702f429335970": {
      "model_module": "@jupyter-widgets/base",
      "model_module_version": "1.2.0",
      "model_name": "LayoutModel",
      "state": {}
     },
     "3ed79182a05b4ab58eabc82afe6e6cc5": {
      "model_module": "@jupyter-widgets/output",
      "model_module_version": "1.0.0",
      "model_name": "OutputModel",
      "state": {
       "layout": "IPY_MODEL_44d29fc424fa4fc089b12c4375a2be34",
       "outputs": [
        {
         "data": {
          "image/png": "iVBORw0KGgoAAAANSUhEUgAAAXwAAAD8CAYAAAB0IB+mAAAABHNCSVQICAgIfAhkiAAAAAlwSFlzAAALEgAACxIB0t1+/AAAADh0RVh0U29mdHdhcmUAbWF0cGxvdGxpYiB2ZXJzaW9uMy4xLjAsIGh0dHA6Ly9tYXRwbG90bGliLm9yZy+17YcXAAAOyklEQVR4nO3cX4xcd3nG8e8TOwG1LH9Ug4xjQ1LVqbCiSiFWEoRUQKSVkwv7og5yJExBCZZo3UoNRU6VVUBhuSioqkTqFtIUUSpBCEgNK+TWlWiiVBVGcZQSxY5cLYaCMavwJ81NBMHt24uZakbLeuewO7uz3t/3I400v5l3zr77eveZ4zN7TqoKSdLGd9mkG5AkrQ0DX5IaYeBLUiMMfElqhIEvSY0w8CWpESMDP8lnkjyX5JmLPJ8kn0wyl+TpJG8ef5uSpJXqsof/WWDPEs/fAuzs3w4Bf7PytiRJ4zYy8KvqceAnS5TsAz5XPSeAVyd5/bgalCSNx+YxbONK4HtD63P9x36wsDDJIXr/C+Dyyy+//rWvfe0Yvvyl78KFC2zePI5/ikufsxhwFgPOYuD8+fM/qqplhec4JphFHlv0eg1V9QDwAMCVV15Z3//+98fw5S99H/vYx7jnnnsm3ca64CwGnMWAsxhI8l/Lfe04/krnHLBjaL0dOD+G7UqSxmgcgT8LvKf/1zo3AS9U1S8czpEkTdbIQzpJvgC8HdiS5BzwYeBygKr6FHAMuBWYA14E3rdazUqSlm9k4FfV7SOeL+APx9aRJGlVeKatJDXCwJekRhj4ktQIA1+SGmHgS1IjDHxJaoSBL0mNMPAlqREGviQ1wsCXpEYY+JLUCANfkhph4EtSIwx8SWqEgS9JjTDwJakRBr4kNcLAl6RGGPiS1AgDX5IaYeBLUiMMfElqhIEvSY0w8CWpEQa+JDXCwJekRhj4ktQIA1+SGmHgS1IjDHxJaoSBL0mNMPAlqREGviQ1wsCXpEYY+JLUiE6Bn2RPkjNJ5pLcvcjzb0jyaJKnkjyd5NbxtypJWomRgZ9kE3AUuAXYBdyeZNeCsmng4aq6DjgA/PW4G5UkrUyXPfwbgLmqOltVLwEPAfsW1BTwyv79VwHnx9eiJGkcUlVLFyT7gT1VdWd/fRC4saoOD9W8HvgX4DXArwI3V9WTi2zrEHAIYGpq6vojR46M6/u4pM3Pz7N169ZJt7EuOIsBZzHgLAamp6efrKrdy3pxVS15A24DHhxaHwTuX1BzF/DB/v23AKeBy5ba7rZt20o9MzMzk25h3XAWA85iwFkMACdrRG5f7NblkM45YMfQeju/eMjmDuDh/hvI14GXA1uW9Q4kSVoVXQL/CWBnkquTXEHvQ9nZBTXfBd4JkORN9AL/h+NsVJK0MiMDv6ouAIeB48Cz9P4a51SS+5Ls7Zd9EHh/km8CXwDe2/+vhyRpndjcpaiqjgHHFjx279D908Bbx9uaJGmcPNNWkhph4EtSIwx8SWqEgS9JjTDwJakRBr4kNcLAl6RGGPiS1AgDX5IaYeBLUiMMfElqhIEvSY0w8CWpEQa+JDXCwJekRhj4ktQIA1+SGmHgS1IjDHxJaoSBL0mNMPAlqREGviQ1wsCXpEYY+JLUCANfkhph4EtSIwx8SWqEgS9JjTDwJakRBr4kNcLAl6RGGPiS1AgDX5IaYeBLUiM6BX6SPUnOJJlLcvdFat6V5HSSU0k+P942JUkrtXlUQZJNwFHgd4BzwBNJZqvq9FDNTuDPgLdW1fNJXrdaDUuSlqfLHv4NwFxVna2ql4CHgH0Lat4PHK2q5wGq6rnxtilJWqlU1dIFyX5gT1Xd2V8fBG6sqsNDNY8A/wm8FdgEfKSq/nmRbR0CDgFMTU1df+TIkXF9H5e0+fl5tm7dOuk21gVnMeAsBpzFwPT09JNVtXtZL66qJW/AbcCDQ+uDwP0Lar4K/CNwOXA1vUM/r15qu9u2bSv1zMzMTLqFdcNZDDiLAWcxAJysEbl9sVuXQzrngB1D6+3A+UVqvlJVP6+qbwNngJ3LegeSJK2KLoH/BLAzydVJrgAOALMLah4B3gGQZAtwDXB2nI1KklZmZOBX1QXgMHAceBZ4uKpOJbkvyd5+2XHgx0lOA48CH6qqH69W05KkX97IP8sEqKpjwLEFj907dL+Au/o3SdI65Jm2ktQIA1+SGmHgS1IjDHxJaoSBL0mNMPAlqREGviQ1wsCXpEYY+JLUCANfkhph4EtSIwx8SWqEgS9JjTDwJakRBr4kNcLAl6RGGPiS1AgDX5IaYeBLUiMMfElqhIEvSY0w8CWpEQa+JDXCwJekRhj4ktQIA1+SGmHgS1IjDHxJaoSBL0mNMPAlqREGviQ1wsCXpEYY+JLUCANfkhph4EtSIzoFfpI9Sc4kmUty9xJ1+5NUkt3ja1GSNA4jAz/JJuAocAuwC7g9ya5F6qaAPwa+Me4mJUkr12UP/wZgrqrOVtVLwEPAvkXqPgp8HPjpGPuTJI1JqmrpgmQ/sKeq7uyvDwI3VtXhoZrrgOmq+r0kjwF/WlUnF9nWIeAQwNTU1PVHjhwZ2zdyKZufn2fr1q2TbmNdcBYDzmLAWQxMT08/WVXLO2xeVUvegNuAB4fWB4H7h9aXAY8BV/XXjwG7R21327ZtpZ6ZmZlJt7BuOIsBZzHgLAaAkzUiXy9263JI5xywY2i9HTg/tJ4CrgUeS/Id4CZg1g9uJWl96RL4TwA7k1yd5ArgADD7/09W1QtVtaWqrqqqq4ATwN5a5JCOJGlyRgZ+VV0ADgPHgWeBh6vqVJL7kuxd7QYlSeOxuUtRVR0Dji147N6L1L595W1JksbNM20lqREGviQ1wsCXpEYY+JLUCANfkhph4EtSIwx8SWqEgS9JjTDwJakRBr4kNcLAl6RGGPiS1AgDX5IaYeBLUiMMfElqhIEvSY0w8CWpEQa+JDXCwJekRhj4ktQIA1+SGmHgS1IjDHxJaoSBL0mNMPAlqREGviQ1wsCXpEYY+JLUCANfkhph4EtSIwx8SWqEgS9JjTDwJakRBr4kNaJT4CfZk+RMkrkkdy/y/F1JTid5OsnXkrxx/K1KklZiZOAn2QQcBW4BdgG3J9m1oOwpYHdV/RbwZeDj425UkrQyXfbwbwDmqupsVb0EPATsGy6oqker6sX+8gSwfbxtSpJWKlW1dEGyH9hTVXf21weBG6vq8EXq/wqYr6qZRZ47BBwCmJqauv7IkSMrbH9jmJ+fZ+vWrZNuY11wFgPOYsBZDExPTz9ZVbuX9eKqWvIG3AY8OLQ+CNx/kdp309vDf9mo7W7btq3UMzMzM+kW1g1nMeAsBpzFAHCyRuTrxW6bO7wnnAN2DK23A+cXFiW5GbgHeFtV/WxZ7z6SpFXT5Rj+E8DOJFcnuQI4AMwOFyS5Dvg0sLeqnht/m5KklRoZ+FV1ATgMHAeeBR6uqlNJ7kuyt1/2CeAVwJeS/EeS2YtsTpI0IV0O6VBVx4BjCx67d+j+zWPuS5I0Zp5pK0mNMPAlqREGviQ1wsCXpEYY+JLUCANfkhph4EtSIwx8SWqEgS9JjTDwJakRBr4kNcLAl6RGGPiS1AgDX5IaYeBLUiMMfElqhIEvSY0w8CWpEQa+JDXCwJekRhj4ktQIA1+SGmHgS1IjDHxJaoSBL0mNMPAlqREGviQ1wsCXpEYY+JLUCANfkhph4EtSIwx8SWqEgS9JjTDwJakRBr4kNaJT4CfZk+RMkrkkdy/y/MuSfLH//DeSXDXuRiVJKzMy8JNsAo4CtwC7gNuT7FpQdgfwfFX9BvCXwJ+Pu1FJ0sp02cO/AZirqrNV9RLwELBvQc0+4O/7978MvDNJxtemJGmlUlVLFyT7gT1VdWd/fRC4saoOD9U80685119/q1/zowXbOgQc6i+vBZ4Z1zdyidsC/GhkVRucxYCzGHAWA79ZVVPLeeHmDjWL7akvfJfoUkNVPQA8AJDkZFXt7vD1NzxnMeAsBpzFgLMYSHJyua/tckjnHLBjaL0dOH+xmiSbgVcBP1luU5Kk8esS+E8AO5NcneQK4AAwu6BmFvj9/v39wL/WqGNFkqQ1NfKQTlVdSHIYOA5sAj5TVaeS3AecrKpZ4O+Af0gyR2/P/kCHr/3ACvreaJzFgLMYcBYDzmJg2bMY+aGtJGlj8ExbSWqEgS9JjVj1wPeyDAMdZnFXktNJnk7ytSRvnESfa2HULIbq9iepJBv2T/K6zCLJu/o/G6eSfH6te1wrHX5H3pDk0SRP9X9Pbp1En6styWeSPNc/x2mx55Pkk/05PZ3kzZ02XFWrdqP3Ie+3gF8HrgC+CexaUPMHwKf69w8AX1zNniZ16ziLdwC/0r//gZZn0a+bAh4HTgC7J933BH8udgJPAa/pr1836b4nOIsHgA/07+8CvjPpvldpFr8NvBl45iLP3wr8E71zoG4CvtFlu6u9h+9lGQZGzqKqHq2qF/vLE/TOediIuvxcAHwU+Djw07Vsbo11mcX7gaNV9TxAVT23xj2ulS6zKOCV/fuv4hfPCdoQqupxlj6XaR/wueo5Abw6yetHbXe1A/9K4HtD63P9xxatqaoLwAvAr61yX5PQZRbD7qD3Dr4RjZxFkuuAHVX11bVsbAK6/FxcA1yT5N+TnEiyZ826W1tdZvER4N1JzgHHgD9am9bWnV82T4Bul1ZYibFdlmED6Px9Jnk3sBt426p2NDlLziLJZfSuuvretWpogrr8XGymd1jn7fT+1/dvSa6tqv9e5d7WWpdZ3A58tqr+Islb6J3/c21V/e/qt7euLCs3V3sP38syDHSZBUluBu4B9lbVz9aot7U2ahZT9C6u91iS79A7Rjm7QT+47fo78pWq+nlVfRs4Q+8NYKPpMos7gIcBqurrwMvpXVitNZ3yZKHVDnwvyzAwchb9wxifphf2G/U4LYyYRVW9UFVbquqqqrqK3ucZe6tq2ReNWse6/I48Qu8DfZJsoXeI5+yadrk2usziu8A7AZK8iV7g/3BNu1wfZoH39P9a5ybghar6wagXreohnVq9yzJccjrO4hPAK4Av9T+3/m5V7Z1Y06uk4yya0HEWx4HfTXIa+B/gQ1X148l1vTo6zuKDwN8m+RN6hzDeuxF3EJN8gd4hvC39zys+DFwOUFWfovf5xa3AHPAi8L5O292As5IkLcIzbSWpEQa+JDXCwJekRhj4ktQIA1+SGmHgS1IjDHxJasT/AeMxPwEkqNKqAAAAAElFTkSuQmCC\n",
          "text/plain": "<Figure size 432x288 with 1 Axes>"
         },
         "metadata": {
          "needs_background": "light"
         },
         "output_type": "display_data"
        }
       ]
      }
     },
     "3edb347e157a4a97a6668ee45812dd71": {
      "model_module": "@jupyter-widgets/controls",
      "model_module_version": "1.5.0",
      "model_name": "DescriptionStyleModel",
      "state": {
       "description_width": ""
      }
     },
     "40866436971e4966ad26291aa00f1f70": {
      "model_module": "@jupyter-widgets/controls",
      "model_module_version": "1.5.0",
      "model_name": "SliderStyleModel",
      "state": {
       "description_width": ""
      }
     },
     "40e878efbe1e4aec9fdea210b4508c19": {
      "model_module": "@jupyter-widgets/controls",
      "model_module_version": "1.5.0",
      "model_name": "SliderStyleModel",
      "state": {
       "description_width": ""
      }
     },
     "4116abc814e040ab8ddf9e8144caa846": {
      "model_module": "@jupyter-widgets/output",
      "model_module_version": "1.0.0",
      "model_name": "OutputModel",
      "state": {
       "layout": "IPY_MODEL_03a2cf5de9b04e418f2dbddd947973b1"
      }
     },
     "41a390d99ce648bf93365ddf4dcff154": {
      "model_module": "@jupyter-widgets/base",
      "model_module_version": "1.2.0",
      "model_name": "LayoutModel",
      "state": {}
     },
     "420e4f9e128e4bdba68a5cbb217440d3": {
      "model_module": "@jupyter-widgets/base",
      "model_module_version": "1.2.0",
      "model_name": "LayoutModel",
      "state": {}
     },
     "4254cf3fb06047a199faedba226ff1ac": {
      "model_module": "@jupyter-widgets/base",
      "model_module_version": "1.2.0",
      "model_name": "LayoutModel",
      "state": {}
     },
     "429cae41eece49fe988d92588faf85aa": {
      "model_module": "@jupyter-widgets/controls",
      "model_module_version": "1.5.0",
      "model_name": "DropdownModel",
      "state": {
       "_options_labels": [
        "2",
        "3",
        "4",
        "5",
        "6",
        "7",
        "8",
        "9",
        "10",
        "11",
        "12",
        "13",
        "14",
        "15",
        "16",
        "17",
        "18",
        "19",
        "20",
        "21",
        "22",
        "23",
        "24",
        "25",
        "26",
        "27",
        "28",
        "29",
        "30",
        "31",
        "32",
        "33",
        "34",
        "35",
        "36",
        "37",
        "38",
        "39",
        "40",
        "41",
        "42",
        "43",
        "44",
        "45",
        "46",
        "47",
        "48",
        "49",
        "50"
       ],
       "description": "$x$",
       "index": 8,
       "layout": "IPY_MODEL_ff367c9f8e0e4d2c9f16e8c4e6b3ba54",
       "style": "IPY_MODEL_fe1d0bb88f2e42268e3488808c2b3c29"
      }
     },
     "42ac1a62c83647728ab3238c7b571ebe": {
      "model_module": "@jupyter-widgets/base",
      "model_module_version": "1.2.0",
      "model_name": "LayoutModel",
      "state": {}
     },
     "42edd2d44c144d8c8bc9a4636cc65b90": {
      "model_module": "@jupyter-widgets/base",
      "model_module_version": "1.2.0",
      "model_name": "LayoutModel",
      "state": {}
     },
     "431b4644c60146c58a93f3c2d32934d9": {
      "model_module": "@jupyter-widgets/controls",
      "model_module_version": "1.5.0",
      "model_name": "DescriptionStyleModel",
      "state": {
       "description_width": ""
      }
     },
     "43c5fceea70c46ebae13881a7c8b469c": {
      "model_module": "@jupyter-widgets/base",
      "model_module_version": "1.2.0",
      "model_name": "LayoutModel",
      "state": {}
     },
     "443127b9056c4f1080c02e49813c7832": {
      "model_module": "@jupyter-widgets/base",
      "model_module_version": "1.2.0",
      "model_name": "LayoutModel",
      "state": {}
     },
     "443cf05463e8432297febee74fbbd5d7": {
      "model_module": "@jupyter-widgets/controls",
      "model_module_version": "1.5.0",
      "model_name": "FloatSliderModel",
      "state": {
       "description": "$\\Delta x$:",
       "layout": "IPY_MODEL_b4aac5c2b775496aa052de465add6d21",
       "max": 0.99,
       "min": 0.15,
       "step": 0.01,
       "style": "IPY_MODEL_cc0351c28b8245f7b9bdbd7b3446cd42",
       "value": 0.25
      }
     },
     "44beebd3db2d40dea309c5a06c44a172": {
      "model_module": "@jupyter-widgets/controls",
      "model_module_version": "1.5.0",
      "model_name": "DescriptionStyleModel",
      "state": {
       "description_width": ""
      }
     },
     "44d29fc424fa4fc089b12c4375a2be34": {
      "model_module": "@jupyter-widgets/base",
      "model_module_version": "1.2.0",
      "model_name": "LayoutModel",
      "state": {}
     },
     "45ab0ce25f0847f09f8f2a393f20cb2d": {
      "model_module": "@jupyter-widgets/base",
      "model_module_version": "1.2.0",
      "model_name": "LayoutModel",
      "state": {}
     },
     "45bbec225c064e989befa59ee84f769f": {
      "model_module": "@jupyter-widgets/controls",
      "model_module_version": "1.5.0",
      "model_name": "DescriptionStyleModel",
      "state": {
       "description_width": ""
      }
     },
     "45de906b664741e39c4bf49e221a8671": {
      "model_module": "@jupyter-widgets/controls",
      "model_module_version": "1.5.0",
      "model_name": "SliderStyleModel",
      "state": {
       "description_width": ""
      }
     },
     "45e011cea40648068a4c7db526424f5c": {
      "model_module": "@jupyter-widgets/base",
      "model_module_version": "1.2.0",
      "model_name": "LayoutModel",
      "state": {}
     },
     "45e128ba6cc245a6a8fb44af9bb71a4b": {
      "model_module": "@jupyter-widgets/base",
      "model_module_version": "1.2.0",
      "model_name": "LayoutModel",
      "state": {}
     },
     "462fca40dd674ca5b163d9519115404e": {
      "model_module": "@jupyter-widgets/controls",
      "model_module_version": "1.5.0",
      "model_name": "VBoxModel",
      "state": {
       "_dom_classes": [
        "widget-interact"
       ],
       "children": [
        "IPY_MODEL_96ba91cc657a468ba48e10596e315416",
        "IPY_MODEL_9d88178c2de94c788bcc122ec3468d30",
        "IPY_MODEL_3b77942c437848138f86203f2efec955",
        "IPY_MODEL_b1a2620f187440fa8fb9034302828723"
       ],
       "layout": "IPY_MODEL_4aed5a74c5db4fa2b93bb182ad0401c3"
      }
     },
     "46f559c6bcc245ea9722a14978da8d60": {
      "model_module": "@jupyter-widgets/controls",
      "model_module_version": "1.5.0",
      "model_name": "FloatSliderModel",
      "state": {
       "description": "L",
       "layout": "IPY_MODEL_74fca5685fa34a0ba309c68e830fad64",
       "max": 0.99,
       "min": 0.15,
       "step": 0.01,
       "style": "IPY_MODEL_9015cc6fdd5741cc9ed268131284f99a",
       "value": 0.5
      }
     },
     "474fef451b4349eda7994cf7a21887bc": {
      "model_module": "@jupyter-widgets/controls",
      "model_module_version": "1.5.0",
      "model_name": "DropdownModel",
      "state": {
       "_options_labels": [
        "2",
        "3",
        "4",
        "5",
        "6",
        "7",
        "8",
        "9",
        "10",
        "11",
        "12",
        "13",
        "14",
        "15",
        "16",
        "17",
        "18",
        "19",
        "20",
        "21",
        "22",
        "23",
        "24",
        "25",
        "26",
        "27",
        "28",
        "29",
        "30",
        "31",
        "32",
        "33",
        "34",
        "35",
        "36",
        "37",
        "38",
        "39",
        "40",
        "41",
        "42",
        "43",
        "44",
        "45",
        "46",
        "47",
        "48",
        "49",
        "50"
       ],
       "description": "$x$",
       "index": 0,
       "layout": "IPY_MODEL_81e9780c80a74f13a449c89e12e23e19",
       "style": "IPY_MODEL_6b3c6fb7cdaf49f28a34e4c86de398fc"
      }
     },
     "476e26ece53c435e8cdf72a939939986": {
      "model_module": "@jupyter-widgets/base",
      "model_module_version": "1.2.0",
      "model_name": "LayoutModel",
      "state": {}
     },
     "486b8689d26546e9a594c3b7f6fde4e7": {
      "model_module": "@jupyter-widgets/base",
      "model_module_version": "1.2.0",
      "model_name": "LayoutModel",
      "state": {}
     },
     "48a0a4030db6411f8826944d40b8b527": {
      "model_module": "@jupyter-widgets/base",
      "model_module_version": "1.2.0",
      "model_name": "LayoutModel",
      "state": {}
     },
     "49526e2c51a1410494fdbc1636656e5f": {
      "model_module": "@jupyter-widgets/base",
      "model_module_version": "1.2.0",
      "model_name": "LayoutModel",
      "state": {}
     },
     "49b2516b4784413a9f7d1fc46224d228": {
      "model_module": "@jupyter-widgets/base",
      "model_module_version": "1.2.0",
      "model_name": "LayoutModel",
      "state": {}
     },
     "4ab53da230134777949b03adf51830e3": {
      "model_module": "@jupyter-widgets/controls",
      "model_module_version": "1.5.0",
      "model_name": "SliderStyleModel",
      "state": {
       "description_width": ""
      }
     },
     "4aed5a74c5db4fa2b93bb182ad0401c3": {
      "model_module": "@jupyter-widgets/base",
      "model_module_version": "1.2.0",
      "model_name": "LayoutModel",
      "state": {}
     },
     "4b0926c77bf84dfdb514c1b2f971672d": {
      "model_module": "@jupyter-widgets/controls",
      "model_module_version": "1.5.0",
      "model_name": "SliderStyleModel",
      "state": {
       "description_width": ""
      }
     },
     "4b233f95a4194ee5a37e58bc29e7d3c2": {
      "model_module": "@jupyter-widgets/controls",
      "model_module_version": "1.5.0",
      "model_name": "DescriptionStyleModel",
      "state": {
       "description_width": ""
      }
     },
     "4b40a6e128e6412d85dba92a53a3fb46": {
      "model_module": "@jupyter-widgets/output",
      "model_module_version": "1.0.0",
      "model_name": "OutputModel",
      "state": {
       "layout": "IPY_MODEL_45e128ba6cc245a6a8fb44af9bb71a4b"
      }
     },
     "4b6bc5903f8e4a75a77bd18461500557": {
      "model_module": "@jupyter-widgets/base",
      "model_module_version": "1.2.0",
      "model_name": "LayoutModel",
      "state": {}
     },
     "4b725dce740d47e8aae4640adf50bd06": {
      "model_module": "@jupyter-widgets/base",
      "model_module_version": "1.2.0",
      "model_name": "LayoutModel",
      "state": {}
     },
     "4c2aa1ad400046969240790d1092e9ac": {
      "model_module": "@jupyter-widgets/controls",
      "model_module_version": "1.5.0",
      "model_name": "SliderStyleModel",
      "state": {
       "description_width": ""
      }
     },
     "4c35a85f269640a1968bc5f1d7636733": {
      "model_module": "@jupyter-widgets/controls",
      "model_module_version": "1.5.0",
      "model_name": "SliderStyleModel",
      "state": {
       "description_width": ""
      }
     },
     "4c4d8704d005419180e75969a625c5c0": {
      "model_module": "@jupyter-widgets/controls",
      "model_module_version": "1.5.0",
      "model_name": "SliderStyleModel",
      "state": {
       "description_width": ""
      }
     },
     "4cf45ca938e04d42b1d993733051c244": {
      "model_module": "@jupyter-widgets/base",
      "model_module_version": "1.2.0",
      "model_name": "LayoutModel",
      "state": {}
     },
     "4cf7fae1df774190ba96c4f6e6f4106c": {
      "model_module": "@jupyter-widgets/base",
      "model_module_version": "1.2.0",
      "model_name": "LayoutModel",
      "state": {}
     },
     "4d3a906c922545999cd89f9a3ba89c3b": {
      "model_module": "@jupyter-widgets/base",
      "model_module_version": "1.2.0",
      "model_name": "LayoutModel",
      "state": {}
     },
     "4dbed147b4f1490bbba3bad4396ddafb": {
      "model_module": "@jupyter-widgets/controls",
      "model_module_version": "1.5.0",
      "model_name": "FloatSliderModel",
      "state": {
       "description": "L",
       "layout": "IPY_MODEL_60ce790734c04aafb1622ef0e35ac685",
       "max": 0.99,
       "min": 0.15,
       "step": 0.01,
       "style": "IPY_MODEL_fdce6f64b72249038ca585e5f1843ac7",
       "value": 0.5
      }
     },
     "4f098a2d55014e978b83c8aee944bb49": {
      "model_module": "@jupyter-widgets/controls",
      "model_module_version": "1.5.0",
      "model_name": "VBoxModel",
      "state": {
       "_dom_classes": [
        "widget-interact"
       ],
       "children": [
        "IPY_MODEL_f0750e19eb4a4a8bafd2e79556c16c05",
        "IPY_MODEL_4dbed147b4f1490bbba3bad4396ddafb",
        "IPY_MODEL_30bb074916eb40d19c86af3435572b34",
        "IPY_MODEL_c8ec3da09d2642b0bd4ca4c3ed52956e"
       ],
       "layout": "IPY_MODEL_d6c240d36ce44c7699e0962deb9c79e1"
      }
     },
     "4f414ef95f9a46c398f128b74aba3c4a": {
      "model_module": "@jupyter-widgets/base",
      "model_module_version": "1.2.0",
      "model_name": "LayoutModel",
      "state": {}
     },
     "4fa1464ac35e4428850ffd4b66d111ae": {
      "model_module": "@jupyter-widgets/base",
      "model_module_version": "1.2.0",
      "model_name": "LayoutModel",
      "state": {}
     },
     "4fb320bd907b478c898f41e9c24942f5": {
      "model_module": "@jupyter-widgets/controls",
      "model_module_version": "1.5.0",
      "model_name": "VBoxModel",
      "state": {
       "_dom_classes": [
        "widget-interact"
       ],
       "children": [
        "IPY_MODEL_c6ac3621ee3d410f89a98087a6f1f1b8",
        "IPY_MODEL_df83a51de9e1429a8d30464db69f5696",
        "IPY_MODEL_535eb8c1df184c88a283ceaaa8aa6f77",
        "IPY_MODEL_a1b19f7f1aed4a0f9790f6122c9c7d25"
       ],
       "layout": "IPY_MODEL_5603476127ee4de1b70161d5f8360cf8"
      }
     },
     "4fc3ddcf8de4487e93de3aeff6d99b47": {
      "model_module": "@jupyter-widgets/base",
      "model_module_version": "1.2.0",
      "model_name": "LayoutModel",
      "state": {}
     },
     "5035eeea392d459d82e89918a8fb9ff2": {
      "model_module": "@jupyter-widgets/controls",
      "model_module_version": "1.5.0",
      "model_name": "VBoxModel",
      "state": {
       "_dom_classes": [
        "widget-interact"
       ],
       "children": [
        "IPY_MODEL_160e787ea45141708501da1ac634354f",
        "IPY_MODEL_0d52a999ad6a4aa6b173441e423bad92",
        "IPY_MODEL_3c3484e73aeb48eba2c8855483a1f636",
        "IPY_MODEL_7f9635612d6d482ca836456bc3287ccb"
       ],
       "layout": "IPY_MODEL_a395af2a4ea345328229051f7cecd4d9"
      }
     },
     "50bcf55a97984d42ac64e420463716bb": {
      "model_module": "@jupyter-widgets/base",
      "model_module_version": "1.2.0",
      "model_name": "LayoutModel",
      "state": {}
     },
     "50df03e58348485d9b8d13b76ce0bcb6": {
      "model_module": "@jupyter-widgets/controls",
      "model_module_version": "1.5.0",
      "model_name": "FloatSliderModel",
      "state": {
       "description": "L",
       "layout": "IPY_MODEL_3144c7d9217c4079b17ab65ef3913b42",
       "max": 0.99,
       "min": 0.15,
       "step": 0.01,
       "style": "IPY_MODEL_f1e94286570548c7b7d8c157d567be57",
       "value": 0.5
      }
     },
     "51bc139839c9416d8eb49b27f18a743e": {
      "model_module": "@jupyter-widgets/base",
      "model_module_version": "1.2.0",
      "model_name": "LayoutModel",
      "state": {}
     },
     "521532dd50f7402986b1158f67fd6500": {
      "model_module": "@jupyter-widgets/controls",
      "model_module_version": "1.5.0",
      "model_name": "SliderStyleModel",
      "state": {
       "description_width": ""
      }
     },
     "52ef0fc7546e4005a413f735755dd11b": {
      "model_module": "@jupyter-widgets/output",
      "model_module_version": "1.0.0",
      "model_name": "OutputModel",
      "state": {
       "layout": "IPY_MODEL_86e05ddc72d74ce9826dcd92b0606065",
       "outputs": [
        {
         "data": {
          "image/png": "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\n",
          "text/plain": "<Figure size 432x288 with 1 Axes>"
         },
         "metadata": {
          "needs_background": "light"
         },
         "output_type": "display_data"
        }
       ]
      }
     },
     "53076a4db821423a86638e2755f89278": {
      "model_module": "@jupyter-widgets/controls",
      "model_module_version": "1.5.0",
      "model_name": "VBoxModel",
      "state": {
       "_dom_classes": [
        "widget-interact"
       ],
       "children": [
        "IPY_MODEL_8e0ef9ae021749daba37b6b0ce5a2c1f",
        "IPY_MODEL_805dcb747e124822885f82d40278507f",
        "IPY_MODEL_32f6edfdb461403296d43ce9e6f592bf",
        "IPY_MODEL_0fb1feebf360444ea06bdcee1ec66b2b"
       ],
       "layout": "IPY_MODEL_c9c428438f8440bbb5de63b40a4c1b5e"
      }
     },
     "53206524ac054662b2adcd0233335b5c": {
      "model_module": "@jupyter-widgets/controls",
      "model_module_version": "1.5.0",
      "model_name": "SliderStyleModel",
      "state": {
       "description_width": ""
      }
     },
     "535eb8c1df184c88a283ceaaa8aa6f77": {
      "model_module": "@jupyter-widgets/controls",
      "model_module_version": "1.5.0",
      "model_name": "DropdownModel",
      "state": {
       "_options_labels": [
        "2",
        "3",
        "4",
        "5",
        "6",
        "7",
        "8",
        "9",
        "10",
        "11",
        "12",
        "13",
        "14",
        "15",
        "16",
        "17",
        "18",
        "19",
        "20",
        "21",
        "22",
        "23",
        "24",
        "25",
        "26",
        "27",
        "28",
        "29",
        "30",
        "31",
        "32",
        "33",
        "34",
        "35",
        "36",
        "37",
        "38",
        "39",
        "40",
        "41",
        "42",
        "43",
        "44",
        "45",
        "46",
        "47",
        "48",
        "49",
        "50"
       ],
       "description": "$x$",
       "index": 12,
       "layout": "IPY_MODEL_67e18afb4cb94b948fb0a0b43888e2f3",
       "style": "IPY_MODEL_fff68ee7fe844b1389b0ba5438b3352a"
      }
     },
     "53a295abdba64519b7487a293fe027be": {
      "model_module": "@jupyter-widgets/controls",
      "model_module_version": "1.5.0",
      "model_name": "FloatSliderModel",
      "state": {
       "description": "$\\Delta x$:",
       "layout": "IPY_MODEL_bef6954400664d08848fdd0785727a0e",
       "max": 0.99,
       "min": 0.15,
       "step": 0.01,
       "style": "IPY_MODEL_b0cef49896c94b28a07c18aef144e78e",
       "value": 0.2
      }
     },
     "53ce8914095c425a906d8f30da60d432": {
      "model_module": "@jupyter-widgets/controls",
      "model_module_version": "1.5.0",
      "model_name": "SliderStyleModel",
      "state": {
       "description_width": ""
      }
     },
     "54461742ad794fa8a9b3df76ac160afe": {
      "model_module": "@jupyter-widgets/base",
      "model_module_version": "1.2.0",
      "model_name": "LayoutModel",
      "state": {}
     },
     "54736b6fc69c449daf89d6297eb254fc": {
      "model_module": "@jupyter-widgets/base",
      "model_module_version": "1.2.0",
      "model_name": "LayoutModel",
      "state": {}
     },
     "5541f60343074e5e832bdad790467a48": {
      "model_module": "@jupyter-widgets/controls",
      "model_module_version": "1.5.0",
      "model_name": "SelectMultipleModel",
      "state": {
       "_options_labels": [
        "2",
        "3",
        "4",
        "5",
        "6",
        "7",
        "8",
        "9",
        "10",
        "11",
        "12",
        "13",
        "14",
        "15",
        "16",
        "17",
        "18",
        "19",
        "20",
        "21",
        "22",
        "23",
        "24",
        "25",
        "26",
        "27",
        "28",
        "29",
        "30",
        "31",
        "32",
        "33",
        "34",
        "35",
        "36",
        "37",
        "38",
        "39",
        "40",
        "41",
        "42",
        "43",
        "44",
        "45",
        "46",
        "47",
        "48",
        "49",
        "50",
        "51",
        "52",
        "53",
        "54",
        "55",
        "56",
        "57",
        "58",
        "59",
        "60",
        "61",
        "62",
        "63",
        "64",
        "65",
        "66",
        "67",
        "68",
        "69",
        "70",
        "71",
        "72",
        "73",
        "74",
        "75",
        "76",
        "77",
        "78",
        "79",
        "80",
        "81",
        "82",
        "83",
        "84",
        "85",
        "86",
        "87",
        "88",
        "89",
        "90",
        "91",
        "92",
        "93",
        "94",
        "95",
        "96",
        "97",
        "98",
        "99",
        "100"
       ],
       "description": "$\\mathbb{X}$",
       "index": [
        18
       ],
       "layout": "IPY_MODEL_bdab04aa61a440b486376723d1d6ffcc",
       "rows": 5,
       "style": "IPY_MODEL_b8ee58486cf14202a74a79fe0857cdec"
      }
     },
     "5603476127ee4de1b70161d5f8360cf8": {
      "model_module": "@jupyter-widgets/base",
      "model_module_version": "1.2.0",
      "model_name": "LayoutModel",
      "state": {}
     },
     "5643b5d60b0b44f78ee57c348a06a24f": {
      "model_module": "@jupyter-widgets/controls",
      "model_module_version": "1.5.0",
      "model_name": "SliderStyleModel",
      "state": {
       "description_width": ""
      }
     },
     "5711b1e640ad438f964dfd224ed4f7d5": {
      "model_module": "@jupyter-widgets/base",
      "model_module_version": "1.2.0",
      "model_name": "LayoutModel",
      "state": {}
     },
     "578bf3f9c5634072943a7b218baac931": {
      "model_module": "@jupyter-widgets/controls",
      "model_module_version": "1.5.0",
      "model_name": "FloatSliderModel",
      "state": {
       "description": "L",
       "layout": "IPY_MODEL_d62b33ced64d43fca9b64599f5e2ddef",
       "max": 0.99,
       "min": 0.15,
       "step": 0.01,
       "style": "IPY_MODEL_9254037916c3455fa7acccc76b6af951",
       "value": 0.5
      }
     },
     "585073495d8c4604bc77e8005424f1a6": {
      "model_module": "@jupyter-widgets/controls",
      "model_module_version": "1.5.0",
      "model_name": "FloatSliderModel",
      "state": {
       "description": "L",
       "layout": "IPY_MODEL_54461742ad794fa8a9b3df76ac160afe",
       "max": 0.99,
       "min": 0.15,
       "step": 0.01,
       "style": "IPY_MODEL_1aa1183a053e448c9efbc09d121b6a3f",
       "value": 0.5
      }
     },
     "586174d8365d49c5aa946dc74a797667": {
      "model_module": "@jupyter-widgets/base",
      "model_module_version": "1.2.0",
      "model_name": "LayoutModel",
      "state": {}
     },
     "58bf75f948e240d48b9304c4a6cb3fac": {
      "model_module": "@jupyter-widgets/controls",
      "model_module_version": "1.5.0",
      "model_name": "VBoxModel",
      "state": {
       "_dom_classes": [
        "widget-interact"
       ],
       "children": [
        "IPY_MODEL_259ffc60a0714d4395decd66daaec637",
        "IPY_MODEL_b9773d2304a24191874e78e9ed4e3fce",
        "IPY_MODEL_8603bc2373684f27b4376b6ac4edd5f2",
        "IPY_MODEL_9faa38330f544ddea71a96642de83582"
       ],
       "layout": "IPY_MODEL_01a5d9212615412585f47cfd62805efe"
      }
     },
     "58d1d264e88a49faab284501fab17c20": {
      "model_module": "@jupyter-widgets/controls",
      "model_module_version": "1.5.0",
      "model_name": "DropdownModel",
      "state": {
       "_options_labels": [
        "2",
        "3",
        "4",
        "5",
        "6",
        "7",
        "8",
        "9",
        "10",
        "11",
        "12",
        "13",
        "14",
        "15",
        "16",
        "17",
        "18",
        "19",
        "20",
        "21",
        "22",
        "23",
        "24",
        "25",
        "26",
        "27",
        "28",
        "29",
        "30",
        "31",
        "32",
        "33",
        "34",
        "35",
        "36",
        "37",
        "38",
        "39",
        "40",
        "41",
        "42",
        "43",
        "44",
        "45",
        "46",
        "47",
        "48",
        "49",
        "50"
       ],
       "description": "$x$",
       "index": 0,
       "layout": "IPY_MODEL_c79bc0e8cbbe4eeeb773812d95f4c412",
       "style": "IPY_MODEL_1b78e74b8a3a49dd8786edb0a064952f"
      }
     },
     "59643b898f1a4a9ea46276287c5085e2": {
      "model_module": "@jupyter-widgets/controls",
      "model_module_version": "1.5.0",
      "model_name": "SliderStyleModel",
      "state": {
       "description_width": ""
      }
     },
     "5a2f666dfd5c45528654cb1465dae986": {
      "model_module": "@jupyter-widgets/base",
      "model_module_version": "1.2.0",
      "model_name": "LayoutModel",
      "state": {}
     },
     "5aa40198843043c490bccd47464cd6cc": {
      "model_module": "@jupyter-widgets/base",
      "model_module_version": "1.2.0",
      "model_name": "LayoutModel",
      "state": {}
     },
     "5bf10443573040079f585eda601c5bda": {
      "model_module": "@jupyter-widgets/controls",
      "model_module_version": "1.5.0",
      "model_name": "DropdownModel",
      "state": {
       "_options_labels": [
        "2",
        "3",
        "4",
        "5",
        "6",
        "7",
        "8",
        "9",
        "10",
        "11",
        "12",
        "13",
        "14",
        "15",
        "16",
        "17",
        "18",
        "19",
        "20",
        "21",
        "22",
        "23",
        "24",
        "25",
        "26",
        "27",
        "28",
        "29",
        "30",
        "31",
        "32",
        "33",
        "34",
        "35",
        "36",
        "37",
        "38",
        "39",
        "40",
        "41",
        "42",
        "43",
        "44",
        "45",
        "46",
        "47",
        "48",
        "49",
        "50"
       ],
       "description": "$x$",
       "index": 0,
       "layout": "IPY_MODEL_02ae3d87739d4ed186c18f36c4020a6c",
       "style": "IPY_MODEL_a929efa921c64e1bbd31dc01d9caa26c"
      }
     },
     "5bf32acfae814ba2a82dcc7e966f71b6": {
      "model_module": "@jupyter-widgets/base",
      "model_module_version": "1.2.0",
      "model_name": "LayoutModel",
      "state": {}
     },
     "5c2070da60994839b7260a90e09e60d6": {
      "model_module": "@jupyter-widgets/base",
      "model_module_version": "1.2.0",
      "model_name": "LayoutModel",
      "state": {}
     },
     "5f0f3ac2ae83421eb873deb4785219ea": {
      "model_module": "@jupyter-widgets/base",
      "model_module_version": "1.2.0",
      "model_name": "LayoutModel",
      "state": {}
     },
     "5fec8ce5890249e09e795f3b77cc1433": {
      "model_module": "@jupyter-widgets/base",
      "model_module_version": "1.2.0",
      "model_name": "LayoutModel",
      "state": {}
     },
     "60ce790734c04aafb1622ef0e35ac685": {
      "model_module": "@jupyter-widgets/base",
      "model_module_version": "1.2.0",
      "model_name": "LayoutModel",
      "state": {}
     },
     "60d40d430bc34810a01b903372cd06a8": {
      "model_module": "@jupyter-widgets/controls",
      "model_module_version": "1.5.0",
      "model_name": "DropdownModel",
      "state": {
       "_options_labels": [
        "2",
        "3",
        "4",
        "5",
        "6",
        "7",
        "8",
        "9",
        "10",
        "11",
        "12",
        "13",
        "14",
        "15",
        "16",
        "17",
        "18",
        "19",
        "20",
        "21",
        "22",
        "23",
        "24",
        "25",
        "26",
        "27",
        "28",
        "29",
        "30",
        "31",
        "32",
        "33",
        "34",
        "35",
        "36",
        "37",
        "38",
        "39",
        "40",
        "41",
        "42",
        "43",
        "44",
        "45",
        "46",
        "47",
        "48",
        "49",
        "50"
       ],
       "description": "$x$",
       "index": 38,
       "layout": "IPY_MODEL_89ed91aaf22547fea7767dd34353c1bc",
       "style": "IPY_MODEL_8a22922e59cb486b8019faec7d45bd84"
      }
     },
     "6120ec737fb54ad8b88b0856a18b563e": {
      "model_module": "@jupyter-widgets/output",
      "model_module_version": "1.0.0",
      "model_name": "OutputModel",
      "state": {
       "layout": "IPY_MODEL_476e26ece53c435e8cdf72a939939986"
      }
     },
     "613a15a008b1482dbd7e3d19c357742c": {
      "model_module": "@jupyter-widgets/output",
      "model_module_version": "1.0.0",
      "model_name": "OutputModel",
      "state": {
       "layout": "IPY_MODEL_01969237ff0c47419edc3b97cbbcfd38"
      }
     },
     "61e2428f38184576b106efe0552a3411": {
      "model_module": "@jupyter-widgets/controls",
      "model_module_version": "1.5.0",
      "model_name": "DescriptionStyleModel",
      "state": {
       "description_width": ""
      }
     },
     "61f89971f4034c39ab3d122b9179d797": {
      "model_module": "@jupyter-widgets/base",
      "model_module_version": "1.2.0",
      "model_name": "LayoutModel",
      "state": {}
     },
     "6207e7cd6cad4ec4b8de3374eda86863": {
      "model_module": "@jupyter-widgets/controls",
      "model_module_version": "1.5.0",
      "model_name": "FloatSliderModel",
      "state": {
       "description": "$\\Delta x$:",
       "layout": "IPY_MODEL_9d1e408d53124a43b8e0e70151b7b1c8",
       "max": 0.99,
       "min": 0.15,
       "step": 0.01,
       "style": "IPY_MODEL_9ae80afae8f64aea9dc2596cb970d0fd",
       "value": 0.2
      }
     },
     "6238fd542af54fbab1995523b69c930a": {
      "model_module": "@jupyter-widgets/controls",
      "model_module_version": "1.5.0",
      "model_name": "DropdownModel",
      "state": {
       "_options_labels": [
        "2",
        "3",
        "4",
        "5",
        "6",
        "7",
        "8",
        "9",
        "10",
        "11",
        "12",
        "13",
        "14",
        "15",
        "16",
        "17",
        "18",
        "19",
        "20",
        "21",
        "22",
        "23",
        "24",
        "25",
        "26",
        "27",
        "28",
        "29",
        "30",
        "31",
        "32",
        "33",
        "34",
        "35",
        "36",
        "37",
        "38",
        "39",
        "40",
        "41",
        "42",
        "43",
        "44",
        "45",
        "46",
        "47",
        "48",
        "49",
        "50"
       ],
       "description": "$x$",
       "index": 0,
       "layout": "IPY_MODEL_cdd8fae535724fa79b0b97b7bdc00e9f",
       "style": "IPY_MODEL_2f688597fc4f4b8f946eb23569fbf514"
      }
     },
     "625d1f79d8dd4dbf8695e0490f603ffe": {
      "model_module": "@jupyter-widgets/controls",
      "model_module_version": "1.5.0",
      "model_name": "VBoxModel",
      "state": {
       "_dom_classes": [
        "widget-interact"
       ],
       "children": [
        "IPY_MODEL_ea68f2e925f1429e9efa6eb9c47a7e7f",
        "IPY_MODEL_99f8487f5a74486f8ee94250ae9b355d",
        "IPY_MODEL_22afd1ce7ee14bd7b2016155268ff2b0",
        "IPY_MODEL_6120ec737fb54ad8b88b0856a18b563e"
       ],
       "layout": "IPY_MODEL_d2ecdeb970ec4705b89bf9775e5cd48e"
      }
     },
     "62b433776e34477a96195dec42b1470e": {
      "model_module": "@jupyter-widgets/base",
      "model_module_version": "1.2.0",
      "model_name": "LayoutModel",
      "state": {}
     },
     "635c9fe7dd984e8f81054d82dc0c5f81": {
      "model_module": "@jupyter-widgets/output",
      "model_module_version": "1.0.0",
      "model_name": "OutputModel",
      "state": {
       "layout": "IPY_MODEL_4b6bc5903f8e4a75a77bd18461500557"
      }
     },
     "645888a34afa418a88745c398592f2ff": {
      "model_module": "@jupyter-widgets/base",
      "model_module_version": "1.2.0",
      "model_name": "LayoutModel",
      "state": {}
     },
     "647817439a0b4534b418732f7cc1505f": {
      "model_module": "@jupyter-widgets/output",
      "model_module_version": "1.0.0",
      "model_name": "OutputModel",
      "state": {
       "layout": "IPY_MODEL_106ee41718f344998f53b3430f29f56a"
      }
     },
     "64b83bdb2bd643a8940aec65b3975522": {
      "model_module": "@jupyter-widgets/controls",
      "model_module_version": "1.5.0",
      "model_name": "SliderStyleModel",
      "state": {
       "description_width": ""
      }
     },
     "667bb55cbdf74161add5750d20f1e993": {
      "model_module": "@jupyter-widgets/controls",
      "model_module_version": "1.5.0",
      "model_name": "SliderStyleModel",
      "state": {
       "description_width": ""
      }
     },
     "668796bb304b436da8d57e218da78196": {
      "model_module": "@jupyter-widgets/base",
      "model_module_version": "1.2.0",
      "model_name": "LayoutModel",
      "state": {}
     },
     "678f6ccf4c77455a84cb1dc560a8d851": {
      "model_module": "@jupyter-widgets/controls",
      "model_module_version": "1.5.0",
      "model_name": "VBoxModel",
      "state": {
       "_dom_classes": [
        "widget-interact"
       ],
       "children": [
        "IPY_MODEL_fb38a4bdc77041dba1c17608aacd0682",
        "IPY_MODEL_9d2dd55082934100b16db029155c1cda",
        "IPY_MODEL_1991d95deaa3498fa4fcb1f653baeaf5",
        "IPY_MODEL_52ef0fc7546e4005a413f735755dd11b"
       ],
       "layout": "IPY_MODEL_719a03b57f194dd082f8c020e7a53fe5"
      }
     },
     "67e18afb4cb94b948fb0a0b43888e2f3": {
      "model_module": "@jupyter-widgets/base",
      "model_module_version": "1.2.0",
      "model_name": "LayoutModel",
      "state": {}
     },
     "68dd240461a74a668f27c09484e4e143": {
      "model_module": "@jupyter-widgets/controls",
      "model_module_version": "1.5.0",
      "model_name": "DescriptionStyleModel",
      "state": {
       "description_width": ""
      }
     },
     "69cee52c1d89423395e2d0cfe2a4b337": {
      "model_module": "@jupyter-widgets/base",
      "model_module_version": "1.2.0",
      "model_name": "LayoutModel",
      "state": {}
     },
     "6a545d0336174021a17d8e92da14df7c": {
      "model_module": "@jupyter-widgets/controls",
      "model_module_version": "1.5.0",
      "model_name": "DropdownModel",
      "state": {
       "_options_labels": [
        "0.1",
        "0.15",
        "0.2",
        "0.25",
        "0.3",
        "0.35",
        "0.4",
        "0.5"
       ],
       "description": "$\\Delta x$",
       "index": 0,
       "layout": "IPY_MODEL_352e01c1bdda4e298e9ec27d066ec490",
       "style": "IPY_MODEL_7618ed286e9d45cc816491eb748639b5"
      }
     },
     "6aaab2e3c991430093bf2808daac1414": {
      "model_module": "@jupyter-widgets/controls",
      "model_module_version": "1.5.0",
      "model_name": "DropdownModel",
      "state": {
       "_options_labels": [
        "2",
        "3",
        "4",
        "5",
        "6",
        "7",
        "8",
        "9",
        "10",
        "11",
        "12",
        "13",
        "14",
        "15",
        "16",
        "17",
        "18",
        "19",
        "20",
        "21",
        "22",
        "23",
        "24",
        "25",
        "26",
        "27",
        "28",
        "29",
        "30",
        "31",
        "32",
        "33",
        "34",
        "35",
        "36",
        "37",
        "38",
        "39",
        "40",
        "41",
        "42",
        "43",
        "44",
        "45",
        "46",
        "47",
        "48",
        "49",
        "50"
       ],
       "description": "$x$",
       "index": 0,
       "layout": "IPY_MODEL_45e011cea40648068a4c7db526424f5c",
       "style": "IPY_MODEL_ab54c7f71b994ea6bfc316c32ba68905"
      }
     },
     "6ac68db29fea4ecea9cab4bd9f399d32": {
      "model_module": "@jupyter-widgets/controls",
      "model_module_version": "1.5.0",
      "model_name": "SelectMultipleModel",
      "state": {
       "_options_labels": [
        "2",
        "3",
        "4",
        "5",
        "6",
        "7",
        "8",
        "9",
        "10",
        "11",
        "12",
        "13",
        "14",
        "15",
        "16",
        "17",
        "18",
        "19",
        "20",
        "21",
        "22",
        "23",
        "24",
        "25",
        "26",
        "27",
        "28",
        "29",
        "30",
        "31",
        "32",
        "33",
        "34",
        "35",
        "36",
        "37",
        "38",
        "39",
        "40",
        "41",
        "42",
        "43",
        "44",
        "45",
        "46",
        "47",
        "48",
        "49",
        "50",
        "51",
        "52",
        "53",
        "54",
        "55",
        "56",
        "57",
        "58",
        "59",
        "60",
        "61",
        "62",
        "63",
        "64",
        "65",
        "66",
        "67",
        "68",
        "69",
        "70",
        "71",
        "72",
        "73",
        "74",
        "75",
        "76",
        "77",
        "78",
        "79",
        "80",
        "81",
        "82",
        "83",
        "84",
        "85",
        "86",
        "87",
        "88",
        "89",
        "90",
        "91",
        "92",
        "93",
        "94",
        "95",
        "96",
        "97",
        "98",
        "99",
        "100"
       ],
       "description": "$\\mathbb{X}$",
       "index": [
        18
       ],
       "layout": "IPY_MODEL_89f0d98132374728bd18f917c4e0b6a7",
       "rows": 5,
       "style": "IPY_MODEL_7bdec40bdecd41aeafe30850badf1b11"
      }
     },
     "6b3c6fb7cdaf49f28a34e4c86de398fc": {
      "model_module": "@jupyter-widgets/controls",
      "model_module_version": "1.5.0",
      "model_name": "DescriptionStyleModel",
      "state": {
       "description_width": ""
      }
     },
     "6c502e6d10ea414891b965d868d9df0b": {
      "model_module": "@jupyter-widgets/base",
      "model_module_version": "1.2.0",
      "model_name": "LayoutModel",
      "state": {}
     },
     "6cdfb388ab8844828b55637c56e34808": {
      "model_module": "@jupyter-widgets/controls",
      "model_module_version": "1.5.0",
      "model_name": "FloatSliderModel",
      "state": {
       "description": "L",
       "layout": "IPY_MODEL_5fec8ce5890249e09e795f3b77cc1433",
       "max": 0.99,
       "min": 0.15,
       "step": 0.01,
       "style": "IPY_MODEL_e693c77afa674b45bfcfa15eacc7e96b",
       "value": 0.5
      }
     },
     "6cf9d0534c1c4da880c00eef20e2c8a8": {
      "model_module": "@jupyter-widgets/controls",
      "model_module_version": "1.5.0",
      "model_name": "FloatSliderModel",
      "state": {
       "description": "$\\Delta x$:",
       "layout": "IPY_MODEL_298bbe4e12104b2a8f00bd82010aa35d",
       "max": 0.99,
       "min": 0.15,
       "step": 0.01,
       "style": "IPY_MODEL_7af12d8d29c24471bedb901f2478000c",
       "value": 0.59
      }
     },
     "6dab221c2da94a7c973f10b5dd02ec83": {
      "model_module": "@jupyter-widgets/controls",
      "model_module_version": "1.5.0",
      "model_name": "DropdownModel",
      "state": {
       "_options_labels": [
        "2",
        "3",
        "4",
        "5",
        "6",
        "7",
        "8",
        "9",
        "10",
        "11",
        "12",
        "13",
        "14",
        "15",
        "16",
        "17",
        "18",
        "19",
        "20",
        "21",
        "22",
        "23",
        "24",
        "25",
        "26",
        "27",
        "28",
        "29",
        "30",
        "31",
        "32",
        "33",
        "34",
        "35",
        "36",
        "37",
        "38",
        "39",
        "40",
        "41",
        "42",
        "43",
        "44",
        "45",
        "46",
        "47",
        "48",
        "49",
        "50"
       ],
       "description": "$x$",
       "index": 12,
       "layout": "IPY_MODEL_3273bff719e144a1b40fc443064318ba",
       "style": "IPY_MODEL_4b233f95a4194ee5a37e58bc29e7d3c2"
      }
     },
     "6f7a039461174b0ebaae76a052e8b29a": {
      "model_module": "@jupyter-widgets/controls",
      "model_module_version": "1.5.0",
      "model_name": "SliderStyleModel",
      "state": {
       "description_width": ""
      }
     },
     "6fe3220b9fcf4ae682d0ede7ab5e9b4e": {
      "model_module": "@jupyter-widgets/output",
      "model_module_version": "1.0.0",
      "model_name": "OutputModel",
      "state": {
       "layout": "IPY_MODEL_1ceea967685848948efefbd337651e2d"
      }
     },
     "7067af21be404edf844b3ea86a3ea536": {
      "model_module": "@jupyter-widgets/base",
      "model_module_version": "1.2.0",
      "model_name": "LayoutModel",
      "state": {}
     },
     "719a03b57f194dd082f8c020e7a53fe5": {
      "model_module": "@jupyter-widgets/base",
      "model_module_version": "1.2.0",
      "model_name": "LayoutModel",
      "state": {}
     },
     "71a5620eb8f9459cbab598201e040f0d": {
      "model_module": "@jupyter-widgets/base",
      "model_module_version": "1.2.0",
      "model_name": "LayoutModel",
      "state": {}
     },
     "72c08b1566994b4982926799b2fe3ab7": {
      "model_module": "@jupyter-widgets/base",
      "model_module_version": "1.2.0",
      "model_name": "LayoutModel",
      "state": {}
     },
     "747877270a6f4ab2aae797c30300060b": {
      "model_module": "@jupyter-widgets/base",
      "model_module_version": "1.2.0",
      "model_name": "LayoutModel",
      "state": {}
     },
     "74fca5685fa34a0ba309c68e830fad64": {
      "model_module": "@jupyter-widgets/base",
      "model_module_version": "1.2.0",
      "model_name": "LayoutModel",
      "state": {}
     },
     "7618ed286e9d45cc816491eb748639b5": {
      "model_module": "@jupyter-widgets/controls",
      "model_module_version": "1.5.0",
      "model_name": "DescriptionStyleModel",
      "state": {
       "description_width": ""
      }
     },
     "79004fdc9438462a957b17a8c56ed755": {
      "model_module": "@jupyter-widgets/base",
      "model_module_version": "1.2.0",
      "model_name": "LayoutModel",
      "state": {}
     },
     "793f74f3153b4067956cf95627620601": {
      "model_module": "@jupyter-widgets/controls",
      "model_module_version": "1.5.0",
      "model_name": "VBoxModel",
      "state": {
       "_dom_classes": [
        "widget-interact"
       ],
       "children": [
        "IPY_MODEL_2ca92549fc89485fb64b9c1c826ee96e",
        "IPY_MODEL_e8c01bd6244e421f8adb36bb000b7cde",
        "IPY_MODEL_5541f60343074e5e832bdad790467a48",
        "IPY_MODEL_647817439a0b4534b418732f7cc1505f"
       ],
       "layout": "IPY_MODEL_4254cf3fb06047a199faedba226ff1ac"
      }
     },
     "79666eeb56c94a75bc9454534d8d7d18": {
      "model_module": "@jupyter-widgets/base",
      "model_module_version": "1.2.0",
      "model_name": "LayoutModel",
      "state": {}
     },
     "798ee19e204a45888c80e851d498cecf": {
      "model_module": "@jupyter-widgets/controls",
      "model_module_version": "1.5.0",
      "model_name": "DescriptionStyleModel",
      "state": {
       "description_width": ""
      }
     },
     "798fbc7ea77c427bb23566f8d8b06d86": {
      "model_module": "@jupyter-widgets/controls",
      "model_module_version": "1.5.0",
      "model_name": "FloatSliderModel",
      "state": {
       "description": "L",
       "layout": "IPY_MODEL_43c5fceea70c46ebae13881a7c8b469c",
       "max": 0.99,
       "min": 0.15,
       "step": 0.01,
       "style": "IPY_MODEL_234d520619d148f99256747caac27a32",
       "value": 0.5
      }
     },
     "7af12d8d29c24471bedb901f2478000c": {
      "model_module": "@jupyter-widgets/controls",
      "model_module_version": "1.5.0",
      "model_name": "SliderStyleModel",
      "state": {
       "description_width": ""
      }
     },
     "7bdec40bdecd41aeafe30850badf1b11": {
      "model_module": "@jupyter-widgets/controls",
      "model_module_version": "1.5.0",
      "model_name": "DescriptionStyleModel",
      "state": {
       "description_width": ""
      }
     },
     "7beaa0b1dc314987a820e3c5bda62fc3": {
      "model_module": "@jupyter-widgets/controls",
      "model_module_version": "1.5.0",
      "model_name": "DropdownModel",
      "state": {
       "_options_labels": [
        "2",
        "3",
        "4",
        "5",
        "6",
        "7",
        "8",
        "9",
        "10",
        "11",
        "12",
        "13",
        "14",
        "15",
        "16",
        "17",
        "18",
        "19",
        "20",
        "21",
        "22",
        "23",
        "24",
        "25",
        "26",
        "27",
        "28",
        "29",
        "30",
        "31",
        "32",
        "33",
        "34",
        "35",
        "36",
        "37",
        "38",
        "39",
        "40",
        "41",
        "42",
        "43",
        "44",
        "45",
        "46",
        "47",
        "48",
        "49",
        "50"
       ],
       "description": "$x$",
       "index": 0,
       "layout": "IPY_MODEL_039466289ffb4cd59a07a9db594d8749",
       "style": "IPY_MODEL_fb8f8c9d0af1474ea92f80d8060371e1"
      }
     },
     "7d074beb3bbe43ef92b4787453c40a88": {
      "model_module": "@jupyter-widgets/controls",
      "model_module_version": "1.5.0",
      "model_name": "VBoxModel",
      "state": {
       "_dom_classes": [
        "widget-interact"
       ],
       "children": [
        "IPY_MODEL_846827b9e5cd4851b4053ebb9f920f03",
        "IPY_MODEL_220ea4d6820145f6a99af9ceab0cfd54",
        "IPY_MODEL_cb12e8b21da14080a13cf1b4b532e2ad",
        "IPY_MODEL_bfb8ca682b6a4c078df17d97f8030f06"
       ],
       "layout": "IPY_MODEL_0a90826286a547b3a7285435fcd18118"
      }
     },
     "7d39729d29af4961a128cf8c5fdb2473": {
      "model_module": "@jupyter-widgets/controls",
      "model_module_version": "1.5.0",
      "model_name": "FloatSliderModel",
      "state": {
       "description": "$\\Delta x$:",
       "layout": "IPY_MODEL_14c6cb3cfbb54d42a1b78fd98de349e7",
       "max": 0.99,
       "min": 0.15,
       "step": 0.01,
       "style": "IPY_MODEL_ab8d2a9a096f436cb9b931ffae263800",
       "value": 0.2
      }
     },
     "7d3b72f60c484e1ea669fca5fa1251c6": {
      "model_module": "@jupyter-widgets/base",
      "model_module_version": "1.2.0",
      "model_name": "LayoutModel",
      "state": {}
     },
     "7dffffc9392640fa80b5b74fe5391a07": {
      "model_module": "@jupyter-widgets/base",
      "model_module_version": "1.2.0",
      "model_name": "LayoutModel",
      "state": {}
     },
     "7e43c5bddd6546aabf2826d8f07b2d2a": {
      "model_module": "@jupyter-widgets/output",
      "model_module_version": "1.0.0",
      "model_name": "OutputModel",
      "state": {
       "layout": "IPY_MODEL_e705b28320724005a3beff65022400a5"
      }
     },
     "7e7ac91d37204397b20cf5f63c8c2562": {
      "model_module": "@jupyter-widgets/controls",
      "model_module_version": "1.5.0",
      "model_name": "VBoxModel",
      "state": {
       "_dom_classes": [
        "widget-interact"
       ],
       "children": [
        "IPY_MODEL_baa07abe457940dc850fe81215226977",
        "IPY_MODEL_c72ffceca46e4e909eb3dea047eb8d67",
        "IPY_MODEL_804cb20701db4dbe9f84ea27b807077f",
        "IPY_MODEL_092da86421464a3aa56a26bf93c62c1c"
       ],
       "layout": "IPY_MODEL_82db4ffabf2a40a88d4d108bea2fa5f0"
      }
     },
     "7ec7612849cb48a5a31b488100bb37ae": {
      "model_module": "@jupyter-widgets/controls",
      "model_module_version": "1.5.0",
      "model_name": "SliderStyleModel",
      "state": {
       "description_width": ""
      }
     },
     "7ed9dc9fb64b47e588642a7b43deed28": {
      "model_module": "@jupyter-widgets/controls",
      "model_module_version": "1.5.0",
      "model_name": "SelectMultipleModel",
      "state": {
       "_options_labels": [
        "2",
        "3",
        "4",
        "5",
        "6",
        "7",
        "8",
        "9",
        "10",
        "11",
        "12",
        "13",
        "14",
        "15",
        "16",
        "17",
        "18",
        "19",
        "20",
        "21",
        "22",
        "23",
        "24",
        "25",
        "26",
        "27",
        "28",
        "29",
        "30",
        "31",
        "32",
        "33",
        "34",
        "35",
        "36",
        "37",
        "38",
        "39",
        "40",
        "41",
        "42",
        "43",
        "44",
        "45",
        "46",
        "47",
        "48",
        "49",
        "50",
        "51",
        "52",
        "53",
        "54",
        "55",
        "56",
        "57",
        "58",
        "59",
        "60",
        "61",
        "62",
        "63",
        "64",
        "65",
        "66",
        "67",
        "68",
        "69",
        "70",
        "71",
        "72",
        "73",
        "74",
        "75",
        "76",
        "77",
        "78",
        "79",
        "80",
        "81",
        "82",
        "83",
        "84",
        "85",
        "86",
        "87",
        "88",
        "89",
        "90",
        "91",
        "92",
        "93",
        "94",
        "95",
        "96",
        "97",
        "98",
        "99",
        "100"
       ],
       "description": "$\\mathbb{X}$",
       "index": [
        18
       ],
       "layout": "IPY_MODEL_5f0f3ac2ae83421eb873deb4785219ea",
       "rows": 5,
       "style": "IPY_MODEL_9700cab108a74cee922e29da63c0ee5e"
      }
     },
     "7f954ebd68ae4048b153a872a9814a44": {
      "model_module": "@jupyter-widgets/controls",
      "model_module_version": "1.5.0",
      "model_name": "FloatSliderModel",
      "state": {
       "description": "L",
       "layout": "IPY_MODEL_49b2516b4784413a9f7d1fc46224d228",
       "max": 0.99,
       "min": 0.15,
       "step": 0.01,
       "style": "IPY_MODEL_bf6b3a26b0264083a0794905bfbaf99d",
       "value": 0.5
      }
     },
     "7f9635612d6d482ca836456bc3287ccb": {
      "model_module": "@jupyter-widgets/output",
      "model_module_version": "1.0.0",
      "model_name": "OutputModel",
      "state": {
       "layout": "IPY_MODEL_a0356662eee64002bad1f1934f4de76b"
      }
     },
     "8009fd53609248f0a9cc03837472b3c8": {
      "model_module": "@jupyter-widgets/controls",
      "model_module_version": "1.5.0",
      "model_name": "SliderStyleModel",
      "state": {
       "description_width": ""
      }
     },
     "80448ef51409498daf8cd002f5a97f82": {
      "model_module": "@jupyter-widgets/base",
      "model_module_version": "1.2.0",
      "model_name": "LayoutModel",
      "state": {}
     },
     "804cb20701db4dbe9f84ea27b807077f": {
      "model_module": "@jupyter-widgets/controls",
      "model_module_version": "1.5.0",
      "model_name": "DropdownModel",
      "state": {
       "_options_labels": [
        "2",
        "3",
        "4",
        "5",
        "6",
        "7",
        "8",
        "9",
        "10",
        "11",
        "12",
        "13",
        "14",
        "15",
        "16",
        "17",
        "18",
        "19",
        "20",
        "21",
        "22",
        "23",
        "24",
        "25",
        "26",
        "27",
        "28",
        "29",
        "30",
        "31",
        "32",
        "33",
        "34",
        "35",
        "36",
        "37",
        "38",
        "39",
        "40",
        "41",
        "42",
        "43",
        "44",
        "45",
        "46",
        "47",
        "48",
        "49",
        "50"
       ],
       "description": "$x$",
       "index": 0,
       "layout": "IPY_MODEL_c65970b25ce744739671298a8926fa7b",
       "style": "IPY_MODEL_cd89aca659da499f91c5c43107c38cb8"
      }
     },
     "805dcb747e124822885f82d40278507f": {
      "model_module": "@jupyter-widgets/controls",
      "model_module_version": "1.5.0",
      "model_name": "FloatSliderModel",
      "state": {
       "description": "L",
       "layout": "IPY_MODEL_fae429bf031a40329cf3702e1bc9c74b",
       "max": 0.99,
       "min": 0.15,
       "step": 0.01,
       "style": "IPY_MODEL_64b83bdb2bd643a8940aec65b3975522",
       "value": 0.5
      }
     },
     "8187a0f452c84f95b770b001ceb2bffe": {
      "model_module": "@jupyter-widgets/controls",
      "model_module_version": "1.5.0",
      "model_name": "SliderStyleModel",
      "state": {
       "description_width": ""
      }
     },
     "81e9780c80a74f13a449c89e12e23e19": {
      "model_module": "@jupyter-widgets/base",
      "model_module_version": "1.2.0",
      "model_name": "LayoutModel",
      "state": {}
     },
     "82470829d9924ea19ddc4b6064fa35a2": {
      "model_module": "@jupyter-widgets/controls",
      "model_module_version": "1.5.0",
      "model_name": "SliderStyleModel",
      "state": {
       "description_width": ""
      }
     },
     "82db4ffabf2a40a88d4d108bea2fa5f0": {
      "model_module": "@jupyter-widgets/base",
      "model_module_version": "1.2.0",
      "model_name": "LayoutModel",
      "state": {}
     },
     "82dcb642109e4ac6837b40fda9f6b7e2": {
      "model_module": "@jupyter-widgets/base",
      "model_module_version": "1.2.0",
      "model_name": "LayoutModel",
      "state": {}
     },
     "84262afb2e4d4aa5ab1c8cc6ccf7d41f": {
      "model_module": "@jupyter-widgets/base",
      "model_module_version": "1.2.0",
      "model_name": "LayoutModel",
      "state": {}
     },
     "846827b9e5cd4851b4053ebb9f920f03": {
      "model_module": "@jupyter-widgets/controls",
      "model_module_version": "1.5.0",
      "model_name": "FloatSliderModel",
      "state": {
       "description": "$\\Delta x$:",
       "layout": "IPY_MODEL_cf6918ac8d2e485aad6933a2271bd921",
       "max": 0.99,
       "min": 0.15,
       "step": 0.01,
       "style": "IPY_MODEL_e59298074b154690b5b46145852746bf",
       "value": 0.25
      }
     },
     "84d73f3ebd5f4dd9ad091ae3366e249b": {
      "model_module": "@jupyter-widgets/controls",
      "model_module_version": "1.5.0",
      "model_name": "FloatSliderModel",
      "state": {
       "description": "L",
       "layout": "IPY_MODEL_1addbfa195334536a12a1bb83addce97",
       "max": 0.99,
       "min": 0.15,
       "step": 0.01,
       "style": "IPY_MODEL_8a3f76e3c8644658905e21992103506d",
       "value": 0.5
      }
     },
     "858ced3f6a134d8f9a3f2df5ecd612f4": {
      "model_module": "@jupyter-widgets/output",
      "model_module_version": "1.0.0",
      "model_name": "OutputModel",
      "state": {
       "layout": "IPY_MODEL_3d462b28f84c4624adea0db328d22d43"
      }
     },
     "8603bc2373684f27b4376b6ac4edd5f2": {
      "model_module": "@jupyter-widgets/controls",
      "model_module_version": "1.5.0",
      "model_name": "DropdownModel",
      "state": {
       "_options_labels": [
        "2",
        "3",
        "4",
        "5",
        "6",
        "7",
        "8",
        "9",
        "10",
        "11",
        "12",
        "13",
        "14",
        "15",
        "16",
        "17",
        "18",
        "19",
        "20",
        "21",
        "22",
        "23",
        "24",
        "25",
        "26",
        "27",
        "28",
        "29",
        "30",
        "31",
        "32",
        "33",
        "34",
        "35",
        "36",
        "37",
        "38",
        "39",
        "40",
        "41",
        "42",
        "43",
        "44",
        "45",
        "46",
        "47",
        "48",
        "49",
        "50"
       ],
       "description": "$x$",
       "index": 0,
       "layout": "IPY_MODEL_79666eeb56c94a75bc9454534d8d7d18",
       "style": "IPY_MODEL_0f2166460a4241e09e53a8287bd58912"
      }
     },
     "86e05ddc72d74ce9826dcd92b0606065": {
      "model_module": "@jupyter-widgets/base",
      "model_module_version": "1.2.0",
      "model_name": "LayoutModel",
      "state": {}
     },
     "86ffe2063c5642a680b90e8d8d591045": {
      "model_module": "@jupyter-widgets/base",
      "model_module_version": "1.2.0",
      "model_name": "LayoutModel",
      "state": {}
     },
     "87163de4be714c68bed6c45f5ee14f4f": {
      "model_module": "@jupyter-widgets/base",
      "model_module_version": "1.2.0",
      "model_name": "LayoutModel",
      "state": {}
     },
     "8742aa1cce234b52a1506fb147b02886": {
      "model_module": "@jupyter-widgets/controls",
      "model_module_version": "1.5.0",
      "model_name": "FloatSliderModel",
      "state": {
       "description": "$\\Delta x$:",
       "layout": "IPY_MODEL_5bf32acfae814ba2a82dcc7e966f71b6",
       "max": 0.99,
       "min": 0.15,
       "step": 0.01,
       "style": "IPY_MODEL_53ce8914095c425a906d8f30da60d432",
       "value": 0.2
      }
     },
     "87abcf0fc61b4751a52442fca48e21b4": {
      "model_module": "@jupyter-widgets/base",
      "model_module_version": "1.2.0",
      "model_name": "LayoutModel",
      "state": {}
     },
     "881cbe6cfcf445e89ff66887a2f0046e": {
      "model_module": "@jupyter-widgets/base",
      "model_module_version": "1.2.0",
      "model_name": "LayoutModel",
      "state": {}
     },
     "88268b5b78d544e283fe042872e2a77f": {
      "model_module": "@jupyter-widgets/controls",
      "model_module_version": "1.5.0",
      "model_name": "VBoxModel",
      "state": {
       "_dom_classes": [
        "widget-interact"
       ],
       "children": [
        "IPY_MODEL_24ec116f9fd540c389657ea30afdccff",
        "IPY_MODEL_b185b68b0a284f61a668774a427e2dc5",
        "IPY_MODEL_e4182306e9824c45934abc697efc050d",
        "IPY_MODEL_e4ee79532d02463e9ac9a4d835c48594"
       ],
       "layout": "IPY_MODEL_33af76c9897448629dac2f4acdc0e774"
      }
     },
     "88577f028e6049489de7d52e7d737bc0": {
      "model_module": "@jupyter-widgets/controls",
      "model_module_version": "1.5.0",
      "model_name": "DescriptionStyleModel",
      "state": {
       "description_width": ""
      }
     },
     "8867d517233b43c0bcc5320ea7192ec4": {
      "model_module": "@jupyter-widgets/controls",
      "model_module_version": "1.5.0",
      "model_name": "FloatSliderModel",
      "state": {
       "description": "$\\Delta x$:",
       "layout": "IPY_MODEL_62b433776e34477a96195dec42b1470e",
       "max": 0.99,
       "min": 0.15,
       "step": 0.01,
       "style": "IPY_MODEL_c479b50fdac24895b128fe6ce08f67ea",
       "value": 0.2
      }
     },
     "89ed91aaf22547fea7767dd34353c1bc": {
      "model_module": "@jupyter-widgets/base",
      "model_module_version": "1.2.0",
      "model_name": "LayoutModel",
      "state": {}
     },
     "89f0d98132374728bd18f917c4e0b6a7": {
      "model_module": "@jupyter-widgets/base",
      "model_module_version": "1.2.0",
      "model_name": "LayoutModel",
      "state": {}
     },
     "8a0017c6705d4b1d872a842867e14457": {
      "model_module": "@jupyter-widgets/base",
      "model_module_version": "1.2.0",
      "model_name": "LayoutModel",
      "state": {}
     },
     "8a22922e59cb486b8019faec7d45bd84": {
      "model_module": "@jupyter-widgets/controls",
      "model_module_version": "1.5.0",
      "model_name": "DescriptionStyleModel",
      "state": {
       "description_width": ""
      }
     },
     "8a3f76e3c8644658905e21992103506d": {
      "model_module": "@jupyter-widgets/controls",
      "model_module_version": "1.5.0",
      "model_name": "SliderStyleModel",
      "state": {
       "description_width": ""
      }
     },
     "8ab7236ed0d6448a9e7ecaed992d043a": {
      "model_module": "@jupyter-widgets/controls",
      "model_module_version": "1.5.0",
      "model_name": "SliderStyleModel",
      "state": {
       "description_width": ""
      }
     },
     "8afdc0ef8c69467fa949eb44318f3c3e": {
      "model_module": "@jupyter-widgets/output",
      "model_module_version": "1.0.0",
      "model_name": "OutputModel",
      "state": {
       "layout": "IPY_MODEL_486b8689d26546e9a594c3b7f6fde4e7",
       "outputs": [
        {
         "data": {
          "image/png": "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\n",
          "text/plain": "<Figure size 432x288 with 1 Axes>"
         },
         "metadata": {
          "needs_background": "light"
         },
         "output_type": "display_data"
        }
       ]
      }
     },
     "8b72640607c242a5a1fc73e20f2d0789": {
      "model_module": "@jupyter-widgets/controls",
      "model_module_version": "1.5.0",
      "model_name": "SliderStyleModel",
      "state": {
       "description_width": ""
      }
     },
     "8bc64dc7bbf84bb5a235f27793d8dddd": {
      "model_module": "@jupyter-widgets/base",
      "model_module_version": "1.2.0",
      "model_name": "LayoutModel",
      "state": {}
     },
     "8c43ed9c82a14bc19a741939278c84bb": {
      "model_module": "@jupyter-widgets/base",
      "model_module_version": "1.2.0",
      "model_name": "LayoutModel",
      "state": {}
     },
     "8c4cfd41963b4f4a9cefb3695fe958ac": {
      "model_module": "@jupyter-widgets/controls",
      "model_module_version": "1.5.0",
      "model_name": "DropdownModel",
      "state": {
       "_options_labels": [
        "2",
        "3",
        "4",
        "5",
        "6",
        "7",
        "8",
        "9",
        "10",
        "11",
        "12",
        "13",
        "14",
        "15",
        "16",
        "17",
        "18",
        "19",
        "20",
        "21",
        "22",
        "23",
        "24",
        "25",
        "26",
        "27",
        "28",
        "29",
        "30",
        "31",
        "32",
        "33",
        "34",
        "35",
        "36",
        "37",
        "38",
        "39",
        "40",
        "41",
        "42",
        "43",
        "44",
        "45",
        "46",
        "47",
        "48",
        "49",
        "50"
       ],
       "description": "$x$",
       "index": 0,
       "layout": "IPY_MODEL_dd4a129354334c739a0de8137d20e70b",
       "style": "IPY_MODEL_2b6b11262f9d4537938edc3aad70690c"
      }
     },
     "8cd5c58c506f4c3d868c83846ebbf54a": {
      "model_module": "@jupyter-widgets/output",
      "model_module_version": "1.0.0",
      "model_name": "OutputModel",
      "state": {
       "layout": "IPY_MODEL_cb5d335aca394d97a5498d20c2c44651"
      }
     },
     "8dbbe5f9feaf4f43977e83005c220014": {
      "model_module": "@jupyter-widgets/controls",
      "model_module_version": "1.5.0",
      "model_name": "FloatSliderModel",
      "state": {
       "description": "L",
       "layout": "IPY_MODEL_42edd2d44c144d8c8bc9a4636cc65b90",
       "max": 0.99,
       "min": 0.15,
       "step": 0.01,
       "style": "IPY_MODEL_6f7a039461174b0ebaae76a052e8b29a",
       "value": 0.5
      }
     },
     "8e01e19258984ecb94e445700f2345fc": {
      "model_module": "@jupyter-widgets/output",
      "model_module_version": "1.0.0",
      "model_name": "OutputModel",
      "state": {
       "layout": "IPY_MODEL_0a318905e0f548f7a1503c3d537833bd",
       "outputs": [
        {
         "data": {
          "image/png": "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\n",
          "text/plain": "<Figure size 432x288 with 1 Axes>"
         },
         "metadata": {
          "needs_background": "light"
         },
         "output_type": "display_data"
        }
       ]
      }
     },
     "8e0ef9ae021749daba37b6b0ce5a2c1f": {
      "model_module": "@jupyter-widgets/controls",
      "model_module_version": "1.5.0",
      "model_name": "DropdownModel",
      "state": {
       "_options_labels": [
        "0.1",
        "0.15000000000000002",
        "0.20000000000000004",
        "0.25000000000000006",
        "0.30000000000000004",
        "0.3500000000000001",
        "0.40000000000000013",
        "0.45000000000000007",
        "0.5000000000000001",
        "0.5500000000000002",
        "0.6000000000000002",
        "0.6500000000000001",
        "0.7000000000000002",
        "0.7500000000000002",
        "0.8000000000000002",
        "0.8500000000000002",
        "0.9000000000000002",
        "0.9500000000000003"
       ],
       "description": "$\\Delta x$",
       "index": 0,
       "layout": "IPY_MODEL_e74f1a138d4b4896857b956c5c54119d",
       "style": "IPY_MODEL_180f4606d1ff437c889152c36a8754fa"
      }
     },
     "8e35425ad56b456fa2e7d2b12eae7343": {
      "model_module": "@jupyter-widgets/controls",
      "model_module_version": "1.5.0",
      "model_name": "FloatSliderModel",
      "state": {
       "description": "L",
       "layout": "IPY_MODEL_e1b53d5ef3f6483990b641a1d343284e",
       "max": 0.99,
       "min": 0.15,
       "step": 0.01,
       "style": "IPY_MODEL_12b26bb7988f455bb0ba3e008da1b5a0",
       "value": 0.5
      }
     },
     "8e9adbf86c014e6f93499626757ba400": {
      "model_module": "@jupyter-widgets/controls",
      "model_module_version": "1.5.0",
      "model_name": "FloatSliderModel",
      "state": {
       "description": "L",
       "layout": "IPY_MODEL_4fa1464ac35e4428850ffd4b66d111ae",
       "max": 0.99,
       "min": 0.15,
       "step": 0.01,
       "style": "IPY_MODEL_055cdc2f026944deac50272c82dd73c8",
       "value": 0.5
      }
     },
     "8f2955729e6f4abebb3726678e9df3ad": {
      "model_module": "@jupyter-widgets/output",
      "model_module_version": "1.0.0",
      "model_name": "OutputModel",
      "state": {
       "layout": "IPY_MODEL_00e4ed24b1ab42529c03994b9df0fc6a"
      }
     },
     "8f7b34def4b04dabb7c77f473a4c388b": {
      "model_module": "@jupyter-widgets/controls",
      "model_module_version": "1.5.0",
      "model_name": "SliderStyleModel",
      "state": {
       "description_width": ""
      }
     },
     "8fdcb2809caf4870bfffd86295af240f": {
      "model_module": "@jupyter-widgets/controls",
      "model_module_version": "1.5.0",
      "model_name": "VBoxModel",
      "state": {
       "_dom_classes": [
        "widget-interact"
       ],
       "children": [
        "IPY_MODEL_53a295abdba64519b7487a293fe027be",
        "IPY_MODEL_e7f67c8712d84ff8b832c113a325cbc7",
        "IPY_MODEL_3e29bffac32741c49459bc52f3e33c5a",
        "IPY_MODEL_8afdc0ef8c69467fa949eb44318f3c3e"
       ],
       "layout": "IPY_MODEL_0adbf154d7704e219071c763005e0f0e"
      }
     },
     "9015cc6fdd5741cc9ed268131284f99a": {
      "model_module": "@jupyter-widgets/controls",
      "model_module_version": "1.5.0",
      "model_name": "SliderStyleModel",
      "state": {
       "description_width": ""
      }
     },
     "90651526961f46099e4d1d958d147d3f": {
      "model_module": "@jupyter-widgets/controls",
      "model_module_version": "1.5.0",
      "model_name": "SelectMultipleModel",
      "state": {
       "_options_labels": [
        "2",
        "3",
        "4",
        "5",
        "6",
        "7",
        "8",
        "9",
        "10",
        "11",
        "12",
        "13",
        "14",
        "15",
        "16",
        "17",
        "18",
        "19",
        "20",
        "21",
        "22",
        "23",
        "24",
        "25",
        "26",
        "27",
        "28",
        "29",
        "30",
        "31",
        "32",
        "33",
        "34",
        "35",
        "36",
        "37",
        "38",
        "39",
        "40",
        "41",
        "42",
        "43",
        "44",
        "45",
        "46",
        "47",
        "48",
        "49",
        "50",
        "51",
        "52",
        "53",
        "54",
        "55",
        "56",
        "57",
        "58",
        "59",
        "60",
        "61",
        "62",
        "63",
        "64",
        "65",
        "66",
        "67",
        "68",
        "69",
        "70",
        "71",
        "72",
        "73",
        "74",
        "75",
        "76",
        "77",
        "78",
        "79",
        "80",
        "81",
        "82",
        "83",
        "84",
        "85",
        "86",
        "87",
        "88",
        "89",
        "90",
        "91",
        "92",
        "93",
        "94",
        "95",
        "96",
        "97",
        "98",
        "99",
        "100"
       ],
       "description": "$\\mathbb{X}$",
       "index": [
        18
       ],
       "layout": "IPY_MODEL_dcff749bc12f45f3b33d50ca87aec664",
       "rows": 5,
       "style": "IPY_MODEL_08854d5b3f7248ccbd84eb6ec7bd0923"
      }
     },
     "91d3e4915ea4430686243d726be45a6c": {
      "model_module": "@jupyter-widgets/controls",
      "model_module_version": "1.5.0",
      "model_name": "VBoxModel",
      "state": {
       "_dom_classes": [
        "widget-interact"
       ],
       "children": [
        "IPY_MODEL_968ac6c74de9477ab1b7019d6c9a7f83",
        "IPY_MODEL_a57d8cc8ae60482390a4f74a64e9d2b5",
        "IPY_MODEL_7beaa0b1dc314987a820e3c5bda62fc3",
        "IPY_MODEL_613a15a008b1482dbd7e3d19c357742c"
       ],
       "layout": "IPY_MODEL_e08af59db6d24389ade86616c8d5227e"
      }
     },
     "9254037916c3455fa7acccc76b6af951": {
      "model_module": "@jupyter-widgets/controls",
      "model_module_version": "1.5.0",
      "model_name": "SliderStyleModel",
      "state": {
       "description_width": ""
      }
     },
     "93297afaea494e1bbef8cfcc4dbe0990": {
      "model_module": "@jupyter-widgets/controls",
      "model_module_version": "1.5.0",
      "model_name": "SelectMultipleModel",
      "state": {
       "_options_labels": [
        "2",
        "3",
        "4",
        "5",
        "6",
        "7",
        "8",
        "9",
        "10",
        "11",
        "12",
        "13",
        "14",
        "15",
        "16",
        "17",
        "18",
        "19",
        "20",
        "21",
        "22",
        "23",
        "24",
        "25",
        "26",
        "27",
        "28",
        "29",
        "30",
        "31",
        "32",
        "33",
        "34",
        "35",
        "36",
        "37",
        "38",
        "39",
        "40",
        "41",
        "42",
        "43",
        "44",
        "45",
        "46",
        "47",
        "48",
        "49",
        "50",
        "51",
        "52",
        "53",
        "54",
        "55",
        "56",
        "57",
        "58",
        "59",
        "60",
        "61",
        "62",
        "63",
        "64",
        "65",
        "66",
        "67",
        "68",
        "69",
        "70",
        "71",
        "72",
        "73",
        "74",
        "75",
        "76",
        "77",
        "78",
        "79",
        "80",
        "81",
        "82",
        "83",
        "84",
        "85",
        "86",
        "87",
        "88",
        "89",
        "90",
        "91",
        "92",
        "93",
        "94",
        "95",
        "96",
        "97",
        "98",
        "99",
        "100"
       ],
       "description": "$\\mathbb{X}$",
       "index": [
        0,
        1,
        2,
        3,
        4,
        5,
        6,
        7,
        8,
        9,
        10,
        11,
        12,
        13,
        14,
        15,
        16,
        17,
        18,
        19,
        20,
        21,
        22,
        23,
        24,
        25,
        26,
        27,
        28,
        29,
        30,
        31,
        32,
        33,
        34,
        35,
        36,
        37,
        38,
        39,
        40,
        41,
        42,
        43,
        44,
        45,
        46,
        47,
        48,
        49,
        50,
        51,
        52,
        53,
        54,
        55,
        56,
        57,
        58,
        59,
        60,
        61,
        62,
        63,
        64,
        65,
        66,
        67,
        68,
        69,
        70,
        71,
        72,
        73,
        74,
        75,
        76,
        77,
        78,
        79,
        80,
        81,
        82,
        83,
        84,
        85,
        86,
        87,
        88,
        89,
        90,
        91,
        92,
        93,
        94,
        95,
        96,
        97,
        98
       ],
       "layout": "IPY_MODEL_87abcf0fc61b4751a52442fca48e21b4",
       "rows": 5,
       "style": "IPY_MODEL_9793184548b642abaf45c1596dcc9aa9"
      }
     },
     "950ab6ca0a454149a39d6807077b4be9": {
      "model_module": "@jupyter-widgets/output",
      "model_module_version": "1.0.0",
      "model_name": "OutputModel",
      "state": {
       "layout": "IPY_MODEL_668796bb304b436da8d57e218da78196"
      }
     },
     "95f99a0c7c9a4b78abb84f81fe71f5a2": {
      "model_module": "@jupyter-widgets/controls",
      "model_module_version": "1.5.0",
      "model_name": "VBoxModel",
      "state": {
       "_dom_classes": [
        "widget-interact"
       ],
       "children": [
        "IPY_MODEL_db2e862e5a9e407098568942ebca7cbe",
        "IPY_MODEL_798fbc7ea77c427bb23566f8d8b06d86",
        "IPY_MODEL_6dab221c2da94a7c973f10b5dd02ec83",
        "IPY_MODEL_346b471f46af47e485420b84229a8f84"
       ],
       "layout": "IPY_MODEL_b5b84a1c38af4aa59a8c139ffe615d69"
      }
     },
     "968ac6c74de9477ab1b7019d6c9a7f83": {
      "model_module": "@jupyter-widgets/controls",
      "model_module_version": "1.5.0",
      "model_name": "DropdownModel",
      "state": {
       "_options_labels": [
        "0.1",
        "0.15",
        "0.2",
        "0.25",
        "0.3",
        "0.35",
        "0.4",
        "0.45",
        "0.5"
       ],
       "description": "$\\Delta x$",
       "index": 0,
       "layout": "IPY_MODEL_4cf7fae1df774190ba96c4f6e6f4106c",
       "style": "IPY_MODEL_110d1d99e86047b08011514197a68834"
      }
     },
     "96ba91cc657a468ba48e10596e315416": {
      "model_module": "@jupyter-widgets/controls",
      "model_module_version": "1.5.0",
      "model_name": "FloatSliderModel",
      "state": {
       "description": "$\\Delta x$:",
       "layout": "IPY_MODEL_ee367d670d2a4f79aedb22edc028196e",
       "max": 0.99,
       "min": 0.15,
       "step": 0.01,
       "style": "IPY_MODEL_8f7b34def4b04dabb7c77f473a4c388b",
       "value": 0.25
      }
     },
     "9700cab108a74cee922e29da63c0ee5e": {
      "model_module": "@jupyter-widgets/controls",
      "model_module_version": "1.5.0",
      "model_name": "DescriptionStyleModel",
      "state": {
       "description_width": ""
      }
     },
     "9793184548b642abaf45c1596dcc9aa9": {
      "model_module": "@jupyter-widgets/controls",
      "model_module_version": "1.5.0",
      "model_name": "DescriptionStyleModel",
      "state": {
       "description_width": ""
      }
     },
     "98047691955047148ec2252ac344f980": {
      "model_module": "@jupyter-widgets/controls",
      "model_module_version": "1.5.0",
      "model_name": "VBoxModel",
      "state": {
       "_dom_classes": [
        "widget-interact"
       ],
       "children": [
        "IPY_MODEL_8867d517233b43c0bcc5320ea7192ec4",
        "IPY_MODEL_e77f46872d474de9863540ecdfba110e",
        "IPY_MODEL_58d1d264e88a49faab284501fab17c20",
        "IPY_MODEL_3ed79182a05b4ab58eabc82afe6e6cc5"
       ],
       "layout": "IPY_MODEL_a4b2c745be0a42c2998be776fcf49cb9"
      }
     },
     "99f8487f5a74486f8ee94250ae9b355d": {
      "model_module": "@jupyter-widgets/controls",
      "model_module_version": "1.5.0",
      "model_name": "FloatSliderModel",
      "state": {
       "description": "L",
       "layout": "IPY_MODEL_f706c8ddffe3463dbdbdfecdc6a51cac",
       "max": 0.99,
       "min": 0.15,
       "step": 0.01,
       "style": "IPY_MODEL_2b0b2b97cb1347639513866de925f470",
       "value": 0.5
      }
     },
     "9ae80afae8f64aea9dc2596cb970d0fd": {
      "model_module": "@jupyter-widgets/controls",
      "model_module_version": "1.5.0",
      "model_name": "SliderStyleModel",
      "state": {
       "description_width": ""
      }
     },
     "9b252b7c7a8847e6a410d3c5b932418d": {
      "model_module": "@jupyter-widgets/base",
      "model_module_version": "1.2.0",
      "model_name": "LayoutModel",
      "state": {}
     },
     "9d1e408d53124a43b8e0e70151b7b1c8": {
      "model_module": "@jupyter-widgets/base",
      "model_module_version": "1.2.0",
      "model_name": "LayoutModel",
      "state": {}
     },
     "9d2dd55082934100b16db029155c1cda": {
      "model_module": "@jupyter-widgets/controls",
      "model_module_version": "1.5.0",
      "model_name": "FloatSliderModel",
      "state": {
       "description": "L",
       "layout": "IPY_MODEL_0663461657ca400489fc216bd9ea087e",
       "max": 0.99,
       "min": 0.15,
       "step": 0.01,
       "style": "IPY_MODEL_fc035b8f63124abba92e6fa2a2f6c81b",
       "value": 0.5
      }
     },
     "9d88178c2de94c788bcc122ec3468d30": {
      "model_module": "@jupyter-widgets/controls",
      "model_module_version": "1.5.0",
      "model_name": "FloatSliderModel",
      "state": {
       "description": "L",
       "layout": "IPY_MODEL_b3c95c7a69e3453c9a16a7ea6af3407f",
       "max": 0.99,
       "min": 0.15,
       "step": 0.01,
       "style": "IPY_MODEL_4c35a85f269640a1968bc5f1d7636733",
       "value": 0.5
      }
     },
     "9dcf09ce2e9e4761b0872cf1fca3e59a": {
      "model_module": "@jupyter-widgets/base",
      "model_module_version": "1.2.0",
      "model_name": "LayoutModel",
      "state": {}
     },
     "9f1376e469754a55aa973959b3e6b8c5": {
      "model_module": "@jupyter-widgets/controls",
      "model_module_version": "1.5.0",
      "model_name": "VBoxModel",
      "state": {
       "_dom_classes": [
        "widget-interact"
       ],
       "children": [
        "IPY_MODEL_d0ff58ccc0ef4346be2f0ffb39a5c8f0",
        "IPY_MODEL_7f954ebd68ae4048b153a872a9814a44",
        "IPY_MODEL_2c1756cf744b49c1a27232cedd1d59eb",
        "IPY_MODEL_858ced3f6a134d8f9a3f2df5ecd612f4"
       ],
       "layout": "IPY_MODEL_7dffffc9392640fa80b5b74fe5391a07"
      }
     },
     "9f27c7f4fdea44ba9e3a89e9b6ad3fe7": {
      "model_module": "@jupyter-widgets/controls",
      "model_module_version": "1.5.0",
      "model_name": "VBoxModel",
      "state": {
       "_dom_classes": [
        "widget-interact"
       ],
       "children": [
        "IPY_MODEL_6cf9d0534c1c4da880c00eef20e2c8a8",
        "IPY_MODEL_2e89929335534cb99456ac6d1d0d3f07",
        "IPY_MODEL_93297afaea494e1bbef8cfcc4dbe0990",
        "IPY_MODEL_4116abc814e040ab8ddf9e8144caa846"
       ],
       "layout": "IPY_MODEL_06be43d023ad46cd82a0270cd4abcda3"
      }
     },
     "9f4cee5402f54ee7b9ba1e3d6850420c": {
      "model_module": "@jupyter-widgets/controls",
      "model_module_version": "1.5.0",
      "model_name": "DropdownModel",
      "state": {
       "_options_labels": [
        "2",
        "3",
        "4",
        "5",
        "6",
        "7",
        "8",
        "9",
        "10",
        "11",
        "12",
        "13",
        "14",
        "15",
        "16",
        "17",
        "18",
        "19",
        "20",
        "21",
        "22",
        "23",
        "24",
        "25",
        "26",
        "27",
        "28",
        "29",
        "30",
        "31",
        "32",
        "33",
        "34",
        "35",
        "36",
        "37",
        "38",
        "39",
        "40",
        "41",
        "42",
        "43",
        "44",
        "45",
        "46",
        "47",
        "48",
        "49",
        "50"
       ],
       "description": "$x$",
       "index": 43,
       "layout": "IPY_MODEL_1e245bc315be4dcd9a2d7d5019ca8650",
       "style": "IPY_MODEL_d62bb484838240998558f8b4cbe8c510"
      }
     },
     "9faa38330f544ddea71a96642de83582": {
      "model_module": "@jupyter-widgets/output",
      "model_module_version": "1.0.0",
      "model_name": "OutputModel",
      "state": {
       "layout": "IPY_MODEL_bbf88f425a7b489c8792f23d021cb6d6"
      }
     },
     "9fdb3d0989f343d19db29d82e9a31c33": {
      "model_module": "@jupyter-widgets/base",
      "model_module_version": "1.2.0",
      "model_name": "LayoutModel",
      "state": {}
     },
     "a0356662eee64002bad1f1934f4de76b": {
      "model_module": "@jupyter-widgets/base",
      "model_module_version": "1.2.0",
      "model_name": "LayoutModel",
      "state": {}
     },
     "a0e90847d61147669aadb86431f73f81": {
      "model_module": "@jupyter-widgets/output",
      "model_module_version": "1.0.0",
      "model_name": "OutputModel",
      "state": {
       "layout": "IPY_MODEL_f2aa3616f57b48eabb69d1d3d0f2ab72",
       "outputs": [
        {
         "data": {
          "image/png": "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\n",
          "text/plain": "<Figure size 432x288 with 1 Axes>"
         },
         "metadata": {
          "needs_background": "light"
         },
         "output_type": "display_data"
        }
       ]
      }
     },
     "a101c4a24a6d444dab2259012e912ff6": {
      "model_module": "@jupyter-widgets/base",
      "model_module_version": "1.2.0",
      "model_name": "LayoutModel",
      "state": {}
     },
     "a1b19f7f1aed4a0f9790f6122c9c7d25": {
      "model_module": "@jupyter-widgets/output",
      "model_module_version": "1.0.0",
      "model_name": "OutputModel",
      "state": {
       "layout": "IPY_MODEL_2a9fe9495735470f8f7c6054cdea8adc"
      }
     },
     "a23667c983b5445aa4b42077a6a1bc64": {
      "model_module": "@jupyter-widgets/controls",
      "model_module_version": "1.5.0",
      "model_name": "SliderStyleModel",
      "state": {
       "description_width": ""
      }
     },
     "a302e56496db48aa941ee751bd40a4b9": {
      "model_module": "@jupyter-widgets/controls",
      "model_module_version": "1.5.0",
      "model_name": "SliderStyleModel",
      "state": {
       "description_width": ""
      }
     },
     "a34b712bb22442dda9d771d6dce0ecf2": {
      "model_module": "@jupyter-widgets/base",
      "model_module_version": "1.2.0",
      "model_name": "LayoutModel",
      "state": {}
     },
     "a395af2a4ea345328229051f7cecd4d9": {
      "model_module": "@jupyter-widgets/base",
      "model_module_version": "1.2.0",
      "model_name": "LayoutModel",
      "state": {}
     },
     "a39d9fa022b14057a0c8a6cc9b2ac339": {
      "model_module": "@jupyter-widgets/controls",
      "model_module_version": "1.5.0",
      "model_name": "SliderStyleModel",
      "state": {
       "description_width": ""
      }
     },
     "a4b2c745be0a42c2998be776fcf49cb9": {
      "model_module": "@jupyter-widgets/base",
      "model_module_version": "1.2.0",
      "model_name": "LayoutModel",
      "state": {}
     },
     "a578c25fc127461a99503f63547f6a3d": {
      "model_module": "@jupyter-widgets/controls",
      "model_module_version": "1.5.0",
      "model_name": "DescriptionStyleModel",
      "state": {
       "description_width": ""
      }
     },
     "a57d8cc8ae60482390a4f74a64e9d2b5": {
      "model_module": "@jupyter-widgets/controls",
      "model_module_version": "1.5.0",
      "model_name": "DropdownModel",
      "state": {
       "_options_labels": [
        "0.1",
        "0.15",
        "0.2",
        "0.25",
        "0.3",
        "0.35",
        "0.4",
        "0.45",
        "0.5"
       ],
       "description": "$L$",
       "index": 0,
       "layout": "IPY_MODEL_df7d8f33f33248b69ebbdfbd215d8118",
       "style": "IPY_MODEL_ca6e6e1f9eff43298f566f3c93996996"
      }
     },
     "a6bd68af74914fd0bf7df503e3237f73": {
      "model_module": "@jupyter-widgets/controls",
      "model_module_version": "1.5.0",
      "model_name": "DescriptionStyleModel",
      "state": {
       "description_width": ""
      }
     },
     "a8069608a9ab4b009bcce911179fdbc0": {
      "model_module": "@jupyter-widgets/base",
      "model_module_version": "1.2.0",
      "model_name": "LayoutModel",
      "state": {}
     },
     "a84b54b086f34205b6395b4fb270519b": {
      "model_module": "@jupyter-widgets/controls",
      "model_module_version": "1.5.0",
      "model_name": "SliderStyleModel",
      "state": {
       "description_width": ""
      }
     },
     "a929efa921c64e1bbd31dc01d9caa26c": {
      "model_module": "@jupyter-widgets/controls",
      "model_module_version": "1.5.0",
      "model_name": "DescriptionStyleModel",
      "state": {
       "description_width": ""
      }
     },
     "a92af630045f4938890a78e6641b1707": {
      "model_module": "@jupyter-widgets/controls",
      "model_module_version": "1.5.0",
      "model_name": "DescriptionStyleModel",
      "state": {
       "description_width": ""
      }
     },
     "aa27b65ed382425d8763c87766ab5e2a": {
      "model_module": "@jupyter-widgets/base",
      "model_module_version": "1.2.0",
      "model_name": "LayoutModel",
      "state": {}
     },
     "aabc188af70b46cdab6a30fb6c7792af": {
      "model_module": "@jupyter-widgets/controls",
      "model_module_version": "1.5.0",
      "model_name": "VBoxModel",
      "state": {
       "_dom_classes": [
        "widget-interact"
       ],
       "children": [
        "IPY_MODEL_14b7193ba5ca4a2aa6db9b0f01f5da09",
        "IPY_MODEL_d17b35f6056c4576a9aaa20373d79079",
        "IPY_MODEL_6ac68db29fea4ecea9cab4bd9f399d32",
        "IPY_MODEL_635c9fe7dd984e8f81054d82dc0c5f81"
       ],
       "layout": "IPY_MODEL_31c8806e921c4493b14d52a9d700cfe2"
      }
     },
     "ab54c7f71b994ea6bfc316c32ba68905": {
      "model_module": "@jupyter-widgets/controls",
      "model_module_version": "1.5.0",
      "model_name": "DescriptionStyleModel",
      "state": {
       "description_width": ""
      }
     },
     "ab5dde0442d94ab2bd462e8201e6015e": {
      "model_module": "@jupyter-widgets/base",
      "model_module_version": "1.2.0",
      "model_name": "LayoutModel",
      "state": {}
     },
     "ab8d2a9a096f436cb9b931ffae263800": {
      "model_module": "@jupyter-widgets/controls",
      "model_module_version": "1.5.0",
      "model_name": "SliderStyleModel",
      "state": {
       "description_width": ""
      }
     },
     "abe7f0a107bb490a99829c55c2512c31": {
      "model_module": "@jupyter-widgets/controls",
      "model_module_version": "1.5.0",
      "model_name": "SliderStyleModel",
      "state": {
       "description_width": ""
      }
     },
     "ac895a9f0f5040a993d1295d0935bab1": {
      "model_module": "@jupyter-widgets/base",
      "model_module_version": "1.2.0",
      "model_name": "LayoutModel",
      "state": {}
     },
     "acd8c5b69de54a4dbe187389ee2ca623": {
      "model_module": "@jupyter-widgets/output",
      "model_module_version": "1.0.0",
      "model_name": "OutputModel",
      "state": {
       "layout": "IPY_MODEL_1f09ba105a094cbda6e5d41b4f0160cb"
      }
     },
     "ace4bea46fcf4f4a8d19968d70c13768": {
      "model_module": "@jupyter-widgets/base",
      "model_module_version": "1.2.0",
      "model_name": "LayoutModel",
      "state": {}
     },
     "adc3c5cfdecd4e67979bcbffbfdb0d6b": {
      "model_module": "@jupyter-widgets/controls",
      "model_module_version": "1.5.0",
      "model_name": "SliderStyleModel",
      "state": {
       "description_width": ""
      }
     },
     "af1d538bab4c409687b3f9f6944ff6e8": {
      "model_module": "@jupyter-widgets/base",
      "model_module_version": "1.2.0",
      "model_name": "LayoutModel",
      "state": {}
     },
     "af7f81897d4c4638993f61efd159713b": {
      "model_module": "@jupyter-widgets/controls",
      "model_module_version": "1.5.0",
      "model_name": "DescriptionStyleModel",
      "state": {
       "description_width": ""
      }
     },
     "b0333da2a8cd409db9cf9752d13a863b": {
      "model_module": "@jupyter-widgets/controls",
      "model_module_version": "1.5.0",
      "model_name": "SliderStyleModel",
      "state": {
       "description_width": ""
      }
     },
     "b039352c1af24262a299e0ed53774ce1": {
      "model_module": "@jupyter-widgets/controls",
      "model_module_version": "1.5.0",
      "model_name": "DropdownModel",
      "state": {
       "_options_labels": [
        "2",
        "3",
        "4",
        "5",
        "6",
        "7",
        "8",
        "9",
        "10",
        "11",
        "12",
        "13",
        "14",
        "15",
        "16",
        "17",
        "18",
        "19",
        "20",
        "21",
        "22",
        "23",
        "24",
        "25",
        "26",
        "27",
        "28",
        "29",
        "30",
        "31",
        "32",
        "33",
        "34",
        "35",
        "36",
        "37",
        "38",
        "39",
        "40",
        "41",
        "42",
        "43",
        "44",
        "45",
        "46",
        "47",
        "48",
        "49",
        "50"
       ],
       "description": "$x$",
       "index": 0,
       "layout": "IPY_MODEL_b484e3af8d37465592079e3ffd4dcc8e",
       "style": "IPY_MODEL_a6bd68af74914fd0bf7df503e3237f73"
      }
     },
     "b071e8eb747f4b3abbe520d447593c51": {
      "model_module": "@jupyter-widgets/controls",
      "model_module_version": "1.5.0",
      "model_name": "VBoxModel",
      "state": {
       "_dom_classes": [
        "widget-interact"
       ],
       "children": [
        "IPY_MODEL_01c90ee7124e4e32b1cafbb85e601d78",
        "IPY_MODEL_585073495d8c4604bc77e8005424f1a6",
        "IPY_MODEL_e8ed6a5c6be04f61be3643094ea37018",
        "IPY_MODEL_6fe3220b9fcf4ae682d0ede7ab5e9b4e"
       ],
       "layout": "IPY_MODEL_15be5552411d4c11939f59f0d1d80b77"
      }
     },
     "b0cef49896c94b28a07c18aef144e78e": {
      "model_module": "@jupyter-widgets/controls",
      "model_module_version": "1.5.0",
      "model_name": "SliderStyleModel",
      "state": {
       "description_width": ""
      }
     },
     "b185b68b0a284f61a668774a427e2dc5": {
      "model_module": "@jupyter-widgets/controls",
      "model_module_version": "1.5.0",
      "model_name": "FloatSliderModel",
      "state": {
       "description": "L",
       "layout": "IPY_MODEL_a8069608a9ab4b009bcce911179fdbc0",
       "max": 0.99,
       "min": 0.15,
       "step": 0.01,
       "style": "IPY_MODEL_53206524ac054662b2adcd0233335b5c",
       "value": 0.5
      }
     },
     "b1a2620f187440fa8fb9034302828723": {
      "model_module": "@jupyter-widgets/output",
      "model_module_version": "1.0.0",
      "model_name": "OutputModel",
      "state": {
       "layout": "IPY_MODEL_82dcb642109e4ac6837b40fda9f6b7e2"
      }
     },
     "b1a335d2b398484a8c374a0b9bb1028d": {
      "model_module": "@jupyter-widgets/base",
      "model_module_version": "1.2.0",
      "model_name": "LayoutModel",
      "state": {}
     },
     "b1dc477f5f734998b5f502ac53ac9420": {
      "model_module": "@jupyter-widgets/controls",
      "model_module_version": "1.5.0",
      "model_name": "FloatSliderModel",
      "state": {
       "description": "L",
       "layout": "IPY_MODEL_cea619d9943a40dfbd27c4b75204e53e",
       "max": 0.99,
       "min": 0.15,
       "step": 0.01,
       "style": "IPY_MODEL_4ab53da230134777949b03adf51830e3",
       "value": 0.5
      }
     },
     "b2426a9b72d340b18629d44e37d023be": {
      "model_module": "@jupyter-widgets/controls",
      "model_module_version": "1.5.0",
      "model_name": "VBoxModel",
      "state": {
       "_dom_classes": [
        "widget-interact"
       ],
       "children": [
        "IPY_MODEL_d46fd4e7c69d4dbdb50254000b878fca",
        "IPY_MODEL_1b6b7a6070834910b334c4360259ba16",
        "IPY_MODEL_60d40d430bc34810a01b903372cd06a8",
        "IPY_MODEL_4b40a6e128e6412d85dba92a53a3fb46"
       ],
       "layout": "IPY_MODEL_0f261c54f5634b35b21afb38653ae1d5"
      }
     },
     "b2f024a8e3eb41dbb73e7caa6462d7a8": {
      "model_module": "@jupyter-widgets/controls",
      "model_module_version": "1.5.0",
      "model_name": "DescriptionStyleModel",
      "state": {
       "description_width": ""
      }
     },
     "b31ecd8b5c2240e3a2c0537e20613be1": {
      "model_module": "@jupyter-widgets/controls",
      "model_module_version": "1.5.0",
      "model_name": "VBoxModel",
      "state": {
       "_dom_classes": [
        "widget-interact"
       ],
       "children": [
        "IPY_MODEL_304b7b24f43b43e08c085a1434ce2afb",
        "IPY_MODEL_8e9adbf86c014e6f93499626757ba400",
        "IPY_MODEL_e8f51703e551442981325e2c0d271a23",
        "IPY_MODEL_0edeaa40ca04496f9e3f26bf75cd1f61"
       ],
       "layout": "IPY_MODEL_4d3a906c922545999cd89f9a3ba89c3b"
      }
     },
     "b358c78af8d442c8b5ffff85fc274748": {
      "model_module": "@jupyter-widgets/controls",
      "model_module_version": "1.5.0",
      "model_name": "SliderStyleModel",
      "state": {
       "description_width": ""
      }
     },
     "b3c95c7a69e3453c9a16a7ea6af3407f": {
      "model_module": "@jupyter-widgets/base",
      "model_module_version": "1.2.0",
      "model_name": "LayoutModel",
      "state": {}
     },
     "b3dcc0c5be3e41be879bbe32c73b3d9f": {
      "model_module": "@jupyter-widgets/controls",
      "model_module_version": "1.5.0",
      "model_name": "SliderStyleModel",
      "state": {
       "description_width": ""
      }
     },
     "b484e3af8d37465592079e3ffd4dcc8e": {
      "model_module": "@jupyter-widgets/base",
      "model_module_version": "1.2.0",
      "model_name": "LayoutModel",
      "state": {}
     },
     "b4aac5c2b775496aa052de465add6d21": {
      "model_module": "@jupyter-widgets/base",
      "model_module_version": "1.2.0",
      "model_name": "LayoutModel",
      "state": {}
     },
     "b4d1230f9a9e4bcaa5df43102c6b5f52": {
      "model_module": "@jupyter-widgets/output",
      "model_module_version": "1.0.0",
      "model_name": "OutputModel",
      "state": {
       "layout": "IPY_MODEL_4b725dce740d47e8aae4640adf50bd06"
      }
     },
     "b5b84a1c38af4aa59a8c139ffe615d69": {
      "model_module": "@jupyter-widgets/base",
      "model_module_version": "1.2.0",
      "model_name": "LayoutModel",
      "state": {}
     },
     "b7d6ad2a10e043ad8940a7f2a240386f": {
      "model_module": "@jupyter-widgets/controls",
      "model_module_version": "1.5.0",
      "model_name": "VBoxModel",
      "state": {
       "_dom_classes": [
        "widget-interact"
       ],
       "children": [
        "IPY_MODEL_bf63e7dc70da4efabf8d51d0adcc4b68",
        "IPY_MODEL_b8e83ac66ecf44f0aef31132675a9d33",
        "IPY_MODEL_09d8139e69fe426493ab75e794d55952",
        "IPY_MODEL_8f2955729e6f4abebb3726678e9df3ad"
       ],
       "layout": "IPY_MODEL_79004fdc9438462a957b17a8c56ed755"
      }
     },
     "b8c89de2c34649e896779210a40753bf": {
      "model_module": "@jupyter-widgets/base",
      "model_module_version": "1.2.0",
      "model_name": "LayoutModel",
      "state": {}
     },
     "b8e83ac66ecf44f0aef31132675a9d33": {
      "model_module": "@jupyter-widgets/controls",
      "model_module_version": "1.5.0",
      "model_name": "FloatSliderModel",
      "state": {
       "description": "L",
       "layout": "IPY_MODEL_ab5dde0442d94ab2bd462e8201e6015e",
       "max": 0.99,
       "min": 0.15,
       "step": 0.01,
       "style": "IPY_MODEL_ef5c391cc5484c689fb65c34548eb266",
       "value": 0.5
      }
     },
     "b8ee58486cf14202a74a79fe0857cdec": {
      "model_module": "@jupyter-widgets/controls",
      "model_module_version": "1.5.0",
      "model_name": "DescriptionStyleModel",
      "state": {
       "description_width": ""
      }
     },
     "b9773d2304a24191874e78e9ed4e3fce": {
      "model_module": "@jupyter-widgets/controls",
      "model_module_version": "1.5.0",
      "model_name": "FloatSliderModel",
      "state": {
       "description": "L",
       "layout": "IPY_MODEL_0cbd0e78152446ada5533273e4200df1",
       "max": 0.99,
       "min": 0.15,
       "step": 0.01,
       "style": "IPY_MODEL_117aba65946c47e98bbb979f34e44aa5",
       "value": 0.5
      }
     },
     "ba4781384c074e33bcaecda3f31910a7": {
      "model_module": "@jupyter-widgets/base",
      "model_module_version": "1.2.0",
      "model_name": "LayoutModel",
      "state": {}
     },
     "baa07abe457940dc850fe81215226977": {
      "model_module": "@jupyter-widgets/controls",
      "model_module_version": "1.5.0",
      "model_name": "FloatSliderModel",
      "state": {
       "description": "$\\Delta x$:",
       "layout": "IPY_MODEL_8a0017c6705d4b1d872a842867e14457",
       "max": 0.99,
       "min": 0.15,
       "step": 0.01,
       "style": "IPY_MODEL_4c2aa1ad400046969240790d1092e9ac",
       "value": 0.2
      }
     },
     "bab9bb7270f349a98249d94678e6bc42": {
      "model_module": "@jupyter-widgets/controls",
      "model_module_version": "1.5.0",
      "model_name": "VBoxModel",
      "state": {
       "_dom_classes": [
        "widget-interact"
       ],
       "children": [
        "IPY_MODEL_c63dcc2bbbc845ada8b55ac7a64e405d",
        "IPY_MODEL_3b2420f6fe8d4f32a32ab34cfcf71fa0",
        "IPY_MODEL_6238fd542af54fbab1995523b69c930a",
        "IPY_MODEL_7e43c5bddd6546aabf2826d8f07b2d2a"
       ],
       "layout": "IPY_MODEL_80448ef51409498daf8cd002f5a97f82"
      }
     },
     "bbf88f425a7b489c8792f23d021cb6d6": {
      "model_module": "@jupyter-widgets/base",
      "model_module_version": "1.2.0",
      "model_name": "LayoutModel",
      "state": {}
     },
     "bdab04aa61a440b486376723d1d6ffcc": {
      "model_module": "@jupyter-widgets/base",
      "model_module_version": "1.2.0",
      "model_name": "LayoutModel",
      "state": {}
     },
     "bde0382a038b4a1bbef59e70647b4ed1": {
      "model_module": "@jupyter-widgets/controls",
      "model_module_version": "1.5.0",
      "model_name": "DescriptionStyleModel",
      "state": {
       "description_width": ""
      }
     },
     "be898040e93542aea97517db6e551175": {
      "model_module": "@jupyter-widgets/base",
      "model_module_version": "1.2.0",
      "model_name": "LayoutModel",
      "state": {}
     },
     "beca3198ba144b7dad719b3477e51f4f": {
      "model_module": "@jupyter-widgets/base",
      "model_module_version": "1.2.0",
      "model_name": "LayoutModel",
      "state": {}
     },
     "bed19f7da312496ebc03d1efc5dd80d7": {
      "model_module": "@jupyter-widgets/controls",
      "model_module_version": "1.5.0",
      "model_name": "FloatSliderModel",
      "state": {
       "description": "$\\Delta x$:",
       "layout": "IPY_MODEL_01ce281f14cd45edaa492c9c3e563daf",
       "max": 0.99,
       "min": 0.15,
       "step": 0.01,
       "style": "IPY_MODEL_1e769210bc2f4cd8a801ffbfd4c945a0",
       "value": 0.25
      }
     },
     "bef6954400664d08848fdd0785727a0e": {
      "model_module": "@jupyter-widgets/base",
      "model_module_version": "1.2.0",
      "model_name": "LayoutModel",
      "state": {}
     },
     "bf22df26c97a4ea9a630a0e68e24453a": {
      "model_module": "@jupyter-widgets/controls",
      "model_module_version": "1.5.0",
      "model_name": "DescriptionStyleModel",
      "state": {
       "description_width": ""
      }
     },
     "bf63e7dc70da4efabf8d51d0adcc4b68": {
      "model_module": "@jupyter-widgets/controls",
      "model_module_version": "1.5.0",
      "model_name": "FloatSliderModel",
      "state": {
       "description": "$\\Delta x$:",
       "layout": "IPY_MODEL_e054648e668b4b19bb2e5e23b54cc9d2",
       "max": 0.99,
       "min": 0.15,
       "step": 0.01,
       "style": "IPY_MODEL_59643b898f1a4a9ea46276287c5085e2",
       "value": 0.2
      }
     },
     "bf6b3a26b0264083a0794905bfbaf99d": {
      "model_module": "@jupyter-widgets/controls",
      "model_module_version": "1.5.0",
      "model_name": "SliderStyleModel",
      "state": {
       "description_width": ""
      }
     },
     "bfac5fb6aa84415e90b3c39118892951": {
      "model_module": "@jupyter-widgets/controls",
      "model_module_version": "1.5.0",
      "model_name": "SliderStyleModel",
      "state": {
       "description_width": ""
      }
     },
     "bfb8ca682b6a4c078df17d97f8030f06": {
      "model_module": "@jupyter-widgets/output",
      "model_module_version": "1.0.0",
      "model_name": "OutputModel",
      "state": {
       "layout": "IPY_MODEL_747877270a6f4ab2aae797c30300060b"
      }
     },
     "c28dc6103bb34ec7aa7ee4f2890dda9f": {
      "model_module": "@jupyter-widgets/controls",
      "model_module_version": "1.5.0",
      "model_name": "SliderStyleModel",
      "state": {
       "description_width": ""
      }
     },
     "c30027d699ac44ea8594b36a3e966e06": {
      "model_module": "@jupyter-widgets/controls",
      "model_module_version": "1.5.0",
      "model_name": "VBoxModel",
      "state": {
       "_dom_classes": [
        "widget-interact"
       ],
       "children": [
        "IPY_MODEL_2562179042334f2d8aec5ab8b08ef802",
        "IPY_MODEL_50df03e58348485d9b8d13b76ce0bcb6",
        "IPY_MODEL_ef49dcab41ab4baa8b6d0d8ad3c00132",
        "IPY_MODEL_a0e90847d61147669aadb86431f73f81"
       ],
       "layout": "IPY_MODEL_341295ecbe464a839674c04ea92f8887"
      }
     },
     "c3c4aabd79b445b3aa149742e0b1c0ab": {
      "model_module": "@jupyter-widgets/controls",
      "model_module_version": "1.5.0",
      "model_name": "DescriptionStyleModel",
      "state": {
       "description_width": ""
      }
     },
     "c4613a1d355c4919940db9b5f2cc1c50": {
      "model_module": "@jupyter-widgets/output",
      "model_module_version": "1.0.0",
      "model_name": "OutputModel",
      "state": {
       "layout": "IPY_MODEL_3a24e5edf89a40eb8a9c13d6bb872726"
      }
     },
     "c479b50fdac24895b128fe6ce08f67ea": {
      "model_module": "@jupyter-widgets/controls",
      "model_module_version": "1.5.0",
      "model_name": "SliderStyleModel",
      "state": {
       "description_width": ""
      }
     },
     "c63dcc2bbbc845ada8b55ac7a64e405d": {
      "model_module": "@jupyter-widgets/controls",
      "model_module_version": "1.5.0",
      "model_name": "DropdownModel",
      "state": {
       "_options_labels": [
        "0.1",
        "0.15",
        "0.2",
        "0.25",
        "0.3",
        "0.35",
        "0.4",
        "0.45",
        "0.5"
       ],
       "description": "$\\Delta x$",
       "index": 1,
       "layout": "IPY_MODEL_1294ccebdde24407b5c3ce4684bc58a2",
       "style": "IPY_MODEL_68dd240461a74a668f27c09484e4e143"
      }
     },
     "c652a71a63d8465c9063353d0d9001cb": {
      "model_module": "@jupyter-widgets/controls",
      "model_module_version": "1.5.0",
      "model_name": "DescriptionStyleModel",
      "state": {
       "description_width": ""
      }
     },
     "c65970b25ce744739671298a8926fa7b": {
      "model_module": "@jupyter-widgets/base",
      "model_module_version": "1.2.0",
      "model_name": "LayoutModel",
      "state": {}
     },
     "c68d377067a6455db324c81be45b99cf": {
      "model_module": "@jupyter-widgets/controls",
      "model_module_version": "1.5.0",
      "model_name": "FloatSliderModel",
      "state": {
       "description": "L",
       "layout": "IPY_MODEL_48a0a4030db6411f8826944d40b8b527",
       "max": 0.99,
       "min": 0.15,
       "step": 0.01,
       "style": "IPY_MODEL_d897debe09ff45a4bc69d02095365f6b",
       "value": 0.5
      }
     },
     "c6ac3621ee3d410f89a98087a6f1f1b8": {
      "model_module": "@jupyter-widgets/controls",
      "model_module_version": "1.5.0",
      "model_name": "FloatSliderModel",
      "state": {
       "description": "$\\Delta x$:",
       "layout": "IPY_MODEL_c8b11f4eb4b04b9580a3fe982b11100d",
       "max": 0.99,
       "min": 0.15,
       "step": 0.01,
       "style": "IPY_MODEL_4b0926c77bf84dfdb514c1b2f971672d",
       "value": 0.31
      }
     },
     "c6d6327fb0e24bb197c06ac287548e96": {
      "model_module": "@jupyter-widgets/base",
      "model_module_version": "1.2.0",
      "model_name": "LayoutModel",
      "state": {}
     },
     "c72ffceca46e4e909eb3dea047eb8d67": {
      "model_module": "@jupyter-widgets/controls",
      "model_module_version": "1.5.0",
      "model_name": "FloatSliderModel",
      "state": {
       "description": "L",
       "layout": "IPY_MODEL_fbd1a66f9fef4095a3c784bd8ad4ea36",
       "max": 0.99,
       "min": 0.15,
       "step": 0.01,
       "style": "IPY_MODEL_82470829d9924ea19ddc4b6064fa35a2",
       "value": 0.5
      }
     },
     "c79bc0e8cbbe4eeeb773812d95f4c412": {
      "model_module": "@jupyter-widgets/base",
      "model_module_version": "1.2.0",
      "model_name": "LayoutModel",
      "state": {}
     },
     "c7db02036fc841b5a8243ec87198fdc8": {
      "model_module": "@jupyter-widgets/controls",
      "model_module_version": "1.5.0",
      "model_name": "FloatSliderModel",
      "state": {
       "description": "L",
       "layout": "IPY_MODEL_8c43ed9c82a14bc19a741939278c84bb",
       "max": 0.99,
       "min": 0.15,
       "step": 0.01,
       "style": "IPY_MODEL_e764d468ef494f2b872e80eb50e3b628",
       "value": 0.5
      }
     },
     "c8b11f4eb4b04b9580a3fe982b11100d": {
      "model_module": "@jupyter-widgets/base",
      "model_module_version": "1.2.0",
      "model_name": "LayoutModel",
      "state": {}
     },
     "c8ec3da09d2642b0bd4ca4c3ed52956e": {
      "model_module": "@jupyter-widgets/output",
      "model_module_version": "1.0.0",
      "model_name": "OutputModel",
      "state": {
       "layout": "IPY_MODEL_08e7944d794d46f5878e69fee00a11e2"
      }
     },
     "c997bb92829a4cc7908228ef86bc88b1": {
      "model_module": "@jupyter-widgets/controls",
      "model_module_version": "1.5.0",
      "model_name": "DropdownModel",
      "state": {
       "_options_labels": [
        "2",
        "3",
        "4",
        "5",
        "6",
        "7",
        "8",
        "9",
        "10",
        "11",
        "12",
        "13",
        "14",
        "15",
        "16",
        "17",
        "18",
        "19",
        "20",
        "21",
        "22",
        "23",
        "24",
        "25",
        "26",
        "27",
        "28",
        "29",
        "30",
        "31",
        "32",
        "33",
        "34",
        "35",
        "36",
        "37",
        "38",
        "39",
        "40",
        "41",
        "42",
        "43",
        "44",
        "45",
        "46",
        "47",
        "48",
        "49",
        "50"
       ],
       "description": "$x$",
       "index": 0,
       "layout": "IPY_MODEL_042986367d854f7fb639ad71c4ff6807",
       "style": "IPY_MODEL_bde0382a038b4a1bbef59e70647b4ed1"
      }
     },
     "c9c428438f8440bbb5de63b40a4c1b5e": {
      "model_module": "@jupyter-widgets/base",
      "model_module_version": "1.2.0",
      "model_name": "LayoutModel",
      "state": {}
     },
     "ca1d559805cd4344a2079bcf94d92dc5": {
      "model_module": "@jupyter-widgets/controls",
      "model_module_version": "1.5.0",
      "model_name": "SliderStyleModel",
      "state": {
       "description_width": ""
      }
     },
     "ca6e6e1f9eff43298f566f3c93996996": {
      "model_module": "@jupyter-widgets/controls",
      "model_module_version": "1.5.0",
      "model_name": "DescriptionStyleModel",
      "state": {
       "description_width": ""
      }
     },
     "cb12e8b21da14080a13cf1b4b532e2ad": {
      "model_module": "@jupyter-widgets/controls",
      "model_module_version": "1.5.0",
      "model_name": "SelectMultipleModel",
      "state": {
       "_options_labels": [
        "2",
        "3",
        "4",
        "5",
        "6",
        "7",
        "8",
        "9",
        "10",
        "11",
        "12",
        "13",
        "14",
        "15",
        "16",
        "17",
        "18",
        "19",
        "20",
        "21",
        "22",
        "23",
        "24",
        "25",
        "26",
        "27",
        "28",
        "29",
        "30",
        "31",
        "32",
        "33",
        "34",
        "35",
        "36",
        "37",
        "38",
        "39",
        "40",
        "41",
        "42",
        "43",
        "44",
        "45",
        "46",
        "47",
        "48",
        "49",
        "50",
        "51",
        "52",
        "53",
        "54",
        "55",
        "56",
        "57",
        "58",
        "59",
        "60",
        "61",
        "62",
        "63",
        "64",
        "65",
        "66",
        "67",
        "68",
        "69",
        "70",
        "71",
        "72",
        "73",
        "74",
        "75",
        "76",
        "77",
        "78",
        "79",
        "80",
        "81",
        "82",
        "83",
        "84",
        "85",
        "86",
        "87",
        "88",
        "89",
        "90",
        "91",
        "92",
        "93",
        "94",
        "95",
        "96",
        "97",
        "98",
        "99",
        "100"
       ],
       "description": "$\\mathbb{X}$",
       "index": [
        18
       ],
       "layout": "IPY_MODEL_af1d538bab4c409687b3f9f6944ff6e8",
       "rows": 5,
       "style": "IPY_MODEL_a578c25fc127461a99503f63547f6a3d"
      }
     },
     "cb358639d67e46eda2b814b8b70d6ed1": {
      "model_module": "@jupyter-widgets/base",
      "model_module_version": "1.2.0",
      "model_name": "LayoutModel",
      "state": {}
     },
     "cb5d335aca394d97a5498d20c2c44651": {
      "model_module": "@jupyter-widgets/base",
      "model_module_version": "1.2.0",
      "model_name": "LayoutModel",
      "state": {}
     },
     "cb7e2f1c260642569c9e9c8fc6b6d5f2": {
      "model_module": "@jupyter-widgets/controls",
      "model_module_version": "1.5.0",
      "model_name": "SelectMultipleModel",
      "state": {
       "_options_labels": [
        "2",
        "3",
        "4",
        "5",
        "6",
        "7",
        "8",
        "9",
        "10",
        "11",
        "12",
        "13",
        "14",
        "15",
        "16",
        "17",
        "18",
        "19",
        "20",
        "21",
        "22",
        "23",
        "24",
        "25",
        "26",
        "27",
        "28",
        "29",
        "30",
        "31",
        "32",
        "33",
        "34",
        "35",
        "36",
        "37",
        "38",
        "39",
        "40",
        "41",
        "42",
        "43",
        "44",
        "45",
        "46",
        "47",
        "48",
        "49",
        "50",
        "51",
        "52",
        "53",
        "54",
        "55",
        "56",
        "57",
        "58",
        "59",
        "60",
        "61",
        "62",
        "63",
        "64",
        "65",
        "66",
        "67",
        "68",
        "69",
        "70",
        "71",
        "72",
        "73",
        "74",
        "75",
        "76",
        "77",
        "78",
        "79",
        "80",
        "81",
        "82",
        "83",
        "84",
        "85",
        "86",
        "87",
        "88",
        "89",
        "90",
        "91",
        "92",
        "93",
        "94",
        "95",
        "96",
        "97",
        "98",
        "99",
        "100"
       ],
       "description": "$\\mathbb{X}$",
       "index": [
        18
       ],
       "layout": "IPY_MODEL_645888a34afa418a88745c398592f2ff",
       "rows": 5,
       "style": "IPY_MODEL_2b715464208d4d8f924837500b2db51f"
      }
     },
     "cbf6107aa878494bbd70746c55f2af17": {
      "model_module": "@jupyter-widgets/controls",
      "model_module_version": "1.5.0",
      "model_name": "FloatSliderModel",
      "state": {
       "description": "L",
       "layout": "IPY_MODEL_72c08b1566994b4982926799b2fe3ab7",
       "max": 0.99,
       "min": 0.15,
       "step": 0.01,
       "style": "IPY_MODEL_b3dcc0c5be3e41be879bbe32c73b3d9f",
       "value": 0.5
      }
     },
     "cc0351c28b8245f7b9bdbd7b3446cd42": {
      "model_module": "@jupyter-widgets/controls",
      "model_module_version": "1.5.0",
      "model_name": "SliderStyleModel",
      "state": {
       "description_width": ""
      }
     },
     "cc070739c3ba477a93f1b85ca337108d": {
      "model_module": "@jupyter-widgets/base",
      "model_module_version": "1.2.0",
      "model_name": "LayoutModel",
      "state": {}
     },
     "cd051430aac440da9752a7e882c27df3": {
      "model_module": "@jupyter-widgets/output",
      "model_module_version": "1.0.0",
      "model_name": "OutputModel",
      "state": {
       "layout": "IPY_MODEL_fb163ce26e9d420f8eff9383bde6f0d5",
       "outputs": [
        {
         "data": {
          "image/png": "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\n",
          "text/plain": "<Figure size 432x288 with 1 Axes>"
         },
         "metadata": {
          "needs_background": "light"
         },
         "output_type": "display_data"
        }
       ]
      }
     },
     "cd89aca659da499f91c5c43107c38cb8": {
      "model_module": "@jupyter-widgets/controls",
      "model_module_version": "1.5.0",
      "model_name": "DescriptionStyleModel",
      "state": {
       "description_width": ""
      }
     },
     "cd8c6c4108a4484aa4f3bd8e6d2cff12": {
      "model_module": "@jupyter-widgets/controls",
      "model_module_version": "1.5.0",
      "model_name": "SliderStyleModel",
      "state": {
       "description_width": ""
      }
     },
     "cd9fe25a51884aacb4f38e92c2701a96": {
      "model_module": "@jupyter-widgets/base",
      "model_module_version": "1.2.0",
      "model_name": "LayoutModel",
      "state": {}
     },
     "cdd0647e5b7147ca9acba4b1c6cf8051": {
      "model_module": "@jupyter-widgets/controls",
      "model_module_version": "1.5.0",
      "model_name": "DescriptionStyleModel",
      "state": {
       "description_width": ""
      }
     },
     "cdd8fae535724fa79b0b97b7bdc00e9f": {
      "model_module": "@jupyter-widgets/base",
      "model_module_version": "1.2.0",
      "model_name": "LayoutModel",
      "state": {}
     },
     "cea619d9943a40dfbd27c4b75204e53e": {
      "model_module": "@jupyter-widgets/base",
      "model_module_version": "1.2.0",
      "model_name": "LayoutModel",
      "state": {}
     },
     "cf6918ac8d2e485aad6933a2271bd921": {
      "model_module": "@jupyter-widgets/base",
      "model_module_version": "1.2.0",
      "model_name": "LayoutModel",
      "state": {}
     },
     "cfe546eb61ec4652a31eed61794c3ac7": {
      "model_module": "@jupyter-widgets/base",
      "model_module_version": "1.2.0",
      "model_name": "LayoutModel",
      "state": {}
     },
     "d0ff58ccc0ef4346be2f0ffb39a5c8f0": {
      "model_module": "@jupyter-widgets/controls",
      "model_module_version": "1.5.0",
      "model_name": "FloatSliderModel",
      "state": {
       "description": "$\\Delta x$:",
       "layout": "IPY_MODEL_41a390d99ce648bf93365ddf4dcff154",
       "max": 0.99,
       "min": 0.15,
       "step": 0.01,
       "style": "IPY_MODEL_bfac5fb6aa84415e90b3c39118892951",
       "value": 0.25
      }
     },
     "d17b35f6056c4576a9aaa20373d79079": {
      "model_module": "@jupyter-widgets/controls",
      "model_module_version": "1.5.0",
      "model_name": "FloatSliderModel",
      "state": {
       "description": "L",
       "layout": "IPY_MODEL_b8c89de2c34649e896779210a40753bf",
       "max": 0.99,
       "min": 0.15,
       "step": 0.01,
       "style": "IPY_MODEL_b0333da2a8cd409db9cf9752d13a863b",
       "value": 0.5
      }
     },
     "d1f3cc938cf14c028c7796958e8f5d17": {
      "model_module": "@jupyter-widgets/controls",
      "model_module_version": "1.5.0",
      "model_name": "FloatSliderModel",
      "state": {
       "description": "L",
       "layout": "IPY_MODEL_cc070739c3ba477a93f1b85ca337108d",
       "max": 0.99,
       "min": 0.15,
       "step": 0.01,
       "style": "IPY_MODEL_4c4d8704d005419180e75969a625c5c0",
       "value": 0.5
      }
     },
     "d2a893d686134e67bcb49dea506e552b": {
      "model_module": "@jupyter-widgets/base",
      "model_module_version": "1.2.0",
      "model_name": "LayoutModel",
      "state": {}
     },
     "d2ecdeb970ec4705b89bf9775e5cd48e": {
      "model_module": "@jupyter-widgets/base",
      "model_module_version": "1.2.0",
      "model_name": "LayoutModel",
      "state": {}
     },
     "d2ede0d642b4401fa93cf5f51c769f45": {
      "model_module": "@jupyter-widgets/base",
      "model_module_version": "1.2.0",
      "model_name": "LayoutModel",
      "state": {}
     },
     "d3eff4261a724a049b67e3da3d2b9b64": {
      "model_module": "@jupyter-widgets/controls",
      "model_module_version": "1.5.0",
      "model_name": "SliderStyleModel",
      "state": {
       "description_width": ""
      }
     },
     "d46fd4e7c69d4dbdb50254000b878fca": {
      "model_module": "@jupyter-widgets/controls",
      "model_module_version": "1.5.0",
      "model_name": "DropdownModel",
      "state": {
       "_options_labels": [
        "0.1",
        "0.15",
        "0.2",
        "0.25",
        "0.3",
        "0.35",
        "0.4",
        "0.45",
        "0.5"
       ],
       "description": "$\\Delta x$",
       "index": 1,
       "layout": "IPY_MODEL_0125fd539e2b400f9d50f848acba5d63",
       "style": "IPY_MODEL_b2f024a8e3eb41dbb73e7caa6462d7a8"
      }
     },
     "d473a87669a14800af67c5a531697468": {
      "model_module": "@jupyter-widgets/output",
      "model_module_version": "1.0.0",
      "model_name": "OutputModel",
      "state": {
       "layout": "IPY_MODEL_e60eacb9773b4483b317c58848d22cb4"
      }
     },
     "d4c6f56e245e4af8a5a9ed3150a85420": {
      "model_module": "@jupyter-widgets/controls",
      "model_module_version": "1.5.0",
      "model_name": "VBoxModel",
      "state": {
       "_dom_classes": [
        "widget-interact"
       ],
       "children": [
        "IPY_MODEL_dcbda39b0f95424aac7c93d81a2fc8af",
        "IPY_MODEL_1220ec8527a341a4817660c605b940db",
        "IPY_MODEL_dce72c212c3543bdaa243b038613a101",
        "IPY_MODEL_8cd5c58c506f4c3d868c83846ebbf54a"
       ],
       "layout": "IPY_MODEL_7d3b72f60c484e1ea669fca5fa1251c6"
      }
     },
     "d62840cc9bd8409da99c0925be27b74e": {
      "model_module": "@jupyter-widgets/controls",
      "model_module_version": "1.5.0",
      "model_name": "FloatSliderModel",
      "state": {
       "description": "$\\Delta x$:",
       "layout": "IPY_MODEL_33b7a1cd546247abb3b994de1b47a47c",
       "max": 0.99,
       "min": 0.15,
       "step": 0.01,
       "style": "IPY_MODEL_080c65e4dcf44c4bbcfd9b410a40d60f",
       "value": 0.25
      }
     },
     "d62b33ced64d43fca9b64599f5e2ddef": {
      "model_module": "@jupyter-widgets/base",
      "model_module_version": "1.2.0",
      "model_name": "LayoutModel",
      "state": {}
     },
     "d62bb484838240998558f8b4cbe8c510": {
      "model_module": "@jupyter-widgets/controls",
      "model_module_version": "1.5.0",
      "model_name": "DescriptionStyleModel",
      "state": {
       "description_width": ""
      }
     },
     "d6c240d36ce44c7699e0962deb9c79e1": {
      "model_module": "@jupyter-widgets/base",
      "model_module_version": "1.2.0",
      "model_name": "LayoutModel",
      "state": {}
     },
     "d738fb8e0f19475db9bfd3eb03c5042f": {
      "model_module": "@jupyter-widgets/base",
      "model_module_version": "1.2.0",
      "model_name": "LayoutModel",
      "state": {}
     },
     "d897debe09ff45a4bc69d02095365f6b": {
      "model_module": "@jupyter-widgets/controls",
      "model_module_version": "1.5.0",
      "model_name": "SliderStyleModel",
      "state": {
       "description_width": ""
      }
     },
     "da9215c47225480db44f3292ab745b61": {
      "model_module": "@jupyter-widgets/output",
      "model_module_version": "1.0.0",
      "model_name": "OutputModel",
      "state": {
       "layout": "IPY_MODEL_d2ede0d642b4401fa93cf5f51c769f45"
      }
     },
     "db2e862e5a9e407098568942ebca7cbe": {
      "model_module": "@jupyter-widgets/controls",
      "model_module_version": "1.5.0",
      "model_name": "FloatSliderModel",
      "state": {
       "description": "$\\Delta x$:",
       "layout": "IPY_MODEL_29dc5c19b5534327a70960f7e7ba1f09",
       "max": 0.99,
       "min": 0.15,
       "step": 0.01,
       "style": "IPY_MODEL_40e878efbe1e4aec9fdea210b4508c19",
       "value": 0.2
      }
     },
     "db88458eff924700b28e68140bac53b2": {
      "model_module": "@jupyter-widgets/controls",
      "model_module_version": "1.5.0",
      "model_name": "VBoxModel",
      "state": {
       "_dom_classes": [
        "widget-interact"
       ],
       "children": [
        "IPY_MODEL_323dd01edf0d401dbacb2f34cefb489f",
        "IPY_MODEL_38e497015bbe4e94ba9e4da248f3530d",
        "IPY_MODEL_e60e4fb4e5c944fe9c3fb1b2bed0b192",
        "IPY_MODEL_12a28f7bd72d4bd0993faca6eb7f0ae2"
       ],
       "layout": "IPY_MODEL_2eef6fa037f1415cbd75063639b6f377"
      }
     },
     "dbfa9f356702420896365cc3902dbe5c": {
      "model_module": "@jupyter-widgets/controls",
      "model_module_version": "1.5.0",
      "model_name": "VBoxModel",
      "state": {
       "_dom_classes": [
        "widget-interact"
       ],
       "children": [
        "IPY_MODEL_8742aa1cce234b52a1506fb147b02886",
        "IPY_MODEL_c7db02036fc841b5a8243ec87198fdc8",
        "IPY_MODEL_429cae41eece49fe988d92588faf85aa",
        "IPY_MODEL_083356cf4f8b4d959a8ef183162bc0cd"
       ],
       "layout": "IPY_MODEL_0046e98bc0d04c6caac5833c70723bdc"
      }
     },
     "dcbda39b0f95424aac7c93d81a2fc8af": {
      "model_module": "@jupyter-widgets/controls",
      "model_module_version": "1.5.0",
      "model_name": "FloatSliderModel",
      "state": {
       "description": "$\\Delta x$:",
       "layout": "IPY_MODEL_d2a893d686134e67bcb49dea506e552b",
       "max": 0.99,
       "min": 0.15,
       "step": 0.01,
       "style": "IPY_MODEL_a39d9fa022b14057a0c8a6cc9b2ac339",
       "value": 0.25
      }
     },
     "dce72c212c3543bdaa243b038613a101": {
      "model_module": "@jupyter-widgets/controls",
      "model_module_version": "1.5.0",
      "model_name": "SelectMultipleModel",
      "state": {
       "_options_labels": [
        "2",
        "3",
        "4",
        "5",
        "6",
        "7",
        "8",
        "9",
        "10",
        "11",
        "12",
        "13",
        "14",
        "15",
        "16",
        "17",
        "18",
        "19",
        "20",
        "21",
        "22",
        "23",
        "24",
        "25",
        "26",
        "27",
        "28",
        "29",
        "30",
        "31",
        "32",
        "33",
        "34",
        "35",
        "36",
        "37",
        "38",
        "39",
        "40",
        "41",
        "42",
        "43",
        "44",
        "45",
        "46",
        "47",
        "48",
        "49",
        "50",
        "51",
        "52",
        "53",
        "54",
        "55",
        "56",
        "57",
        "58",
        "59",
        "60",
        "61",
        "62",
        "63",
        "64",
        "65",
        "66",
        "67",
        "68",
        "69",
        "70",
        "71",
        "72",
        "73",
        "74",
        "75",
        "76",
        "77",
        "78",
        "79",
        "80",
        "81",
        "82",
        "83",
        "84",
        "85",
        "86",
        "87",
        "88",
        "89",
        "90",
        "91",
        "92",
        "93",
        "94",
        "95",
        "96",
        "97",
        "98",
        "99",
        "100"
       ],
       "description": "$\\mathbb{X}$",
       "index": [
        18
       ],
       "layout": "IPY_MODEL_30bf5e3e2e4c47548b6c965ef4162df2",
       "rows": 5,
       "style": "IPY_MODEL_45bbec225c064e989befa59ee84f769f"
      }
     },
     "dcff749bc12f45f3b33d50ca87aec664": {
      "model_module": "@jupyter-widgets/base",
      "model_module_version": "1.2.0",
      "model_name": "LayoutModel",
      "state": {}
     },
     "dd4a129354334c739a0de8137d20e70b": {
      "model_module": "@jupyter-widgets/base",
      "model_module_version": "1.2.0",
      "model_name": "LayoutModel",
      "state": {}
     },
     "df7d8f33f33248b69ebbdfbd215d8118": {
      "model_module": "@jupyter-widgets/base",
      "model_module_version": "1.2.0",
      "model_name": "LayoutModel",
      "state": {}
     },
     "df83a51de9e1429a8d30464db69f5696": {
      "model_module": "@jupyter-widgets/controls",
      "model_module_version": "1.5.0",
      "model_name": "FloatSliderModel",
      "state": {
       "description": "L",
       "layout": "IPY_MODEL_130894663cf94faeb6b37860b3a6a3b9",
       "max": 0.99,
       "min": 0.15,
       "step": 0.01,
       "style": "IPY_MODEL_8b72640607c242a5a1fc73e20f2d0789",
       "value": 0.5
      }
     },
     "dfef66136ef94af2954ed1b77631e087": {
      "model_module": "@jupyter-widgets/output",
      "model_module_version": "1.0.0",
      "model_name": "OutputModel",
      "state": {
       "layout": "IPY_MODEL_ace4bea46fcf4f4a8d19968d70c13768"
      }
     },
     "e04eccb1769d4b728543fe3a743581e9": {
      "model_module": "@jupyter-widgets/controls",
      "model_module_version": "1.5.0",
      "model_name": "VBoxModel",
      "state": {
       "_dom_classes": [
        "widget-interact"
       ],
       "children": [
        "IPY_MODEL_f2b1cf8450c74325bf563daf34d580c1",
        "IPY_MODEL_0991b647e58b47fb8eb3736ad6b25937",
        "IPY_MODEL_5bf10443573040079f585eda601c5bda",
        "IPY_MODEL_cd051430aac440da9752a7e882c27df3"
       ],
       "layout": "IPY_MODEL_ff52e34a4d0546c6b73ad13985d66159"
      }
     },
     "e054648e668b4b19bb2e5e23b54cc9d2": {
      "model_module": "@jupyter-widgets/base",
      "model_module_version": "1.2.0",
      "model_name": "LayoutModel",
      "state": {}
     },
     "e08af59db6d24389ade86616c8d5227e": {
      "model_module": "@jupyter-widgets/base",
      "model_module_version": "1.2.0",
      "model_name": "LayoutModel",
      "state": {}
     },
     "e101a0e3c6a048d1aca69df70a924d0a": {
      "model_module": "@jupyter-widgets/base",
      "model_module_version": "1.2.0",
      "model_name": "LayoutModel",
      "state": {}
     },
     "e1b53d5ef3f6483990b641a1d343284e": {
      "model_module": "@jupyter-widgets/base",
      "model_module_version": "1.2.0",
      "model_name": "LayoutModel",
      "state": {}
     },
     "e40ae69d70e341bb9a4c468b8609c0a8": {
      "model_module": "@jupyter-widgets/controls",
      "model_module_version": "1.5.0",
      "model_name": "VBoxModel",
      "state": {
       "_dom_classes": [
        "widget-interact"
       ],
       "children": [
        "IPY_MODEL_2f1b87a6e08341979857d318937ba595",
        "IPY_MODEL_8dbbe5f9feaf4f43977e83005c220014",
        "IPY_MODEL_b039352c1af24262a299e0ed53774ce1",
        "IPY_MODEL_15398ebf6ae44b4d869860f759402a7d"
       ],
       "layout": "IPY_MODEL_04ab000ce1dc4b67bd391867ff49334e"
      }
     },
     "e4182306e9824c45934abc697efc050d": {
      "model_module": "@jupyter-widgets/controls",
      "model_module_version": "1.5.0",
      "model_name": "DropdownModel",
      "state": {
       "_options_labels": [
        "2",
        "3",
        "4",
        "5",
        "6",
        "7",
        "8",
        "9",
        "10",
        "11",
        "12",
        "13",
        "14",
        "15",
        "16",
        "17",
        "18",
        "19",
        "20",
        "21",
        "22",
        "23",
        "24",
        "25",
        "26",
        "27",
        "28",
        "29",
        "30",
        "31",
        "32",
        "33",
        "34",
        "35",
        "36",
        "37",
        "38",
        "39",
        "40",
        "41",
        "42",
        "43",
        "44",
        "45",
        "46",
        "47",
        "48",
        "49",
        "50"
       ],
       "description": "$x$",
       "index": 0,
       "layout": "IPY_MODEL_3dba09200b864e76bb349f56dffb40de",
       "style": "IPY_MODEL_61e2428f38184576b106efe0552a3411"
      }
     },
     "e4ee79532d02463e9ac9a4d835c48594": {
      "model_module": "@jupyter-widgets/output",
      "model_module_version": "1.0.0",
      "model_name": "OutputModel",
      "state": {
       "layout": "IPY_MODEL_017e1ad26ba74538bec7f4958e9bee36",
       "outputs": [
        {
         "data": {
          "image/png": "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\n",
          "text/plain": "<Figure size 432x288 with 1 Axes>"
         },
         "metadata": {
          "needs_background": "light"
         },
         "output_type": "display_data"
        }
       ]
      }
     },
     "e59298074b154690b5b46145852746bf": {
      "model_module": "@jupyter-widgets/controls",
      "model_module_version": "1.5.0",
      "model_name": "SliderStyleModel",
      "state": {
       "description_width": ""
      }
     },
     "e60e4fb4e5c944fe9c3fb1b2bed0b192": {
      "model_module": "@jupyter-widgets/controls",
      "model_module_version": "1.5.0",
      "model_name": "SelectMultipleModel",
      "state": {
       "_options_labels": [
        "2",
        "3",
        "4",
        "5",
        "6",
        "7",
        "8",
        "9",
        "10",
        "11",
        "12",
        "13",
        "14",
        "15",
        "16",
        "17",
        "18",
        "19",
        "20",
        "21",
        "22",
        "23",
        "24",
        "25",
        "26",
        "27",
        "28",
        "29",
        "30",
        "31",
        "32",
        "33",
        "34",
        "35",
        "36",
        "37",
        "38",
        "39",
        "40",
        "41",
        "42",
        "43",
        "44",
        "45",
        "46",
        "47",
        "48",
        "49",
        "50",
        "51",
        "52",
        "53",
        "54",
        "55",
        "56",
        "57",
        "58",
        "59",
        "60",
        "61",
        "62",
        "63",
        "64",
        "65",
        "66",
        "67",
        "68",
        "69",
        "70",
        "71",
        "72",
        "73",
        "74",
        "75",
        "76",
        "77",
        "78",
        "79",
        "80",
        "81",
        "82",
        "83",
        "84",
        "85",
        "86",
        "87",
        "88",
        "89",
        "90",
        "91",
        "92",
        "93",
        "94",
        "95",
        "96",
        "97",
        "98",
        "99",
        "100"
       ],
       "description": "$\\mathbb{X}$",
       "index": [
        18
       ],
       "layout": "IPY_MODEL_86ffe2063c5642a680b90e8d8d591045",
       "rows": 5,
       "style": "IPY_MODEL_c3c4aabd79b445b3aa149742e0b1c0ab"
      }
     },
     "e60eacb9773b4483b317c58848d22cb4": {
      "model_module": "@jupyter-widgets/base",
      "model_module_version": "1.2.0",
      "model_name": "LayoutModel",
      "state": {}
     },
     "e693c77afa674b45bfcfa15eacc7e96b": {
      "model_module": "@jupyter-widgets/controls",
      "model_module_version": "1.5.0",
      "model_name": "SliderStyleModel",
      "state": {
       "description_width": ""
      }
     },
     "e705b28320724005a3beff65022400a5": {
      "model_module": "@jupyter-widgets/base",
      "model_module_version": "1.2.0",
      "model_name": "LayoutModel",
      "state": {}
     },
     "e74f1a138d4b4896857b956c5c54119d": {
      "model_module": "@jupyter-widgets/base",
      "model_module_version": "1.2.0",
      "model_name": "LayoutModel",
      "state": {}
     },
     "e764d468ef494f2b872e80eb50e3b628": {
      "model_module": "@jupyter-widgets/controls",
      "model_module_version": "1.5.0",
      "model_name": "SliderStyleModel",
      "state": {
       "description_width": ""
      }
     },
     "e77f46872d474de9863540ecdfba110e": {
      "model_module": "@jupyter-widgets/controls",
      "model_module_version": "1.5.0",
      "model_name": "FloatSliderModel",
      "state": {
       "description": "L",
       "layout": "IPY_MODEL_3e399e972d2146dd9e2702f429335970",
       "max": 0.99,
       "min": 0.15,
       "step": 0.01,
       "style": "IPY_MODEL_521532dd50f7402986b1158f67fd6500",
       "value": 0.5
      }
     },
     "e7f67c8712d84ff8b832c113a325cbc7": {
      "model_module": "@jupyter-widgets/controls",
      "model_module_version": "1.5.0",
      "model_name": "FloatSliderModel",
      "state": {
       "description": "L",
       "layout": "IPY_MODEL_f3b076fd47064c8ba27e887defc6e57a",
       "max": 0.99,
       "min": 0.15,
       "step": 0.01,
       "style": "IPY_MODEL_8187a0f452c84f95b770b001ceb2bffe",
       "value": 0.5
      }
     },
     "e8c01bd6244e421f8adb36bb000b7cde": {
      "model_module": "@jupyter-widgets/controls",
      "model_module_version": "1.5.0",
      "model_name": "FloatSliderModel",
      "state": {
       "description": "L",
       "layout": "IPY_MODEL_eba3ec5bb3894b7da0d2f69c41d15417",
       "max": 0.99,
       "min": 0.15,
       "step": 0.01,
       "style": "IPY_MODEL_a84b54b086f34205b6395b4fb270519b",
       "value": 0.5
      }
     },
     "e8ed6a5c6be04f61be3643094ea37018": {
      "model_module": "@jupyter-widgets/controls",
      "model_module_version": "1.5.0",
      "model_name": "SelectMultipleModel",
      "state": {
       "_options_labels": [
        "2",
        "3",
        "4",
        "5",
        "6",
        "7",
        "8",
        "9",
        "10",
        "11",
        "12",
        "13",
        "14",
        "15",
        "16",
        "17",
        "18",
        "19",
        "20",
        "21",
        "22",
        "23",
        "24",
        "25",
        "26",
        "27",
        "28",
        "29",
        "30",
        "31",
        "32",
        "33",
        "34",
        "35",
        "36",
        "37",
        "38",
        "39",
        "40",
        "41",
        "42",
        "43",
        "44",
        "45",
        "46",
        "47",
        "48",
        "49",
        "50",
        "51",
        "52",
        "53",
        "54",
        "55",
        "56",
        "57",
        "58",
        "59",
        "60",
        "61",
        "62",
        "63",
        "64",
        "65",
        "66",
        "67",
        "68",
        "69",
        "70",
        "71",
        "72",
        "73",
        "74",
        "75",
        "76",
        "77",
        "78",
        "79",
        "80",
        "81",
        "82",
        "83",
        "84",
        "85",
        "86",
        "87",
        "88",
        "89",
        "90",
        "91",
        "92",
        "93",
        "94",
        "95",
        "96",
        "97",
        "98",
        "99",
        "100"
       ],
       "description": "$\\mathbb{X}$",
       "index": [
        1
       ],
       "layout": "IPY_MODEL_02625562366f46e994fdd6092fa284c8",
       "rows": 5,
       "style": "IPY_MODEL_a92af630045f4938890a78e6641b1707"
      }
     },
     "e8f51703e551442981325e2c0d271a23": {
      "model_module": "@jupyter-widgets/controls",
      "model_module_version": "1.5.0",
      "model_name": "DropdownModel",
      "state": {
       "_options_labels": [
        "2",
        "3",
        "4",
        "5",
        "6",
        "7",
        "8",
        "9",
        "10",
        "11",
        "12",
        "13",
        "14",
        "15",
        "16",
        "17",
        "18",
        "19",
        "20",
        "21",
        "22",
        "23",
        "24",
        "25",
        "26",
        "27",
        "28",
        "29",
        "30",
        "31",
        "32",
        "33",
        "34",
        "35",
        "36",
        "37",
        "38",
        "39",
        "40",
        "41",
        "42",
        "43",
        "44",
        "45",
        "46",
        "47",
        "48",
        "49",
        "50"
       ],
       "description": "$x$",
       "index": 0,
       "layout": "IPY_MODEL_d738fb8e0f19475db9bfd3eb03c5042f",
       "style": "IPY_MODEL_44beebd3db2d40dea309c5a06c44a172"
      }
     },
     "ea68f2e925f1429e9efa6eb9c47a7e7f": {
      "model_module": "@jupyter-widgets/controls",
      "model_module_version": "1.5.0",
      "model_name": "FloatSliderModel",
      "state": {
       "description": "$\\Delta x$:",
       "layout": "IPY_MODEL_420e4f9e128e4bdba68a5cbb217440d3",
       "max": 0.99,
       "min": 0.15,
       "step": 0.01,
       "style": "IPY_MODEL_cd8c6c4108a4484aa4f3bd8e6d2cff12",
       "value": 0.25
      }
     },
     "eba3ec5bb3894b7da0d2f69c41d15417": {
      "model_module": "@jupyter-widgets/base",
      "model_module_version": "1.2.0",
      "model_name": "LayoutModel",
      "state": {}
     },
     "ec0ee4914a854e84a68fdcc6a9b2319f": {
      "model_module": "@jupyter-widgets/base",
      "model_module_version": "1.2.0",
      "model_name": "LayoutModel",
      "state": {}
     },
     "edc5c993a4f54b41b5c9c8427ccd4594": {
      "model_module": "@jupyter-widgets/controls",
      "model_module_version": "1.5.0",
      "model_name": "FloatSliderModel",
      "state": {
       "description": "L",
       "layout": "IPY_MODEL_0408c9cbdcb74c4d959c44099d3903dd",
       "max": 0.99,
       "min": 0.15,
       "step": 0.01,
       "style": "IPY_MODEL_a302e56496db48aa941ee751bd40a4b9",
       "value": 0.5
      }
     },
     "ee367d670d2a4f79aedb22edc028196e": {
      "model_module": "@jupyter-widgets/base",
      "model_module_version": "1.2.0",
      "model_name": "LayoutModel",
      "state": {}
     },
     "ef49dcab41ab4baa8b6d0d8ad3c00132": {
      "model_module": "@jupyter-widgets/controls",
      "model_module_version": "1.5.0",
      "model_name": "DropdownModel",
      "state": {
       "_options_labels": [
        "2",
        "3",
        "4",
        "5",
        "6",
        "7",
        "8",
        "9",
        "10",
        "11",
        "12",
        "13",
        "14",
        "15",
        "16",
        "17",
        "18",
        "19",
        "20",
        "21",
        "22",
        "23",
        "24",
        "25",
        "26",
        "27",
        "28",
        "29",
        "30",
        "31",
        "32",
        "33",
        "34",
        "35",
        "36",
        "37",
        "38",
        "39",
        "40",
        "41",
        "42",
        "43",
        "44",
        "45",
        "46",
        "47",
        "48",
        "49",
        "50"
       ],
       "description": "$x$",
       "index": 0,
       "layout": "IPY_MODEL_cb358639d67e46eda2b814b8b70d6ed1",
       "style": "IPY_MODEL_c652a71a63d8465c9063353d0d9001cb"
      }
     },
     "ef5c391cc5484c689fb65c34548eb266": {
      "model_module": "@jupyter-widgets/controls",
      "model_module_version": "1.5.0",
      "model_name": "SliderStyleModel",
      "state": {
       "description_width": ""
      }
     },
     "f0750e19eb4a4a8bafd2e79556c16c05": {
      "model_module": "@jupyter-widgets/controls",
      "model_module_version": "1.5.0",
      "model_name": "DropdownModel",
      "state": {
       "_options_labels": [
        "1.0",
        "1.4736842105263157",
        "1.9473684210526314",
        "2.4210526315789473",
        "2.894736842105263",
        "3.3684210526315788",
        "3.8421052631578947",
        "4.315789473684211",
        "4.789473684210526",
        "5.263157894736842",
        "5.7368421052631575",
        "6.2105263157894735",
        "6.684210526315789",
        "7.157894736842105",
        "7.63157894736842",
        "8.105263157894736",
        "8.578947368421051",
        "9.052631578947368",
        "9.526315789473683",
        "10.0"
       ],
       "description": "$\\Delta x$",
       "index": 0,
       "layout": "IPY_MODEL_4fc3ddcf8de4487e93de3aeff6d99b47",
       "style": "IPY_MODEL_88577f028e6049489de7d52e7d737bc0"
      }
     },
     "f1e94286570548c7b7d8c157d567be57": {
      "model_module": "@jupyter-widgets/controls",
      "model_module_version": "1.5.0",
      "model_name": "SliderStyleModel",
      "state": {
       "description_width": ""
      }
     },
     "f1f124a6d2a140d4be3283d0a4e9475e": {
      "model_module": "@jupyter-widgets/controls",
      "model_module_version": "1.5.0",
      "model_name": "SliderStyleModel",
      "state": {
       "description_width": ""
      }
     },
     "f2aa3616f57b48eabb69d1d3d0f2ab72": {
      "model_module": "@jupyter-widgets/base",
      "model_module_version": "1.2.0",
      "model_name": "LayoutModel",
      "state": {}
     },
     "f2b1cf8450c74325bf563daf34d580c1": {
      "model_module": "@jupyter-widgets/controls",
      "model_module_version": "1.5.0",
      "model_name": "FloatSliderModel",
      "state": {
       "description": "$\\Delta x$:",
       "layout": "IPY_MODEL_2cf969f405d6417a8cda13367842fc32",
       "max": 0.99,
       "min": 0.15,
       "step": 0.01,
       "style": "IPY_MODEL_5643b5d60b0b44f78ee57c348a06a24f",
       "value": 0.2
      }
     },
     "f3b076fd47064c8ba27e887defc6e57a": {
      "model_module": "@jupyter-widgets/base",
      "model_module_version": "1.2.0",
      "model_name": "LayoutModel",
      "state": {}
     },
     "f479720ed76042fc9e2d8871b54d7a4c": {
      "model_module": "@jupyter-widgets/controls",
      "model_module_version": "1.5.0",
      "model_name": "SelectMultipleModel",
      "state": {
       "_options_labels": [
        "2",
        "3",
        "4",
        "5",
        "6",
        "7",
        "8",
        "9",
        "10",
        "11",
        "12",
        "13",
        "14",
        "15",
        "16",
        "17",
        "18",
        "19",
        "20",
        "21",
        "22",
        "23",
        "24",
        "25",
        "26",
        "27",
        "28",
        "29",
        "30",
        "31",
        "32",
        "33",
        "34",
        "35",
        "36",
        "37",
        "38",
        "39",
        "40",
        "41",
        "42",
        "43",
        "44",
        "45",
        "46",
        "47",
        "48",
        "49",
        "50",
        "51",
        "52",
        "53",
        "54",
        "55",
        "56",
        "57",
        "58",
        "59",
        "60",
        "61",
        "62",
        "63",
        "64",
        "65",
        "66",
        "67",
        "68",
        "69",
        "70",
        "71",
        "72",
        "73",
        "74",
        "75",
        "76",
        "77",
        "78",
        "79",
        "80",
        "81",
        "82",
        "83",
        "84",
        "85",
        "86",
        "87",
        "88",
        "89",
        "90",
        "91",
        "92",
        "93",
        "94",
        "95",
        "96",
        "97",
        "98",
        "99",
        "100"
       ],
       "description": "$\\mathbb{X}$",
       "index": [
        18
       ],
       "layout": "IPY_MODEL_54736b6fc69c449daf89d6297eb254fc",
       "rows": 5,
       "style": "IPY_MODEL_af7f81897d4c4638993f61efd159713b"
      }
     },
     "f4c9ec5b3e0b411e8a9a78f86d476d2c": {
      "model_module": "@jupyter-widgets/controls",
      "model_module_version": "1.5.0",
      "model_name": "SliderStyleModel",
      "state": {
       "description_width": ""
      }
     },
     "f706c8ddffe3463dbdbdfecdc6a51cac": {
      "model_module": "@jupyter-widgets/base",
      "model_module_version": "1.2.0",
      "model_name": "LayoutModel",
      "state": {}
     },
     "f87662ad44844b5ab36d4327f9e0307b": {
      "model_module": "@jupyter-widgets/output",
      "model_module_version": "1.0.0",
      "model_name": "OutputModel",
      "state": {
       "layout": "IPY_MODEL_1fb1762e6d18443aa772df0d658cdf50",
       "outputs": [
        {
         "data": {
          "image/png": "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\n",
          "text/plain": "<Figure size 432x288 with 1 Axes>"
         },
         "metadata": {
          "needs_background": "light"
         },
         "output_type": "display_data"
        }
       ]
      }
     },
     "faad4008694b4a748c9cd27949b9b4e7": {
      "model_module": "@jupyter-widgets/base",
      "model_module_version": "1.2.0",
      "model_name": "LayoutModel",
      "state": {}
     },
     "fae429bf031a40329cf3702e1bc9c74b": {
      "model_module": "@jupyter-widgets/base",
      "model_module_version": "1.2.0",
      "model_name": "LayoutModel",
      "state": {}
     },
     "fafd9dba3e3946d1bf2c451054bd0b7b": {
      "model_module": "@jupyter-widgets/controls",
      "model_module_version": "1.5.0",
      "model_name": "SliderStyleModel",
      "state": {
       "description_width": ""
      }
     },
     "fb163ce26e9d420f8eff9383bde6f0d5": {
      "model_module": "@jupyter-widgets/base",
      "model_module_version": "1.2.0",
      "model_name": "LayoutModel",
      "state": {}
     },
     "fb38a4bdc77041dba1c17608aacd0682": {
      "model_module": "@jupyter-widgets/controls",
      "model_module_version": "1.5.0",
      "model_name": "FloatSliderModel",
      "state": {
       "description": "$\\Delta x$:",
       "layout": "IPY_MODEL_443127b9056c4f1080c02e49813c7832",
       "max": 0.99,
       "min": 0.15,
       "step": 0.01,
       "style": "IPY_MODEL_adc3c5cfdecd4e67979bcbffbfdb0d6b",
       "value": 0.2
      }
     },
     "fb83fcdd0335414cb19fd1435be0c621": {
      "model_module": "@jupyter-widgets/controls",
      "model_module_version": "1.5.0",
      "model_name": "VBoxModel",
      "state": {
       "_dom_classes": [
        "widget-interact"
       ],
       "children": [
        "IPY_MODEL_26374dab80354ff79eabcf19aa32d698",
        "IPY_MODEL_46f559c6bcc245ea9722a14978da8d60",
        "IPY_MODEL_9f4cee5402f54ee7b9ba1e3d6850420c",
        "IPY_MODEL_da9215c47225480db44f3292ab745b61"
       ],
       "layout": "IPY_MODEL_2b0922767bc7465eb918ee707064b70a"
      }
     },
     "fb8f8c9d0af1474ea92f80d8060371e1": {
      "model_module": "@jupyter-widgets/controls",
      "model_module_version": "1.5.0",
      "model_name": "DescriptionStyleModel",
      "state": {
       "description_width": ""
      }
     },
     "fbd1a66f9fef4095a3c784bd8ad4ea36": {
      "model_module": "@jupyter-widgets/base",
      "model_module_version": "1.2.0",
      "model_name": "LayoutModel",
      "state": {}
     },
     "fc035b8f63124abba92e6fa2a2f6c81b": {
      "model_module": "@jupyter-widgets/controls",
      "model_module_version": "1.5.0",
      "model_name": "SliderStyleModel",
      "state": {
       "description_width": ""
      }
     },
     "fce01de8634844f381b36f8811231ab8": {
      "model_module": "@jupyter-widgets/controls",
      "model_module_version": "1.5.0",
      "model_name": "VBoxModel",
      "state": {
       "_dom_classes": [
        "widget-interact"
       ],
       "children": [
        "IPY_MODEL_443cf05463e8432297febee74fbbd5d7",
        "IPY_MODEL_578bf3f9c5634072943a7b218baac931",
        "IPY_MODEL_f479720ed76042fc9e2d8871b54d7a4c",
        "IPY_MODEL_d473a87669a14800af67c5a531697468"
       ],
       "layout": "IPY_MODEL_232512b70a2649898eb3a3c72a9a11a8"
      }
     },
     "fd3a47f9edbb416d9c6eea5ee775c458": {
      "model_module": "@jupyter-widgets/controls",
      "model_module_version": "1.5.0",
      "model_name": "DescriptionStyleModel",
      "state": {
       "description_width": ""
      }
     },
     "fdce6f64b72249038ca585e5f1843ac7": {
      "model_module": "@jupyter-widgets/controls",
      "model_module_version": "1.5.0",
      "model_name": "SliderStyleModel",
      "state": {
       "description_width": ""
      }
     },
     "fe1bae3a67ac42fe9764b550dc8cffe7": {
      "model_module": "@jupyter-widgets/controls",
      "model_module_version": "1.5.0",
      "model_name": "VBoxModel",
      "state": {
       "_dom_classes": [
        "widget-interact"
       ],
       "children": [
        "IPY_MODEL_3c149b8f7cbb47438e2a6229966c76a1",
        "IPY_MODEL_b1dc477f5f734998b5f502ac53ac9420",
        "IPY_MODEL_7ed9dc9fb64b47e588642a7b43deed28",
        "IPY_MODEL_b4d1230f9a9e4bcaa5df43102c6b5f52"
       ],
       "layout": "IPY_MODEL_61f89971f4034c39ab3d122b9179d797"
      }
     },
     "fe1d0bb88f2e42268e3488808c2b3c29": {
      "model_module": "@jupyter-widgets/controls",
      "model_module_version": "1.5.0",
      "model_name": "DescriptionStyleModel",
      "state": {
       "description_width": ""
      }
     },
     "ff367c9f8e0e4d2c9f16e8c4e6b3ba54": {
      "model_module": "@jupyter-widgets/base",
      "model_module_version": "1.2.0",
      "model_name": "LayoutModel",
      "state": {}
     },
     "ff52e34a4d0546c6b73ad13985d66159": {
      "model_module": "@jupyter-widgets/base",
      "model_module_version": "1.2.0",
      "model_name": "LayoutModel",
      "state": {}
     },
     "ff752622085a4b82b2cb2407a2926b05": {
      "model_module": "@jupyter-widgets/controls",
      "model_module_version": "1.5.0",
      "model_name": "VBoxModel",
      "state": {
       "_dom_classes": [
        "widget-interact"
       ],
       "children": [
        "IPY_MODEL_ffb2d24260a0419f831c0981c0f98448",
        "IPY_MODEL_cbf6107aa878494bbd70746c55f2af17",
        "IPY_MODEL_23b7ef3e788543ddb605bd260a3f41ee",
        "IPY_MODEL_f87662ad44844b5ab36d4327f9e0307b"
       ],
       "layout": "IPY_MODEL_267185ed16ac4574ae7fecb698c00d02"
      }
     },
     "ffb2d24260a0419f831c0981c0f98448": {
      "model_module": "@jupyter-widgets/controls",
      "model_module_version": "1.5.0",
      "model_name": "FloatSliderModel",
      "state": {
       "description": "$\\Delta x$:",
       "layout": "IPY_MODEL_45ab0ce25f0847f09f8f2a393f20cb2d",
       "max": 0.99,
       "min": 0.15,
       "step": 0.01,
       "style": "IPY_MODEL_fafd9dba3e3946d1bf2c451054bd0b7b",
       "value": 0.2
      }
     },
     "fff68ee7fe844b1389b0ba5438b3352a": {
      "model_module": "@jupyter-widgets/controls",
      "model_module_version": "1.5.0",
      "model_name": "DescriptionStyleModel",
      "state": {
       "description_width": ""
      }
     }
    },
    "version_major": 2,
    "version_minor": 0
   }
  }
 },
 "nbformat": 4,
 "nbformat_minor": 2
}
