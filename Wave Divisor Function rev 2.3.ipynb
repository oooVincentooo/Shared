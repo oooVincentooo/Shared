{
 "cells": [
  {
   "cell_type": "code",
   "execution_count": 1,
   "metadata": {},
   "outputs": [],
   "source": [
    "import ipywidgets as widgets\n",
    "from IPython.display import display\n",
    "import matplotlib.pyplot as plt\n",
    "import numpy as np\n",
    "from operator import add\n",
    "\n",
    "%matplotlib notebook"
   ]
  },
  {
   "cell_type": "code",
   "execution_count": 2,
   "metadata": {},
   "outputs": [
    {
     "data": {
      "application/vnd.jupyter.widget-view+json": {
       "model_id": "b575e2a492074e829cd55972532435c9",
       "version_major": 2,
       "version_minor": 0
      },
      "text/plain": [
       "interactive(children=(FloatSlider(value=0.25, description='$\\\\delta x$:', max=0.55, min=0.15, step=0.01), Floa…"
      ]
     },
     "metadata": {},
     "output_type": "display_data"
    },
    {
     "data": {
      "image/png": "[encoded data removed]",
      "text/plain": [
       "<Figure size 720x288 with 1 Axes>"
      ]
     },
     "metadata": {
      "needs_background": "light"
     },
     "output_type": "display_data"
    }
   ],
   "source": [
    "x = np.linspace(0, 100, 40001)\n",
    "fig, ax = plt.subplots(1, figsize=(10, 4))\n",
    "plt.suptitle('$\\sigma_{0}$ Wave Divisor Function')\n",
    "\n",
    "\n",
    "def update_plot(dx, L, wave):\n",
    "    \n",
    "    ax.clear()\n",
    "    \n",
    "    y=[0]*40001\n",
    "    \n",
    "    for w in wave:\n",
    "  \n",
    "        N=-2*(w**2)*np.log(L)/((np.pi**2)*(dx**2))\n",
    "        N=2*round(0.5*N,0)\n",
    "        \n",
    "        yw = ((np.cos(x*np.pi/w))**N)*(np.cos(np.pi*N*x/w))\n",
    "              \n",
    "        \n",
    "        y=list(map(add, y, yw) )\n",
    "    \n",
    "    units = 'dx = {} \\nL = {}'\n",
    "    \n",
    "    ax.plot(x, y, label=units.format(dx, L))\n",
    "    #ax.plot(x, y)\n",
    "    ax.set_xlim(x[0], x[-1])\n",
    "    ax.legend(loc=1)\n",
    "    ax.set_xlabel('$x$')\n",
    "    plt.show()\n",
    "\n",
    "\n",
    "dx = widgets.FloatSlider(min=0.15, max=0.55, value=0.25, step=0.01, description='$\\delta x$:')\n",
    "L = widgets.FloatSlider(min=0.15, max=0.55, value=0.5, step=0.01, description='L')\n",
    "wave = widgets.SelectMultiple(options=list(range(2,101)), value=(2, ), description=\"$\\mathbb{X}$\")   \n",
    "\n",
    "widgets.interactive(update_plot, dx=dx, L=L, wave=wave)"
   ]
  },
  {
   "cell_type": "code",
   "execution_count": null,
   "metadata": {},
   "outputs": [],
   "source": []
  }
 ],
 "metadata": {
  "kernelspec": {
   "display_name": "Python 3",
   "language": "python",
   "name": "python3"
  },
  "language_info": {
   "codemirror_mode": {
    "name": "ipython",
    "version": 3
   },
   "file_extension": ".py",
   "mimetype": "text/x-python",
   "name": "python",
   "nbconvert_exporter": "python",
   "pygments_lexer": "ipython3",
   "version": "3.7.3"
  }
 },
 "nbformat": 4,
 "nbformat_minor": 2
}
