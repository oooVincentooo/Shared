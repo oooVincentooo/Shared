{
 "cells": [
  {
   "cell_type": "code",
   "execution_count": 6,
   "metadata": {},
   "outputs": [
    {
     "data": {
      "application/vnd.jupyter.widget-view+json": {
       "model_id": "2251707f15e941b29cb64a5f8084e2ad",
       "version_major": 2,
       "version_minor": 0
      },
      "text/plain": [
       "Canvas(toolbar=Toolbar(toolitems=[('Home', 'Reset original view', 'home', 'home'), ('Back', 'Back to previous …"
      ]
     },
     "metadata": {},
     "output_type": "display_data"
    }
   ],
   "source": [
    "import numpy as np\n",
    "import matplotlib.pyplot as plt1\n",
    "from sympy.ntheory import factorint\n",
    "from matplotlib.ticker import (MultipleLocator, FormatStrFormatter,\n",
    "                               AutoMinorLocator)\n",
    "\n",
    "%matplotlib widget\n",
    "\n",
    "fig, ax1a = plt1.subplots(1, figsize=(16, 8))\n",
    "ax1a.clear()\n",
    "\n",
    "#Number of numbers to factorize\n",
    "p=50000\n",
    "\n",
    "#maximum plotpoints in graph, recommended <2.000.000\n",
    "s=2000000\n",
    "\n",
    "if (s>=p):\n",
    "    s=p\n",
    "\n",
    "modu=int(p/s)\n",
    "\n",
    "#Set counter zero and create zero arrays plot data\n",
    "c=0\n",
    "xcs=np.zeros(s+1)\n",
    "ycs=np.zeros(s+1)\n",
    "xs=np.zeros(s+1)\n",
    "ys=np.zeros(s+1)\n",
    "\n",
    "#Images to save in walk (parital walk, red), images=0 no partial random walks\n",
    "images=0\n",
    "\n",
    "#Set cumulative biffer value to 0\n",
    "xm=0\n",
    "ym=0\n",
    "\n",
    "#Spacing tickmarks x and y axis\n",
    "tick=2000\n",
    "\n",
    "for n in range(p+1):\n",
    "    \n",
    "    #Prime Factors\n",
    "    a=factorint(n)\n",
    "    \n",
    "    #Unique Prime Factors\n",
    "    pf=list(a)\n",
    "\n",
    "    #All Exponents\n",
    "    exp=list(a.values())\n",
    "    \n",
    "    #Count all Prime Factors (including duplicates) if even -1 odd +1\n",
    "    if np.sum(exp)%2==0:\n",
    "        yn=-1\n",
    "    else:\n",
    "        yn=1\n",
    "    \n",
    "    #Add results to array, including cumulative steps\n",
    "    ym=ym+yn\n",
    "\n",
    "    #Count all unique Prime Factors (including duplicates) if even -1 odd +1\n",
    "    pf=np.size(pf)\n",
    "    if pf%2==0:\n",
    "        xn=-1\n",
    "    else:\n",
    "        xn=1\n",
    "\n",
    "    #Add results to array, including cumulative steps\n",
    "    xm=xm+xn \n",
    "\n",
    "    #Add results to shortened table with maximum of s elements\n",
    "    if (n%modu==0):\n",
    "        xcs[c]=xm\n",
    "        ycs[c]=ym\n",
    "\n",
    "        xs[c]=xn\n",
    "        ys[c]=yn\n",
    "\n",
    "        c=c+1\n",
    "        \n",
    "        \n",
    "\n",
    "\n",
    "#Create graph label for last point partial random walk\n",
    "a=factorint(int(p))\n",
    "\n",
    "#Unique Prime Factors\n",
    "pf=np.char.array(np.array(list(a),dtype=str))\n",
    "\n",
    "#Create Label Exponents, create Latex string with primefactors and exponents\n",
    "exp=np.char.array(np.array(list(a.values()),dtype=str))\n",
    "fac='$' + (', '.join(pf+'^{' + exp + '}')) + '$'\n",
    "l='n= ' + str(int(p)) + '\\nfactors: ' + str(fac) + '\\nparity: x=' +  str(xs[(count)]) + ', y=' +  str(ys[(count)]) + '\\ncumulative: x=' +  str(xcs[(count)]) + ', y=' +  str(ycs[(count)]) \n",
    "\n",
    "#Plot total random walk\n",
    "ax1a.plot(xcs,ycs, marker='', color='black', linestyle='-', markersize=0,linewidth=0.04,label=l)\n",
    "ax1a.set_xlabel('$x$',fontsize=10)\n",
    "ax1a.set_ylabel('$y$',fontsize=10)\n",
    "ax1a.grid(b=True, which='major', color='#666666', linestyle='-', zorder=0)\n",
    "ax1a.ticklabel_format(axis='x', style='sci', scilimits=None, useOffset=None, useLocale=None, useMathText=None)\n",
    "ax1a.ticklabel_format(axis='y', style='sci', scilimits=None, useOffset=None, useLocale=None, useMathText=None)\n",
    "ax1a.xaxis.set_major_locator(MultipleLocator(tick))\n",
    "ax1a.yaxis.set_major_locator(MultipleLocator(tick))\n",
    "ax1a.legend(loc='upper left',fontsize=12,markerscale=1,frameon=False)\n",
    "\n",
    "plt1.title('Count all factors:  y=+1 (odd), y=-1 (even), Count unique factors: x=+1 (odd), x=-1 (even)', fontsize=10)\n",
    "plt1.suptitle('Parity random walk of prime factorization', fontsize=25,y=0.96)\n",
    "plt1.gca().set_aspect('equal', adjustable='box')\n",
    "plt1.savefig('Random Walk00000.png', dpi=300, bbox_inches='tight')\n",
    "\n",
    "if images>0:\n",
    "    for q in range(images):\n",
    "\n",
    "        count=int((q+1)*s/images)\n",
    "\n",
    "        #print(count)    \n",
    "        a=factorint(int(count*p/s))\n",
    "\n",
    "\n",
    "        #Unique Prime Factors\n",
    "        pf=np.char.array(np.array(list(a),dtype=str))\n",
    "\n",
    "        #Exponents, create Latex string with primefactors and exponents\n",
    "        exp=np.char.array(np.array(list(a.values()),dtype=str))\n",
    "        fac='$' + (', '.join(pf+'^{' + exp + '}')) + '$'\n",
    "\n",
    "        #Create graph label for last point partial random walk\n",
    "        l='n= ' + str(int(count*p/s)) + '\\nfactors: ' + str(fac) + '\\nparity: x=' +  str(xs[(count)]) + ', y=' +  str(ys[(count)]) + '\\ncumulative: x=' +  str(xcs[(count)]) + ', y=' +  str(ycs[(count)]) \n",
    "\n",
    "        #Plot black total walk and partial red \n",
    "        ax1a.clear()\n",
    "        ax1a.plot(xcs,ycs, marker='', color='black', linestyle='-', markersize=0,linewidth=0.04)\n",
    "        ax1a.plot(xcs[0:(count)],ycs[0:(count)], marker='', color='red', linestyle='-', markersize=0,linewidth=0.05)\n",
    "        ax1a.plot(xcs[(count)],ycs[(count)], marker='o', color='red', linestyle='-', markersize=3,linewidth=0,label=l)\n",
    "\n",
    "        ax1a.grid(b=True, which='major', color='#666666', linestyle='-', zorder=0)\n",
    "        ax1a.xaxis.set_major_locator(MultipleLocator(tick))\n",
    "        ax1a.yaxis.set_major_locator(MultipleLocator(tick))\n",
    "        ax1a.ticklabel_format(axis='x', style='sci', scilimits=None, useOffset=None, useLocale=None, useMathText=None)\n",
    "        ax1a.ticklabel_format(axis='y', style='sci', scilimits=None, useOffset=None, useLocale=None, useMathText=None)\n",
    "        ax1a.legend(loc='upper left',fontsize=12,markerscale=1,frameon=False)\n",
    "        ax1a.set_xlabel('$x$',fontsize=10)\n",
    "        ax1a.set_ylabel('$y$',fontsize=10)\n",
    "\n",
    "        plt1.title('Count all factors:  y=+1 (odd), y=-1 (even), Count unique factors: x=+1 (odd), x=-1 (even)', fontsize=10)\n",
    "        plt1.suptitle('Parity random walk of prime factorization', fontsize=25,y=0.96)\n",
    "        plt1.gca().set_aspect('equal', adjustable='box')\n",
    "        plt1.savefig('Random Walk' + str(\"%05d\" % (q+1)) +'.png', dpi=300, bbox_inches='tight')\n"
   ]
  },
  {
   "cell_type": "code",
   "execution_count": null,
   "metadata": {},
   "outputs": [],
   "source": []
  }
 ],
 "metadata": {
  "kernelspec": {
   "display_name": "Python 3",
   "language": "python",
   "name": "python3"
  },
  "language_info": {
   "codemirror_mode": {
    "name": "ipython",
    "version": 3
   },
   "file_extension": ".py",
   "mimetype": "text/x-python",
   "name": "python",
   "nbconvert_exporter": "python",
   "pygments_lexer": "ipython3",
   "version": "3.8.5"
  },
  "widgets": {
   "application/vnd.jupyter.widget-state+json": {
    "state": {
     "0d7d757af57444159c8f3214da1450eb": {
      "model_module": "@jupyter-widgets/base",
      "model_module_version": "1.2.0",
      "model_name": "LayoutModel",
      "state": {}
     },
     "19aa35ca709247d7839a1c4dd9def343": {
      "model_module": "@jupyter-widgets/base",
      "model_module_version": "1.2.0",
      "model_name": "LayoutModel",
      "state": {}
     },
     "2251707f15e941b29cb64a5f8084e2ad": {
      "model_module": "jupyter-matplotlib",
      "model_module_version": "^0.7.4",
      "model_name": "MPLCanvasModel",
      "state": {
       "_figure_label": "Figure 1",
       "_height": 800,
       "_width": 1600,
       "layout": "IPY_MODEL_6677a60b09cd4cac958c717e64df2854",
       "toolbar": "IPY_MODEL_b96f554309a84f5399c5d28a94baeca4",
       "toolbar_position": "left"
      }
     },
     "244d3500d4e2461ca6f2b8ca2e7df2af": {
      "model_module": "@jupyter-widgets/base",
      "model_module_version": "1.2.0",
      "model_name": "LayoutModel",
      "state": {}
     },
     "4159fc441a804760a611229f1349a7bc": {
      "model_module": "@jupyter-widgets/base",
      "model_module_version": "1.2.0",
      "model_name": "LayoutModel",
      "state": {}
     },
     "62518acd98a54e81a866017e2d4ebc8c": {
      "model_module": "jupyter-matplotlib",
      "model_module_version": "^0.7.4",
      "model_name": "ToolbarModel",
      "state": {
       "layout": "IPY_MODEL_244d3500d4e2461ca6f2b8ca2e7df2af",
       "toolitems": [
        [
         "Home",
         "Reset original view",
         "home",
         "home"
        ],
        [
         "Back",
         "Back to previous view",
         "arrow-left",
         "back"
        ],
        [
         "Forward",
         "Forward to next view",
         "arrow-right",
         "forward"
        ],
        [
         "Pan",
         "Left button pans, Right button zooms\nx/y fixes axis, CTRL fixes aspect",
         "arrows",
         "pan"
        ],
        [
         "Zoom",
         "Zoom to rectangle\nx/y fixes axis, CTRL fixes aspect",
         "square-o",
         "zoom"
        ],
        [
         "Download",
         "Download plot",
         "floppy-o",
         "save_figure"
        ]
       ]
      }
     },
     "6677a60b09cd4cac958c717e64df2854": {
      "model_module": "@jupyter-widgets/base",
      "model_module_version": "1.2.0",
      "model_name": "LayoutModel",
      "state": {}
     },
     "70c0e052415c4d3fb07f4d8d6a2d68a1": {
      "model_module": "jupyter-matplotlib",
      "model_module_version": "^0.7.4",
      "model_name": "ToolbarModel",
      "state": {
       "layout": "IPY_MODEL_b7f8d67534ad491aa3dc4aeb51beea45",
       "toolitems": [
        [
         "Home",
         "Reset original view",
         "home",
         "home"
        ],
        [
         "Back",
         "Back to previous view",
         "arrow-left",
         "back"
        ],
        [
         "Forward",
         "Forward to next view",
         "arrow-right",
         "forward"
        ],
        [
         "Pan",
         "Left button pans, Right button zooms\nx/y fixes axis, CTRL fixes aspect",
         "arrows",
         "pan"
        ],
        [
         "Zoom",
         "Zoom to rectangle\nx/y fixes axis, CTRL fixes aspect",
         "square-o",
         "zoom"
        ],
        [
         "Download",
         "Download plot",
         "floppy-o",
         "save_figure"
        ]
       ]
      }
     },
     "71fc5efe3a7c4ceb8da54220a1ebcc35": {
      "model_module": "@jupyter-widgets/base",
      "model_module_version": "1.2.0",
      "model_name": "LayoutModel",
      "state": {}
     },
     "8d72a2c81b544f30b9e9c0789ae7394d": {
      "model_module": "jupyter-matplotlib",
      "model_module_version": "^0.7.4",
      "model_name": "ToolbarModel",
      "state": {
       "layout": "IPY_MODEL_71fc5efe3a7c4ceb8da54220a1ebcc35",
       "toolitems": [
        [
         "Home",
         "Reset original view",
         "home",
         "home"
        ],
        [
         "Back",
         "Back to previous view",
         "arrow-left",
         "back"
        ],
        [
         "Forward",
         "Forward to next view",
         "arrow-right",
         "forward"
        ],
        [
         "Pan",
         "Left button pans, Right button zooms\nx/y fixes axis, CTRL fixes aspect",
         "arrows",
         "pan"
        ],
        [
         "Zoom",
         "Zoom to rectangle\nx/y fixes axis, CTRL fixes aspect",
         "square-o",
         "zoom"
        ],
        [
         "Download",
         "Download plot",
         "floppy-o",
         "save_figure"
        ]
       ]
      }
     },
     "8e542453d1ec4795b402eb72581a4cf9": {
      "model_module": "@jupyter-widgets/base",
      "model_module_version": "1.2.0",
      "model_name": "LayoutModel",
      "state": {}
     },
     "99fcbedd51454d7e9c3b1141464ed3bb": {
      "model_module": "@jupyter-widgets/base",
      "model_module_version": "1.2.0",
      "model_name": "LayoutModel",
      "state": {}
     },
     "a1da4898a0a04ff1b2ddf94d6353ed80": {
      "model_module": "@jupyter-widgets/base",
      "model_module_version": "1.2.0",
      "model_name": "LayoutModel",
      "state": {}
     },
     "b1a07dbafb9b43049ad16018de46c11c": {
      "model_module": "@jupyter-widgets/base",
      "model_module_version": "1.2.0",
      "model_name": "LayoutModel",
      "state": {}
     },
     "b7f8d67534ad491aa3dc4aeb51beea45": {
      "model_module": "@jupyter-widgets/base",
      "model_module_version": "1.2.0",
      "model_name": "LayoutModel",
      "state": {}
     },
     "b96f554309a84f5399c5d28a94baeca4": {
      "model_module": "jupyter-matplotlib",
      "model_module_version": "^0.7.4",
      "model_name": "ToolbarModel",
      "state": {
       "layout": "IPY_MODEL_4159fc441a804760a611229f1349a7bc",
       "toolitems": [
        [
         "Home",
         "Reset original view",
         "home",
         "home"
        ],
        [
         "Back",
         "Back to previous view",
         "arrow-left",
         "back"
        ],
        [
         "Forward",
         "Forward to next view",
         "arrow-right",
         "forward"
        ],
        [
         "Pan",
         "Left button pans, Right button zooms\nx/y fixes axis, CTRL fixes aspect",
         "arrows",
         "pan"
        ],
        [
         "Zoom",
         "Zoom to rectangle\nx/y fixes axis, CTRL fixes aspect",
         "square-o",
         "zoom"
        ],
        [
         "Download",
         "Download plot",
         "floppy-o",
         "save_figure"
        ]
       ]
      }
     },
     "bf5c30b508234c5e9628c245ad5a7b39": {
      "model_module": "@jupyter-widgets/base",
      "model_module_version": "1.2.0",
      "model_name": "LayoutModel",
      "state": {}
     },
     "c15e47d84ded48bb9426a7fcda183ffa": {
      "model_module": "jupyter-matplotlib",
      "model_module_version": "^0.7.4",
      "model_name": "ToolbarModel",
      "state": {
       "layout": "IPY_MODEL_b1a07dbafb9b43049ad16018de46c11c",
       "toolitems": [
        [
         "Home",
         "Reset original view",
         "home",
         "home"
        ],
        [
         "Back",
         "Back to previous view",
         "arrow-left",
         "back"
        ],
        [
         "Forward",
         "Forward to next view",
         "arrow-right",
         "forward"
        ],
        [
         "Pan",
         "Left button pans, Right button zooms\nx/y fixes axis, CTRL fixes aspect",
         "arrows",
         "pan"
        ],
        [
         "Zoom",
         "Zoom to rectangle\nx/y fixes axis, CTRL fixes aspect",
         "square-o",
         "zoom"
        ],
        [
         "Download",
         "Download plot",
         "floppy-o",
         "save_figure"
        ]
       ]
      }
     },
     "dc2e087fa04e48ee9d75762167e2d093": {
      "model_module": "jupyter-matplotlib",
      "model_module_version": "^0.7.4",
      "model_name": "ToolbarModel",
      "state": {
       "layout": "IPY_MODEL_8e542453d1ec4795b402eb72581a4cf9",
       "toolitems": [
        [
         "Home",
         "Reset original view",
         "home",
         "home"
        ],
        [
         "Back",
         "Back to previous view",
         "arrow-left",
         "back"
        ],
        [
         "Forward",
         "Forward to next view",
         "arrow-right",
         "forward"
        ],
        [
         "Pan",
         "Left button pans, Right button zooms\nx/y fixes axis, CTRL fixes aspect",
         "arrows",
         "pan"
        ],
        [
         "Zoom",
         "Zoom to rectangle\nx/y fixes axis, CTRL fixes aspect",
         "square-o",
         "zoom"
        ],
        [
         "Download",
         "Download plot",
         "floppy-o",
         "save_figure"
        ]
       ]
      }
     }
    },
    "version_major": 2,
    "version_minor": 0
   }
  }
 },
 "nbformat": 4,
 "nbformat_minor": 4
}
