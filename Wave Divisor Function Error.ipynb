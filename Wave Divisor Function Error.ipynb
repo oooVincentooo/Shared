{
 "cells": [
  {
   "cell_type": "markdown",
   "metadata": {},
   "source": [
    "# Wave Divisor Function Error Simulation.\n",
    "\n",
    "The error in the wave divisor function depends on direct neighbor divisors ([Wave Divisor Function][1]). For narrow\n",
    "pulsewidths: $\\Delta x$ is small the error will reduce. Every wavepulse can contribute a maximum\n",
    "error of: $max(\\varepsilon)$.\n",
    "\n",
    "$$ max(\\varepsilon)=exp \\left( \\frac{\\log(L)}{\\Delta x^2}      \\right)$$\n",
    "\n",
    "The total error is the cosine summation of all neighbor divisors $(x-1)$ and $(x+1)$.\n",
    "\n",
    "\n",
    "$$\n",
    "\\varepsilon (x)= max(\\varepsilon) \\cdot \\left[ \\sum_{\\mathbb{X}\\vert(x-1)} a \\cdot \\cos \\left( \\frac{N \\pi }{\\mathbb{X} } \\right)  + \\sum_{\\mathbb{X}\\vert(x+1)} a \\cdot \\cos \\left( \\frac{N \\pi }{\\mathbb{X} } \\right)     \\right]   \n",
    "\\label{eq: error_standard} \\tag{1}\n",
    "$$\n",
    "\n",
    "Here $\\mathbb{X} \\vert (x-1)$ means: $\\mathbb{X}$ divides $(x-1)$. Basically the divisors are added from the neighbors of $x$ like (simplified):\n",
    "\n",
    "$$\\varepsilon (9) = \\cos(k1)+\\cos(k2)+\\cos(k4)+\\cos(k8)+\\cos(k1)+\\cos(k2)+\\cos(k5)+\\cos(k10)$$\n",
    "\n",
    "$N$ and the amplitude $a$ can be calculated with:\n",
    "\n",
    "$$ N(\\mathbb{X})= \\frac{\\log (L)}{\\log \\left(  \\cos \\left(  \\frac {\\pi}{\\mathbb{X} } \\Delta x  \\right)\\right)}  \\quad where: \\quad N(\\mathbb{X}) \\in 2 \\mathbb{N} $$\n",
    "\n",
    "$$ a(\\mathbb{X})= \\cos^{N} \\left(  \\frac{\\pi}{\\mathbb{X}}   \\right) \\bigg / max(\\varepsilon) $$\n",
    "\n",
    "The amplitude $a(\\mathbb{X})$ will decrease for smaller divisors $\\mathbb{X}$. $N(\\mathbb{X})$ is determined by the pulsewidth and rounded to its closest even integer. The divisors of a number are expected to be random. Also rounding of  $N(\\mathbb{X})$ will cause an randomizing effect. The error is expected to follow a: Random walk / Brownian motion over an arcsine distribution (with variance: $0.5$). The growth in the error can be approximated. It was found that the growth is related to the mean divisor growth by Dirichlet (note: 1 is not included as divisor).\n",
    "\n",
    "$$Var(\\varepsilon(x)) \\approx \\frac{1}{2} \\cdot \\left[ \\sigma_{0}(x-1) +  \\sigma_{0}(x+1)    \\right]$$\n",
    "\n",
    "$$ Stdev(\\sigma_{0}) \\approx  \\cdot \\sqrt{\\log(x)+ 2 \\gamma -2}\n",
    " \\label{eq: Stdev} \\tag{2}\n",
    " $$\n",
    "\n",
    "The error description $\\eqref{eq: error_standard}$ can be approximated for large numbers by:\n",
    "\n",
    " $$\\varepsilon (x) \\approx max(\\varepsilon) \\cdot \\left[ \\sum_{\\mathbb{X}\\vert (x-1)}^{} \\cos(k \\mathbb{X}) + \\sum_{\\mathbb{X}\\vert (x+1)}^{} \\cos(k \\mathbb{X}) \\right]\n",
    " \\label{eq: error_approx} \\tag{3}\n",
    " $$\n",
    "\n",
    "Where $k$ is a constant and determined by the pulse width.\n",
    "\n",
    "$$ k=-\\frac{2 \\log(L)}{\\pi \\Delta x^{2}}$$\n",
    "\n",
    "Resonation can occur when $k$ is a multiple of $\\pi$. \n",
    "\n",
    "$$ k=-\\frac{2 \\log(L)}{\\pi \\Delta x^{2}}=\\phi \\pi$$\n",
    "\n",
    "$$ \\phi=-\\frac{2 \\log(L)}{\\pi^{2} \\Delta x^{2}}\n",
    "\\label{eq: phi} \\tag{4}\n",
    "$$\n",
    "\n",
    "When $\\phi$ is an integer resonation between error waves can occur. For typical arcsine distributions see link [Jupyter ArcSine Distr][3].\n",
    "\n",
    "A simulation has been made calculating the “standard error” $\\eqref{eq: error_standard}$ and “approximated error” $\\eqref{eq: error_approx}$. Earlier error analysis showed that the distribution $\\varepsilon(x)$ varies depending upon $𝑥$ being odd (skewed distribution) or even (symmetrical distribution). So I know partity has a effect. Also observed for $x$ is even: Twin Primes cause a peak arround 0.\n",
    "\n",
    "Question:\n",
    "Does the error follow a random walk over an arsine distribution (for odd or even $x$)? Till 1.000.000 $\\eqref{eq: Stdev}$ holds pretty good.\n",
    "\n",
    "More information: [Wave Divisor Function][1], [Jupyter Error Sim][2], [Jupyter ArcSine Distr][3]\n",
    "\n",
    "[1]: https://drive.google.com/open?id=1Etu4vOfjsnbaysk_UR6HIA9R7EDybH-n\n",
    "[2]: https://mybinder.org/v2/gh/oooVincentooo/Shared/master?filepath=Wave%20Divisor%20Function%20Error.ipynb\n",
    "[3]: https://mybinder.org/v2/gh/oooVincentooo/Shared/master?filepath=Wave%20Divisor%20Function%20Arcsine.ipynb\n"
   ]
  },
  {
   "cell_type": "code",
   "execution_count": 1,
   "metadata": {},
   "outputs": [],
   "source": [
    "import numpy as np\n",
    "import scipy.stats as stats\n",
    "import ipywidgets as widgets\n",
    "import matplotlib.pyplot as plt1\n",
    "import matplotlib.pyplot as plt2"
   ]
  },
  {
   "cell_type": "code",
   "execution_count": 2,
   "metadata": {},
   "outputs": [],
   "source": [
    "%matplotlib widget"
   ]
  },
  {
   "cell_type": "code",
   "execution_count": 3,
   "metadata": {},
   "outputs": [
    {
     "data": {
      "application/vnd.jupyter.widget-view+json": {
       "model_id": "91ecaf14bf514a618fe8a0fc3ab7bb08",
       "version_major": 2,
       "version_minor": 0
      },
      "text/plain": [
       "Canvas(toolbar=Toolbar(toolitems=[('Home', 'Reset original view', 'home', 'home'), ('Back', 'Back to previous …"
      ]
     },
     "metadata": {},
     "output_type": "display_data"
    },
    {
     "data": {
      "application/vnd.jupyter.widget-view+json": {
       "model_id": "4e4923711cba4ce789c4a26df8cf5f93",
       "version_major": 2,
       "version_minor": 0
      },
      "text/plain": [
       "interactive(children=(BoundedFloatText(value=0.2, description='$\\\\Delta x$:'), Dropdown(description='$L$:', in…"
      ]
     },
     "metadata": {},
     "output_type": "display_data"
    }
   ],
   "source": [
    "from ipywidgets import IntProgress\n",
    "from datetime import datetime\n",
    "from matplotlib import gridspec\n",
    "\n",
    "#Create Plot grid\n",
    "fig= plt1.figure(figsize=(9, 6), constrained_layout=True)\n",
    "widths = [2.25,2.25,2.25,2.25]\n",
    "heights = [1.5,1.5,0.5]\n",
    "gs=fig.add_gridspec(3,4,width_ratios=widths, height_ratios=heights, wspace=0.05)\n",
    "\n",
    "ax1=fig.add_subplot(gs[0,:])\n",
    "ax1a=fig.add_subplot(gs[1,0])\n",
    "ax1b=fig.add_subplot(gs[1,1])\n",
    "ax1c=fig.add_subplot(gs[1,2])\n",
    "ax1d=fig.add_subplot(gs[1,3])\n",
    "ax1e=fig.add_subplot(gs[2,:])\n",
    "\n",
    "def update_plot(dx, L, Range,ModelType):\n",
    "\n",
    "    start_time = datetime.now()\n",
    "\n",
    "    #Display progress bar\n",
    "    f = IntProgress(min=0, max=100, description=\"\")\n",
    "    display(f)\n",
    "    \n",
    "    ax1.clear()\n",
    "    ax1a.clear()\n",
    "    ax1b.clear()\n",
    "    ax1c.clear()\n",
    "    ax1d.clear()\n",
    "    ax1e.clear()\n",
    "\n",
    "    #Disable axis textfield plot\n",
    "    ax1b.axis('off')\n",
    "    ax1d.axis('off')\n",
    "    ax1e.axis('off')\n",
    "    \n",
    "    xodd=[]\n",
    "    yodd=[]\n",
    "    xeven=[]\n",
    "    yeven=[]\n",
    "    \n",
    "    #Calculate Error max and k.\n",
    "    emax=np.exp(np.log(L)/(dx**2))\n",
    "    k=-2*np.log(L)/(np.pi*dx**2)\n",
    "    \n",
    "    \n",
    "    phi=-2*np.log(L)/((dx**2)*(np.pi**2))\n",
    "    #print(\"dx: \" + str(dx))\n",
    "    \n",
    "    #Divisors Odd and Even Divisors. For Different error approximations.\n",
    "    if ModelType==\"Standard\" :\n",
    "        i=3\n",
    "        while i <= Range:\n",
    "\n",
    "            if ((i % 2)==0) :\n",
    "                xeven.append(i)\n",
    "                s1=getSumError(i-1,L,dx,emax)\n",
    "                s2=getSumError(i+1,L,dx,emax)\n",
    "                yeven.append(s1+s2)\n",
    "            else :\n",
    "                xodd.append(i)\n",
    "                s1=getSumError(i-1,L,dx,emax)\n",
    "                s2=getSumError(i+1,L,dx,emax)\n",
    "                yodd.append(s1+s2)        \n",
    "\n",
    "            i = i + 1\n",
    "\n",
    "            if (i % (Range/100)==0) :\n",
    "                    f.value += 1        \n",
    "\n",
    "    else :\n",
    "        i=3\n",
    "        while i <= Range:\n",
    "\n",
    "            if ((i % 2)==0) :\n",
    "                xeven.append(i)\n",
    "                s1=getSumErrorApprox(i-1,k)\n",
    "                s2=getSumErrorApprox(i+1,k)\n",
    "                yeven.append(s1+s2)\n",
    "            else :\n",
    "                xodd.append(i)\n",
    "                s1=getSumErrorApprox(i-1,k)\n",
    "                s2=getSumErrorApprox(i+1,k)\n",
    "                yodd.append(s1+s2)        \n",
    "\n",
    "            i = i + 1\n",
    "\n",
    "            if (i % (Range/100)==0) :\n",
    "                    f.value += 1                      \n",
    "                    \n",
    "    #Count odd within CI\n",
    "    ctoddlb=lbCI(3,2,yodd)          \n",
    "    ctoddub=ubCI(3,2,yodd)          \n",
    "    \n",
    "    #Count even within CI\n",
    "    ctevenlb=lbCI(4,2,yeven)\n",
    "    ctevenub=ubCI(4,2,yeven)\n",
    "    \n",
    "    #Calculate 3Stdev        \n",
    "    xG = np.linspace(3,Range,Range-1)\n",
    "    yGpos=np.sqrt(np.log(xG)-0.84558)*3\n",
    "    yGneg=-np.sqrt(np.log(xG)-0.84558)*3\n",
    "    \n",
    "    #Determine minima and maxima of both yodd and yeven\n",
    "    lim=np.max([abs(np.max(yodd)),abs(np.min(yodd)),abs(np.max(yeven)),abs(np.min(yeven))])\n",
    "    \n",
    "    #Plot datapoints yodd and yeven. Plot 3stdev lines\n",
    "    ax1.plot(xodd, yodd, marker='.',markersize=(markersize(Range)), color='black', linestyle='')\n",
    "    ax1.plot(xeven, yeven, marker='.',markersize=(markersize(Range)), color='black', linestyle='')\n",
    "    ax1.plot(xG, yGpos, marker='',markersize=1, color='red', linestyle='-', label=\"$3Stdev=3\\sqrt{\\log(x)+2\\gamma-2}$\")\n",
    "    ax1.plot(xG, yGneg, marker='',markersize=1, color='red', linestyle='-')\n",
    "    ax1.legend(loc='upper left',fontsize=8)\n",
    "    ax1.set_title('$\\epsilon(x)$ Error Wave Divisor Function')\n",
    "    ax1.set_xlabel('$x$')\n",
    "    ax1.set_ylabel('$\\epsilon(x)$')\n",
    "    ax1.grid(b=True, which='major', color='#666666', linestyle='-')\n",
    "    ax1.set(ylim=(-1*lim,1*lim))\n",
    " \n",
    "    #Plot histogram error even numbers\n",
    "    ax1a.hist(yeven, density=True, bins=60, rwidth=1, color='black', edgecolor='white', linewidth=0, zorder=5)\n",
    "    ax1a.set(xlim=(-0.8*lim,0.8*lim))\n",
    "    ax1a.set_xlabel('$Bin$')\n",
    "    ax1a.set_ylabel('$Density$')\n",
    "    ax1a.set_title('Distribution Even')\n",
    "    ax1a.grid(b=True, which='major', color='#666666', linestyle='-', zorder=0)\n",
    "\n",
    "    #Plot histogram error odd numbers\n",
    "    ax1c.hist(yodd, density=True, bins=60, rwidth=1, color='black', edgecolor='white', linewidth=0, zorder=5)\n",
    "    ax1c.set(xlim=(-0.8*lim,0.8*lim))\n",
    "    ax1c.set_xlabel('$Bin$')\n",
    "    ax1c.set_ylabel('$Density$')\n",
    "    ax1c.set_title('Distribution Odd')\n",
    "    ax1c.grid(b=True, which='major', color='#666666', linestyle='-', zorder=0)\n",
    "    \n",
    "    #Plot summary yeven\n",
    "    textstr = 'Parity={} \\nMean={} \\nMedian={} \\nSigma={} \\nSkew={} \\nKurtosis={} \\\n",
    "    \\n\\nn={} \\n<LB CI (99.7%)={} \\n>UB CI (99.7%)={} \\nIn CI (99.7%)={} %'\n",
    "    props = dict(boxstyle='round', facecolor='white', alpha=0.5)\n",
    "    \n",
    "    la=\"Even\"\n",
    "    me=round(np.mean(yeven),4)\n",
    "    md=round(np.median(yeven),4)\n",
    "    sd=round(np.std(yeven),4)\n",
    "    sk=round(stats.skew(yeven),4)\n",
    "    kt=round(stats.kurtosis(yeven),4)\n",
    "    n=round(0.5*Range,4)\n",
    "    lb=round(ctevenlb,4)\n",
    "    ub=round(ctevenub,4)\n",
    "    pc=round((100-100*(ctevenlb+ctevenub)/(0.5*Range)),4)\n",
    "    \n",
    "    # Even Numbers place a text box in upper left in axes coords\n",
    "    ax1b.text(0, 1, textstr.format(la,me,md,sd,sk,kt,n,lb, ub, pc),\n",
    "              transform=ax1b.transAxes, fontsize=10, verticalalignment='top', bbox=props)\n",
    "\n",
    "    #Plot summary yodd\n",
    "    la=\"Odd\"\n",
    "    me=round(np.mean(yodd),4)\n",
    "    md=round(np.median(yodd),4)\n",
    "    sd=round(np.std(yodd),4)\n",
    "    sk=round(stats.skew(yodd),4)\n",
    "    kt=round(stats.kurtosis(yodd),4)\n",
    "    n=round(0.5*Range,4)\n",
    "    lb=round(ctoddlb,4)\n",
    "    ub=round(ctoddub,4)\n",
    "    pc=round((100-100*(ctoddlb+ctoddub)/(0.5*Range)),4)\n",
    "    \n",
    "    # Odd Numbers place a text box in upper left in axes coords\n",
    "    ax1d.text(0, 1, textstr.format(la,me,md,sd,sk,kt,n,lb, ub, pc),\n",
    "              transform=ax1d.transAxes, fontsize=10, verticalalignment='top', bbox=props)\n",
    "    \n",
    "   \n",
    "    #Total summary.\n",
    "    textstr = 'Model: {}. \\nL={}, $\\Delta$x={}, max($\\epsilon$)={}, k={}, $\\phi$={} \\nn={}, Outside CI (99.7%)={}, Inside CI (99.7%)={} %'\n",
    "        \n",
    "    em=format(emax,\".3E\")\n",
    "    k=format(k,\".3E\")\n",
    "    phi=round(phi,4)\n",
    "    oCI=round(ctevenub+ctoddub+ctevenlb+ctoddlb,4)\n",
    "    tCI=round((100-100*(ctevenub+ctoddub+ctevenlb+ctoddlb)/(Range)),4)\n",
    "\n",
    "    ax1e.text(0, 1, textstr.format(ModelType,L,dx,em,k,phi,Range,oCI,tCI),\n",
    "              transform=ax1e.transAxes, fontsize=10, verticalalignment='top')\n",
    "    \n",
    "    #plt1.tight_layout()\n",
    "    plt1.show()\n",
    "    plt1.savefig('WDF_dx='+ str(dx) +'_L=' + str(L) + '_n='+ str(Range) +'.png', dpi=300, bbox_inches='tight')\n",
    "\n",
    "    f.close()\n",
    "\n",
    "    print(\"Calculation Time: \" + str(round(timesec(start_time),1))+\" seconds\")\n",
    "    \n",
    "#Function summation error according standard model. \n",
    "def getSumError(n,L,dx,emax): \n",
    "    \n",
    "    sume=0\n",
    "    # Note that this loop runs till square root \n",
    "    i=2\n",
    "    while i <= np.sqrt(n): \n",
    "          \n",
    "        if (n % i == 0) :\n",
    "\n",
    "            # If divisors are equal, print only one \n",
    "            if (n / i == i) : \n",
    "                N=np.log(L)/np.log(np.cos(np.pi*dx/i))\n",
    "                N=2*(np.round(N*0.5,0))\n",
    "                a=((np.cos(np.pi/i))**N)/emax\n",
    "                sume=sume+a*np.cos(N*np.pi/i)\n",
    "            else : \n",
    "                N=np.log(L)/np.log(np.cos(np.pi*dx/i))\n",
    "                N=2*(np.round(N*0.5,0))\n",
    "                a=((np.cos(np.pi/i))**N)/emax\n",
    "                sume=sume+a*np.cos(N*np.pi/i)\n",
    "                \n",
    "                N=np.log(L)/np.log(np.cos(np.pi*dx/(n/i)))\n",
    "                N=2*(np.round(N*0.5,0))\n",
    "                a=((np.cos(np.pi/(n/i)))**N)/emax\n",
    "                sume=sume+a*np.cos(N*np.pi/(n/i))\n",
    "                \n",
    "        i = i + 1             \n",
    "    return sume\n",
    "\n",
    "#Function summation error according approximated model. \n",
    "def getSumErrorApprox(n,k): \n",
    "    \n",
    "    sume2=0\n",
    "    # Note that this loop runs till square root \n",
    "    i =2\n",
    "    while i <= np.sqrt(n): \n",
    "          \n",
    "        if (n % i == 0) : \n",
    "      \n",
    "            # If divisors are equal, print only one \n",
    "            if (n / i == i) : \n",
    "                sume2=sume2+np.cos(k*i)\n",
    "            else : \n",
    "                # Otherwise print both \n",
    "                #print(i , n/i),\n",
    "                sume2=sume2+np.cos(k*i)\n",
    "                sume2=sume2+np.cos(k*(n/i))\n",
    "                \n",
    "        i = i + 1             \n",
    "    return sume2\n",
    "\n",
    "\n",
    "# returns the elapsed milliseconds since the start of the program\n",
    "def timesec(start_time):\n",
    "   dt = datetime.now() - start_time\n",
    "   ms = (dt.days * 24 * 60 * 60 + dt.seconds)  + dt.microseconds /1000000\n",
    "   return ms\n",
    "\n",
    "#Count the number above upper bound\n",
    "def ubCI(xstart,step,y):\n",
    "    #Count even: xstart=4, odd xstart=3\n",
    "    r=xstart\n",
    "    ct=0\n",
    "    for i in y:\n",
    "        \n",
    "        #ub upperbound and lowerbound\n",
    "        UB=np.sqrt(np.log(r)-0.84558)*3\n",
    "        LB=-np.sqrt(np.log(r)-0.84558)*3    \n",
    "        r=r+step\n",
    "        \n",
    "        if i>=UB :\n",
    "            ct=ct+1             \n",
    "    return ct\n",
    "\n",
    "#Count the number below lower bound\n",
    "def lbCI(xstart,step,y):\n",
    "    #Count even: xstart=4, odd xstart=3\n",
    "    r=xstart\n",
    "    ct=0\n",
    "    for i in y:\n",
    "        \n",
    "        #ub upperbound and lowerbound\n",
    "        UB=np.sqrt(np.log(r)-0.84558)*3\n",
    "        LB=-np.sqrt(np.log(r)-0.84558)*3    \n",
    "        r=r+step\n",
    "        \n",
    "        if i<=LB:\n",
    "            ct=ct+1             \n",
    "    return ct\n",
    "\n",
    "\n",
    "def markersize(range):\n",
    "    switcher={\n",
    "            1000:3,\n",
    "            2500:2,\n",
    "            5000:2,\n",
    "            7500:1,\n",
    "            10000:1,\n",
    "            25000:0.4,\n",
    "            50000:0.4,\n",
    "            75000:0.3,\n",
    "            100000:0.2,\n",
    "            250000:0.08,\n",
    "            500000:0.08,\n",
    "            750000:0.06,\n",
    "            1000000:0.06\n",
    "    }\n",
    "    return switcher.get(range,0.5)\n",
    "\n",
    "dxlist=np.arange(50,201,1)/1000\n",
    "#dx = widgets.Dropdown(options=dxlist, value=0.2, description='$\\Delta x$:')  \n",
    "#mode = widgets.Dropdown(options=['Phi','dx'], value='dx', description='$Mode$:') \n",
    "dx= widgets.BoundedFloatText(value=0.2, description='$\\Delta x$:') \n",
    "L = widgets.Dropdown(options=[0.10,0.15, 0.20,0.25,0.30,0.35,0.40,0.45,0.5], value=0.5, description='$L$:') \n",
    "Range = widgets.Dropdown(options=[1000,2500,5000,7500,10000,25000,50000,75000,100000,250000, 500000, 750000, 1000000, 5000000], value=10000, description='$Range$:') \n",
    "ModelType = widgets.Dropdown(options=['Standard','Approximation'], value='Standard', description='$Model$:') \n",
    "widgets.interactive(update_plot, dx=dx, L=L, Range=Range,ModelType=ModelType)\n"
   ]
  },
  {
   "cell_type": "markdown",
   "metadata": {},
   "source": [
    "# Resonation factor $\\phi$ calculator."
   ]
  },
  {
   "cell_type": "code",
   "execution_count": 4,
   "metadata": {},
   "outputs": [
    {
     "data": {
      "application/vnd.jupyter.widget-view+json": {
       "model_id": "96afb5a36bdc4615bff64f55678cd2db",
       "version_major": 2,
       "version_minor": 0
      },
      "text/plain": [
       "interactive(children=(BoundedFloatText(value=10.0, description='$\\\\phi$:', max=1000000000000.0), Dropdown(desc…"
      ]
     },
     "metadata": {},
     "output_type": "display_data"
    }
   ],
   "source": [
    "def update_plot(phi, L1):\n",
    "\n",
    "    dx1= np.sqrt(-2*np.log(L1)/(phi*(np.pi**2)))\n",
    "    print('dx: ' + str(dx1))\n",
    "    \n",
    "phi = widgets.BoundedFloatText(value=10, min=0, max=1000000000000, description='$\\phi$:') \n",
    "L1 = widgets.Dropdown(options=[0.10,0.15, 0.20,0.25,0.30,0.35,0.40,0.45,0.5], value=0.5, description='$L$:')\n",
    "q=widgets.FloatText(value=10, description='$\\Delta x$:', disabled=False)\n",
    "\n",
    "widgets.interactive(update_plot, phi=phi, L1=L1)"
   ]
  },
  {
   "cell_type": "code",
   "execution_count": null,
   "metadata": {},
   "outputs": [],
   "source": []
  },
  {
   "cell_type": "markdown",
   "metadata": {},
   "source": [
    "https://www.geeksforgeeks.org/find-divisors-natural-number-set-1/"
   ]
  }
 ],
 "metadata": {
  "kernelspec": {
   "display_name": "Python 3",
   "language": "python",
   "name": "python3"
  },
  "language_info": {
   "codemirror_mode": {
    "name": "ipython",
    "version": 3
   },
   "file_extension": ".py",
   "mimetype": "text/x-python",
   "name": "python",
   "nbconvert_exporter": "python",
   "pygments_lexer": "ipython3",
   "version": "3.8.3"
  },
  "widgets": {
   "application/vnd.jupyter.widget-state+json": {
    "state": {
     "0c03cd889322428bb067bb4fd32f6780": {
      "model_module": "@jupyter-widgets/base",
      "model_module_version": "1.2.0",
      "model_name": "LayoutModel",
      "state": {}
     },
     "0ddd9ae322754a0e89b29f3cf99c1eb3": {
      "model_module": "@jupyter-widgets/base",
      "model_module_version": "1.2.0",
      "model_name": "LayoutModel",
      "state": {}
     },
     "1158037324fa41dea3099440a438dad9": {
      "model_module": "@jupyter-widgets/controls",
      "model_module_version": "1.5.0",
      "model_name": "ProgressStyleModel",
      "state": {
       "description_width": ""
      }
     },
     "17c9ffa1d169434b85b165b57151e5a5": {
      "model_module": "@jupyter-widgets/controls",
      "model_module_version": "1.5.0",
      "model_name": "DescriptionStyleModel",
      "state": {
       "description_width": ""
      }
     },
     "3176ca7dba90451da05da711f32115c0": {
      "model_module": "@jupyter-widgets/controls",
      "model_module_version": "1.5.0",
      "model_name": "DescriptionStyleModel",
      "state": {
       "description_width": ""
      }
     },
     "33f2a0254887402180802ccfa3bdcd0a": {
      "model_module": "@jupyter-widgets/base",
      "model_module_version": "1.2.0",
      "model_name": "LayoutModel",
      "state": {}
     },
     "383785072bcf48dbaa4c9303b090c9e5": {
      "model_module": "@jupyter-widgets/output",
      "model_module_version": "1.0.0",
      "model_name": "OutputModel",
      "state": {
       "layout": "IPY_MODEL_0ddd9ae322754a0e89b29f3cf99c1eb3",
       "outputs": [
        {
         "name": "stdout",
         "output_type": "stream",
         "text": "dx: 0.11851623751426035\n"
        }
       ]
      }
     },
     "495ba3dadac44a2888831761d948afc4": {
      "model_module": "@jupyter-widgets/controls",
      "model_module_version": "1.5.0",
      "model_name": "DescriptionStyleModel",
      "state": {
       "description_width": ""
      }
     },
     "4e4923711cba4ce789c4a26df8cf5f93": {
      "model_module": "@jupyter-widgets/controls",
      "model_module_version": "1.5.0",
      "model_name": "VBoxModel",
      "state": {
       "_dom_classes": [
        "widget-interact"
       ],
       "children": [
        "IPY_MODEL_7446e059742f4772852e0bc1014d74a8",
        "IPY_MODEL_6633de0170be4d8ca88c3c33e9d4ba90",
        "IPY_MODEL_54b21dce9ad043c2817852fe9dcddffb",
        "IPY_MODEL_71a6d541b0ac47efa81e479dc48ccfb6",
        "IPY_MODEL_fd55e217db0e4570a57545fcaacdbf88"
       ],
       "layout": "IPY_MODEL_6db7572cf07345c1ae541b777f3c80c9"
      }
     },
     "4ff919208e4844aca43f71b6dd79dcbf": {
      "model_module": "@jupyter-widgets/controls",
      "model_module_version": "1.5.0",
      "model_name": "BoundedFloatTextModel",
      "state": {
       "description": "$\\phi$:",
       "layout": "IPY_MODEL_a58b508c45a04ee49b9d59a220ab20d2",
       "max": 1000000000000,
       "step": null,
       "style": "IPY_MODEL_c8a19b44dedd47cda66f4623c5810868",
       "value": 10
      }
     },
     "54b21dce9ad043c2817852fe9dcddffb": {
      "model_module": "@jupyter-widgets/controls",
      "model_module_version": "1.5.0",
      "model_name": "DropdownModel",
      "state": {
       "_options_labels": [
        "1000",
        "2500",
        "5000",
        "7500",
        "10000",
        "25000",
        "50000",
        "75000",
        "100000",
        "250000",
        "500000",
        "750000",
        "1000000",
        "5000000"
       ],
       "description": "$Range$:",
       "index": 4,
       "layout": "IPY_MODEL_33f2a0254887402180802ccfa3bdcd0a",
       "style": "IPY_MODEL_3176ca7dba90451da05da711f32115c0"
      }
     },
     "58a09eca8a4a4650ac02fd3640abf5ba": {
      "model_module": "jupyter-matplotlib",
      "model_module_version": "^0.7.3",
      "model_name": "ToolbarModel",
      "state": {
       "layout": "IPY_MODEL_e1734ad5efdd45d184af1cc191595d99",
       "toolitems": [
        [
         "Home",
         "Reset original view",
         "home",
         "home"
        ],
        [
         "Back",
         "Back to previous view",
         "arrow-left",
         "back"
        ],
        [
         "Forward",
         "Forward to next view",
         "arrow-right",
         "forward"
        ],
        [
         "Pan",
         "Pan axes with left mouse, zoom with right",
         "arrows",
         "pan"
        ],
        [
         "Zoom",
         "Zoom to rectangle",
         "square-o",
         "zoom"
        ],
        [
         "Download",
         "Download plot",
         "floppy-o",
         "save_figure"
        ]
       ]
      }
     },
     "598a9ecbdf48489dabfcebba4239b069": {
      "model_module": "@jupyter-widgets/controls",
      "model_module_version": "1.5.0",
      "model_name": "DescriptionStyleModel",
      "state": {
       "description_width": ""
      }
     },
     "61ac583b0b1e438999414373dd93b259": {
      "model_module": "@jupyter-widgets/base",
      "model_module_version": "1.2.0",
      "model_name": "LayoutModel",
      "state": {}
     },
     "628e5cf8f2124fb58c2706ba7b5869f0": {
      "model_module": "@jupyter-widgets/base",
      "model_module_version": "1.2.0",
      "model_name": "LayoutModel",
      "state": {}
     },
     "6633de0170be4d8ca88c3c33e9d4ba90": {
      "model_module": "@jupyter-widgets/controls",
      "model_module_version": "1.5.0",
      "model_name": "DropdownModel",
      "state": {
       "_options_labels": [
        "0.1",
        "0.15",
        "0.2",
        "0.25",
        "0.3",
        "0.35",
        "0.4",
        "0.45",
        "0.5"
       ],
       "description": "$L$:",
       "index": 8,
       "layout": "IPY_MODEL_bfb193ef53b44844b47292c257fed85f",
       "style": "IPY_MODEL_97f598238eee4c4ea129c1214412ca3e"
      }
     },
     "6db7572cf07345c1ae541b777f3c80c9": {
      "model_module": "@jupyter-widgets/base",
      "model_module_version": "1.2.0",
      "model_name": "LayoutModel",
      "state": {}
     },
     "71a6d541b0ac47efa81e479dc48ccfb6": {
      "model_module": "@jupyter-widgets/controls",
      "model_module_version": "1.5.0",
      "model_name": "DropdownModel",
      "state": {
       "_options_labels": [
        "Standard",
        "Approximation"
       ],
       "description": "$Model$:",
       "index": 0,
       "layout": "IPY_MODEL_0c03cd889322428bb067bb4fd32f6780",
       "style": "IPY_MODEL_17c9ffa1d169434b85b165b57151e5a5"
      }
     },
     "7446e059742f4772852e0bc1014d74a8": {
      "model_module": "@jupyter-widgets/controls",
      "model_module_version": "1.5.0",
      "model_name": "BoundedFloatTextModel",
      "state": {
       "description": "$\\Delta x$:",
       "layout": "IPY_MODEL_dc9d82e0534042979e322861060ad72d",
       "step": null,
       "style": "IPY_MODEL_ab1f683169fb4e2498aa660c08f52ab6",
       "value": 0.2
      }
     },
     "753631cc50a8488cb04001e1e2acf110": {
      "model_module": "@jupyter-widgets/base",
      "model_module_version": "1.2.0",
      "model_name": "LayoutModel",
      "state": {}
     },
     "884cb26c797a45348cfe633a7d741415": {
      "model_module": "@jupyter-widgets/base",
      "model_module_version": "1.2.0",
      "model_name": "LayoutModel",
      "state": {}
     },
     "8e47858620e04ceabfc607116e0dbd6f": {
      "model_module": "@jupyter-widgets/controls",
      "model_module_version": "1.5.0",
      "model_name": "DropdownModel",
      "state": {
       "_options_labels": [
        "0.1",
        "0.15",
        "0.2",
        "0.25",
        "0.3",
        "0.35",
        "0.4",
        "0.45",
        "0.5"
       ],
       "description": "$L$:",
       "index": 8,
       "layout": "IPY_MODEL_628e5cf8f2124fb58c2706ba7b5869f0",
       "style": "IPY_MODEL_598a9ecbdf48489dabfcebba4239b069"
      }
     },
     "91ecaf14bf514a618fe8a0fc3ab7bb08": {
      "model_module": "jupyter-matplotlib",
      "model_module_version": "^0.7.3",
      "model_name": "MPLCanvasModel",
      "state": {
       "_cursor": "default",
       "_figure_label": "Figure 1",
       "_height": 600,
       "_image_mode": "diff",
       "_width": 900,
       "layout": "IPY_MODEL_bfb5fc8d3a4945aa9ee113bfd4fbd143",
       "toolbar": "IPY_MODEL_58a09eca8a4a4650ac02fd3640abf5ba",
       "toolbar_position": "left"
      }
     },
     "96afb5a36bdc4615bff64f55678cd2db": {
      "model_module": "@jupyter-widgets/controls",
      "model_module_version": "1.5.0",
      "model_name": "VBoxModel",
      "state": {
       "_dom_classes": [
        "widget-interact"
       ],
       "children": [
        "IPY_MODEL_4ff919208e4844aca43f71b6dd79dcbf",
        "IPY_MODEL_8e47858620e04ceabfc607116e0dbd6f",
        "IPY_MODEL_383785072bcf48dbaa4c9303b090c9e5"
       ],
       "layout": "IPY_MODEL_61ac583b0b1e438999414373dd93b259"
      }
     },
     "97f598238eee4c4ea129c1214412ca3e": {
      "model_module": "@jupyter-widgets/controls",
      "model_module_version": "1.5.0",
      "model_name": "DescriptionStyleModel",
      "state": {
       "description_width": ""
      }
     },
     "a58b508c45a04ee49b9d59a220ab20d2": {
      "model_module": "@jupyter-widgets/base",
      "model_module_version": "1.2.0",
      "model_name": "LayoutModel",
      "state": {}
     },
     "ab1f683169fb4e2498aa660c08f52ab6": {
      "model_module": "@jupyter-widgets/controls",
      "model_module_version": "1.5.0",
      "model_name": "DescriptionStyleModel",
      "state": {
       "description_width": ""
      }
     },
     "bfb193ef53b44844b47292c257fed85f": {
      "model_module": "@jupyter-widgets/base",
      "model_module_version": "1.2.0",
      "model_name": "LayoutModel",
      "state": {}
     },
     "bfb5fc8d3a4945aa9ee113bfd4fbd143": {
      "model_module": "@jupyter-widgets/base",
      "model_module_version": "1.2.0",
      "model_name": "LayoutModel",
      "state": {}
     },
     "c8a19b44dedd47cda66f4623c5810868": {
      "model_module": "@jupyter-widgets/controls",
      "model_module_version": "1.5.0",
      "model_name": "DescriptionStyleModel",
      "state": {
       "description_width": ""
      }
     },
     "cedef896a7354228a9d8dac0588bc06b": {
      "model_module": "@jupyter-widgets/base",
      "model_module_version": "1.2.0",
      "model_name": "LayoutModel",
      "state": {}
     },
     "dc9d82e0534042979e322861060ad72d": {
      "model_module": "@jupyter-widgets/base",
      "model_module_version": "1.2.0",
      "model_name": "LayoutModel",
      "state": {}
     },
     "e1734ad5efdd45d184af1cc191595d99": {
      "model_module": "@jupyter-widgets/base",
      "model_module_version": "1.2.0",
      "model_name": "LayoutModel",
      "state": {}
     },
     "fab864f770e145e0af14ae153519b6f1": {
      "model_module": "@jupyter-widgets/controls",
      "model_module_version": "1.5.0",
      "model_name": "FloatTextModel",
      "state": {
       "description": "$\\Delta x$:",
       "layout": "IPY_MODEL_753631cc50a8488cb04001e1e2acf110",
       "step": null,
       "style": "IPY_MODEL_495ba3dadac44a2888831761d948afc4",
       "value": 10
      }
     },
     "fd55e217db0e4570a57545fcaacdbf88": {
      "model_module": "@jupyter-widgets/output",
      "model_module_version": "1.0.0",
      "model_name": "OutputModel",
      "state": {
       "layout": "IPY_MODEL_cedef896a7354228a9d8dac0588bc06b",
       "outputs": [
        {
         "data": {
          "application/vnd.jupyter.widget-view+json": {
           "model_id": "",
           "version_major": 2,
           "version_minor": 0
          },
          "text/plain": "IntProgress(value=0)"
         },
         "metadata": {},
         "output_type": "display_data"
        },
        {
         "name": "stdout",
         "output_type": "stream",
         "text": "Calculation Time: 4.0 seconds\n"
        }
       ]
      }
     }
    },
    "version_major": 2,
    "version_minor": 0
   }
  }
 },
 "nbformat": 4,
 "nbformat_minor": 4
}
