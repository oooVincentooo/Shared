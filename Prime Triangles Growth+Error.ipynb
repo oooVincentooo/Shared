{
 "cells": [
  {
   "cell_type": "code",
   "execution_count": 1,
   "metadata": {},
   "outputs": [],
   "source": [
    "import numpy as np\n",
    "import scipy.stats as stats\n",
    "import ipywidgets as widgets\n",
    "import matplotlib.pyplot as plt1\n",
    "import matplotlib.pyplot as plt2"
   ]
  },
  {
   "cell_type": "code",
   "execution_count": 2,
   "metadata": {},
   "outputs": [],
   "source": [
    "%matplotlib widget"
   ]
  },
  {
   "cell_type": "code",
   "execution_count": 3,
   "metadata": {},
   "outputs": [
    {
     "data": {
      "application/vnd.jupyter.widget-view+json": {
       "model_id": "32519fd7418f4f1dbeacdb7d06987fdc",
       "version_major": 2,
       "version_minor": 0
      },
      "text/plain": [
       "Canvas(toolbar=Toolbar(toolitems=[('Home', 'Reset original view', 'home', 'home'), ('Back', 'Back to previous …"
      ]
     },
     "metadata": {},
     "output_type": "display_data"
    },
    {
     "name": "stdout",
     "output_type": "stream",
     "text": [
      "100008\n",
      "Count:100009\n",
      "Between, -50<Error<50: 99107\n",
      "Percentage: 99.09808117269446\n"
     ]
    }
   ],
   "source": [
    "from ipywidgets import IntProgress\n",
    "from datetime import datetime\n",
    "from matplotlib import gridspec\n",
    "\n",
    "#Create Plot grid\n",
    "fig= plt1.figure(figsize=(9, 6), constrained_layout=True)\n",
    "widths = [2.25,2.25,2.25,2.25]\n",
    "heights = [3,3,0.5]\n",
    "gs=fig.add_gridspec(3,4,width_ratios=widths, height_ratios=heights, wspace=0.05)\n",
    "\n",
    "ax1a=fig.add_subplot(gs[0,:2])\n",
    "ax1b=fig.add_subplot(gs[0,2:])\n",
    "ax2a=fig.add_subplot(gs[1,:2])\n",
    "ax2b=fig.add_subplot(gs[1,2:])\n",
    "\n",
    "ax1a.clear()\n",
    "ax1b.clear()\n",
    "ax2a.clear()\n",
    "ax2b.clear()\n",
    "\n",
    "\n",
    "#Disable axis textfield plot\n",
    "#ax1b.axis('off')\n",
    "#ax1d.axis('off')\n",
    "#ax1e.axis('off')\n",
    "\n",
    "\n",
    "p2= np.loadtxt(\"Primetable.txt\", delimiter=\",\", unpack=False)\n",
    "counter=np.arange(1,len(p2)+1)\n",
    "\n",
    "print(len(p2))\n",
    "p0=np.roll(p2, 2)\n",
    "p0[0]=1\n",
    "p0[1]=1\n",
    "\n",
    "\n",
    "\n",
    "p1=np.roll(p2, 1)\n",
    "p1[0]=1\n",
    "p1[1]=1\n",
    "\n",
    "p2[0]=1.9\n",
    "p2[1]=1.9\n",
    "\n",
    "alpha=np.arccos((p1**2+p2**2-p0**2)/(2*p1*p2))\n",
    "beta=np.arccos((p0**2+p2**2-p1**2)/(2*p0*p2))\n",
    "gamma=np.arccos((p0**2+p1**2-p2**2)/(2*p0*p1))\n",
    "\n",
    "\n",
    "#Height Fibonacci Prime Triangle\n",
    "x=p0+p1*np.cos(np.pi-gamma)\n",
    "y=p2*np.cos(np.pi/2-beta)\n",
    "\n",
    "slope, intercept, r_value, p_value, std_err = stats.linregress(x, y)\n",
    "label=\"slope: %.15f \" % slope\n",
    "\n",
    "ax1a.plot(x, y, marker='.',markersize=(2), color='black', linestyle='', label=label)\n",
    "ax1a.legend(loc='upper left',fontsize=8)\n",
    "ax1a.set_title('Height Fibonacci Prime Triangle')\n",
    "ax1a.set_xlabel('$x$')\n",
    "ax1a.set_ylabel('y')\n",
    "ax1a.grid(b=True, which='major', color='#666666', linestyle='-')\n",
    "ax1a.ticklabel_format(axis=\"x\", style=\"sci\", scilimits=(0,0))\n",
    "ax1a.ticklabel_format(axis=\"y\", style=\"sci\", scilimits=(0,0))\n",
    "\n",
    "#Slope Triangles\n",
    "\n",
    "slope=y/x\n",
    "\n",
    "ax1b.plot(counter, slope, marker='', color='black', linestyle='-', linewidth=1, label=\"Slope\")\n",
    "ax1b.plot([0,len(p2)], [np.sqrt(3),np.sqrt(3)], marker='', color='red', linestyle='-', linewidth=1, label=\"$\\sqrt{3}=1,73205080756$\")\n",
    "ax1b.legend(loc='lower right',fontsize=8)\n",
    "ax1b.set_title('Slope Individual Fibonacci Prime Triangles')\n",
    "ax1b.set_xlabel('Prime p(n)')\n",
    "ax1b.set_ylabel('Slope')\n",
    "ax1b.grid(b=True, which='major', color='#666666', linestyle='-')\n",
    "ax1b.ticklabel_format(axis=\"x\", style=\"sci\", scilimits=(0,0))\n",
    "ax1b.ticklabel_format(axis=\"y\", style=\"sci\", scilimits=(0,0))\n",
    "ax1b.set_xscale('log')\n",
    "\n",
    "#Plot error from prediction\n",
    "\n",
    "p2predicted=0.5*p0+np.sqrt(-0.75*p0**2+p1**2)\n",
    "error=p2predicted-p2\n",
    "\n",
    "histo_arr = error[error <= 50]\n",
    "histo_arr = histo_arr[histo_arr >= -50]\n",
    "\n",
    "\n",
    "print(\"Count:\" + str(len(counter)+1))\n",
    "print(\"Between, -50<Error<50: \" + str(len(histo_arr)+1))\n",
    "print(\"Percentage: \" + str(100*(len(histo_arr)+1)/(len(counter)+1)))\n",
    "\n",
    "#newarr = arr[filter_arr]\n",
    "\n",
    "ax2a.hist(histo_arr, density=True, bins=np.arange(-51,51)+0.5, rwidth=1, color='black', edgecolor='white', linewidth=0, zorder=1)\n",
    "#ax2a.set(xlim=(-0.8*lim,0.8*lim))\n",
    "ax2a.set_xlabel('$Bin$')\n",
    "ax2a.set_ylabel('$Density$')\n",
    "ax2a.set_title('Histogram Error')\n",
    "ax2a.grid(b=True, which='major', color='#666666', linestyle='-', zorder=0)\n",
    "\n",
    "ax2b.plot(p2,error , marker='.',markersize=(0.25), color='black', linestyle='')\n",
    "#ax2b.legend(loc='upper left',fontsize=8)\n",
    "ax2b.set_title('Error p(n+2)')\n",
    "ax2b.set_xlabel('Primenumber p(n+2)')\n",
    "ax2b.set_ylabel('Error')\n",
    "ax2b.grid(b=True, which='major', color='#666666', linestyle='-')\n",
    "ax2b.ticklabel_format(axis=\"x\", style=\"sci\", scilimits=(0,0))\n",
    "\n",
    "\n",
    "plt1.show()\n",
    "plt1.savefig('Fibonacci Prime Traingle', dpi=300, bbox_inches='tight')\n",
    "\n",
    "#ax2b.ticklabel_format(axis=\"y\", style=\"sci\", scilimits=(0,0))\n",
    "\n",
    "#print(p1[2])\n",
    "#print(p2[2])\n",
    "#print(p3[2])\n",
    "#print (len(Counter))\n",
    "\n",
    "\n",
    "\n",
    "\n"
   ]
  },
  {
   "cell_type": "code",
   "execution_count": null,
   "metadata": {},
   "outputs": [],
   "source": []
  },
  {
   "cell_type": "markdown",
   "metadata": {},
   "source": []
  },
  {
   "cell_type": "code",
   "execution_count": null,
   "metadata": {},
   "outputs": [],
   "source": []
  },
  {
   "cell_type": "code",
   "execution_count": null,
   "metadata": {},
   "outputs": [],
   "source": []
  },
  {
   "cell_type": "markdown",
   "metadata": {},
   "source": [
    "https://www.geeksforgeeks.org/find-divisors-natural-number-set-1/"
   ]
  }
 ],
 "metadata": {
  "kernelspec": {
   "display_name": "Python 3",
   "language": "python",
   "name": "python3"
  },
  "language_info": {
   "codemirror_mode": {
    "name": "ipython",
    "version": 3
   },
   "file_extension": ".py",
   "mimetype": "text/x-python",
   "name": "python",
   "nbconvert_exporter": "python",
   "pygments_lexer": "ipython3",
   "version": "3.8.3"
  },
  "widgets": {
   "application/vnd.jupyter.widget-state+json": {
    "state": {
     "28c6f29b7e684e7d9286ddc4c46d0a01": {
      "model_module": "@jupyter-widgets/base",
      "model_module_version": "1.2.0",
      "model_name": "LayoutModel",
      "state": {}
     },
     "2db29d0b89584e58a99f4d3c1cdf3678": {
      "model_module": "@jupyter-widgets/base",
      "model_module_version": "1.2.0",
      "model_name": "LayoutModel",
      "state": {}
     },
     "32519fd7418f4f1dbeacdb7d06987fdc": {
      "model_module": "jupyter-matplotlib",
      "model_module_version": "^0.7.3",
      "model_name": "MPLCanvasModel",
      "state": {
       "_figure_label": "Figure 1",
       "_height": 600,
       "_image_mode": "diff",
       "_width": 900,
       "layout": "IPY_MODEL_28c6f29b7e684e7d9286ddc4c46d0a01",
       "toolbar": "IPY_MODEL_740aa04c2c644e5bab2f9edde7f11443",
       "toolbar_position": "left"
      }
     },
     "740aa04c2c644e5bab2f9edde7f11443": {
      "model_module": "jupyter-matplotlib",
      "model_module_version": "^0.7.3",
      "model_name": "ToolbarModel",
      "state": {
       "layout": "IPY_MODEL_2db29d0b89584e58a99f4d3c1cdf3678",
       "toolitems": [
        [
         "Home",
         "Reset original view",
         "home",
         "home"
        ],
        [
         "Back",
         "Back to previous view",
         "arrow-left",
         "back"
        ],
        [
         "Forward",
         "Forward to next view",
         "arrow-right",
         "forward"
        ],
        [
         "Pan",
         "Pan axes with left mouse, zoom with right",
         "arrows",
         "pan"
        ],
        [
         "Zoom",
         "Zoom to rectangle",
         "square-o",
         "zoom"
        ],
        [
         "Download",
         "Download plot",
         "floppy-o",
         "save_figure"
        ]
       ]
      }
     }
    },
    "version_major": 2,
    "version_minor": 0
   }
  }
 },
 "nbformat": 4,
 "nbformat_minor": 4
}
